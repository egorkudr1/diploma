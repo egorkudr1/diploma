{
 "cells": [
  {
   "cell_type": "code",
   "execution_count": 65,
   "metadata": {
    "collapsed": false
   },
   "outputs": [],
   "source": [
    "import numpy as np\n",
    "import pandas as pd\n",
    "import sys\n",
    "import itertools \n",
    "import pickle\n",
    "import matplotlib.pylab as plt\n",
    "import time\n",
    "from scipy.io import loadmat, mmread"
   ]
  },
  {
   "cell_type": "code",
   "execution_count": 67,
   "metadata": {
    "collapsed": false
   },
   "outputs": [],
   "source": [
    "import rankingmethod\n",
    "import rankingmeasure\n",
    "import rank"
   ]
  },
  {
   "cell_type": "code",
   "execution_count": 69,
   "metadata": {
    "collapsed": true
   },
   "outputs": [],
   "source": [
    "from  experiment import *"
   ]
  },
  {
   "cell_type": "code",
   "execution_count": 66,
   "metadata": {
    "collapsed": true
   },
   "outputs": [],
   "source": [
    "%matplotlib inline"
   ]
  },
  {
   "cell_type": "code",
   "execution_count": 68,
   "metadata": {
    "collapsed": false
   },
   "outputs": [
    {
     "name": "stdout",
     "output_type": "stream",
     "text": [
      "The autoreload extension is already loaded. To reload it, use:\n",
      "  %reload_ext autoreload\n"
     ]
    }
   ],
   "source": [
    "%load_ext autoreload\n",
    "%autoreload 2"
   ]
  },
  {
   "cell_type": "markdown",
   "metadata": {},
   "source": [
    "# loading data sets"
   ]
  },
  {
   "cell_type": "code",
   "execution_count": 16,
   "metadata": {
    "collapsed": false
   },
   "outputs": [],
   "source": [
    "data = pd.read_csv(\"../datasets/soc-Epinions1.txt\", sep='\\t', header=4)\n",
    "data = data.as_matrix()"
   ]
  },
  {
   "cell_type": "code",
   "execution_count": 17,
   "metadata": {
    "collapsed": false
   },
   "outputs": [],
   "source": [
    "epinion, epinion_shape = make_valid_data(data)"
   ]
  },
  {
   "cell_type": "code",
   "execution_count": 18,
   "metadata": {
    "collapsed": true
   },
   "outputs": [],
   "source": [
    "data = pd.read_csv(\"../datasets/Slashdot0811.txt\", sep='\\t', header=4)\n",
    "data = data.as_matrix()"
   ]
  },
  {
   "cell_type": "code",
   "execution_count": 19,
   "metadata": {
    "collapsed": false
   },
   "outputs": [],
   "source": [
    "slashdot, slashdot_shape = make_valid_data(data)"
   ]
  },
  {
   "cell_type": "code",
   "execution_count": 70,
   "metadata": {
    "collapsed": false
   },
   "outputs": [],
   "source": [
    "data =  pd.read_csv(\"../datasets/ml-100k/u.data\", sep='\\t', header=None).ix[:, :1]\n",
    "data = data.as_matrix()"
   ]
  },
  {
   "cell_type": "code",
   "execution_count": 71,
   "metadata": {
    "collapsed": false
   },
   "outputs": [],
   "source": [
    "ml100k, ml100k_shape = make_valid_data(data)"
   ]
  },
  {
   "cell_type": "code",
   "execution_count": null,
   "metadata": {
    "collapsed": false
   },
   "outputs": [],
   "source": [
    "data = pd.read_csv(\"../datasets/ml-1m/ratings.dat\", sep='::', header=None,  engine='python').ix[:, :1]\n",
    "data = data.as_matrix()"
   ]
  },
  {
   "cell_type": "code",
   "execution_count": 23,
   "metadata": {
    "collapsed": false
   },
   "outputs": [],
   "source": [
    "ml1m, ml1m_shape = make_valid_data(data)"
   ]
  },
  {
   "cell_type": "markdown",
   "metadata": {},
   "source": [
    "### Зададим параметры, которые были выбраны при помощи валидации"
   ]
  },
  {
   "cell_type": "code",
   "execution_count": 72,
   "metadata": {
    "collapsed": false
   },
   "outputs": [],
   "source": [
    "def create_list_cf(user_item):\n",
    "    list_cf = [\n",
    "        rankingmethod.PopRec(user_item),\n",
    "        rank.CLiMF(user_item, K=10, reg=0.005, lrate=0.001, verbose=0, maxiter=15),\n",
    "        rank.CLiMF(user_item, K=10, reg=0.005, lrate=0.001, verbose=0, maxiter=150),\n",
    "        rank.BPR_MF(user_item, K = 10, lrate=0.05, regIpos=0.0025, \n",
    "                                  regIneg=0.0025, regU=0.0025, maxiter=300, verbose=0 ),\n",
    "         rankingmethod.iMF(user_item, K=10, lmbd=0.015, alpha=1, maxiter=15, verbose=0),\n",
    "        rank.TFMAP(user_item, lrate=0.01, maxiter=20)\n",
    "    ]\n",
    "    return list_cf"
   ]
  },
  {
   "cell_type": "markdown",
   "metadata": {},
   "source": [
    "## Сравнение работы алгоритмов"
   ]
  },
  {
   "cell_type": "code",
   "execution_count": 73,
   "metadata": {
    "collapsed": false
   },
   "outputs": [],
   "source": [
    "def climf_experiment(data, list_cf, K=5, maxiter=1, topK=5, verbose=0, validation_type=1):\n",
    "    res = np.zeros((6, len(list_cf)))\n",
    "    for t in range(maxiter):\n",
    "        if validation_type == 0:\n",
    "            test, train, traintest = givenK_train_test(data, K)\n",
    "        elif validation_type == 1:\n",
    "            test, train, traintest = ratio_train_test(data, K)\n",
    "        for i, cf in enumerate(list_cf):\n",
    "            start_time = time.time()\n",
    "            cf.fit(train)\n",
    "#             print(time.time() - start_time)\n",
    "            prec_k, one_recal_k, ngdc, mp = rankingmeasure.get_Kmetrics(train, test, cf, K=topK)\n",
    "            mrr, auc = rankingmeasure.get_listmetrics(train, test, cf)\n",
    "            res[:, i] += np.array([prec_k, one_recal_k, ngdc, mp, mrr, auc])\n",
    "            if verbose == 1:\n",
    "                print(t, i, res[:, i] / (t + 1))\n",
    "                sys.stdout.flush()\n",
    "    res /= maxiter\n",
    "    res = pd.DataFrame(res)\n",
    "    \n",
    "    res.columns = [type(cf).__name__ for cf in list_cf]\n",
    "    res.index = [name + str(topK) for name in ['prec@', '1recal@', 'NDCG@', 'MAP@']] + ['MRR', 'AUC']\n",
    "    return res"
   ]
  },
  {
   "cell_type": "code",
   "execution_count": 74,
   "metadata": {
    "collapsed": false
   },
   "outputs": [
    {
     "data": {
      "text/html": [
       "<div>\n",
       "<table border=\"1\" class=\"dataframe\">\n",
       "  <thead>\n",
       "    <tr style=\"text-align: right;\">\n",
       "      <th></th>\n",
       "      <th>PopRec</th>\n",
       "      <th>CLiMF</th>\n",
       "      <th>CLiMF</th>\n",
       "      <th>BPR_MF</th>\n",
       "      <th>iMF</th>\n",
       "      <th>TFMAP</th>\n",
       "    </tr>\n",
       "  </thead>\n",
       "  <tbody>\n",
       "    <tr>\n",
       "      <th>prec@5</th>\n",
       "      <td>0.146154</td>\n",
       "      <td>0.143176</td>\n",
       "      <td>0.011663</td>\n",
       "      <td>0.256328</td>\n",
       "      <td>0.298015</td>\n",
       "      <td>0.146898</td>\n",
       "    </tr>\n",
       "    <tr>\n",
       "      <th>1recal@5</th>\n",
       "      <td>0.495037</td>\n",
       "      <td>0.471464</td>\n",
       "      <td>0.058313</td>\n",
       "      <td>0.671216</td>\n",
       "      <td>0.753102</td>\n",
       "      <td>0.467742</td>\n",
       "    </tr>\n",
       "    <tr>\n",
       "      <th>NDCG@5</th>\n",
       "      <td>0.158041</td>\n",
       "      <td>0.162355</td>\n",
       "      <td>0.018914</td>\n",
       "      <td>0.278594</td>\n",
       "      <td>0.325244</td>\n",
       "      <td>0.165907</td>\n",
       "    </tr>\n",
       "    <tr>\n",
       "      <th>MAP@5</th>\n",
       "      <td>0.295272</td>\n",
       "      <td>0.309510</td>\n",
       "      <td>0.054942</td>\n",
       "      <td>0.454999</td>\n",
       "      <td>0.518848</td>\n",
       "      <td>0.309374</td>\n",
       "    </tr>\n",
       "    <tr>\n",
       "      <th>MRR</th>\n",
       "      <td>0.339705</td>\n",
       "      <td>0.358258</td>\n",
       "      <td>0.063969</td>\n",
       "      <td>0.507900</td>\n",
       "      <td>0.574299</td>\n",
       "      <td>0.350316</td>\n",
       "    </tr>\n",
       "    <tr>\n",
       "      <th>AUC</th>\n",
       "      <td>0.856558</td>\n",
       "      <td>0.843774</td>\n",
       "      <td>0.354636</td>\n",
       "      <td>0.931878</td>\n",
       "      <td>0.932253</td>\n",
       "      <td>0.847722</td>\n",
       "    </tr>\n",
       "  </tbody>\n",
       "</table>\n",
       "</div>"
      ],
      "text/plain": [
       "            PopRec     CLiMF     CLiMF    BPR_MF       iMF     TFMAP\n",
       "prec@5    0.146154  0.143176  0.011663  0.256328  0.298015  0.146898\n",
       "1recal@5  0.495037  0.471464  0.058313  0.671216  0.753102  0.467742\n",
       "NDCG@5    0.158041  0.162355  0.018914  0.278594  0.325244  0.165907\n",
       "MAP@5     0.295272  0.309510  0.054942  0.454999  0.518848  0.309374\n",
       "MRR       0.339705  0.358258  0.063969  0.507900  0.574299  0.350316\n",
       "AUC       0.856558  0.843774  0.354636  0.931878  0.932253  0.847722"
      ]
     },
     "execution_count": 74,
     "metadata": {},
     "output_type": "execute_result"
    }
   ],
   "source": [
    "climf_experiment(ml100k, create_list_cf(ml100k_shape), K =0.1, maxiter=1, topK=5,  verbose=0)"
   ]
  },
  {
   "cell_type": "code",
   "execution_count": 53,
   "metadata": {
    "collapsed": false
   },
   "outputs": [
    {
     "data": {
      "text/html": [
       "<div>\n",
       "<table border=\"1\" class=\"dataframe\">\n",
       "  <thead>\n",
       "    <tr style=\"text-align: right;\">\n",
       "      <th></th>\n",
       "      <th>PopRec</th>\n",
       "      <th>CLiMF</th>\n",
       "      <th>BPR_MF</th>\n",
       "      <th>iMF</th>\n",
       "      <th>TFMAP</th>\n",
       "    </tr>\n",
       "  </thead>\n",
       "  <tbody>\n",
       "    <tr>\n",
       "      <th>prec@5</th>\n",
       "      <td>0.240199</td>\n",
       "      <td>0.246898</td>\n",
       "      <td>0.394541</td>\n",
       "      <td>0.447643</td>\n",
       "      <td>0.257568</td>\n",
       "    </tr>\n",
       "    <tr>\n",
       "      <th>1recal@5</th>\n",
       "      <td>0.662531</td>\n",
       "      <td>0.655087</td>\n",
       "      <td>0.846154</td>\n",
       "      <td>0.888337</td>\n",
       "      <td>0.615385</td>\n",
       "    </tr>\n",
       "    <tr>\n",
       "      <th>NDCG@5</th>\n",
       "      <td>0.259162</td>\n",
       "      <td>0.261185</td>\n",
       "      <td>0.411810</td>\n",
       "      <td>0.478220</td>\n",
       "      <td>0.274834</td>\n",
       "    </tr>\n",
       "    <tr>\n",
       "      <th>MAP@5</th>\n",
       "      <td>0.424500</td>\n",
       "      <td>0.417957</td>\n",
       "      <td>0.581512</td>\n",
       "      <td>0.665104</td>\n",
       "      <td>0.416967</td>\n",
       "    </tr>\n",
       "    <tr>\n",
       "      <th>MRR</th>\n",
       "      <td>0.480649</td>\n",
       "      <td>0.471118</td>\n",
       "      <td>0.633542</td>\n",
       "      <td>0.720579</td>\n",
       "      <td>0.462428</td>\n",
       "    </tr>\n",
       "    <tr>\n",
       "      <th>AUC</th>\n",
       "      <td>0.856661</td>\n",
       "      <td>0.841716</td>\n",
       "      <td>0.929072</td>\n",
       "      <td>0.928343</td>\n",
       "      <td>0.847104</td>\n",
       "    </tr>\n",
       "  </tbody>\n",
       "</table>\n",
       "</div>"
      ],
      "text/plain": [
       "            PopRec     CLiMF    BPR_MF       iMF     TFMAP\n",
       "prec@5    0.240199  0.246898  0.394541  0.447643  0.257568\n",
       "1recal@5  0.662531  0.655087  0.846154  0.888337  0.615385\n",
       "NDCG@5    0.259162  0.261185  0.411810  0.478220  0.274834\n",
       "MAP@5     0.424500  0.417957  0.581512  0.665104  0.416967\n",
       "MRR       0.480649  0.471118  0.633542  0.720579  0.462428\n",
       "AUC       0.856661  0.841716  0.929072  0.928343  0.847104"
      ]
     },
     "execution_count": 53,
     "metadata": {},
     "output_type": "execute_result"
    }
   ],
   "source": [
    "climf_experiment(ml100k, create_list_cf(ml100k_shape), K =0.2, maxiter=1, topK=5,  verbose=0)"
   ]
  },
  {
   "cell_type": "code",
   "execution_count": 54,
   "metadata": {
    "collapsed": false
   },
   "outputs": [
    {
     "data": {
      "text/html": [
       "<div>\n",
       "<table border=\"1\" class=\"dataframe\">\n",
       "  <thead>\n",
       "    <tr style=\"text-align: right;\">\n",
       "      <th></th>\n",
       "      <th>PopRec</th>\n",
       "      <th>CLiMF</th>\n",
       "      <th>BPR_MF</th>\n",
       "      <th>iMF</th>\n",
       "      <th>TFMAP</th>\n",
       "    </tr>\n",
       "  </thead>\n",
       "  <tbody>\n",
       "    <tr>\n",
       "      <th>prec@5</th>\n",
       "      <td>0.031782</td>\n",
       "      <td>0.030375</td>\n",
       "      <td>0.055755</td>\n",
       "      <td>0.076686</td>\n",
       "      <td>0.029694</td>\n",
       "    </tr>\n",
       "    <tr>\n",
       "      <th>1recal@5</th>\n",
       "      <td>0.141203</td>\n",
       "      <td>0.133712</td>\n",
       "      <td>0.226788</td>\n",
       "      <td>0.288990</td>\n",
       "      <td>0.130760</td>\n",
       "    </tr>\n",
       "    <tr>\n",
       "      <th>NDCG@5</th>\n",
       "      <td>0.036236</td>\n",
       "      <td>0.035332</td>\n",
       "      <td>0.058648</td>\n",
       "      <td>0.084550</td>\n",
       "      <td>0.034052</td>\n",
       "    </tr>\n",
       "    <tr>\n",
       "      <th>MAP@5</th>\n",
       "      <td>0.083203</td>\n",
       "      <td>0.081563</td>\n",
       "      <td>0.121041</td>\n",
       "      <td>0.171857</td>\n",
       "      <td>0.078353</td>\n",
       "    </tr>\n",
       "    <tr>\n",
       "      <th>MRR</th>\n",
       "      <td>0.106883</td>\n",
       "      <td>0.106103</td>\n",
       "      <td>0.154131</td>\n",
       "      <td>0.203232</td>\n",
       "      <td>0.102533</td>\n",
       "    </tr>\n",
       "    <tr>\n",
       "      <th>AUC</th>\n",
       "      <td>0.869996</td>\n",
       "      <td>0.833470</td>\n",
       "      <td>0.919266</td>\n",
       "      <td>0.896619</td>\n",
       "      <td>0.867311</td>\n",
       "    </tr>\n",
       "  </tbody>\n",
       "</table>\n",
       "</div>"
      ],
      "text/plain": [
       "            PopRec     CLiMF    BPR_MF       iMF     TFMAP\n",
       "prec@5    0.031782  0.030375  0.055755  0.076686  0.029694\n",
       "1recal@5  0.141203  0.133712  0.226788  0.288990  0.130760\n",
       "NDCG@5    0.036236  0.035332  0.058648  0.084550  0.034052\n",
       "MAP@5     0.083203  0.081563  0.121041  0.171857  0.078353\n",
       "MRR       0.106883  0.106103  0.154131  0.203232  0.102533\n",
       "AUC       0.869996  0.833470  0.919266  0.896619  0.867311"
      ]
     },
     "execution_count": 54,
     "metadata": {},
     "output_type": "execute_result"
    }
   ],
   "source": [
    "climf_experiment(epinion, create_list_cf(epinion_shape), K =0.1, maxiter=1, topK=5,  verbose=0)"
   ]
  },
  {
   "cell_type": "code",
   "execution_count": 55,
   "metadata": {
    "collapsed": false
   },
   "outputs": [
    {
     "name": "stdout",
     "output_type": "stream",
     "text": [
      "0 0 [ 0.0600227   0.2492622   0.06807169  0.14936594  0.18106551  0.87154629]\n",
      "0 1 [ 0.058479    0.24245176  0.06726779  0.14920545  0.18087421  0.82344455]\n",
      "0 2 [ 0.0999773   0.35323496  0.10529264  0.19731429  0.23854742  0.91856299]\n",
      "0 3 [ 0.13593644  0.43950057  0.14624658  0.26657901  0.3050251   0.89413977]\n",
      "0 4 [ 0.05471056  0.23087401  0.06345845  0.1434027   0.17469081  0.866994  ]\n"
     ]
    },
    {
     "data": {
      "text/html": [
       "<div>\n",
       "<table border=\"1\" class=\"dataframe\">\n",
       "  <thead>\n",
       "    <tr style=\"text-align: right;\">\n",
       "      <th></th>\n",
       "      <th>PopRec</th>\n",
       "      <th>CLiMF</th>\n",
       "      <th>BPR_MF</th>\n",
       "      <th>iMF</th>\n",
       "      <th>TFMAP</th>\n",
       "    </tr>\n",
       "  </thead>\n",
       "  <tbody>\n",
       "    <tr>\n",
       "      <th>prec@5</th>\n",
       "      <td>0.060023</td>\n",
       "      <td>0.058479</td>\n",
       "      <td>0.099977</td>\n",
       "      <td>0.135936</td>\n",
       "      <td>0.054711</td>\n",
       "    </tr>\n",
       "    <tr>\n",
       "      <th>1recal@5</th>\n",
       "      <td>0.249262</td>\n",
       "      <td>0.242452</td>\n",
       "      <td>0.353235</td>\n",
       "      <td>0.439501</td>\n",
       "      <td>0.230874</td>\n",
       "    </tr>\n",
       "    <tr>\n",
       "      <th>NDCG@5</th>\n",
       "      <td>0.068072</td>\n",
       "      <td>0.067268</td>\n",
       "      <td>0.105293</td>\n",
       "      <td>0.146247</td>\n",
       "      <td>0.063458</td>\n",
       "    </tr>\n",
       "    <tr>\n",
       "      <th>MAP@5</th>\n",
       "      <td>0.149366</td>\n",
       "      <td>0.149205</td>\n",
       "      <td>0.197314</td>\n",
       "      <td>0.266579</td>\n",
       "      <td>0.143403</td>\n",
       "    </tr>\n",
       "    <tr>\n",
       "      <th>MRR</th>\n",
       "      <td>0.181066</td>\n",
       "      <td>0.180874</td>\n",
       "      <td>0.238547</td>\n",
       "      <td>0.305025</td>\n",
       "      <td>0.174691</td>\n",
       "    </tr>\n",
       "    <tr>\n",
       "      <th>AUC</th>\n",
       "      <td>0.871546</td>\n",
       "      <td>0.823445</td>\n",
       "      <td>0.918563</td>\n",
       "      <td>0.894140</td>\n",
       "      <td>0.866994</td>\n",
       "    </tr>\n",
       "  </tbody>\n",
       "</table>\n",
       "</div>"
      ],
      "text/plain": [
       "            PopRec     CLiMF    BPR_MF       iMF     TFMAP\n",
       "prec@5    0.060023  0.058479  0.099977  0.135936  0.054711\n",
       "1recal@5  0.249262  0.242452  0.353235  0.439501  0.230874\n",
       "NDCG@5    0.068072  0.067268  0.105293  0.146247  0.063458\n",
       "MAP@5     0.149366  0.149205  0.197314  0.266579  0.143403\n",
       "MRR       0.181066  0.180874  0.238547  0.305025  0.174691\n",
       "AUC       0.871546  0.823445  0.918563  0.894140  0.866994"
      ]
     },
     "execution_count": 55,
     "metadata": {},
     "output_type": "execute_result"
    }
   ],
   "source": [
    "climf_experiment(epinion, create_list_cf(epinion_shape), K =0.2, maxiter=1, topK=5,  verbose=1)"
   ]
  },
  {
   "cell_type": "code",
   "execution_count": 56,
   "metadata": {
    "collapsed": false
   },
   "outputs": [
    {
     "data": {
      "text/html": [
       "<div>\n",
       "<table border=\"1\" class=\"dataframe\">\n",
       "  <thead>\n",
       "    <tr style=\"text-align: right;\">\n",
       "      <th></th>\n",
       "      <th>PopRec</th>\n",
       "      <th>CLiMF</th>\n",
       "      <th>BPR_MF</th>\n",
       "      <th>iMF</th>\n",
       "      <th>TFMAP</th>\n",
       "    </tr>\n",
       "  </thead>\n",
       "  <tbody>\n",
       "    <tr>\n",
       "      <th>prec@5</th>\n",
       "      <td>0.014960</td>\n",
       "      <td>0.015475</td>\n",
       "      <td>0.024743</td>\n",
       "      <td>0.043965</td>\n",
       "      <td>0.014531</td>\n",
       "    </tr>\n",
       "    <tr>\n",
       "      <th>1recal@5</th>\n",
       "      <td>0.069937</td>\n",
       "      <td>0.072511</td>\n",
       "      <td>0.104548</td>\n",
       "      <td>0.166476</td>\n",
       "      <td>0.066505</td>\n",
       "    </tr>\n",
       "    <tr>\n",
       "      <th>NDCG@5</th>\n",
       "      <td>0.017404</td>\n",
       "      <td>0.017257</td>\n",
       "      <td>0.026554</td>\n",
       "      <td>0.048168</td>\n",
       "      <td>0.015411</td>\n",
       "    </tr>\n",
       "    <tr>\n",
       "      <th>MAP@5</th>\n",
       "      <td>0.041657</td>\n",
       "      <td>0.040385</td>\n",
       "      <td>0.056634</td>\n",
       "      <td>0.097097</td>\n",
       "      <td>0.034294</td>\n",
       "    </tr>\n",
       "    <tr>\n",
       "      <th>MRR</th>\n",
       "      <td>0.059544</td>\n",
       "      <td>0.057325</td>\n",
       "      <td>0.077540</td>\n",
       "      <td>0.121921</td>\n",
       "      <td>0.050586</td>\n",
       "    </tr>\n",
       "    <tr>\n",
       "      <th>AUC</th>\n",
       "      <td>0.849921</td>\n",
       "      <td>0.795534</td>\n",
       "      <td>0.871066</td>\n",
       "      <td>0.853451</td>\n",
       "      <td>0.843581</td>\n",
       "    </tr>\n",
       "  </tbody>\n",
       "</table>\n",
       "</div>"
      ],
      "text/plain": [
       "            PopRec     CLiMF    BPR_MF       iMF     TFMAP\n",
       "prec@5    0.014960  0.015475  0.024743  0.043965  0.014531\n",
       "1recal@5  0.069937  0.072511  0.104548  0.166476  0.066505\n",
       "NDCG@5    0.017404  0.017257  0.026554  0.048168  0.015411\n",
       "MAP@5     0.041657  0.040385  0.056634  0.097097  0.034294\n",
       "MRR       0.059544  0.057325  0.077540  0.121921  0.050586\n",
       "AUC       0.849921  0.795534  0.871066  0.853451  0.843581"
      ]
     },
     "execution_count": 56,
     "metadata": {},
     "output_type": "execute_result"
    }
   ],
   "source": [
    "climf_experiment(slashdot, create_list_cf(slashdot_shape), K=0.1, maxiter=1, topK=5,  verbose=0)"
   ]
  },
  {
   "cell_type": "code",
   "execution_count": 57,
   "metadata": {
    "collapsed": false
   },
   "outputs": [
    {
     "data": {
      "text/html": [
       "<div>\n",
       "<table border=\"1\" class=\"dataframe\">\n",
       "  <thead>\n",
       "    <tr style=\"text-align: right;\">\n",
       "      <th></th>\n",
       "      <th>PopRec</th>\n",
       "      <th>CLiMF</th>\n",
       "      <th>BPR_MF</th>\n",
       "      <th>iMF</th>\n",
       "      <th>TFMAP</th>\n",
       "    </tr>\n",
       "  </thead>\n",
       "  <tbody>\n",
       "    <tr>\n",
       "      <th>prec@5</th>\n",
       "      <td>0.029863</td>\n",
       "      <td>0.029348</td>\n",
       "      <td>0.042048</td>\n",
       "      <td>0.074485</td>\n",
       "      <td>0.028175</td>\n",
       "    </tr>\n",
       "    <tr>\n",
       "      <th>1recal@5</th>\n",
       "      <td>0.131150</td>\n",
       "      <td>0.129148</td>\n",
       "      <td>0.160898</td>\n",
       "      <td>0.255578</td>\n",
       "      <td>0.124142</td>\n",
       "    </tr>\n",
       "    <tr>\n",
       "      <th>NDCG@5</th>\n",
       "      <td>0.033434</td>\n",
       "      <td>0.032729</td>\n",
       "      <td>0.043991</td>\n",
       "      <td>0.080004</td>\n",
       "      <td>0.030640</td>\n",
       "    </tr>\n",
       "    <tr>\n",
       "      <th>MAP@5</th>\n",
       "      <td>0.074740</td>\n",
       "      <td>0.073377</td>\n",
       "      <td>0.086740</td>\n",
       "      <td>0.149358</td>\n",
       "      <td>0.067775</td>\n",
       "    </tr>\n",
       "    <tr>\n",
       "      <th>MRR</th>\n",
       "      <td>0.100142</td>\n",
       "      <td>0.097755</td>\n",
       "      <td>0.115010</td>\n",
       "      <td>0.181893</td>\n",
       "      <td>0.091801</td>\n",
       "    </tr>\n",
       "    <tr>\n",
       "      <th>AUC</th>\n",
       "      <td>0.843574</td>\n",
       "      <td>0.778659</td>\n",
       "      <td>0.863101</td>\n",
       "      <td>0.846316</td>\n",
       "      <td>0.836296</td>\n",
       "    </tr>\n",
       "  </tbody>\n",
       "</table>\n",
       "</div>"
      ],
      "text/plain": [
       "            PopRec     CLiMF    BPR_MF       iMF     TFMAP\n",
       "prec@5    0.029863  0.029348  0.042048  0.074485  0.028175\n",
       "1recal@5  0.131150  0.129148  0.160898  0.255578  0.124142\n",
       "NDCG@5    0.033434  0.032729  0.043991  0.080004  0.030640\n",
       "MAP@5     0.074740  0.073377  0.086740  0.149358  0.067775\n",
       "MRR       0.100142  0.097755  0.115010  0.181893  0.091801\n",
       "AUC       0.843574  0.778659  0.863101  0.846316  0.836296"
      ]
     },
     "execution_count": 57,
     "metadata": {},
     "output_type": "execute_result"
    }
   ],
   "source": [
    "climf_experiment(slashdot, create_list_cf(slashdot_shape), K=0.2, maxiter=1, topK=5,  verbose=0)"
   ]
  },
  {
   "cell_type": "code",
   "execution_count": 58,
   "metadata": {
    "collapsed": false
   },
   "outputs": [
    {
     "name": "stdout",
     "output_type": "stream",
     "text": [
      "0 0 [ 0.1336457   0.41124527  0.14399806  0.2564864   0.29679144  0.85737817]\n",
      "0 1 [ 0.11573256  0.36925572  0.11985524  0.20916582  0.25224184  0.84890599]\n",
      "0 2 [ 0.22375203  0.61416471  0.24006127  0.39429927  0.44244401  0.92443239]\n",
      "0 3 [ 0.2600829   0.65200937  0.27999383  0.44248588  0.48957763  0.91715365]\n",
      "0 4 [ 0.07925752  0.28707875  0.08380195  0.16032644  0.19862019  0.84915509]\n"
     ]
    },
    {
     "data": {
      "text/html": [
       "<div>\n",
       "<table border=\"1\" class=\"dataframe\">\n",
       "  <thead>\n",
       "    <tr style=\"text-align: right;\">\n",
       "      <th></th>\n",
       "      <th>PopRec</th>\n",
       "      <th>CLiMF</th>\n",
       "      <th>BPR_MF</th>\n",
       "      <th>iMF</th>\n",
       "      <th>TFMAP</th>\n",
       "    </tr>\n",
       "  </thead>\n",
       "  <tbody>\n",
       "    <tr>\n",
       "      <th>prec@5</th>\n",
       "      <td>0.133646</td>\n",
       "      <td>0.115733</td>\n",
       "      <td>0.223752</td>\n",
       "      <td>0.260083</td>\n",
       "      <td>0.079258</td>\n",
       "    </tr>\n",
       "    <tr>\n",
       "      <th>1recal@5</th>\n",
       "      <td>0.411245</td>\n",
       "      <td>0.369256</td>\n",
       "      <td>0.614165</td>\n",
       "      <td>0.652009</td>\n",
       "      <td>0.287079</td>\n",
       "    </tr>\n",
       "    <tr>\n",
       "      <th>NDCG@5</th>\n",
       "      <td>0.143998</td>\n",
       "      <td>0.119855</td>\n",
       "      <td>0.240061</td>\n",
       "      <td>0.279994</td>\n",
       "      <td>0.083802</td>\n",
       "    </tr>\n",
       "    <tr>\n",
       "      <th>MAP@5</th>\n",
       "      <td>0.256486</td>\n",
       "      <td>0.209166</td>\n",
       "      <td>0.394299</td>\n",
       "      <td>0.442486</td>\n",
       "      <td>0.160326</td>\n",
       "    </tr>\n",
       "    <tr>\n",
       "      <th>MRR</th>\n",
       "      <td>0.296791</td>\n",
       "      <td>0.252242</td>\n",
       "      <td>0.442444</td>\n",
       "      <td>0.489578</td>\n",
       "      <td>0.198620</td>\n",
       "    </tr>\n",
       "    <tr>\n",
       "      <th>AUC</th>\n",
       "      <td>0.857378</td>\n",
       "      <td>0.848906</td>\n",
       "      <td>0.924432</td>\n",
       "      <td>0.917154</td>\n",
       "      <td>0.849155</td>\n",
       "    </tr>\n",
       "  </tbody>\n",
       "</table>\n",
       "</div>"
      ],
      "text/plain": [
       "            PopRec     CLiMF    BPR_MF       iMF     TFMAP\n",
       "prec@5    0.133646  0.115733  0.223752  0.260083  0.079258\n",
       "1recal@5  0.411245  0.369256  0.614165  0.652009  0.287079\n",
       "NDCG@5    0.143998  0.119855  0.240061  0.279994  0.083802\n",
       "MAP@5     0.256486  0.209166  0.394299  0.442486  0.160326\n",
       "MRR       0.296791  0.252242  0.442444  0.489578  0.198620\n",
       "AUC       0.857378  0.848906  0.924432  0.917154  0.849155"
      ]
     },
     "execution_count": 58,
     "metadata": {},
     "output_type": "execute_result"
    }
   ],
   "source": [
    "climf_experiment(ml1m, create_list_cf(ml1m_shape), K=0.1, maxiter=1, topK=5, verbose=1)"
   ]
  },
  {
   "cell_type": "code",
   "execution_count": 59,
   "metadata": {
    "collapsed": false
   },
   "outputs": [
    {
     "data": {
      "text/html": [
       "<div>\n",
       "<table border=\"1\" class=\"dataframe\">\n",
       "  <thead>\n",
       "    <tr style=\"text-align: right;\">\n",
       "      <th></th>\n",
       "      <th>PopRec</th>\n",
       "      <th>CLiMF</th>\n",
       "      <th>BPR_MF</th>\n",
       "      <th>iMF</th>\n",
       "      <th>TFMAP</th>\n",
       "    </tr>\n",
       "  </thead>\n",
       "  <tbody>\n",
       "    <tr>\n",
       "      <th>prec@5</th>\n",
       "      <td>0.226563</td>\n",
       "      <td>0.212507</td>\n",
       "      <td>0.334547</td>\n",
       "      <td>0.397225</td>\n",
       "      <td>0.140530</td>\n",
       "    </tr>\n",
       "    <tr>\n",
       "      <th>1recal@5</th>\n",
       "      <td>0.577942</td>\n",
       "      <td>0.559560</td>\n",
       "      <td>0.753109</td>\n",
       "      <td>0.801045</td>\n",
       "      <td>0.442062</td>\n",
       "    </tr>\n",
       "    <tr>\n",
       "      <th>NDCG@5</th>\n",
       "      <td>0.238727</td>\n",
       "      <td>0.218131</td>\n",
       "      <td>0.350127</td>\n",
       "      <td>0.417528</td>\n",
       "      <td>0.150439</td>\n",
       "    </tr>\n",
       "    <tr>\n",
       "      <th>MAP@5</th>\n",
       "      <td>0.378080</td>\n",
       "      <td>0.339910</td>\n",
       "      <td>0.508567</td>\n",
       "      <td>0.576701</td>\n",
       "      <td>0.268975</td>\n",
       "    </tr>\n",
       "    <tr>\n",
       "      <th>MRR</th>\n",
       "      <td>0.418982</td>\n",
       "      <td>0.385665</td>\n",
       "      <td>0.558877</td>\n",
       "      <td>0.625551</td>\n",
       "      <td>0.314291</td>\n",
       "    </tr>\n",
       "    <tr>\n",
       "      <th>AUC</th>\n",
       "      <td>0.857999</td>\n",
       "      <td>0.852355</td>\n",
       "      <td>0.922871</td>\n",
       "      <td>0.915748</td>\n",
       "      <td>0.850259</td>\n",
       "    </tr>\n",
       "  </tbody>\n",
       "</table>\n",
       "</div>"
      ],
      "text/plain": [
       "            PopRec     CLiMF    BPR_MF       iMF     TFMAP\n",
       "prec@5    0.226563  0.212507  0.334547  0.397225  0.140530\n",
       "1recal@5  0.577942  0.559560  0.753109  0.801045  0.442062\n",
       "NDCG@5    0.238727  0.218131  0.350127  0.417528  0.150439\n",
       "MAP@5     0.378080  0.339910  0.508567  0.576701  0.268975\n",
       "MRR       0.418982  0.385665  0.558877  0.625551  0.314291\n",
       "AUC       0.857999  0.852355  0.922871  0.915748  0.850259"
      ]
     },
     "execution_count": 59,
     "metadata": {},
     "output_type": "execute_result"
    }
   ],
   "source": [
    "climf_experiment(ml1m, create_list_cf(ml1m_shape), K=0.2, maxiter=1, topK=5, verbose=0)"
   ]
  },
  {
   "cell_type": "markdown",
   "metadata": {},
   "source": [
    "# Построение ансамбля"
   ]
  },
  {
   "cell_type": "code",
   "execution_count": 60,
   "metadata": {
    "collapsed": false
   },
   "outputs": [],
   "source": [
    "from sklearn import cross_validation\n",
    "import rankensemble\n",
    "import rankingmeasure"
   ]
  },
  {
   "cell_type": "code",
   "execution_count": 38,
   "metadata": {
    "collapsed": true
   },
   "outputs": [],
   "source": [
    "def netflix_ensemble_experiment(data, list_cf, list_ensemble, Ktrain=0.1, Kvalidation=0.1, \n",
    "                                     maxiter=1, topK=5,  verbose=0):\n",
    "    res = np.zeros((4, len(list_cf) + len(list_ensemble)))\n",
    "    for t in range(maxiter):\n",
    "        test, train, traintest = ratio_train_test(data, Ktrain)\n",
    "        validation, train, trainvalidation = ratio_train_test(train, Kvalidation / (1 - Ktrain), data_is_xlist=True)\n",
    "        \n",
    "        for i in range(len(list_cf)):\n",
    "            list_cf[i].fit(train)\n",
    "            prec_k, one_recal_k, ngdc, mp = rankingmeasure.get_Kmetrics(trainvalidation, test, list_cf[i], K=topK)\n",
    "            res[:, i] += np.array([prec_k, one_recal_k, ngdc, mp])\n",
    "            if verbose == 1:\n",
    "                print(t, i, res[:, i] / (t + 1))\n",
    "                sys.stdout.flush()\n",
    "        for j, ens in enumerate(list_ensemble):\n",
    "            m = j + len(list_cf)\n",
    "            ens.fit(list_cf, validation, train, trainvalidation)\n",
    "\n",
    "            prec_k, one_recal_k, ngdc, mp = rankingmeasure.get_Kmetrics(trainvalidation, test, ens, K=topK)\n",
    "            res[:, m] += np.array([prec_k, one_recal_k, ngdc, mp])\n",
    "            if verbose == 1:\n",
    "                print(t,  m, res[:, m] / (t + 1))\n",
    "\n",
    "        \n",
    "    res /= maxiter\n",
    "    res[:, len(list_cf) - 1] = np.max(res[:, :len(list_cf)], axis=1)\n",
    "    res = res[:, len(list_cf)- 1:]\n",
    "    res = pd.DataFrame(res)\n",
    "    res.columns = [\"best_result\"] + [type(ens).__name__ for ens  in list_ensemble]\n",
    "    res.index = [name + str(topK) for name in ['prec@', '1recal@', 'NDCG@', 'MAP@']]\n",
    "\n",
    "    return res"
   ]
  },
  {
   "cell_type": "code",
   "execution_count": 39,
   "metadata": {
    "collapsed": false
   },
   "outputs": [],
   "source": [
    "import copy\n",
    "from sklearn import linear_model, ensemble\n",
    "from sklearn.kernel_ridge import KernelRidge\n",
    "import rankensemble"
   ]
  },
  {
   "cell_type": "code",
   "execution_count": 41,
   "metadata": {
    "collapsed": false
   },
   "outputs": [],
   "source": [
    "list_ensemble = [\n",
    "    rankensemble.RegressionEnsemble(linear_model.Ridge(alpha=100)),\n",
    "    rankensemble.InnerValueEnsemble(),\n",
    "    rankensemble.BoostValEns(rankingmeasure.get_NDCG,[3,0,1,2], num_weights=11),\n",
    "    rankensemble.TreeValEns(rankingmeasure.get_NDCG, [[3, 0],[1,2]], num_weights=11)\n",
    "]"
   ]
  },
  {
   "cell_type": "code",
   "execution_count": 42,
   "metadata": {
    "collapsed": false
   },
   "outputs": [
    {
     "name": "stdout",
     "output_type": "stream",
     "text": [
      "0 0 [ 0.14665012  0.4764268   0.16461605  0.31256376]\n",
      "0 1 [ 0.25558313  0.69478908  0.26735163  0.42890819]\n",
      "0 2 [ 0.29652605  0.73449132  0.3201774   0.50352392]\n",
      "0 3 [ 0.15533499  0.46774194  0.17802119  0.32637855]\n",
      "0 4 [ 0.16029777  0.49503722  0.17781655  0.32390233]\n",
      "0 5 [ 0.2528536   0.67121588  0.27830066  0.45995313]\n",
      "0 6 [ 0.30694789  0.75806452  0.33076854  0.51851392]\n",
      "0 7 [ 0.30198511  0.75558313  0.32575543  0.51528639]\n"
     ]
    },
    {
     "data": {
      "text/html": [
       "<div>\n",
       "<table border=\"1\" class=\"dataframe\">\n",
       "  <thead>\n",
       "    <tr style=\"text-align: right;\">\n",
       "      <th></th>\n",
       "      <th>best_result</th>\n",
       "      <th>regression_ensemble</th>\n",
       "      <th>inner_value_ensemble</th>\n",
       "      <th>boost_val_ens</th>\n",
       "      <th>tree_val_ens</th>\n",
       "    </tr>\n",
       "  </thead>\n",
       "  <tbody>\n",
       "    <tr>\n",
       "      <th>prec@5</th>\n",
       "      <td>0.296526</td>\n",
       "      <td>0.160298</td>\n",
       "      <td>0.252854</td>\n",
       "      <td>0.306948</td>\n",
       "      <td>0.301985</td>\n",
       "    </tr>\n",
       "    <tr>\n",
       "      <th>1recal@5</th>\n",
       "      <td>0.734491</td>\n",
       "      <td>0.495037</td>\n",
       "      <td>0.671216</td>\n",
       "      <td>0.758065</td>\n",
       "      <td>0.755583</td>\n",
       "    </tr>\n",
       "    <tr>\n",
       "      <th>NDCG@5</th>\n",
       "      <td>0.320177</td>\n",
       "      <td>0.177817</td>\n",
       "      <td>0.278301</td>\n",
       "      <td>0.330769</td>\n",
       "      <td>0.325755</td>\n",
       "    </tr>\n",
       "    <tr>\n",
       "      <th>MAP@5</th>\n",
       "      <td>0.503524</td>\n",
       "      <td>0.323902</td>\n",
       "      <td>0.459953</td>\n",
       "      <td>0.518514</td>\n",
       "      <td>0.515286</td>\n",
       "    </tr>\n",
       "  </tbody>\n",
       "</table>\n",
       "</div>"
      ],
      "text/plain": [
       "          best_result  regression_ensemble  inner_value_ensemble  \\\n",
       "prec@5       0.296526             0.160298              0.252854   \n",
       "1recal@5     0.734491             0.495037              0.671216   \n",
       "NDCG@5       0.320177             0.177817              0.278301   \n",
       "MAP@5        0.503524             0.323902              0.459953   \n",
       "\n",
       "          boost_val_ens  tree_val_ens  \n",
       "prec@5         0.306948      0.301985  \n",
       "1recal@5       0.758065      0.755583  \n",
       "NDCG@5         0.330769      0.325755  \n",
       "MAP@5          0.518514      0.515286  "
      ]
     },
     "execution_count": 42,
     "metadata": {},
     "output_type": "execute_result"
    }
   ],
   "source": [
    "netflix_ensemble_experiment(ml100k, create_list_cf(ml100k_shape)[1:5], list_ensemble, Ktrain=0.1, Kvalidation=0.1, verbose=1, maxiter=1)"
   ]
  },
  {
   "cell_type": "code",
   "execution_count": 43,
   "metadata": {
    "collapsed": false
   },
   "outputs": [
    {
     "name": "stdout",
     "output_type": "stream",
     "text": [
      "0 0 [ 0.2369727   0.61662531  0.25952715  0.42063344]\n",
      "0 1 [ 0.37121588  0.82133995  0.38483334  0.55116487]\n",
      "0 2 [ 0.44516129  0.87965261  0.4705842   0.64806314]\n",
      "0 3 [ 0.25682382  0.59181141  0.2775557   0.42044217]\n",
      "0 4 [ 0.25310174  0.62034739  0.27384985  0.42610456]\n",
      "0 5 [ 0.38312655  0.80397022  0.40708563  0.5763751 ]\n",
      "0 6 [ 0.44987593  0.87841191  0.47700751  0.6555883 ]\n",
      "0 7 [ 0.44640199  0.87344913  0.47523242  0.65628619]\n"
     ]
    },
    {
     "data": {
      "text/html": [
       "<div>\n",
       "<table border=\"1\" class=\"dataframe\">\n",
       "  <thead>\n",
       "    <tr style=\"text-align: right;\">\n",
       "      <th></th>\n",
       "      <th>best_result</th>\n",
       "      <th>regression_ensemble</th>\n",
       "      <th>inner_value_ensemble</th>\n",
       "      <th>boost_val_ens</th>\n",
       "      <th>tree_val_ens</th>\n",
       "    </tr>\n",
       "  </thead>\n",
       "  <tbody>\n",
       "    <tr>\n",
       "      <th>prec@5</th>\n",
       "      <td>0.445161</td>\n",
       "      <td>0.253102</td>\n",
       "      <td>0.383127</td>\n",
       "      <td>0.449876</td>\n",
       "      <td>0.446402</td>\n",
       "    </tr>\n",
       "    <tr>\n",
       "      <th>1recal@5</th>\n",
       "      <td>0.879653</td>\n",
       "      <td>0.620347</td>\n",
       "      <td>0.803970</td>\n",
       "      <td>0.878412</td>\n",
       "      <td>0.873449</td>\n",
       "    </tr>\n",
       "    <tr>\n",
       "      <th>NDCG@5</th>\n",
       "      <td>0.470584</td>\n",
       "      <td>0.273850</td>\n",
       "      <td>0.407086</td>\n",
       "      <td>0.477008</td>\n",
       "      <td>0.475232</td>\n",
       "    </tr>\n",
       "    <tr>\n",
       "      <th>MAP@5</th>\n",
       "      <td>0.648063</td>\n",
       "      <td>0.426105</td>\n",
       "      <td>0.576375</td>\n",
       "      <td>0.655588</td>\n",
       "      <td>0.656286</td>\n",
       "    </tr>\n",
       "  </tbody>\n",
       "</table>\n",
       "</div>"
      ],
      "text/plain": [
       "          best_result  regression_ensemble  inner_value_ensemble  \\\n",
       "prec@5       0.445161             0.253102              0.383127   \n",
       "1recal@5     0.879653             0.620347              0.803970   \n",
       "NDCG@5       0.470584             0.273850              0.407086   \n",
       "MAP@5        0.648063             0.426105              0.576375   \n",
       "\n",
       "          boost_val_ens  tree_val_ens  \n",
       "prec@5         0.449876      0.446402  \n",
       "1recal@5       0.878412      0.873449  \n",
       "NDCG@5         0.477008      0.475232  \n",
       "MAP@5          0.655588      0.656286  "
      ]
     },
     "execution_count": 43,
     "metadata": {},
     "output_type": "execute_result"
    }
   ],
   "source": [
    "netflix_ensemble_experiment(ml100k, create_list_cf(ml100k_shape)[1:5], list_ensemble, Ktrain=0.2, Kvalidation=0.1, verbose=1, maxiter=1)"
   ]
  },
  {
   "cell_type": "code",
   "execution_count": 44,
   "metadata": {
    "collapsed": false
   },
   "outputs": [
    {
     "data": {
      "text/html": [
       "<div>\n",
       "<table border=\"1\" class=\"dataframe\">\n",
       "  <thead>\n",
       "    <tr style=\"text-align: right;\">\n",
       "      <th></th>\n",
       "      <th>best_result</th>\n",
       "      <th>regression_ensemble</th>\n",
       "      <th>inner_value_ensemble</th>\n",
       "      <th>boost_val_ens</th>\n",
       "      <th>tree_val_ens</th>\n",
       "    </tr>\n",
       "  </thead>\n",
       "  <tbody>\n",
       "    <tr>\n",
       "      <th>prec@5</th>\n",
       "      <td>0.071600</td>\n",
       "      <td>0.029557</td>\n",
       "      <td>0.053485</td>\n",
       "      <td>0.076459</td>\n",
       "      <td>0.076050</td>\n",
       "    </tr>\n",
       "    <tr>\n",
       "      <th>1recal@5</th>\n",
       "      <td>0.271056</td>\n",
       "      <td>0.130306</td>\n",
       "      <td>0.218388</td>\n",
       "      <td>0.292168</td>\n",
       "      <td>0.290806</td>\n",
       "    </tr>\n",
       "    <tr>\n",
       "      <th>NDCG@5</th>\n",
       "      <td>0.077573</td>\n",
       "      <td>0.033425</td>\n",
       "      <td>0.057291</td>\n",
       "      <td>0.083081</td>\n",
       "      <td>0.082269</td>\n",
       "    </tr>\n",
       "    <tr>\n",
       "      <th>MAP@5</th>\n",
       "      <td>0.156124</td>\n",
       "      <td>0.075919</td>\n",
       "      <td>0.119397</td>\n",
       "      <td>0.168882</td>\n",
       "      <td>0.167201</td>\n",
       "    </tr>\n",
       "  </tbody>\n",
       "</table>\n",
       "</div>"
      ],
      "text/plain": [
       "          best_result  regression_ensemble  inner_value_ensemble  \\\n",
       "prec@5       0.071600             0.029557              0.053485   \n",
       "1recal@5     0.271056             0.130306              0.218388   \n",
       "NDCG@5       0.077573             0.033425              0.057291   \n",
       "MAP@5        0.156124             0.075919              0.119397   \n",
       "\n",
       "          boost_val_ens  tree_val_ens  \n",
       "prec@5         0.076459      0.076050  \n",
       "1recal@5       0.292168      0.290806  \n",
       "NDCG@5         0.083081      0.082269  \n",
       "MAP@5          0.168882      0.167201  "
      ]
     },
     "execution_count": 44,
     "metadata": {},
     "output_type": "execute_result"
    }
   ],
   "source": [
    "netflix_ensemble_experiment(epinion, create_list_cf(epinion_shape)[1:5], list_ensemble, Ktrain=0.1, Kvalidation=0.1, verbose=0, maxiter=1)"
   ]
  },
  {
   "cell_type": "code",
   "execution_count": 45,
   "metadata": {
    "collapsed": false
   },
   "outputs": [
    {
     "data": {
      "text/html": [
       "<div>\n",
       "<table border=\"1\" class=\"dataframe\">\n",
       "  <thead>\n",
       "    <tr style=\"text-align: right;\">\n",
       "      <th></th>\n",
       "      <th>best_result</th>\n",
       "      <th>regression_ensemble</th>\n",
       "      <th>inner_value_ensemble</th>\n",
       "      <th>boost_val_ens</th>\n",
       "      <th>tree_val_ens</th>\n",
       "    </tr>\n",
       "  </thead>\n",
       "  <tbody>\n",
       "    <tr>\n",
       "      <th>prec@5</th>\n",
       "      <td>0.128309</td>\n",
       "      <td>0.055074</td>\n",
       "      <td>0.100068</td>\n",
       "      <td>0.132894</td>\n",
       "      <td>0.136390</td>\n",
       "    </tr>\n",
       "    <tr>\n",
       "      <th>1recal@5</th>\n",
       "      <td>0.417934</td>\n",
       "      <td>0.224291</td>\n",
       "      <td>0.359591</td>\n",
       "      <td>0.437230</td>\n",
       "      <td>0.443814</td>\n",
       "    </tr>\n",
       "    <tr>\n",
       "      <th>NDCG@5</th>\n",
       "      <td>0.138436</td>\n",
       "      <td>0.061518</td>\n",
       "      <td>0.106281</td>\n",
       "      <td>0.142505</td>\n",
       "      <td>0.146894</td>\n",
       "    </tr>\n",
       "    <tr>\n",
       "      <th>MAP@5</th>\n",
       "      <td>0.253614</td>\n",
       "      <td>0.131608</td>\n",
       "      <td>0.203544</td>\n",
       "      <td>0.260715</td>\n",
       "      <td>0.268619</td>\n",
       "    </tr>\n",
       "  </tbody>\n",
       "</table>\n",
       "</div>"
      ],
      "text/plain": [
       "          best_result  regression_ensemble  inner_value_ensemble  \\\n",
       "prec@5       0.128309             0.055074              0.100068   \n",
       "1recal@5     0.417934             0.224291              0.359591   \n",
       "NDCG@5       0.138436             0.061518              0.106281   \n",
       "MAP@5        0.253614             0.131608              0.203544   \n",
       "\n",
       "          boost_val_ens  tree_val_ens  \n",
       "prec@5         0.132894      0.136390  \n",
       "1recal@5       0.437230      0.443814  \n",
       "NDCG@5         0.142505      0.146894  \n",
       "MAP@5          0.260715      0.268619  "
      ]
     },
     "execution_count": 45,
     "metadata": {},
     "output_type": "execute_result"
    }
   ],
   "source": [
    "netflix_ensemble_experiment(epinion, create_list_cf(epinion_shape)[1:5], list_ensemble, Ktrain=0.2, Kvalidation=0.1, verbose=0, maxiter=1)"
   ]
  },
  {
   "cell_type": "code",
   "execution_count": 46,
   "metadata": {
    "collapsed": false
   },
   "outputs": [
    {
     "data": {
      "text/html": [
       "<div>\n",
       "<table border=\"1\" class=\"dataframe\">\n",
       "  <thead>\n",
       "    <tr style=\"text-align: right;\">\n",
       "      <th></th>\n",
       "      <th>best_result</th>\n",
       "      <th>regression_ensemble</th>\n",
       "      <th>inner_value_ensemble</th>\n",
       "      <th>boost_val_ens</th>\n",
       "      <th>tree_val_ens</th>\n",
       "    </tr>\n",
       "  </thead>\n",
       "  <tbody>\n",
       "    <tr>\n",
       "      <th>prec@5</th>\n",
       "      <td>0.260155</td>\n",
       "      <td>0.106506</td>\n",
       "      <td>0.237412</td>\n",
       "      <td>0.262858</td>\n",
       "      <td>0.263975</td>\n",
       "    </tr>\n",
       "    <tr>\n",
       "      <th>1recal@5</th>\n",
       "      <td>0.654172</td>\n",
       "      <td>0.342404</td>\n",
       "      <td>0.618670</td>\n",
       "      <td>0.656695</td>\n",
       "      <td>0.659398</td>\n",
       "    </tr>\n",
       "    <tr>\n",
       "      <th>NDCG@5</th>\n",
       "      <td>0.279527</td>\n",
       "      <td>0.110480</td>\n",
       "      <td>0.247660</td>\n",
       "      <td>0.283079</td>\n",
       "      <td>0.283604</td>\n",
       "    </tr>\n",
       "    <tr>\n",
       "      <th>MAP@5</th>\n",
       "      <td>0.438469</td>\n",
       "      <td>0.193646</td>\n",
       "      <td>0.385993</td>\n",
       "      <td>0.444041</td>\n",
       "      <td>0.443896</td>\n",
       "    </tr>\n",
       "  </tbody>\n",
       "</table>\n",
       "</div>"
      ],
      "text/plain": [
       "          best_result  regression_ensemble  inner_value_ensemble  \\\n",
       "prec@5       0.260155             0.106506              0.237412   \n",
       "1recal@5     0.654172             0.342404              0.618670   \n",
       "NDCG@5       0.279527             0.110480              0.247660   \n",
       "MAP@5        0.438469             0.193646              0.385993   \n",
       "\n",
       "          boost_val_ens  tree_val_ens  \n",
       "prec@5         0.262858      0.263975  \n",
       "1recal@5       0.656695      0.659398  \n",
       "NDCG@5         0.283079      0.283604  \n",
       "MAP@5          0.444041      0.443896  "
      ]
     },
     "execution_count": 46,
     "metadata": {},
     "output_type": "execute_result"
    }
   ],
   "source": [
    "netflix_ensemble_experiment(ml1m, create_list_cf(ml1m_shape)[1:5], list_ensemble, Ktrain=0.1, Kvalidation=0.1, verbose=0, maxiter=1)"
   ]
  },
  {
   "cell_type": "code",
   "execution_count": 47,
   "metadata": {
    "collapsed": false
   },
   "outputs": [
    {
     "data": {
      "text/html": [
       "<div>\n",
       "<table border=\"1\" class=\"dataframe\">\n",
       "  <thead>\n",
       "    <tr style=\"text-align: right;\">\n",
       "      <th></th>\n",
       "      <th>best_result</th>\n",
       "      <th>regression_ensemble</th>\n",
       "      <th>inner_value_ensemble</th>\n",
       "      <th>boost_val_ens</th>\n",
       "      <th>tree_val_ens</th>\n",
       "    </tr>\n",
       "  </thead>\n",
       "  <tbody>\n",
       "    <tr>\n",
       "      <th>prec@5</th>\n",
       "      <td>0.393657</td>\n",
       "      <td>0.197441</td>\n",
       "      <td>0.361687</td>\n",
       "      <td>0.398378</td>\n",
       "      <td>0.394485</td>\n",
       "    </tr>\n",
       "    <tr>\n",
       "      <th>1recal@5</th>\n",
       "      <td>0.798522</td>\n",
       "      <td>0.525500</td>\n",
       "      <td>0.771490</td>\n",
       "      <td>0.807533</td>\n",
       "      <td>0.806632</td>\n",
       "    </tr>\n",
       "    <tr>\n",
       "      <th>NDCG@5</th>\n",
       "      <td>0.412783</td>\n",
       "      <td>0.200736</td>\n",
       "      <td>0.371032</td>\n",
       "      <td>0.419270</td>\n",
       "      <td>0.415761</td>\n",
       "    </tr>\n",
       "    <tr>\n",
       "      <th>MAP@5</th>\n",
       "      <td>0.572967</td>\n",
       "      <td>0.312733</td>\n",
       "      <td>0.516635</td>\n",
       "      <td>0.583956</td>\n",
       "      <td>0.582231</td>\n",
       "    </tr>\n",
       "  </tbody>\n",
       "</table>\n",
       "</div>"
      ],
      "text/plain": [
       "          best_result  regression_ensemble  inner_value_ensemble  \\\n",
       "prec@5       0.393657             0.197441              0.361687   \n",
       "1recal@5     0.798522             0.525500              0.771490   \n",
       "NDCG@5       0.412783             0.200736              0.371032   \n",
       "MAP@5        0.572967             0.312733              0.516635   \n",
       "\n",
       "          boost_val_ens  tree_val_ens  \n",
       "prec@5         0.398378      0.394485  \n",
       "1recal@5       0.807533      0.806632  \n",
       "NDCG@5         0.419270      0.415761  \n",
       "MAP@5          0.583956      0.582231  "
      ]
     },
     "execution_count": 47,
     "metadata": {},
     "output_type": "execute_result"
    }
   ],
   "source": [
    "netflix_ensemble_experiment(ml1m, create_list_cf(ml1m_shape)[1:5], list_ensemble, Ktrain=0.2, Kvalidation=0.1, verbose=0, maxiter=1)"
   ]
  },
  {
   "cell_type": "code",
   "execution_count": 48,
   "metadata": {
    "collapsed": false
   },
   "outputs": [
    {
     "data": {
      "text/html": [
       "<div>\n",
       "<table border=\"1\" class=\"dataframe\">\n",
       "  <thead>\n",
       "    <tr style=\"text-align: right;\">\n",
       "      <th></th>\n",
       "      <th>best_result</th>\n",
       "      <th>regression_ensemble</th>\n",
       "      <th>inner_value_ensemble</th>\n",
       "      <th>boost_val_ens</th>\n",
       "      <th>tree_val_ens</th>\n",
       "    </tr>\n",
       "  </thead>\n",
       "  <tbody>\n",
       "    <tr>\n",
       "      <th>prec@5</th>\n",
       "      <td>0.043135</td>\n",
       "      <td>0.018678</td>\n",
       "      <td>0.029176</td>\n",
       "      <td>0.043879</td>\n",
       "      <td>0.043621</td>\n",
       "    </tr>\n",
       "    <tr>\n",
       "      <th>1recal@5</th>\n",
       "      <td>0.164474</td>\n",
       "      <td>0.086670</td>\n",
       "      <td>0.127288</td>\n",
       "      <td>0.168335</td>\n",
       "      <td>0.167191</td>\n",
       "    </tr>\n",
       "    <tr>\n",
       "      <th>NDCG@5</th>\n",
       "      <td>0.047393</td>\n",
       "      <td>0.020103</td>\n",
       "      <td>0.031250</td>\n",
       "      <td>0.048117</td>\n",
       "      <td>0.048136</td>\n",
       "    </tr>\n",
       "    <tr>\n",
       "      <th>MAP@5</th>\n",
       "      <td>0.095921</td>\n",
       "      <td>0.045589</td>\n",
       "      <td>0.068486</td>\n",
       "      <td>0.097646</td>\n",
       "      <td>0.097892</td>\n",
       "    </tr>\n",
       "  </tbody>\n",
       "</table>\n",
       "</div>"
      ],
      "text/plain": [
       "          best_result  regression_ensemble  inner_value_ensemble  \\\n",
       "prec@5       0.043135             0.018678              0.029176   \n",
       "1recal@5     0.164474             0.086670              0.127288   \n",
       "NDCG@5       0.047393             0.020103              0.031250   \n",
       "MAP@5        0.095921             0.045589              0.068486   \n",
       "\n",
       "          boost_val_ens  tree_val_ens  \n",
       "prec@5         0.043879      0.043621  \n",
       "1recal@5       0.168335      0.167191  \n",
       "NDCG@5         0.048117      0.048136  \n",
       "MAP@5          0.097646      0.097892  "
      ]
     },
     "execution_count": 48,
     "metadata": {},
     "output_type": "execute_result"
    }
   ],
   "source": [
    "netflix_ensemble_experiment(slashdot, create_list_cf(slashdot_shape)[1:5], list_ensemble, Ktrain=0.1, Kvalidation=0.1, verbose=0, maxiter=1)"
   ]
  },
  {
   "cell_type": "code",
   "execution_count": 49,
   "metadata": {
    "collapsed": false
   },
   "outputs": [
    {
     "data": {
      "text/html": [
       "<div>\n",
       "<table border=\"1\" class=\"dataframe\">\n",
       "  <thead>\n",
       "    <tr style=\"text-align: right;\">\n",
       "      <th></th>\n",
       "      <th>best_result</th>\n",
       "      <th>regression_ensemble</th>\n",
       "      <th>inner_value_ensemble</th>\n",
       "      <th>boost_val_ens</th>\n",
       "      <th>tree_val_ens</th>\n",
       "    </tr>\n",
       "  </thead>\n",
       "  <tbody>\n",
       "    <tr>\n",
       "      <th>prec@5</th>\n",
       "      <td>0.074685</td>\n",
       "      <td>0.036213</td>\n",
       "      <td>0.051916</td>\n",
       "      <td>0.075715</td>\n",
       "      <td>0.075801</td>\n",
       "    </tr>\n",
       "    <tr>\n",
       "      <th>1recal@5</th>\n",
       "      <td>0.257008</td>\n",
       "      <td>0.157752</td>\n",
       "      <td>0.203804</td>\n",
       "      <td>0.263158</td>\n",
       "      <td>0.265303</td>\n",
       "    </tr>\n",
       "    <tr>\n",
       "      <th>NDCG@5</th>\n",
       "      <td>0.080385</td>\n",
       "      <td>0.039745</td>\n",
       "      <td>0.055659</td>\n",
       "      <td>0.081924</td>\n",
       "      <td>0.082233</td>\n",
       "    </tr>\n",
       "    <tr>\n",
       "      <th>MAP@5</th>\n",
       "      <td>0.150617</td>\n",
       "      <td>0.087731</td>\n",
       "      <td>0.114039</td>\n",
       "      <td>0.155043</td>\n",
       "      <td>0.156295</td>\n",
       "    </tr>\n",
       "  </tbody>\n",
       "</table>\n",
       "</div>"
      ],
      "text/plain": [
       "          best_result  regression_ensemble  inner_value_ensemble  \\\n",
       "prec@5       0.074685             0.036213              0.051916   \n",
       "1recal@5     0.257008             0.157752              0.203804   \n",
       "NDCG@5       0.080385             0.039745              0.055659   \n",
       "MAP@5        0.150617             0.087731              0.114039   \n",
       "\n",
       "          boost_val_ens  tree_val_ens  \n",
       "prec@5         0.075715      0.075801  \n",
       "1recal@5       0.263158      0.265303  \n",
       "NDCG@5         0.081924      0.082233  \n",
       "MAP@5          0.155043      0.156295  "
      ]
     },
     "execution_count": 49,
     "metadata": {},
     "output_type": "execute_result"
    }
   ],
   "source": [
    "netflix_ensemble_experiment(slashdot, create_list_cf(slashdot_shape)[1:5], list_ensemble, Ktrain=0.2, Kvalidation=0.1, verbose=0, maxiter=1)"
   ]
  },
  {
   "cell_type": "code",
   "execution_count": 50,
   "metadata": {
    "collapsed": true
   },
   "outputs": [],
   "source": [
    "list_ensemble = [\n",
    "    rankensemble.tree_val_ens(rankingmeasure.get_prec_K, [[3, 0],[1,2]], num_weights=11),\n",
    "    rankensemble.tree_val_ens(rankingmeasure.get_one_recal_K, [[3, 0],[1,2]], num_weights=11),\n",
    "    rankensemble.tree_val_ens(rankingmeasure.get_MAP, [[3, 0],[1,2]], num_weights=11),\n",
    "    rankensemble.tree_val_ens(rankingmeasure.get_NDCG, [[3, 0],[1,2]], num_weights=11)\n",
    "]"
   ]
  },
  {
   "cell_type": "code",
   "execution_count": 51,
   "metadata": {
    "collapsed": false
   },
   "outputs": [
    {
     "name": "stdout",
     "output_type": "stream",
     "text": [
      "0 0 [ 0.14094293  0.46153846  0.15209963  0.27955783]\n",
      "0 1 [ 0.2560794   0.70347395  0.27412447  0.4495985 ]\n",
      "0 2 [ 0.2866005   0.74069479  0.31632992  0.515681  ]\n",
      "0 3 [ 0.14218362  0.43920596  0.1613946   0.29342604]\n",
      "0 4 [ 0.30248139  0.77171216  0.32922651  0.52425903]\n",
      "0 5 [ 0.30074442  0.77295285  0.32667672  0.52699545]\n",
      "0 6 [ 0.29875931  0.7630273   0.32817649  0.52715571]\n",
      "0 7 [ 0.30372208  0.76674938  0.33034877  0.52233423]\n"
     ]
    },
    {
     "data": {
      "text/html": [
       "<div>\n",
       "<table border=\"1\" class=\"dataframe\">\n",
       "  <thead>\n",
       "    <tr style=\"text-align: right;\">\n",
       "      <th></th>\n",
       "      <th>best_result</th>\n",
       "      <th>tree_val_ens</th>\n",
       "      <th>tree_val_ens</th>\n",
       "      <th>tree_val_ens</th>\n",
       "      <th>tree_val_ens</th>\n",
       "    </tr>\n",
       "  </thead>\n",
       "  <tbody>\n",
       "    <tr>\n",
       "      <th>prec@5</th>\n",
       "      <td>0.286600</td>\n",
       "      <td>0.302481</td>\n",
       "      <td>0.300744</td>\n",
       "      <td>0.298759</td>\n",
       "      <td>0.303722</td>\n",
       "    </tr>\n",
       "    <tr>\n",
       "      <th>1recal@5</th>\n",
       "      <td>0.740695</td>\n",
       "      <td>0.771712</td>\n",
       "      <td>0.772953</td>\n",
       "      <td>0.763027</td>\n",
       "      <td>0.766749</td>\n",
       "    </tr>\n",
       "    <tr>\n",
       "      <th>NDCG@5</th>\n",
       "      <td>0.316330</td>\n",
       "      <td>0.329227</td>\n",
       "      <td>0.326677</td>\n",
       "      <td>0.328176</td>\n",
       "      <td>0.330349</td>\n",
       "    </tr>\n",
       "    <tr>\n",
       "      <th>MAP@5</th>\n",
       "      <td>0.515681</td>\n",
       "      <td>0.524259</td>\n",
       "      <td>0.526995</td>\n",
       "      <td>0.527156</td>\n",
       "      <td>0.522334</td>\n",
       "    </tr>\n",
       "  </tbody>\n",
       "</table>\n",
       "</div>"
      ],
      "text/plain": [
       "          best_result  tree_val_ens  tree_val_ens  tree_val_ens  tree_val_ens\n",
       "prec@5       0.286600      0.302481      0.300744      0.298759      0.303722\n",
       "1recal@5     0.740695      0.771712      0.772953      0.763027      0.766749\n",
       "NDCG@5       0.316330      0.329227      0.326677      0.328176      0.330349\n",
       "MAP@5        0.515681      0.524259      0.526995      0.527156      0.522334"
      ]
     },
     "execution_count": 51,
     "metadata": {},
     "output_type": "execute_result"
    }
   ],
   "source": [
    "netflix_ensemble_experiment(ml100k, create_list_cf(ml100k_shape)[1:5], list_ensemble, Ktrain=0.1, Kvalidation=0.1, verbose=1, maxiter=1)"
   ]
  },
  {
   "cell_type": "code",
   "execution_count": 52,
   "metadata": {
    "collapsed": false
   },
   "outputs": [
    {
     "data": {
      "text/html": [
       "<div>\n",
       "<table border=\"1\" class=\"dataframe\">\n",
       "  <thead>\n",
       "    <tr style=\"text-align: right;\">\n",
       "      <th></th>\n",
       "      <th>best_result</th>\n",
       "      <th>tree_val_ens</th>\n",
       "      <th>tree_val_ens</th>\n",
       "      <th>tree_val_ens</th>\n",
       "      <th>tree_val_ens</th>\n",
       "    </tr>\n",
       "  </thead>\n",
       "  <tbody>\n",
       "    <tr>\n",
       "      <th>prec@5</th>\n",
       "      <td>0.446650</td>\n",
       "      <td>0.452605</td>\n",
       "      <td>0.447643</td>\n",
       "      <td>0.446650</td>\n",
       "      <td>0.452605</td>\n",
       "    </tr>\n",
       "    <tr>\n",
       "      <th>1recal@5</th>\n",
       "      <td>0.867246</td>\n",
       "      <td>0.870968</td>\n",
       "      <td>0.866005</td>\n",
       "      <td>0.867246</td>\n",
       "      <td>0.870968</td>\n",
       "    </tr>\n",
       "    <tr>\n",
       "      <th>NDCG@5</th>\n",
       "      <td>0.472116</td>\n",
       "      <td>0.479477</td>\n",
       "      <td>0.474829</td>\n",
       "      <td>0.472116</td>\n",
       "      <td>0.479477</td>\n",
       "    </tr>\n",
       "    <tr>\n",
       "      <th>MAP@5</th>\n",
       "      <td>0.644829</td>\n",
       "      <td>0.653071</td>\n",
       "      <td>0.648310</td>\n",
       "      <td>0.644829</td>\n",
       "      <td>0.653071</td>\n",
       "    </tr>\n",
       "  </tbody>\n",
       "</table>\n",
       "</div>"
      ],
      "text/plain": [
       "          best_result  tree_val_ens  tree_val_ens  tree_val_ens  tree_val_ens\n",
       "prec@5       0.446650      0.452605      0.447643      0.446650      0.452605\n",
       "1recal@5     0.867246      0.870968      0.866005      0.867246      0.870968\n",
       "NDCG@5       0.472116      0.479477      0.474829      0.472116      0.479477\n",
       "MAP@5        0.644829      0.653071      0.648310      0.644829      0.653071"
      ]
     },
     "execution_count": 52,
     "metadata": {},
     "output_type": "execute_result"
    }
   ],
   "source": [
    "netflix_ensemble_experiment(ml100k, create_list_cf(ml100k_shape)[1:5], list_ensemble, Ktrain=0.2, Kvalidation=0.1, verbose=0, maxiter=1)"
   ]
  },
  {
   "cell_type": "code",
   "execution_count": 53,
   "metadata": {
    "collapsed": false
   },
   "outputs": [
    {
     "data": {
      "text/html": [
       "<div>\n",
       "<table border=\"1\" class=\"dataframe\">\n",
       "  <thead>\n",
       "    <tr style=\"text-align: right;\">\n",
       "      <th></th>\n",
       "      <th>best_result</th>\n",
       "      <th>tree_val_ens</th>\n",
       "      <th>tree_val_ens</th>\n",
       "      <th>tree_val_ens</th>\n",
       "      <th>tree_val_ens</th>\n",
       "    </tr>\n",
       "  </thead>\n",
       "  <tbody>\n",
       "    <tr>\n",
       "      <th>prec@5</th>\n",
       "      <td>0.076686</td>\n",
       "      <td>0.078638</td>\n",
       "      <td>0.075323</td>\n",
       "      <td>0.077957</td>\n",
       "      <td>0.078638</td>\n",
       "    </tr>\n",
       "    <tr>\n",
       "      <th>1recal@5</th>\n",
       "      <td>0.285358</td>\n",
       "      <td>0.293530</td>\n",
       "      <td>0.287174</td>\n",
       "      <td>0.294211</td>\n",
       "      <td>0.293530</td>\n",
       "    </tr>\n",
       "    <tr>\n",
       "      <th>NDCG@5</th>\n",
       "      <td>0.083629</td>\n",
       "      <td>0.085524</td>\n",
       "      <td>0.082551</td>\n",
       "      <td>0.085350</td>\n",
       "      <td>0.085524</td>\n",
       "    </tr>\n",
       "    <tr>\n",
       "      <th>MAP@5</th>\n",
       "      <td>0.166548</td>\n",
       "      <td>0.171056</td>\n",
       "      <td>0.168206</td>\n",
       "      <td>0.172582</td>\n",
       "      <td>0.171056</td>\n",
       "    </tr>\n",
       "  </tbody>\n",
       "</table>\n",
       "</div>"
      ],
      "text/plain": [
       "          best_result  tree_val_ens  tree_val_ens  tree_val_ens  tree_val_ens\n",
       "prec@5       0.076686      0.078638      0.075323      0.077957      0.078638\n",
       "1recal@5     0.285358      0.293530      0.287174      0.294211      0.293530\n",
       "NDCG@5       0.083629      0.085524      0.082551      0.085350      0.085524\n",
       "MAP@5        0.166548      0.171056      0.168206      0.172582      0.171056"
      ]
     },
     "execution_count": 53,
     "metadata": {},
     "output_type": "execute_result"
    }
   ],
   "source": [
    "netflix_ensemble_experiment(epinion, create_list_cf(epinion_shape)[1:5], list_ensemble, Ktrain=0.1, Kvalidation=0.1, verbose=0, maxiter=1)"
   ]
  },
  {
   "cell_type": "code",
   "execution_count": 54,
   "metadata": {
    "collapsed": false
   },
   "outputs": [
    {
     "data": {
      "text/html": [
       "<div>\n",
       "<table border=\"1\" class=\"dataframe\">\n",
       "  <thead>\n",
       "    <tr style=\"text-align: right;\">\n",
       "      <th></th>\n",
       "      <th>best_result</th>\n",
       "      <th>tree_val_ens</th>\n",
       "      <th>tree_val_ens</th>\n",
       "      <th>tree_val_ens</th>\n",
       "      <th>tree_val_ens</th>\n",
       "    </tr>\n",
       "  </thead>\n",
       "  <tbody>\n",
       "    <tr>\n",
       "      <th>prec@5</th>\n",
       "      <td>0.126402</td>\n",
       "      <td>0.132168</td>\n",
       "      <td>0.132168</td>\n",
       "      <td>0.132168</td>\n",
       "      <td>0.132168</td>\n",
       "    </tr>\n",
       "    <tr>\n",
       "      <th>1recal@5</th>\n",
       "      <td>0.415210</td>\n",
       "      <td>0.433825</td>\n",
       "      <td>0.433825</td>\n",
       "      <td>0.433825</td>\n",
       "      <td>0.433825</td>\n",
       "    </tr>\n",
       "    <tr>\n",
       "      <th>NDCG@5</th>\n",
       "      <td>0.135165</td>\n",
       "      <td>0.140922</td>\n",
       "      <td>0.140922</td>\n",
       "      <td>0.140922</td>\n",
       "      <td>0.140922</td>\n",
       "    </tr>\n",
       "    <tr>\n",
       "      <th>MAP@5</th>\n",
       "      <td>0.246909</td>\n",
       "      <td>0.255909</td>\n",
       "      <td>0.255909</td>\n",
       "      <td>0.255909</td>\n",
       "      <td>0.255909</td>\n",
       "    </tr>\n",
       "  </tbody>\n",
       "</table>\n",
       "</div>"
      ],
      "text/plain": [
       "          best_result  tree_val_ens  tree_val_ens  tree_val_ens  tree_val_ens\n",
       "prec@5       0.126402      0.132168      0.132168      0.132168      0.132168\n",
       "1recal@5     0.415210      0.433825      0.433825      0.433825      0.433825\n",
       "NDCG@5       0.135165      0.140922      0.140922      0.140922      0.140922\n",
       "MAP@5        0.246909      0.255909      0.255909      0.255909      0.255909"
      ]
     },
     "execution_count": 54,
     "metadata": {},
     "output_type": "execute_result"
    }
   ],
   "source": [
    "netflix_ensemble_experiment(epinion, create_list_cf(epinion_shape)[1:5], list_ensemble, Ktrain=0.2, Kvalidation=0.1, verbose=0, maxiter=1)"
   ]
  },
  {
   "cell_type": "code",
   "execution_count": 55,
   "metadata": {
    "collapsed": false
   },
   "outputs": [
    {
     "data": {
      "text/html": [
       "<div>\n",
       "<table border=\"1\" class=\"dataframe\">\n",
       "  <thead>\n",
       "    <tr style=\"text-align: right;\">\n",
       "      <th></th>\n",
       "      <th>best_result</th>\n",
       "      <th>tree_val_ens</th>\n",
       "      <th>tree_val_ens</th>\n",
       "      <th>tree_val_ens</th>\n",
       "      <th>tree_val_ens</th>\n",
       "    </tr>\n",
       "  </thead>\n",
       "  <tbody>\n",
       "    <tr>\n",
       "      <th>prec@5</th>\n",
       "      <td>0.257091</td>\n",
       "      <td>0.261453</td>\n",
       "      <td>0.260407</td>\n",
       "      <td>0.261092</td>\n",
       "      <td>0.261092</td>\n",
       "    </tr>\n",
       "    <tr>\n",
       "      <th>1recal@5</th>\n",
       "      <td>0.648225</td>\n",
       "      <td>0.658137</td>\n",
       "      <td>0.658857</td>\n",
       "      <td>0.657055</td>\n",
       "      <td>0.657055</td>\n",
       "    </tr>\n",
       "    <tr>\n",
       "      <th>NDCG@5</th>\n",
       "      <td>0.276227</td>\n",
       "      <td>0.280478</td>\n",
       "      <td>0.279486</td>\n",
       "      <td>0.280263</td>\n",
       "      <td>0.280263</td>\n",
       "    </tr>\n",
       "    <tr>\n",
       "      <th>MAP@5</th>\n",
       "      <td>0.436236</td>\n",
       "      <td>0.442457</td>\n",
       "      <td>0.442252</td>\n",
       "      <td>0.442613</td>\n",
       "      <td>0.442613</td>\n",
       "    </tr>\n",
       "  </tbody>\n",
       "</table>\n",
       "</div>"
      ],
      "text/plain": [
       "          best_result  tree_val_ens  tree_val_ens  tree_val_ens  tree_val_ens\n",
       "prec@5       0.257091      0.261453      0.260407      0.261092      0.261092\n",
       "1recal@5     0.648225      0.658137      0.658857      0.657055      0.657055\n",
       "NDCG@5       0.276227      0.280478      0.279486      0.280263      0.280263\n",
       "MAP@5        0.436236      0.442457      0.442252      0.442613      0.442613"
      ]
     },
     "execution_count": 55,
     "metadata": {},
     "output_type": "execute_result"
    }
   ],
   "source": [
    "netflix_ensemble_experiment(ml1m, create_list_cf(ml1m_shape)[1:5], list_ensemble, Ktrain=0.1, Kvalidation=0.1, verbose=0, maxiter=1)"
   ]
  },
  {
   "cell_type": "code",
   "execution_count": 56,
   "metadata": {
    "collapsed": false
   },
   "outputs": [
    {
     "data": {
      "text/html": [
       "<div>\n",
       "<table border=\"1\" class=\"dataframe\">\n",
       "  <thead>\n",
       "    <tr style=\"text-align: right;\">\n",
       "      <th></th>\n",
       "      <th>best_result</th>\n",
       "      <th>tree_val_ens</th>\n",
       "      <th>tree_val_ens</th>\n",
       "      <th>tree_val_ens</th>\n",
       "      <th>tree_val_ens</th>\n",
       "    </tr>\n",
       "  </thead>\n",
       "  <tbody>\n",
       "    <tr>\n",
       "      <th>prec@5</th>\n",
       "      <td>0.398162</td>\n",
       "      <td>0.402054</td>\n",
       "      <td>0.402054</td>\n",
       "      <td>0.401261</td>\n",
       "      <td>0.402054</td>\n",
       "    </tr>\n",
       "    <tr>\n",
       "      <th>1recal@5</th>\n",
       "      <td>0.798522</td>\n",
       "      <td>0.812218</td>\n",
       "      <td>0.812218</td>\n",
       "      <td>0.806271</td>\n",
       "      <td>0.812218</td>\n",
       "    </tr>\n",
       "    <tr>\n",
       "      <th>NDCG@5</th>\n",
       "      <td>0.417878</td>\n",
       "      <td>0.422001</td>\n",
       "      <td>0.422001</td>\n",
       "      <td>0.422102</td>\n",
       "      <td>0.422001</td>\n",
       "    </tr>\n",
       "    <tr>\n",
       "      <th>MAP@5</th>\n",
       "      <td>0.576011</td>\n",
       "      <td>0.581980</td>\n",
       "      <td>0.581980</td>\n",
       "      <td>0.583496</td>\n",
       "      <td>0.581980</td>\n",
       "    </tr>\n",
       "  </tbody>\n",
       "</table>\n",
       "</div>"
      ],
      "text/plain": [
       "          best_result  tree_val_ens  tree_val_ens  tree_val_ens  tree_val_ens\n",
       "prec@5       0.398162      0.402054      0.402054      0.401261      0.402054\n",
       "1recal@5     0.798522      0.812218      0.812218      0.806271      0.812218\n",
       "NDCG@5       0.417878      0.422001      0.422001      0.422102      0.422001\n",
       "MAP@5        0.576011      0.581980      0.581980      0.583496      0.581980"
      ]
     },
     "execution_count": 56,
     "metadata": {},
     "output_type": "execute_result"
    }
   ],
   "source": [
    "netflix_ensemble_experiment(ml1m, create_list_cf(ml1m_shape)[1:5], list_ensemble, Ktrain=0.2, Kvalidation=0.1, verbose=0, maxiter=1)"
   ]
  },
  {
   "cell_type": "code",
   "execution_count": 57,
   "metadata": {
    "collapsed": false
   },
   "outputs": [
    {
     "data": {
      "text/html": [
       "<div>\n",
       "<table border=\"1\" class=\"dataframe\">\n",
       "  <thead>\n",
       "    <tr style=\"text-align: right;\">\n",
       "      <th></th>\n",
       "      <th>best_result</th>\n",
       "      <th>tree_val_ens</th>\n",
       "      <th>tree_val_ens</th>\n",
       "      <th>tree_val_ens</th>\n",
       "      <th>tree_val_ens</th>\n",
       "    </tr>\n",
       "  </thead>\n",
       "  <tbody>\n",
       "    <tr>\n",
       "      <th>prec@5</th>\n",
       "      <td>0.040818</td>\n",
       "      <td>0.042162</td>\n",
       "      <td>0.042162</td>\n",
       "      <td>0.042162</td>\n",
       "      <td>0.042162</td>\n",
       "    </tr>\n",
       "    <tr>\n",
       "      <th>1recal@5</th>\n",
       "      <td>0.157323</td>\n",
       "      <td>0.163759</td>\n",
       "      <td>0.163759</td>\n",
       "      <td>0.163759</td>\n",
       "      <td>0.163759</td>\n",
       "    </tr>\n",
       "    <tr>\n",
       "      <th>NDCG@5</th>\n",
       "      <td>0.045011</td>\n",
       "      <td>0.046524</td>\n",
       "      <td>0.046524</td>\n",
       "      <td>0.046524</td>\n",
       "      <td>0.046524</td>\n",
       "    </tr>\n",
       "    <tr>\n",
       "      <th>MAP@5</th>\n",
       "      <td>0.092162</td>\n",
       "      <td>0.095501</td>\n",
       "      <td>0.095501</td>\n",
       "      <td>0.095501</td>\n",
       "      <td>0.095501</td>\n",
       "    </tr>\n",
       "  </tbody>\n",
       "</table>\n",
       "</div>"
      ],
      "text/plain": [
       "          best_result  tree_val_ens  tree_val_ens  tree_val_ens  tree_val_ens\n",
       "prec@5       0.040818      0.042162      0.042162      0.042162      0.042162\n",
       "1recal@5     0.157323      0.163759      0.163759      0.163759      0.163759\n",
       "NDCG@5       0.045011      0.046524      0.046524      0.046524      0.046524\n",
       "MAP@5        0.092162      0.095501      0.095501      0.095501      0.095501"
      ]
     },
     "execution_count": 57,
     "metadata": {},
     "output_type": "execute_result"
    }
   ],
   "source": [
    "netflix_ensemble_experiment(slashdot, create_list_cf(slashdot_shape)[1:5], list_ensemble, Ktrain=0.1, Kvalidation=0.1, verbose=0, maxiter=1)"
   ]
  },
  {
   "cell_type": "code",
   "execution_count": 58,
   "metadata": {
    "collapsed": false
   },
   "outputs": [
    {
     "data": {
      "text/html": [
       "<div>\n",
       "<table border=\"1\" class=\"dataframe\">\n",
       "  <thead>\n",
       "    <tr style=\"text-align: right;\">\n",
       "      <th></th>\n",
       "      <th>best_result</th>\n",
       "      <th>tree_val_ens</th>\n",
       "      <th>tree_val_ens</th>\n",
       "      <th>tree_val_ens</th>\n",
       "      <th>tree_val_ens</th>\n",
       "    </tr>\n",
       "  </thead>\n",
       "  <tbody>\n",
       "    <tr>\n",
       "      <th>prec@5</th>\n",
       "      <td>0.073284</td>\n",
       "      <td>0.075715</td>\n",
       "      <td>0.075715</td>\n",
       "      <td>0.075715</td>\n",
       "      <td>0.075715</td>\n",
       "    </tr>\n",
       "    <tr>\n",
       "      <th>1recal@5</th>\n",
       "      <td>0.248427</td>\n",
       "      <td>0.258724</td>\n",
       "      <td>0.258724</td>\n",
       "      <td>0.258724</td>\n",
       "      <td>0.258724</td>\n",
       "    </tr>\n",
       "    <tr>\n",
       "      <th>NDCG@5</th>\n",
       "      <td>0.079060</td>\n",
       "      <td>0.082042</td>\n",
       "      <td>0.082042</td>\n",
       "      <td>0.082042</td>\n",
       "      <td>0.082042</td>\n",
       "    </tr>\n",
       "    <tr>\n",
       "      <th>MAP@5</th>\n",
       "      <td>0.147654</td>\n",
       "      <td>0.155032</td>\n",
       "      <td>0.155032</td>\n",
       "      <td>0.155032</td>\n",
       "      <td>0.155032</td>\n",
       "    </tr>\n",
       "  </tbody>\n",
       "</table>\n",
       "</div>"
      ],
      "text/plain": [
       "          best_result  tree_val_ens  tree_val_ens  tree_val_ens  tree_val_ens\n",
       "prec@5       0.073284      0.075715      0.075715      0.075715      0.075715\n",
       "1recal@5     0.248427      0.258724      0.258724      0.258724      0.258724\n",
       "NDCG@5       0.079060      0.082042      0.082042      0.082042      0.082042\n",
       "MAP@5        0.147654      0.155032      0.155032      0.155032      0.155032"
      ]
     },
     "execution_count": 58,
     "metadata": {},
     "output_type": "execute_result"
    }
   ],
   "source": [
    "netflix_ensemble_experiment(slashdot, create_list_cf(slashdot_shape)[1:5], list_ensemble, Ktrain=0.2, Kvalidation=0.1, verbose=0, maxiter=1)"
   ]
  }
 ],
 "metadata": {
  "kernelspec": {
   "display_name": "Python 3",
   "language": "python",
   "name": "python3"
  },
  "language_info": {
   "codemirror_mode": {
    "name": "ipython",
    "version": 3
   },
   "file_extension": ".py",
   "mimetype": "text/x-python",
   "name": "python",
   "nbconvert_exporter": "python",
   "pygments_lexer": "ipython3",
   "version": "3.4.3"
  }
 },
 "nbformat": 4,
 "nbformat_minor": 0
}
