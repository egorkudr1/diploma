{
 "cells": [
  {
   "cell_type": "code",
   "execution_count": 263,
   "metadata": {
    "collapsed": true
   },
   "outputs": [],
   "source": [
    "import numpy as np\n",
    "import pandas as pd\n",
    "import sklearn\n",
    "from scipy.sparse import coo_matrix, csc_matrix, csr_matrix\n",
    "from sklearn.cross_validation import  StratifiedKFold\n",
    "from sklearn.metrics import mean_absolute_error, mean_squared_error\n",
    "import sys"
   ]
  },
  {
   "cell_type": "code",
   "execution_count": 256,
   "metadata": {
    "collapsed": false
   },
   "outputs": [
    {
     "data": {
      "text/plain": [
       "<module 'ratingsmethod' from '/home/george/Documents/diploma/code/ratingsmethod.py'>"
      ]
     },
     "execution_count": 256,
     "metadata": {},
     "output_type": "execute_result"
    }
   ],
   "source": [
    "import imp\n",
    "import baseline\n",
    "import ratingsmethod\n",
    "imp.reload(baseline)\n",
    "imp.reload(ratingsmethod)"
   ]
  },
  {
   "cell_type": "code",
   "execution_count": 266,
   "metadata": {
    "collapsed": true
   },
   "outputs": [],
   "source": [
    "def cross_validation(kf, data, clf):\n",
    "    rmse_score = 0\n",
    "    mae_score = 0\n",
    "    for train_index, test_index in kf:\n",
    "        data_train, data_test = data[train_index], data[test_index]\n",
    "        cls.fit(data_train)\n",
    "        y_true = data_test[:, 2]\n",
    "        y_pred = cls.predict(data_test[:, :2])\n",
    "        rmse_score +=  mean_squared_error(y_true, y_pred)\n",
    "        mae_score += mean_absolute_error(y_true, y_pred)\n",
    "    rmse_score /= n_folds\n",
    "    mae_score /= n_folds\n",
    "    print(type(cls).__name__, \"RMSE\", rmse_score, \"MAE\", mae_score)\n",
    "    sys.stdout.flush()"
   ]
  },
  {
   "cell_type": "code",
   "execution_count": 236,
   "metadata": {
    "collapsed": false
   },
   "outputs": [],
   "source": [
    "movielens = pd.read_csv(\"ml-100k/u.data\", sep='\\t', header=None).ix[:, :2]\n",
    "movielens = movielens.as_matrix()"
   ]
  },
  {
   "cell_type": "code",
   "execution_count": 264,
   "metadata": {
    "collapsed": false
   },
   "outputs": [],
   "source": [
    "from sklearn.cross_validation import KFold\n",
    "\n",
    "n_folds = 5\n",
    "kf = StratifiedKFold(movielens[:, 0], n_folds=n_folds, shuffle=False, random_state=1)\n",
    "\n",
    "user_movie = [movielens[:, 0].max(), movielens[:, 1].max()]\n",
    "\n",
    "cls_list = [\n",
    "    baseline.AvrRating(user_movie, \"RMSE\"), \n",
    "    baseline.AvrUserRating(user_movie, \"RMSE\"),\n",
    "    baseline.AvrItemRating(user_movie, \"RMSE\"), \n",
    "#     baseline.AvrRating(user_movie, \"MAE\"), \n",
    "#     baseline.AvrUserRating(user_movie, \"MAE\"), \n",
    "#     baseline.AvrItemRating(user_movie, \"MAE\"), \n",
    "#     baseline.RandomRating(user_movie),\n",
    "    ratingsmethod.SVD_ALS(user_movie, N=20, K=10),\n",
    "    ratingsmethod.SVD_ALS(user_movie, N=20, K=15)\n",
    "]\n",
    "\n"
   ]
  },
  {
   "cell_type": "code",
   "execution_count": null,
   "metadata": {
    "collapsed": false
   },
   "outputs": [],
   "source": [
    "set_lambda_p = [0.1, 0.2, 0.3,  0.5, 1] \n",
    "set_lambda_q = [0.01, 0.001, 0.005, 0.1]\n",
    "set_K = [7, 10, 12, 15]\n",
    "#best params K = 12 lambda_p =  0.3 lambda_q = 0.01\n",
    "for K in set_K:\n",
    "    for lambda_p in set_lambda_p:\n",
    "        for lambda_q in set_lambda_q:\n",
    "            print(K, lambda_p, lambda_q)\n",
    "            cls = ratingsmethod.SVD_ALS(user_movie, lambda_p=lambda_p, lambda_q=lambda_q, K=K)\n",
    "            cross_validation(kf, movielens, cls)"
   ]
  },
  {
   "cell_type": "code",
   "execution_count": 267,
   "metadata": {
    "collapsed": false
   },
   "outputs": [
    {
     "name": "stdout",
     "output_type": "stream",
     "text": [
      "AvrRating RMSE 1.26720364367 MAE 0.944734783001\n",
      "AvrUserRating RMSE 1.08539443481 MAE 0.835008547005\n",
      "AvrItemRating RMSE 1.04721645613 MAE 0.816395576869\n",
      "SVD_ALS RMSE 1.14195975986 MAE 0.810755200179\n",
      "SVD_ALS RMSE 1.28503466032 MAE 0.860466470118\n"
     ]
    }
   ],
   "source": [
    "for i, cls in enumerate(cls_list):\n",
    "    cross_validation(kf, movielens, cls)"
   ]
  }
 ],
 "metadata": {
  "kernelspec": {
   "display_name": "Python 3",
   "language": "python",
   "name": "python3"
  },
  "language_info": {
   "codemirror_mode": {
    "name": "ipython",
    "version": 3
   },
   "file_extension": ".py",
   "mimetype": "text/x-python",
   "name": "python",
   "nbconvert_exporter": "python",
   "pygments_lexer": "ipython3",
   "version": "3.4.3"
  }
 },
 "nbformat": 4,
 "nbformat_minor": 0
}
