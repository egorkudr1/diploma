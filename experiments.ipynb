{
 "cells": [
  {
   "cell_type": "code",
   "execution_count": 63,
   "metadata": {
    "collapsed": true
   },
   "outputs": [],
   "source": [
    "import numpy as np\n",
    "import pandas as pd\n",
    "import sklearn\n",
    "from scipy.sparse import coo_matrix, csc_matrix, csr_matrix\n",
    "from sklearn.cross_validation import  StratifiedKFold\n",
    "from sklearn.metrics import mean_absolute_error, mean_squared_error"
   ]
  },
  {
   "cell_type": "code",
   "execution_count": 248,
   "metadata": {
    "collapsed": false
   },
   "outputs": [
    {
     "data": {
      "text/plain": [
       "<module 'baseline' from '/home/george/Documents/diploma/code/baseline.py'>"
      ]
     },
     "execution_count": 248,
     "metadata": {},
     "output_type": "execute_result"
    }
   ],
   "source": [
    "import imp\n",
    "import baseline\n",
    "imp.reload(baseline)"
   ]
  },
  {
   "cell_type": "code",
   "execution_count": 236,
   "metadata": {
    "collapsed": false
   },
   "outputs": [],
   "source": [
    "movielens = pd.read_csv(\"ml-100k/u.data\", sep='\\t', header=None).ix[:, :2]\n",
    "movielens = movielens.as_matrix()"
   ]
  },
  {
   "cell_type": "code",
   "execution_count": 249,
   "metadata": {
    "collapsed": false
   },
   "outputs": [
    {
     "name": "stdout",
     "output_type": "stream",
     "text": [
      "AvrRating RMSE 1.26720364367 MAE 0.944734783001\n",
      "AvrUserRating RMSE 1.08539443481 MAE 0.835008547005\n",
      "AvrItemRating RMSE 1.0472171394 MAE 0.816396550535\n",
      "AvrRating RMSE 1.48821711879 MAE 0.89419009858\n",
      "AvrUserRating RMSE 1.20898871824 MAE 0.793462537059\n",
      "AvrItemRating RMSE 1.1449862891 MAE 0.781465325044\n",
      "RandomRating RMSE 3.53718965711 MAE 1.50645408724\n"
     ]
    }
   ],
   "source": [
    "from sklearn.cross_validation import KFold\n",
    "\n",
    "n_folds = 5\n",
    "kf = StratifiedKFold(movielens[:, 0], n_folds=n_folds, shuffle=False, random_state=1)\n",
    "\n",
    "cls_list = [baseline.AvrRating(\"RMSE\"), baseline.AvrUserRating(\"RMSE\"), baseline.AvrItemRating(\"RMSE\"), \n",
    "      baseline.AvrRating(\"MAE\"), baseline.AvrUserRating(\"MAE\"), \n",
    "      baseline.AvrItemRating(\"MAE\"), baseline.RandomRating()]\n",
    "\n",
    "for i, cls in enumerate(cls_list):\n",
    "    rmse_score = 0\n",
    "    mae_score = 0\n",
    "    for train_index, test_index in kf:\n",
    "        data_train, data_test = movielens[train_index], movielens[test_index]\n",
    "        cls.fit(data_train)\n",
    "        y_true = data_test[:, 2]\n",
    "        y_pred = cls.predict(data_test[:, :2])\n",
    "        rmse_score +=  mean_squared_error(y_true, y_pred)\n",
    "        mae_score += mean_absolute_error(y_true, y_pred)\n",
    "    rmse_score /= n_folds\n",
    "    mae_score /= n_folds\n",
    "    print(type(cls).__name__, \"RMSE\", rmse_score, \"MAE\", mae_score)"
   ]
  }
 ],
 "metadata": {
  "kernelspec": {
   "display_name": "Python 3",
   "language": "python",
   "name": "python3"
  },
  "language_info": {
   "codemirror_mode": {
    "name": "ipython",
    "version": 3
   },
   "file_extension": ".py",
   "mimetype": "text/x-python",
   "name": "python",
   "nbconvert_exporter": "python",
   "pygments_lexer": "ipython3",
   "version": "3.4.3"
  }
 },
 "nbformat": 4,
 "nbformat_minor": 0
}
