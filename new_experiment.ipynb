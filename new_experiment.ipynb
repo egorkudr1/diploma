{
 "cells": [
  {
   "cell_type": "code",
   "execution_count": 1,
   "metadata": {
    "collapsed": false
   },
   "outputs": [],
   "source": [
    "import numpy as np\n",
    "import pandas as pd\n",
    "from scipy.io import loadmat, mmread"
   ]
  },
  {
   "cell_type": "code",
   "execution_count": 2,
   "metadata": {
    "collapsed": false
   },
   "outputs": [
    {
     "data": {
      "text/plain": [
       "<module 'rankingmeasure' from '/home/george/Documents/diploma/code/rankingmeasure.py'>"
      ]
     },
     "execution_count": 2,
     "metadata": {},
     "output_type": "execute_result"
    }
   ],
   "source": [
    "import rankingmethod\n",
    "import rankingmeasure\n",
    "import imp\n",
    "imp.reload(rankingmethod)\n",
    "imp.reload(rankingmeasure)"
   ]
  },
  {
   "cell_type": "code",
   "execution_count": 3,
   "metadata": {
    "collapsed": true
   },
   "outputs": [],
   "source": [
    "tmp = mmread(\"../datasets/epinions_original/EP25_UPL5_test.mtx\")\n",
    "test = np.array(list(zip(tmp.row, tmp.col)))\n",
    "tmp = mmread(\"../datasets/epinions_original/EP25_UPL5_train.mtx\")\n",
    "train = np.array(list(zip(tmp.row, tmp.col)))\n",
    "user_item = [np.max()]"
   ]
  },
  {
   "cell_type": "code",
   "execution_count": 4,
   "metadata": {
    "collapsed": false
   },
   "outputs": [
    {
     "name": "stdout",
     "output_type": "stream",
     "text": [
      "8121\n",
      "4718\n",
      "34928\n",
      "4718\n"
     ]
    }
   ],
   "source": [
    "\n",
    "print(np.unique(train[:,1]).shape[0])\n",
    "print(np.unique(train[:,0]).shape[0])\n",
    "print(np.unique(test[:, 1]).shape[0])\n",
    "print(np.unique(test[:, 0]).shape[0])"
   ]
  },
  {
   "cell_type": "code",
   "execution_count": 208,
   "metadata": {
    "collapsed": true
   },
   "outputs": [],
   "source": [
    "# b = loadmat(\"../datasets/epinions/trustnetwork.mat\")\n",
    "# data = np.array(b[\"trustnetwork\"])"
   ]
  },
  {
   "cell_type": "code",
   "execution_count": 196,
   "metadata": {
    "collapsed": false
   },
   "outputs": [],
   "source": [
    "data = pd.read_csv(\"../datasets/soc-Epinions1.txt\", sep='\\t', header=4)\n",
    "data = data.as_matrix()"
   ]
  },
  {
   "cell_type": "code",
   "execution_count": 303,
   "metadata": {
    "collapsed": true
   },
   "outputs": [],
   "source": [
    "#создание epinion удалив от туда пользователей, у которых количество отзывов меньше 25\n",
    "#Также проводится переиндексанция пользователей и предметов"
   ]
  },
  {
   "cell_type": "code",
   "execution_count": 8,
   "metadata": {
    "collapsed": false
   },
   "outputs": [],
   "source": [
    "def create_listarray(data):\n",
    "    list_good_user = list(np.where(np.bincount(data[:, 0]) > 25)[0])\n",
    "    set_good_user = set(list_good_user)\n",
    "    epinion = []\n",
    "    for i,j in data:\n",
    "        if i in set_good_user:\n",
    "            epinion.append([i, j])\n",
    "    epinion = np.array(epinion)\n",
    "    for new_u, u in enumerate(np.sort(list_good_user)):\n",
    "        epinion[epinion[:, 0] == u, 0] = new_u\n",
    "    print(epinion.shape)\n",
    "    list_good_item = np.unique(epinion[:, 1])\n",
    "    for new_i, i in enumerate(np.sort(list_good_item)):\n",
    "        epinion[epinion[:, 1] == i, 1] = new_i\n",
    "    user_item = np.max(epinion, axis=0) + 1\n",
    "    return epinion, user_item"
   ]
  },
  {
   "cell_type": "code",
   "execution_count": 149,
   "metadata": {
    "collapsed": true
   },
   "outputs": [],
   "source": [
    "def givenK_train_test(data, K):\n",
    "    xlist = []\n",
    "    for u in np.sort(np.unique(data[:, 0])):\n",
    "        xlist.append(data[data[:, 0] == u,  1])\n",
    "    \n",
    "    \n",
    "    train = []\n",
    "    test = []\n",
    "    for x in xlist:\n",
    "        train_ind = np.random.choice(x.shape[0], K, replace=False)\n",
    "        tmp = np.ones(x.shape[0])\n",
    "        tmp[train_ind] = 0\n",
    "        test_ind = np.arange(x.shape[0])[tmp == 1]\n",
    "        \n",
    "        train.append(x[train_ind])\n",
    "        test.append(x[test_ind])\n",
    "        \n",
    "    return (train, test, xlist)"
   ]
  },
  {
   "cell_type": "code",
   "execution_count": 293,
   "metadata": {
    "collapsed": false
   },
   "outputs": [],
   "source": [
    "train, test, traintest = givenK_train_test(epinion, 5)"
   ]
  },
  {
   "cell_type": "code",
   "execution_count": 15,
   "metadata": {
    "collapsed": false
   },
   "outputs": [
    {
     "ename": "NameError",
     "evalue": "name 'user_item' is not defined",
     "output_type": "error",
     "traceback": [
      "\u001b[1;31m---------------------------------------------------------------------------\u001b[0m",
      "\u001b[1;31mNameError\u001b[0m                                 Traceback (most recent call last)",
      "\u001b[1;32m<ipython-input-15-4b25c96b6aa7>\u001b[0m in \u001b[0;36m<module>\u001b[1;34m()\u001b[0m\n\u001b[1;32m----> 1\u001b[1;33m \u001b[0mpoprec\u001b[0m \u001b[1;33m=\u001b[0m \u001b[0mrankingmethod\u001b[0m\u001b[1;33m.\u001b[0m\u001b[0mPopRec\u001b[0m\u001b[1;33m(\u001b[0m\u001b[0muser_item\u001b[0m\u001b[1;33m)\u001b[0m\u001b[1;33m\u001b[0m\u001b[0m\n\u001b[0m\u001b[0;32m      2\u001b[0m \u001b[0mpoprec\u001b[0m\u001b[1;33m.\u001b[0m\u001b[0mfit\u001b[0m\u001b[1;33m(\u001b[0m\u001b[0mtrain\u001b[0m\u001b[1;33m)\u001b[0m\u001b[1;33m\u001b[0m\u001b[0m\n\u001b[0;32m      3\u001b[0m \u001b[0mtop\u001b[0m \u001b[1;33m=\u001b[0m \u001b[0mrankmethod\u001b[0m\u001b[1;33m.\u001b[0m\u001b[0mget_list\u001b[0m\u001b[1;33m(\u001b[0m\u001b[1;36m0\u001b[0m\u001b[1;33m)\u001b[0m\u001b[1;33m[\u001b[0m\u001b[1;33m:\u001b[0m\u001b[1;36m3\u001b[0m\u001b[1;33m]\u001b[0m\u001b[1;33m\u001b[0m\u001b[0m\n",
      "\u001b[1;31mNameError\u001b[0m: name 'user_item' is not defined"
     ]
    }
   ],
   "source": [
    "poprec = rankingmethod.PopRec(user_item)\n",
    "poprec.fit(train)\n",
    "top = rankmethod.get_list(0)[:3]"
   ]
  },
  {
   "cell_type": "code",
   "execution_count": 324,
   "metadata": {
    "collapsed": true
   },
   "outputs": [],
   "source": [
    "poprec.fit(train)"
   ]
  },
  {
   "cell_type": "code",
   "execution_count": 363,
   "metadata": {
    "collapsed": false
   },
   "outputs": [
    {
     "name": "stdout",
     "output_type": "stream",
     "text": [
      "precision5 0.00614107883817\n",
      "1-call5 0.00459197786999\n",
      "MRR 0.027050101239855347\n"
     ]
    }
   ],
   "source": [
    "randomrec = rankingmethod.RandomRec(user_item)\n",
    "randomrec.fit(train)\n",
    "all_measures(train, test, randomrec, True, top)"
   ]
  },
  {
   "cell_type": "code",
   "execution_count": 327,
   "metadata": {
    "collapsed": false
   },
   "outputs": [
    {
     "name": "stdout",
     "output_type": "stream",
     "text": [
      "precision5 0.0665006915629\n",
      "1-call5 0.0665006915629\n",
      "MRR 0.13060863758010338\n"
     ]
    }
   ],
   "source": [
    "all_measures(train, test, poprec, True, top)"
   ]
  },
  {
   "cell_type": "code",
   "execution_count": 320,
   "metadata": {
    "collapsed": true
   },
   "outputs": [],
   "source": [
    "def all_measures(train, test, method, skip_train=False, top=None):\n",
    "    print(\"precision5\", rankingmeasure.get_prec_K(5, train, test, \n",
    "            method, skip_train=skip_train, top=top))\n",
    "    print(\"1-call5\", rankingmeasure.get_prec_K(5, train, test, \n",
    "            method, skip_train=skip_train, top=top))\n",
    "    print(\"MRR\", rankingmeasure.get_MRR(train, test, \n",
    "            method, skip_train=skip_train, top=top))"
   ]
  },
  {
   "cell_type": "code",
   "execution_count": 345,
   "metadata": {
    "collapsed": false
   },
   "outputs": [
    {
     "name": "stdout",
     "output_type": "stream",
     "text": [
      "10 0.001 0.01\n",
      "0.0068061377633100405\n",
      "10 0.001 0.1\n",
      "0.008031961359121426\n",
      "10 0.001 0.5\n",
      "0.005912269091311202\n",
      "10 0.005 0.01\n",
      "0.007815140434096543\n",
      "10 0.005 0.1\n",
      "0.00652022706541012\n",
      "10 0.005 0.5\n",
      "0.006532552664074765\n",
      "10 0.01 0.01\n",
      "0.007028481810001253\n",
      "10 0.01 0.1\n",
      "0.005199687139427464\n",
      "10 0.01 0.5\n",
      "0.00642130218487009\n",
      "10 0.05 0.01\n",
      "0.007314500601830544\n",
      "10 0.05 0.1\n",
      "0.00563555140338767\n",
      "10 0.05 0.5\n",
      "0.005847528094546522\n",
      "10 0.1 0.01\n",
      "0.008851060117673922\n",
      "10 0.1 0.1\n",
      "0.008597647640724496\n",
      "10 0.1 0.5\n",
      "0.007773293622440457\n",
      "5 0.001 0.01\n",
      "0.008755247464899283\n",
      "5 0.001 0.1\n",
      "0.010599960371667312\n",
      "5 0.001 0.5\n",
      "0.006476902717603026\n",
      "5 0.005 0.01\n",
      "0.010910411353978392\n",
      "5 0.005 0.1\n",
      "0.005833571238977291\n",
      "5 0.005 0.5\n",
      "0.008890794054437025\n",
      "5 0.01 0.01\n",
      "0.015242684443990519\n",
      "5 0.01 0.1\n",
      "0.006276795759708992\n",
      "5 0.01 0.5\n",
      "0.005705023945597651\n",
      "5 0.05 0.01\n",
      "0.022483016113061575\n",
      "5 0.05 0.1\n",
      "0.005442549602997411\n",
      "5 0.05 0.5\n",
      "0.008115720609231233\n",
      "5 0.1 0.01\n",
      "0.019875807579590635\n",
      "5 0.1 0.1\n",
      "0.009115952585898184\n",
      "5 0.1 0.5\n",
      "0.01036981495442007\n",
      "7 0.001 0.01\n",
      "0.007427507381447329\n",
      "7 0.001 0.1\n",
      "0.006712409530131095\n",
      "7 0.001 0.5\n",
      "0.005841594568210488\n",
      "7 0.005 0.01\n",
      "0.008750732881106314\n",
      "7 0.005 0.1\n",
      "0.004645664024140565\n",
      "7 0.005 0.5\n",
      "0.006549209612480792\n",
      "7 0.01 0.01\n",
      "0.008098006672166624\n",
      "7 0.01 0.1\n",
      "0.005679469175664708\n",
      "7 0.01 0.5\n",
      "0.006036138591575874\n",
      "7 0.05 0.01\n",
      "0.01589745172282097\n",
      "7 0.05 0.1\n",
      "0.005550056937874966\n",
      "7 0.05 0.5\n",
      "0.007846277475108871\n",
      "7 0.1 0.01\n",
      "0.010463221267839138\n",
      "7 0.1 0.1\n",
      "0.005493075686058381\n",
      "7 0.1 0.5\n",
      "0.005212813558535681\n",
      "12 0.001 0.01\n",
      "0.007124526677733412\n",
      "12 0.001 0.1\n",
      "0.007793471405163253\n",
      "12 0.001 0.5\n",
      "0.005809110349167554\n",
      "12 0.005 0.01\n",
      "0.006915724635532617\n",
      "12 0.005 0.1\n"
     ]
    },
    {
     "ename": "KeyboardInterrupt",
     "evalue": "",
     "output_type": "error",
     "traceback": [
      "\u001b[1;31m---------------------------------------------------------------------------\u001b[0m",
      "\u001b[1;31mKeyboardInterrupt\u001b[0m                         Traceback (most recent call last)",
      "\u001b[1;32m<ipython-input-345-89cdc8df1767>\u001b[0m in \u001b[0;36m<module>\u001b[1;34m()\u001b[0m\n\u001b[0;32m     10\u001b[0m             \u001b[0mprint\u001b[0m\u001b[1;33m(\u001b[0m\u001b[0mK\u001b[0m\u001b[1;33m,\u001b[0m \u001b[0mlrate\u001b[0m\u001b[1;33m,\u001b[0m \u001b[0mreg\u001b[0m\u001b[1;33m)\u001b[0m\u001b[1;33m\u001b[0m\u001b[0m\n\u001b[0;32m     11\u001b[0m             print(rankingmeasure.get_MRR(train, test, \n\u001b[1;32m---> 12\u001b[1;33m             climf, skip_train=False, top=top))\n\u001b[0m",
      "\u001b[1;32m/home/george/Documents/diploma/code/rankingmeasure.py\u001b[0m in \u001b[0;36mget_MRR\u001b[1;34m(train, test, cls, skip_train, top, skip_local_top)\u001b[0m\n\u001b[0;32m     71\u001b[0m     \u001b[1;32mfor\u001b[0m \u001b[0mu\u001b[0m\u001b[1;33m,\u001b[0m \u001b[1;33m(\u001b[0m\u001b[0mtest_cur\u001b[0m\u001b[1;33m,\u001b[0m \u001b[0mtrain_cur\u001b[0m\u001b[1;33m)\u001b[0m \u001b[1;32min\u001b[0m \u001b[0menumerate\u001b[0m\u001b[1;33m(\u001b[0m\u001b[0mzip\u001b[0m\u001b[1;33m(\u001b[0m\u001b[0mtest\u001b[0m\u001b[1;33m,\u001b[0m \u001b[0mtrain\u001b[0m\u001b[1;33m)\u001b[0m\u001b[1;33m)\u001b[0m\u001b[1;33m:\u001b[0m\u001b[1;33m\u001b[0m\u001b[0m\n\u001b[0;32m     72\u001b[0m         \u001b[0mulist\u001b[0m \u001b[1;33m=\u001b[0m \u001b[0mcls\u001b[0m\u001b[1;33m.\u001b[0m\u001b[0mget_list\u001b[0m\u001b[1;33m(\u001b[0m\u001b[0mu\u001b[0m\u001b[1;33m)\u001b[0m\u001b[1;33m\u001b[0m\u001b[0m\n\u001b[1;32m---> 73\u001b[1;33m         \u001b[0mlocres\u001b[0m \u001b[1;33m=\u001b[0m \u001b[0mget_RR\u001b[0m\u001b[1;33m(\u001b[0m\u001b[0mtrain_cur\u001b[0m\u001b[1;33m,\u001b[0m \u001b[0mtest_cur\u001b[0m\u001b[1;33m,\u001b[0m \u001b[0mulist\u001b[0m\u001b[1;33m,\u001b[0m \u001b[0mskip_train\u001b[0m\u001b[1;33m,\u001b[0m \u001b[0mtop\u001b[0m\u001b[1;33m,\u001b[0m \u001b[0mskip_local_top\u001b[0m\u001b[1;33m)\u001b[0m\u001b[1;33m\u001b[0m\u001b[0m\n\u001b[0m\u001b[0;32m     74\u001b[0m         \u001b[0mres\u001b[0m \u001b[1;33m+=\u001b[0m \u001b[0mlocres\u001b[0m\u001b[1;33m\u001b[0m\u001b[0m\n\u001b[0;32m     75\u001b[0m     \u001b[0mres\u001b[0m \u001b[1;33m/=\u001b[0m \u001b[0mlen\u001b[0m\u001b[1;33m(\u001b[0m\u001b[0mtest\u001b[0m\u001b[1;33m)\u001b[0m\u001b[1;33m\u001b[0m\u001b[0m\n",
      "\u001b[1;32m/home/george/Documents/diploma/code/rankingmeasure.py\u001b[0m in \u001b[0;36mget_RR\u001b[1;34m(train, test, ulist, skip_train, top, skip_local_top)\u001b[0m\n\u001b[0;32m     60\u001b[0m         \u001b[1;32mif\u001b[0m \u001b[0mtop\u001b[0m \u001b[1;32mis\u001b[0m \u001b[1;32mnot\u001b[0m \u001b[1;32mNone\u001b[0m \u001b[1;32mand\u001b[0m \u001b[0mitem\u001b[0m \u001b[1;32min\u001b[0m \u001b[0mtop\u001b[0m\u001b[1;33m:\u001b[0m\u001b[1;33m\u001b[0m\u001b[0m\n\u001b[0;32m     61\u001b[0m             \u001b[1;32mcontinue\u001b[0m\u001b[1;33m\u001b[0m\u001b[0m\n\u001b[1;32m---> 62\u001b[1;33m         \u001b[1;32mif\u001b[0m \u001b[0mitem\u001b[0m \u001b[1;32min\u001b[0m \u001b[0mtest\u001b[0m\u001b[1;33m:\u001b[0m\u001b[1;33m\u001b[0m\u001b[0m\n\u001b[0m\u001b[0;32m     63\u001b[0m             \u001b[1;32mreturn\u001b[0m \u001b[1;36m1\u001b[0m \u001b[1;33m/\u001b[0m \u001b[1;33m(\u001b[0m\u001b[0mrank\u001b[0m \u001b[1;33m+\u001b[0m \u001b[1;36m1\u001b[0m\u001b[1;33m)\u001b[0m\u001b[1;33m\u001b[0m\u001b[0m\n\u001b[0;32m     64\u001b[0m         \u001b[1;32mif\u001b[0m \u001b[1;32mnot\u001b[0m \u001b[0mskip_train\u001b[0m \u001b[1;32mand\u001b[0m \u001b[0mitem\u001b[0m \u001b[1;32min\u001b[0m \u001b[0mtrain\u001b[0m\u001b[1;33m:\u001b[0m\u001b[1;33m\u001b[0m\u001b[0m\n",
      "\u001b[1;31mKeyboardInterrupt\u001b[0m: "
     ]
    }
   ],
   "source": [
    "list_reg = [0.01, 0.1 ,0.5]\n",
    "list_lrate = [0.001, 0.005, 0.01, 0.05, 0.1 ]\n",
    "list_K = [10, 5, 7, 12, 15]\n",
    "\n",
    "for K in list_K:\n",
    "    for lrate in list_lrate:\n",
    "        for reg in list_reg:\n",
    "            climf = rankingmethod.CLiMF(user_item,K=K, reg=reg, lrate=lrate, verbose=0, maxiter=100)\n",
    "            climf.fit(train)\n",
    "            print(K, lrate, reg)\n",
    "            print(rankingmeasure.get_MRR(train, test, \n",
    "            climf, skip_train=False, top=top))"
   ]
  },
  {
   "cell_type": "code",
   "execution_count": 359,
   "metadata": {
    "collapsed": false
   },
   "outputs": [
    {
     "name": "stdout",
     "output_type": "stream",
     "text": [
      "[0 1 2 3 4]\n",
      "None\n",
      "[3 2 4 0 1]\n"
     ]
    }
   ],
   "source": [
    "a = np.arange(5)\n",
    "print(a)\n",
    "print(np.random.shuffle(a))\n",
    "print(a)"
   ]
  },
  {
   "cell_type": "code",
   "execution_count": 340,
   "metadata": {
    "collapsed": false
   },
   "outputs": [
    {
     "name": "stdout",
     "output_type": "stream",
     "text": [
      "precision5 0.00110650069156\n",
      "1-call5 0.00110650069156\n",
      "MRR 0.007748599151933581\n"
     ]
    }
   ],
   "source": [
    "all_measures(train, test, climf, True, top)"
   ]
  },
  {
   "cell_type": "code",
   "execution_count": null,
   "metadata": {
    "collapsed": true
   },
   "outputs": [],
   "source": []
  }
 ],
 "metadata": {
  "kernelspec": {
   "display_name": "Python 3",
   "language": "python",
   "name": "python3"
  },
  "language_info": {
   "codemirror_mode": {
    "name": "ipython",
    "version": 3
   },
   "file_extension": ".py",
   "mimetype": "text/x-python",
   "name": "python",
   "nbconvert_exporter": "python",
   "pygments_lexer": "ipython3",
   "version": "3.4.3"
  }
 },
 "nbformat": 4,
 "nbformat_minor": 0
}
