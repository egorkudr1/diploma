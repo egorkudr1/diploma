{
 "cells": [
  {
   "cell_type": "code",
   "execution_count": 1,
   "metadata": {
    "collapsed": true
   },
   "outputs": [],
   "source": [
    "import numpy as np\n",
    "import pandas as pd"
   ]
  },
  {
   "cell_type": "code",
   "execution_count": 2,
   "metadata": {
    "collapsed": true
   },
   "outputs": [],
   "source": [
    "data = pd.read_csv(\"../datasets/soc-Epinions1.txt\", sep='\\t', header=4)\n",
    "data = data.as_matrix()"
   ]
  },
  {
   "cell_type": "code",
   "execution_count": 59,
   "metadata": {
    "collapsed": true
   },
   "outputs": [],
   "source": [
    "#создание epinion удалив от туда пользователей, у которых количество отзывов меньше 25"
   ]
  },
  {
   "cell_type": "code",
   "execution_count": 4,
   "metadata": {
    "collapsed": false
   },
   "outputs": [],
   "source": [
    "list_good_user = list(np.where(np.bincount(data[:, 0]) > 24)[0])\n",
    "set_good_user = set(list_good_user)\n",
    "epinion = []\n",
    "for i,j in data:\n",
    "    if i in set_good_user:\n",
    "        epinion.append([i, j])\n",
    "epinion = np.array(epinion)\n",
    "for new_u, u in enumerate(list_good_user):\n",
    "    epinion[epinion[:, 0] == u, 0] = new_u"
   ]
  },
  {
   "cell_type": "code",
   "execution_count": 6,
   "metadata": {
    "collapsed": true
   },
   "outputs": [],
   "source": [
    "def givenK_train_test(data, K):\n",
    "    xlist = []\n",
    "    for u in np.unique(data[:, 0]):\n",
    "        xlist.append(data[data[:, 0] == u,  1])\n",
    "    \n",
    "    \n",
    "    train = []\n",
    "    test = []\n",
    "    for x in xlist:\n",
    "        train_ind = np.random.choice(x.shape[0], K, replace=False)\n",
    "        tmp = np.ones(x.shape[0])\n",
    "        tmp[train_ind] = 0\n",
    "        test_ind = np.arange(x.shape[0])[tmp == 1]\n",
    "        \n",
    "        train.append(x[train_ind])\n",
    "        test.append(x[test_ind])\n",
    "        \n",
    "    return (train, test, xlist)"
   ]
  },
  {
   "cell_type": "code",
   "execution_count": 107,
   "metadata": {
    "collapsed": false
   },
   "outputs": [],
   "source": [
    "def get_prec_K(K, train, test,  cls,  skip_train=False):\n",
    "    res = 0\n",
    "    for u, (test_cur, train_cur) in enumerate(zip(test, train)):\n",
    "        ulist = cls.get_list(u)\n",
    "        if  skip_train:\n",
    "            mask = np.in1d(ulist, train_cur)\n",
    "            ulist = ulist[~mask]\n",
    "        \n",
    "        mask = np.in1d(ulist[:K], test_cur)\n",
    "        if not skip_train:\n",
    "            mask2 = np.in1d(ulist[:K], train_cur)\n",
    "            mask = np.logical_or(mask, mask2)\n",
    "        \n",
    "        if u == 0:\n",
    "            print(test_cur)\n",
    "            print(train_cur)\n",
    "            print(ulist[:K + train_cur.shape[0]])\n",
    "            print(mask)\n",
    "            print(np.mean(mask))\n",
    "        \n",
    "        res += np.mean(mask)\n",
    "        \n",
    "    res /= len(test)\n",
    "    return res\n",
    "\n",
    "\n",
    "def get_one_recal_K(K, train, test,  cls,  skip_train=False):\n",
    "    res = 0\n",
    "    for u, (test_cur, train_cur) in enumerate(zip(test, train)):\n",
    "        ulist = cls.get_list(u)\n",
    "        if  skip_train:\n",
    "            mask = np.in1d(ulist, train_cur)\n",
    "            ulist = ulist[~mask]\n",
    "        mask = np.in1d(ulist[:K], test_cur)\n",
    "        if not skip_train:\n",
    "            mask2 = np.in1d(ulist[:K], train_cur)\n",
    "            mask = np.logical_or(mask, mask2)\n",
    "        res += int(True in mask)\n",
    "        \n",
    "    res /= len(test)\n",
    "    return res\n",
    "\n",
    "\n",
    "def get_RR(train, test, ulist, skip_train=False):\n",
    "    for rank, item in enumerate(ulist):\n",
    "        if item in test:\n",
    "            return 1 / (rank + 1)\n",
    "        if not skip_train and item in train:\n",
    "            return 1 / (rank  + 1)\n",
    "    return 1/ulist.shape[0]\n",
    "\n",
    "\n",
    "def get_MRR(train, test,  cls, skip_train=False):\n",
    "    res = 0\n",
    "    for u, (test_cur, train_cur) in enumerate(zip(test, train)):\n",
    "        ulist = cls.get_list(u)\n",
    "        res += get_RR(train_cur, test_cur, ulist, skip_train)\n",
    "    res /= len(test)\n",
    "    return res\n",
    "        "
   ]
  },
  {
   "cell_type": "code",
   "execution_count": 108,
   "metadata": {
    "collapsed": false
   },
   "outputs": [],
   "source": [
    "class PopRec:\n",
    "    def __init__(self):\n",
    "        pass\n",
    "\n",
    "    \n",
    "    def fit(self, data):\n",
    "        votes = np.bincount(np.array(data).ravel())\n",
    "        self.most_pop = np.argsort(-votes)\n",
    "        \n",
    "        \n",
    "    def get_list(self, u):\n",
    "        return self.most_pop"
   ]
  },
  {
   "cell_type": "code",
   "execution_count": 97,
   "metadata": {
    "collapsed": false
   },
   "outputs": [],
   "source": [
    "train, test, traintest = givenK_train_test(epinion, 5)"
   ]
  },
  {
   "cell_type": "code",
   "execution_count": 98,
   "metadata": {
    "collapsed": false
   },
   "outputs": [],
   "source": [
    "rankmethod = PopRec()\n",
    "rankmethod.fit(train)"
   ]
  },
  {
   "cell_type": "code",
   "execution_count": 99,
   "metadata": {
    "collapsed": false
   },
   "outputs": [
    {
     "name": "stdout",
     "output_type": "stream",
     "text": [
      "[  5   7   8   9  10  11  12  13  14  15  16  17  18  19  20  21  22  23\n",
      "  24  25  26  28  29  30  31  32  33  34  35  36  37  38  39  40  42  43\n",
      "  44  45  46  47  48  49  50  51  52  53  54  55  56  58  59  60  61  62\n",
      "  63  64  65  66  67  68  69  70  71  72  73  74  75  76  77  78  79  80\n",
      "  81  82  83  84  85  86  88  89  90  91  92  93  94  95  96  97  98  99\n",
      " 100 101 102 103 104 105 106 107 108 109 110 111 112 113 114 115 116 117\n",
      " 118 119 120 121 122 123 124 125 126 127 128 129 131 132 133 134 135 136\n",
      " 137 138 139 140 141 142 799]\n",
      "[ 87  41  57 130  27]\n",
      "[  18  136  143 1179  790  737 1719  118   34   40]\n",
      "[ True  True False False False]\n",
      "0.4\n",
      "0.209692206942\n"
     ]
    }
   ],
   "source": [
    "print(get_prec_K(5, train, test, rankmethod, skip_train=False))"
   ]
  },
  {
   "cell_type": "code",
   "execution_count": 100,
   "metadata": {
    "collapsed": false
   },
   "outputs": [
    {
     "name": "stdout",
     "output_type": "stream",
     "text": [
      "[  5   7   8   9  10  11  12  13  14  15  16  17  18  19  20  21  22  23\n",
      "  24  25  26  28  29  30  31  32  33  34  35  36  37  38  39  40  42  43\n",
      "  44  45  46  47  48  49  50  51  52  53  54  55  56  58  59  60  61  62\n",
      "  63  64  65  66  67  68  69  70  71  72  73  74  75  76  77  78  79  80\n",
      "  81  82  83  84  85  86  88  89  90  91  92  93  94  95  96  97  98  99\n",
      " 100 101 102 103 104 105 106 107 108 109 110 111 112 113 114 115 116 117\n",
      " 118 119 120 121 122 123 124 125 126 127 128 129 131 132 133 134 135 136\n",
      " 137 138 139 140 141 142 799]\n",
      "[ 87  41  57 130  27]\n",
      "[  18  136  143 1179  790  737 1719  118   34   40]\n",
      "[ True  True False False False]\n",
      "0.4\n",
      "0.195328530888\n"
     ]
    }
   ],
   "source": [
    "print(get_prec_K(5, train, test, rankmethod, skip_train=True))"
   ]
  },
  {
   "cell_type": "code",
   "execution_count": 101,
   "metadata": {
    "collapsed": false
   },
   "outputs": [
    {
     "name": "stdout",
     "output_type": "stream",
     "text": [
      "0.5701811831477843\n"
     ]
    }
   ],
   "source": [
    "print(get_one_recal_K(5, train, test, rankmethod, skip_train=False))"
   ]
  },
  {
   "cell_type": "code",
   "execution_count": 104,
   "metadata": {
    "collapsed": false
   },
   "outputs": [
    {
     "name": "stdout",
     "output_type": "stream",
     "text": [
      "0.5444226151495307\n"
     ]
    }
   ],
   "source": [
    "print(get_one_recal_K(5, train, test, rankmethod, skip_train=True))"
   ]
  },
  {
   "cell_type": "code",
   "execution_count": 105,
   "metadata": {
    "collapsed": false
   },
   "outputs": [
    {
     "name": "stdout",
     "output_type": "stream",
     "text": [
      "0.4551690233053217\n"
     ]
    }
   ],
   "source": [
    "print(get_MRR(train, test, rankmethod, skip_train=False))"
   ]
  },
  {
   "cell_type": "code",
   "execution_count": 109,
   "metadata": {
    "collapsed": false
   },
   "outputs": [
    {
     "name": "stdout",
     "output_type": "stream",
     "text": [
      "0.42663367860506773\n"
     ]
    }
   ],
   "source": [
    "print(get_MRR(train, test, rankmethod, skip_train=True))"
   ]
  },
  {
   "cell_type": "code",
   "execution_count": 65,
   "metadata": {
    "collapsed": false
   },
   "outputs": [
    {
     "data": {
      "text/plain": [
       "1"
      ]
     },
     "execution_count": 65,
     "metadata": {},
     "output_type": "execute_result"
    }
   ],
   "source": [
    "mask = np.array([True, True])\n",
    "int(True in mask)\n",
    " "
   ]
  },
  {
   "cell_type": "code",
   "execution_count": 73,
   "metadata": {
    "collapsed": false
   },
   "outputs": [
    {
     "data": {
      "text/plain": [
       "array([[1, 3, 5, 2, 9, 1],\n",
       "       [1, 3, 5, 2, 9, 1],\n",
       "       [1, 3, 5, 2, 9, 1],\n",
       "       [1, 3, 5, 2, 9, 1],\n",
       "       [1, 3, 5, 2, 9, 1]])"
      ]
     },
     "execution_count": 73,
     "metadata": {},
     "output_type": "execute_result"
    }
   ],
   "source": [
    "a = np.array([1, 3, 5, 2,9, 1])\n",
    "np.argsort(-a)[:5]\n",
    "\n",
    "np.repeat(np.array([a]), 5, axis=0)"
   ]
  },
  {
   "cell_type": "code",
   "execution_count": 18,
   "metadata": {
    "collapsed": true
   },
   "outputs": [],
   "source": [
    "a = np.bincount(data.ix[:, 0])"
   ]
  },
  {
   "cell_type": "code",
   "execution_count": 27,
   "metadata": {
    "collapsed": false
   },
   "outputs": [
    {
     "data": {
      "text/plain": [
       "(array([    7,     9,    14, ..., 75885, 75886, 75887]),)"
      ]
     },
     "execution_count": 27,
     "metadata": {},
     "output_type": "execute_result"
    }
   ],
   "source": [
    "np.where(a < 24)"
   ]
  },
  {
   "cell_type": "code",
   "execution_count": 26,
   "metadata": {
    "collapsed": false
   },
   "outputs": [
    {
     "data": {
      "text/plain": [
       "4720"
      ]
     },
     "execution_count": 26,
     "metadata": {},
     "output_type": "execute_result"
    }
   ],
   "source": [
    "a.shape[0] - np.sum(a < 24)"
   ]
  }
 ],
 "metadata": {
  "kernelspec": {
   "display_name": "Python 3",
   "language": "python",
   "name": "python3"
  },
  "language_info": {
   "codemirror_mode": {
    "name": "ipython",
    "version": 3
   },
   "file_extension": ".py",
   "mimetype": "text/x-python",
   "name": "python",
   "nbconvert_exporter": "python",
   "pygments_lexer": "ipython3",
   "version": "3.4.3"
  }
 },
 "nbformat": 4,
 "nbformat_minor": 0
}
