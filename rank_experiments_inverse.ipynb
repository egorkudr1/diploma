{
 "cells": [
  {
   "cell_type": "code",
   "execution_count": 3,
   "metadata": {
    "collapsed": false
   },
   "outputs": [],
   "source": [
    "import numpy as np\n",
    "import pandas as pd\n",
    "from scipy.io import loadmat, mmread\n",
    "import sys\n",
    "import itertools \n",
    "import pickle\n",
    "import matplotlib.pylab as plt\n",
    "import time"
   ]
  },
  {
   "cell_type": "code",
   "execution_count": 2,
   "metadata": {
    "collapsed": true
   },
   "outputs": [],
   "source": [
    "%matplotlib inline"
   ]
  },
  {
   "cell_type": "code",
   "execution_count": 4,
   "metadata": {
    "collapsed": false
   },
   "outputs": [],
   "source": [
    "import rankingmethod\n",
    "import rankingmeasure\n",
    "import rank"
   ]
  },
  {
   "cell_type": "code",
   "execution_count": 5,
   "metadata": {
    "collapsed": false
   },
   "outputs": [],
   "source": [
    "%load_ext autoreload\n",
    "%autoreload 2"
   ]
  },
  {
   "cell_type": "code",
   "execution_count": 6,
   "metadata": {
    "collapsed": true
   },
   "outputs": [],
   "source": [
    "from  experiment import *"
   ]
  },
  {
   "cell_type": "markdown",
   "metadata": {},
   "source": [
    "# loading data sets"
   ]
  },
  {
   "cell_type": "code",
   "execution_count": 7,
   "metadata": {
    "collapsed": false
   },
   "outputs": [],
   "source": [
    "data = pd.read_csv(\"../datasets/soc-Epinions1.txt\", sep='\\t', header=4)\n",
    "data = data.as_matrix()"
   ]
  },
  {
   "cell_type": "code",
   "execution_count": 8,
   "metadata": {
    "collapsed": false
   },
   "outputs": [],
   "source": [
    "epinion, epinion_shape = make_valid_data(data)"
   ]
  },
  {
   "cell_type": "code",
   "execution_count": 9,
   "metadata": {
    "collapsed": true
   },
   "outputs": [],
   "source": [
    "data = pd.read_csv(\"../datasets/Slashdot0811.txt\", sep='\\t', header=4)\n",
    "data = data.as_matrix()"
   ]
  },
  {
   "cell_type": "code",
   "execution_count": 10,
   "metadata": {
    "collapsed": false
   },
   "outputs": [],
   "source": [
    "slashdot, slashdot_shape = make_valid_data(data)"
   ]
  },
  {
   "cell_type": "code",
   "execution_count": 11,
   "metadata": {
    "collapsed": true
   },
   "outputs": [],
   "source": [
    "data =  pd.read_csv(\"../datasets/ml-100k/u.data\", sep='\\t', header=None).ix[:, :1]\n",
    "data = data.as_matrix()"
   ]
  },
  {
   "cell_type": "code",
   "execution_count": 12,
   "metadata": {
    "collapsed": false
   },
   "outputs": [],
   "source": [
    "ml100k, ml100k_shape = make_valid_data(data)"
   ]
  },
  {
   "cell_type": "code",
   "execution_count": 13,
   "metadata": {
    "collapsed": false
   },
   "outputs": [],
   "source": [
    "data = pd.read_csv(\"../datasets/ml-1m/ratings.dat\", sep='::', header=None,  engine='python').ix[:, :1]\n",
    "data = data.as_matrix()"
   ]
  },
  {
   "cell_type": "code",
   "execution_count": 14,
   "metadata": {
    "collapsed": false
   },
   "outputs": [],
   "source": [
    "ml1m, ml1m_shape = make_valid_data(data)"
   ]
  },
  {
   "cell_type": "markdown",
   "metadata": {},
   "source": [
    "### Зададим параметры, которые были выбраны при помощивалидации"
   ]
  },
  {
   "cell_type": "code",
   "execution_count": 15,
   "metadata": {
    "collapsed": false
   },
   "outputs": [],
   "source": [
    "def create_list_cf(user_item):\n",
    "    list_cf = [\n",
    "        rankingmethod.PopRec(user_item),\n",
    "#         rankingmethod.CLiMF(user_item, K=10, reg=0.001, lrate=0.01, verbose=0, maxiter=10),\n",
    "        \n",
    "#         rank.CLiMF(user_item, K=5, reg=0.01, lrate=0.1, verbose=0, maxiter=10),\n",
    "#         rank.CLiMF(user_item, K=5, reg=0.01, lrate=0.01, verbose=0, maxiter=10),\n",
    "        rank.CLiMF(user_item, K=5, reg=0.01, lrate=0.001, verbose=0, maxiter=10),\n",
    "#         rank.CLiMF(user_item, K=15, reg=0.001, lrate=0.1, verbose=0, maxiter=10),\n",
    "        rank.BPR_MF(user_item, K = 20, lrate=0.012, regIpos=0.012, \n",
    "                                  regIneg=0.012, regU=0.012, maxiter=20, verbose=0 ),\n",
    "        \n",
    "#         rank.CLiMF(user_item, K=10, reg=0.001, lrate=0.1, verbose=0, maxiter=10),\n",
    "#         rank.CLiMF(user_item, K=10, reg=0.001, lrate=0.001, verbose=0, maxiter=10),\n",
    "#         rankingmethod.BPR_MF(user_item, K = 20, lrate=0.012, regIpos=0.012, \n",
    "#                                   regIneg=0.012, regU=0.012, maxiter=4, verbose=0 ),\n",
    "        rankingmethod.iMF(user_item, K=10, lmbd=0.01, alpha=40, maxiter=30, verbose=0),\n",
    "        rankingmethod.TFMAP(user_item, lrate=0.01, maxiter=10),\n",
    "#         rank.TFMAP(user_item, lrate=0.01, maxiter=20)\n",
    "    ]\n",
    "    return list_cf#[list_cf[i] for i in index]"
   ]
  },
  {
   "cell_type": "markdown",
   "metadata": {},
   "source": [
    "### Проведение такого же эксперимента, как у создатей CLiMF(Точнее похожего, т.к. было решено не удалять топ 3 всех предметов. И даже с этим удалением получить такие же цифры, что авторы epinion не получилось)"
   ]
  },
  {
   "cell_type": "code",
   "execution_count": 16,
   "metadata": {
    "collapsed": false
   },
   "outputs": [],
   "source": [
    "def climf_experiment(data, list_cf, K=5, maxiter=1, topK=5, verbose=0, validation_type=1):\n",
    "    res = np.zeros((6, len(list_cf)))\n",
    "    for t in range(maxiter):\n",
    "        if validation_type == 0:\n",
    "            test, train, traintest = givenK_train_test(data, K)\n",
    "        elif validation_type == 1:\n",
    "            test, train, traintest = ratio_train_test(data, K)\n",
    "        for i, cf in enumerate(list_cf):\n",
    "            start_time = time.time()\n",
    "            cf.fit(train)\n",
    "#             print(time.time() - start_time)\n",
    "            prec_k, one_recal_k, ngdc, mp = rankingmeasure.get_Kmetrics(train, test, cf, K=topK)\n",
    "            mrr, auc = rankingmeasure.get_listmetrics(train, test, cf)\n",
    "            res[:, i] += np.array([prec_k, one_recal_k, ngdc, mp, mrr, auc])\n",
    "            if verbose == 1:\n",
    "                print(t, i, res[:, i] / (t + 1))\n",
    "                sys.stdout.flush()\n",
    "    res /= maxiter\n",
    "    res = pd.DataFrame(res)\n",
    "    \n",
    "    res.columns = [type(cf).__name__ for cf in list_cf]\n",
    "    res.index = [name + str(topK) for name in ['prec@', '1recal@', 'NDCG@', 'MAP@']] + ['MRR', 'AUC']\n",
    "#     res.columns = ['PopRec', 'CLiMF', 'BRP_MP', 'iMF', 'TFMAP']\n",
    "#     res.index = ['prec@' + str(topK),'1recal@' + str(topK), 'NDCG@' + str(topK), \n",
    "#                'MAP@' + str(topK), 'MRR', 'AUC']\n",
    "    return res"
   ]
  },
  {
   "cell_type": "code",
   "execution_count": 18,
   "metadata": {
    "collapsed": false
   },
   "outputs": [
    {
     "data": {
      "text/html": [
       "<div>\n",
       "<table border=\"1\" class=\"dataframe\">\n",
       "  <thead>\n",
       "    <tr style=\"text-align: right;\">\n",
       "      <th></th>\n",
       "      <th>PopRec</th>\n",
       "      <th>CLiMF</th>\n",
       "      <th>BPR_MF</th>\n",
       "      <th>iMF</th>\n",
       "      <th>TFMAP</th>\n",
       "    </tr>\n",
       "  </thead>\n",
       "  <tbody>\n",
       "    <tr>\n",
       "      <th>prec@5</th>\n",
       "      <td>0.141290</td>\n",
       "      <td>0.140248</td>\n",
       "      <td>0.143474</td>\n",
       "      <td>0.152010</td>\n",
       "      <td>0.083573</td>\n",
       "    </tr>\n",
       "    <tr>\n",
       "      <th>1recal@5</th>\n",
       "      <td>0.472705</td>\n",
       "      <td>0.455831</td>\n",
       "      <td>0.497270</td>\n",
       "      <td>0.535732</td>\n",
       "      <td>0.327792</td>\n",
       "    </tr>\n",
       "    <tr>\n",
       "      <th>NDCG@5</th>\n",
       "      <td>0.154562</td>\n",
       "      <td>0.150959</td>\n",
       "      <td>0.153422</td>\n",
       "      <td>0.156756</td>\n",
       "      <td>0.092821</td>\n",
       "    </tr>\n",
       "    <tr>\n",
       "      <th>MAP@5</th>\n",
       "      <td>0.288754</td>\n",
       "      <td>0.273045</td>\n",
       "      <td>0.289482</td>\n",
       "      <td>0.289339</td>\n",
       "      <td>0.192158</td>\n",
       "    </tr>\n",
       "    <tr>\n",
       "      <th>MRR</th>\n",
       "      <td>0.338996</td>\n",
       "      <td>0.319950</td>\n",
       "      <td>0.332253</td>\n",
       "      <td>0.340819</td>\n",
       "      <td>0.233657</td>\n",
       "    </tr>\n",
       "    <tr>\n",
       "      <th>AUC</th>\n",
       "      <td>0.856632</td>\n",
       "      <td>0.814014</td>\n",
       "      <td>0.785816</td>\n",
       "      <td>0.927055</td>\n",
       "      <td>0.853811</td>\n",
       "    </tr>\n",
       "  </tbody>\n",
       "</table>\n",
       "</div>"
      ],
      "text/plain": [
       "            PopRec     CLiMF    BPR_MF       iMF     TFMAP\n",
       "prec@5    0.141290  0.140248  0.143474  0.152010  0.083573\n",
       "1recal@5  0.472705  0.455831  0.497270  0.535732  0.327792\n",
       "NDCG@5    0.154562  0.150959  0.153422  0.156756  0.092821\n",
       "MAP@5     0.288754  0.273045  0.289482  0.289339  0.192158\n",
       "MRR       0.338996  0.319950  0.332253  0.340819  0.233657\n",
       "AUC       0.856632  0.814014  0.785816  0.927055  0.853811"
      ]
     },
     "execution_count": 18,
     "metadata": {},
     "output_type": "execute_result"
    }
   ],
   "source": [
    "climf_experiment(ml100k, create_list_cf(ml100k_shape), K =0.1, maxiter=5, topK=5,  verbose=0)"
   ]
  },
  {
   "cell_type": "code",
   "execution_count": 19,
   "metadata": {
    "collapsed": false
   },
   "outputs": [
    {
     "data": {
      "text/html": [
       "<div>\n",
       "<table border=\"1\" class=\"dataframe\">\n",
       "  <thead>\n",
       "    <tr style=\"text-align: right;\">\n",
       "      <th></th>\n",
       "      <th>PopRec</th>\n",
       "      <th>CLiMF</th>\n",
       "      <th>BPR_MF</th>\n",
       "      <th>iMF</th>\n",
       "      <th>TFMAP</th>\n",
       "    </tr>\n",
       "  </thead>\n",
       "  <tbody>\n",
       "    <tr>\n",
       "      <th>prec@5</th>\n",
       "      <td>0.237022</td>\n",
       "      <td>0.236675</td>\n",
       "      <td>0.238263</td>\n",
       "      <td>0.259653</td>\n",
       "      <td>0.165955</td>\n",
       "    </tr>\n",
       "    <tr>\n",
       "      <th>1recal@5</th>\n",
       "      <td>0.643672</td>\n",
       "      <td>0.627295</td>\n",
       "      <td>0.669231</td>\n",
       "      <td>0.737717</td>\n",
       "      <td>0.540447</td>\n",
       "    </tr>\n",
       "    <tr>\n",
       "      <th>NDCG@5</th>\n",
       "      <td>0.257089</td>\n",
       "      <td>0.254108</td>\n",
       "      <td>0.249028</td>\n",
       "      <td>0.264853</td>\n",
       "      <td>0.172586</td>\n",
       "    </tr>\n",
       "    <tr>\n",
       "      <th>MAP@5</th>\n",
       "      <td>0.419890</td>\n",
       "      <td>0.408746</td>\n",
       "      <td>0.409753</td>\n",
       "      <td>0.427131</td>\n",
       "      <td>0.304675</td>\n",
       "    </tr>\n",
       "    <tr>\n",
       "      <th>MRR</th>\n",
       "      <td>0.479092</td>\n",
       "      <td>0.459178</td>\n",
       "      <td>0.453254</td>\n",
       "      <td>0.474468</td>\n",
       "      <td>0.353326</td>\n",
       "    </tr>\n",
       "    <tr>\n",
       "      <th>AUC</th>\n",
       "      <td>0.857531</td>\n",
       "      <td>0.806631</td>\n",
       "      <td>0.779713</td>\n",
       "      <td>0.926793</td>\n",
       "      <td>0.855633</td>\n",
       "    </tr>\n",
       "  </tbody>\n",
       "</table>\n",
       "</div>"
      ],
      "text/plain": [
       "            PopRec     CLiMF    BPR_MF       iMF     TFMAP\n",
       "prec@5    0.237022  0.236675  0.238263  0.259653  0.165955\n",
       "1recal@5  0.643672  0.627295  0.669231  0.737717  0.540447\n",
       "NDCG@5    0.257089  0.254108  0.249028  0.264853  0.172586\n",
       "MAP@5     0.419890  0.408746  0.409753  0.427131  0.304675\n",
       "MRR       0.479092  0.459178  0.453254  0.474468  0.353326\n",
       "AUC       0.857531  0.806631  0.779713  0.926793  0.855633"
      ]
     },
     "execution_count": 19,
     "metadata": {},
     "output_type": "execute_result"
    }
   ],
   "source": [
    "climf_experiment(ml100k, create_list_cf(ml100k_shape), K =0.2, maxiter=5, topK=5,  verbose=0)"
   ]
  },
  {
   "cell_type": "code",
   "execution_count": 20,
   "metadata": {
    "collapsed": false
   },
   "outputs": [
    {
     "data": {
      "text/html": [
       "<div>\n",
       "<table border=\"1\" class=\"dataframe\">\n",
       "  <thead>\n",
       "    <tr style=\"text-align: right;\">\n",
       "      <th></th>\n",
       "      <th>PopRec</th>\n",
       "      <th>CLiMF</th>\n",
       "      <th>BPR_MF</th>\n",
       "      <th>iMF</th>\n",
       "      <th>TFMAP</th>\n",
       "    </tr>\n",
       "  </thead>\n",
       "  <tbody>\n",
       "    <tr>\n",
       "      <th>prec@5</th>\n",
       "      <td>0.030193</td>\n",
       "      <td>0.029406</td>\n",
       "      <td>0.009247</td>\n",
       "      <td>0.069406</td>\n",
       "      <td>0.027317</td>\n",
       "    </tr>\n",
       "    <tr>\n",
       "      <th>1recal@5</th>\n",
       "      <td>0.132728</td>\n",
       "      <td>0.130004</td>\n",
       "      <td>0.044873</td>\n",
       "      <td>0.272645</td>\n",
       "      <td>0.121302</td>\n",
       "    </tr>\n",
       "    <tr>\n",
       "      <th>NDCG@5</th>\n",
       "      <td>0.033896</td>\n",
       "      <td>0.033200</td>\n",
       "      <td>0.013033</td>\n",
       "      <td>0.074202</td>\n",
       "      <td>0.031213</td>\n",
       "    </tr>\n",
       "    <tr>\n",
       "      <th>MAP@5</th>\n",
       "      <td>0.076760</td>\n",
       "      <td>0.075752</td>\n",
       "      <td>0.035300</td>\n",
       "      <td>0.151523</td>\n",
       "      <td>0.071640</td>\n",
       "    </tr>\n",
       "    <tr>\n",
       "      <th>MRR</th>\n",
       "      <td>0.099977</td>\n",
       "      <td>0.099058</td>\n",
       "      <td>0.043925</td>\n",
       "      <td>0.186433</td>\n",
       "      <td>0.094672</td>\n",
       "    </tr>\n",
       "    <tr>\n",
       "      <th>AUC</th>\n",
       "      <td>0.869080</td>\n",
       "      <td>0.768566</td>\n",
       "      <td>0.690515</td>\n",
       "      <td>0.917501</td>\n",
       "      <td>0.860799</td>\n",
       "    </tr>\n",
       "  </tbody>\n",
       "</table>\n",
       "</div>"
      ],
      "text/plain": [
       "            PopRec     CLiMF    BPR_MF       iMF     TFMAP\n",
       "prec@5    0.030193  0.029406  0.009247  0.069406  0.027317\n",
       "1recal@5  0.132728  0.130004  0.044873  0.272645  0.121302\n",
       "NDCG@5    0.033896  0.033200  0.013033  0.074202  0.031213\n",
       "MAP@5     0.076760  0.075752  0.035300  0.151523  0.071640\n",
       "MRR       0.099977  0.099058  0.043925  0.186433  0.094672\n",
       "AUC       0.869080  0.768566  0.690515  0.917501  0.860799"
      ]
     },
     "execution_count": 20,
     "metadata": {},
     "output_type": "execute_result"
    }
   ],
   "source": [
    "climf_experiment(epinion, create_list_cf(epinion_shape), K =0.1, maxiter=3, topK=5,  verbose=0)"
   ]
  },
  {
   "cell_type": "code",
   "execution_count": 21,
   "metadata": {
    "collapsed": false
   },
   "outputs": [
    {
     "name": "stdout",
     "output_type": "stream",
     "text": [
      "0 0 [ 0.05511918  0.22451759  0.06210466  0.13409509  0.16639616  0.86979699]\n",
      "0 1 [ 0.05334847  0.21861521  0.06072931  0.13216988  0.16502904  0.75594446]\n",
      "0 2 [ 0.02265607  0.10419977  0.02899874  0.07293322  0.08808791  0.68817976]\n",
      "0 3 [ 0.12258797  0.41611805  0.12859505  0.23681423  0.27869498  0.91656811]\n",
      "0 4 [ 0.05684449  0.22633371  0.06371018  0.13507977  0.16642095  0.8613903 ]\n",
      "1 0 [ 0.05650397  0.22973893  0.06386653  0.13810726  0.17089435  0.87021311]\n",
      "1 1 [ 0.05489217  0.22519864  0.0622986   0.13559544  0.16845355  0.75728748]\n",
      "1 2 [ 0.02088536  0.0969353   0.02765124  0.07117811  0.08629086  0.68679139]\n",
      "1 3 [ 0.12426788  0.42167991  0.13103589  0.24212464  0.28381307  0.91582914]\n",
      "1 4 [ 0.05611805  0.22644722  0.06369695  0.13726132  0.16921876  0.86166393]\n",
      "2 0 [ 0.05643587  0.23019296  0.0636202   0.1375906   0.17039428  0.8700745 ]\n",
      "2 1 [ 0.05454408  0.22376088  0.06199168  0.13530784  0.16806354  0.7576185 ]\n",
      "2 2 [ 0.01967461  0.09201665  0.02677968  0.07009806  0.08406311  0.68707179]\n",
      "2 3 [ 0.12488838  0.42512297  0.13169419  0.243819    0.2853302   0.91592621]\n",
      "2 4 [ 0.0548619   0.22217177  0.0628026   0.13635158  0.16871724  0.86152735]\n"
     ]
    },
    {
     "data": {
      "text/html": [
       "<div>\n",
       "<table border=\"1\" class=\"dataframe\">\n",
       "  <thead>\n",
       "    <tr style=\"text-align: right;\">\n",
       "      <th></th>\n",
       "      <th>PopRec</th>\n",
       "      <th>CLiMF</th>\n",
       "      <th>BPR_MF</th>\n",
       "      <th>iMF</th>\n",
       "      <th>TFMAP</th>\n",
       "    </tr>\n",
       "  </thead>\n",
       "  <tbody>\n",
       "    <tr>\n",
       "      <th>prec@5</th>\n",
       "      <td>0.056436</td>\n",
       "      <td>0.054544</td>\n",
       "      <td>0.019675</td>\n",
       "      <td>0.124888</td>\n",
       "      <td>0.054862</td>\n",
       "    </tr>\n",
       "    <tr>\n",
       "      <th>1recal@5</th>\n",
       "      <td>0.230193</td>\n",
       "      <td>0.223761</td>\n",
       "      <td>0.092017</td>\n",
       "      <td>0.425123</td>\n",
       "      <td>0.222172</td>\n",
       "    </tr>\n",
       "    <tr>\n",
       "      <th>NDCG@5</th>\n",
       "      <td>0.063620</td>\n",
       "      <td>0.061992</td>\n",
       "      <td>0.026780</td>\n",
       "      <td>0.131694</td>\n",
       "      <td>0.062803</td>\n",
       "    </tr>\n",
       "    <tr>\n",
       "      <th>MAP@5</th>\n",
       "      <td>0.137591</td>\n",
       "      <td>0.135308</td>\n",
       "      <td>0.070098</td>\n",
       "      <td>0.243819</td>\n",
       "      <td>0.136352</td>\n",
       "    </tr>\n",
       "    <tr>\n",
       "      <th>MRR</th>\n",
       "      <td>0.170394</td>\n",
       "      <td>0.168064</td>\n",
       "      <td>0.084063</td>\n",
       "      <td>0.285330</td>\n",
       "      <td>0.168717</td>\n",
       "    </tr>\n",
       "    <tr>\n",
       "      <th>AUC</th>\n",
       "      <td>0.870074</td>\n",
       "      <td>0.757619</td>\n",
       "      <td>0.687072</td>\n",
       "      <td>0.915926</td>\n",
       "      <td>0.861527</td>\n",
       "    </tr>\n",
       "  </tbody>\n",
       "</table>\n",
       "</div>"
      ],
      "text/plain": [
       "            PopRec     CLiMF    BPR_MF       iMF     TFMAP\n",
       "prec@5    0.056436  0.054544  0.019675  0.124888  0.054862\n",
       "1recal@5  0.230193  0.223761  0.092017  0.425123  0.222172\n",
       "NDCG@5    0.063620  0.061992  0.026780  0.131694  0.062803\n",
       "MAP@5     0.137591  0.135308  0.070098  0.243819  0.136352\n",
       "MRR       0.170394  0.168064  0.084063  0.285330  0.168717\n",
       "AUC       0.870074  0.757619  0.687072  0.915926  0.861527"
      ]
     },
     "execution_count": 21,
     "metadata": {},
     "output_type": "execute_result"
    }
   ],
   "source": [
    "climf_experiment(epinion, create_list_cf(epinion_shape), K =0.2, maxiter=3, topK=5,  verbose=1)"
   ]
  },
  {
   "cell_type": "code",
   "execution_count": 22,
   "metadata": {
    "collapsed": false
   },
   "outputs": [
    {
     "data": {
      "text/html": [
       "<div>\n",
       "<table border=\"1\" class=\"dataframe\">\n",
       "  <thead>\n",
       "    <tr style=\"text-align: right;\">\n",
       "      <th></th>\n",
       "      <th>PopRec</th>\n",
       "      <th>CLiMF</th>\n",
       "      <th>BPR_MF</th>\n",
       "      <th>iMF</th>\n",
       "      <th>TFMAP</th>\n",
       "    </tr>\n",
       "  </thead>\n",
       "  <tbody>\n",
       "    <tr>\n",
       "      <th>prec@5</th>\n",
       "      <td>0.015494</td>\n",
       "      <td>0.015475</td>\n",
       "      <td>0.008600</td>\n",
       "      <td>0.039350</td>\n",
       "      <td>0.013987</td>\n",
       "    </tr>\n",
       "    <tr>\n",
       "      <th>1recal@5</th>\n",
       "      <td>0.072178</td>\n",
       "      <td>0.072511</td>\n",
       "      <td>0.040952</td>\n",
       "      <td>0.158276</td>\n",
       "      <td>0.066219</td>\n",
       "    </tr>\n",
       "    <tr>\n",
       "      <th>NDCG@5</th>\n",
       "      <td>0.017996</td>\n",
       "      <td>0.017908</td>\n",
       "      <td>0.010541</td>\n",
       "      <td>0.043010</td>\n",
       "      <td>0.014496</td>\n",
       "    </tr>\n",
       "    <tr>\n",
       "      <th>MAP@5</th>\n",
       "      <td>0.042828</td>\n",
       "      <td>0.042703</td>\n",
       "      <td>0.026310</td>\n",
       "      <td>0.090153</td>\n",
       "      <td>0.032572</td>\n",
       "    </tr>\n",
       "    <tr>\n",
       "      <th>MRR</th>\n",
       "      <td>0.059717</td>\n",
       "      <td>0.058998</td>\n",
       "      <td>0.033803</td>\n",
       "      <td>0.115116</td>\n",
       "      <td>0.049009</td>\n",
       "    </tr>\n",
       "    <tr>\n",
       "      <th>AUC</th>\n",
       "      <td>0.845791</td>\n",
       "      <td>0.721384</td>\n",
       "      <td>0.649001</td>\n",
       "      <td>0.870335</td>\n",
       "      <td>0.837646</td>\n",
       "    </tr>\n",
       "  </tbody>\n",
       "</table>\n",
       "</div>"
      ],
      "text/plain": [
       "            PopRec     CLiMF    BPR_MF       iMF     TFMAP\n",
       "prec@5    0.015494  0.015475  0.008600  0.039350  0.013987\n",
       "1recal@5  0.072178  0.072511  0.040952  0.158276  0.066219\n",
       "NDCG@5    0.017996  0.017908  0.010541  0.043010  0.014496\n",
       "MAP@5     0.042828  0.042703  0.026310  0.090153  0.032572\n",
       "MRR       0.059717  0.058998  0.033803  0.115116  0.049009\n",
       "AUC       0.845791  0.721384  0.649001  0.870335  0.837646"
      ]
     },
     "execution_count": 22,
     "metadata": {},
     "output_type": "execute_result"
    }
   ],
   "source": [
    "climf_experiment(slashdot, create_list_cf(slashdot_shape), K=0.1, maxiter=3, topK=5,  verbose=0)"
   ]
  },
  {
   "cell_type": "code",
   "execution_count": null,
   "metadata": {
    "collapsed": false
   },
   "outputs": [
    {
     "data": {
      "text/html": [
       "<div>\n",
       "<table border=\"1\" class=\"dataframe\">\n",
       "  <thead>\n",
       "    <tr style=\"text-align: right;\">\n",
       "      <th></th>\n",
       "      <th>PopRec</th>\n",
       "      <th>CLiMF</th>\n",
       "      <th>BPR_MF</th>\n",
       "      <th>iMF</th>\n",
       "      <th>TFMAP</th>\n",
       "    </tr>\n",
       "  </thead>\n",
       "  <tbody>\n",
       "    <tr>\n",
       "      <th>prec@5</th>\n",
       "      <td>0.029434</td>\n",
       "      <td>0.029567</td>\n",
       "      <td>0.015418</td>\n",
       "      <td>0.072235</td>\n",
       "      <td>0.028986</td>\n",
       "    </tr>\n",
       "    <tr>\n",
       "      <th>1recal@5</th>\n",
       "      <td>0.130768</td>\n",
       "      <td>0.132294</td>\n",
       "      <td>0.071558</td>\n",
       "      <td>0.262681</td>\n",
       "      <td>0.129529</td>\n",
       "    </tr>\n",
       "    <tr>\n",
       "      <th>NDCG@5</th>\n",
       "      <td>0.033527</td>\n",
       "      <td>0.033479</td>\n",
       "      <td>0.018743</td>\n",
       "      <td>0.078109</td>\n",
       "      <td>0.032499</td>\n",
       "    </tr>\n",
       "    <tr>\n",
       "      <th>MAP@5</th>\n",
       "      <td>0.076428</td>\n",
       "      <td>0.076449</td>\n",
       "      <td>0.045782</td>\n",
       "      <td>0.152282</td>\n",
       "      <td>0.073827</td>\n",
       "    </tr>\n",
       "    <tr>\n",
       "      <th>MRR</th>\n",
       "      <td>0.102440</td>\n",
       "      <td>0.101305</td>\n",
       "      <td>0.057159</td>\n",
       "      <td>0.186481</td>\n",
       "      <td>0.098932</td>\n",
       "    </tr>\n",
       "    <tr>\n",
       "      <th>AUC</th>\n",
       "      <td>0.846083</td>\n",
       "      <td>0.707364</td>\n",
       "      <td>0.648265</td>\n",
       "      <td>0.866559</td>\n",
       "      <td>0.835498</td>\n",
       "    </tr>\n",
       "  </tbody>\n",
       "</table>\n",
       "</div>"
      ],
      "text/plain": [
       "            PopRec     CLiMF    BPR_MF       iMF     TFMAP\n",
       "prec@5    0.029434  0.029567  0.015418  0.072235  0.028986\n",
       "1recal@5  0.130768  0.132294  0.071558  0.262681  0.129529\n",
       "NDCG@5    0.033527  0.033479  0.018743  0.078109  0.032499\n",
       "MAP@5     0.076428  0.076449  0.045782  0.152282  0.073827\n",
       "MRR       0.102440  0.101305  0.057159  0.186481  0.098932\n",
       "AUC       0.846083  0.707364  0.648265  0.866559  0.835498"
      ]
     },
     "execution_count": 23,
     "metadata": {},
     "output_type": "execute_result"
    }
   ],
   "source": [
    "climf_experiment(slashdot, create_list_cf(slashdot_shape), K=0.2, maxiter=3, topK=5,  verbose=0)"
   ]
  },
  {
   "cell_type": "code",
   "execution_count": 17,
   "metadata": {
    "collapsed": false
   },
   "outputs": [
    {
     "name": "stdout",
     "output_type": "stream",
     "text": [
      "0 0 [ 0.13779059  0.42295909  0.14780291  0.26060201  0.301097    0.85815545]\n",
      "0 1 [ 0.13137502  0.40782123  0.14050909  0.24860611  0.2922643   0.85393526]\n",
      "0 2 [ 0.09039467  0.29572896  0.09982597  0.18713432  0.22594189  0.74041612]\n",
      "0 3 [ 0.1650027   0.53793476  0.17085658  0.30235603  0.34899273  0.9237604 ]\n",
      "0 4 [ 0.04541359  0.20291944  0.04666301  0.09973268  0.12967069  0.83891775]\n",
      "1 0 [ 0.13656515  0.42196792  0.14681176  0.26039639  0.30141503  0.8582571 ]\n",
      "1 1 [ 0.13184358  0.41034421  0.14028065  0.24808549  0.29127163  0.85401047]\n",
      "1 2 [ 0.09160209  0.30329789  0.10057758  0.18844074  0.22536154  0.73876547]\n",
      "1 3 [ 0.16485853  0.53685349  0.17134657  0.30408757  0.35154562  0.92420531]\n",
      "1 4 [ 0.04586412  0.2066138   0.0510389   0.11588274  0.14781736  0.83884389]\n",
      "2 0 [ 0.13714183  0.42163753  0.14732632  0.26033311  0.30185296  0.85818784]\n",
      "2 1 [ 0.1320358   0.41202619  0.14022011  0.2478221   0.29093732  0.85392556]\n",
      "2 2 [ 0.09240103  0.30552051  0.1011499   0.1886617   0.2251103   0.73686157]\n",
      "2 3 [ 0.16459422  0.53499129  0.1707937   0.3025873   0.34980104  0.9243621 ]\n",
      "2 4 [ 0.04021145  0.18345648  0.04413492  0.10020674  0.13456539  0.83847671]\n"
     ]
    },
    {
     "data": {
      "text/html": [
       "<div>\n",
       "<table border=\"1\" class=\"dataframe\">\n",
       "  <thead>\n",
       "    <tr style=\"text-align: right;\">\n",
       "      <th></th>\n",
       "      <th>PopRec</th>\n",
       "      <th>CLiMF</th>\n",
       "      <th>BPR_MF</th>\n",
       "      <th>iMF</th>\n",
       "      <th>TFMAP</th>\n",
       "    </tr>\n",
       "  </thead>\n",
       "  <tbody>\n",
       "    <tr>\n",
       "      <th>prec@5</th>\n",
       "      <td>0.137142</td>\n",
       "      <td>0.132036</td>\n",
       "      <td>0.092401</td>\n",
       "      <td>0.164594</td>\n",
       "      <td>0.040211</td>\n",
       "    </tr>\n",
       "    <tr>\n",
       "      <th>1recal@5</th>\n",
       "      <td>0.421638</td>\n",
       "      <td>0.412026</td>\n",
       "      <td>0.305521</td>\n",
       "      <td>0.534991</td>\n",
       "      <td>0.183456</td>\n",
       "    </tr>\n",
       "    <tr>\n",
       "      <th>NDCG@5</th>\n",
       "      <td>0.147326</td>\n",
       "      <td>0.140220</td>\n",
       "      <td>0.101150</td>\n",
       "      <td>0.170794</td>\n",
       "      <td>0.044135</td>\n",
       "    </tr>\n",
       "    <tr>\n",
       "      <th>MAP@5</th>\n",
       "      <td>0.260333</td>\n",
       "      <td>0.247822</td>\n",
       "      <td>0.188662</td>\n",
       "      <td>0.302587</td>\n",
       "      <td>0.100207</td>\n",
       "    </tr>\n",
       "    <tr>\n",
       "      <th>MRR</th>\n",
       "      <td>0.301853</td>\n",
       "      <td>0.290937</td>\n",
       "      <td>0.225110</td>\n",
       "      <td>0.349801</td>\n",
       "      <td>0.134565</td>\n",
       "    </tr>\n",
       "    <tr>\n",
       "      <th>AUC</th>\n",
       "      <td>0.858188</td>\n",
       "      <td>0.853926</td>\n",
       "      <td>0.736862</td>\n",
       "      <td>0.924362</td>\n",
       "      <td>0.838477</td>\n",
       "    </tr>\n",
       "  </tbody>\n",
       "</table>\n",
       "</div>"
      ],
      "text/plain": [
       "            PopRec     CLiMF    BPR_MF       iMF     TFMAP\n",
       "prec@5    0.137142  0.132036  0.092401  0.164594  0.040211\n",
       "1recal@5  0.421638  0.412026  0.305521  0.534991  0.183456\n",
       "NDCG@5    0.147326  0.140220  0.101150  0.170794  0.044135\n",
       "MAP@5     0.260333  0.247822  0.188662  0.302587  0.100207\n",
       "MRR       0.301853  0.290937  0.225110  0.349801  0.134565\n",
       "AUC       0.858188  0.853926  0.736862  0.924362  0.838477"
      ]
     },
     "execution_count": 17,
     "metadata": {},
     "output_type": "execute_result"
    }
   ],
   "source": [
    "climf_experiment(ml1m, create_list_cf(ml1m_shape), K=0.1, maxiter=3, topK=5, verbose=1)"
   ]
  },
  {
   "cell_type": "code",
   "execution_count": 18,
   "metadata": {
    "collapsed": false
   },
   "outputs": [
    {
     "data": {
      "text/html": [
       "<div>\n",
       "<table border=\"1\" class=\"dataframe\">\n",
       "  <thead>\n",
       "    <tr style=\"text-align: right;\">\n",
       "      <th></th>\n",
       "      <th>PopRec</th>\n",
       "      <th>CLiMF</th>\n",
       "      <th>BPR_MF</th>\n",
       "      <th>iMF</th>\n",
       "      <th>TFMAP</th>\n",
       "    </tr>\n",
       "  </thead>\n",
       "  <tbody>\n",
       "    <tr>\n",
       "      <th>prec@5</th>\n",
       "      <td>0.226083</td>\n",
       "      <td>0.216616</td>\n",
       "      <td>0.153986</td>\n",
       "      <td>0.278717</td>\n",
       "      <td>0.076987</td>\n",
       "    </tr>\n",
       "    <tr>\n",
       "      <th>1recal@5</th>\n",
       "      <td>0.568751</td>\n",
       "      <td>0.566829</td>\n",
       "      <td>0.430228</td>\n",
       "      <td>0.713522</td>\n",
       "      <td>0.317835</td>\n",
       "    </tr>\n",
       "    <tr>\n",
       "      <th>NDCG@5</th>\n",
       "      <td>0.237163</td>\n",
       "      <td>0.225544</td>\n",
       "      <td>0.164639</td>\n",
       "      <td>0.286774</td>\n",
       "      <td>0.085750</td>\n",
       "    </tr>\n",
       "    <tr>\n",
       "      <th>MAP@5</th>\n",
       "      <td>0.371927</td>\n",
       "      <td>0.356648</td>\n",
       "      <td>0.275540</td>\n",
       "      <td>0.440588</td>\n",
       "      <td>0.184778</td>\n",
       "    </tr>\n",
       "    <tr>\n",
       "      <th>MRR</th>\n",
       "      <td>0.413433</td>\n",
       "      <td>0.402515</td>\n",
       "      <td>0.315132</td>\n",
       "      <td>0.489345</td>\n",
       "      <td>0.223519</td>\n",
       "    </tr>\n",
       "    <tr>\n",
       "      <th>AUC</th>\n",
       "      <td>0.858286</td>\n",
       "      <td>0.854011</td>\n",
       "      <td>0.730523</td>\n",
       "      <td>0.923886</td>\n",
       "      <td>0.839656</td>\n",
       "    </tr>\n",
       "  </tbody>\n",
       "</table>\n",
       "</div>"
      ],
      "text/plain": [
       "            PopRec     CLiMF    BPR_MF       iMF     TFMAP\n",
       "prec@5    0.226083  0.216616  0.153986  0.278717  0.076987\n",
       "1recal@5  0.568751  0.566829  0.430228  0.713522  0.317835\n",
       "NDCG@5    0.237163  0.225544  0.164639  0.286774  0.085750\n",
       "MAP@5     0.371927  0.356648  0.275540  0.440588  0.184778\n",
       "MRR       0.413433  0.402515  0.315132  0.489345  0.223519\n",
       "AUC       0.858286  0.854011  0.730523  0.923886  0.839656"
      ]
     },
     "execution_count": 18,
     "metadata": {},
     "output_type": "execute_result"
    }
   ],
   "source": [
    "climf_experiment(ml1m, create_list_cf(ml1m_shape), K=0.2, maxiter=3, topK=5, verbose=0)"
   ]
  },
  {
   "cell_type": "markdown",
   "metadata": {},
   "source": [
    "### Построение ансамбля"
   ]
  },
  {
   "cell_type": "markdown",
   "metadata": {},
   "source": [
    "# Netflix ensemble\n",
    "# Regression"
   ]
  },
  {
   "cell_type": "code",
   "execution_count": 20,
   "metadata": {
    "collapsed": false
   },
   "outputs": [],
   "source": [
    "from sklearn import cross_validation\n",
    "import rankensemble\n",
    "import rankingmeasure"
   ]
  },
  {
   "cell_type": "code",
   "execution_count": 21,
   "metadata": {
    "collapsed": true
   },
   "outputs": [],
   "source": [
    "def netflix_ensemble_experiment(data, list_cf, list_ensemble, Ktrain=0.1, Kvalidation=0.1, \n",
    "                                     maxiter=1, topK=5,  verbose=0):\n",
    "    res = np.zeros((4, len(list_cf) + len(list_ensemble)))\n",
    "    for t in range(maxiter):\n",
    "        test, train, traintest = ratio_train_test(data, Ktrain + Kvalidation)\n",
    "        validation, train, trainvalidation = ratio_train_test(train, Kvalidation, data_is_xlist=True)\n",
    "        \n",
    "        for i in range(len(list_cf)):\n",
    "            list_cf[i].fit(train)\n",
    "            prec_k, one_recal_k, ngdc, mp = rankingmeasure.get_Kmetrics(trainvalidation, test, list_cf[i], K=topK)\n",
    "            res[:, i] += np.array([prec_k, one_recal_k, ngdc, mp])\n",
    "            if verbose == 1:\n",
    "                print(t, i, res[:, i] / (t + 1))\n",
    "                sys.stdout.flush()\n",
    "        for j, ens in enumerate(list_ensemble):\n",
    "            m = j + len(list_cf)\n",
    "            ens.fit(list_cf, validation, train, trainvalidation)\n",
    "#             return X, y\n",
    "            prec_k, one_recal_k, ngdc, mp = rankingmeasure.get_Kmetrics(trainvalidation, test, ens, K=topK)\n",
    "            res[:, m] += np.array([prec_k, one_recal_k, ngdc, mp])\n",
    "            if verbose == 1:\n",
    "                print(t,  m, res[:, m] / (t + 1))\n",
    "#         for j, ens in enumerate(list_ensemble):\n",
    "#             m = j + len(list_cf)\n",
    "#             ens.fit(list_cf)\n",
    "#             prec_k, one_recal_k, ngdc, mp = rankingmeasure.get_Kmetrics(train, test, ens, K=topK)\n",
    "#             res[:, m] += np.array([prec_k, one_recal_k, ngdc, mp])\n",
    "#             if verbose == 1:\n",
    "#                 print(t, m, res[:, m] / (t +1))\n",
    "        \n",
    "    res /= maxiter\n",
    "    res[:, len(list_cf) - 1] = np.max(res[:, :len(list_cf)], axis=1)\n",
    "    res = res[:, len(list_cf)- 1:]\n",
    "    res = pd.DataFrame(res)\n",
    "    res.columns = [\"best_result\"] + [type(ens).__name__ for ens  in list_ensemble]\n",
    "    res.index = [name + str(topK) for name in ['prec@', '1recal@', 'NDCG@', 'MAP@']]\n",
    "#     res.index = []\n",
    "#     res.columns = ['PopRec', 'CLiMF', 'BRP_MP', 'iMF', 'TFMAP', 'top_ensemble', 'rating_ensamble']\n",
    "#     res.index = ['prec@' + str(topK),'1recal@' + str(topK), 'NDCG@' + str(topK), \n",
    "#                'MAP@' + str(topK)]\n",
    "    return res"
   ]
  },
  {
   "cell_type": "code",
   "execution_count": 22,
   "metadata": {
    "collapsed": false
   },
   "outputs": [],
   "source": [
    "from sklearn import linear_model\n",
    "import rankensemble\n",
    "from sklearn import ensemble\n",
    "from sklearn.kernel_ridge import KernelRidge"
   ]
  },
  {
   "cell_type": "code",
   "execution_count": 23,
   "metadata": {
    "collapsed": true
   },
   "outputs": [],
   "source": [
    "import copy"
   ]
  },
  {
   "cell_type": "code",
   "execution_count": 26,
   "metadata": {
    "collapsed": false
   },
   "outputs": [],
   "source": [
    "list_ensemble = [\n",
    "    rankensemble.regression_ensemble(linear_model.Ridge(alpha=100)),\n",
    "    rankensemble.inner_value_ensemble(),\n",
    "    rankensemble.boost_val_ens(rankingmeasure.get_NDCG,[3,0,1,2], num_weights=11),\n",
    "    rankensemble.tree_val_ens(rankingmeasure.get_NDCG, [[3, 0],[1,2]], num_weights=11)\n",
    "]"
   ]
  },
  {
   "cell_type": "code",
   "execution_count": 28,
   "metadata": {
    "collapsed": false
   },
   "outputs": [
    {
     "data": {
      "text/html": [
       "<div>\n",
       "<table border=\"1\" class=\"dataframe\">\n",
       "  <thead>\n",
       "    <tr style=\"text-align: right;\">\n",
       "      <th></th>\n",
       "      <th>best_result</th>\n",
       "      <th>regression_ensemble</th>\n",
       "      <th>inner_value_ensemble</th>\n",
       "      <th>boost_val_ens</th>\n",
       "      <th>tree_val_ens</th>\n",
       "    </tr>\n",
       "  </thead>\n",
       "  <tbody>\n",
       "    <tr>\n",
       "      <th>prec@5</th>\n",
       "      <td>0.265658</td>\n",
       "      <td>0.285211</td>\n",
       "      <td>0.304566</td>\n",
       "      <td>0.317171</td>\n",
       "      <td>0.349231</td>\n",
       "    </tr>\n",
       "    <tr>\n",
       "      <th>1recal@5</th>\n",
       "      <td>0.737965</td>\n",
       "      <td>0.747146</td>\n",
       "      <td>0.760546</td>\n",
       "      <td>0.785112</td>\n",
       "      <td>0.814640</td>\n",
       "    </tr>\n",
       "    <tr>\n",
       "      <th>NDCG@5</th>\n",
       "      <td>0.271330</td>\n",
       "      <td>0.298829</td>\n",
       "      <td>0.314069</td>\n",
       "      <td>0.330188</td>\n",
       "      <td>0.363540</td>\n",
       "    </tr>\n",
       "    <tr>\n",
       "      <th>MAP@5</th>\n",
       "      <td>0.432628</td>\n",
       "      <td>0.469760</td>\n",
       "      <td>0.476026</td>\n",
       "      <td>0.501023</td>\n",
       "      <td>0.536181</td>\n",
       "    </tr>\n",
       "  </tbody>\n",
       "</table>\n",
       "</div>"
      ],
      "text/plain": [
       "          best_result  regression_ensemble  inner_value_ensemble  \\\n",
       "prec@5       0.265658             0.285211              0.304566   \n",
       "1recal@5     0.737965             0.747146              0.760546   \n",
       "NDCG@5       0.271330             0.298829              0.314069   \n",
       "MAP@5        0.432628             0.469760              0.476026   \n",
       "\n",
       "          boost_val_ens  tree_val_ens  \n",
       "prec@5         0.317171      0.349231  \n",
       "1recal@5       0.785112      0.814640  \n",
       "NDCG@5         0.330188      0.363540  \n",
       "MAP@5          0.501023      0.536181  "
      ]
     },
     "execution_count": 28,
     "metadata": {},
     "output_type": "execute_result"
    }
   ],
   "source": [
    "netflix_ensemble_experiment(ml100k, create_list_cf(ml100k_shape)[1:5], list_ensemble, Ktrain=0.1, Kvalidation=0.1, verbose=0, maxiter=5)"
   ]
  },
  {
   "cell_type": "code",
   "execution_count": 29,
   "metadata": {
    "collapsed": false
   },
   "outputs": [
    {
     "name": "stdout",
     "output_type": "stream",
     "text": [
      "0 0 [ 0.28312655  0.66129032  0.31122451  0.47448994]\n",
      "0 1 [ 0.30198511  0.74689826  0.30708344  0.45899676]\n",
      "0 2 [ 0.34764268  0.81885856  0.35178775  0.51665288]\n",
      "0 3 [ 0.3         0.77047146  0.29314929  0.43823752]\n",
      "0 4 [ 0.37295285  0.83126551  0.39198969  0.56528639]\n",
      "0 5 [ 0.38957816  0.82382134  0.39621097  0.54021402]\n",
      "0 6 [ 0.32332506  0.79404467  0.32910773  0.49076716]\n",
      "0 7 [ 0.39478908  0.83870968  0.39405856  0.53532534]\n",
      "1 0 [ 0.28064516  0.68176179  0.30430307  0.47113231]\n",
      "1 1 [ 0.30136476  0.74689826  0.30803539  0.46406293]\n",
      "1 2 [ 0.34540943  0.82133995  0.35088009  0.51578181]\n",
      "1 3 [ 0.29913151  0.77667494  0.29969983  0.45611215]\n",
      "1 4 [ 0.36575682  0.83808933  0.38443757  0.56224238]\n",
      "1 5 [ 0.38362283  0.83622829  0.39270079  0.55015595]\n",
      "1 6 [ 0.33325062  0.808933    0.33954008  0.50283895]\n",
      "1 7 [ 0.42952854  0.87220844  0.43824681  0.59177437]\n",
      "2 0 [ 0.28858561  0.69892473  0.3127589   0.48266474]\n",
      "2 1 [ 0.30430108  0.75144748  0.31337982  0.47481102]\n",
      "2 2 [ 0.34913151  0.82588916  0.35357604  0.51625999]\n",
      "2 3 [ 0.30090984  0.77915633  0.30380704  0.46328865]\n",
      "2 4 [ 0.36509512  0.83498759  0.38374199  0.55943043]\n",
      "2 5 [ 0.38362283  0.83746898  0.39306558  0.55135155]\n",
      "2 6 [ 0.3770885   0.83746898  0.38756066  0.55001723]\n",
      "2 7 [ 0.44086022  0.882134    0.45108086  0.60677959]\n",
      "3 0 [ 0.28740695  0.70471464  0.31053284  0.48171224]\n",
      "3 1 [ 0.30632754  0.76023573  0.31638235  0.48004894]\n",
      "3 2 [ 0.35012407  0.82909429  0.35564045  0.52106424]\n",
      "3 3 [ 0.30148883  0.77419355  0.30509364  0.46301308]\n",
      "3 4 [ 0.36538462  0.83436725  0.38342215  0.55829801]\n",
      "3 5 [ 0.38616625  0.83901985  0.39590622  0.55466553]\n",
      "3 6 [ 0.37109181  0.83777916  0.38112892  0.54638217]\n",
      "3 7 [ 0.4471464   0.88740695  0.46065448  0.62061104]\n",
      "4 0 [ 0.28774194  0.7044665   0.3097261   0.47945651]\n",
      "4 1 [ 0.3044665   0.75831266  0.31500941  0.47946099]\n",
      "4 2 [ 0.34709677  0.82431762  0.3514056   0.51399262]\n",
      "4 3 [ 0.30039702  0.77444169  0.30224572  0.45720533]\n",
      "4 4 [ 0.36540943  0.83573201  0.3832618   0.55829577]\n",
      "4 5 [ 0.38605459  0.83945409  0.39660721  0.55706472]\n",
      "4 6 [ 0.37875931  0.84243176  0.38859804  0.55234078]\n",
      "4 7 [ 0.44799007  0.88808933  0.461808    0.62259994]\n"
     ]
    },
    {
     "data": {
      "text/html": [
       "<div>\n",
       "<table border=\"1\" class=\"dataframe\">\n",
       "  <thead>\n",
       "    <tr style=\"text-align: right;\">\n",
       "      <th></th>\n",
       "      <th>best_result</th>\n",
       "      <th>regression_ensemble</th>\n",
       "      <th>inner_value_ensemble</th>\n",
       "      <th>boost_val_ens</th>\n",
       "      <th>tree_val_ens</th>\n",
       "    </tr>\n",
       "  </thead>\n",
       "  <tbody>\n",
       "    <tr>\n",
       "      <th>prec@5</th>\n",
       "      <td>0.347097</td>\n",
       "      <td>0.365409</td>\n",
       "      <td>0.386055</td>\n",
       "      <td>0.378759</td>\n",
       "      <td>0.447990</td>\n",
       "    </tr>\n",
       "    <tr>\n",
       "      <th>1recal@5</th>\n",
       "      <td>0.824318</td>\n",
       "      <td>0.835732</td>\n",
       "      <td>0.839454</td>\n",
       "      <td>0.842432</td>\n",
       "      <td>0.888089</td>\n",
       "    </tr>\n",
       "    <tr>\n",
       "      <th>NDCG@5</th>\n",
       "      <td>0.351406</td>\n",
       "      <td>0.383262</td>\n",
       "      <td>0.396607</td>\n",
       "      <td>0.388598</td>\n",
       "      <td>0.461808</td>\n",
       "    </tr>\n",
       "    <tr>\n",
       "      <th>MAP@5</th>\n",
       "      <td>0.513993</td>\n",
       "      <td>0.558296</td>\n",
       "      <td>0.557065</td>\n",
       "      <td>0.552341</td>\n",
       "      <td>0.622600</td>\n",
       "    </tr>\n",
       "  </tbody>\n",
       "</table>\n",
       "</div>"
      ],
      "text/plain": [
       "          best_result  regression_ensemble  inner_value_ensemble  \\\n",
       "prec@5       0.347097             0.365409              0.386055   \n",
       "1recal@5     0.824318             0.835732              0.839454   \n",
       "NDCG@5       0.351406             0.383262              0.396607   \n",
       "MAP@5        0.513993             0.558296              0.557065   \n",
       "\n",
       "          boost_val_ens  tree_val_ens  \n",
       "prec@5         0.378759      0.447990  \n",
       "1recal@5       0.842432      0.888089  \n",
       "NDCG@5         0.388598      0.461808  \n",
       "MAP@5          0.552341      0.622600  "
      ]
     },
     "execution_count": 29,
     "metadata": {},
     "output_type": "execute_result"
    }
   ],
   "source": [
    "netflix_ensemble_experiment(ml100k, create_list_cf(ml100k_shape)[1:5], list_ensemble, Ktrain=0.2, Kvalidation=0.1, verbose=1, maxiter=5)"
   ]
  },
  {
   "cell_type": "code",
   "execution_count": 30,
   "metadata": {
    "collapsed": false
   },
   "outputs": [
    {
     "data": {
      "text/html": [
       "<div>\n",
       "<table border=\"1\" class=\"dataframe\">\n",
       "  <thead>\n",
       "    <tr style=\"text-align: right;\">\n",
       "      <th></th>\n",
       "      <th>best_result</th>\n",
       "      <th>regression_ensemble</th>\n",
       "      <th>inner_value_ensemble</th>\n",
       "      <th>boost_val_ens</th>\n",
       "      <th>tree_val_ens</th>\n",
       "    </tr>\n",
       "  </thead>\n",
       "  <tbody>\n",
       "    <tr>\n",
       "      <th>prec@5</th>\n",
       "      <td>0.125085</td>\n",
       "      <td>0.074718</td>\n",
       "      <td>0.075414</td>\n",
       "      <td>0.127037</td>\n",
       "      <td>0.127159</td>\n",
       "    </tr>\n",
       "    <tr>\n",
       "      <th>1recal@5</th>\n",
       "      <td>0.422247</td>\n",
       "      <td>0.288309</td>\n",
       "      <td>0.289747</td>\n",
       "      <td>0.429436</td>\n",
       "      <td>0.430269</td>\n",
       "    </tr>\n",
       "    <tr>\n",
       "      <th>NDCG@5</th>\n",
       "      <td>0.132230</td>\n",
       "      <td>0.081194</td>\n",
       "      <td>0.082103</td>\n",
       "      <td>0.134896</td>\n",
       "      <td>0.134647</td>\n",
       "    </tr>\n",
       "    <tr>\n",
       "      <th>MAP@5</th>\n",
       "      <td>0.244243</td>\n",
       "      <td>0.164799</td>\n",
       "      <td>0.166187</td>\n",
       "      <td>0.249561</td>\n",
       "      <td>0.248770</td>\n",
       "    </tr>\n",
       "  </tbody>\n",
       "</table>\n",
       "</div>"
      ],
      "text/plain": [
       "          best_result  regression_ensemble  inner_value_ensemble  \\\n",
       "prec@5       0.125085             0.074718              0.075414   \n",
       "1recal@5     0.422247             0.288309              0.289747   \n",
       "NDCG@5       0.132230             0.081194              0.082103   \n",
       "MAP@5        0.244243             0.164799              0.166187   \n",
       "\n",
       "          boost_val_ens  tree_val_ens  \n",
       "prec@5         0.127037      0.127159  \n",
       "1recal@5       0.429436      0.430269  \n",
       "NDCG@5         0.134896      0.134647  \n",
       "MAP@5          0.249561      0.248770  "
      ]
     },
     "execution_count": 30,
     "metadata": {},
     "output_type": "execute_result"
    }
   ],
   "source": [
    "netflix_ensemble_experiment(epinion, create_list_cf(epinion_shape)[1:5], list_ensemble, Ktrain=0.1, Kvalidation=0.1, verbose=0, maxiter=3)"
   ]
  },
  {
   "cell_type": "code",
   "execution_count": 31,
   "metadata": {
    "collapsed": false
   },
   "outputs": [
    {
     "data": {
      "text/html": [
       "<div>\n",
       "<table border=\"1\" class=\"dataframe\">\n",
       "  <thead>\n",
       "    <tr style=\"text-align: right;\">\n",
       "      <th></th>\n",
       "      <th>best_result</th>\n",
       "      <th>regression_ensemble</th>\n",
       "      <th>inner_value_ensemble</th>\n",
       "      <th>boost_val_ens</th>\n",
       "      <th>tree_val_ens</th>\n",
       "    </tr>\n",
       "  </thead>\n",
       "  <tbody>\n",
       "    <tr>\n",
       "      <th>prec@5</th>\n",
       "      <td>0.170140</td>\n",
       "      <td>0.097783</td>\n",
       "      <td>0.110102</td>\n",
       "      <td>0.174014</td>\n",
       "      <td>0.171986</td>\n",
       "    </tr>\n",
       "    <tr>\n",
       "      <th>1recal@5</th>\n",
       "      <td>0.517367</td>\n",
       "      <td>0.355959</td>\n",
       "      <td>0.384185</td>\n",
       "      <td>0.529625</td>\n",
       "      <td>0.522966</td>\n",
       "    </tr>\n",
       "    <tr>\n",
       "      <th>NDCG@5</th>\n",
       "      <td>0.179068</td>\n",
       "      <td>0.102070</td>\n",
       "      <td>0.118748</td>\n",
       "      <td>0.183528</td>\n",
       "      <td>0.180995</td>\n",
       "    </tr>\n",
       "    <tr>\n",
       "      <th>MAP@5</th>\n",
       "      <td>0.308853</td>\n",
       "      <td>0.194671</td>\n",
       "      <td>0.225727</td>\n",
       "      <td>0.317287</td>\n",
       "      <td>0.312207</td>\n",
       "    </tr>\n",
       "  </tbody>\n",
       "</table>\n",
       "</div>"
      ],
      "text/plain": [
       "          best_result  regression_ensemble  inner_value_ensemble  \\\n",
       "prec@5       0.170140             0.097783              0.110102   \n",
       "1recal@5     0.517367             0.355959              0.384185   \n",
       "NDCG@5       0.179068             0.102070              0.118748   \n",
       "MAP@5        0.308853             0.194671              0.225727   \n",
       "\n",
       "          boost_val_ens  tree_val_ens  \n",
       "prec@5         0.174014      0.171986  \n",
       "1recal@5       0.529625      0.522966  \n",
       "NDCG@5         0.183528      0.180995  \n",
       "MAP@5          0.317287      0.312207  "
      ]
     },
     "execution_count": 31,
     "metadata": {},
     "output_type": "execute_result"
    }
   ],
   "source": [
    "netflix_ensemble_experiment(epinion, create_list_cf(epinion_shape)[1:5], list_ensemble, Ktrain=0.2, Kvalidation=0.1, verbose=0, maxiter=3)"
   ]
  },
  {
   "cell_type": "code",
   "execution_count": 32,
   "metadata": {
    "collapsed": false
   },
   "outputs": [
    {
     "data": {
      "text/html": [
       "<div>\n",
       "<table border=\"1\" class=\"dataframe\">\n",
       "  <thead>\n",
       "    <tr style=\"text-align: right;\">\n",
       "      <th></th>\n",
       "      <th>best_result</th>\n",
       "      <th>regression_ensemble</th>\n",
       "      <th>inner_value_ensemble</th>\n",
       "      <th>boost_val_ens</th>\n",
       "      <th>tree_val_ens</th>\n",
       "    </tr>\n",
       "  </thead>\n",
       "  <tbody>\n",
       "    <tr>\n",
       "      <th>prec@5</th>\n",
       "      <td>0.285253</td>\n",
       "      <td>0.236992</td>\n",
       "      <td>0.309485</td>\n",
       "      <td>0.351126</td>\n",
       "      <td>0.335580</td>\n",
       "    </tr>\n",
       "    <tr>\n",
       "      <th>1recal@5</th>\n",
       "      <td>0.726377</td>\n",
       "      <td>0.591698</td>\n",
       "      <td>0.707815</td>\n",
       "      <td>0.763621</td>\n",
       "      <td>0.743798</td>\n",
       "    </tr>\n",
       "    <tr>\n",
       "      <th>NDCG@5</th>\n",
       "      <td>0.293531</td>\n",
       "      <td>0.246130</td>\n",
       "      <td>0.322833</td>\n",
       "      <td>0.368761</td>\n",
       "      <td>0.351395</td>\n",
       "    </tr>\n",
       "    <tr>\n",
       "      <th>MAP@5</th>\n",
       "      <td>0.448811</td>\n",
       "      <td>0.375218</td>\n",
       "      <td>0.474157</td>\n",
       "      <td>0.527906</td>\n",
       "      <td>0.507440</td>\n",
       "    </tr>\n",
       "  </tbody>\n",
       "</table>\n",
       "</div>"
      ],
      "text/plain": [
       "          best_result  regression_ensemble  inner_value_ensemble  \\\n",
       "prec@5       0.285253             0.236992              0.309485   \n",
       "1recal@5     0.726377             0.591698              0.707815   \n",
       "NDCG@5       0.293531             0.246130              0.322833   \n",
       "MAP@5        0.448811             0.375218              0.474157   \n",
       "\n",
       "          boost_val_ens  tree_val_ens  \n",
       "prec@5         0.351126      0.335580  \n",
       "1recal@5       0.763621      0.743798  \n",
       "NDCG@5         0.368761      0.351395  \n",
       "MAP@5          0.527906      0.507440  "
      ]
     },
     "execution_count": 32,
     "metadata": {},
     "output_type": "execute_result"
    }
   ],
   "source": [
    "netflix_ensemble_experiment(ml1m, create_list_cf(ml1m_shape)[1:5], list_ensemble, Ktrain=0.1, Kvalidation=0.1, verbose=0, maxiter=3)"
   ]
  },
  {
   "cell_type": "code",
   "execution_count": 33,
   "metadata": {
    "collapsed": false
   },
   "outputs": [
    {
     "data": {
      "text/html": [
       "<div>\n",
       "<table border=\"1\" class=\"dataframe\">\n",
       "  <thead>\n",
       "    <tr style=\"text-align: right;\">\n",
       "      <th></th>\n",
       "      <th>best_result</th>\n",
       "      <th>regression_ensemble</th>\n",
       "      <th>inner_value_ensemble</th>\n",
       "      <th>boost_val_ens</th>\n",
       "      <th>tree_val_ens</th>\n",
       "    </tr>\n",
       "  </thead>\n",
       "  <tbody>\n",
       "    <tr>\n",
       "      <th>prec@5</th>\n",
       "      <td>0.377017</td>\n",
       "      <td>0.310242</td>\n",
       "      <td>0.377509</td>\n",
       "      <td>0.441088</td>\n",
       "      <td>0.438638</td>\n",
       "    </tr>\n",
       "    <tr>\n",
       "      <th>1recal@5</th>\n",
       "      <td>0.818466</td>\n",
       "      <td>0.686009</td>\n",
       "      <td>0.767766</td>\n",
       "      <td>0.838469</td>\n",
       "      <td>0.836847</td>\n",
       "    </tr>\n",
       "    <tr>\n",
       "      <th>NDCG@5</th>\n",
       "      <td>0.386230</td>\n",
       "      <td>0.318862</td>\n",
       "      <td>0.389958</td>\n",
       "      <td>0.458320</td>\n",
       "      <td>0.453804</td>\n",
       "    </tr>\n",
       "    <tr>\n",
       "      <th>MAP@5</th>\n",
       "      <td>0.541651</td>\n",
       "      <td>0.453819</td>\n",
       "      <td>0.536283</td>\n",
       "      <td>0.610640</td>\n",
       "      <td>0.603992</td>\n",
       "    </tr>\n",
       "  </tbody>\n",
       "</table>\n",
       "</div>"
      ],
      "text/plain": [
       "          best_result  regression_ensemble  inner_value_ensemble  \\\n",
       "prec@5       0.377017             0.310242              0.377509   \n",
       "1recal@5     0.818466             0.686009              0.767766   \n",
       "NDCG@5       0.386230             0.318862              0.389958   \n",
       "MAP@5        0.541651             0.453819              0.536283   \n",
       "\n",
       "          boost_val_ens  tree_val_ens  \n",
       "prec@5         0.441088      0.438638  \n",
       "1recal@5       0.838469      0.836847  \n",
       "NDCG@5         0.458320      0.453804  \n",
       "MAP@5          0.610640      0.603992  "
      ]
     },
     "execution_count": 33,
     "metadata": {},
     "output_type": "execute_result"
    }
   ],
   "source": [
    "netflix_ensemble_experiment(ml1m, create_list_cf(ml1m_shape)[1:5], list_ensemble, Ktrain=0.2, Kvalidation=0.1, verbose=0, maxiter=3)"
   ]
  },
  {
   "cell_type": "code",
   "execution_count": 34,
   "metadata": {
    "collapsed": false
   },
   "outputs": [
    {
     "data": {
      "text/html": [
       "<div>\n",
       "<table border=\"1\" class=\"dataframe\">\n",
       "  <thead>\n",
       "    <tr style=\"text-align: right;\">\n",
       "      <th></th>\n",
       "      <th>best_result</th>\n",
       "      <th>regression_ensemble</th>\n",
       "      <th>inner_value_ensemble</th>\n",
       "      <th>boost_val_ens</th>\n",
       "      <th>tree_val_ens</th>\n",
       "    </tr>\n",
       "  </thead>\n",
       "  <tbody>\n",
       "    <tr>\n",
       "      <th>prec@5</th>\n",
       "      <td>0.070862</td>\n",
       "      <td>0.036871</td>\n",
       "      <td>0.038606</td>\n",
       "      <td>0.071834</td>\n",
       "      <td>0.071596</td>\n",
       "    </tr>\n",
       "    <tr>\n",
       "      <th>1recal@5</th>\n",
       "      <td>0.255625</td>\n",
       "      <td>0.161137</td>\n",
       "      <td>0.166714</td>\n",
       "      <td>0.259296</td>\n",
       "      <td>0.259296</td>\n",
       "    </tr>\n",
       "    <tr>\n",
       "      <th>NDCG@5</th>\n",
       "      <td>0.076569</td>\n",
       "      <td>0.040013</td>\n",
       "      <td>0.041458</td>\n",
       "      <td>0.077512</td>\n",
       "      <td>0.077082</td>\n",
       "    </tr>\n",
       "    <tr>\n",
       "      <th>MAP@5</th>\n",
       "      <td>0.148273</td>\n",
       "      <td>0.087508</td>\n",
       "      <td>0.089294</td>\n",
       "      <td>0.150235</td>\n",
       "      <td>0.149272</td>\n",
       "    </tr>\n",
       "  </tbody>\n",
       "</table>\n",
       "</div>"
      ],
      "text/plain": [
       "          best_result  regression_ensemble  inner_value_ensemble  \\\n",
       "prec@5       0.070862             0.036871              0.038606   \n",
       "1recal@5     0.255625             0.161137              0.166714   \n",
       "NDCG@5       0.076569             0.040013              0.041458   \n",
       "MAP@5        0.148273             0.087508              0.089294   \n",
       "\n",
       "          boost_val_ens  tree_val_ens  \n",
       "prec@5         0.071834      0.071596  \n",
       "1recal@5       0.259296      0.259296  \n",
       "NDCG@5         0.077512      0.077082  \n",
       "MAP@5          0.150235      0.149272  "
      ]
     },
     "execution_count": 34,
     "metadata": {},
     "output_type": "execute_result"
    }
   ],
   "source": [
    "netflix_ensemble_experiment(slashdot, create_list_cf(slashdot_shape)[1:5], list_ensemble, Ktrain=0.1, Kvalidation=0.1, verbose=0, maxiter=3)"
   ]
  },
  {
   "cell_type": "code",
   "execution_count": 35,
   "metadata": {
    "collapsed": false
   },
   "outputs": [
    {
     "data": {
      "text/html": [
       "<div>\n",
       "<table border=\"1\" class=\"dataframe\">\n",
       "  <thead>\n",
       "    <tr style=\"text-align: right;\">\n",
       "      <th></th>\n",
       "      <th>best_result</th>\n",
       "      <th>regression_ensemble</th>\n",
       "      <th>inner_value_ensemble</th>\n",
       "      <th>boost_val_ens</th>\n",
       "      <th>tree_val_ens</th>\n",
       "    </tr>\n",
       "  </thead>\n",
       "  <tbody>\n",
       "    <tr>\n",
       "      <th>prec@5</th>\n",
       "      <td>0.098551</td>\n",
       "      <td>0.051783</td>\n",
       "      <td>0.056817</td>\n",
       "      <td>0.098427</td>\n",
       "      <td>0.098045</td>\n",
       "    </tr>\n",
       "    <tr>\n",
       "      <th>1recal@5</th>\n",
       "      <td>0.330282</td>\n",
       "      <td>0.214340</td>\n",
       "      <td>0.230931</td>\n",
       "      <td>0.330616</td>\n",
       "      <td>0.330950</td>\n",
       "    </tr>\n",
       "    <tr>\n",
       "      <th>NDCG@5</th>\n",
       "      <td>0.105175</td>\n",
       "      <td>0.054439</td>\n",
       "      <td>0.059734</td>\n",
       "      <td>0.105594</td>\n",
       "      <td>0.105629</td>\n",
       "    </tr>\n",
       "    <tr>\n",
       "      <th>MAP@5</th>\n",
       "      <td>0.193620</td>\n",
       "      <td>0.112115</td>\n",
       "      <td>0.122089</td>\n",
       "      <td>0.195545</td>\n",
       "      <td>0.196683</td>\n",
       "    </tr>\n",
       "  </tbody>\n",
       "</table>\n",
       "</div>"
      ],
      "text/plain": [
       "          best_result  regression_ensemble  inner_value_ensemble  \\\n",
       "prec@5       0.098551             0.051783              0.056817   \n",
       "1recal@5     0.330282             0.214340              0.230931   \n",
       "NDCG@5       0.105175             0.054439              0.059734   \n",
       "MAP@5        0.193620             0.112115              0.122089   \n",
       "\n",
       "          boost_val_ens  tree_val_ens  \n",
       "prec@5         0.098427      0.098045  \n",
       "1recal@5       0.330616      0.330950  \n",
       "NDCG@5         0.105594      0.105629  \n",
       "MAP@5          0.195545      0.196683  "
      ]
     },
     "execution_count": 35,
     "metadata": {},
     "output_type": "execute_result"
    }
   ],
   "source": [
    "netflix_ensemble_experiment(slashdot, create_list_cf(slashdot_shape)[1:5], list_ensemble, Ktrain=0.2, Kvalidation=0.1, verbose=0, maxiter=3)"
   ]
  },
  {
   "cell_type": "code",
   "execution_count": 38,
   "metadata": {
    "collapsed": true
   },
   "outputs": [],
   "source": [
    "list_ensemble = [\n",
    "    rankensemble.tree_val_ens(rankingmeasure.get_prec_K, [[3, 0],[1,2]], num_weights=11),\n",
    "    rankensemble.tree_val_ens(rankingmeasure.get_one_recal_K, [[3, 0],[1,2]], num_weights=11),\n",
    "    rankensemble.tree_val_ens(rankingmeasure.get_MAP, [[3, 0],[1,2]], num_weights=11),\n",
    "    rankensemble.tree_val_ens(rankingmeasure.get_NDCG, [[3, 0],[1,2]], num_weights=11)\n",
    "]"
   ]
  },
  {
   "cell_type": "code",
   "execution_count": 39,
   "metadata": {
    "collapsed": false
   },
   "outputs": [
    {
     "name": "stdout",
     "output_type": "stream",
     "text": [
      "0 0 [ 0.22332506  0.61538462  0.24058859  0.39543872]\n",
      "0 1 [ 0.21612903  0.63399504  0.22471367  0.38050386]\n",
      "0 2 [ 0.27791563  0.73573201  0.28724598  0.44967776]\n",
      "0 3 [ 0.182134    0.58808933  0.18348547  0.31746623]\n",
      "0 4 [ 0.34342432  0.80769231  0.35168185  0.513191  ]\n",
      "0 5 [ 0.33746898  0.79776675  0.34567404  0.50535739]\n",
      "0 6 [ 0.35235732  0.80397022  0.36339672  0.52675248]\n",
      "0 7 [ 0.35235732  0.80397022  0.36339672  0.52675248]\n",
      "1 0 [ 0.22704715  0.62655087  0.24165509  0.39345878]\n",
      "1 1 [ 0.21724566  0.63833747  0.22566895  0.37891594]\n",
      "1 2 [ 0.26761787  0.73387097  0.27435782  0.43690895]\n",
      "1 3 [ 0.18411911  0.58498759  0.18479258  0.31469965]\n",
      "1 4 [ 0.34367246  0.80707196  0.35214689  0.51401124]\n",
      "1 5 [ 0.33176179  0.79280397  0.34004437  0.50103822]\n",
      "1 6 [ 0.3439206   0.80024814  0.35172154  0.51168752]\n",
      "1 7 [ 0.3439206   0.80024814  0.35172154  0.51168752]\n",
      "2 0 [ 0.22828784  0.62365591  0.24232948  0.3938442 ]\n",
      "2 1 [ 0.21488834  0.63482217  0.22443837  0.37886109]\n",
      "2 2 [ 0.26311001  0.72870141  0.26918225  0.42984388]\n",
      "2 3 [ 0.18817204  0.59884202  0.18809715  0.32032499]\n",
      "2 4 [ 0.34234905  0.80521092  0.35285017  0.51862938]\n",
      "2 5 [ 0.33416046  0.80107527  0.34463871  0.51158384]\n",
      "2 6 [ 0.34789082  0.80769231  0.3572879   0.52110387]\n",
      "2 7 [ 0.34830438  0.80769231  0.3580782   0.52266795]\n"
     ]
    },
    {
     "data": {
      "text/html": [
       "<div>\n",
       "<table border=\"1\" class=\"dataframe\">\n",
       "  <thead>\n",
       "    <tr style=\"text-align: right;\">\n",
       "      <th></th>\n",
       "      <th>best_result</th>\n",
       "      <th>tree_val_ens</th>\n",
       "      <th>tree_val_ens</th>\n",
       "      <th>tree_val_ens</th>\n",
       "      <th>tree_val_ens</th>\n",
       "    </tr>\n",
       "  </thead>\n",
       "  <tbody>\n",
       "    <tr>\n",
       "      <th>prec@5</th>\n",
       "      <td>0.263110</td>\n",
       "      <td>0.342349</td>\n",
       "      <td>0.334160</td>\n",
       "      <td>0.347891</td>\n",
       "      <td>0.348304</td>\n",
       "    </tr>\n",
       "    <tr>\n",
       "      <th>1recal@5</th>\n",
       "      <td>0.728701</td>\n",
       "      <td>0.805211</td>\n",
       "      <td>0.801075</td>\n",
       "      <td>0.807692</td>\n",
       "      <td>0.807692</td>\n",
       "    </tr>\n",
       "    <tr>\n",
       "      <th>NDCG@5</th>\n",
       "      <td>0.269182</td>\n",
       "      <td>0.352850</td>\n",
       "      <td>0.344639</td>\n",
       "      <td>0.357288</td>\n",
       "      <td>0.358078</td>\n",
       "    </tr>\n",
       "    <tr>\n",
       "      <th>MAP@5</th>\n",
       "      <td>0.429844</td>\n",
       "      <td>0.518629</td>\n",
       "      <td>0.511584</td>\n",
       "      <td>0.521104</td>\n",
       "      <td>0.522668</td>\n",
       "    </tr>\n",
       "  </tbody>\n",
       "</table>\n",
       "</div>"
      ],
      "text/plain": [
       "          best_result  tree_val_ens  tree_val_ens  tree_val_ens  tree_val_ens\n",
       "prec@5       0.263110      0.342349      0.334160      0.347891      0.348304\n",
       "1recal@5     0.728701      0.805211      0.801075      0.807692      0.807692\n",
       "NDCG@5       0.269182      0.352850      0.344639      0.357288      0.358078\n",
       "MAP@5        0.429844      0.518629      0.511584      0.521104      0.522668"
      ]
     },
     "execution_count": 39,
     "metadata": {},
     "output_type": "execute_result"
    }
   ],
   "source": [
    "netflix_ensemble_experiment(ml100k, create_list_cf(ml100k_shape)[1:5], list_ensemble, Ktrain=0.1, Kvalidation=0.1, verbose=1, maxiter=3)"
   ]
  },
  {
   "cell_type": "code",
   "execution_count": 40,
   "metadata": {
    "collapsed": false
   },
   "outputs": [
    {
     "data": {
      "text/html": [
       "<div>\n",
       "<table border=\"1\" class=\"dataframe\">\n",
       "  <thead>\n",
       "    <tr style=\"text-align: right;\">\n",
       "      <th></th>\n",
       "      <th>best_result</th>\n",
       "      <th>tree_val_ens</th>\n",
       "      <th>tree_val_ens</th>\n",
       "      <th>tree_val_ens</th>\n",
       "      <th>tree_val_ens</th>\n",
       "    </tr>\n",
       "  </thead>\n",
       "  <tbody>\n",
       "    <tr>\n",
       "      <th>prec@5</th>\n",
       "      <td>0.351447</td>\n",
       "      <td>0.440199</td>\n",
       "      <td>0.444003</td>\n",
       "      <td>0.445988</td>\n",
       "      <td>0.453267</td>\n",
       "    </tr>\n",
       "    <tr>\n",
       "      <th>1recal@5</th>\n",
       "      <td>0.836228</td>\n",
       "      <td>0.893714</td>\n",
       "      <td>0.893714</td>\n",
       "      <td>0.889578</td>\n",
       "      <td>0.896195</td>\n",
       "    </tr>\n",
       "    <tr>\n",
       "      <th>NDCG@5</th>\n",
       "      <td>0.360177</td>\n",
       "      <td>0.450945</td>\n",
       "      <td>0.457084</td>\n",
       "      <td>0.460962</td>\n",
       "      <td>0.468127</td>\n",
       "    </tr>\n",
       "    <tr>\n",
       "      <th>MAP@5</th>\n",
       "      <td>0.529090</td>\n",
       "      <td>0.614101</td>\n",
       "      <td>0.619340</td>\n",
       "      <td>0.622686</td>\n",
       "      <td>0.630066</td>\n",
       "    </tr>\n",
       "  </tbody>\n",
       "</table>\n",
       "</div>"
      ],
      "text/plain": [
       "          best_result  tree_val_ens  tree_val_ens  tree_val_ens  tree_val_ens\n",
       "prec@5       0.351447      0.440199      0.444003      0.445988      0.453267\n",
       "1recal@5     0.836228      0.893714      0.893714      0.889578      0.896195\n",
       "NDCG@5       0.360177      0.450945      0.457084      0.460962      0.468127\n",
       "MAP@5        0.529090      0.614101      0.619340      0.622686      0.630066"
      ]
     },
     "execution_count": 40,
     "metadata": {},
     "output_type": "execute_result"
    }
   ],
   "source": [
    "netflix_ensemble_experiment(ml100k, create_list_cf(ml100k_shape)[1:5], list_ensemble, Ktrain=0.2, Kvalidation=0.1, verbose=0, maxiter=3)"
   ]
  },
  {
   "cell_type": "code",
   "execution_count": 41,
   "metadata": {
    "collapsed": false
   },
   "outputs": [
    {
     "data": {
      "text/html": [
       "<div>\n",
       "<table border=\"1\" class=\"dataframe\">\n",
       "  <thead>\n",
       "    <tr style=\"text-align: right;\">\n",
       "      <th></th>\n",
       "      <th>best_result</th>\n",
       "      <th>tree_val_ens</th>\n",
       "      <th>tree_val_ens</th>\n",
       "      <th>tree_val_ens</th>\n",
       "      <th>tree_val_ens</th>\n",
       "    </tr>\n",
       "  </thead>\n",
       "  <tbody>\n",
       "    <tr>\n",
       "      <th>prec@5</th>\n",
       "      <td>0.124495</td>\n",
       "      <td>0.124586</td>\n",
       "      <td>0.124601</td>\n",
       "      <td>0.126432</td>\n",
       "      <td>0.126054</td>\n",
       "    </tr>\n",
       "    <tr>\n",
       "      <th>1recal@5</th>\n",
       "      <td>0.419296</td>\n",
       "      <td>0.422550</td>\n",
       "      <td>0.422626</td>\n",
       "      <td>0.426182</td>\n",
       "      <td>0.426182</td>\n",
       "    </tr>\n",
       "    <tr>\n",
       "      <th>NDCG@5</th>\n",
       "      <td>0.131244</td>\n",
       "      <td>0.130698</td>\n",
       "      <td>0.130795</td>\n",
       "      <td>0.133830</td>\n",
       "      <td>0.133107</td>\n",
       "    </tr>\n",
       "    <tr>\n",
       "      <th>MAP@5</th>\n",
       "      <td>0.241765</td>\n",
       "      <td>0.241910</td>\n",
       "      <td>0.242172</td>\n",
       "      <td>0.247452</td>\n",
       "      <td>0.246365</td>\n",
       "    </tr>\n",
       "  </tbody>\n",
       "</table>\n",
       "</div>"
      ],
      "text/plain": [
       "          best_result  tree_val_ens  tree_val_ens  tree_val_ens  tree_val_ens\n",
       "prec@5       0.124495      0.124586      0.124601      0.126432      0.126054\n",
       "1recal@5     0.419296      0.422550      0.422626      0.426182      0.426182\n",
       "NDCG@5       0.131244      0.130698      0.130795      0.133830      0.133107\n",
       "MAP@5        0.241765      0.241910      0.242172      0.247452      0.246365"
      ]
     },
     "execution_count": 41,
     "metadata": {},
     "output_type": "execute_result"
    }
   ],
   "source": [
    "netflix_ensemble_experiment(epinion, create_list_cf(epinion_shape)[1:5], list_ensemble, Ktrain=0.1, Kvalidation=0.1, verbose=0, maxiter=3)"
   ]
  },
  {
   "cell_type": "code",
   "execution_count": 42,
   "metadata": {
    "collapsed": false
   },
   "outputs": [
    {
     "data": {
      "text/html": [
       "<div>\n",
       "<table border=\"1\" class=\"dataframe\">\n",
       "  <thead>\n",
       "    <tr style=\"text-align: right;\">\n",
       "      <th></th>\n",
       "      <th>best_result</th>\n",
       "      <th>tree_val_ens</th>\n",
       "      <th>tree_val_ens</th>\n",
       "      <th>tree_val_ens</th>\n",
       "      <th>tree_val_ens</th>\n",
       "    </tr>\n",
       "  </thead>\n",
       "  <tbody>\n",
       "    <tr>\n",
       "      <th>prec@5</th>\n",
       "      <td>0.170170</td>\n",
       "      <td>0.170655</td>\n",
       "      <td>0.170261</td>\n",
       "      <td>0.171426</td>\n",
       "      <td>0.171078</td>\n",
       "    </tr>\n",
       "    <tr>\n",
       "      <th>1recal@5</th>\n",
       "      <td>0.519107</td>\n",
       "      <td>0.525766</td>\n",
       "      <td>0.525085</td>\n",
       "      <td>0.528036</td>\n",
       "      <td>0.526523</td>\n",
       "    </tr>\n",
       "    <tr>\n",
       "      <th>NDCG@5</th>\n",
       "      <td>0.178672</td>\n",
       "      <td>0.178919</td>\n",
       "      <td>0.178419</td>\n",
       "      <td>0.180642</td>\n",
       "      <td>0.180292</td>\n",
       "    </tr>\n",
       "    <tr>\n",
       "      <th>MAP@5</th>\n",
       "      <td>0.307888</td>\n",
       "      <td>0.311483</td>\n",
       "      <td>0.310681</td>\n",
       "      <td>0.315460</td>\n",
       "      <td>0.314149</td>\n",
       "    </tr>\n",
       "  </tbody>\n",
       "</table>\n",
       "</div>"
      ],
      "text/plain": [
       "          best_result  tree_val_ens  tree_val_ens  tree_val_ens  tree_val_ens\n",
       "prec@5       0.170170      0.170655      0.170261      0.171426      0.171078\n",
       "1recal@5     0.519107      0.525766      0.525085      0.528036      0.526523\n",
       "NDCG@5       0.178672      0.178919      0.178419      0.180642      0.180292\n",
       "MAP@5        0.307888      0.311483      0.310681      0.315460      0.314149"
      ]
     },
     "execution_count": 42,
     "metadata": {},
     "output_type": "execute_result"
    }
   ],
   "source": [
    "netflix_ensemble_experiment(epinion, create_list_cf(epinion_shape)[1:5], list_ensemble, Ktrain=0.2, Kvalidation=0.1, verbose=0, maxiter=3)"
   ]
  },
  {
   "cell_type": "code",
   "execution_count": 43,
   "metadata": {
    "collapsed": false
   },
   "outputs": [
    {
     "data": {
      "text/html": [
       "<div>\n",
       "<table border=\"1\" class=\"dataframe\">\n",
       "  <thead>\n",
       "    <tr style=\"text-align: right;\">\n",
       "      <th></th>\n",
       "      <th>best_result</th>\n",
       "      <th>tree_val_ens</th>\n",
       "      <th>tree_val_ens</th>\n",
       "      <th>tree_val_ens</th>\n",
       "      <th>tree_val_ens</th>\n",
       "    </tr>\n",
       "  </thead>\n",
       "  <tbody>\n",
       "    <tr>\n",
       "      <th>prec@5</th>\n",
       "      <td>0.287884</td>\n",
       "      <td>0.318183</td>\n",
       "      <td>0.335916</td>\n",
       "      <td>0.354971</td>\n",
       "      <td>0.347666</td>\n",
       "    </tr>\n",
       "    <tr>\n",
       "      <th>1recal@5</th>\n",
       "      <td>0.728059</td>\n",
       "      <td>0.716586</td>\n",
       "      <td>0.738752</td>\n",
       "      <td>0.765964</td>\n",
       "      <td>0.752748</td>\n",
       "    </tr>\n",
       "    <tr>\n",
       "      <th>NDCG@5</th>\n",
       "      <td>0.296990</td>\n",
       "      <td>0.331574</td>\n",
       "      <td>0.351323</td>\n",
       "      <td>0.371440</td>\n",
       "      <td>0.364689</td>\n",
       "    </tr>\n",
       "    <tr>\n",
       "      <th>MAP@5</th>\n",
       "      <td>0.453680</td>\n",
       "      <td>0.482110</td>\n",
       "      <td>0.506411</td>\n",
       "      <td>0.529045</td>\n",
       "      <td>0.522080</td>\n",
       "    </tr>\n",
       "  </tbody>\n",
       "</table>\n",
       "</div>"
      ],
      "text/plain": [
       "          best_result  tree_val_ens  tree_val_ens  tree_val_ens  tree_val_ens\n",
       "prec@5       0.287884      0.318183      0.335916      0.354971      0.347666\n",
       "1recal@5     0.728059      0.716586      0.738752      0.765964      0.752748\n",
       "NDCG@5       0.296990      0.331574      0.351323      0.371440      0.364689\n",
       "MAP@5        0.453680      0.482110      0.506411      0.529045      0.522080"
      ]
     },
     "execution_count": 43,
     "metadata": {},
     "output_type": "execute_result"
    }
   ],
   "source": [
    "netflix_ensemble_experiment(ml1m, create_list_cf(ml1m_shape)[1:5], list_ensemble, Ktrain=0.1, Kvalidation=0.1, verbose=0, maxiter=3)"
   ]
  },
  {
   "cell_type": "code",
   "execution_count": 44,
   "metadata": {
    "collapsed": false
   },
   "outputs": [
    {
     "data": {
      "text/html": [
       "<div>\n",
       "<table border=\"1\" class=\"dataframe\">\n",
       "  <thead>\n",
       "    <tr style=\"text-align: right;\">\n",
       "      <th></th>\n",
       "      <th>best_result</th>\n",
       "      <th>tree_val_ens</th>\n",
       "      <th>tree_val_ens</th>\n",
       "      <th>tree_val_ens</th>\n",
       "      <th>tree_val_ens</th>\n",
       "    </tr>\n",
       "  </thead>\n",
       "  <tbody>\n",
       "    <tr>\n",
       "      <th>prec@5</th>\n",
       "      <td>0.377281</td>\n",
       "      <td>0.440992</td>\n",
       "      <td>0.441233</td>\n",
       "      <td>0.439346</td>\n",
       "      <td>0.438457</td>\n",
       "    </tr>\n",
       "    <tr>\n",
       "      <th>1recal@5</th>\n",
       "      <td>0.819066</td>\n",
       "      <td>0.836968</td>\n",
       "      <td>0.838229</td>\n",
       "      <td>0.840091</td>\n",
       "      <td>0.838770</td>\n",
       "    </tr>\n",
       "    <tr>\n",
       "      <th>NDCG@5</th>\n",
       "      <td>0.387390</td>\n",
       "      <td>0.457159</td>\n",
       "      <td>0.456664</td>\n",
       "      <td>0.455191</td>\n",
       "      <td>0.453829</td>\n",
       "    </tr>\n",
       "    <tr>\n",
       "      <th>MAP@5</th>\n",
       "      <td>0.544753</td>\n",
       "      <td>0.608062</td>\n",
       "      <td>0.607252</td>\n",
       "      <td>0.607510</td>\n",
       "      <td>0.605531</td>\n",
       "    </tr>\n",
       "  </tbody>\n",
       "</table>\n",
       "</div>"
      ],
      "text/plain": [
       "          best_result  tree_val_ens  tree_val_ens  tree_val_ens  tree_val_ens\n",
       "prec@5       0.377281      0.440992      0.441233      0.439346      0.438457\n",
       "1recal@5     0.819066      0.836968      0.838229      0.840091      0.838770\n",
       "NDCG@5       0.387390      0.457159      0.456664      0.455191      0.453829\n",
       "MAP@5        0.544753      0.608062      0.607252      0.607510      0.605531"
      ]
     },
     "execution_count": 44,
     "metadata": {},
     "output_type": "execute_result"
    }
   ],
   "source": [
    "netflix_ensemble_experiment(ml1m, create_list_cf(ml1m_shape)[1:5], list_ensemble, Ktrain=0.2, Kvalidation=0.1, verbose=0, maxiter=3)"
   ]
  },
  {
   "cell_type": "code",
   "execution_count": 45,
   "metadata": {
    "collapsed": false
   },
   "outputs": [
    {
     "data": {
      "text/html": [
       "<div>\n",
       "<table border=\"1\" class=\"dataframe\">\n",
       "  <thead>\n",
       "    <tr style=\"text-align: right;\">\n",
       "      <th></th>\n",
       "      <th>best_result</th>\n",
       "      <th>tree_val_ens</th>\n",
       "      <th>tree_val_ens</th>\n",
       "      <th>tree_val_ens</th>\n",
       "      <th>tree_val_ens</th>\n",
       "    </tr>\n",
       "  </thead>\n",
       "  <tbody>\n",
       "    <tr>\n",
       "      <th>prec@5</th>\n",
       "      <td>0.070986</td>\n",
       "      <td>0.070614</td>\n",
       "      <td>0.070881</td>\n",
       "      <td>0.070681</td>\n",
       "      <td>0.070614</td>\n",
       "    </tr>\n",
       "    <tr>\n",
       "      <th>1recal@5</th>\n",
       "      <td>0.255912</td>\n",
       "      <td>0.255196</td>\n",
       "      <td>0.255625</td>\n",
       "      <td>0.255053</td>\n",
       "      <td>0.255196</td>\n",
       "    </tr>\n",
       "    <tr>\n",
       "      <th>NDCG@5</th>\n",
       "      <td>0.076179</td>\n",
       "      <td>0.076152</td>\n",
       "      <td>0.076223</td>\n",
       "      <td>0.076535</td>\n",
       "      <td>0.076152</td>\n",
       "    </tr>\n",
       "    <tr>\n",
       "      <th>MAP@5</th>\n",
       "      <td>0.147365</td>\n",
       "      <td>0.147990</td>\n",
       "      <td>0.147661</td>\n",
       "      <td>0.149136</td>\n",
       "      <td>0.147990</td>\n",
       "    </tr>\n",
       "  </tbody>\n",
       "</table>\n",
       "</div>"
      ],
      "text/plain": [
       "          best_result  tree_val_ens  tree_val_ens  tree_val_ens  tree_val_ens\n",
       "prec@5       0.070986      0.070614      0.070881      0.070681      0.070614\n",
       "1recal@5     0.255912      0.255196      0.255625      0.255053      0.255196\n",
       "NDCG@5       0.076179      0.076152      0.076223      0.076535      0.076152\n",
       "MAP@5        0.147365      0.147990      0.147661      0.149136      0.147990"
      ]
     },
     "execution_count": 45,
     "metadata": {},
     "output_type": "execute_result"
    }
   ],
   "source": [
    "netflix_ensemble_experiment(slashdot, create_list_cf(slashdot_shape)[1:5], list_ensemble, Ktrain=0.1, Kvalidation=0.1, verbose=0, maxiter=3)"
   ]
  },
  {
   "cell_type": "code",
   "execution_count": 46,
   "metadata": {
    "collapsed": false
   },
   "outputs": [
    {
     "data": {
      "text/html": [
       "<div>\n",
       "<table border=\"1\" class=\"dataframe\">\n",
       "  <thead>\n",
       "    <tr style=\"text-align: right;\">\n",
       "      <th></th>\n",
       "      <th>best_result</th>\n",
       "      <th>tree_val_ens</th>\n",
       "      <th>tree_val_ens</th>\n",
       "      <th>tree_val_ens</th>\n",
       "      <th>tree_val_ens</th>\n",
       "    </tr>\n",
       "  </thead>\n",
       "  <tbody>\n",
       "    <tr>\n",
       "      <th>prec@5</th>\n",
       "      <td>0.099190</td>\n",
       "      <td>0.099485</td>\n",
       "      <td>0.099676</td>\n",
       "      <td>0.099476</td>\n",
       "      <td>0.099619</td>\n",
       "    </tr>\n",
       "    <tr>\n",
       "      <th>1recal@5</th>\n",
       "      <td>0.334287</td>\n",
       "      <td>0.335383</td>\n",
       "      <td>0.335669</td>\n",
       "      <td>0.334811</td>\n",
       "      <td>0.334859</td>\n",
       "    </tr>\n",
       "    <tr>\n",
       "      <th>NDCG@5</th>\n",
       "      <td>0.105836</td>\n",
       "      <td>0.106319</td>\n",
       "      <td>0.106761</td>\n",
       "      <td>0.106400</td>\n",
       "      <td>0.106467</td>\n",
       "    </tr>\n",
       "    <tr>\n",
       "      <th>MAP@5</th>\n",
       "      <td>0.195234</td>\n",
       "      <td>0.196584</td>\n",
       "      <td>0.197287</td>\n",
       "      <td>0.196464</td>\n",
       "      <td>0.196376</td>\n",
       "    </tr>\n",
       "  </tbody>\n",
       "</table>\n",
       "</div>"
      ],
      "text/plain": [
       "          best_result  tree_val_ens  tree_val_ens  tree_val_ens  tree_val_ens\n",
       "prec@5       0.099190      0.099485      0.099676      0.099476      0.099619\n",
       "1recal@5     0.334287      0.335383      0.335669      0.334811      0.334859\n",
       "NDCG@5       0.105836      0.106319      0.106761      0.106400      0.106467\n",
       "MAP@5        0.195234      0.196584      0.197287      0.196464      0.196376"
      ]
     },
     "execution_count": 46,
     "metadata": {},
     "output_type": "execute_result"
    }
   ],
   "source": [
    "netflix_ensemble_experiment(slashdot, create_list_cf(slashdot_shape)[1:5], list_ensemble, Ktrain=0.2, Kvalidation=0.1, verbose=0, maxiter=3)"
   ]
  }
 ],
 "metadata": {
  "kernelspec": {
   "display_name": "Python 3",
   "language": "python",
   "name": "python3"
  },
  "language_info": {
   "codemirror_mode": {
    "name": "ipython",
    "version": 3
   },
   "file_extension": ".py",
   "mimetype": "text/x-python",
   "name": "python",
   "nbconvert_exporter": "python",
   "pygments_lexer": "ipython3",
   "version": "3.4.3"
  }
 },
 "nbformat": 4,
 "nbformat_minor": 0
}
