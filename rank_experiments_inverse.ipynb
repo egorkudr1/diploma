{
 "cells": [
  {
   "cell_type": "code",
   "execution_count": 37,
   "metadata": {
    "collapsed": false
   },
   "outputs": [],
   "source": [
    "import numpy as np\n",
    "import pandas as pd\n",
    "from scipy.io import loadmat, mmread\n",
    "import sys\n",
    "import itertools \n",
    "import pickle\n",
    "import matplotlib.pylab as plt\n",
    "import time"
   ]
  },
  {
   "cell_type": "code",
   "execution_count": 38,
   "metadata": {
    "collapsed": true
   },
   "outputs": [],
   "source": [
    "%matplotlib inline"
   ]
  },
  {
   "cell_type": "code",
   "execution_count": 39,
   "metadata": {
    "collapsed": false
   },
   "outputs": [],
   "source": [
    "import rankingmethod\n",
    "import rankingmeasure\n",
    "import rank"
   ]
  },
  {
   "cell_type": "code",
   "execution_count": 40,
   "metadata": {
    "collapsed": false
   },
   "outputs": [
    {
     "name": "stdout",
     "output_type": "stream",
     "text": [
      "The autoreload extension is already loaded. To reload it, use:\n",
      "  %reload_ext autoreload\n"
     ]
    }
   ],
   "source": [
    "%load_ext autoreload\n",
    "%autoreload 2"
   ]
  },
  {
   "cell_type": "code",
   "execution_count": 41,
   "metadata": {
    "collapsed": true
   },
   "outputs": [],
   "source": [
    "from  experiment import *"
   ]
  },
  {
   "cell_type": "markdown",
   "metadata": {},
   "source": [
    "# loading data sets"
   ]
  },
  {
   "cell_type": "code",
   "execution_count": 42,
   "metadata": {
    "collapsed": false
   },
   "outputs": [],
   "source": [
    "data = pd.read_csv(\"../datasets/soc-Epinions1.txt\", sep='\\t', header=4)\n",
    "data = data.as_matrix()"
   ]
  },
  {
   "cell_type": "code",
   "execution_count": 43,
   "metadata": {
    "collapsed": false
   },
   "outputs": [],
   "source": [
    "epinion, epinion_shape = make_valid_data(data)"
   ]
  },
  {
   "cell_type": "code",
   "execution_count": 44,
   "metadata": {
    "collapsed": true
   },
   "outputs": [],
   "source": [
    "data = pd.read_csv(\"../datasets/Slashdot0811.txt\", sep='\\t', header=4)\n",
    "data = data.as_matrix()"
   ]
  },
  {
   "cell_type": "code",
   "execution_count": 45,
   "metadata": {
    "collapsed": false
   },
   "outputs": [],
   "source": [
    "slashdot, slashdot_shape = make_valid_data(data)"
   ]
  },
  {
   "cell_type": "code",
   "execution_count": 46,
   "metadata": {
    "collapsed": false
   },
   "outputs": [],
   "source": [
    "data =  pd.read_csv(\"../datasets/ml-100k/u.data\", sep='\\t', header=None).ix[:, :1]\n",
    "data = data.as_matrix()"
   ]
  },
  {
   "cell_type": "code",
   "execution_count": 47,
   "metadata": {
    "collapsed": false
   },
   "outputs": [],
   "source": [
    "ml100k, ml100k_shape = make_valid_data(data)"
   ]
  },
  {
   "cell_type": "code",
   "execution_count": 48,
   "metadata": {
    "collapsed": false
   },
   "outputs": [],
   "source": [
    "data = pd.read_csv(\"../datasets/ml-1m/ratings.dat\", sep='::', header=None,  engine='python').ix[:, :1]\n",
    "data = data.as_matrix()"
   ]
  },
  {
   "cell_type": "code",
   "execution_count": 49,
   "metadata": {
    "collapsed": false
   },
   "outputs": [],
   "source": [
    "ml1m, ml1m_shape = make_valid_data(data)"
   ]
  },
  {
   "cell_type": "markdown",
   "metadata": {},
   "source": [
    "### Зададим параметры, которые были выбраны при помощивалидации"
   ]
  },
  {
   "cell_type": "code",
   "execution_count": 50,
   "metadata": {
    "collapsed": false
   },
   "outputs": [],
   "source": [
    "def create_list_cf(user_item):\n",
    "    list_cf = [\n",
    "        rankingmethod.PopRec(user_item),\n",
    "#         rankingmethod.CLiMF(user_item, K=10, reg=0.001, lrate=0.01, verbose=0, maxiter=10),\n",
    "        \n",
    "#         rank.CLiMF(user_item, K=5, reg=0.01, lrate=0.1, verbose=0, maxiter=10),\n",
    "#         rank.CLiMF(user_item, K=5, reg=0.01, lrate=0.01, verbose=0, maxiter=10),\n",
    "#         rank.CLiMF(user_item, K=5, reg=0.01, lrate=0.001, verbose=0, maxiter=10),\n",
    "        \n",
    "        rank.CLiMF(user_item, K=10, reg=0.005, lrate=0.001, verbose=0, maxiter=15),\n",
    "#         rank.BPR_MF(user_item, K = 10, lrate=0.012, regIpos=0.012, \n",
    "#                                   regIneg=0.012, regU=0.012, maxiter=60, verbose=0 ),\n",
    "#         rank.BPR_MF(user_item, K = 10, lrate=0.02, regIpos=0.012, \n",
    "#                                   regIneg=0.012, regU=0.012, maxiter=60, verbose=0 ),\n",
    "        rank.BPR_MF(user_item, K = 10, lrate=0.05, regIpos=0.0025, \n",
    "                                  regIneg=0.0025, regU=0.0025, maxiter=300, verbose=0 ),\n",
    "        \n",
    "#         rank.CLiMF(user_item, K=10, reg=0.001, lrate=0.1, verbose=0, maxiter=10),\n",
    "#         rank.CLiMF(user_item, K=10, reg=0.001, lrate=0.001, verbose=0, maxiter=10),\n",
    "#         rankingmethod.BPR_MF(user_item, K = 20, lrate=0.012, regIpos=0.012, \n",
    "#                                   regIneg=0.012, regU=0.012, maxiter=4, verbose=0 ),\n",
    "#          rankingmethod.iMF(user_item, K=10, lmbd=0.01, alpha=40, maxiter=30, verbose=0),\n",
    "        \n",
    "         rankingmethod.iMF(user_item, K=10, lmbd=0.015, alpha=1, maxiter=15, verbose=0),\n",
    "#         rankingmethod.TFMAP(user_item, lrate=0.01, maxiter=10),\n",
    "        rank.TFMAP(user_item, lrate=0.01, maxiter=20)\n",
    "    ]\n",
    "    return list_cf#[list_cf[i] for i in index]"
   ]
  },
  {
   "cell_type": "markdown",
   "metadata": {},
   "source": [
    "### Проведение такого же эксперимента, как у создатей CLiMF(Точнее похожего, т.к. было решено не удалять топ 3 всех предметов. И даже с этим удалением получить такие же цифры, что авторы epinion не получилось)"
   ]
  },
  {
   "cell_type": "code",
   "execution_count": 51,
   "metadata": {
    "collapsed": false
   },
   "outputs": [],
   "source": [
    "def climf_experiment(data, list_cf, K=5, maxiter=1, topK=5, verbose=0, validation_type=1):\n",
    "    res = np.zeros((6, len(list_cf)))\n",
    "    for t in range(maxiter):\n",
    "        if validation_type == 0:\n",
    "            test, train, traintest = givenK_train_test(data, K)\n",
    "        elif validation_type == 1:\n",
    "            test, train, traintest = ratio_train_test(data, K)\n",
    "        for i, cf in enumerate(list_cf):\n",
    "            start_time = time.time()\n",
    "            cf.fit(train)\n",
    "#             print(time.time() - start_time)\n",
    "            prec_k, one_recal_k, ngdc, mp = rankingmeasure.get_Kmetrics(train, test, cf, K=topK)\n",
    "            mrr, auc = rankingmeasure.get_listmetrics(train, test, cf)\n",
    "            res[:, i] += np.array([prec_k, one_recal_k, ngdc, mp, mrr, auc])\n",
    "            if verbose == 1:\n",
    "                print(t, i, res[:, i] / (t + 1))\n",
    "                sys.stdout.flush()\n",
    "    res /= maxiter\n",
    "    res = pd.DataFrame(res)\n",
    "    \n",
    "    res.columns = [type(cf).__name__ for cf in list_cf]\n",
    "    res.index = [name + str(topK) for name in ['prec@', '1recal@', 'NDCG@', 'MAP@']] + ['MRR', 'AUC']\n",
    "#     res.columns = ['PopRec', 'CLiMF', 'BRP_MP', 'iMF', 'TFMAP']\n",
    "#     res.index = ['prec@' + str(topK),'1recal@' + str(topK), 'NDCG@' + str(topK), \n",
    "#                'MAP@' + str(topK), 'MRR', 'AUC']\n",
    "    return res"
   ]
  },
  {
   "cell_type": "code",
   "execution_count": 52,
   "metadata": {
    "collapsed": false
   },
   "outputs": [
    {
     "data": {
      "text/html": [
       "<div>\n",
       "<table border=\"1\" class=\"dataframe\">\n",
       "  <thead>\n",
       "    <tr style=\"text-align: right;\">\n",
       "      <th></th>\n",
       "      <th>PopRec</th>\n",
       "      <th>CLiMF</th>\n",
       "      <th>BPR_MF</th>\n",
       "      <th>iMF</th>\n",
       "      <th>TFMAP</th>\n",
       "    </tr>\n",
       "  </thead>\n",
       "  <tbody>\n",
       "    <tr>\n",
       "      <th>prec@5</th>\n",
       "      <td>0.139950</td>\n",
       "      <td>0.142928</td>\n",
       "      <td>0.267246</td>\n",
       "      <td>0.297270</td>\n",
       "      <td>0.147891</td>\n",
       "    </tr>\n",
       "    <tr>\n",
       "      <th>1recal@5</th>\n",
       "      <td>0.451613</td>\n",
       "      <td>0.456576</td>\n",
       "      <td>0.694789</td>\n",
       "      <td>0.733251</td>\n",
       "      <td>0.435484</td>\n",
       "    </tr>\n",
       "    <tr>\n",
       "      <th>NDCG@5</th>\n",
       "      <td>0.154961</td>\n",
       "      <td>0.159296</td>\n",
       "      <td>0.283737</td>\n",
       "      <td>0.322085</td>\n",
       "      <td>0.165271</td>\n",
       "    </tr>\n",
       "    <tr>\n",
       "      <th>MAP@5</th>\n",
       "      <td>0.285389</td>\n",
       "      <td>0.293457</td>\n",
       "      <td>0.451184</td>\n",
       "      <td>0.504382</td>\n",
       "      <td>0.288277</td>\n",
       "    </tr>\n",
       "    <tr>\n",
       "      <th>MRR</th>\n",
       "      <td>0.341340</td>\n",
       "      <td>0.345123</td>\n",
       "      <td>0.502585</td>\n",
       "      <td>0.556852</td>\n",
       "      <td>0.338402</td>\n",
       "    </tr>\n",
       "    <tr>\n",
       "      <th>AUC</th>\n",
       "      <td>0.859741</td>\n",
       "      <td>0.847079</td>\n",
       "      <td>0.931770</td>\n",
       "      <td>0.931023</td>\n",
       "      <td>0.850399</td>\n",
       "    </tr>\n",
       "  </tbody>\n",
       "</table>\n",
       "</div>"
      ],
      "text/plain": [
       "            PopRec     CLiMF    BPR_MF       iMF     TFMAP\n",
       "prec@5    0.139950  0.142928  0.267246  0.297270  0.147891\n",
       "1recal@5  0.451613  0.456576  0.694789  0.733251  0.435484\n",
       "NDCG@5    0.154961  0.159296  0.283737  0.322085  0.165271\n",
       "MAP@5     0.285389  0.293457  0.451184  0.504382  0.288277\n",
       "MRR       0.341340  0.345123  0.502585  0.556852  0.338402\n",
       "AUC       0.859741  0.847079  0.931770  0.931023  0.850399"
      ]
     },
     "execution_count": 52,
     "metadata": {},
     "output_type": "execute_result"
    }
   ],
   "source": [
    "climf_experiment(ml100k, create_list_cf(ml100k_shape), K =0.1, maxiter=1, topK=5,  verbose=0)"
   ]
  },
  {
   "cell_type": "code",
   "execution_count": 53,
   "metadata": {
    "collapsed": false
   },
   "outputs": [
    {
     "data": {
      "text/html": [
       "<div>\n",
       "<table border=\"1\" class=\"dataframe\">\n",
       "  <thead>\n",
       "    <tr style=\"text-align: right;\">\n",
       "      <th></th>\n",
       "      <th>PopRec</th>\n",
       "      <th>CLiMF</th>\n",
       "      <th>BPR_MF</th>\n",
       "      <th>iMF</th>\n",
       "      <th>TFMAP</th>\n",
       "    </tr>\n",
       "  </thead>\n",
       "  <tbody>\n",
       "    <tr>\n",
       "      <th>prec@5</th>\n",
       "      <td>0.240199</td>\n",
       "      <td>0.246898</td>\n",
       "      <td>0.394541</td>\n",
       "      <td>0.447643</td>\n",
       "      <td>0.257568</td>\n",
       "    </tr>\n",
       "    <tr>\n",
       "      <th>1recal@5</th>\n",
       "      <td>0.662531</td>\n",
       "      <td>0.655087</td>\n",
       "      <td>0.846154</td>\n",
       "      <td>0.888337</td>\n",
       "      <td>0.615385</td>\n",
       "    </tr>\n",
       "    <tr>\n",
       "      <th>NDCG@5</th>\n",
       "      <td>0.259162</td>\n",
       "      <td>0.261185</td>\n",
       "      <td>0.411810</td>\n",
       "      <td>0.478220</td>\n",
       "      <td>0.274834</td>\n",
       "    </tr>\n",
       "    <tr>\n",
       "      <th>MAP@5</th>\n",
       "      <td>0.424500</td>\n",
       "      <td>0.417957</td>\n",
       "      <td>0.581512</td>\n",
       "      <td>0.665104</td>\n",
       "      <td>0.416967</td>\n",
       "    </tr>\n",
       "    <tr>\n",
       "      <th>MRR</th>\n",
       "      <td>0.480649</td>\n",
       "      <td>0.471118</td>\n",
       "      <td>0.633542</td>\n",
       "      <td>0.720579</td>\n",
       "      <td>0.462428</td>\n",
       "    </tr>\n",
       "    <tr>\n",
       "      <th>AUC</th>\n",
       "      <td>0.856661</td>\n",
       "      <td>0.841716</td>\n",
       "      <td>0.929072</td>\n",
       "      <td>0.928343</td>\n",
       "      <td>0.847104</td>\n",
       "    </tr>\n",
       "  </tbody>\n",
       "</table>\n",
       "</div>"
      ],
      "text/plain": [
       "            PopRec     CLiMF    BPR_MF       iMF     TFMAP\n",
       "prec@5    0.240199  0.246898  0.394541  0.447643  0.257568\n",
       "1recal@5  0.662531  0.655087  0.846154  0.888337  0.615385\n",
       "NDCG@5    0.259162  0.261185  0.411810  0.478220  0.274834\n",
       "MAP@5     0.424500  0.417957  0.581512  0.665104  0.416967\n",
       "MRR       0.480649  0.471118  0.633542  0.720579  0.462428\n",
       "AUC       0.856661  0.841716  0.929072  0.928343  0.847104"
      ]
     },
     "execution_count": 53,
     "metadata": {},
     "output_type": "execute_result"
    }
   ],
   "source": [
    "climf_experiment(ml100k, create_list_cf(ml100k_shape), K =0.2, maxiter=1, topK=5,  verbose=0)"
   ]
  },
  {
   "cell_type": "code",
   "execution_count": 54,
   "metadata": {
    "collapsed": false
   },
   "outputs": [
    {
     "data": {
      "text/html": [
       "<div>\n",
       "<table border=\"1\" class=\"dataframe\">\n",
       "  <thead>\n",
       "    <tr style=\"text-align: right;\">\n",
       "      <th></th>\n",
       "      <th>PopRec</th>\n",
       "      <th>CLiMF</th>\n",
       "      <th>BPR_MF</th>\n",
       "      <th>iMF</th>\n",
       "      <th>TFMAP</th>\n",
       "    </tr>\n",
       "  </thead>\n",
       "  <tbody>\n",
       "    <tr>\n",
       "      <th>prec@5</th>\n",
       "      <td>0.031782</td>\n",
       "      <td>0.030375</td>\n",
       "      <td>0.055755</td>\n",
       "      <td>0.076686</td>\n",
       "      <td>0.029694</td>\n",
       "    </tr>\n",
       "    <tr>\n",
       "      <th>1recal@5</th>\n",
       "      <td>0.141203</td>\n",
       "      <td>0.133712</td>\n",
       "      <td>0.226788</td>\n",
       "      <td>0.288990</td>\n",
       "      <td>0.130760</td>\n",
       "    </tr>\n",
       "    <tr>\n",
       "      <th>NDCG@5</th>\n",
       "      <td>0.036236</td>\n",
       "      <td>0.035332</td>\n",
       "      <td>0.058648</td>\n",
       "      <td>0.084550</td>\n",
       "      <td>0.034052</td>\n",
       "    </tr>\n",
       "    <tr>\n",
       "      <th>MAP@5</th>\n",
       "      <td>0.083203</td>\n",
       "      <td>0.081563</td>\n",
       "      <td>0.121041</td>\n",
       "      <td>0.171857</td>\n",
       "      <td>0.078353</td>\n",
       "    </tr>\n",
       "    <tr>\n",
       "      <th>MRR</th>\n",
       "      <td>0.106883</td>\n",
       "      <td>0.106103</td>\n",
       "      <td>0.154131</td>\n",
       "      <td>0.203232</td>\n",
       "      <td>0.102533</td>\n",
       "    </tr>\n",
       "    <tr>\n",
       "      <th>AUC</th>\n",
       "      <td>0.869996</td>\n",
       "      <td>0.833470</td>\n",
       "      <td>0.919266</td>\n",
       "      <td>0.896619</td>\n",
       "      <td>0.867311</td>\n",
       "    </tr>\n",
       "  </tbody>\n",
       "</table>\n",
       "</div>"
      ],
      "text/plain": [
       "            PopRec     CLiMF    BPR_MF       iMF     TFMAP\n",
       "prec@5    0.031782  0.030375  0.055755  0.076686  0.029694\n",
       "1recal@5  0.141203  0.133712  0.226788  0.288990  0.130760\n",
       "NDCG@5    0.036236  0.035332  0.058648  0.084550  0.034052\n",
       "MAP@5     0.083203  0.081563  0.121041  0.171857  0.078353\n",
       "MRR       0.106883  0.106103  0.154131  0.203232  0.102533\n",
       "AUC       0.869996  0.833470  0.919266  0.896619  0.867311"
      ]
     },
     "execution_count": 54,
     "metadata": {},
     "output_type": "execute_result"
    }
   ],
   "source": [
    "climf_experiment(epinion, create_list_cf(epinion_shape), K =0.1, maxiter=1, topK=5,  verbose=0)"
   ]
  },
  {
   "cell_type": "code",
   "execution_count": 55,
   "metadata": {
    "collapsed": false
   },
   "outputs": [
    {
     "name": "stdout",
     "output_type": "stream",
     "text": [
      "0 0 [ 0.0600227   0.2492622   0.06807169  0.14936594  0.18106551  0.87154629]\n",
      "0 1 [ 0.058479    0.24245176  0.06726779  0.14920545  0.18087421  0.82344455]\n",
      "0 2 [ 0.0999773   0.35323496  0.10529264  0.19731429  0.23854742  0.91856299]\n",
      "0 3 [ 0.13593644  0.43950057  0.14624658  0.26657901  0.3050251   0.89413977]\n",
      "0 4 [ 0.05471056  0.23087401  0.06345845  0.1434027   0.17469081  0.866994  ]\n"
     ]
    },
    {
     "data": {
      "text/html": [
       "<div>\n",
       "<table border=\"1\" class=\"dataframe\">\n",
       "  <thead>\n",
       "    <tr style=\"text-align: right;\">\n",
       "      <th></th>\n",
       "      <th>PopRec</th>\n",
       "      <th>CLiMF</th>\n",
       "      <th>BPR_MF</th>\n",
       "      <th>iMF</th>\n",
       "      <th>TFMAP</th>\n",
       "    </tr>\n",
       "  </thead>\n",
       "  <tbody>\n",
       "    <tr>\n",
       "      <th>prec@5</th>\n",
       "      <td>0.060023</td>\n",
       "      <td>0.058479</td>\n",
       "      <td>0.099977</td>\n",
       "      <td>0.135936</td>\n",
       "      <td>0.054711</td>\n",
       "    </tr>\n",
       "    <tr>\n",
       "      <th>1recal@5</th>\n",
       "      <td>0.249262</td>\n",
       "      <td>0.242452</td>\n",
       "      <td>0.353235</td>\n",
       "      <td>0.439501</td>\n",
       "      <td>0.230874</td>\n",
       "    </tr>\n",
       "    <tr>\n",
       "      <th>NDCG@5</th>\n",
       "      <td>0.068072</td>\n",
       "      <td>0.067268</td>\n",
       "      <td>0.105293</td>\n",
       "      <td>0.146247</td>\n",
       "      <td>0.063458</td>\n",
       "    </tr>\n",
       "    <tr>\n",
       "      <th>MAP@5</th>\n",
       "      <td>0.149366</td>\n",
       "      <td>0.149205</td>\n",
       "      <td>0.197314</td>\n",
       "      <td>0.266579</td>\n",
       "      <td>0.143403</td>\n",
       "    </tr>\n",
       "    <tr>\n",
       "      <th>MRR</th>\n",
       "      <td>0.181066</td>\n",
       "      <td>0.180874</td>\n",
       "      <td>0.238547</td>\n",
       "      <td>0.305025</td>\n",
       "      <td>0.174691</td>\n",
       "    </tr>\n",
       "    <tr>\n",
       "      <th>AUC</th>\n",
       "      <td>0.871546</td>\n",
       "      <td>0.823445</td>\n",
       "      <td>0.918563</td>\n",
       "      <td>0.894140</td>\n",
       "      <td>0.866994</td>\n",
       "    </tr>\n",
       "  </tbody>\n",
       "</table>\n",
       "</div>"
      ],
      "text/plain": [
       "            PopRec     CLiMF    BPR_MF       iMF     TFMAP\n",
       "prec@5    0.060023  0.058479  0.099977  0.135936  0.054711\n",
       "1recal@5  0.249262  0.242452  0.353235  0.439501  0.230874\n",
       "NDCG@5    0.068072  0.067268  0.105293  0.146247  0.063458\n",
       "MAP@5     0.149366  0.149205  0.197314  0.266579  0.143403\n",
       "MRR       0.181066  0.180874  0.238547  0.305025  0.174691\n",
       "AUC       0.871546  0.823445  0.918563  0.894140  0.866994"
      ]
     },
     "execution_count": 55,
     "metadata": {},
     "output_type": "execute_result"
    }
   ],
   "source": [
    "climf_experiment(epinion, create_list_cf(epinion_shape), K =0.2, maxiter=1, topK=5,  verbose=1)"
   ]
  },
  {
   "cell_type": "code",
   "execution_count": 56,
   "metadata": {
    "collapsed": false
   },
   "outputs": [
    {
     "data": {
      "text/html": [
       "<div>\n",
       "<table border=\"1\" class=\"dataframe\">\n",
       "  <thead>\n",
       "    <tr style=\"text-align: right;\">\n",
       "      <th></th>\n",
       "      <th>PopRec</th>\n",
       "      <th>CLiMF</th>\n",
       "      <th>BPR_MF</th>\n",
       "      <th>iMF</th>\n",
       "      <th>TFMAP</th>\n",
       "    </tr>\n",
       "  </thead>\n",
       "  <tbody>\n",
       "    <tr>\n",
       "      <th>prec@5</th>\n",
       "      <td>0.014960</td>\n",
       "      <td>0.015475</td>\n",
       "      <td>0.024743</td>\n",
       "      <td>0.043965</td>\n",
       "      <td>0.014531</td>\n",
       "    </tr>\n",
       "    <tr>\n",
       "      <th>1recal@5</th>\n",
       "      <td>0.069937</td>\n",
       "      <td>0.072511</td>\n",
       "      <td>0.104548</td>\n",
       "      <td>0.166476</td>\n",
       "      <td>0.066505</td>\n",
       "    </tr>\n",
       "    <tr>\n",
       "      <th>NDCG@5</th>\n",
       "      <td>0.017404</td>\n",
       "      <td>0.017257</td>\n",
       "      <td>0.026554</td>\n",
       "      <td>0.048168</td>\n",
       "      <td>0.015411</td>\n",
       "    </tr>\n",
       "    <tr>\n",
       "      <th>MAP@5</th>\n",
       "      <td>0.041657</td>\n",
       "      <td>0.040385</td>\n",
       "      <td>0.056634</td>\n",
       "      <td>0.097097</td>\n",
       "      <td>0.034294</td>\n",
       "    </tr>\n",
       "    <tr>\n",
       "      <th>MRR</th>\n",
       "      <td>0.059544</td>\n",
       "      <td>0.057325</td>\n",
       "      <td>0.077540</td>\n",
       "      <td>0.121921</td>\n",
       "      <td>0.050586</td>\n",
       "    </tr>\n",
       "    <tr>\n",
       "      <th>AUC</th>\n",
       "      <td>0.849921</td>\n",
       "      <td>0.795534</td>\n",
       "      <td>0.871066</td>\n",
       "      <td>0.853451</td>\n",
       "      <td>0.843581</td>\n",
       "    </tr>\n",
       "  </tbody>\n",
       "</table>\n",
       "</div>"
      ],
      "text/plain": [
       "            PopRec     CLiMF    BPR_MF       iMF     TFMAP\n",
       "prec@5    0.014960  0.015475  0.024743  0.043965  0.014531\n",
       "1recal@5  0.069937  0.072511  0.104548  0.166476  0.066505\n",
       "NDCG@5    0.017404  0.017257  0.026554  0.048168  0.015411\n",
       "MAP@5     0.041657  0.040385  0.056634  0.097097  0.034294\n",
       "MRR       0.059544  0.057325  0.077540  0.121921  0.050586\n",
       "AUC       0.849921  0.795534  0.871066  0.853451  0.843581"
      ]
     },
     "execution_count": 56,
     "metadata": {},
     "output_type": "execute_result"
    }
   ],
   "source": [
    "climf_experiment(slashdot, create_list_cf(slashdot_shape), K=0.1, maxiter=1, topK=5,  verbose=0)"
   ]
  },
  {
   "cell_type": "code",
   "execution_count": 57,
   "metadata": {
    "collapsed": false
   },
   "outputs": [
    {
     "data": {
      "text/html": [
       "<div>\n",
       "<table border=\"1\" class=\"dataframe\">\n",
       "  <thead>\n",
       "    <tr style=\"text-align: right;\">\n",
       "      <th></th>\n",
       "      <th>PopRec</th>\n",
       "      <th>CLiMF</th>\n",
       "      <th>BPR_MF</th>\n",
       "      <th>iMF</th>\n",
       "      <th>TFMAP</th>\n",
       "    </tr>\n",
       "  </thead>\n",
       "  <tbody>\n",
       "    <tr>\n",
       "      <th>prec@5</th>\n",
       "      <td>0.029863</td>\n",
       "      <td>0.029348</td>\n",
       "      <td>0.042048</td>\n",
       "      <td>0.074485</td>\n",
       "      <td>0.028175</td>\n",
       "    </tr>\n",
       "    <tr>\n",
       "      <th>1recal@5</th>\n",
       "      <td>0.131150</td>\n",
       "      <td>0.129148</td>\n",
       "      <td>0.160898</td>\n",
       "      <td>0.255578</td>\n",
       "      <td>0.124142</td>\n",
       "    </tr>\n",
       "    <tr>\n",
       "      <th>NDCG@5</th>\n",
       "      <td>0.033434</td>\n",
       "      <td>0.032729</td>\n",
       "      <td>0.043991</td>\n",
       "      <td>0.080004</td>\n",
       "      <td>0.030640</td>\n",
       "    </tr>\n",
       "    <tr>\n",
       "      <th>MAP@5</th>\n",
       "      <td>0.074740</td>\n",
       "      <td>0.073377</td>\n",
       "      <td>0.086740</td>\n",
       "      <td>0.149358</td>\n",
       "      <td>0.067775</td>\n",
       "    </tr>\n",
       "    <tr>\n",
       "      <th>MRR</th>\n",
       "      <td>0.100142</td>\n",
       "      <td>0.097755</td>\n",
       "      <td>0.115010</td>\n",
       "      <td>0.181893</td>\n",
       "      <td>0.091801</td>\n",
       "    </tr>\n",
       "    <tr>\n",
       "      <th>AUC</th>\n",
       "      <td>0.843574</td>\n",
       "      <td>0.778659</td>\n",
       "      <td>0.863101</td>\n",
       "      <td>0.846316</td>\n",
       "      <td>0.836296</td>\n",
       "    </tr>\n",
       "  </tbody>\n",
       "</table>\n",
       "</div>"
      ],
      "text/plain": [
       "            PopRec     CLiMF    BPR_MF       iMF     TFMAP\n",
       "prec@5    0.029863  0.029348  0.042048  0.074485  0.028175\n",
       "1recal@5  0.131150  0.129148  0.160898  0.255578  0.124142\n",
       "NDCG@5    0.033434  0.032729  0.043991  0.080004  0.030640\n",
       "MAP@5     0.074740  0.073377  0.086740  0.149358  0.067775\n",
       "MRR       0.100142  0.097755  0.115010  0.181893  0.091801\n",
       "AUC       0.843574  0.778659  0.863101  0.846316  0.836296"
      ]
     },
     "execution_count": 57,
     "metadata": {},
     "output_type": "execute_result"
    }
   ],
   "source": [
    "climf_experiment(slashdot, create_list_cf(slashdot_shape), K=0.2, maxiter=1, topK=5,  verbose=0)"
   ]
  },
  {
   "cell_type": "code",
   "execution_count": 58,
   "metadata": {
    "collapsed": false
   },
   "outputs": [
    {
     "name": "stdout",
     "output_type": "stream",
     "text": [
      "0 0 [ 0.1336457   0.41124527  0.14399806  0.2564864   0.29679144  0.85737817]\n",
      "0 1 [ 0.11573256  0.36925572  0.11985524  0.20916582  0.25224184  0.84890599]\n",
      "0 2 [ 0.22375203  0.61416471  0.24006127  0.39429927  0.44244401  0.92443239]\n",
      "0 3 [ 0.2600829   0.65200937  0.27999383  0.44248588  0.48957763  0.91715365]\n",
      "0 4 [ 0.07925752  0.28707875  0.08380195  0.16032644  0.19862019  0.84915509]\n"
     ]
    },
    {
     "data": {
      "text/html": [
       "<div>\n",
       "<table border=\"1\" class=\"dataframe\">\n",
       "  <thead>\n",
       "    <tr style=\"text-align: right;\">\n",
       "      <th></th>\n",
       "      <th>PopRec</th>\n",
       "      <th>CLiMF</th>\n",
       "      <th>BPR_MF</th>\n",
       "      <th>iMF</th>\n",
       "      <th>TFMAP</th>\n",
       "    </tr>\n",
       "  </thead>\n",
       "  <tbody>\n",
       "    <tr>\n",
       "      <th>prec@5</th>\n",
       "      <td>0.133646</td>\n",
       "      <td>0.115733</td>\n",
       "      <td>0.223752</td>\n",
       "      <td>0.260083</td>\n",
       "      <td>0.079258</td>\n",
       "    </tr>\n",
       "    <tr>\n",
       "      <th>1recal@5</th>\n",
       "      <td>0.411245</td>\n",
       "      <td>0.369256</td>\n",
       "      <td>0.614165</td>\n",
       "      <td>0.652009</td>\n",
       "      <td>0.287079</td>\n",
       "    </tr>\n",
       "    <tr>\n",
       "      <th>NDCG@5</th>\n",
       "      <td>0.143998</td>\n",
       "      <td>0.119855</td>\n",
       "      <td>0.240061</td>\n",
       "      <td>0.279994</td>\n",
       "      <td>0.083802</td>\n",
       "    </tr>\n",
       "    <tr>\n",
       "      <th>MAP@5</th>\n",
       "      <td>0.256486</td>\n",
       "      <td>0.209166</td>\n",
       "      <td>0.394299</td>\n",
       "      <td>0.442486</td>\n",
       "      <td>0.160326</td>\n",
       "    </tr>\n",
       "    <tr>\n",
       "      <th>MRR</th>\n",
       "      <td>0.296791</td>\n",
       "      <td>0.252242</td>\n",
       "      <td>0.442444</td>\n",
       "      <td>0.489578</td>\n",
       "      <td>0.198620</td>\n",
       "    </tr>\n",
       "    <tr>\n",
       "      <th>AUC</th>\n",
       "      <td>0.857378</td>\n",
       "      <td>0.848906</td>\n",
       "      <td>0.924432</td>\n",
       "      <td>0.917154</td>\n",
       "      <td>0.849155</td>\n",
       "    </tr>\n",
       "  </tbody>\n",
       "</table>\n",
       "</div>"
      ],
      "text/plain": [
       "            PopRec     CLiMF    BPR_MF       iMF     TFMAP\n",
       "prec@5    0.133646  0.115733  0.223752  0.260083  0.079258\n",
       "1recal@5  0.411245  0.369256  0.614165  0.652009  0.287079\n",
       "NDCG@5    0.143998  0.119855  0.240061  0.279994  0.083802\n",
       "MAP@5     0.256486  0.209166  0.394299  0.442486  0.160326\n",
       "MRR       0.296791  0.252242  0.442444  0.489578  0.198620\n",
       "AUC       0.857378  0.848906  0.924432  0.917154  0.849155"
      ]
     },
     "execution_count": 58,
     "metadata": {},
     "output_type": "execute_result"
    }
   ],
   "source": [
    "climf_experiment(ml1m, create_list_cf(ml1m_shape), K=0.1, maxiter=1, topK=5, verbose=1)"
   ]
  },
  {
   "cell_type": "code",
   "execution_count": 59,
   "metadata": {
    "collapsed": false
   },
   "outputs": [
    {
     "data": {
      "text/html": [
       "<div>\n",
       "<table border=\"1\" class=\"dataframe\">\n",
       "  <thead>\n",
       "    <tr style=\"text-align: right;\">\n",
       "      <th></th>\n",
       "      <th>PopRec</th>\n",
       "      <th>CLiMF</th>\n",
       "      <th>BPR_MF</th>\n",
       "      <th>iMF</th>\n",
       "      <th>TFMAP</th>\n",
       "    </tr>\n",
       "  </thead>\n",
       "  <tbody>\n",
       "    <tr>\n",
       "      <th>prec@5</th>\n",
       "      <td>0.226563</td>\n",
       "      <td>0.212507</td>\n",
       "      <td>0.334547</td>\n",
       "      <td>0.397225</td>\n",
       "      <td>0.140530</td>\n",
       "    </tr>\n",
       "    <tr>\n",
       "      <th>1recal@5</th>\n",
       "      <td>0.577942</td>\n",
       "      <td>0.559560</td>\n",
       "      <td>0.753109</td>\n",
       "      <td>0.801045</td>\n",
       "      <td>0.442062</td>\n",
       "    </tr>\n",
       "    <tr>\n",
       "      <th>NDCG@5</th>\n",
       "      <td>0.238727</td>\n",
       "      <td>0.218131</td>\n",
       "      <td>0.350127</td>\n",
       "      <td>0.417528</td>\n",
       "      <td>0.150439</td>\n",
       "    </tr>\n",
       "    <tr>\n",
       "      <th>MAP@5</th>\n",
       "      <td>0.378080</td>\n",
       "      <td>0.339910</td>\n",
       "      <td>0.508567</td>\n",
       "      <td>0.576701</td>\n",
       "      <td>0.268975</td>\n",
       "    </tr>\n",
       "    <tr>\n",
       "      <th>MRR</th>\n",
       "      <td>0.418982</td>\n",
       "      <td>0.385665</td>\n",
       "      <td>0.558877</td>\n",
       "      <td>0.625551</td>\n",
       "      <td>0.314291</td>\n",
       "    </tr>\n",
       "    <tr>\n",
       "      <th>AUC</th>\n",
       "      <td>0.857999</td>\n",
       "      <td>0.852355</td>\n",
       "      <td>0.922871</td>\n",
       "      <td>0.915748</td>\n",
       "      <td>0.850259</td>\n",
       "    </tr>\n",
       "  </tbody>\n",
       "</table>\n",
       "</div>"
      ],
      "text/plain": [
       "            PopRec     CLiMF    BPR_MF       iMF     TFMAP\n",
       "prec@5    0.226563  0.212507  0.334547  0.397225  0.140530\n",
       "1recal@5  0.577942  0.559560  0.753109  0.801045  0.442062\n",
       "NDCG@5    0.238727  0.218131  0.350127  0.417528  0.150439\n",
       "MAP@5     0.378080  0.339910  0.508567  0.576701  0.268975\n",
       "MRR       0.418982  0.385665  0.558877  0.625551  0.314291\n",
       "AUC       0.857999  0.852355  0.922871  0.915748  0.850259"
      ]
     },
     "execution_count": 59,
     "metadata": {},
     "output_type": "execute_result"
    }
   ],
   "source": [
    "climf_experiment(ml1m, create_list_cf(ml1m_shape), K=0.2, maxiter=1, topK=5, verbose=0)"
   ]
  },
  {
   "cell_type": "markdown",
   "metadata": {},
   "source": [
    "### Построение ансамбля"
   ]
  },
  {
   "cell_type": "markdown",
   "metadata": {},
   "source": [
    "# Netflix ensemble\n",
    "# Regression"
   ]
  },
  {
   "cell_type": "code",
   "execution_count": 60,
   "metadata": {
    "collapsed": false
   },
   "outputs": [],
   "source": [
    "from sklearn import cross_validation\n",
    "import rankensemble\n",
    "import rankingmeasure"
   ]
  },
  {
   "cell_type": "code",
   "execution_count": 61,
   "metadata": {
    "collapsed": true
   },
   "outputs": [],
   "source": [
    "def netflix_ensemble_experiment(data, list_cf, list_ensemble, Ktrain=0.1, Kvalidation=0.1, \n",
    "                                     maxiter=1, topK=5,  verbose=0):\n",
    "    res = np.zeros((4, len(list_cf) + len(list_ensemble)))\n",
    "    for t in range(maxiter):\n",
    "        test, train, traintest = ratio_train_test(data, Ktrain + Kvalidation)\n",
    "        validation, train, trainvalidation = ratio_train_test(train, Kvalidation, data_is_xlist=True)\n",
    "        \n",
    "        for i in range(len(list_cf)):\n",
    "            list_cf[i].fit(train)\n",
    "            prec_k, one_recal_k, ngdc, mp = rankingmeasure.get_Kmetrics(trainvalidation, test, list_cf[i], K=topK)\n",
    "            res[:, i] += np.array([prec_k, one_recal_k, ngdc, mp])\n",
    "            if verbose == 1:\n",
    "                print(t, i, res[:, i] / (t + 1))\n",
    "                sys.stdout.flush()\n",
    "        for j, ens in enumerate(list_ensemble):\n",
    "            m = j + len(list_cf)\n",
    "            ens.fit(list_cf, validation, train, trainvalidation)\n",
    "#             return X, y\n",
    "            prec_k, one_recal_k, ngdc, mp = rankingmeasure.get_Kmetrics(trainvalidation, test, ens, K=topK)\n",
    "            res[:, m] += np.array([prec_k, one_recal_k, ngdc, mp])\n",
    "            if verbose == 1:\n",
    "                print(t,  m, res[:, m] / (t + 1))\n",
    "#         for j, ens in enumerate(list_ensemble):\n",
    "#             m = j + len(list_cf)\n",
    "#             ens.fit(list_cf)\n",
    "#             prec_k, one_recal_k, ngdc, mp = rankingmeasure.get_Kmetrics(train, test, ens, K=topK)\n",
    "#             res[:, m] += np.array([prec_k, one_recal_k, ngdc, mp])\n",
    "#             if verbose == 1:\n",
    "#                 print(t, m, res[:, m] / (t +1))\n",
    "        \n",
    "    res /= maxiter\n",
    "    res[:, len(list_cf) - 1] = np.max(res[:, :len(list_cf)], axis=1)\n",
    "    res = res[:, len(list_cf)- 1:]\n",
    "    res = pd.DataFrame(res)\n",
    "    res.columns = [\"best_result\"] + [type(ens).__name__ for ens  in list_ensemble]\n",
    "    res.index = [name + str(topK) for name in ['prec@', '1recal@', 'NDCG@', 'MAP@']]\n",
    "#     res.index = []\n",
    "#     res.columns = ['PopRec', 'CLiMF', 'BRP_MP', 'iMF', 'TFMAP', 'top_ensemble', 'rating_ensamble']\n",
    "#     res.index = ['prec@' + str(topK),'1recal@' + str(topK), 'NDCG@' + str(topK), \n",
    "#                'MAP@' + str(topK)]\n",
    "    return res"
   ]
  },
  {
   "cell_type": "code",
   "execution_count": 62,
   "metadata": {
    "collapsed": false
   },
   "outputs": [],
   "source": [
    "from sklearn import linear_model\n",
    "import rankensemble\n",
    "from sklearn import ensemble\n",
    "from sklearn.kernel_ridge import KernelRidge"
   ]
  },
  {
   "cell_type": "code",
   "execution_count": 63,
   "metadata": {
    "collapsed": true
   },
   "outputs": [],
   "source": [
    "import copy"
   ]
  },
  {
   "cell_type": "code",
   "execution_count": 64,
   "metadata": {
    "collapsed": false
   },
   "outputs": [],
   "source": [
    "list_ensemble = [\n",
    "    rankensemble.regression_ensemble(linear_model.Ridge(alpha=100)),\n",
    "    rankensemble.inner_value_ensemble(),\n",
    "    rankensemble.boost_val_ens(rankingmeasure.get_NDCG,[3,0,1,2], num_weights=11),\n",
    "    rankensemble.tree_val_ens(rankingmeasure.get_NDCG, [[3, 0],[1,2]], num_weights=11)\n",
    "]"
   ]
  },
  {
   "cell_type": "code",
   "execution_count": 65,
   "metadata": {
    "collapsed": false
   },
   "outputs": [
    {
     "data": {
      "text/html": [
       "<div>\n",
       "<table border=\"1\" class=\"dataframe\">\n",
       "  <thead>\n",
       "    <tr style=\"text-align: right;\">\n",
       "      <th></th>\n",
       "      <th>best_result</th>\n",
       "      <th>regression_ensemble</th>\n",
       "      <th>inner_value_ensemble</th>\n",
       "      <th>boost_val_ens</th>\n",
       "      <th>tree_val_ens</th>\n",
       "    </tr>\n",
       "  </thead>\n",
       "  <tbody>\n",
       "    <tr>\n",
       "      <th>prec@5</th>\n",
       "      <td>0.446452</td>\n",
       "      <td>0.278114</td>\n",
       "      <td>0.392258</td>\n",
       "      <td>0.451315</td>\n",
       "      <td>0.453201</td>\n",
       "    </tr>\n",
       "    <tr>\n",
       "      <th>1recal@5</th>\n",
       "      <td>0.879901</td>\n",
       "      <td>0.667494</td>\n",
       "      <td>0.822333</td>\n",
       "      <td>0.880149</td>\n",
       "      <td>0.881390</td>\n",
       "    </tr>\n",
       "    <tr>\n",
       "      <th>NDCG@5</th>\n",
       "      <td>0.472480</td>\n",
       "      <td>0.298063</td>\n",
       "      <td>0.420762</td>\n",
       "      <td>0.477443</td>\n",
       "      <td>0.479024</td>\n",
       "    </tr>\n",
       "    <tr>\n",
       "      <th>MAP@5</th>\n",
       "      <td>0.652318</td>\n",
       "      <td>0.454898</td>\n",
       "      <td>0.603423</td>\n",
       "      <td>0.655568</td>\n",
       "      <td>0.655539</td>\n",
       "    </tr>\n",
       "  </tbody>\n",
       "</table>\n",
       "</div>"
      ],
      "text/plain": [
       "          best_result  regression_ensemble  inner_value_ensemble  \\\n",
       "prec@5       0.446452             0.278114              0.392258   \n",
       "1recal@5     0.879901             0.667494              0.822333   \n",
       "NDCG@5       0.472480             0.298063              0.420762   \n",
       "MAP@5        0.652318             0.454898              0.603423   \n",
       "\n",
       "          boost_val_ens  tree_val_ens  \n",
       "prec@5         0.451315      0.453201  \n",
       "1recal@5       0.880149      0.881390  \n",
       "NDCG@5         0.477443      0.479024  \n",
       "MAP@5          0.655568      0.655539  "
      ]
     },
     "execution_count": 65,
     "metadata": {},
     "output_type": "execute_result"
    }
   ],
   "source": [
    "netflix_ensemble_experiment(ml100k, create_list_cf(ml100k_shape)[1:5], list_ensemble, Ktrain=0.1, Kvalidation=0.1, verbose=0, maxiter=5)"
   ]
  },
  {
   "cell_type": "code",
   "execution_count": 66,
   "metadata": {
    "collapsed": false
   },
   "outputs": [
    {
     "name": "stdout",
     "output_type": "stream",
     "text": [
      "0 0 [ 0.32084367  0.7146402   0.34645261  0.50476978]\n",
      "0 1 [ 0.4662531   0.87344913  0.48138633  0.62882203]\n",
      "0 2 [ 0.54987593  0.93052109  0.5697363   0.71664082]\n",
      "0 3 [ 0.34615385  0.69851117  0.36220939  0.49494762]\n",
      "0 4 [ 0.39305211  0.78908189  0.41040393  0.55415116]\n",
      "0 5 [ 0.49702233  0.89205955  0.52224099  0.67765715]\n",
      "0 6 [ 0.56575682  0.93052109  0.58633574  0.72654742]\n",
      "0 7 [ 0.56253102  0.92679901  0.58647862  0.73115006]\n",
      "1 0 [ 0.31501241  0.69789082  0.33950687  0.49485026]\n",
      "1 1 [ 0.45856079  0.86972705  0.47520206  0.62937776]\n",
      "1 2 [ 0.54416873  0.92307692  0.56598803  0.71362783]\n",
      "1 3 [ 0.33548387  0.69168734  0.35450349  0.49172526]\n",
      "1 4 [ 0.37245658  0.7630273   0.39221528  0.53962297]\n",
      "1 5 [ 0.49069479  0.88151365  0.51345251  0.66469793]\n",
      "1 6 [ 0.55521092  0.92431762  0.57722547  0.72074459]\n",
      "1 7 [ 0.55334988  0.92183623  0.57834767  0.72655345]\n",
      "2 0 [ 0.31381307  0.70057899  0.33864788  0.49689482]\n",
      "2 1 [ 0.45690653  0.86807279  0.47314025  0.62621887]\n",
      "2 2 [ 0.54160463  0.9280397   0.56385239  0.71417666]\n",
      "2 3 [ 0.33647643  0.6898263   0.35667799  0.49755135]\n",
      "2 4 [ 0.37278743  0.75682382  0.39198078  0.53780615]\n",
      "2 5 [ 0.48999173  0.88172043  0.51398851  0.66733297]\n",
      "2 6 [ 0.5554177   0.92845327  0.57734653  0.72216938]\n",
      "2 7 [ 0.54789082  0.92307692  0.57275984  0.72399596]\n"
     ]
    },
    {
     "data": {
      "text/html": [
       "<div>\n",
       "<table border=\"1\" class=\"dataframe\">\n",
       "  <thead>\n",
       "    <tr style=\"text-align: right;\">\n",
       "      <th></th>\n",
       "      <th>best_result</th>\n",
       "      <th>regression_ensemble</th>\n",
       "      <th>inner_value_ensemble</th>\n",
       "      <th>boost_val_ens</th>\n",
       "      <th>tree_val_ens</th>\n",
       "    </tr>\n",
       "  </thead>\n",
       "  <tbody>\n",
       "    <tr>\n",
       "      <th>prec@5</th>\n",
       "      <td>0.541605</td>\n",
       "      <td>0.372787</td>\n",
       "      <td>0.489992</td>\n",
       "      <td>0.555418</td>\n",
       "      <td>0.547891</td>\n",
       "    </tr>\n",
       "    <tr>\n",
       "      <th>1recal@5</th>\n",
       "      <td>0.928040</td>\n",
       "      <td>0.756824</td>\n",
       "      <td>0.881720</td>\n",
       "      <td>0.928453</td>\n",
       "      <td>0.923077</td>\n",
       "    </tr>\n",
       "    <tr>\n",
       "      <th>NDCG@5</th>\n",
       "      <td>0.563852</td>\n",
       "      <td>0.391981</td>\n",
       "      <td>0.513989</td>\n",
       "      <td>0.577347</td>\n",
       "      <td>0.572760</td>\n",
       "    </tr>\n",
       "    <tr>\n",
       "      <th>MAP@5</th>\n",
       "      <td>0.714177</td>\n",
       "      <td>0.537806</td>\n",
       "      <td>0.667333</td>\n",
       "      <td>0.722169</td>\n",
       "      <td>0.723996</td>\n",
       "    </tr>\n",
       "  </tbody>\n",
       "</table>\n",
       "</div>"
      ],
      "text/plain": [
       "          best_result  regression_ensemble  inner_value_ensemble  \\\n",
       "prec@5       0.541605             0.372787              0.489992   \n",
       "1recal@5     0.928040             0.756824              0.881720   \n",
       "NDCG@5       0.563852             0.391981              0.513989   \n",
       "MAP@5        0.714177             0.537806              0.667333   \n",
       "\n",
       "          boost_val_ens  tree_val_ens  \n",
       "prec@5         0.555418      0.547891  \n",
       "1recal@5       0.928453      0.923077  \n",
       "NDCG@5         0.577347      0.572760  \n",
       "MAP@5          0.722169      0.723996  "
      ]
     },
     "execution_count": 66,
     "metadata": {},
     "output_type": "execute_result"
    }
   ],
   "source": [
    "netflix_ensemble_experiment(ml100k, create_list_cf(ml100k_shape)[1:5], list_ensemble, Ktrain=0.2, Kvalidation=0.1, verbose=1, maxiter=3)"
   ]
  },
  {
   "cell_type": "code",
   "execution_count": 67,
   "metadata": {
    "collapsed": false
   },
   "outputs": [
    {
     "data": {
      "text/html": [
       "<div>\n",
       "<table border=\"1\" class=\"dataframe\">\n",
       "  <thead>\n",
       "    <tr style=\"text-align: right;\">\n",
       "      <th></th>\n",
       "      <th>best_result</th>\n",
       "      <th>regression_ensemble</th>\n",
       "      <th>inner_value_ensemble</th>\n",
       "      <th>boost_val_ens</th>\n",
       "      <th>tree_val_ens</th>\n",
       "    </tr>\n",
       "  </thead>\n",
       "  <tbody>\n",
       "    <tr>\n",
       "      <th>prec@5</th>\n",
       "      <td>0.129035</td>\n",
       "      <td>0.082361</td>\n",
       "      <td>0.098252</td>\n",
       "      <td>0.132577</td>\n",
       "      <td>0.135982</td>\n",
       "    </tr>\n",
       "    <tr>\n",
       "      <th>1recal@5</th>\n",
       "      <td>0.420885</td>\n",
       "      <td>0.304200</td>\n",
       "      <td>0.350057</td>\n",
       "      <td>0.429058</td>\n",
       "      <td>0.432236</td>\n",
       "    </tr>\n",
       "    <tr>\n",
       "      <th>NDCG@5</th>\n",
       "      <td>0.138074</td>\n",
       "      <td>0.089173</td>\n",
       "      <td>0.103557</td>\n",
       "      <td>0.140958</td>\n",
       "      <td>0.143964</td>\n",
       "    </tr>\n",
       "    <tr>\n",
       "      <th>MAP@5</th>\n",
       "      <td>0.251218</td>\n",
       "      <td>0.175528</td>\n",
       "      <td>0.195928</td>\n",
       "      <td>0.254885</td>\n",
       "      <td>0.256035</td>\n",
       "    </tr>\n",
       "  </tbody>\n",
       "</table>\n",
       "</div>"
      ],
      "text/plain": [
       "          best_result  regression_ensemble  inner_value_ensemble  \\\n",
       "prec@5       0.129035             0.082361              0.098252   \n",
       "1recal@5     0.420885             0.304200              0.350057   \n",
       "NDCG@5       0.138074             0.089173              0.103557   \n",
       "MAP@5        0.251218             0.175528              0.195928   \n",
       "\n",
       "          boost_val_ens  tree_val_ens  \n",
       "prec@5         0.132577      0.135982  \n",
       "1recal@5       0.429058      0.432236  \n",
       "NDCG@5         0.140958      0.143964  \n",
       "MAP@5          0.254885      0.256035  "
      ]
     },
     "execution_count": 67,
     "metadata": {},
     "output_type": "execute_result"
    }
   ],
   "source": [
    "netflix_ensemble_experiment(epinion, create_list_cf(epinion_shape)[1:5], list_ensemble, Ktrain=0.1, Kvalidation=0.1, verbose=0, maxiter=1)"
   ]
  },
  {
   "cell_type": "code",
   "execution_count": 68,
   "metadata": {
    "collapsed": false
   },
   "outputs": [
    {
     "data": {
      "text/html": [
       "<div>\n",
       "<table border=\"1\" class=\"dataframe\">\n",
       "  <thead>\n",
       "    <tr style=\"text-align: right;\">\n",
       "      <th></th>\n",
       "      <th>best_result</th>\n",
       "      <th>regression_ensemble</th>\n",
       "      <th>inner_value_ensemble</th>\n",
       "      <th>boost_val_ens</th>\n",
       "      <th>tree_val_ens</th>\n",
       "    </tr>\n",
       "  </thead>\n",
       "  <tbody>\n",
       "    <tr>\n",
       "      <th>prec@5</th>\n",
       "      <td>0.170715</td>\n",
       "      <td>0.104745</td>\n",
       "      <td>0.137980</td>\n",
       "      <td>0.177072</td>\n",
       "      <td>0.182883</td>\n",
       "    </tr>\n",
       "    <tr>\n",
       "      <th>1recal@5</th>\n",
       "      <td>0.510783</td>\n",
       "      <td>0.374801</td>\n",
       "      <td>0.455846</td>\n",
       "      <td>0.527582</td>\n",
       "      <td>0.533939</td>\n",
       "    </tr>\n",
       "    <tr>\n",
       "      <th>NDCG@5</th>\n",
       "      <td>0.181573</td>\n",
       "      <td>0.113291</td>\n",
       "      <td>0.144062</td>\n",
       "      <td>0.188282</td>\n",
       "      <td>0.193359</td>\n",
       "    </tr>\n",
       "    <tr>\n",
       "      <th>MAP@5</th>\n",
       "      <td>0.312035</td>\n",
       "      <td>0.219128</td>\n",
       "      <td>0.259211</td>\n",
       "      <td>0.323588</td>\n",
       "      <td>0.326621</td>\n",
       "    </tr>\n",
       "  </tbody>\n",
       "</table>\n",
       "</div>"
      ],
      "text/plain": [
       "          best_result  regression_ensemble  inner_value_ensemble  \\\n",
       "prec@5       0.170715             0.104745              0.137980   \n",
       "1recal@5     0.510783             0.374801              0.455846   \n",
       "NDCG@5       0.181573             0.113291              0.144062   \n",
       "MAP@5        0.312035             0.219128              0.259211   \n",
       "\n",
       "          boost_val_ens  tree_val_ens  \n",
       "prec@5         0.177072      0.182883  \n",
       "1recal@5       0.527582      0.533939  \n",
       "NDCG@5         0.188282      0.193359  \n",
       "MAP@5          0.323588      0.326621  "
      ]
     },
     "execution_count": 68,
     "metadata": {},
     "output_type": "execute_result"
    }
   ],
   "source": [
    "netflix_ensemble_experiment(epinion, create_list_cf(epinion_shape)[1:5], list_ensemble, Ktrain=0.2, Kvalidation=0.1, verbose=0, maxiter=1)"
   ]
  },
  {
   "cell_type": "code",
   "execution_count": 69,
   "metadata": {
    "collapsed": false
   },
   "outputs": [
    {
     "data": {
      "text/html": [
       "<div>\n",
       "<table border=\"1\" class=\"dataframe\">\n",
       "  <thead>\n",
       "    <tr style=\"text-align: right;\">\n",
       "      <th></th>\n",
       "      <th>best_result</th>\n",
       "      <th>regression_ensemble</th>\n",
       "      <th>inner_value_ensemble</th>\n",
       "      <th>boost_val_ens</th>\n",
       "      <th>tree_val_ens</th>\n",
       "    </tr>\n",
       "  </thead>\n",
       "  <tbody>\n",
       "    <tr>\n",
       "      <th>prec@5</th>\n",
       "      <td>0.396720</td>\n",
       "      <td>0.178555</td>\n",
       "      <td>0.359849</td>\n",
       "      <td>0.400793</td>\n",
       "      <td>0.400721</td>\n",
       "    </tr>\n",
       "    <tr>\n",
       "      <th>1recal@5</th>\n",
       "      <td>0.807172</td>\n",
       "      <td>0.494143</td>\n",
       "      <td>0.770049</td>\n",
       "      <td>0.812579</td>\n",
       "      <td>0.813300</td>\n",
       "    </tr>\n",
       "    <tr>\n",
       "      <th>NDCG@5</th>\n",
       "      <td>0.415989</td>\n",
       "      <td>0.182305</td>\n",
       "      <td>0.370419</td>\n",
       "      <td>0.420478</td>\n",
       "      <td>0.420210</td>\n",
       "    </tr>\n",
       "    <tr>\n",
       "      <th>MAP@5</th>\n",
       "      <td>0.575993</td>\n",
       "      <td>0.292261</td>\n",
       "      <td>0.516833</td>\n",
       "      <td>0.581903</td>\n",
       "      <td>0.581216</td>\n",
       "    </tr>\n",
       "  </tbody>\n",
       "</table>\n",
       "</div>"
      ],
      "text/plain": [
       "          best_result  regression_ensemble  inner_value_ensemble  \\\n",
       "prec@5       0.396720             0.178555              0.359849   \n",
       "1recal@5     0.807172             0.494143              0.770049   \n",
       "NDCG@5       0.415989             0.182305              0.370419   \n",
       "MAP@5        0.575993             0.292261              0.516833   \n",
       "\n",
       "          boost_val_ens  tree_val_ens  \n",
       "prec@5         0.400793      0.400721  \n",
       "1recal@5       0.812579      0.813300  \n",
       "NDCG@5         0.420478      0.420210  \n",
       "MAP@5          0.581903      0.581216  "
      ]
     },
     "execution_count": 69,
     "metadata": {},
     "output_type": "execute_result"
    }
   ],
   "source": [
    "netflix_ensemble_experiment(ml1m, create_list_cf(ml1m_shape)[1:5], list_ensemble, Ktrain=0.1, Kvalidation=0.1, verbose=0, maxiter=1)"
   ]
  },
  {
   "cell_type": "code",
   "execution_count": 70,
   "metadata": {
    "collapsed": false
   },
   "outputs": [
    {
     "data": {
      "text/html": [
       "<div>\n",
       "<table border=\"1\" class=\"dataframe\">\n",
       "  <thead>\n",
       "    <tr style=\"text-align: right;\">\n",
       "      <th></th>\n",
       "      <th>best_result</th>\n",
       "      <th>regression_ensemble</th>\n",
       "      <th>inner_value_ensemble</th>\n",
       "      <th>boost_val_ens</th>\n",
       "      <th>tree_val_ens</th>\n",
       "    </tr>\n",
       "  </thead>\n",
       "  <tbody>\n",
       "    <tr>\n",
       "      <th>prec@5</th>\n",
       "      <td>0.487007</td>\n",
       "      <td>0.216111</td>\n",
       "      <td>0.443251</td>\n",
       "      <td>0.490899</td>\n",
       "      <td>0.481781</td>\n",
       "    </tr>\n",
       "    <tr>\n",
       "      <th>1recal@5</th>\n",
       "      <td>0.866823</td>\n",
       "      <td>0.564246</td>\n",
       "      <td>0.838169</td>\n",
       "      <td>0.872049</td>\n",
       "      <td>0.857272</td>\n",
       "    </tr>\n",
       "    <tr>\n",
       "      <th>NDCG@5</th>\n",
       "      <td>0.505163</td>\n",
       "      <td>0.221250</td>\n",
       "      <td>0.455997</td>\n",
       "      <td>0.509798</td>\n",
       "      <td>0.502215</td>\n",
       "    </tr>\n",
       "    <tr>\n",
       "      <th>MAP@5</th>\n",
       "      <td>0.652758</td>\n",
       "      <td>0.343543</td>\n",
       "      <td>0.600495</td>\n",
       "      <td>0.658076</td>\n",
       "      <td>0.651395</td>\n",
       "    </tr>\n",
       "  </tbody>\n",
       "</table>\n",
       "</div>"
      ],
      "text/plain": [
       "          best_result  regression_ensemble  inner_value_ensemble  \\\n",
       "prec@5       0.487007             0.216111              0.443251   \n",
       "1recal@5     0.866823             0.564246              0.838169   \n",
       "NDCG@5       0.505163             0.221250              0.455997   \n",
       "MAP@5        0.652758             0.343543              0.600495   \n",
       "\n",
       "          boost_val_ens  tree_val_ens  \n",
       "prec@5         0.490899      0.481781  \n",
       "1recal@5       0.872049      0.857272  \n",
       "NDCG@5         0.509798      0.502215  \n",
       "MAP@5          0.658076      0.651395  "
      ]
     },
     "execution_count": 70,
     "metadata": {},
     "output_type": "execute_result"
    }
   ],
   "source": [
    "netflix_ensemble_experiment(ml1m, create_list_cf(ml1m_shape)[1:5], list_ensemble, Ktrain=0.2, Kvalidation=0.1, verbose=0, maxiter=1)"
   ]
  },
  {
   "cell_type": "code",
   "execution_count": 71,
   "metadata": {
    "collapsed": false
   },
   "outputs": [
    {
     "data": {
      "text/html": [
       "<div>\n",
       "<table border=\"1\" class=\"dataframe\">\n",
       "  <thead>\n",
       "    <tr style=\"text-align: right;\">\n",
       "      <th></th>\n",
       "      <th>best_result</th>\n",
       "      <th>regression_ensemble</th>\n",
       "      <th>inner_value_ensemble</th>\n",
       "      <th>boost_val_ens</th>\n",
       "      <th>tree_val_ens</th>\n",
       "    </tr>\n",
       "  </thead>\n",
       "  <tbody>\n",
       "    <tr>\n",
       "      <th>prec@5</th>\n",
       "      <td>0.075057</td>\n",
       "      <td>0.034296</td>\n",
       "      <td>0.050572</td>\n",
       "      <td>0.075029</td>\n",
       "      <td>0.075915</td>\n",
       "    </tr>\n",
       "    <tr>\n",
       "      <th>1recal@5</th>\n",
       "      <td>0.254005</td>\n",
       "      <td>0.147883</td>\n",
       "      <td>0.199943</td>\n",
       "      <td>0.256293</td>\n",
       "      <td>0.258867</td>\n",
       "    </tr>\n",
       "    <tr>\n",
       "      <th>NDCG@5</th>\n",
       "      <td>0.080496</td>\n",
       "      <td>0.036987</td>\n",
       "      <td>0.053533</td>\n",
       "      <td>0.080918</td>\n",
       "      <td>0.081579</td>\n",
       "    </tr>\n",
       "    <tr>\n",
       "      <th>MAP@5</th>\n",
       "      <td>0.148947</td>\n",
       "      <td>0.080431</td>\n",
       "      <td>0.108799</td>\n",
       "      <td>0.151041</td>\n",
       "      <td>0.152045</td>\n",
       "    </tr>\n",
       "  </tbody>\n",
       "</table>\n",
       "</div>"
      ],
      "text/plain": [
       "          best_result  regression_ensemble  inner_value_ensemble  \\\n",
       "prec@5       0.075057             0.034296              0.050572   \n",
       "1recal@5     0.254005             0.147883              0.199943   \n",
       "NDCG@5       0.080496             0.036987              0.053533   \n",
       "MAP@5        0.148947             0.080431              0.108799   \n",
       "\n",
       "          boost_val_ens  tree_val_ens  \n",
       "prec@5         0.075029      0.075915  \n",
       "1recal@5       0.256293      0.258867  \n",
       "NDCG@5         0.080918      0.081579  \n",
       "MAP@5          0.151041      0.152045  "
      ]
     },
     "execution_count": 71,
     "metadata": {},
     "output_type": "execute_result"
    }
   ],
   "source": [
    "netflix_ensemble_experiment(slashdot, create_list_cf(slashdot_shape)[1:5], list_ensemble, Ktrain=0.1, Kvalidation=0.1, verbose=0, maxiter=1)"
   ]
  },
  {
   "cell_type": "code",
   "execution_count": 72,
   "metadata": {
    "collapsed": false
   },
   "outputs": [
    {
     "data": {
      "text/html": [
       "<div>\n",
       "<table border=\"1\" class=\"dataframe\">\n",
       "  <thead>\n",
       "    <tr style=\"text-align: right;\">\n",
       "      <th></th>\n",
       "      <th>best_result</th>\n",
       "      <th>regression_ensemble</th>\n",
       "      <th>inner_value_ensemble</th>\n",
       "      <th>boost_val_ens</th>\n",
       "      <th>tree_val_ens</th>\n",
       "    </tr>\n",
       "  </thead>\n",
       "  <tbody>\n",
       "    <tr>\n",
       "      <th>prec@5</th>\n",
       "      <td>0.101487</td>\n",
       "      <td>0.053804</td>\n",
       "      <td>0.073713</td>\n",
       "      <td>0.101831</td>\n",
       "      <td>0.103947</td>\n",
       "    </tr>\n",
       "    <tr>\n",
       "      <th>1recal@5</th>\n",
       "      <td>0.324657</td>\n",
       "      <td>0.217677</td>\n",
       "      <td>0.277174</td>\n",
       "      <td>0.325372</td>\n",
       "      <td>0.330664</td>\n",
       "    </tr>\n",
       "    <tr>\n",
       "      <th>NDCG@5</th>\n",
       "      <td>0.108359</td>\n",
       "      <td>0.058386</td>\n",
       "      <td>0.079002</td>\n",
       "      <td>0.108754</td>\n",
       "      <td>0.110665</td>\n",
       "    </tr>\n",
       "    <tr>\n",
       "      <th>MAP@5</th>\n",
       "      <td>0.195109</td>\n",
       "      <td>0.122139</td>\n",
       "      <td>0.156776</td>\n",
       "      <td>0.195859</td>\n",
       "      <td>0.198367</td>\n",
       "    </tr>\n",
       "  </tbody>\n",
       "</table>\n",
       "</div>"
      ],
      "text/plain": [
       "          best_result  regression_ensemble  inner_value_ensemble  \\\n",
       "prec@5       0.101487             0.053804              0.073713   \n",
       "1recal@5     0.324657             0.217677              0.277174   \n",
       "NDCG@5       0.108359             0.058386              0.079002   \n",
       "MAP@5        0.195109             0.122139              0.156776   \n",
       "\n",
       "          boost_val_ens  tree_val_ens  \n",
       "prec@5         0.101831      0.103947  \n",
       "1recal@5       0.325372      0.330664  \n",
       "NDCG@5         0.108754      0.110665  \n",
       "MAP@5          0.195859      0.198367  "
      ]
     },
     "execution_count": 72,
     "metadata": {},
     "output_type": "execute_result"
    }
   ],
   "source": [
    "netflix_ensemble_experiment(slashdot, create_list_cf(slashdot_shape)[1:5], list_ensemble, Ktrain=0.2, Kvalidation=0.1, verbose=0, maxiter=1)"
   ]
  },
  {
   "cell_type": "code",
   "execution_count": 73,
   "metadata": {
    "collapsed": true
   },
   "outputs": [],
   "source": [
    "list_ensemble = [\n",
    "    rankensemble.tree_val_ens(rankingmeasure.get_prec_K, [[3, 0],[1,2]], num_weights=11),\n",
    "    rankensemble.tree_val_ens(rankingmeasure.get_one_recal_K, [[3, 0],[1,2]], num_weights=11),\n",
    "    rankensemble.tree_val_ens(rankingmeasure.get_MAP, [[3, 0],[1,2]], num_weights=11),\n",
    "    rankensemble.tree_val_ens(rankingmeasure.get_NDCG, [[3, 0],[1,2]], num_weights=11)\n",
    "]"
   ]
  },
  {
   "cell_type": "code",
   "execution_count": 74,
   "metadata": {
    "collapsed": false
   },
   "outputs": [
    {
     "name": "stdout",
     "output_type": "stream",
     "text": [
      "0 0 [ 0.24218362  0.65260546  0.26465323  0.43577164]\n",
      "0 1 [ 0.37816377  0.82258065  0.39086552  0.55239178]\n",
      "0 2 [ 0.44739454  0.88833747  0.47145034  0.64708092]\n",
      "0 3 [ 0.25310174  0.62282878  0.26833271  0.40971016]\n",
      "0 4 [ 0.44987593  0.89081886  0.47426476  0.65185243]\n",
      "0 5 [ 0.45806452  0.89205955  0.48606692  0.66681141]\n",
      "0 6 [ 0.45459057  0.88709677  0.48284741  0.66364592]\n",
      "0 7 [ 0.45781638  0.88709677  0.48482568  0.66538462]\n"
     ]
    },
    {
     "data": {
      "text/html": [
       "<div>\n",
       "<table border=\"1\" class=\"dataframe\">\n",
       "  <thead>\n",
       "    <tr style=\"text-align: right;\">\n",
       "      <th></th>\n",
       "      <th>best_result</th>\n",
       "      <th>tree_val_ens</th>\n",
       "      <th>tree_val_ens</th>\n",
       "      <th>tree_val_ens</th>\n",
       "      <th>tree_val_ens</th>\n",
       "    </tr>\n",
       "  </thead>\n",
       "  <tbody>\n",
       "    <tr>\n",
       "      <th>prec@5</th>\n",
       "      <td>0.447395</td>\n",
       "      <td>0.449876</td>\n",
       "      <td>0.458065</td>\n",
       "      <td>0.454591</td>\n",
       "      <td>0.457816</td>\n",
       "    </tr>\n",
       "    <tr>\n",
       "      <th>1recal@5</th>\n",
       "      <td>0.888337</td>\n",
       "      <td>0.890819</td>\n",
       "      <td>0.892060</td>\n",
       "      <td>0.887097</td>\n",
       "      <td>0.887097</td>\n",
       "    </tr>\n",
       "    <tr>\n",
       "      <th>NDCG@5</th>\n",
       "      <td>0.471450</td>\n",
       "      <td>0.474265</td>\n",
       "      <td>0.486067</td>\n",
       "      <td>0.482847</td>\n",
       "      <td>0.484826</td>\n",
       "    </tr>\n",
       "    <tr>\n",
       "      <th>MAP@5</th>\n",
       "      <td>0.647081</td>\n",
       "      <td>0.651852</td>\n",
       "      <td>0.666811</td>\n",
       "      <td>0.663646</td>\n",
       "      <td>0.665385</td>\n",
       "    </tr>\n",
       "  </tbody>\n",
       "</table>\n",
       "</div>"
      ],
      "text/plain": [
       "          best_result  tree_val_ens  tree_val_ens  tree_val_ens  tree_val_ens\n",
       "prec@5       0.447395      0.449876      0.458065      0.454591      0.457816\n",
       "1recal@5     0.888337      0.890819      0.892060      0.887097      0.887097\n",
       "NDCG@5       0.471450      0.474265      0.486067      0.482847      0.484826\n",
       "MAP@5        0.647081      0.651852      0.666811      0.663646      0.665385"
      ]
     },
     "execution_count": 74,
     "metadata": {},
     "output_type": "execute_result"
    }
   ],
   "source": [
    "netflix_ensemble_experiment(ml100k, create_list_cf(ml100k_shape)[1:5], list_ensemble, Ktrain=0.1, Kvalidation=0.1, verbose=1, maxiter=1)"
   ]
  },
  {
   "cell_type": "code",
   "execution_count": 75,
   "metadata": {
    "collapsed": false
   },
   "outputs": [
    {
     "data": {
      "text/html": [
       "<div>\n",
       "<table border=\"1\" class=\"dataframe\">\n",
       "  <thead>\n",
       "    <tr style=\"text-align: right;\">\n",
       "      <th></th>\n",
       "      <th>best_result</th>\n",
       "      <th>tree_val_ens</th>\n",
       "      <th>tree_val_ens</th>\n",
       "      <th>tree_val_ens</th>\n",
       "      <th>tree_val_ens</th>\n",
       "    </tr>\n",
       "  </thead>\n",
       "  <tbody>\n",
       "    <tr>\n",
       "      <th>prec@5</th>\n",
       "      <td>0.524069</td>\n",
       "      <td>0.536725</td>\n",
       "      <td>0.536725</td>\n",
       "      <td>0.536725</td>\n",
       "      <td>0.536725</td>\n",
       "    </tr>\n",
       "    <tr>\n",
       "      <th>1recal@5</th>\n",
       "      <td>0.915633</td>\n",
       "      <td>0.929280</td>\n",
       "      <td>0.929280</td>\n",
       "      <td>0.929280</td>\n",
       "      <td>0.929280</td>\n",
       "    </tr>\n",
       "    <tr>\n",
       "      <th>NDCG@5</th>\n",
       "      <td>0.548121</td>\n",
       "      <td>0.561869</td>\n",
       "      <td>0.561869</td>\n",
       "      <td>0.561869</td>\n",
       "      <td>0.561869</td>\n",
       "    </tr>\n",
       "    <tr>\n",
       "      <th>MAP@5</th>\n",
       "      <td>0.707239</td>\n",
       "      <td>0.718166</td>\n",
       "      <td>0.718166</td>\n",
       "      <td>0.718166</td>\n",
       "      <td>0.718166</td>\n",
       "    </tr>\n",
       "  </tbody>\n",
       "</table>\n",
       "</div>"
      ],
      "text/plain": [
       "          best_result  tree_val_ens  tree_val_ens  tree_val_ens  tree_val_ens\n",
       "prec@5       0.524069      0.536725      0.536725      0.536725      0.536725\n",
       "1recal@5     0.915633      0.929280      0.929280      0.929280      0.929280\n",
       "NDCG@5       0.548121      0.561869      0.561869      0.561869      0.561869\n",
       "MAP@5        0.707239      0.718166      0.718166      0.718166      0.718166"
      ]
     },
     "execution_count": 75,
     "metadata": {},
     "output_type": "execute_result"
    }
   ],
   "source": [
    "netflix_ensemble_experiment(ml100k, create_list_cf(ml100k_shape)[1:5], list_ensemble, Ktrain=0.2, Kvalidation=0.1, verbose=0, maxiter=1)"
   ]
  },
  {
   "cell_type": "code",
   "execution_count": 76,
   "metadata": {
    "collapsed": false
   },
   "outputs": [
    {
     "data": {
      "text/html": [
       "<div>\n",
       "<table border=\"1\" class=\"dataframe\">\n",
       "  <thead>\n",
       "    <tr style=\"text-align: right;\">\n",
       "      <th></th>\n",
       "      <th>best_result</th>\n",
       "      <th>tree_val_ens</th>\n",
       "      <th>tree_val_ens</th>\n",
       "      <th>tree_val_ens</th>\n",
       "      <th>tree_val_ens</th>\n",
       "    </tr>\n",
       "  </thead>\n",
       "  <tbody>\n",
       "    <tr>\n",
       "      <th>prec@5</th>\n",
       "      <td>0.128263</td>\n",
       "      <td>0.133893</td>\n",
       "      <td>0.132395</td>\n",
       "      <td>0.133121</td>\n",
       "      <td>0.133893</td>\n",
       "    </tr>\n",
       "    <tr>\n",
       "      <th>1recal@5</th>\n",
       "      <td>0.419750</td>\n",
       "      <td>0.441317</td>\n",
       "      <td>0.433598</td>\n",
       "      <td>0.441090</td>\n",
       "      <td>0.441317</td>\n",
       "    </tr>\n",
       "    <tr>\n",
       "      <th>NDCG@5</th>\n",
       "      <td>0.137557</td>\n",
       "      <td>0.143103</td>\n",
       "      <td>0.141807</td>\n",
       "      <td>0.140842</td>\n",
       "      <td>0.143103</td>\n",
       "    </tr>\n",
       "    <tr>\n",
       "      <th>MAP@5</th>\n",
       "      <td>0.251110</td>\n",
       "      <td>0.261575</td>\n",
       "      <td>0.259145</td>\n",
       "      <td>0.256982</td>\n",
       "      <td>0.261575</td>\n",
       "    </tr>\n",
       "  </tbody>\n",
       "</table>\n",
       "</div>"
      ],
      "text/plain": [
       "          best_result  tree_val_ens  tree_val_ens  tree_val_ens  tree_val_ens\n",
       "prec@5       0.128263      0.133893      0.132395      0.133121      0.133893\n",
       "1recal@5     0.419750      0.441317      0.433598      0.441090      0.441317\n",
       "NDCG@5       0.137557      0.143103      0.141807      0.140842      0.143103\n",
       "MAP@5        0.251110      0.261575      0.259145      0.256982      0.261575"
      ]
     },
     "execution_count": 76,
     "metadata": {},
     "output_type": "execute_result"
    }
   ],
   "source": [
    "netflix_ensemble_experiment(epinion, create_list_cf(epinion_shape)[1:5], list_ensemble, Ktrain=0.1, Kvalidation=0.1, verbose=0, maxiter=1)"
   ]
  },
  {
   "cell_type": "code",
   "execution_count": 77,
   "metadata": {
    "collapsed": false
   },
   "outputs": [
    {
     "data": {
      "text/html": [
       "<div>\n",
       "<table border=\"1\" class=\"dataframe\">\n",
       "  <thead>\n",
       "    <tr style=\"text-align: right;\">\n",
       "      <th></th>\n",
       "      <th>best_result</th>\n",
       "      <th>tree_val_ens</th>\n",
       "      <th>tree_val_ens</th>\n",
       "      <th>tree_val_ens</th>\n",
       "      <th>tree_val_ens</th>\n",
       "    </tr>\n",
       "  </thead>\n",
       "  <tbody>\n",
       "    <tr>\n",
       "      <th>prec@5</th>\n",
       "      <td>0.168173</td>\n",
       "      <td>0.175437</td>\n",
       "      <td>0.178479</td>\n",
       "      <td>0.175074</td>\n",
       "      <td>0.175437</td>\n",
       "    </tr>\n",
       "    <tr>\n",
       "      <th>1recal@5</th>\n",
       "      <td>0.500795</td>\n",
       "      <td>0.520772</td>\n",
       "      <td>0.527809</td>\n",
       "      <td>0.533031</td>\n",
       "      <td>0.520772</td>\n",
       "    </tr>\n",
       "    <tr>\n",
       "      <th>NDCG@5</th>\n",
       "      <td>0.178086</td>\n",
       "      <td>0.185403</td>\n",
       "      <td>0.187789</td>\n",
       "      <td>0.184682</td>\n",
       "      <td>0.185403</td>\n",
       "    </tr>\n",
       "    <tr>\n",
       "      <th>MAP@5</th>\n",
       "      <td>0.304935</td>\n",
       "      <td>0.317274</td>\n",
       "      <td>0.320160</td>\n",
       "      <td>0.320722</td>\n",
       "      <td>0.317274</td>\n",
       "    </tr>\n",
       "  </tbody>\n",
       "</table>\n",
       "</div>"
      ],
      "text/plain": [
       "          best_result  tree_val_ens  tree_val_ens  tree_val_ens  tree_val_ens\n",
       "prec@5       0.168173      0.175437      0.178479      0.175074      0.175437\n",
       "1recal@5     0.500795      0.520772      0.527809      0.533031      0.520772\n",
       "NDCG@5       0.178086      0.185403      0.187789      0.184682      0.185403\n",
       "MAP@5        0.304935      0.317274      0.320160      0.320722      0.317274"
      ]
     },
     "execution_count": 77,
     "metadata": {},
     "output_type": "execute_result"
    }
   ],
   "source": [
    "netflix_ensemble_experiment(epinion, create_list_cf(epinion_shape)[1:5], list_ensemble, Ktrain=0.2, Kvalidation=0.1, verbose=0, maxiter=1)"
   ]
  },
  {
   "cell_type": "code",
   "execution_count": 78,
   "metadata": {
    "collapsed": false
   },
   "outputs": [
    {
     "data": {
      "text/html": [
       "<div>\n",
       "<table border=\"1\" class=\"dataframe\">\n",
       "  <thead>\n",
       "    <tr style=\"text-align: right;\">\n",
       "      <th></th>\n",
       "      <th>best_result</th>\n",
       "      <th>tree_val_ens</th>\n",
       "      <th>tree_val_ens</th>\n",
       "      <th>tree_val_ens</th>\n",
       "      <th>tree_val_ens</th>\n",
       "    </tr>\n",
       "  </thead>\n",
       "  <tbody>\n",
       "    <tr>\n",
       "      <th>prec@5</th>\n",
       "      <td>0.395423</td>\n",
       "      <td>0.400144</td>\n",
       "      <td>0.400396</td>\n",
       "      <td>0.400000</td>\n",
       "      <td>0.400144</td>\n",
       "    </tr>\n",
       "    <tr>\n",
       "      <th>1recal@5</th>\n",
       "      <td>0.800144</td>\n",
       "      <td>0.806271</td>\n",
       "      <td>0.807353</td>\n",
       "      <td>0.807172</td>\n",
       "      <td>0.806271</td>\n",
       "    </tr>\n",
       "    <tr>\n",
       "      <th>NDCG@5</th>\n",
       "      <td>0.415935</td>\n",
       "      <td>0.420379</td>\n",
       "      <td>0.420517</td>\n",
       "      <td>0.420004</td>\n",
       "      <td>0.420379</td>\n",
       "    </tr>\n",
       "    <tr>\n",
       "      <th>MAP@5</th>\n",
       "      <td>0.576955</td>\n",
       "      <td>0.581040</td>\n",
       "      <td>0.581251</td>\n",
       "      <td>0.581108</td>\n",
       "      <td>0.581040</td>\n",
       "    </tr>\n",
       "  </tbody>\n",
       "</table>\n",
       "</div>"
      ],
      "text/plain": [
       "          best_result  tree_val_ens  tree_val_ens  tree_val_ens  tree_val_ens\n",
       "prec@5       0.395423      0.400144      0.400396      0.400000      0.400144\n",
       "1recal@5     0.800144      0.806271      0.807353      0.807172      0.806271\n",
       "NDCG@5       0.415935      0.420379      0.420517      0.420004      0.420379\n",
       "MAP@5        0.576955      0.581040      0.581251      0.581108      0.581040"
      ]
     },
     "execution_count": 78,
     "metadata": {},
     "output_type": "execute_result"
    }
   ],
   "source": [
    "netflix_ensemble_experiment(ml1m, create_list_cf(ml1m_shape)[1:5], list_ensemble, Ktrain=0.1, Kvalidation=0.1, verbose=0, maxiter=1)"
   ]
  },
  {
   "cell_type": "code",
   "execution_count": 79,
   "metadata": {
    "collapsed": false
   },
   "outputs": [
    {
     "data": {
      "text/html": [
       "<div>\n",
       "<table border=\"1\" class=\"dataframe\">\n",
       "  <thead>\n",
       "    <tr style=\"text-align: right;\">\n",
       "      <th></th>\n",
       "      <th>best_result</th>\n",
       "      <th>tree_val_ens</th>\n",
       "      <th>tree_val_ens</th>\n",
       "      <th>tree_val_ens</th>\n",
       "      <th>tree_val_ens</th>\n",
       "    </tr>\n",
       "  </thead>\n",
       "  <tbody>\n",
       "    <tr>\n",
       "      <th>prec@5</th>\n",
       "      <td>0.486754</td>\n",
       "      <td>0.491476</td>\n",
       "      <td>0.491908</td>\n",
       "      <td>0.488737</td>\n",
       "      <td>0.491692</td>\n",
       "    </tr>\n",
       "    <tr>\n",
       "      <th>1recal@5</th>\n",
       "      <td>0.862858</td>\n",
       "      <td>0.874932</td>\n",
       "      <td>0.871328</td>\n",
       "      <td>0.872229</td>\n",
       "      <td>0.872229</td>\n",
       "    </tr>\n",
       "    <tr>\n",
       "      <th>NDCG@5</th>\n",
       "      <td>0.505064</td>\n",
       "      <td>0.509525</td>\n",
       "      <td>0.510863</td>\n",
       "      <td>0.507341</td>\n",
       "      <td>0.509243</td>\n",
       "    </tr>\n",
       "    <tr>\n",
       "      <th>MAP@5</th>\n",
       "      <td>0.651736</td>\n",
       "      <td>0.656594</td>\n",
       "      <td>0.658771</td>\n",
       "      <td>0.654780</td>\n",
       "      <td>0.655432</td>\n",
       "    </tr>\n",
       "  </tbody>\n",
       "</table>\n",
       "</div>"
      ],
      "text/plain": [
       "          best_result  tree_val_ens  tree_val_ens  tree_val_ens  tree_val_ens\n",
       "prec@5       0.486754      0.491476      0.491908      0.488737      0.491692\n",
       "1recal@5     0.862858      0.874932      0.871328      0.872229      0.872229\n",
       "NDCG@5       0.505064      0.509525      0.510863      0.507341      0.509243\n",
       "MAP@5        0.651736      0.656594      0.658771      0.654780      0.655432"
      ]
     },
     "execution_count": 79,
     "metadata": {},
     "output_type": "execute_result"
    }
   ],
   "source": [
    "netflix_ensemble_experiment(ml1m, create_list_cf(ml1m_shape)[1:5], list_ensemble, Ktrain=0.2, Kvalidation=0.1, verbose=0, maxiter=1)"
   ]
  },
  {
   "cell_type": "code",
   "execution_count": 80,
   "metadata": {
    "collapsed": false
   },
   "outputs": [
    {
     "data": {
      "text/html": [
       "<div>\n",
       "<table border=\"1\" class=\"dataframe\">\n",
       "  <thead>\n",
       "    <tr style=\"text-align: right;\">\n",
       "      <th></th>\n",
       "      <th>best_result</th>\n",
       "      <th>tree_val_ens</th>\n",
       "      <th>tree_val_ens</th>\n",
       "      <th>tree_val_ens</th>\n",
       "      <th>tree_val_ens</th>\n",
       "    </tr>\n",
       "  </thead>\n",
       "  <tbody>\n",
       "    <tr>\n",
       "      <th>prec@5</th>\n",
       "      <td>0.075830</td>\n",
       "      <td>0.076659</td>\n",
       "      <td>0.076659</td>\n",
       "      <td>0.076745</td>\n",
       "      <td>0.076745</td>\n",
       "    </tr>\n",
       "    <tr>\n",
       "      <th>1recal@5</th>\n",
       "      <td>0.253576</td>\n",
       "      <td>0.258295</td>\n",
       "      <td>0.258295</td>\n",
       "      <td>0.259868</td>\n",
       "      <td>0.259868</td>\n",
       "    </tr>\n",
       "    <tr>\n",
       "      <th>NDCG@5</th>\n",
       "      <td>0.081787</td>\n",
       "      <td>0.082365</td>\n",
       "      <td>0.082365</td>\n",
       "      <td>0.082489</td>\n",
       "      <td>0.082489</td>\n",
       "    </tr>\n",
       "    <tr>\n",
       "      <th>MAP@5</th>\n",
       "      <td>0.150924</td>\n",
       "      <td>0.151986</td>\n",
       "      <td>0.151986</td>\n",
       "      <td>0.152748</td>\n",
       "      <td>0.152748</td>\n",
       "    </tr>\n",
       "  </tbody>\n",
       "</table>\n",
       "</div>"
      ],
      "text/plain": [
       "          best_result  tree_val_ens  tree_val_ens  tree_val_ens  tree_val_ens\n",
       "prec@5       0.075830      0.076659      0.076659      0.076745      0.076745\n",
       "1recal@5     0.253576      0.258295      0.258295      0.259868      0.259868\n",
       "NDCG@5       0.081787      0.082365      0.082365      0.082489      0.082489\n",
       "MAP@5        0.150924      0.151986      0.151986      0.152748      0.152748"
      ]
     },
     "execution_count": 80,
     "metadata": {},
     "output_type": "execute_result"
    }
   ],
   "source": [
    "netflix_ensemble_experiment(slashdot, create_list_cf(slashdot_shape)[1:5], list_ensemble, Ktrain=0.1, Kvalidation=0.1, verbose=0, maxiter=1)"
   ]
  },
  {
   "cell_type": "code",
   "execution_count": 81,
   "metadata": {
    "collapsed": false
   },
   "outputs": [
    {
     "data": {
      "text/html": [
       "<div>\n",
       "<table border=\"1\" class=\"dataframe\">\n",
       "  <thead>\n",
       "    <tr style=\"text-align: right;\">\n",
       "      <th></th>\n",
       "      <th>best_result</th>\n",
       "      <th>tree_val_ens</th>\n",
       "      <th>tree_val_ens</th>\n",
       "      <th>tree_val_ens</th>\n",
       "      <th>tree_val_ens</th>\n",
       "    </tr>\n",
       "  </thead>\n",
       "  <tbody>\n",
       "    <tr>\n",
       "      <th>prec@5</th>\n",
       "      <td>0.099914</td>\n",
       "      <td>0.102860</td>\n",
       "      <td>0.102860</td>\n",
       "      <td>0.102860</td>\n",
       "      <td>0.102860</td>\n",
       "    </tr>\n",
       "    <tr>\n",
       "      <th>1recal@5</th>\n",
       "      <td>0.322368</td>\n",
       "      <td>0.331808</td>\n",
       "      <td>0.331808</td>\n",
       "      <td>0.331808</td>\n",
       "      <td>0.331808</td>\n",
       "    </tr>\n",
       "    <tr>\n",
       "      <th>NDCG@5</th>\n",
       "      <td>0.106621</td>\n",
       "      <td>0.109790</td>\n",
       "      <td>0.109790</td>\n",
       "      <td>0.109790</td>\n",
       "      <td>0.109790</td>\n",
       "    </tr>\n",
       "    <tr>\n",
       "      <th>MAP@5</th>\n",
       "      <td>0.191864</td>\n",
       "      <td>0.198105</td>\n",
       "      <td>0.198105</td>\n",
       "      <td>0.198105</td>\n",
       "      <td>0.198105</td>\n",
       "    </tr>\n",
       "  </tbody>\n",
       "</table>\n",
       "</div>"
      ],
      "text/plain": [
       "          best_result  tree_val_ens  tree_val_ens  tree_val_ens  tree_val_ens\n",
       "prec@5       0.099914      0.102860      0.102860      0.102860      0.102860\n",
       "1recal@5     0.322368      0.331808      0.331808      0.331808      0.331808\n",
       "NDCG@5       0.106621      0.109790      0.109790      0.109790      0.109790\n",
       "MAP@5        0.191864      0.198105      0.198105      0.198105      0.198105"
      ]
     },
     "execution_count": 81,
     "metadata": {},
     "output_type": "execute_result"
    }
   ],
   "source": [
    "netflix_ensemble_experiment(slashdot, create_list_cf(slashdot_shape)[1:5], list_ensemble, Ktrain=0.2, Kvalidation=0.1, verbose=0, maxiter=1)"
   ]
  }
 ],
 "metadata": {
  "kernelspec": {
   "display_name": "Python 3",
   "language": "python",
   "name": "python3"
  },
  "language_info": {
   "codemirror_mode": {
    "name": "ipython",
    "version": 3
   },
   "file_extension": ".py",
   "mimetype": "text/x-python",
   "name": "python",
   "nbconvert_exporter": "python",
   "pygments_lexer": "ipython3",
   "version": "3.4.3"
  }
 },
 "nbformat": 4,
 "nbformat_minor": 0
}
