{
 "cells": [
  {
   "cell_type": "code",
   "execution_count": 122,
   "metadata": {
    "collapsed": false
   },
   "outputs": [],
   "source": [
    "import numpy as np\n",
    "import pandas as pd\n",
    "from scipy.io import loadmat, mmread\n",
    "import sys\n",
    "import itertools "
   ]
  },
  {
   "cell_type": "code",
   "execution_count": 197,
   "metadata": {
    "collapsed": false
   },
   "outputs": [
    {
     "data": {
      "text/plain": [
       "<module 'rankingmeasure' from '/home/george/Documents/diploma/code/rankingmeasure.py'>"
      ]
     },
     "execution_count": 197,
     "metadata": {},
     "output_type": "execute_result"
    }
   ],
   "source": [
    "import rankingmethod\n",
    "import rankingmeasure\n",
    "import imp\n",
    "imp.reload(rankingmethod)\n",
    "imp.reload(rankingmeasure)"
   ]
  },
  {
   "cell_type": "code",
   "execution_count": 49,
   "metadata": {
    "collapsed": true
   },
   "outputs": [],
   "source": [
    "def all_measures(train, test, method, skip_train=False, top=None):\n",
    "    print(\"precision5\", rankingmeasure.get_prec_K(5, train, test, \n",
    "            method, skip_train=skip_train, top=top))\n",
    "    print(\"1-call5\", rankingmeasure.get_prec_K(5, train, test, \n",
    "            method, skip_train=skip_train, top=top))\n",
    "    print(\"MRR\", rankingmeasure.get_MRR(train, test, \n",
    "            method, skip_train=skip_train, top=top))"
   ]
  },
  {
   "cell_type": "code",
   "execution_count": 39,
   "metadata": {
    "collapsed": false
   },
   "outputs": [],
   "source": [
    "def make_valid_data(data, thres=25, reindex=True):\n",
    "    list_good_user = list(np.where(np.bincount(data[:, 0]) > thres)[0])\n",
    "    set_good_user = set(list_good_user)\n",
    "    epinion = []\n",
    "    for i,j in data:\n",
    "        if i in set_good_user:\n",
    "            epinion.append([i, j])\n",
    "    epinion = np.array(epinion)\n",
    "    if reindex:\n",
    "        for new_u, u in enumerate(np.sort(list_good_user)):\n",
    "            epinion[epinion[:, 0] == u, 0] = new_u\n",
    "        print(epinion.shape)\n",
    "        list_good_item = np.unique(epinion[:, 1])\n",
    "        for new_i, i in enumerate(np.sort(list_good_item)):\n",
    "            epinion[epinion[:, 1] == i, 1] = new_i\n",
    "    user_item = np.max(epinion, axis=0) + 1\n",
    "    return epinion, user_item\n",
    "\n",
    "\n",
    "def create_listarray(data):\n",
    "    xlist = []\n",
    "    for u in np.sort(np.unique(data[:, 0])):\n",
    "        xlist.append(data[data[:, 0] == u, 1])\n",
    "    return xlist"
   ]
  },
  {
   "cell_type": "code",
   "execution_count": 149,
   "metadata": {
    "collapsed": true
   },
   "outputs": [],
   "source": [
    "def givenK_train_test(data, K):\n",
    "    xlist = create_listarray(data)\n",
    "    \n",
    "    train = []\n",
    "    test = []\n",
    "    for x in xlist:\n",
    "        train_ind = np.random.choice(x.shape[0], K, replace=False)\n",
    "        tmp = np.ones(x.shape[0])\n",
    "        tmp[train_ind] = 0\n",
    "        test_ind = np.arange(x.shape[0])[tmp == 1]\n",
    "        \n",
    "        train.append(x[train_ind])\n",
    "        test.append(x[test_ind])\n",
    "        \n",
    "    return (train, test, xlist)"
   ]
  },
  {
   "cell_type": "markdown",
   "metadata": {},
   "source": [
    "##Мои данные"
   ]
  },
  {
   "cell_type": "code",
   "execution_count": 196,
   "metadata": {
    "collapsed": false
   },
   "outputs": [],
   "source": [
    "data = pd.read_csv(\"../datasets/soc-Epinions1.txt\", sep='\\t', header=4)\n",
    "data = data.as_matrix()"
   ]
  },
  {
   "cell_type": "code",
   "execution_count": 303,
   "metadata": {
    "collapsed": true
   },
   "outputs": [],
   "source": [
    "#создание epinion удалив от туда пользователей, у которых количество отзывов меньше 25\n",
    "#Также проводится переиндексанция пользователей и предметов"
   ]
  },
  {
   "cell_type": "code",
   "execution_count": null,
   "metadata": {
    "collapsed": true
   },
   "outputs": [],
   "source": [
    "epinion = make_valid_data(data)"
   ]
  },
  {
   "cell_type": "code",
   "execution_count": null,
   "metadata": {
    "collapsed": true
   },
   "outputs": [],
   "source": [
    "train, test, traintest = givenK_train_test(epinion, 5)"
   ]
  },
  {
   "cell_type": "code",
   "execution_count": null,
   "metadata": {
    "collapsed": true
   },
   "outputs": [],
   "source": [
    "poprec = rankingmethod.PopRec(user_item)\n",
    "poprec.fit(train)\n",
    "top = poprec.get_list(0)[:3]\n",
    "all_measures(train, test, poprec, True, top)\n",
    "all_measures(train, test, poprec, True)"
   ]
  },
  {
   "cell_type": "code",
   "execution_count": 345,
   "metadata": {
    "collapsed": false
   },
   "outputs": [
    {
     "name": "stdout",
     "output_type": "stream",
     "text": [
      "10 0.001 0.01\n",
      "0.0068061377633100405\n",
      "10 0.001 0.1\n",
      "0.008031961359121426\n",
      "10 0.001 0.5\n",
      "0.005912269091311202\n",
      "10 0.005 0.01\n",
      "0.007815140434096543\n",
      "10 0.005 0.1\n",
      "0.00652022706541012\n",
      "10 0.005 0.5\n",
      "0.006532552664074765\n",
      "10 0.01 0.01\n",
      "0.007028481810001253\n",
      "10 0.01 0.1\n",
      "0.005199687139427464\n",
      "10 0.01 0.5\n",
      "0.00642130218487009\n",
      "10 0.05 0.01\n",
      "0.007314500601830544\n",
      "10 0.05 0.1\n",
      "0.00563555140338767\n",
      "10 0.05 0.5\n",
      "0.005847528094546522\n",
      "10 0.1 0.01\n",
      "0.008851060117673922\n",
      "10 0.1 0.1\n",
      "0.008597647640724496\n",
      "10 0.1 0.5\n",
      "0.007773293622440457\n",
      "5 0.001 0.01\n",
      "0.008755247464899283\n",
      "5 0.001 0.1\n",
      "0.010599960371667312\n",
      "5 0.001 0.5\n",
      "0.006476902717603026\n",
      "5 0.005 0.01\n",
      "0.010910411353978392\n",
      "5 0.005 0.1\n",
      "0.005833571238977291\n",
      "5 0.005 0.5\n",
      "0.008890794054437025\n",
      "5 0.01 0.01\n",
      "0.015242684443990519\n",
      "5 0.01 0.1\n",
      "0.006276795759708992\n",
      "5 0.01 0.5\n",
      "0.005705023945597651\n",
      "5 0.05 0.01\n",
      "0.022483016113061575\n",
      "5 0.05 0.1\n",
      "0.005442549602997411\n",
      "5 0.05 0.5\n",
      "0.008115720609231233\n",
      "5 0.1 0.01\n",
      "0.019875807579590635\n",
      "5 0.1 0.1\n",
      "0.009115952585898184\n",
      "5 0.1 0.5\n",
      "0.01036981495442007\n",
      "7 0.001 0.01\n",
      "0.007427507381447329\n",
      "7 0.001 0.1\n",
      "0.006712409530131095\n",
      "7 0.001 0.5\n",
      "0.005841594568210488\n",
      "7 0.005 0.01\n",
      "0.008750732881106314\n",
      "7 0.005 0.1\n",
      "0.004645664024140565\n",
      "7 0.005 0.5\n",
      "0.006549209612480792\n",
      "7 0.01 0.01\n",
      "0.008098006672166624\n",
      "7 0.01 0.1\n",
      "0.005679469175664708\n",
      "7 0.01 0.5\n",
      "0.006036138591575874\n",
      "7 0.05 0.01\n",
      "0.01589745172282097\n",
      "7 0.05 0.1\n",
      "0.005550056937874966\n",
      "7 0.05 0.5\n",
      "0.007846277475108871\n",
      "7 0.1 0.01\n",
      "0.010463221267839138\n",
      "7 0.1 0.1\n",
      "0.005493075686058381\n",
      "7 0.1 0.5\n",
      "0.005212813558535681\n",
      "12 0.001 0.01\n",
      "0.007124526677733412\n",
      "12 0.001 0.1\n",
      "0.007793471405163253\n",
      "12 0.001 0.5\n",
      "0.005809110349167554\n",
      "12 0.005 0.01\n",
      "0.006915724635532617\n",
      "12 0.005 0.1\n"
     ]
    },
    {
     "ename": "KeyboardInterrupt",
     "evalue": "",
     "output_type": "error",
     "traceback": [
      "\u001b[1;31m---------------------------------------------------------------------------\u001b[0m",
      "\u001b[1;31mKeyboardInterrupt\u001b[0m                         Traceback (most recent call last)",
      "\u001b[1;32m<ipython-input-345-89cdc8df1767>\u001b[0m in \u001b[0;36m<module>\u001b[1;34m()\u001b[0m\n\u001b[0;32m     10\u001b[0m             \u001b[0mprint\u001b[0m\u001b[1;33m(\u001b[0m\u001b[0mK\u001b[0m\u001b[1;33m,\u001b[0m \u001b[0mlrate\u001b[0m\u001b[1;33m,\u001b[0m \u001b[0mreg\u001b[0m\u001b[1;33m)\u001b[0m\u001b[1;33m\u001b[0m\u001b[0m\n\u001b[0;32m     11\u001b[0m             print(rankingmeasure.get_MRR(train, test, \n\u001b[1;32m---> 12\u001b[1;33m             climf, skip_train=False, top=top))\n\u001b[0m",
      "\u001b[1;32m/home/george/Documents/diploma/code/rankingmeasure.py\u001b[0m in \u001b[0;36mget_MRR\u001b[1;34m(train, test, cls, skip_train, top, skip_local_top)\u001b[0m\n\u001b[0;32m     71\u001b[0m     \u001b[1;32mfor\u001b[0m \u001b[0mu\u001b[0m\u001b[1;33m,\u001b[0m \u001b[1;33m(\u001b[0m\u001b[0mtest_cur\u001b[0m\u001b[1;33m,\u001b[0m \u001b[0mtrain_cur\u001b[0m\u001b[1;33m)\u001b[0m \u001b[1;32min\u001b[0m \u001b[0menumerate\u001b[0m\u001b[1;33m(\u001b[0m\u001b[0mzip\u001b[0m\u001b[1;33m(\u001b[0m\u001b[0mtest\u001b[0m\u001b[1;33m,\u001b[0m \u001b[0mtrain\u001b[0m\u001b[1;33m)\u001b[0m\u001b[1;33m)\u001b[0m\u001b[1;33m:\u001b[0m\u001b[1;33m\u001b[0m\u001b[0m\n\u001b[0;32m     72\u001b[0m         \u001b[0mulist\u001b[0m \u001b[1;33m=\u001b[0m \u001b[0mcls\u001b[0m\u001b[1;33m.\u001b[0m\u001b[0mget_list\u001b[0m\u001b[1;33m(\u001b[0m\u001b[0mu\u001b[0m\u001b[1;33m)\u001b[0m\u001b[1;33m\u001b[0m\u001b[0m\n\u001b[1;32m---> 73\u001b[1;33m         \u001b[0mlocres\u001b[0m \u001b[1;33m=\u001b[0m \u001b[0mget_RR\u001b[0m\u001b[1;33m(\u001b[0m\u001b[0mtrain_cur\u001b[0m\u001b[1;33m,\u001b[0m \u001b[0mtest_cur\u001b[0m\u001b[1;33m,\u001b[0m \u001b[0mulist\u001b[0m\u001b[1;33m,\u001b[0m \u001b[0mskip_train\u001b[0m\u001b[1;33m,\u001b[0m \u001b[0mtop\u001b[0m\u001b[1;33m,\u001b[0m \u001b[0mskip_local_top\u001b[0m\u001b[1;33m)\u001b[0m\u001b[1;33m\u001b[0m\u001b[0m\n\u001b[0m\u001b[0;32m     74\u001b[0m         \u001b[0mres\u001b[0m \u001b[1;33m+=\u001b[0m \u001b[0mlocres\u001b[0m\u001b[1;33m\u001b[0m\u001b[0m\n\u001b[0;32m     75\u001b[0m     \u001b[0mres\u001b[0m \u001b[1;33m/=\u001b[0m \u001b[0mlen\u001b[0m\u001b[1;33m(\u001b[0m\u001b[0mtest\u001b[0m\u001b[1;33m)\u001b[0m\u001b[1;33m\u001b[0m\u001b[0m\n",
      "\u001b[1;32m/home/george/Documents/diploma/code/rankingmeasure.py\u001b[0m in \u001b[0;36mget_RR\u001b[1;34m(train, test, ulist, skip_train, top, skip_local_top)\u001b[0m\n\u001b[0;32m     60\u001b[0m         \u001b[1;32mif\u001b[0m \u001b[0mtop\u001b[0m \u001b[1;32mis\u001b[0m \u001b[1;32mnot\u001b[0m \u001b[1;32mNone\u001b[0m \u001b[1;32mand\u001b[0m \u001b[0mitem\u001b[0m \u001b[1;32min\u001b[0m \u001b[0mtop\u001b[0m\u001b[1;33m:\u001b[0m\u001b[1;33m\u001b[0m\u001b[0m\n\u001b[0;32m     61\u001b[0m             \u001b[1;32mcontinue\u001b[0m\u001b[1;33m\u001b[0m\u001b[0m\n\u001b[1;32m---> 62\u001b[1;33m         \u001b[1;32mif\u001b[0m \u001b[0mitem\u001b[0m \u001b[1;32min\u001b[0m \u001b[0mtest\u001b[0m\u001b[1;33m:\u001b[0m\u001b[1;33m\u001b[0m\u001b[0m\n\u001b[0m\u001b[0;32m     63\u001b[0m             \u001b[1;32mreturn\u001b[0m \u001b[1;36m1\u001b[0m \u001b[1;33m/\u001b[0m \u001b[1;33m(\u001b[0m\u001b[0mrank\u001b[0m \u001b[1;33m+\u001b[0m \u001b[1;36m1\u001b[0m\u001b[1;33m)\u001b[0m\u001b[1;33m\u001b[0m\u001b[0m\n\u001b[0;32m     64\u001b[0m         \u001b[1;32mif\u001b[0m \u001b[1;32mnot\u001b[0m \u001b[0mskip_train\u001b[0m \u001b[1;32mand\u001b[0m \u001b[0mitem\u001b[0m \u001b[1;32min\u001b[0m \u001b[0mtrain\u001b[0m\u001b[1;33m:\u001b[0m\u001b[1;33m\u001b[0m\u001b[0m\n",
      "\u001b[1;31mKeyboardInterrupt\u001b[0m: "
     ]
    }
   ],
   "source": [
    "list_reg = [0.01, 0.1 ,0.5]\n",
    "list_lrate = [0.001, 0.005, 0.01, 0.05, 0.1 ]\n",
    "list_K = [10, 5, 7, 12, 15]\n",
    "\n",
    "for K in list_K:\n",
    "    for lrate in list_lrate:\n",
    "        for reg in list_reg:\n",
    "            climf = rankingmethod.CLiMF(user_item,K=K, reg=reg, lrate=lrate, verbose=0, maxiter=100)\n",
    "            climf.fit(train)\n",
    "            print(K, lrate, reg)\n",
    "            print(rankingmeasure.get_MRR(train, test, \n",
    "            climf, skip_train=False, top=top))"
   ]
  },
  {
   "cell_type": "markdown",
   "metadata": {},
   "source": [
    "##Данные создателей CLiMF"
   ]
  },
  {
   "cell_type": "code",
   "execution_count": 54,
   "metadata": {
    "collapsed": false
   },
   "outputs": [],
   "source": [
    "tmp = mmread(\"../datasets/epinions_original/EP25_UPL5_test.mtx\")\n",
    "test = np.array(list(zip(tmp.row, tmp.col)))\n",
    "tmp = mmread(\"../datasets/epinions_original/EP25_UPL5_train.mtx\")\n",
    "train = np.array(list(zip(tmp.row, tmp.col)))\n",
    "user_item = [max(np.max(test[:,0]), np.max(train[:, 0])) + 1, max(np.max(test[:,1]), np.max(train[:,1])) + 1]"
   ]
  },
  {
   "cell_type": "code",
   "execution_count": 55,
   "metadata": {
    "collapsed": false
   },
   "outputs": [],
   "source": [
    "train = create_listarray(train)\n",
    "test  = create_listarray(test)"
   ]
  },
  {
   "cell_type": "code",
   "execution_count": 77,
   "metadata": {
    "collapsed": false
   },
   "outputs": [
    {
     "name": "stdout",
     "output_type": "stream",
     "text": [
      "precision5 0.00148367952522\n",
      "1-call5 0.00135650699449\n",
      "MRR 0.009444793407610922\n"
     ]
    }
   ],
   "source": [
    "randomrec = rankingmethod.RandomRec(user_item)\n",
    "randomrec.fit(train)\n",
    "all_measures(train, test, randomrec, False)"
   ]
  },
  {
   "cell_type": "code",
   "execution_count": 51,
   "metadata": {
    "collapsed": false
   },
   "outputs": [
    {
     "name": "stdout",
     "output_type": "stream",
     "text": [
      "precision5 0.0538787621874\n",
      "1-call5 0.0538787621874\n",
      "MRR 0.11273876816174451\n",
      "precision5 0.171131835524\n",
      "1-call5 0.171131835524\n",
      "MRR 0.4020232337666698\n"
     ]
    }
   ],
   "source": [
    "poprec = rankingmethod.PopRec(user_item)\n",
    "poprec.fit(train)\n",
    "top = poprec.get_list(0)[:3]\n",
    "all_measures(train, test, poprec, True, top)\n",
    "all_measures(train, test, poprec, True)"
   ]
  },
  {
   "cell_type": "code",
   "execution_count": null,
   "metadata": {
    "collapsed": false
   },
   "outputs": [],
   "source": [
    "climf = rankingmethod.CLiMF(user_item, maxiter=40, lrate = 0.1, verbose=2)\n",
    "climf.fit(train)\n"
   ]
  },
  {
   "cell_type": "code",
   "execution_count": 106,
   "metadata": {
    "collapsed": false
   },
   "outputs": [
    {
     "name": "stdout",
     "output_type": "stream",
     "text": [
      "precision5 0.0635438745231\n",
      "1-call5 0.0635438745231\n",
      "MRR 0.16061628627384766\n"
     ]
    }
   ],
   "source": [
    "all_measures(train, test, climf, False)"
   ]
  },
  {
   "cell_type": "code",
   "execution_count": 113,
   "metadata": {
    "collapsed": false
   },
   "outputs": [
    {
     "name": "stdout",
     "output_type": "stream",
     "text": [
      "precision5 0.0412038999576\n",
      "1-call5 0.0412038999576\n",
      "MRR 0.11461895836301948\n"
     ]
    }
   ],
   "source": [
    "all_measures(train, test, climf, True, top)"
   ]
  },
  {
   "cell_type": "code",
   "execution_count": 123,
   "metadata": {
    "collapsed": false
   },
   "outputs": [
    {
     "name": "stdout",
     "output_type": "stream",
     "text": [
      "K 10 lrate 0.05 reg 0.001 MRR 0.16740641961680544\n",
      "K 10 lrate 0.05 reg 0.002 MRR 0.1632928986028329\n",
      "K 10 lrate 0.05 reg 0.005 MRR 0.1527730041694714\n",
      "K 10 lrate 0.05 reg 0.0005 MRR 0.1622970666170243\n",
      "K 10 lrate 0.07 reg 0.001 MRR 0.1617021688446262\n",
      "K 10 lrate 0.07 reg 0.002 MRR 0.15214149672638577\n",
      "K 10 lrate 0.07 reg 0.005 MRR 0.1428759872783604\n",
      "K 10 lrate 0.07 reg 0.0005 MRR 0.1558988328476956\n",
      "K 10 lrate 0.1 reg 0.001 MRR 0.1609389294595767\n",
      "K 10 lrate 0.1 reg 0.002 MRR 0.14313962174434888\n",
      "K 10 lrate 0.1 reg 0.005 MRR 0.12702524191410772\n",
      "K 10 lrate 0.1 reg 0.0005 MRR 0.1433087707886965\n",
      "K 10 lrate 0.12 reg 0.001 MRR 0.14271491223696034\n",
      "K 10 lrate 0.12 reg 0.002 MRR 0.13561491669555753\n",
      "K 10 lrate 0.12 reg 0.005 MRR 0.12988356090059913\n",
      "K 10 lrate 0.12 reg 0.0005 MRR 0.13972362078679446\n",
      "K 10 lrate 0.15 reg 0.001 MRR 0.06756475308278055\n",
      "K 10 lrate 0.15 reg 0.002 MRR 0.06772883536587512\n",
      "K 10 lrate 0.15 reg 0.005 MRR 0.06770193334254045\n",
      "K 10 lrate 0.15 reg 0.0005 MRR 0.06781537216288246\n",
      "K 12 lrate 0.05 reg 0.001 MRR 0.17359408509749885\n",
      "K 12 lrate 0.05 reg 0.002 MRR 0.16832888978843838\n",
      "K 12 lrate 0.05 reg 0.005 MRR 0.15508551782541172\n",
      "K 12 lrate 0.05 reg 0.0005 MRR 0.18217116866330996\n",
      "K 12 lrate 0.07 reg 0.001 MRR 0.16124426488614538\n",
      "K 12 lrate 0.07 reg 0.002 MRR 0.15798329993966312\n",
      "K 12 lrate 0.07 reg 0.005 MRR 0.15145498646707134\n",
      "K 12 lrate 0.07 reg 0.0005 MRR 0.1721777259709307\n",
      "K 12 lrate 0.1 reg 0.001 MRR 0.15630780312704992\n",
      "K 12 lrate 0.1 reg 0.002 MRR 0.1498448592944102\n",
      "K 12 lrate 0.1 reg 0.005 MRR 0.1363977892075167\n",
      "K 12 lrate 0.1 reg 0.0005 MRR 0.1681547577846287\n",
      "K 12 lrate 0.12 reg 0.001 MRR 0.1538380995795612\n",
      "K 12 lrate 0.12 reg 0.002 MRR 0.14623797924439733\n",
      "K 12 lrate 0.12 reg 0.005 MRR 0.12989082857635148\n",
      "K 12 lrate 0.12 reg 0.0005 MRR 0.16490154813978786\n",
      "K 12 lrate 0.15 reg 0.001 MRR 0.0688185466452854\n",
      "K 12 lrate 0.15 reg 0.002 MRR 0.0678025309908699\n",
      "K 12 lrate 0.15 reg 0.005 MRR 0.06779981889383194\n",
      "K 12 lrate 0.15 reg 0.0005 MRR 0.0675383500704725\n",
      "K 15 lrate 0.05 reg 0.001 MRR 0.1756147945292528\n",
      "K 15 lrate 0.05 reg 0.002 MRR 0.16981016353820325\n",
      "K 15 lrate 0.05 reg 0.005 MRR 0.15897352980090693\n",
      "K 15 lrate 0.05 reg 0.0005 MRR 0.17778086210785304\n",
      "K 15 lrate 0.07 reg 0.001 MRR 0.16814453121838188\n",
      "K 15 lrate 0.07 reg 0.002 MRR 0.16072038335391572\n",
      "K 15 lrate 0.07 reg 0.005 MRR 0.1511941587627633\n",
      "K 15 lrate 0.07 reg 0.0005 MRR 0.17916939462412804\n",
      "K 15 lrate 0.1 reg 0.001 MRR 0.16909107463985107\n",
      "K 15 lrate 0.1 reg 0.002 MRR 0.15703959029272307\n",
      "K 15 lrate 0.1 reg 0.005 MRR 0.1444638161689756\n",
      "K 15 lrate 0.1 reg 0.0005 MRR 0.17625797342763258\n",
      "K 15 lrate 0.12 reg 0.001 MRR 0.16803714598972883\n",
      "K 15 lrate 0.12 reg 0.002 MRR 0.14963499845032557\n",
      "K 15 lrate 0.12 reg 0.005 MRR 0.14723723776632056\n",
      "K 15 lrate 0.12 reg 0.0005 MRR 0.1666077637896186\n",
      "K 15 lrate 0.15 reg 0.001 MRR 0.06849772072038998\n",
      "K 15 lrate 0.15 reg 0.002 MRR 0.06882614192630167\n",
      "K 15 lrate 0.15 reg 0.005 MRR 0.06859610686159089\n",
      "K 15 lrate 0.15 reg 0.0005 MRR 0.06801743565447542\n",
      "K 7 lrate 0.05 reg 0.001 MRR 0.15361899043680619\n",
      "K 7 lrate 0.05 reg 0.002 MRR 0.14289183519141083\n",
      "K 7 lrate 0.05 reg 0.005 MRR 0.1475035276053247\n",
      "K 7 lrate 0.05 reg 0.0005 MRR 0.14729426296045148\n",
      "K 7 lrate 0.07 reg 0.001 MRR 0.1394362302736151\n",
      "K 7 lrate 0.07 reg 0.002 MRR 0.14351635436699606\n",
      "K 7 lrate 0.07 reg 0.005 MRR 0.13779653027293712\n",
      "K 7 lrate 0.07 reg 0.0005 MRR 0.14196022699765354\n",
      "K 7 lrate 0.1 reg 0.001 MRR 0.14072930389796942\n",
      "K 7 lrate 0.1 reg 0.002 MRR 0.12324379350933046\n",
      "K 7 lrate 0.1 reg 0.005 MRR 0.10785008515225493\n",
      "K 7 lrate 0.1 reg 0.0005 MRR 0.12371395214777585\n",
      "K 7 lrate 0.12 reg 0.001 MRR 0.1374606503814382\n",
      "K 7 lrate 0.12 reg 0.002 MRR 0.12340576933332231\n",
      "K 7 lrate 0.12 reg 0.005 MRR 0.1144877484461847\n",
      "K 7 lrate 0.12 reg 0.0005 MRR 0.12778612062742714\n",
      "K 7 lrate 0.15 reg 0.001 MRR 0.06751454735256956\n",
      "K 7 lrate 0.15 reg 0.002 MRR 0.06764745560387359\n",
      "K 7 lrate 0.15 reg 0.005 MRR 0.06757512048846949\n",
      "K 7 lrate 0.15 reg 0.0005 MRR 0.06747762108540349\n",
      "K 5 lrate 0.05 reg 0.001 MRR 0.1343296614605431\n",
      "K 5 lrate 0.05 reg 0.002 MRR 0.1412964854177464\n",
      "K 5 lrate 0.05 reg 0.005 MRR 0.123409086429118\n",
      "K 5 lrate 0.05 reg 0.0005 MRR 0.13589820145149498\n",
      "K 5 lrate 0.07 reg 0.001 MRR 0.13809514208641754\n",
      "K 5 lrate 0.07 reg 0.002 MRR 0.11907967064418423\n",
      "K 5 lrate 0.07 reg 0.005 MRR 0.12896532018470977\n",
      "K 5 lrate 0.07 reg 0.0005 MRR 0.12497187749523497\n",
      "K 5 lrate 0.1 reg 0.001 MRR 0.11406458463592206\n",
      "K 5 lrate 0.1 reg 0.002 MRR 0.11600526579040467\n",
      "K 5 lrate 0.1 reg 0.005 MRR 0.09744792213844998\n",
      "K 5 lrate 0.1 reg 0.0005 MRR 0.10446033306468898\n",
      "K 5 lrate 0.12 reg 0.001 MRR 0.10975621953607628\n",
      "K 5 lrate 0.12 reg 0.002 MRR 0.1172721662016483\n",
      "K 5 lrate 0.12 reg 0.005 MRR 0.09934719787017159\n",
      "K 5 lrate 0.12 reg 0.0005 MRR 0.12799467081493435\n",
      "K 5 lrate 0.15 reg 0.001 MRR 0.06763189535163194\n",
      "K 5 lrate 0.15 reg 0.002 MRR 0.06758038038715906\n",
      "K 5 lrate 0.15 reg 0.005 MRR 0.06762525916303737\n",
      "K 5 lrate 0.15 reg 0.0005 MRR 0.06749425215841505\n"
     ]
    }
   ],
   "source": [
    "list_reg = [0.001, 0.002, 0.005, 0.0005]\n",
    "list_lrate = [0.05, 0.07, 0.1, 0.12, 0.15 ]\n",
    "list_K = [10, 12, 15, 7, 5]\n",
    "times_count = 3\n",
    "\n",
    "for K, lrate, reg in itertools.product(list_K, list_lrate, list_reg):\n",
    "    MRR = 0\n",
    "    \n",
    "    for t in range(times_count):\n",
    "        climf = rankingmethod.CLiMF(user_item,K=K, reg=reg, lrate=lrate, verbose=0, maxiter=50)\n",
    "        climf.fit(train)\n",
    "        MRR += rankingmeasure.get_MRR(train, test, climf, skip_train=False)\n",
    "    print(\"K\", K, \"lrate\", lrate, \"reg\", reg, \"MRR\", MRR/times_count)\n",
    "    sys.stdout.flush()"
   ]
  },
  {
   "cell_type": "code",
   "execution_count": 131,
   "metadata": {
    "collapsed": false
   },
   "outputs": [
    {
     "data": {
      "text/plain": [
       "array([1, 1, 1, 5, 1])"
      ]
     },
     "execution_count": 131,
     "metadata": {},
     "output_type": "execute_result"
    }
   ],
   "source": [
    "np.random.choice([0,2,5,1], 5)"
   ]
  },
  {
   "cell_type": "code",
   "execution_count": 280,
   "metadata": {
    "collapsed": false
   },
   "outputs": [],
   "source": [
    "bpr_mf = rankingmethod.BPR_MF(user_item, K = 20, lrate=0.001, regIpos=0.1, \n",
    "                              regIneg=0.1, regU=0.1, maxiter=10, verbose=3 )"
   ]
  },
  {
   "cell_type": "code",
   "execution_count": 279,
   "metadata": {
    "collapsed": false
   },
   "outputs": [
    {
     "data": {
      "text/plain": [
       "<module 'rankingmeasure' from '/home/george/Documents/diploma/code/rankingmeasure.py'>"
      ]
     },
     "execution_count": 279,
     "metadata": {},
     "output_type": "execute_result"
    }
   ],
   "source": [
    "import rankingmethod\n",
    "import rankingmeasure\n",
    "import imp\n",
    "imp.reload(rankingmethod)\n",
    "imp.reload(rankingmeasure)"
   ]
  },
  {
   "cell_type": "code",
   "execution_count": 278,
   "metadata": {
    "collapsed": false
   },
   "outputs": [
    {
     "data": {
      "text/plain": [
       "5234"
      ]
     },
     "execution_count": 278,
     "metadata": {},
     "output_type": "execute_result"
    }
   ],
   "source": [
    "random.choice(np.array([1, 2, 4, 5234, 1]))"
   ]
  },
  {
   "cell_type": "code",
   "execution_count": 258,
   "metadata": {
    "collapsed": false
   },
   "outputs": [
    {
     "name": "stdout",
     "output_type": "stream",
     "text": [
      "23590\n",
      "<class 'numpy.ndarray'> <class 'numpy.ndarray'> <class 'int'>\n",
      "[[ 0.01394466  0.05252042  0.06346805  0.05412942  0.06440757  0.05854368\n",
      "   0.01151907  0.00469982  0.03394135  0.09979507  0.02939081  0.00785782\n",
      "   0.09233927  0.00722193  0.00832375  0.00900277  0.04647272  0.05679726\n",
      "   0.09599775  0.042029  ]] <class 'numpy.ndarray'>\n",
      "[[ 0.01041565  0.08999106  0.05318125  0.03954916  0.0563052   0.00531645\n",
      "   0.03422625  0.05317337  0.03014774  0.08123811  0.07037154  0.00065046\n",
      "   0.06983113  0.01572561  0.07067846  0.02439877  0.0472366   0.03246325\n",
      "   0.04884406  0.00870717]] <class 'numpy.ndarray'>\n",
      "[ 0.09291668  0.02429352  0.02731799  0.05265685  0.01890156  0.01282934\n",
      "  0.03175827  0.07517802  0.0459524   0.06716854  0.0778874   0.09125913\n",
      "  0.09872893  0.07120572  0.04984937  0.02247315  0.07500873  0.07636591\n",
      "  0.00896483  0.0238435 ] <class 'numpy.ndarray'>\n",
      "(1, 20) (1, 20) (20,)\n",
      "wtf?\n"
     ]
    }
   ],
   "source": [
    "bpr_mf.fit(train)"
   ]
  }
 ],
 "metadata": {
  "kernelspec": {
   "display_name": "Python 3",
   "language": "python",
   "name": "python3"
  },
  "language_info": {
   "codemirror_mode": {
    "name": "ipython",
    "version": 3
   },
   "file_extension": ".py",
   "mimetype": "text/x-python",
   "name": "python",
   "nbconvert_exporter": "python",
   "pygments_lexer": "ipython3",
   "version": "3.4.3"
  }
 },
 "nbformat": 4,
 "nbformat_minor": 0
}
