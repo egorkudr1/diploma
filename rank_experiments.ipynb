{
 "cells": [
  {
   "cell_type": "code",
   "execution_count": 1,
   "metadata": {
    "collapsed": false
   },
   "outputs": [
    {
     "name": "stderr",
     "output_type": "stream",
     "text": [
      "/usr/local/lib/python3.4/dist-packages/matplotlib/backends/backend_gtk3agg.py:18: UserWarning: The Gtk3Agg backend is known to not work on Python 3.x with pycairo. Try installing cairocffi.\n",
      "  \"The Gtk3Agg backend is known to not work on Python 3.x with pycairo. \"\n"
     ]
    }
   ],
   "source": [
    "import numpy as np\n",
    "import pandas as pd\n",
    "from scipy.io import loadmat, mmread\n",
    "import sys\n",
    "import itertools \n",
    "import pickle\n",
    "import matplotlib.pylab as plt\n",
    "import time"
   ]
  },
  {
   "cell_type": "code",
   "execution_count": 2,
   "metadata": {
    "collapsed": true
   },
   "outputs": [],
   "source": [
    "%matplotlib inline"
   ]
  },
  {
   "cell_type": "code",
   "execution_count": 3,
   "metadata": {
    "collapsed": false
   },
   "outputs": [],
   "source": [
    "import rankingmethod\n",
    "import rankingmeasure"
   ]
  },
  {
   "cell_type": "code",
   "execution_count": 4,
   "metadata": {
    "collapsed": false
   },
   "outputs": [],
   "source": [
    "%load_ext autoreload\n",
    "%autoreload 2"
   ]
  },
  {
   "cell_type": "code",
   "execution_count": 5,
   "metadata": {
    "collapsed": true
   },
   "outputs": [],
   "source": [
    "from experiment import *"
   ]
  },
  {
   "cell_type": "markdown",
   "metadata": {},
   "source": [
    "# Epinion"
   ]
  },
  {
   "cell_type": "code",
   "execution_count": 6,
   "metadata": {
    "collapsed": false
   },
   "outputs": [],
   "source": [
    "data = pd.read_csv(\"../datasets/soc-Epinions1.txt\", sep='\\t', header=4)\n",
    "data = data.as_matrix()"
   ]
  },
  {
   "cell_type": "code",
   "execution_count": 167,
   "metadata": {
    "collapsed": false
   },
   "outputs": [
    {
     "data": {
      "text/plain": [
       "(508836, 2)"
      ]
     },
     "execution_count": 167,
     "metadata": {},
     "output_type": "execute_result"
    }
   ],
   "source": [
    "data.shape"
   ]
  },
  {
   "cell_type": "code",
   "execution_count": null,
   "metadata": {
    "collapsed": true
   },
   "outputs": [],
   "source": [
    "#создание epinion удалив от туда пользователей, у которых количество отзывов меньше 25\n",
    "#Также проводится переиндексанция пользователей и предметов"
   ]
  },
  {
   "cell_type": "code",
   "execution_count": 7,
   "metadata": {
    "collapsed": false
   },
   "outputs": [],
   "source": [
    "epinion, user_item = make_valid_data(data)"
   ]
  },
  {
   "cell_type": "code",
   "execution_count": 8,
   "metadata": {
    "collapsed": false
   },
   "outputs": [],
   "source": [
    "train, test, traintest = givenK_train_test(epinion, 10)"
   ]
  },
  {
   "cell_type": "markdown",
   "metadata": {},
   "source": [
    "### изучение числа предметов у пользователей"
   ]
  },
  {
   "cell_type": "code",
   "execution_count": null,
   "metadata": {
    "collapsed": false
   },
   "outputs": [],
   "source": [
    "avr_len = 0\n",
    "max_len = 0\n",
    "for items in traintest:\n",
    "    avr_len += len(items)\n",
    "    max_len = max(len(items), max_len)\n",
    "avr_len /= len(traintest)\n",
    "print(avr_len)\n",
    "print(max_len)"
   ]
  },
  {
   "cell_type": "code",
   "execution_count": null,
   "metadata": {
    "collapsed": false
   },
   "outputs": [],
   "source": [
    "list_len = []\n",
    "for items in traintest:\n",
    "    list_len.append(len(items))\n",
    "list_len = np.array(list_len)"
   ]
  },
  {
   "cell_type": "code",
   "execution_count": null,
   "metadata": {
    "collapsed": false
   },
   "outputs": [],
   "source": [
    "np.sum(list_len > 1200)"
   ]
  },
  {
   "cell_type": "code",
   "execution_count": null,
   "metadata": {
    "collapsed": false
   },
   "outputs": [],
   "source": [
    "plt.hist(list_len, bins = 30)"
   ]
  },
  {
   "cell_type": "code",
   "execution_count": null,
   "metadata": {
    "collapsed": true
   },
   "outputs": [],
   "source": [
    "number_user_in_items = np.bincount(epinion[:, 1])"
   ]
  },
  {
   "cell_type": "code",
   "execution_count": null,
   "metadata": {
    "collapsed": false
   },
   "outputs": [],
   "source": [
    "plt.hist(np.bincount(epinion[:, 1]))"
   ]
  },
  {
   "cell_type": "markdown",
   "metadata": {},
   "source": [
    "### подбор параметров для отдельных алгоритмов"
   ]
  },
  {
   "cell_type": "code",
   "execution_count": 201,
   "metadata": {
    "collapsed": false
   },
   "outputs": [
    {
     "name": "stdout",
     "output_type": "stream",
     "text": [
      "precK 0.0588422247446\n",
      "1-call5 0.2551645856980704\n",
      "MRR 0.115938619802\n",
      "AUC 0.855322486831\n",
      "NGDC 0.0407311022239\n",
      "MAP 0.061123723042\n"
     ]
    }
   ],
   "source": [
    "poprec = rankingmethod.PopRec(user_item)\n",
    "poprec.fit(train)\n",
    "top = poprec.get_list(0)[:3]\n",
    "# all_measures(train, test, poprec, True, top)\n",
    "all_measures(train, test, poprec, True, top)"
   ]
  },
  {
   "cell_type": "code",
   "execution_count": 13,
   "metadata": {
    "collapsed": false
   },
   "outputs": [
    {
     "data": {
      "text/plain": [
       "array([ 0.19514188,  0.56821793,  0.22118543,  0.3911026 ])"
      ]
     },
     "execution_count": 13,
     "metadata": {},
     "output_type": "execute_result"
    }
   ],
   "source": [
    "rankingmeasure.get_Kmetrics(train, test, poprec, True)"
   ]
  },
  {
   "cell_type": "markdown",
   "metadata": {
    "collapsed": true
   },
   "source": [
    "### CLimf подбор параметров(не используя фичу авторов)"
   ]
  },
  {
   "cell_type": "code",
   "execution_count": 172,
   "metadata": {
    "collapsed": false,
    "scrolled": true
   },
   "outputs": [
    {
     "name": "stdout",
     "output_type": "stream",
     "text": [
      "10 0.0001 0.001 MRR 0.0140092330327\n",
      "10 0.0001 0.012 MRR 0.0135188809706\n",
      "10 0.0001 0.023 MRR 0.0110846816628\n",
      "10 0.0001 0.034 MRR 0.0107559991743\n",
      "10 0.0001 0.045 MRR 0.0125016096778\n",
      "10 0.0001 0.056 MRR 0.0097490062225\n",
      "10 0.0001 0.067 MRR 0.0196155666342\n",
      "10 0.0001 0.078 MRR 0.0125674632419\n",
      "10 0.0001 0.089 MRR 0.0148026707129\n",
      "10 0.0001 0.1 MRR 0.0181875428327\n",
      "10 0.0112 0.001 MRR 0.462160532413\n",
      "10 0.0112 0.012 MRR 0.461658760365\n",
      "10 0.0112 0.023 MRR 0.461436809265\n",
      "10 0.0112 0.034 MRR 0.462120210144\n",
      "10 0.0112 0.045 MRR 0.463179954148\n",
      "10 0.0112 0.056 MRR 0.461855850935\n",
      "10 0.0112 0.067 MRR 0.462665606148\n",
      "10 0.0112 0.078 MRR 0.4616666994\n",
      "10 0.0112 0.089 MRR 0.462509172004\n",
      "10 0.0112 0.1 MRR 0.462446767785\n",
      "10 0.0223 0.001 MRR 0.461498578823\n",
      "10 0.0223 0.012 MRR 0.461793807862\n",
      "10 0.0223 0.023 MRR 0.461345678599\n",
      "10 0.0223 0.034 MRR 0.462987051736\n",
      "10 0.0223 0.045 MRR 0.462801668006\n",
      "10 0.0223 0.056 MRR 0.461848960198\n",
      "10 0.0223 0.067 MRR 0.461870205979\n",
      "10 0.0223 0.078 MRR 0.462608347186\n",
      "10 0.0223 0.089 MRR 0.462888245116\n",
      "10 0.0223 0.1 MRR 0.462704313586\n",
      "10 0.0334 0.001 MRR 0.462477561754\n",
      "10 0.0334 0.012 MRR 0.461432616276\n",
      "10 0.0334 0.023 MRR 0.462227156628\n",
      "10 0.0334 0.034 MRR 0.462787736672\n",
      "10 0.0334 0.045 MRR 0.46294341033\n",
      "10 0.0334 0.056 MRR 0.463088521087\n",
      "10 0.0334 0.067 MRR 0.463578364493\n",
      "10 0.0334 0.078 MRR 0.46302349618\n",
      "10 0.0334 0.089 MRR 0.462248758287\n",
      "10 0.0334 0.1 MRR 0.462174005745\n",
      "10 0.0445 0.001 MRR 0.220278847575\n",
      "10 0.0445 0.012 MRR 0.222354687118\n",
      "10 0.0445 0.023 MRR 0.231743190732\n",
      "10 0.0445 0.034 MRR 0.254054972243\n",
      "10 0.0445 0.045 MRR 0.287521616373\n",
      "10 0.0445 0.056 MRR 0.292772212796\n",
      "10 0.0445 0.067 MRR 0.309174831092\n",
      "10 0.0445 0.078 MRR 0.312684531409\n",
      "10 0.0445 0.089 MRR 0.314881325417\n",
      "10 0.0445 0.1 MRR 0.317467776406\n",
      "10 0.0556 0.001 MRR 0.0950320162953\n",
      "10 0.0556 0.012 MRR 0.0964677847876\n",
      "10 0.0556 0.023 MRR 0.106325034048\n",
      "10 0.0556 0.034 MRR 0.108733910747\n",
      "10 0.0556 0.045 MRR 0.120841562223\n",
      "10 0.0556 0.056 MRR 0.133440365848\n",
      "10 0.0556 0.067 MRR 0.165855381242\n",
      "10 0.0556 0.078 MRR 0.171052942528\n",
      "10 0.0556 0.089 MRR 0.176113264663\n",
      "10 0.0556 0.1 MRR 0.181045893702\n",
      "10 0.0667 0.001 MRR 0.0868259528926\n",
      "10 0.0667 0.012 MRR 0.0875809385847\n",
      "10 0.0667 0.023 MRR 0.0860794639547\n",
      "10 0.0667 0.034 MRR 0.0856723081573\n",
      "10 0.0667 0.045 MRR 0.0868119798604\n",
      "10 0.0667 0.056 MRR 0.0898546383924\n",
      "10 0.0667 0.067 MRR 0.0901135426344\n",
      "10 0.0667 0.078 MRR 0.091015656647\n",
      "10 0.0667 0.089 MRR 0.0919884256029\n",
      "10 0.0667 0.1 MRR 0.0929812376973\n",
      "10 0.0778 0.001 MRR 0.0849689574195\n",
      "10 0.0778 0.012 MRR 0.0845536680219\n",
      "10 0.0778 0.023 MRR 0.0850530300929\n",
      "10 0.0778 0.034 MRR 0.0836937339349\n",
      "10 0.0778 0.045 MRR 0.0826447808646\n",
      "10 0.0778 0.056 MRR 0.0833094494896\n",
      "10 0.0778 0.067 MRR 0.083774319086\n",
      "10 0.0778 0.078 MRR 0.0843326205408\n",
      "10 0.0778 0.089 MRR 0.0851418309827\n",
      "10 0.0778 0.1 MRR 0.0856539967972\n",
      "10 0.0889 0.001 MRR 0.0636947078537\n",
      "10 0.0889 0.012 MRR 0.0628573060503\n",
      "10 0.0889 0.023 MRR 0.0602312451095\n",
      "10 0.0889 0.034 MRR 0.0580200153104\n",
      "10 0.0889 0.045 MRR 0.05733025475\n",
      "10 0.0889 0.056 MRR 0.0485730702775\n",
      "10 0.0889 0.067 MRR 0.0486901037433\n",
      "10 0.0889 0.078 MRR 0.0572524716473\n",
      "10 0.0889 0.089 MRR 0.0705909781212\n",
      "10 0.0889 0.1 MRR 0.0727904587473\n",
      "10 0.1 0.001 MRR 0.0626965652849\n",
      "10 0.1 0.012 MRR 0.0658179902213\n",
      "10 0.1 0.023 MRR 0.0353046069316\n",
      "10 0.1 0.034 MRR 0.0285742848785\n",
      "10 0.1 0.045 MRR 0.0323183566345\n",
      "10 0.1 0.056 MRR 0.0366427058824\n",
      "10 0.1 0.067 MRR 0.0372473878043\n",
      "10 0.1 0.078 MRR 0.0401830880566\n",
      "10 0.1 0.089 MRR 0.0486606158137\n",
      "10 0.1 0.1 MRR 0.0539526399031\n"
     ]
    }
   ],
   "source": [
    "list_reg = np.linspace(0.001, 0.1, 10)#[0.001, 0.005, 0.01, 0.005 , 0.001] \n",
    "list_lrate = np.linspace(0.0001, 0.1, 10)#[0.01, 0.0001, 0.005, 0.01, 0.05, 0.1 ]\n",
    "\n",
    "list_K = [10]\n",
    "\n",
    "climf_validation = np.zeros((len(list_K), len(list_lrate), len(list_reg)))\n",
    "\n",
    "for i, K in enumerate(list_K):\n",
    "    for j, lrate in enumerate(list_lrate):\n",
    "        for m, reg in enumerate(list_reg):\n",
    "            climf = rankingmethod.CLiMF(user_item,K=K, reg=reg, lrate=lrate, verbose=0, maxiter=10)\n",
    "            climf.fit(train)\n",
    "            mrr = rankingmeasure.get_MRR(train, test, climf, skip_train=False)\n",
    "            climf_validation[i,j,m] = mrr\n",
    "            print(K, lrate, reg, \"MRR\", mrr)\n",
    "            sys.stdout.flush()"
   ]
  },
  {
   "cell_type": "code",
   "execution_count": 183,
   "metadata": {
    "collapsed": false
   },
   "outputs": [],
   "source": [
    "index = np.unravel_index(np.argmax(climf_validation), climf_validation.shape)"
   ]
  },
  {
   "cell_type": "code",
   "execution_count": 184,
   "metadata": {
    "collapsed": false
   },
   "outputs": [
    {
     "name": "stdout",
     "output_type": "stream",
     "text": [
      "0.067 0.0334\n"
     ]
    }
   ],
   "source": [
    "print(list_reg[index[2]], list_lrate[index[1]])"
   ]
  },
  {
   "cell_type": "code",
   "execution_count": 185,
   "metadata": {
    "collapsed": false
   },
   "outputs": [],
   "source": [
    "with open('climf_validation.pickle', 'wb') as f:\n",
    "    pickle.dump(climf_validation, f)"
   ]
  },
  {
   "cell_type": "code",
   "execution_count": null,
   "metadata": {
    "collapsed": false
   },
   "outputs": [],
   "source": [
    "list_K = np.arange(25) + 2\n",
    "reg = list_reg[index[2]]\n",
    "lrate = list_lrate[index[1]] \n",
    "mrr = np.zeros(list_K.shape[0])\n",
    "for i, K in enumerate(list_K):\n",
    "    climf = rankingmethod.CLiMF(user_item,K=K, reg=reg, lrate=lrate, verbose=0, maxiter=10)\n",
    "    climf.fit(train)\n",
    "    mrr[i] = rankingmeasure.get_MRR(train, test, climf, skip_train=False)\n",
    "#             climf_validation[i,j,m] = mrr\n",
    "    print(K, lrate, reg, \"MRR\", mrr[i])\n",
    "    sys.stdout.flush()"
   ]
  },
  {
   "cell_type": "code",
   "execution_count": 188,
   "metadata": {
    "collapsed": false
   },
   "outputs": [
    {
     "name": "stdout",
     "output_type": "stream",
     "text": [
      "14 0.0334 0.067 MRR 0.0293517486082\n",
      "14 0.0334 0.067 MRR 0.462491834065\n",
      "14 0.0334 0.067 MRR 0.461515651855\n",
      "14 0.0334 0.067 MRR 0.462351747218\n",
      "14 0.0334 0.067 MRR 0.461624444276\n",
      "14 0.0334 0.067 MRR 0.461470900033\n",
      "14 0.0334 0.067 MRR 0.463152349079\n",
      "14 0.0334 0.067 MRR 0.460893302907\n",
      "14 0.0334 0.067 MRR 0.462571730744\n",
      "14 0.0334 0.067 MRR 0.461625063196\n",
      "14 0.0334 0.067 MRR 0.463749108164\n",
      "14 0.0334 0.067 MRR 0.463029079769\n",
      "14 0.0334 0.067 MRR 0.462177369818\n",
      "14 0.0334 0.067 MRR 0.363057264257\n",
      "14 0.0334 0.067 MRR 0.323813701683\n",
      "14 0.0334 0.067 MRR 0.297059773632\n",
      "14 0.0334 0.067 MRR 0.215761718408\n",
      "14 0.0334 0.067 MRR 0.198497654652\n",
      "14 0.0334 0.067 MRR 0.177414101413\n",
      "14 0.0334 0.067 MRR 0.153797013474\n"
     ]
    }
   ],
   "source": [
    "maxiter_list = np.arange(20)\n",
    "mrr = np.zeros(list_K.shape[0])\n",
    "for i, maxiter in enumerate(maxiter_list):\n",
    "    climf = rankingmethod.CLiMF(user_item,K=5, reg=reg, lrate=lrate, verbose=0, maxiter=maxiter)\n",
    "    climf.fit(train)\n",
    "    mrr[i] = rankingmeasure.get_MRR(train, test, climf, skip_train=False)\n",
    "#             climf_validation[i,j,m] = mrr\n",
    "    print(K, lrate, reg, \"MRR\", mrr[i])\n",
    "    sys.stdout.flush()"
   ]
  },
  {
   "cell_type": "code",
   "execution_count": 191,
   "metadata": {
    "collapsed": false
   },
   "outputs": [
    {
     "data": {
      "text/plain": [
       "<matplotlib.text.Text at 0x7fac71b7cfd0>"
      ]
     },
     "execution_count": 191,
     "metadata": {},
     "output_type": "execute_result"
    },
    {
     "data": {
      "image/png": "[encoded data removed]",
      "text/plain": [
       "<matplotlib.figure.Figure at 0x7fac719ea278>"
      ]
     },
     "metadata": {},
     "output_type": "display_data"
    }
   ],
   "source": [
    "plt.plot(mrr)\n",
    "plt.xlabel('iteration')\n",
    "plt.ylabel('MRR')"
   ]
  },
  {
   "cell_type": "markdown",
   "metadata": {},
   "source": [
    "### проверка работы авторского решения"
   ]
  },
  {
   "cell_type": "code",
   "execution_count": 195,
   "metadata": {
    "collapsed": false
   },
   "outputs": [],
   "source": [
    "create_csr(train, user_item, 'another_train.pickle')\n",
    "create_csr(test, user_item, 'another_test.pickle')"
   ]
  },
  {
   "cell_type": "markdown",
   "metadata": {},
   "source": [
    "### BPR_MF Подбор параметров"
   ]
  },
  {
   "cell_type": "code",
   "execution_count": null,
   "metadata": {
    "collapsed": false
   },
   "outputs": [],
   "source": [
    "list_reg = np.linspace(0.001, 0.1, 10)#[0.001, 0.005, 0.01, 0.005 , 0.001] \n",
    "list_lrate = np.linspace(0.001, 0.1, 10)\n",
    "K = 10\n",
    "res = np.zeros((len(list_lrate), len(list_reg)))\n",
    "\n",
    "for j, lrate in enumerate(list_lrate):\n",
    "    for m, reg in enumerate(list_reg):\n",
    "        cf = rankingmethod.BPR_MF(user_item,K=K, regU=reg, regIpos=reg, regIneg=reg, \n",
    "                                  lrate=lrate, verbose=0, maxiter=4)\n",
    "        cf.fit(train)\n",
    "        res[j,m] = rankingmeasure.get_MAP(train, test, cf)\n",
    "        print(lrate, reg, \"MAP\", res[j,m])\n",
    "        sys.stdout.flush()"
   ]
  },
  {
   "cell_type": "code",
   "execution_count": 18,
   "metadata": {
    "collapsed": false
   },
   "outputs": [
    {
     "data": {
      "text/plain": [
       "array([ 0.001,  0.012,  0.023,  0.034,  0.045,  0.056,  0.067,  0.078,\n",
       "        0.089,  0.1  ])"
      ]
     },
     "execution_count": 18,
     "metadata": {},
     "output_type": "execute_result"
    }
   ],
   "source": [
    "np.linspace(0.001, 0.1, 10)"
   ]
  },
  {
   "cell_type": "code",
   "execution_count": 10,
   "metadata": {
    "collapsed": false
   },
   "outputs": [
    {
     "data": {
      "text/plain": [
       "(1, 1)"
      ]
     },
     "execution_count": 10,
     "metadata": {},
     "output_type": "execute_result"
    }
   ],
   "source": [
    "np.unravel_index(np.argmax(res), res.shape)"
   ]
  },
  {
   "cell_type": "code",
   "execution_count": 21,
   "metadata": {
    "collapsed": false
   },
   "outputs": [
    {
     "name": "stdout",
     "output_type": "stream",
     "text": [
      "0.012 0.012 MAP 0.351807604994\n",
      "0.012 0.012 MAP 0.350993504856\n",
      "0.012 0.012 MAP 0.35005833018\n",
      "0.012 0.012 MAP 0.351648694665\n",
      "0.012 0.012 MAP 0.351482847774\n",
      "0.012 0.012 MAP 0.351468028755\n",
      "0.012 0.012 MAP 0.351119624164\n",
      "0.012 0.012 MAP 0.35345440787\n",
      "0.012 0.012 MAP 0.351319207971\n",
      "0.012 0.012 MAP 0.354321478118\n",
      "0.012 0.012 MAP 0.356043006684\n",
      "0.012 0.012 MAP 0.351305650145\n",
      "0.012 0.012 MAP 0.352099571194\n",
      "0.012 0.012 MAP 0.357232627065\n",
      "0.012 0.012 MAP 0.3515875268\n",
      "0.012 0.012 MAP 0.356324568041\n",
      "0.012 0.012 MAP 0.351335918779\n",
      "0.012 0.012 MAP 0.351111426409\n",
      "0.012 0.012 MAP 0.350964182116\n",
      "0.012 0.012 MAP 0.355757661748\n"
     ]
    }
   ],
   "source": [
    "list_K = np.arange(20) + 1#[0.001, 0.005, 0.01, 0.005 , 0.001] \n",
    "\n",
    "K = 10\n",
    "reg = 0.012\n",
    "lrate = 0.012\n",
    "res = np.zeros(len(list_K))\n",
    "\n",
    "for i, K in enumerate(list_K):\n",
    "    cf = rankingmethod.BPR_MF(user_item,K=K, regU=reg, regIpos=reg, regIneg=reg, \n",
    "                              lrate=lrate, verbose=0, maxiter=4)\n",
    "    cf.fit(train)\n",
    "    res[i] = rankingmeasure.get_MAP(train, test, cf, K=5)\n",
    "    print(lrate, reg, \"MAP\", res[i])\n",
    "    sys.stdout.flush()"
   ]
  },
  {
   "cell_type": "code",
   "execution_count": 19,
   "metadata": {
    "collapsed": false
   },
   "outputs": [
    {
     "data": {
      "text/plain": [
       "<matplotlib.text.Text at 0x7f6e2c447470>"
      ]
     },
     "execution_count": 19,
     "metadata": {},
     "output_type": "execute_result"
    },
    {
     "data": {
      "image/png": "[encoded data removed]",
      "text/plain": [
       "<matplotlib.figure.Figure at 0x7f6e2c4a7898>"
      ]
     },
     "metadata": {},
     "output_type": "display_data"
    }
   ],
   "source": [
    "plt.plot(list_K, res)\n",
    "plt.xlabel(\"K\")\n",
    "plt.ylabel(\"MAP\")"
   ]
  },
  {
   "cell_type": "code",
   "execution_count": null,
   "metadata": {
    "collapsed": true
   },
   "outputs": [],
   "source": [
    "with open('bpr_mf_validation.pickle', 'wb') as f:\n",
    "    f.dump(bpr_mf_validation, f)"
   ]
  },
  {
   "cell_type": "code",
   "execution_count": 238,
   "metadata": {
    "collapsed": false
   },
   "outputs": [
    {
     "name": "stdout",
     "output_type": "stream",
     "text": [
      "0 MAP 0.0022020431328\n",
      "1 MAP 0.322795434481\n",
      "2 MAP 0.347745932652\n",
      "3 MAP 0.343859881448\n",
      "4 MAP 0.34203651154\n",
      "5 MAP 0.343940282507\n",
      "6 MAP 0.345028061546\n",
      "7 MAP 0.341888321352\n",
      "8 MAP 0.346355467272\n",
      "9 MAP 0.347584499937\n",
      "10 MAP 0.344234771093\n"
     ]
    }
   ],
   "source": [
    "maxiter_list = np.arange(11)\n",
    "res = np.zeros(maxiter_list.shape[0])\n",
    "for i, maxiter in enumerate(maxiter_list):\n",
    "    cf = rankingmethod.BPR_MF(user_item,K = 20, lrate=0.001, regIpos=0.1, \n",
    "                              regIneg=0.1, regU=0.1, maxiter=maxiter, verbose=0)\n",
    "    cf.fit(train)\n",
    "    res[i] = rankingmeasure.get_MAP(train, test, cf, skip_train=False)\n",
    "#             climf_validation[i,j,m] = mrr\n",
    "    print(maxiter, \"MAP\", res[i])\n",
    "    sys.stdout.flush()"
   ]
  },
  {
   "cell_type": "code",
   "execution_count": 239,
   "metadata": {
    "collapsed": false
   },
   "outputs": [
    {
     "data": {
      "text/plain": [
       "<matplotlib.text.Text at 0x7fac716bd860>"
      ]
     },
     "execution_count": 239,
     "metadata": {},
     "output_type": "execute_result"
    },
    {
     "data": {
      "image/png": "[encoded data removed]",
      "text/plain": [
       "<matplotlib.figure.Figure at 0x7fac6f0df208>"
      ]
     },
     "metadata": {},
     "output_type": "display_data"
    }
   ],
   "source": [
    "plt.plot(maxiter_list, res)\n",
    "plt.xlabel(\"maxiter\")\n",
    "plt.ylabel(\"MAP\")"
   ]
  },
  {
   "cell_type": "markdown",
   "metadata": {},
   "source": [
    "### iMF Подбор  параметров"
   ]
  },
  {
   "cell_type": "code",
   "execution_count": 23,
   "metadata": {
    "collapsed": false
   },
   "outputs": [
    {
     "name": "stdout",
     "output_type": "stream",
     "text": [
      "0.5 0.001 ND 0.17225625677\n",
      "0.5 0.005 ND 0.170213342078\n",
      "0.5 0.01 ND 0.172197871403\n",
      "0.5 0.05 ND 0.173277549587\n",
      "0.5 0.1 ND 0.178162825298\n",
      "1 0.001 ND 0.172434512107\n",
      "1 0.005 ND 0.172969389025\n",
      "1 0.01 ND 0.172447180302\n",
      "1 0.05 ND 0.170769485409\n",
      "1 0.1 ND 0.17277434962\n",
      "5 0.001 ND 0.199312607889\n",
      "5 0.005 ND 0.196256153913\n",
      "5 0.01 ND 0.20047934499\n",
      "5 0.05 ND 0.199438120497\n",
      "5 0.1 ND 0.199458930202\n",
      "10 0.001 ND 0.21285789952\n",
      "10 0.005 ND 0.210997645372\n",
      "10 0.01 ND 0.203830960482\n",
      "10 0.05 ND 0.212171018651\n",
      "10 0.1 ND 0.210616920256\n",
      "20 0.001 ND 0.22342160969\n",
      "20 0.005 ND 0.225878493429\n",
      "20 0.01 ND 0.220093226529\n",
      "20 0.05 ND 0.231183857393\n",
      "20 0.1 ND 0.225392019268\n",
      "40 0.001 ND 0.240027475296\n",
      "40 0.005 ND 0.236024108337\n",
      "40 0.01 ND 0.230851237301\n",
      "40 0.05 ND 0.232308361662\n",
      "40 0.1 ND 0.238118641252\n",
      "80 0.001 ND 0.241788371123\n",
      "80 0.005 ND 0.239776452882\n",
      "80 0.01 ND 0.233435053938\n",
      "80 0.05 ND 0.232159036845\n",
      "80 0.1 ND 0.236565193376\n"
     ]
    }
   ],
   "source": [
    "list_alpha = [0.5, 1,5,10, 20, 40, 80]\n",
    "list_lmbd = [0.001, 0.005, 0.01, 0.05, 0.1]\n",
    "K = 10\n",
    "\n",
    "res = np.zeros((len(list_alpha), len(list_lmbd)))\n",
    "\n",
    "\n",
    "for j, alpha in enumerate(list_alpha):\n",
    "    for m, lmbd in enumerate(list_lmbd):\n",
    "        cf = rankingmethod.iMF(user_item, K=K, lmbd=lmbd, alpha=alpha, maxiter=30, verbose=0)\n",
    "        cf.fit(train)\n",
    "        mrr = rankingmeasure.get_NDCG(train, test, cf)\n",
    "        res[j,m] = mrr\n",
    "        print(alpha, lmbd, \"ND\", mrr)\n",
    "        sys.stdout.flush()"
   ]
  },
  {
   "cell_type": "code",
   "execution_count": null,
   "metadata": {
    "collapsed": true
   },
   "outputs": [],
   "source": [
    "with open('imf_validation.pickle', 'wb') as f:\n",
    "    f.dump(imf_validation, f)"
   ]
  },
  {
   "cell_type": "markdown",
   "metadata": {},
   "source": [
    "### TFMAP"
   ]
  },
  {
   "cell_type": "code",
   "execution_count": 200,
   "metadata": {
    "collapsed": false,
    "scrolled": true
   },
   "outputs": [
    {
     "name": "stdout",
     "output_type": "stream",
     "text": [
      "10 0.001 0.001 MAP 0.0960631857737\n",
      "10 0.001 0.012 MAP 0.357754130407\n",
      "10 0.001 0.023 MAP 0.358363917266\n",
      "10 0.001 0.034 MAP 0.358278156136\n",
      "10 0.001 0.045 MAP 0.314347017278\n",
      "10 0.001 0.056 MAP 0.154524530206\n",
      "10 0.001 0.067 MAP 0.0947354647497\n",
      "10 0.001 0.078 MAP 0.0574369403456\n",
      "10 0.001 0.089 MAP 0.0348972127633\n",
      "10 0.001 0.1 MAP 0.037756022197\n",
      "10 0.012 0.001 MAP 0.00479379493\n",
      "10 0.012 0.012 MAP 0.359419220583\n",
      "10 0.012 0.023 MAP 0.358031277589\n",
      "10 0.012 0.034 MAP 0.358278156136\n",
      "10 0.012 0.045 MAP 0.354117795434\n",
      "10 0.012 0.056 MAP 0.13159131038\n",
      "10 0.012 0.067 MAP 0.0911016521629\n",
      "10 0.012 0.078 MAP 0.0531791524782\n",
      "10 0.012 0.089 MAP 0.0668173792408\n",
      "10 0.012 0.1 MAP 0.0428597553285\n",
      "10 0.023 0.001 MAP 0.0133219825955\n",
      "10 0.023 0.012 MAP 0.357617606256\n",
      "10 0.023 0.023 MAP 0.358278156136\n",
      "10 0.023 0.034 MAP 0.358278156136\n",
      "10 0.023 0.045 MAP 0.354574977929\n",
      "10 0.023 0.056 MAP 0.139770778156\n",
      "10 0.023 0.067 MAP 0.069484487325\n",
      "10 0.023 0.078 MAP 0.0512700214403\n",
      "10 0.023 0.089 MAP 0.0452314289318\n",
      "10 0.023 0.1 MAP 0.0470866439652\n",
      "10 0.034 0.001 MAP 0.00241013999243\n",
      "10 0.034 0.012 MAP 0.358061546223\n",
      "10 0.034 0.023 MAP 0.358278156136\n",
      "10 0.034 0.034 MAP 0.357447660487\n",
      "10 0.034 0.045 MAP 0.353140370791\n",
      "10 0.034 0.056 MAP 0.136663513684\n",
      "10 0.034 0.067 MAP 0.0907485180981\n",
      "10 0.034 0.078 MAP 0.0361290831126\n",
      "10 0.034 0.089 MAP 0.046450372052\n",
      "10 0.034 0.1 MAP 0.0309061672342\n",
      "10 0.045 0.001 MAP 0.0122493378736\n",
      "10 0.045 0.012 MAP 0.35494702989\n",
      "10 0.045 0.023 MAP 0.357448606382\n",
      "10 0.045 0.034 MAP 0.352658910329\n",
      "10 0.045 0.045 MAP 0.347282444192\n",
      "10 0.045 0.056 MAP 0.134227519233\n",
      "10 0.045 0.067 MAP 0.0993410266112\n",
      "10 0.045 0.078 MAP 0.0554474082482\n",
      "10 0.045 0.089 MAP 0.0455372682558\n",
      "10 0.045 0.1 MAP 0.0489519485433\n",
      "10 0.056 0.001 MAP 0.00260688611426\n",
      "10 0.056 0.012 MAP 0.356276958002\n",
      "10 0.056 0.023 MAP 0.358421932148\n",
      "10 0.056 0.034 MAP 0.358042628326\n",
      "10 0.056 0.045 MAP 0.352918085509\n",
      "10 0.056 0.056 MAP 0.127652604364\n",
      "10 0.056 0.067 MAP 0.0811713330811\n",
      "10 0.056 0.078 MAP 0.045096165973\n",
      "10 0.056 0.089 MAP 0.0399703619624\n",
      "10 0.056 0.1 MAP 0.0236076428301\n",
      "10 0.067 0.001 MAP 0.00480892924707\n",
      "10 0.067 0.012 MAP 0.357410139992\n",
      "10 0.067 0.023 MAP 0.358318514315\n",
      "10 0.067 0.034 MAP 0.355320973641\n",
      "10 0.067 0.045 MAP 0.352353386303\n",
      "10 0.067 0.056 MAP 0.139699205448\n",
      "10 0.067 0.067 MAP 0.0802875520242\n",
      "10 0.067 0.078 MAP 0.0620005675369\n",
      "10 0.067 0.089 MAP 0.028548366755\n",
      "10 0.067 0.1 MAP 0.0283749527053\n",
      "10 0.078 0.001 MAP 0.0044267877412\n",
      "10 0.078 0.012 MAP 0.358910959768\n",
      "10 0.078 0.023 MAP 0.358839702358\n",
      "10 0.078 0.034 MAP 0.35267152226\n",
      "10 0.078 0.045 MAP 0.350843738176\n",
      "10 0.078 0.056 MAP 0.163426346324\n",
      "10 0.078 0.067 MAP 0.114495522765\n",
      "10 0.078 0.078 MAP 0.0694621011477\n",
      "10 0.078 0.089 MAP 0.0478496657838\n",
      "10 0.078 0.1 MAP 0.028396708286\n",
      "10 0.089 0.001 MAP 0.000726447219069\n",
      "10 0.089 0.012 MAP 0.35480483037\n",
      "10 0.089 0.023 MAP 0.357618236852\n",
      "10 0.089 0.034 MAP 0.351608021188\n",
      "10 0.089 0.045 MAP 0.349280489343\n",
      "10 0.089 0.056 MAP 0.161041745491\n",
      "10 0.089 0.067 MAP 0.0792231050574\n",
      "10 0.089 0.078 MAP 0.103244103922\n",
      "10 0.089 0.089 MAP 0.0585332324379\n",
      "10 0.089 0.1 MAP 0.0407794173288\n",
      "10 0.1 0.001 MAP 0.00131668558456\n",
      "10 0.1 0.012 MAP 0.355350611679\n",
      "10 0.1 0.023 MAP 0.357704943877\n",
      "10 0.1 0.034 MAP 0.352762328162\n",
      "10 0.1 0.045 MAP 0.3530656451\n",
      "10 0.1 0.056 MAP 0.148617417077\n",
      "10 0.1 0.067 MAP 0.100934859377\n",
      "10 0.1 0.078 MAP 0.0976570185395\n",
      "10 0.1 0.089 MAP 0.0674227519233\n",
      "10 0.1 0.1 MAP 0.0341922058267\n"
     ]
    }
   ],
   "source": [
    "list_reg = np.linspace(0.001, 0.1, 10)\n",
    "list_lrate = np.linspace(0.001, 0.1, 10)\n",
    "K = 10\n",
    "\n",
    "tfmap_validation = np.zeros((len(list_reg), len(list_lrate)))\n",
    "\n",
    "for i, reg in enumerate(list_reg):\n",
    "    for j, lrate in enumerate(list_lrate):\n",
    "        cf = rankingmethod.TFMAP(user_item, K=K, reg=reg, lrate=lrate, verbose = 0, maxiter=12)\n",
    "        cf.fit(train)\n",
    "        mp = rankingmeasure.get_MAP(train, test, cf)\n",
    "        tfmap_validation[i,j] = mp\n",
    "        print(K, reg, lrate, \"MAP\", mp)\n",
    "        sys.stdout.flush()"
   ]
  },
  {
   "cell_type": "code",
   "execution_count": 212,
   "metadata": {
    "collapsed": true
   },
   "outputs": [],
   "source": [
    "index = np.unravel_index(np.argmax(tfmap_validation), tfmap_validation.shape)"
   ]
  },
  {
   "cell_type": "code",
   "execution_count": 222,
   "metadata": {
    "collapsed": false
   },
   "outputs": [
    {
     "name": "stdout",
     "output_type": "stream",
     "text": [
      "1 0.012 0.012 MAP 0.337995018287\n"
     ]
    }
   ],
   "source": [
    "list_K = np.arange(25) + 1\n",
    "reg = list_reg[index[0]]\n",
    "lrate = list_lrate[index[1]] \n",
    "mp = np.zeros(list_K.shape[0])\n",
    "for i, K in enumerate(list_K):\n",
    "    tfmap = rankingmethod.TFMAP(user_item,K=K, reg=reg, lrate=lrate, verbose=0, maxiter=12)\n",
    "    tfmap.fit(train)\n",
    "    mp[i] = rankingmeasure.get_MAP(train, test, tfmap, skip_train=False)\n",
    "#             climf_validation[i,j,m] = mrr\n",
    "    print(K, lrate, reg, \"MAP\", mp[i])\n",
    "    sys.stdout.flush()"
   ]
  },
  {
   "cell_type": "code",
   "execution_count": 226,
   "metadata": {
    "collapsed": false
   },
   "outputs": [
    {
     "data": {
      "text/plain": [
       "array([   18,   118,  1042, ..., 12177, 13625, 24280])"
      ]
     },
     "execution_count": 226,
     "metadata": {},
     "output_type": "execute_result"
    }
   ],
   "source": [
    "tfmap.get_list(0)"
   ]
  },
  {
   "cell_type": "code",
   "execution_count": 218,
   "metadata": {
    "collapsed": false
   },
   "outputs": [
    {
     "data": {
      "text/plain": [
       "<matplotlib.text.Text at 0x7fac6d7cc438>"
      ]
     },
     "execution_count": 218,
     "metadata": {},
     "output_type": "execute_result"
    },
    {
     "data": {
      "image/png": "[encoded data removed]",
      "text/plain": [
       "<matplotlib.figure.Figure at 0x7fac71947cf8>"
      ]
     },
     "metadata": {},
     "output_type": "display_data"
    }
   ],
   "source": [
    "plt.plot(list_K, mp)\n",
    "plt.xlabel(\"K\")\n",
    "plt.ylabel(\"MAP\")"
   ]
  },
  {
   "cell_type": "code",
   "execution_count": 234,
   "metadata": {
    "collapsed": false
   },
   "outputs": [
    {
     "name": "stdout",
     "output_type": "stream",
     "text": [
      "1 0.012 0.012 MAP 0.0042603102535\n",
      "1 0.012 0.012 MAP 0.00626182368521\n",
      "1 0.012 0.012 MAP 0.303905284399\n",
      "1 0.012 0.012 MAP 0.322663639803\n",
      "1 0.012 0.012 MAP 0.345621137596\n",
      "1 0.012 0.012 MAP 0.336674549123\n",
      "1 0.012 0.012 MAP 0.340395384033\n",
      "1 0.012 0.012 MAP 0.342887816875\n",
      "1 0.012 0.012 MAP 0.345948732501\n",
      "1 0.012 0.012 MAP 0.344964371295\n",
      "1 0.012 0.012 MAP 0.346694728213\n",
      "1 0.012 0.012 MAP 0.34550920671\n",
      "1 0.012 0.012 MAP 0.344172657334\n",
      "1 0.012 0.012 MAP 0.346099129777\n",
      "1 0.012 0.012 MAP 0.343975911212\n",
      "1 0.012 0.012 MAP 0.348043574221\n",
      "1 0.012 0.012 MAP 0.349907932905\n",
      "1 0.012 0.012 MAP 0.344032664901\n",
      "1 0.012 0.012 MAP 0.346714276706\n",
      "1 0.012 0.012 MAP 0.351484424265\n"
     ]
    }
   ],
   "source": [
    "maxiter_list = np.arange(20)\n",
    "mp = np.zeros(maxiter_list.shape[0])\n",
    "for i, maxiter in enumerate(maxiter_list):\n",
    "    tfmap = rankingmethod.TFMAP(user_item,K=7, reg=reg, lrate=lrate, verbose=0, maxiter=maxiter)\n",
    "    tfmap.fit(train)\n",
    "    mp[i] = rankingmeasure.get_MAP(train, test, tfmap, skip_train=False)\n",
    "#             climf_validation[i,j,m] = mrr\n",
    "    print(K, lrate, reg, \"MAP\", mp[i])\n",
    "    sys.stdout.flush()"
   ]
  },
  {
   "cell_type": "code",
   "execution_count": 236,
   "metadata": {
    "collapsed": false
   },
   "outputs": [
    {
     "data": {
      "text/plain": [
       "<matplotlib.text.Text at 0x7fac71a1c2e8>"
      ]
     },
     "execution_count": 236,
     "metadata": {},
     "output_type": "execute_result"
    },
    {
     "data": {
      "image/png": "[encoded data removed]",
      "text/plain": [
       "<matplotlib.figure.Figure at 0x7fac6f0fb0b8>"
      ]
     },
     "metadata": {},
     "output_type": "display_data"
    }
   ],
   "source": [
    "plt.plot(maxiter_list, mp)\n",
    "plt.xlabel(\"maxiter\")\n",
    "plt.ylabel(\"MAP\")"
   ]
  },
  {
   "cell_type": "code",
   "execution_count": null,
   "metadata": {
    "collapsed": true
   },
   "outputs": [],
   "source": [
    "self, user_item, K=10, reg=0.001, lrate=0.001, n_sample=100, maxiter=20, verbose=0)"
   ]
  },
  {
   "cell_type": "code",
   "execution_count": 103,
   "metadata": {
    "collapsed": false
   },
   "outputs": [
    {
     "name": "stdout",
     "output_type": "stream",
     "text": [
      "iteration 0\n",
      "iteration 1\n",
      "iteration 2\n",
      "iteration 3\n",
      "iteration 4\n",
      "iteration 5\n",
      "iteration 6\n",
      "iteration 7\n",
      "iteration 8\n",
      "iteration 9\n",
      "iteration 10\n",
      "iteration 11\n"
     ]
    }
   ],
   "source": [
    "cf = rankingmethod.TFMAP(user_item, K=10, reg=0.001, lrate=0.01, verbose = 1, maxiter=12)\n",
    "cf.fit(train)"
   ]
  },
  {
   "cell_type": "code",
   "execution_count": 102,
   "metadata": {
    "collapsed": false
   },
   "outputs": [
    {
     "name": "stdout",
     "output_type": "stream",
     "text": [
      "precK 0.180930760499\n",
      "1-call5 0.5402951191827469\n",
      "MRR 0.42529711390083835\n",
      "AUC 0.630444505232\n",
      "NGDC 0.207541948703\n",
      "MAP 0.373795875899\n"
     ]
    }
   ],
   "source": [
    "all_measures(train, test, cf)"
   ]
  },
  {
   "cell_type": "markdown",
   "metadata": {},
   "source": [
    "### pureSVD"
   ]
  },
  {
   "cell_type": "code",
   "execution_count": 143,
   "metadata": {
    "collapsed": true
   },
   "outputs": [],
   "source": [
    "cf = rankingmethod.pureSVD(user_item,  rate_neg_sample=1000.0, verbose=1)\n"
   ]
  },
  {
   "cell_type": "code",
   "execution_count": null,
   "metadata": {
    "collapsed": false
   },
   "outputs": [],
   "source": [
    "cf.fit(train)"
   ]
  },
  {
   "cell_type": "code",
   "execution_count": 142,
   "metadata": {
    "collapsed": false
   },
   "outputs": [
    {
     "name": "stdout",
     "output_type": "stream",
     "text": [
      "precK 0.00690124858116\n",
      "1-call5 0.027695800227014757\n",
      "MRR 0.030906862455593657\n",
      "AUC 0.806544835437\n",
      "NGDC 0.0059649372233\n",
      "MAP 0.0101226510279\n"
     ]
    }
   ],
   "source": [
    "all_measures(train, test, cf)"
   ]
  },
  {
   "cell_type": "code",
   "execution_count": 139,
   "metadata": {
    "collapsed": false
   },
   "outputs": [
    {
     "name": "stdout",
     "output_type": "stream",
     "text": [
      "precK 0.00989784335982\n",
      "1-call5 0.038138479001135074\n",
      "MRR 0.03823556637728849\n",
      "AUC 0.805579474585\n",
      "NGDC 0.0104280871446\n",
      "MAP 0.0212220961029\n"
     ]
    }
   ],
   "source": [
    "all_measures(train, test, cf)"
   ]
  },
  {
   "cell_type": "markdown",
   "metadata": {},
   "source": [
    "## Проведение такого же эксперимента, как у создатей CLiMF"
   ]
  },
  {
   "cell_type": "code",
   "execution_count": null,
   "metadata": {
    "collapsed": false
   },
   "outputs": [],
   "source": [
    "def climf_experiment(data, list_cf, list_measure, K, maxiter, top=None):\n",
    "    res = np.zeros((len(list_measure), len(list_cf)))\n",
    "    for t in range(maxiter):\n",
    "        start_time = time.time()\n",
    "        train, test, traintest = givenK_train_test(epinion, K)\n",
    "        print('create test and train', time.time() - start_time)\n",
    "        for i, cf in enumerate(list_cf):\n",
    "            start_time = time.time()\n",
    "            cf.fit(train)\n",
    "            print('fit method', time.time() - start_time)\n",
    "            for j, measure in enumerate(list_measure):\n",
    "                start_time = time.time()\n",
    "                res[j, i] += measure(train, test, cf, top=top)\n",
    "                print('get measure', time.time() - start_time)\n",
    "            print(t, i, res[:, i] / (t + 1))\n",
    "            sys.stdout.flush()\n",
    "    res /= K\n",
    "    return res"
   ]
  },
  {
   "cell_type": "code",
   "execution_count": null,
   "metadata": {
    "collapsed": false
   },
   "outputs": [],
   "source": [
    "climf_experiment(epinion, list_cf, list_measure, 5, 1, None)"
   ]
  },
  {
   "cell_type": "code",
   "execution_count": 12,
   "metadata": {
    "collapsed": false
   },
   "outputs": [],
   "source": [
    "list_cf = [\n",
    "    rankingmethod.PopRec(user_item),\n",
    "    rankingmethod.CLiMF(user_item, K=10, reg=0.001, lrate=0.01, verbose=0, maxiter=10),\n",
    "    rankingmethod.BPR_MF(user_item, K = 20, lrate=0.012, regIpos=0.012, \n",
    "                              regIneg=0.012, regU=0.012, maxiter=4, verbose=0 ),\n",
    "    rankingmethod.iMF(user_item, K=10, lmbd=0.01, alpha=40, maxiter=30, verbose=0),\n",
    "    rankingmethod.TFMAP(user_item, lrate=0.01, maxiter=10)\n",
    "    \n",
    "]\n",
    "\n",
    "list_measure = [\n",
    "    rankingmeasure.get_prec_K,\n",
    "    rankingmeasure.get_one_recal_K,\n",
    "    rankingmeasure.get_MRR,\n",
    "    rankingmeasure.get_AUC,\n",
    "    rankingmeasure.get_NDCG,\n",
    "    rankingmeasure.get_MAP\n",
    "]"
   ]
  },
  {
   "cell_type": "code",
   "execution_count": null,
   "metadata": {
    "collapsed": false
   },
   "outputs": [],
   "source": [
    "res5 = climf_experiment(epinion, list_cf, list_measure, 5, 5, None)"
   ]
  },
  {
   "cell_type": "code",
   "execution_count": null,
   "metadata": {
    "collapsed": false
   },
   "outputs": [],
   "source": [
    "for i in range(5, 21, 5):\n",
    "    res = climf_experiment(epinion, list_cf, list_measure, i, 5, None)\n",
    "    with open('climf_res' + str(i) +'.pickle', 'wb') as f:\n",
    "        pickle.dump(res, f)\n",
    "    res = climf_experiment(epinion, list_cf, list_measure, i, 5, top)\n",
    "    with open('climf_res_top' + str(i) + '.pickle', 'wb') as f:\n",
    "        pickle.dump(res, f)"
   ]
  },
  {
   "cell_type": "code",
   "execution_count": null,
   "metadata": {
    "collapsed": false
   },
   "outputs": [],
   "source": [
    "def show_smart_table(data):\n",
    "    name_measure = ['precK', '1-recalK', 'MRR', 'AUC', 'NDCG']\n",
    "    ans = pd.DataFrame()\n",
    "    ans['measures'] = name_measure\n",
    "    ans['PopRec'] = data[:, 0]\n",
    "    ans['CLiMF'] = data[:, 1]\n",
    "    ans['BRP_MP'] = data[:, 2]\n",
    "    ans['iMF'] = data[:, 3]\n",
    "    print(ans)"
   ]
  },
  {
   "cell_type": "code",
   "execution_count": null,
   "metadata": {
    "collapsed": false,
    "scrolled": true
   },
   "outputs": [],
   "source": [
    "for i in range(5, 21, 5):\n",
    "    with open('climf_res' + str(i) +'.pickle', 'rb') as f:\n",
    "        tbl = pickle.load(f)\n",
    "    print('---------')\n",
    "    print('K =', i)\n",
    "    show_smart_table(tbl)\n",
    "    with open('climf_res_top' + str(i) + '.pickle', 'rb') as f:\n",
    "        tbl = pickle.load(f)\n",
    "    print('---------')\n",
    "    print('K =', i, 'without top')\n",
    "    show_smart_table(tbl)"
   ]
  },
  {
   "cell_type": "code",
   "execution_count": null,
   "metadata": {
    "collapsed": false
   },
   "outputs": [],
   "source": [
    "show_smart_table(res5)"
   ]
  },
  {
   "cell_type": "markdown",
   "metadata": {},
   "source": [
    "### Сравнение работы методов"
   ]
  },
  {
   "cell_type": "code",
   "execution_count": 13,
   "metadata": {
    "collapsed": false
   },
   "outputs": [],
   "source": [
    "import copy\n",
    "import sys\n",
    "class ensemble:\n",
    "    def __init__(self, list_cf, verbose=0):\n",
    "        self.list_cf = copy.deepcopy(list_cf)\n",
    "        self.verbose = verbose\n",
    "    \n",
    "    \n",
    "    def fit(self, data):\n",
    "        for i in range(len(self.list_cf)):\n",
    "            self.list_cf[i].fit(data)\n",
    "            if self.verbose == 1:\n",
    "                print(\"iteration\", i)\n",
    "                sys.stdout.flush()\n",
    "    \n",
    "    \n",
    "    def show_all_ulist(self, u, topK=5):\n",
    "        for i in range(len(self.list_cf)):\n",
    "            print(type(self.list_cf[i]).__name__, self.list_cf[i].get_list(u)[:topK])\n",
    "\n",
    "            \n",
    "def matrix_similar(self, u, topK=5):\n",
    "    res = []\n",
    "    for i in range(len(self.list_cf)):\n",
    "        res.append(self.list_cf[i].get_list(u)[:topK])\n",
    "    \n",
    "    ans = np.zeros((len(res), len(res)))\n",
    "#     print(res)\n",
    "    for i in range(ans.shape[0]):\n",
    "        for j in range(i + 1, ans.shape[1]):\n",
    "#             print(res[i])\n",
    "#             print(res[j])\n",
    "            ans[i, j] = np.mean(np.in1d(res[i], res[j]))\n",
    "            ans[j, i] = ans[i, j]\n",
    "    return ans\n",
    "\n",
    "\n",
    "def mean_matrix_similar(self, topK=5):\n",
    "    N_users = self.list_cf[0].N_users\n",
    "    for u in range(N_users):\n",
    "        if u == 0:\n",
    "            ans = matrix_similar(self, u, topK)\n",
    "        else:\n",
    "            ans += matrix_similar(self, u, topK)\n",
    "    ans /= N_users\n",
    "    return ans"
   ]
  },
  {
   "cell_type": "code",
   "execution_count": 57,
   "metadata": {
    "collapsed": false
   },
   "outputs": [],
   "source": [
    "ens = ensemble(list_cf, verbose=1)"
   ]
  },
  {
   "cell_type": "code",
   "execution_count": 58,
   "metadata": {
    "collapsed": false
   },
   "outputs": [
    {
     "name": "stdout",
     "output_type": "stream",
     "text": [
      "iteration 0\n",
      "iteration 1\n",
      "iteration 2\n",
      "iteration 3\n",
      "iteration 4\n"
     ]
    }
   ],
   "source": [
    "ens.fit(train)"
   ]
  },
  {
   "cell_type": "code",
   "execution_count": 88,
   "metadata": {
    "collapsed": false
   },
   "outputs": [
    {
     "data": {
      "text/plain": [
       "array([[ 0.        ,  0.80068104,  0.99350738,  0.15718502,  0.96286039],\n",
       "       [ 0.80068104,  0.        ,  0.80485812,  0.15582293,  0.80190692],\n",
       "       [ 0.99350738,  0.80485812,  0.        ,  0.15741203,  0.95750284],\n",
       "       [ 0.15718502,  0.15582293,  0.15741203,  0.        ,  0.15723042],\n",
       "       [ 0.96286039,  0.80190692,  0.95750284,  0.15723042,  0.        ]])"
      ]
     },
     "execution_count": 88,
     "metadata": {},
     "output_type": "execute_result"
    }
   ],
   "source": [
    "mean_matrix_similar(ens, topK=5)"
   ]
  },
  {
   "cell_type": "code",
   "execution_count": 89,
   "metadata": {
    "collapsed": false
   },
   "outputs": [
    {
     "data": {
      "text/plain": [
       "array([[ 0.        ,  0.90338252,  0.99920545,  0.18208854,  0.64785471],\n",
       "       [ 0.90338252,  0.        ,  0.9030874 ,  0.18256527,  0.67334847],\n",
       "       [ 0.99920545,  0.9030874 ,  0.        ,  0.18213394,  0.64735528],\n",
       "       [ 0.18208854,  0.18256527,  0.18213394,  0.        ,  0.17053348],\n",
       "       [ 0.64785471,  0.67334847,  0.64735528,  0.17053348,  0.        ]])"
      ]
     },
     "execution_count": 89,
     "metadata": {},
     "output_type": "execute_result"
    }
   ],
   "source": [
    "mean_matrix_similar(ens, topK=10)"
   ]
  },
  {
   "cell_type": "markdown",
   "metadata": {},
   "source": [
    "### Построение ансамбля"
   ]
  },
  {
   "cell_type": "code",
   "execution_count": 50,
   "metadata": {
    "collapsed": true
   },
   "outputs": [],
   "source": [
    "import copy\n",
    "import sys\n",
    "class top_ensemble:\n",
    "    def __init__(self, list_cf, topK = 15, verbose=0):\n",
    "        self.list_cf = copy.deepcopy(list_cf)\n",
    "        self.verbose = verbose\n",
    "        self.topK = topK\n",
    "        \n",
    "    \n",
    "    def get_list(self, u):\n",
    "        N_items = self.list_cf[1].N_items\n",
    "        N_methods = len(self.list_cf)\n",
    "        res = np.zeros((N_methods, N_items))\n",
    "        for i, num_cf in enumerate(np.random.choice(N_methods, N_methods, replace=False)):\n",
    "            res[i] = self.list_cf[num_cf].get_list(u)\n",
    "        \n",
    "        total_res = res.T.ravel()\n",
    "        ans = []\n",
    "        for elem in total_res:\n",
    "            if elem not in ans:\n",
    "                ans.append(elem)\n",
    "            if len(ans) == self.topK:\n",
    "                break\n",
    "        return np.array(ans)\n",
    "    "
   ]
  },
  {
   "cell_type": "code",
   "execution_count": 52,
   "metadata": {
    "collapsed": true
   },
   "outputs": [],
   "source": [
    "top_ens = top_ensemble(ens.list_cf, topK=100, verbose=1)"
   ]
  },
  {
   "cell_type": "code",
   "execution_count": 49,
   "metadata": {
    "collapsed": false
   },
   "outputs": [
    {
     "data": {
      "text/plain": [
       "array([0, 2, 1, 4, 3])"
      ]
     },
     "execution_count": 49,
     "metadata": {},
     "output_type": "execute_result"
    }
   ],
   "source": [
    "np.random.choice(5, 5, replace=False)"
   ]
  },
  {
   "cell_type": "markdown",
   "metadata": {},
   "source": [
    "### проверка работы ансамбля givenk = 5"
   ]
  },
  {
   "cell_type": "code",
   "execution_count": 34,
   "metadata": {
    "collapsed": false
   },
   "outputs": [
    {
     "data": {
      "text/plain": [
       "array([ 0.20889898,  0.59659478,  0.23334799,  0.40400019])"
      ]
     },
     "execution_count": 34,
     "metadata": {},
     "output_type": "execute_result"
    }
   ],
   "source": [
    "rankingmeasure.get_Kmetrics(train, test, top_ens, True, K = 5)"
   ]
  },
  {
   "cell_type": "code",
   "execution_count": 36,
   "metadata": {
    "collapsed": false
   },
   "outputs": [
    {
     "name": "stdout",
     "output_type": "stream",
     "text": [
      "[ 0.19704881  0.55913734  0.22254752  0.38464813]\n",
      "[ 0.1938252   0.56118048  0.22009766  0.38748802]\n",
      "[ 0.19523269  0.56072645  0.22107609  0.38591121]\n",
      "[ 0.17711691  0.52485812  0.18861426  0.32164586]\n",
      "[ 0.18719637  0.55323496  0.21465356  0.38445958]\n"
     ]
    }
   ],
   "source": [
    "for cf in top_ens.list_cf:\n",
    "    print(rankingmeasure.get_Kmetrics(train, test, cf, True, K = 5))"
   ]
  },
  {
   "cell_type": "code",
   "execution_count": 37,
   "metadata": {
    "collapsed": false
   },
   "outputs": [
    {
     "data": {
      "text/plain": [
       "array([ 0.17402951,  0.72122588,  0.20026969,  0.37375175])"
      ]
     },
     "execution_count": 37,
     "metadata": {},
     "output_type": "execute_result"
    }
   ],
   "source": [
    "rankingmeasure.get_Kmetrics(train, test, top_ens, True, K = 10)"
   ]
  },
  {
   "cell_type": "code",
   "execution_count": 38,
   "metadata": {
    "collapsed": false
   },
   "outputs": [
    {
     "name": "stdout",
     "output_type": "stream",
     "text": [
      "[ 0.16944381  0.68876277  0.19412473  0.35670129]\n",
      "[ 0.16989784  0.68944381  0.19419015  0.3561263 ]\n",
      "[ 0.16955732  0.69057889  0.19406199  0.35569465]\n",
      "[ 0.15768445  0.67309875  0.17098093  0.31099781]\n",
      "[ 0.15738933  0.65788876  0.18414103  0.35370021]\n"
     ]
    }
   ],
   "source": [
    "for cf in top_ens.list_cf:\n",
    "    print(rankingmeasure.get_Kmetrics(train, test, cf, True, K = 10))"
   ]
  },
  {
   "cell_type": "markdown",
   "metadata": {},
   "source": [
    "### проверка работы ансамбля givenk = 10 iMF слишком хорошо работает("
   ]
  },
  {
   "cell_type": "code",
   "execution_count": 59,
   "metadata": {
    "collapsed": false
   },
   "outputs": [
    {
     "data": {
      "text/plain": [
       "array([ 0.24281498,  0.676958  ,  0.26581623,  0.44658374])"
      ]
     },
     "execution_count": 59,
     "metadata": {},
     "output_type": "execute_result"
    }
   ],
   "source": [
    "rankingmeasure.get_Kmetrics(train, test, top_ens, True, K = 5)"
   ]
  },
  {
   "cell_type": "code",
   "execution_count": 60,
   "metadata": {
    "collapsed": false
   },
   "outputs": [
    {
     "name": "stdout",
     "output_type": "stream",
     "text": [
      "[ 0.18320091  0.53416572  0.20701312  0.36450404]\n",
      "[ 0.1815664   0.53870602  0.20560403  0.36648253]\n",
      "[ 0.18292849  0.53348468  0.20675077  0.36393303]\n",
      "[ 0.26115778  0.71577753  0.28306775  0.47061798]\n",
      "[ 0.17257662  0.51577753  0.19827725  0.35810853]\n"
     ]
    }
   ],
   "source": [
    "for cf in top_ens.list_cf:\n",
    "    print(rankingmeasure.get_Kmetrics(train, test, cf, True, K = 5))"
   ]
  },
  {
   "cell_type": "code",
   "execution_count": 44,
   "metadata": {
    "collapsed": false
   },
   "outputs": [
    {
     "name": "stdout",
     "output_type": "stream",
     "text": [
      "0.31627511978149414\n"
     ]
    }
   ],
   "source": [
    "import time\n",
    "t = time.time()\n",
    "a = top_ens.get_list(0, 4000)\n",
    "print(time.time() - t)"
   ]
  },
  {
   "cell_type": "code",
   "execution_count": 97,
   "metadata": {
    "collapsed": false
   },
   "outputs": [
    {
     "name": "stdout",
     "output_type": "stream",
     "text": [
      "[[ 0  1  2]\n",
      " [ 3  4  5]\n",
      " [ 6  7  8]\n",
      " [ 9 10 11]\n",
      " [12 13 14]\n",
      " [15 16 17]]\n",
      "[ 0  1  2  3  4  5  6  7  8  9 10 11 12 13 14 15 16 17]\n",
      "[ 0  3  6  9 12 15  1  4  7 10 13 16  2  5  8 11 14 17]\n"
     ]
    }
   ],
   "source": [
    "a =np.arange(6*3).reshape(6, 3)\n",
    "print(a)\n",
    "print(a.ravel())\n",
    "print(a.T.ravel())"
   ]
  },
  {
   "cell_type": "code",
   "execution_count": 57,
   "metadata": {
    "collapsed": false
   },
   "outputs": [
    {
     "name": "stdout",
     "output_type": "stream",
     "text": [
      "PopRec [  18  721 1042  674  143  118  711  136   34 1536]\n",
      "CLiMF [  18  674  721 1042 1536  118  143  711  136   34]\n",
      "BPR_MF [  18 1042  721  674  143  118 1536  136   34  711]\n",
      "iMF [497 362 378  43   1 379  10  12  79 125]\n",
      "TFMAP [  18  674 1042  721  711   28  143 3805   34   77]\n"
     ]
    }
   ],
   "source": [
    "ansamble.show_all_ulist(5, 10)"
   ]
  },
  {
   "cell_type": "code",
   "execution_count": 119,
   "metadata": {
    "collapsed": false
   },
   "outputs": [],
   "source": [
    "import copy\n",
    "import sys\n",
    "class rating_ensemble:\n",
    "    def __init__(self, list_cf, weights = None, verbose=0):\n",
    "        self.list_cf = copy.deepcopy(list_cf)\n",
    "        self.verbose = verbose\n",
    "        if weights is None:\n",
    "            self.weights = np.ones(len(list_cf))/len(list_cf)\n",
    "        else:\n",
    "            assert(weights.shape[0] == len(list_cf))\n",
    "            self.weights = weights\n",
    "        self.N_items = self.list_cf[1].N_items\n",
    "        self.N_methods = len(self.list_cf)\n",
    "        #self.index = np.arange(self.N_items)[::-1] + 1\n",
    "        self.index = np.exp(-0.5 * np.arange(self.N_items))\n",
    "        \n",
    "    def get_list(self, u):\n",
    "        res = np.zeros(self.N_items)\n",
    "        for i in range(self.N_methods):\n",
    "            ranks = self.list_cf[i].get_list(u)\n",
    "            res[ranks] += self.weights[i] * self.index \n",
    "        return np.argsort(-res)\n",
    "    "
   ]
  },
  {
   "cell_type": "markdown",
   "metadata": {},
   "source": [
    "### givenK = 5"
   ]
  },
  {
   "cell_type": "code",
   "execution_count": 95,
   "metadata": {
    "collapsed": true
   },
   "outputs": [],
   "source": [
    "train5, test5, traintest5 = givenK_train_test(epinion, 5)"
   ]
  },
  {
   "cell_type": "code",
   "execution_count": 97,
   "metadata": {
    "collapsed": false
   },
   "outputs": [
    {
     "name": "stdout",
     "output_type": "stream",
     "text": [
      "iteration 0\n",
      "iteration 1\n",
      "iteration 2\n",
      "iteration 3\n",
      "iteration 4\n"
     ]
    }
   ],
   "source": [
    "ens5 = ensemble(list_cf, verbose=1)\n",
    "ens5.fit(train5)"
   ]
  },
  {
   "cell_type": "code",
   "execution_count": 98,
   "metadata": {
    "collapsed": false
   },
   "outputs": [],
   "source": [
    "rating_ens = rating_ensemble(ens5.list_cf)"
   ]
  },
  {
   "cell_type": "code",
   "execution_count": 102,
   "metadata": {
    "collapsed": false
   },
   "outputs": [
    {
     "data": {
      "text/plain": [
       "array([ 0.20340522,  0.57207719,  0.21539089,  0.35614769])"
      ]
     },
     "execution_count": 102,
     "metadata": {},
     "output_type": "execute_result"
    }
   ],
   "source": [
    "rankingmeasure.get_Kmetrics(train5, test5, rating_ens, True, K = 5)"
   ]
  },
  {
   "cell_type": "code",
   "execution_count": 103,
   "metadata": {
    "collapsed": false
   },
   "outputs": [
    {
     "name": "stdout",
     "output_type": "stream",
     "text": [
      "[ 0.19723042  0.5523269   0.22281641  0.38555146]\n",
      "[ 0.19673099  0.55005675  0.22215417  0.38491046]\n",
      "[ 0.1953689   0.55005675  0.22130483  0.38498266]\n",
      "[ 0.17734393  0.53461975  0.18653377  0.31993852]\n",
      "[ 0.18696935  0.54801362  0.21227095  0.37798714]\n"
     ]
    }
   ],
   "source": [
    "for cf in rating_ens.list_cf:\n",
    "    print(rankingmeasure.get_Kmetrics(train5, test5, cf, True, K = 5))"
   ]
  },
  {
   "cell_type": "code",
   "execution_count": 120,
   "metadata": {
    "collapsed": false
   },
   "outputs": [
    {
     "data": {
      "text/plain": [
       "array([ 0.20281498,  0.57707151,  0.22675051,  0.39048966])"
      ]
     },
     "execution_count": 120,
     "metadata": {},
     "output_type": "execute_result"
    }
   ],
   "source": [
    "rating_ens = rating_ensemble(ens5.list_cf)\n",
    "rankingmeasure.get_Kmetrics(train5, test5, rating_ens, True, K = 5)"
   ]
  },
  {
   "cell_type": "code",
   "execution_count": 117,
   "metadata": {
    "collapsed": false
   },
   "outputs": [
    {
     "data": {
      "text/plain": [
       "[<matplotlib.lines.Line2D at 0x7fac71c06550>]"
      ]
     },
     "execution_count": 117,
     "metadata": {},
     "output_type": "execute_result"
    },
    {
     "data": {
      "image/png": "[encoded data removed]",
      "text/plain": [
       "<matplotlib.figure.Figure at 0x7fac71df0160>"
      ]
     },
     "metadata": {},
     "output_type": "display_data"
    }
   ],
   "source": [
    "plt.plot(np.exp(-0.5 * np.arange(10)))"
   ]
  },
  {
   "cell_type": "code",
   "execution_count": 64,
   "metadata": {
    "collapsed": true
   },
   "outputs": [],
   "source": [
    "for cf in top_ens.list_cf:\n",
    "    print(rankingmeasure.get_Kmetrics(train, test, cf, True, K = 5))"
   ]
  },
  {
   "cell_type": "code",
   "execution_count": 65,
   "metadata": {
    "collapsed": false
   },
   "outputs": [
    {
     "data": {
      "text/plain": [
       "array([4, 4, 2, 2, 8, 7, 1, 2, 0, 6])"
      ]
     },
     "execution_count": 65,
     "metadata": {},
     "output_type": "execute_result"
    }
   ],
   "source": [
    "a"
   ]
  },
  {
   "cell_type": "code",
   "execution_count": 67,
   "metadata": {
    "collapsed": false
   },
   "outputs": [
    {
     "data": {
      "text/plain": [
       "array([4, 5, 9, 0, 1, 2, 3, 7, 6, 8])"
      ]
     },
     "execution_count": 67,
     "metadata": {},
     "output_type": "execute_result"
    }
   ],
   "source": [
    "np.argsort(-a)"
   ]
  },
  {
   "cell_type": "code",
   "execution_count": null,
   "metadata": {
    "collapsed": true
   },
   "outputs": [],
   "source": [
    "np.argosrt()"
   ]
  },
  {
   "cell_type": "code",
   "execution_count": 61,
   "metadata": {
    "collapsed": true
   },
   "outputs": [],
   "source": [
    "a = None"
   ]
  },
  {
   "cell_type": "code",
   "execution_count": 63,
   "metadata": {
    "collapsed": false
   },
   "outputs": [
    {
     "name": "stdout",
     "output_type": "stream",
     "text": [
      "ywe\n"
     ]
    }
   ],
   "source": [
    "if a is None:\n",
    "    print(\"ywe\")"
   ]
  },
  {
   "cell_type": "markdown",
   "metadata": {},
   "source": [
    "# Slashdot data set"
   ]
  },
  {
   "cell_type": "code",
   "execution_count": 127,
   "metadata": {
    "collapsed": false
   },
   "outputs": [],
   "source": [
    "data = pd.read_csv(\"../datasets/Slashdot0811.txt\", sep='\\t', header=4)\n",
    "data = data.as_matrix()"
   ]
  },
  {
   "cell_type": "code",
   "execution_count": 128,
   "metadata": {
    "collapsed": false
   },
   "outputs": [
    {
     "data": {
      "text/plain": [
       "(905467, 2)"
      ]
     },
     "execution_count": 128,
     "metadata": {},
     "output_type": "execute_result"
    }
   ],
   "source": [
    "data.shape"
   ]
  },
  {
   "cell_type": "code",
   "execution_count": 129,
   "metadata": {
    "collapsed": true
   },
   "outputs": [],
   "source": [
    "slashdot, user_item = make_valid_data(data)"
   ]
  },
  {
   "cell_type": "code",
   "execution_count": 155,
   "metadata": {
    "collapsed": true
   },
   "outputs": [],
   "source": [
    "list_cf = [\n",
    "    rankingmethod.PopRec(user_item),\n",
    "    rankingmethod.CLiMF(user_item, K=10, reg=0.001, lrate=0.01, verbose=0, maxiter=10),\n",
    "    rankingmethod.BPR_MF(user_item, K = 20, lrate=0.001, regIpos=0.1, \n",
    "                              regIneg=0.1, regU=0.1, maxiter=30, verbose=0 ),\n",
    "    rankingmethod.iMF(user_item, K=10, lmbd=0.01, alpha=40, maxiter=30, verbose=0),\n",
    "    rankingmethod.TFMAP(user_item, reg=0.001, lrate=0.01, maxiter=12)\n",
    "    \n",
    "]\n",
    "\n",
    "list_measure = [\n",
    "    rankingmeasure.get_prec_K,\n",
    "    rankingmeasure.get_one_recal_K,\n",
    "    rankingmeasure.get_MRR,\n",
    "    rankingmeasure.get_AUC,\n",
    "    rankingmeasure.get_NDCG,\n",
    "    rankingmeasure.get_MAP\n",
    "]"
   ]
  },
  {
   "cell_type": "code",
   "execution_count": 132,
   "metadata": {
    "collapsed": true
   },
   "outputs": [],
   "source": [
    "train, test, traintest = givenK_train_test(slashdot, 5)"
   ]
  },
  {
   "cell_type": "code",
   "execution_count": 133,
   "metadata": {
    "collapsed": false
   },
   "outputs": [
    {
     "name": "stdout",
     "output_type": "stream",
     "text": [
      "precK 0.122225400458\n",
      "1-call5 0.37528604118993136\n",
      "MRR 0.273406086512\n",
      "AUC 0.776325504811\n",
      "NGDC 0.131158605935\n",
      "MAP 0.227184043669\n"
     ]
    }
   ],
   "source": [
    "poprec = rankingmethod.PopRec(user_item_slash)\n",
    "poprec.fit(train)\n",
    "top = poprec.get_list(0)[:3]\n",
    "# all_measures(train, test, poprec, True, top)\n",
    "all_measures(train, test, poprec, True)"
   ]
  },
  {
   "cell_type": "markdown",
   "metadata": {},
   "source": [
    "### givenk = 5"
   ]
  },
  {
   "cell_type": "code",
   "execution_count": 138,
   "metadata": {
    "collapsed": true
   },
   "outputs": [],
   "source": [
    "slash_ens = ensemble(list_cf, verbose=1)"
   ]
  },
  {
   "cell_type": "code",
   "execution_count": 139,
   "metadata": {
    "collapsed": false
   },
   "outputs": [
    {
     "name": "stdout",
     "output_type": "stream",
     "text": [
      "iteration 0\n",
      "iteration 1\n",
      "iteration 2\n",
      "iteration 3\n",
      "iteration 4\n"
     ]
    }
   ],
   "source": [
    "slash_ens.fit(train)"
   ]
  },
  {
   "cell_type": "code",
   "execution_count": 140,
   "metadata": {
    "collapsed": false
   },
   "outputs": [
    {
     "name": "stdout",
     "output_type": "stream",
     "text": [
      "[ 0.1222254   0.37528604  0.13115861  0.22718404]\n",
      "[ 0.12233982  0.37585812  0.13122573  0.22734037]\n",
      "[ 0.12268307  0.37585812  0.1314579   0.227249  ]\n",
      "[ 0.10420481  0.33495423  0.10975777  0.19563589]\n",
      "[ 0.12062357  0.37628719  0.12923841  0.22546283]\n"
     ]
    }
   ],
   "source": [
    "for cf in slash_ens.list_cf:\n",
    "    print(rankingmeasure.get_Kmetrics(train, test, cf, True, K = 5))"
   ]
  },
  {
   "cell_type": "code",
   "execution_count": 141,
   "metadata": {
    "collapsed": true
   },
   "outputs": [],
   "source": [
    "top_ens = top_ensemble(slash_ens.list_cf, topK=100)"
   ]
  },
  {
   "cell_type": "code",
   "execution_count": 142,
   "metadata": {
    "collapsed": false
   },
   "outputs": [
    {
     "data": {
      "text/plain": [
       "array([ 0.12402746,  0.39487986,  0.13112244,  0.23042843])"
      ]
     },
     "execution_count": 142,
     "metadata": {},
     "output_type": "execute_result"
    }
   ],
   "source": [
    "rankingmeasure.get_Kmetrics(train, test, top_ens, True, K = 5)"
   ]
  },
  {
   "cell_type": "markdown",
   "metadata": {},
   "source": [
    "### givenk = 10"
   ]
  },
  {
   "cell_type": "code",
   "execution_count": 156,
   "metadata": {
    "collapsed": true
   },
   "outputs": [],
   "source": [
    "train, test, traintest = givenK_train_test(slashdot, 10)"
   ]
  },
  {
   "cell_type": "code",
   "execution_count": 157,
   "metadata": {
    "collapsed": false
   },
   "outputs": [
    {
     "name": "stdout",
     "output_type": "stream",
     "text": [
      "iteration 0\n",
      "iteration 1\n",
      "iteration 2\n",
      "iteration 3\n",
      "iteration 4\n"
     ]
    }
   ],
   "source": [
    "slash_ens = ensemble(list_cf, verbose=1)\n",
    "slash_ens.fit(train)"
   ]
  },
  {
   "cell_type": "code",
   "execution_count": 158,
   "metadata": {
    "collapsed": false
   },
   "outputs": [
    {
     "data": {
      "text/plain": [
       "array([ 0.10918192,  0.3506865 ,  0.11928689,  0.21512741])"
      ]
     },
     "execution_count": 158,
     "metadata": {},
     "output_type": "execute_result"
    }
   ],
   "source": [
    "poprec = rankingmethod.PopRec(user_item)\n",
    "poprec.fit(train)\n",
    "top = poprec.get_list(0)[:3]\n",
    "#all_measures(train, test, poprec, True, top)\n",
    "rankingmeasure.get_Kmetrics(train, test, poprec, True, K=5)"
   ]
  },
  {
   "cell_type": "code",
   "execution_count": 159,
   "metadata": {
    "collapsed": false
   },
   "outputs": [
    {
     "name": "stdout",
     "output_type": "stream",
     "text": [
      "[ 0.10918192  0.3506865   0.11928689  0.21512741]\n",
      "[ 0.10918192  0.3506865   0.11928689  0.21512741]\n",
      "[ 0.10943936  0.35054348  0.11506516  0.2026143 ]\n",
      "[ 0.13667048  0.40789474  0.14297494  0.24199681]\n",
      "[ 0.10918192  0.3506865   0.11928901  0.21513456]\n"
     ]
    }
   ],
   "source": [
    "for cf in slash_ens.list_cf:\n",
    "    print(rankingmeasure.get_Kmetrics(train, test, cf, True, K = 5))"
   ]
  },
  {
   "cell_type": "markdown",
   "metadata": {},
   "source": [
    "### Сравнение глазками"
   ]
  },
  {
   "cell_type": "code",
   "execution_count": 162,
   "metadata": {
    "collapsed": false
   },
   "outputs": [
    {
     "name": "stdout",
     "output_type": "stream",
     "text": [
      "PopRec\n",
      "[4668  394 2481  225 8848 4690 5043 3443  377  217 5390   34 2470 3444   46]\n",
      "CLiMF\n",
      "[4668  394 2481  225 8848 4690 5043 3443  377 5390   34  217 2470   46 2539]\n",
      "BPR_MF\n",
      "[ 394 2481 4668  225 8848  217 4690  377 5043 3443   46 5390 2470   34  403]\n",
      "iMF\n",
      "[2481 4668  143  151  205   15 4845   59 3369 3947 4979  186  400 5367 3083]\n",
      "TFMAP\n",
      "[4668  394 2481  225 8848 4690 5043 3443  377 3444  403  217 5390 5705 7450]\n"
     ]
    }
   ],
   "source": [
    "for cf in slash_ens.list_cf:\n",
    "    print(type(cf).__name__)\n",
    "    print(cf.get_list(0)[:15])"
   ]
  },
  {
   "cell_type": "code",
   "execution_count": 150,
   "metadata": {
    "collapsed": false
   },
   "outputs": [
    {
     "data": {
      "text/plain": [
       "array([ 0.15946796,  0.51001144,  0.16663805,  0.29156159])"
      ]
     },
     "execution_count": 150,
     "metadata": {},
     "output_type": "execute_result"
    }
   ],
   "source": [
    "rankingmeasure.get_Kmetrics(train, test, top_ens, True, K = 5)"
   ]
  },
  {
   "cell_type": "markdown",
   "metadata": {},
   "source": [
    "# старые эксперименты"
   ]
  },
  {
   "cell_type": "code",
   "execution_count": null,
   "metadata": {
    "collapsed": false
   },
   "outputs": [],
   "source": [
    "a = np.arange(10)\n",
    "b = a[1:4]\n",
    "print(a)\n",
    "print(b)\n",
    "b[2] = 100\n",
    "a[1] = -a[1]\n",
    "print(a)\n",
    "print(b)"
   ]
  },
  {
   "cell_type": "code",
   "execution_count": null,
   "metadata": {
    "collapsed": false
   },
   "outputs": [],
   "source": [
    "tmp = mmread(\"../datasets/epinions_original/EP25_UPL5_test.mtx\")\n",
    "test = np.array(list(zip(tmp.row, tmp.col)))\n",
    "tmp = mmread(\"../datasets/epinions_original/EP25_UPL5_train.mtx\")\n",
    "train = np.array(list(zip(tmp.row, tmp.col)))\n",
    "user_item = [max(np.max(test[:,0]), np.max(train[:, 0])) + 1, max(np.max(test[:,1]), np.max(train[:,1])) + 1]"
   ]
  },
  {
   "cell_type": "code",
   "execution_count": null,
   "metadata": {
    "collapsed": false
   },
   "outputs": [],
   "source": [
    "train = create_listarray(train)\n",
    "test  = create_listarray(test)"
   ]
  },
  {
   "cell_type": "code",
   "execution_count": null,
   "metadata": {
    "collapsed": true
   },
   "outputs": [],
   "source": [
    "create_csr(train, user_item, '../pyCLiMF-master/good_train.pickle')\n",
    "create_csr(test, user_item, '../pyCLiMF-master/good_test.pickle')"
   ]
  },
  {
   "cell_type": "code",
   "execution_count": null,
   "metadata": {
    "collapsed": false
   },
   "outputs": [],
   "source": [
    "randomrec = rankingmethod.RandomRec(user_item)\n",
    "randomrec.fit(train)\n",
    "all_measures(train, test, randomrec, False)"
   ]
  },
  {
   "cell_type": "code",
   "execution_count": null,
   "metadata": {
    "collapsed": false
   },
   "outputs": [],
   "source": [
    "poprec = rankingmethod.PopRec(user_item)\n",
    "poprec.fit(train)\n",
    "top = poprec.get_list(0)[:3]\n",
    "# all_measures(train, test, poprec, True, top)\n",
    "# all_measures(train, test, poprec, True)"
   ]
  },
  {
   "cell_type": "code",
   "execution_count": null,
   "metadata": {
    "collapsed": false
   },
   "outputs": [],
   "source": [
    "rankingmeasure.get_AUC(train, test, poprec, True, K=user_item[1])"
   ]
  },
  {
   "cell_type": "code",
   "execution_count": null,
   "metadata": {
    "collapsed": false
   },
   "outputs": [],
   "source": [
    "rankingmeasure.get_NDCG(train, test, poprec, True, K = 5)"
   ]
  },
  {
   "cell_type": "code",
   "execution_count": null,
   "metadata": {
    "collapsed": false
   },
   "outputs": [],
   "source": [
    "rankingmeasure.get_NDCG(train, test, poprec, True, K = 3)"
   ]
  },
  {
   "cell_type": "code",
   "execution_count": null,
   "metadata": {
    "collapsed": false
   },
   "outputs": [],
   "source": [
    "index_user = np.random.choice(len(train), 100, replace=False)\n"
   ]
  },
  {
   "cell_type": "code",
   "execution_count": null,
   "metadata": {
    "collapsed": false
   },
   "outputs": [],
   "source": [
    "orig_train = create_original_sample(train, index_user)\n",
    "orig_test = create_original_sample(test, index_user)"
   ]
  },
  {
   "cell_type": "code",
   "execution_count": null,
   "metadata": {
    "collapsed": false
   },
   "outputs": [],
   "source": [
    "climf = rankingmethod.CLiMF(user_item, lrate = 0.0001, reg=0.001, maxiter=15, verbose=2)\n",
    "climf.fit(train)"
   ]
  },
  {
   "cell_type": "code",
   "execution_count": null,
   "metadata": {
    "collapsed": false
   },
   "outputs": [],
   "source": [
    "rankingmeasure.get_MRR(train, test, climf, True)"
   ]
  },
  {
   "cell_type": "code",
   "execution_count": null,
   "metadata": {
    "collapsed": false
   },
   "outputs": [],
   "source": [
    "all_measures(train, test, climf, True, top)"
   ]
  },
  {
   "cell_type": "code",
   "execution_count": null,
   "metadata": {
    "collapsed": false
   },
   "outputs": [],
   "source": [
    "all_measures(train, test, climf, True)"
   ]
  },
  {
   "cell_type": "code",
   "execution_count": null,
   "metadata": {
    "collapsed": false
   },
   "outputs": [],
   "source": [
    "climf = rankingmethod.CLiMF(user_item, maxiter=40, lrate = 0.1, verbose=2)\n",
    "climf.fit(train)\n"
   ]
  },
  {
   "cell_type": "code",
   "execution_count": null,
   "metadata": {
    "collapsed": false
   },
   "outputs": [],
   "source": [
    "all_measures(train, test, climf, False)"
   ]
  },
  {
   "cell_type": "code",
   "execution_count": null,
   "metadata": {
    "collapsed": false
   },
   "outputs": [],
   "source": [
    "all_measures(train, test, climf, True, top)"
   ]
  },
  {
   "cell_type": "code",
   "execution_count": null,
   "metadata": {
    "collapsed": false
   },
   "outputs": [],
   "source": [
    "list_reg = [0.001, 0.002, 0.005, 0.0005]\n",
    "list_lrate = [0.05, 0.07, 0.1, 0.12, 0.15 ]\n",
    "list_K = [10, 12, 15, 7, 5]\n",
    "times_count = 3\n",
    "\n",
    "for K, lrate, reg in itertools.product(list_K, list_lrate, list_reg):\n",
    "    MRR = 0\n",
    "    \n",
    "    for t in range(times_count):\n",
    "        climf = rankingmethod.CLiMF(user_item,K=K, reg=reg, lrate=lrate, verbose=0, maxiter=50)\n",
    "        climf.fit(train)\n",
    "        MRR += rankingmeasure.get_MRR(train, test, climf, skip_train=False)\n",
    "    print(\"K\", K, \"lrate\", lrate, \"reg\", reg, \"MRR\", MRR/times_count)\n",
    "    sys.stdout.flush()"
   ]
  },
  {
   "cell_type": "code",
   "execution_count": null,
   "metadata": {
    "collapsed": false
   },
   "outputs": [],
   "source": [
    "bpr_mf = rankingmethod.BPR_MF(user_item, K = 20, lrate=0.001, regIpos=0.1, \n",
    "                              regIneg=0.1, regU=0.1, maxiter=30, verbose=2 )"
   ]
  },
  {
   "cell_type": "code",
   "execution_count": null,
   "metadata": {
    "collapsed": false
   },
   "outputs": [],
   "source": [
    "bpr_mf.fit(train)"
   ]
  },
  {
   "cell_type": "code",
   "execution_count": null,
   "metadata": {
    "collapsed": false
   },
   "outputs": [],
   "source": [
    "all_measures(train, test, bpr_mf, True)"
   ]
  },
  {
   "cell_type": "code",
   "execution_count": null,
   "metadata": {
    "collapsed": false
   },
   "outputs": [],
   "source": [
    "rankingmeasure.get_AUC(train, test, bpr_mf, True, K=user_item[1])"
   ]
  },
  {
   "cell_type": "code",
   "execution_count": null,
   "metadata": {
    "collapsed": false
   },
   "outputs": [],
   "source": [
    "rankingmeasure.get_NDCG(train, test, bpr_mf, True, K=5)"
   ]
  },
  {
   "cell_type": "code",
   "execution_count": null,
   "metadata": {
    "collapsed": true
   },
   "outputs": [],
   "source": [
    "imf = rankingmethod.iMF(user_item, K=20, lmbd=0.01, alpha=40, maxiter=30, verbose=2)"
   ]
  },
  {
   "cell_type": "code",
   "execution_count": null,
   "metadata": {
    "collapsed": false
   },
   "outputs": [],
   "source": [
    "imf.fit(train)"
   ]
  },
  {
   "cell_type": "code",
   "execution_count": null,
   "metadata": {
    "collapsed": false
   },
   "outputs": [],
   "source": [
    "all_measures(train, test, imf, True)"
   ]
  },
  {
   "cell_type": "code",
   "execution_count": null,
   "metadata": {
    "collapsed": false
   },
   "outputs": [],
   "source": [
    "all_measures(train, test, imf, True, top)"
   ]
  },
  {
   "cell_type": "code",
   "execution_count": null,
   "metadata": {
    "collapsed": false
   },
   "outputs": [],
   "source": [
    "all_measures(train, test, bpr_mf, True, top)"
   ]
  },
  {
   "cell_type": "code",
   "execution_count": null,
   "metadata": {
    "collapsed": false
   },
   "outputs": [],
   "source": [
    "all_measures(train, test, poprec, True)"
   ]
  },
  {
   "cell_type": "code",
   "execution_count": null,
   "metadata": {
    "collapsed": false
   },
   "outputs": [],
   "source": [
    "all_measures(train, test, poprec, True, top)"
   ]
  },
  {
   "cell_type": "code",
   "execution_count": null,
   "metadata": {
    "collapsed": false
   },
   "outputs": [],
   "source": [
    "from sklearn.metrics import roc_auc_score"
   ]
  },
  {
   "cell_type": "code",
   "execution_count": null,
   "metadata": {
    "collapsed": false
   },
   "outputs": [],
   "source": [
    "a = np.array([False,False, True, True])\n",
    "b = np.array([0,2,1,3])\n",
    "print(roc_auc_score(a, b, average=None))"
   ]
  },
  {
   "cell_type": "code",
   "execution_count": null,
   "metadata": {
    "collapsed": false
   },
   "outputs": [],
   "source": [
    "(a == True).any()"
   ]
  },
  {
   "cell_type": "code",
   "execution_count": null,
   "metadata": {
    "collapsed": false
   },
   "outputs": [],
   "source": [
    "import random"
   ]
  },
  {
   "cell_type": "code",
   "execution_count": null,
   "metadata": {
    "collapsed": false
   },
   "outputs": [],
   "source": [
    "random.sample(range(10), 3)"
   ]
  }
 ],
 "metadata": {
  "kernelspec": {
   "display_name": "Python 3",
   "language": "python",
   "name": "python3"
  },
  "language_info": {
   "codemirror_mode": {
    "name": "ipython",
    "version": 3
   },
   "file_extension": ".py",
   "mimetype": "text/x-python",
   "name": "python",
   "nbconvert_exporter": "python",
   "pygments_lexer": "ipython3",
   "version": "3.4.3"
  }
 },
 "nbformat": 4,
 "nbformat_minor": 0
}
