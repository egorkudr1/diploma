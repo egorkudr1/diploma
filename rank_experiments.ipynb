{
 "cells": [
  {
   "cell_type": "code",
   "execution_count": 1,
   "metadata": {
    "collapsed": false
   },
   "outputs": [
    {
     "name": "stderr",
     "output_type": "stream",
     "text": [
      "/usr/local/lib/python3.4/dist-packages/matplotlib/backends/backend_gtk3agg.py:18: UserWarning: The Gtk3Agg backend is known to not work on Python 3.x with pycairo. Try installing cairocffi.\n",
      "  \"The Gtk3Agg backend is known to not work on Python 3.x with pycairo. \"\n"
     ]
    }
   ],
   "source": [
    "import numpy as np\n",
    "import pandas as pd\n",
    "from scipy.io import loadmat, mmread\n",
    "import sys\n",
    "import itertools \n",
    "import pickle\n",
    "import matplotlib.pylab as plt\n",
    "import time"
   ]
  },
  {
   "cell_type": "code",
   "execution_count": 2,
   "metadata": {
    "collapsed": true
   },
   "outputs": [],
   "source": [
    "%matplotlib inline"
   ]
  },
  {
   "cell_type": "code",
   "execution_count": 3,
   "metadata": {
    "collapsed": false
   },
   "outputs": [],
   "source": [
    "import rankingmethod\n",
    "import rankingmeasure"
   ]
  },
  {
   "cell_type": "code",
   "execution_count": 4,
   "metadata": {
    "collapsed": false
   },
   "outputs": [],
   "source": [
    "%load_ext autoreload\n",
    "%autoreload 2"
   ]
  },
  {
   "cell_type": "code",
   "execution_count": 5,
   "metadata": {
    "collapsed": true
   },
   "outputs": [],
   "source": [
    "from experiment import *"
   ]
  },
  {
   "cell_type": "markdown",
   "metadata": {},
   "source": [
    "# Epinion"
   ]
  },
  {
   "cell_type": "code",
   "execution_count": 163,
   "metadata": {
    "collapsed": false
   },
   "outputs": [],
   "source": [
    "data = pd.read_csv(\"../datasets/soc-Epinions1.txt\", sep='\\t', header=4)\n",
    "data = data.as_matrix()"
   ]
  },
  {
   "cell_type": "code",
   "execution_count": 164,
   "metadata": {
    "collapsed": false
   },
   "outputs": [
    {
     "data": {
      "text/plain": [
       "(508836, 2)"
      ]
     },
     "execution_count": 164,
     "metadata": {},
     "output_type": "execute_result"
    }
   ],
   "source": [
    "data.shape"
   ]
  },
  {
   "cell_type": "code",
   "execution_count": null,
   "metadata": {
    "collapsed": true
   },
   "outputs": [],
   "source": [
    "#создание epinion удалив от туда пользователей, у которых количество отзывов меньше 25\n",
    "#Также проводится переиндексанция пользователей и предметов"
   ]
  },
  {
   "cell_type": "code",
   "execution_count": 165,
   "metadata": {
    "collapsed": false
   },
   "outputs": [],
   "source": [
    "epinion, user_item = make_valid_data(data)"
   ]
  },
  {
   "cell_type": "code",
   "execution_count": 166,
   "metadata": {
    "collapsed": false
   },
   "outputs": [],
   "source": [
    "train, test, traintest = givenK_train_test(epinion, 5)"
   ]
  },
  {
   "cell_type": "markdown",
   "metadata": {},
   "source": [
    "### изучение числа предметов у пользователей"
   ]
  },
  {
   "cell_type": "code",
   "execution_count": null,
   "metadata": {
    "collapsed": false
   },
   "outputs": [],
   "source": [
    "avr_len = 0\n",
    "max_len = 0\n",
    "for items in traintest:\n",
    "    avr_len += len(items)\n",
    "    max_len = max(len(items), max_len)\n",
    "avr_len /= len(traintest)\n",
    "print(avr_len)\n",
    "print(max_len)"
   ]
  },
  {
   "cell_type": "code",
   "execution_count": null,
   "metadata": {
    "collapsed": false
   },
   "outputs": [],
   "source": [
    "list_len = []\n",
    "for items in traintest:\n",
    "    list_len.append(len(items))\n",
    "list_len = np.array(list_len)"
   ]
  },
  {
   "cell_type": "code",
   "execution_count": null,
   "metadata": {
    "collapsed": false
   },
   "outputs": [],
   "source": [
    "np.sum(list_len > 1200)"
   ]
  },
  {
   "cell_type": "code",
   "execution_count": null,
   "metadata": {
    "collapsed": false
   },
   "outputs": [],
   "source": [
    "plt.hist(list_len, bins = 30)"
   ]
  },
  {
   "cell_type": "code",
   "execution_count": null,
   "metadata": {
    "collapsed": true
   },
   "outputs": [],
   "source": [
    "number_user_in_items = np.bincount(epinion[:, 1])"
   ]
  },
  {
   "cell_type": "code",
   "execution_count": null,
   "metadata": {
    "collapsed": false
   },
   "outputs": [],
   "source": [
    "plt.hist(np.bincount(epinion[:, 1]))"
   ]
  },
  {
   "cell_type": "markdown",
   "metadata": {},
   "source": [
    "### подбор параметров для отдельных алгоритмов"
   ]
  },
  {
   "cell_type": "code",
   "execution_count": 171,
   "metadata": {
    "collapsed": false
   },
   "outputs": [
    {
     "name": "stdout",
     "output_type": "stream",
     "text": [
      "precK 0.196140749149\n",
      "1-call5 0.5450624290578887\n",
      "MRR 0.43349859161318177\n",
      "AUC 0.830814527263\n",
      "NGDC 0.220471514408\n",
      "MAP 0.377784399041\n"
     ]
    }
   ],
   "source": [
    "poprec = rankingmethod.PopRec(user_item)\n",
    "poprec.fit(train)\n",
    "top = poprec.get_list(0)[:3]\n",
    "# all_measures(train, test, poprec, True, top)\n",
    "all_measures(train, test, poprec, True)"
   ]
  },
  {
   "cell_type": "code",
   "execution_count": null,
   "metadata": {
    "collapsed": true
   },
   "outputs": [],
   "source": [
    "###CLimf подбор параметров(не используя фичу авторов)"
   ]
  },
  {
   "cell_type": "code",
   "execution_count": null,
   "metadata": {
    "collapsed": false
   },
   "outputs": [],
   "source": [
    "list_reg = [0.001, 0.05, 0.01, 0.005 , 0.001]\n",
    "list_lrate = [0.01, 0.0001, 0.005, 0.01, 0.05, 0.1 ]\n",
    "list_K = [10, 5, 7, 12, 15]\n",
    "\n",
    "climf_validation = np.zeros((len(list_reg), len(list_lrate), len(list_K)))\n",
    "\n",
    "for i, K in enumerate(list_K):\n",
    "    for j, lrate in enumerate(list_lrate):\n",
    "        for m, reg in enumerate(list_reg):\n",
    "            climf = rankingmethod.CLiMF(user_item,K=K, reg=reg, lrate=lrate, verbose=0, maxiter=10)\n",
    "            climf.fit(train)\n",
    "            mrr = rankingmeasure.get_MRR(train, test, \n",
    "            climf, skip_train=False)\n",
    "            climf_validation[i,j,m] = mrr\n",
    "            print(K, lrate, reg, \"MRR\", mrr)\n",
    "            sys.stdout.flush()"
   ]
  },
  {
   "cell_type": "markdown",
   "metadata": {},
   "source": [
    "###проверка работы авторского решения"
   ]
  },
  {
   "cell_type": "code",
   "execution_count": null,
   "metadata": {
    "collapsed": false
   },
   "outputs": [],
   "source": [
    "create_csr(train, user_item, 'another_train.mtx')\n",
    "create_csr(test, user_item, 'another_test.mtx')"
   ]
  },
  {
   "cell_type": "markdown",
   "metadata": {},
   "source": [
    "###BPR_MF Подбор параметров"
   ]
  },
  {
   "cell_type": "code",
   "execution_count": null,
   "metadata": {
    "collapsed": false
   },
   "outputs": [],
   "source": [
    "list_reg = [0.01, 0.05, 0.1, 0.2]\n",
    "list_lrate = [0.0001, 0.001, 0.005]\n",
    "list_K = [10, 15,  20]\n",
    "\n",
    "bpr_mf_validation = np.zeros((len(list_K), len(list_lrate), len(list_reg)))\n",
    "\n",
    "for i, K in enumerate(list_K):\n",
    "    for j, lrate in enumerate(list_lrate):\n",
    "        for m, reg in enumerate(list_reg):\n",
    "            cf = rankingmethod.BPR_MF(user_item,K=K, regU=reg, regIpos=reg, regIneg=reg, \n",
    "                                      lrate=lrate, verbose=0, maxiter=30)\n",
    "            cf.fit(train)\n",
    "            res = rankingmeasure.get_AUC(train, test, cf)\n",
    "            bpr_mf_validation[i,j,m] = res\n",
    "            print(K, lrate, reg, \"AUC\", res)\n",
    "            sys.stdout.flush()"
   ]
  },
  {
   "cell_type": "code",
   "execution_count": null,
   "metadata": {
    "collapsed": true
   },
   "outputs": [],
   "source": [
    "with open('bpr_mf_validation.pickle', 'wb') as f:\n",
    "    f.dump(bpr_mf_validation, f)"
   ]
  },
  {
   "cell_type": "markdown",
   "metadata": {},
   "source": [
    "###iMF Подбор  параметров"
   ]
  },
  {
   "cell_type": "code",
   "execution_count": null,
   "metadata": {
    "collapsed": false
   },
   "outputs": [],
   "source": [
    "list_alpha = [10, 20, 40, 80]\n",
    "list_lmbd = [0.001, 0.01, 0.05, 0.1]\n",
    "list_K = [10, 15,  20]\n",
    "\n",
    "imf_validation = np.zeros((len(list_K), len(list_alpha), len(list_lmbd)))\n",
    "\n",
    "for i, K in enumerate(list_K):\n",
    "    for j, alpha in enumerate(list_alpha):\n",
    "        for m, lmbd in enumerate(list_lmbd):\n",
    "            cf = rankingmethod.iMF(user_item, K=K, lmbd=lmbd, alpha=alpha, maxiter=30, verbose=0)\n",
    "            cf.fit(train)\n",
    "            mrr = rankingmeasure.get_prec_K(train, test, cf)\n",
    "            imf_validation[i,j,m] = mrr\n",
    "            print(K, lrate, reg, \"prec\", mrr)\n",
    "            sys.stdout.flush()"
   ]
  },
  {
   "cell_type": "markdown",
   "metadata": {},
   "source": [
    "### TFMAP"
   ]
  },
  {
   "cell_type": "code",
   "execution_count": 103,
   "metadata": {
    "collapsed": false
   },
   "outputs": [
    {
     "name": "stdout",
     "output_type": "stream",
     "text": [
      "iteration 0\n",
      "iteration 1\n",
      "iteration 2\n",
      "iteration 3\n",
      "iteration 4\n",
      "iteration 5\n",
      "iteration 6\n",
      "iteration 7\n",
      "iteration 8\n",
      "iteration 9\n",
      "iteration 10\n",
      "iteration 11\n"
     ]
    }
   ],
   "source": [
    "cf = rankingmethod.TFMAP(user_item, lrate=0.01, verbose = 1, maxiter=12)\n",
    "cf.fit(train)"
   ]
  },
  {
   "cell_type": "code",
   "execution_count": 102,
   "metadata": {
    "collapsed": false
   },
   "outputs": [
    {
     "name": "stdout",
     "output_type": "stream",
     "text": [
      "precK 0.180930760499\n",
      "1-call5 0.5402951191827469\n",
      "MRR 0.42529711390083835\n",
      "AUC 0.630444505232\n",
      "NGDC 0.207541948703\n",
      "MAP 0.373795875899\n"
     ]
    }
   ],
   "source": [
    "all_measures(train, test, cf)"
   ]
  },
  {
   "cell_type": "code",
   "execution_count": 105,
   "metadata": {
    "collapsed": false
   },
   "outputs": [
    {
     "data": {
      "text/plain": [
       "array([ 4405, 34777])"
      ]
     },
     "execution_count": 105,
     "metadata": {},
     "output_type": "execute_result"
    }
   ],
   "source": [
    "user_item"
   ]
  },
  {
   "cell_type": "markdown",
   "metadata": {},
   "source": [
    "### pureSVD"
   ]
  },
  {
   "cell_type": "code",
   "execution_count": 143,
   "metadata": {
    "collapsed": true
   },
   "outputs": [],
   "source": [
    "cf = rankingmethod.pureSVD(user_item,  rate_neg_sample=1000.0, verbose=1)\n"
   ]
  },
  {
   "cell_type": "code",
   "execution_count": null,
   "metadata": {
    "collapsed": false
   },
   "outputs": [],
   "source": [
    "cf.fit(train)"
   ]
  },
  {
   "cell_type": "code",
   "execution_count": 142,
   "metadata": {
    "collapsed": false
   },
   "outputs": [
    {
     "name": "stdout",
     "output_type": "stream",
     "text": [
      "precK 0.00690124858116\n",
      "1-call5 0.027695800227014757\n",
      "MRR 0.030906862455593657\n",
      "AUC 0.806544835437\n",
      "NGDC 0.0059649372233\n",
      "MAP 0.0101226510279\n"
     ]
    }
   ],
   "source": [
    "all_measures(train, test, cf)"
   ]
  },
  {
   "cell_type": "code",
   "execution_count": 139,
   "metadata": {
    "collapsed": false
   },
   "outputs": [
    {
     "name": "stdout",
     "output_type": "stream",
     "text": [
      "precK 0.00989784335982\n",
      "1-call5 0.038138479001135074\n",
      "MRR 0.03823556637728849\n",
      "AUC 0.805579474585\n",
      "NGDC 0.0104280871446\n",
      "MAP 0.0212220961029\n"
     ]
    }
   ],
   "source": [
    "all_measures(train, test, cf)"
   ]
  },
  {
   "cell_type": "markdown",
   "metadata": {},
   "source": [
    "## Проведение такого же эксперимента, как у создатей CLiMF"
   ]
  },
  {
   "cell_type": "code",
   "execution_count": null,
   "metadata": {
    "collapsed": false
   },
   "outputs": [],
   "source": [
    "def climf_experiment(data, list_cf, list_measure, K, maxiter, top=None):\n",
    "    res = np.zeros((len(list_measure), len(list_cf)))\n",
    "    for t in range(maxiter):\n",
    "        start_time = time.time()\n",
    "        train, test, traintest = givenK_train_test(epinion, K)\n",
    "        print('create test and train', time.time() - start_time)\n",
    "        for i, cf in enumerate(list_cf):\n",
    "            start_time = time.time()\n",
    "            cf.fit(train)\n",
    "            print('fit method', time.time() - start_time)\n",
    "            for j, measure in enumerate(list_measure):\n",
    "                start_time = time.time()\n",
    "                res[j, i] += measure(train, test, cf, top=top)\n",
    "                print('get measure', time.time() - start_time)\n",
    "            print(t, i, res[:, i] / (t + 1))\n",
    "            sys.stdout.flush()\n",
    "    res /= K\n",
    "    return res"
   ]
  },
  {
   "cell_type": "code",
   "execution_count": null,
   "metadata": {
    "collapsed": false
   },
   "outputs": [],
   "source": [
    "climf_experiment(epinion, list_cf, list_measure, 5, 1, None)"
   ]
  },
  {
   "cell_type": "code",
   "execution_count": 172,
   "metadata": {
    "collapsed": false
   },
   "outputs": [],
   "source": [
    "list_cf = [\n",
    "    rankingmethod.PopRec(user_item),\n",
    "    rankingmethod.CLiMF(user_item, K=10, reg=0.001, lrate=0.01, verbose=0, maxiter=10),\n",
    "    rankingmethod.BPR_MF(user_item, K = 20, lrate=0.001, regIpos=0.1, \n",
    "                              regIneg=0.1, regU=0.1, maxiter=30, verbose=0 ),\n",
    "    rankingmethod.iMF(user_item, K=10, lmbd=0.01, alpha=40, maxiter=30, verbose=0),\n",
    "    rankingmethod.TFMAP(user_item, lrate=0.01, maxiter=12)\n",
    "    \n",
    "]\n",
    "\n",
    "list_measure = [\n",
    "    rankingmeasure.get_prec_K,\n",
    "    rankingmeasure.get_one_recal_K,\n",
    "    rankingmeasure.get_MRR,\n",
    "    rankingmeasure.get_AUC,\n",
    "    rankingmeasure.get_NDCG,\n",
    "    rankingmeasure.get_MAP\n",
    "]"
   ]
  },
  {
   "cell_type": "code",
   "execution_count": null,
   "metadata": {
    "collapsed": false
   },
   "outputs": [],
   "source": [
    "res5 = climf_experiment(epinion, list_cf, list_measure, 5, 5, None)"
   ]
  },
  {
   "cell_type": "code",
   "execution_count": null,
   "metadata": {
    "collapsed": false
   },
   "outputs": [],
   "source": [
    "for i in range(5, 21, 5):\n",
    "    res = climf_experiment(epinion, list_cf, list_measure, i, 5, None)\n",
    "    with open('climf_res' + str(i) +'.pickle', 'wb') as f:\n",
    "        pickle.dump(res, f)\n",
    "    res = climf_experiment(epinion, list_cf, list_measure, i, 5, top)\n",
    "    with open('climf_res_top' + str(i) + '.pickle', 'wb') as f:\n",
    "        pickle.dump(res, f)"
   ]
  },
  {
   "cell_type": "code",
   "execution_count": null,
   "metadata": {
    "collapsed": false
   },
   "outputs": [],
   "source": [
    "def show_smart_table(data):\n",
    "    name_measure = ['precK', '1-recalK', 'MRR', 'AUC', 'NDCG']\n",
    "    ans = pd.DataFrame()\n",
    "    ans['measures'] = name_measure\n",
    "    ans['PopRec'] = data[:, 0]\n",
    "    ans['CLiMF'] = data[:, 1]\n",
    "    ans['BRP_MP'] = data[:, 2]\n",
    "    ans['iMF'] = data[:, 3]\n",
    "    print(ans)"
   ]
  },
  {
   "cell_type": "code",
   "execution_count": null,
   "metadata": {
    "collapsed": false,
    "scrolled": true
   },
   "outputs": [],
   "source": [
    "for i in range(5, 21, 5):\n",
    "    with open('climf_res' + str(i) +'.pickle', 'rb') as f:\n",
    "        tbl = pickle.load(f)\n",
    "    print('---------')\n",
    "    print('K =', i)\n",
    "    show_smart_table(tbl)\n",
    "    with open('climf_res_top' + str(i) + '.pickle', 'rb') as f:\n",
    "        tbl = pickle.load(f)\n",
    "    print('---------')\n",
    "    print('K =', i, 'without top')\n",
    "    show_smart_table(tbl)"
   ]
  },
  {
   "cell_type": "code",
   "execution_count": null,
   "metadata": {
    "collapsed": false
   },
   "outputs": [],
   "source": [
    "show_smart_table(res5)"
   ]
  },
  {
   "cell_type": "markdown",
   "metadata": {},
   "source": [
    "### Сравнение работы методов"
   ]
  },
  {
   "cell_type": "code",
   "execution_count": 173,
   "metadata": {
    "collapsed": false
   },
   "outputs": [],
   "source": [
    "import copy\n",
    "import sys\n",
    "class ensemble:\n",
    "    def __init__(self, list_cf, verbose=0):\n",
    "        self.list_cf = copy.deepcopy(list_cf)\n",
    "        self.verbose = verbose\n",
    "    \n",
    "    \n",
    "    def fit(self, data):\n",
    "        for i in range(len(self.list_cf)):\n",
    "            self.list_cf[i].fit(data)\n",
    "            if self.verbose == 1:\n",
    "                print(\"iteration\", i)\n",
    "                sys.stdout.flush()\n",
    "    \n",
    "    \n",
    "    def show_all_ulist(self, u, topK=5):\n",
    "        for i in range(len(self.list_cf)):\n",
    "            print(type(self.list_cf[i]).__name__, self.list_cf[i].get_list(u)[:topK])\n",
    "\n",
    "            \n",
    "def matrix_similar(self, u, topK=5):\n",
    "    res = []\n",
    "    for i in range(len(self.list_cf)):\n",
    "        res.append(self.list_cf[i].get_list(u)[:topK])\n",
    "    \n",
    "    ans = np.zeros((len(res), len(res)))\n",
    "#     print(res)\n",
    "    for i in range(ans.shape[0]):\n",
    "        for j in range(i + 1, ans.shape[1]):\n",
    "#             print(res[i])\n",
    "#             print(res[j])\n",
    "            ans[i, j] = np.mean(np.in1d(res[i], res[j]))\n",
    "            ans[j, i] = ans[i, j]\n",
    "    return ans\n",
    "\n",
    "\n",
    "def mean_matrix_similar(self, topK=5):\n",
    "    N_users = self.list_cf[0].N_users\n",
    "    for u in range(N_users):\n",
    "        if u == 0:\n",
    "            ans = matrix_similar(self, u, topK)\n",
    "        else:\n",
    "            ans += matrix_similar(self, u, topK)\n",
    "    ans /= N_users\n",
    "    return ans"
   ]
  },
  {
   "cell_type": "code",
   "execution_count": 174,
   "metadata": {
    "collapsed": false
   },
   "outputs": [],
   "source": [
    "ens = ensemble(list_cf, verbose=1)"
   ]
  },
  {
   "cell_type": "code",
   "execution_count": null,
   "metadata": {
    "collapsed": false
   },
   "outputs": [
    {
     "name": "stdout",
     "output_type": "stream",
     "text": [
      "iteration 0\n",
      "iteration 1\n"
     ]
    }
   ],
   "source": [
    "ens.fit(train)"
   ]
  },
  {
   "cell_type": "code",
   "execution_count": 88,
   "metadata": {
    "collapsed": false
   },
   "outputs": [
    {
     "data": {
      "text/plain": [
       "array([[ 0.        ,  0.80068104,  0.99350738,  0.15718502,  0.96286039],\n",
       "       [ 0.80068104,  0.        ,  0.80485812,  0.15582293,  0.80190692],\n",
       "       [ 0.99350738,  0.80485812,  0.        ,  0.15741203,  0.95750284],\n",
       "       [ 0.15718502,  0.15582293,  0.15741203,  0.        ,  0.15723042],\n",
       "       [ 0.96286039,  0.80190692,  0.95750284,  0.15723042,  0.        ]])"
      ]
     },
     "execution_count": 88,
     "metadata": {},
     "output_type": "execute_result"
    }
   ],
   "source": [
    "mean_matrix_similar(ens, topK=5)"
   ]
  },
  {
   "cell_type": "code",
   "execution_count": 89,
   "metadata": {
    "collapsed": false
   },
   "outputs": [
    {
     "data": {
      "text/plain": [
       "array([[ 0.        ,  0.90338252,  0.99920545,  0.18208854,  0.64785471],\n",
       "       [ 0.90338252,  0.        ,  0.9030874 ,  0.18256527,  0.67334847],\n",
       "       [ 0.99920545,  0.9030874 ,  0.        ,  0.18213394,  0.64735528],\n",
       "       [ 0.18208854,  0.18256527,  0.18213394,  0.        ,  0.17053348],\n",
       "       [ 0.64785471,  0.67334847,  0.64735528,  0.17053348,  0.        ]])"
      ]
     },
     "execution_count": 89,
     "metadata": {},
     "output_type": "execute_result"
    }
   ],
   "source": [
    "mean_matrix_similar(ens, topK=10)"
   ]
  },
  {
   "cell_type": "markdown",
   "metadata": {},
   "source": [
    "### Построение ансамбля"
   ]
  },
  {
   "cell_type": "code",
   "execution_count": 131,
   "metadata": {
    "collapsed": true
   },
   "outputs": [],
   "source": [
    "import copy\n",
    "import sys\n",
    "class top_ensemble:\n",
    "    def __init__(self, list_cf, verbose=0):\n",
    "        self.list_cf = copy.deepcopy(list_cf)\n",
    "        self.verbose = verbose\n",
    "    \n",
    "    \n",
    "    def fit(self, data):\n",
    "        for i in range(len(self.list_cf)):\n",
    "            self.list_cf[i].fit(data)\n",
    "            if self.verbose == 1:\n",
    "                print(\"iteration\", i)\n",
    "                sys.stdout.flush()\n",
    "    \n",
    "    \n",
    "    def get_list(self, u):\n",
    "        N_items = self.list_cf[1].N_items\n",
    "        N_methods = len(self.list_cf)\n",
    "        res = np.zeros((N_methods, N_items))\n",
    "        for i in range(N_methods):\n",
    "            res[i] = list_cf[i].get_list(u)\n",
    "        \n",
    "        total_res = res.T.ravel()\n",
    "        ans = []\n",
    "        for elem in total_res:\n",
    "            if elem not in ans:\n",
    "                ans.append(elem)\n",
    "            if len(ans) == N_items:\n",
    "                break\n",
    "        return ans\n",
    "    "
   ]
  },
  {
   "cell_type": "code",
   "execution_count": 154,
   "metadata": {
    "collapsed": false
   },
   "outputs": [
    {
     "name": "stdout",
     "output_type": "stream",
     "text": [
      "(34631,)\n",
      "(34777,)\n",
      "(34777,)\n",
      "(34777,)\n",
      "(34777,)\n"
     ]
    }
   ],
   "source": [
    "for i in range(5):\n",
    "    print(.shape)"
   ]
  },
  {
   "cell_type": "code",
   "execution_count": 169,
   "metadata": {
    "collapsed": false
   },
   "outputs": [
    {
     "data": {
      "text/plain": [
       "(34514,)"
      ]
     },
     "execution_count": 169,
     "metadata": {},
     "output_type": "execute_result"
    }
   ],
   "source": [
    "np.unique(poprec.get_list(0)).shape"
   ]
  },
  {
   "cell_type": "code",
   "execution_count": 132,
   "metadata": {
    "collapsed": true
   },
   "outputs": [],
   "source": [
    "ens = top_ensemble(list_cf[:2], verbose=1)"
   ]
  },
  {
   "cell_type": "code",
   "execution_count": 133,
   "metadata": {
    "collapsed": false
   },
   "outputs": [
    {
     "name": "stdout",
     "output_type": "stream",
     "text": [
      "iteration 0\n",
      "iteration 1\n"
     ]
    }
   ],
   "source": [
    "top_ens.fit(train)"
   ]
  },
  {
   "cell_type": "code",
   "execution_count": 134,
   "metadata": {
    "collapsed": false
   },
   "outputs": [
    {
     "ename": "ValueError",
     "evalue": "could not broadcast input array from shape (75888) into shape (34777)",
     "output_type": "error",
     "traceback": [
      "\u001b[1;31m---------------------------------------------------------------------------\u001b[0m",
      "\u001b[1;31mValueError\u001b[0m                                Traceback (most recent call last)",
      "\u001b[1;32m<ipython-input-134-3fddc63f3cf2>\u001b[0m in \u001b[0;36m<module>\u001b[1;34m()\u001b[0m\n\u001b[1;32m----> 1\u001b[1;33m \u001b[0ma\u001b[0m \u001b[1;33m=\u001b[0m \u001b[0mtop_ens\u001b[0m\u001b[1;33m.\u001b[0m\u001b[0mget_list\u001b[0m\u001b[1;33m(\u001b[0m\u001b[1;36m0\u001b[0m\u001b[1;33m)\u001b[0m\u001b[1;33m\u001b[0m\u001b[0m\n\u001b[0m",
      "\u001b[1;32m<ipython-input-131-d487aa7c87f7>\u001b[0m in \u001b[0;36mget_list\u001b[1;34m(self, u)\u001b[0m\n\u001b[0;32m     20\u001b[0m         \u001b[0mres\u001b[0m \u001b[1;33m=\u001b[0m \u001b[0mnp\u001b[0m\u001b[1;33m.\u001b[0m\u001b[0mzeros\u001b[0m\u001b[1;33m(\u001b[0m\u001b[1;33m(\u001b[0m\u001b[0mN_methods\u001b[0m\u001b[1;33m,\u001b[0m \u001b[0mN_items\u001b[0m\u001b[1;33m)\u001b[0m\u001b[1;33m)\u001b[0m\u001b[1;33m\u001b[0m\u001b[0m\n\u001b[0;32m     21\u001b[0m         \u001b[1;32mfor\u001b[0m \u001b[0mi\u001b[0m \u001b[1;32min\u001b[0m \u001b[0mrange\u001b[0m\u001b[1;33m(\u001b[0m\u001b[0mN_methods\u001b[0m\u001b[1;33m)\u001b[0m\u001b[1;33m:\u001b[0m\u001b[1;33m\u001b[0m\u001b[0m\n\u001b[1;32m---> 22\u001b[1;33m             \u001b[0mres\u001b[0m\u001b[1;33m[\u001b[0m\u001b[0mi\u001b[0m\u001b[1;33m]\u001b[0m \u001b[1;33m=\u001b[0m \u001b[0mlist_cf\u001b[0m\u001b[1;33m[\u001b[0m\u001b[0mi\u001b[0m\u001b[1;33m]\u001b[0m\u001b[1;33m.\u001b[0m\u001b[0mget_list\u001b[0m\u001b[1;33m(\u001b[0m\u001b[0mu\u001b[0m\u001b[1;33m)\u001b[0m\u001b[1;33m\u001b[0m\u001b[0m\n\u001b[0m\u001b[0;32m     23\u001b[0m \u001b[1;33m\u001b[0m\u001b[0m\n\u001b[0;32m     24\u001b[0m         \u001b[0mtotal_res\u001b[0m \u001b[1;33m=\u001b[0m \u001b[0mres\u001b[0m\u001b[1;33m.\u001b[0m\u001b[0mT\u001b[0m\u001b[1;33m.\u001b[0m\u001b[0mravel\u001b[0m\u001b[1;33m(\u001b[0m\u001b[1;33m)\u001b[0m\u001b[1;33m\u001b[0m\u001b[0m\n",
      "\u001b[1;31mValueError\u001b[0m: could not broadcast input array from shape (75888) into shape (34777)"
     ]
    }
   ],
   "source": [
    "a = top_ens.get_list(0)"
   ]
  },
  {
   "cell_type": "code",
   "execution_count": 97,
   "metadata": {
    "collapsed": false
   },
   "outputs": [
    {
     "name": "stdout",
     "output_type": "stream",
     "text": [
      "[[ 0  1  2]\n",
      " [ 3  4  5]\n",
      " [ 6  7  8]\n",
      " [ 9 10 11]\n",
      " [12 13 14]\n",
      " [15 16 17]]\n",
      "[ 0  1  2  3  4  5  6  7  8  9 10 11 12 13 14 15 16 17]\n",
      "[ 0  3  6  9 12 15  1  4  7 10 13 16  2  5  8 11 14 17]\n"
     ]
    }
   ],
   "source": [
    "a =np.arange(6*3).reshape(6, 3)\n",
    "print(a)\n",
    "print(a.ravel())\n",
    "print(a.T.ravel())"
   ]
  },
  {
   "cell_type": "code",
   "execution_count": 57,
   "metadata": {
    "collapsed": false
   },
   "outputs": [
    {
     "name": "stdout",
     "output_type": "stream",
     "text": [
      "PopRec [  18  721 1042  674  143  118  711  136   34 1536]\n",
      "CLiMF [  18  674  721 1042 1536  118  143  711  136   34]\n",
      "BPR_MF [  18 1042  721  674  143  118 1536  136   34  711]\n",
      "iMF [497 362 378  43   1 379  10  12  79 125]\n",
      "TFMAP [  18  674 1042  721  711   28  143 3805   34   77]\n"
     ]
    }
   ],
   "source": [
    "ansamble.show_all_ulist(5, 10)"
   ]
  },
  {
   "cell_type": "code",
   "execution_count": 58,
   "metadata": {
    "collapsed": false
   },
   "outputs": [
    {
     "data": {
      "text/plain": [
       "array([  0,   1,   2,   4,   8,  12,  21,  24,  26,  27,  28,  29,  30,\n",
       "        34,  35,  48,  50,  51,  55,  61,  66,  68,  69,  72,  73,  74,\n",
       "        76,  77,  87,  89,  90,  93,  96,  97, 100, 102, 103, 104, 116,\n",
       "       120, 122, 123, 124, 153, 212, 219, 221, 222, 223, 231, 235, 272,\n",
       "       280, 307, 312, 343, 346, 375, 378, 379, 390, 398, 410, 414, 415,\n",
       "       420, 422, 495, 497, 498, 502, 507, 510, 565, 590, 603, 620, 622,\n",
       "       625, 656, 670, 706, 707, 708, 709, 710, 711, 712, 713, 714, 715,\n",
       "       716, 717, 718, 719, 720, 721, 722, 723, 724, 725])"
      ]
     },
     "execution_count": 58,
     "metadata": {},
     "output_type": "execute_result"
    }
   ],
   "source": [
    "traintest[5]"
   ]
  },
  {
   "cell_type": "code",
   "execution_count": 55,
   "metadata": {
    "collapsed": false
   },
   "outputs": [
    {
     "name": "stdout",
     "output_type": "stream",
     "text": [
      "[ 1  1  1  1  2  1  1 -1  1  1  3]\n",
      "[-1  1  2  3]\n"
     ]
    }
   ],
   "source": [
    "a = np.array([1,1,1,1, 2, 1,1, -1, 1, 1, 3])\n",
    "print(a)\n",
    "print(np.unique(a))"
   ]
  },
  {
   "cell_type": "markdown",
   "metadata": {},
   "source": [
    "# старые эксперименты"
   ]
  },
  {
   "cell_type": "code",
   "execution_count": null,
   "metadata": {
    "collapsed": false
   },
   "outputs": [],
   "source": [
    "a = np.arange(10)\n",
    "b = a[1:4]\n",
    "print(a)\n",
    "print(b)\n",
    "b[2] = 100\n",
    "a[1] = -a[1]\n",
    "print(a)\n",
    "print(b)"
   ]
  },
  {
   "cell_type": "code",
   "execution_count": null,
   "metadata": {
    "collapsed": false
   },
   "outputs": [],
   "source": [
    "tmp = mmread(\"../datasets/epinions_original/EP25_UPL5_test.mtx\")\n",
    "test = np.array(list(zip(tmp.row, tmp.col)))\n",
    "tmp = mmread(\"../datasets/epinions_original/EP25_UPL5_train.mtx\")\n",
    "train = np.array(list(zip(tmp.row, tmp.col)))\n",
    "user_item = [max(np.max(test[:,0]), np.max(train[:, 0])) + 1, max(np.max(test[:,1]), np.max(train[:,1])) + 1]"
   ]
  },
  {
   "cell_type": "code",
   "execution_count": null,
   "metadata": {
    "collapsed": false
   },
   "outputs": [],
   "source": [
    "train = create_listarray(train)\n",
    "test  = create_listarray(test)"
   ]
  },
  {
   "cell_type": "code",
   "execution_count": null,
   "metadata": {
    "collapsed": true
   },
   "outputs": [],
   "source": [
    "create_csr(train, user_item, '../pyCLiMF-master/good_train.pickle')\n",
    "create_csr(test, user_item, '../pyCLiMF-master/good_test.pickle')"
   ]
  },
  {
   "cell_type": "code",
   "execution_count": null,
   "metadata": {
    "collapsed": false
   },
   "outputs": [],
   "source": [
    "randomrec = rankingmethod.RandomRec(user_item)\n",
    "randomrec.fit(train)\n",
    "all_measures(train, test, randomrec, False)"
   ]
  },
  {
   "cell_type": "code",
   "execution_count": null,
   "metadata": {
    "collapsed": false
   },
   "outputs": [],
   "source": [
    "poprec = rankingmethod.PopRec(user_item)\n",
    "poprec.fit(train)\n",
    "top = poprec.get_list(0)[:3]\n",
    "# all_measures(train, test, poprec, True, top)\n",
    "# all_measures(train, test, poprec, True)"
   ]
  },
  {
   "cell_type": "code",
   "execution_count": null,
   "metadata": {
    "collapsed": false
   },
   "outputs": [],
   "source": [
    "rankingmeasure.get_AUC(train, test, poprec, True, K=user_item[1])"
   ]
  },
  {
   "cell_type": "code",
   "execution_count": null,
   "metadata": {
    "collapsed": false
   },
   "outputs": [],
   "source": [
    "rankingmeasure.get_NDCG(train, test, poprec, True, K = 5)"
   ]
  },
  {
   "cell_type": "code",
   "execution_count": null,
   "metadata": {
    "collapsed": false
   },
   "outputs": [],
   "source": [
    "rankingmeasure.get_NDCG(train, test, poprec, True, K = 3)"
   ]
  },
  {
   "cell_type": "code",
   "execution_count": null,
   "metadata": {
    "collapsed": false
   },
   "outputs": [],
   "source": [
    "index_user = np.random.choice(len(train), 100, replace=False)\n"
   ]
  },
  {
   "cell_type": "code",
   "execution_count": null,
   "metadata": {
    "collapsed": false
   },
   "outputs": [],
   "source": [
    "orig_train = create_original_sample(train, index_user)\n",
    "orig_test = create_original_sample(test, index_user)"
   ]
  },
  {
   "cell_type": "code",
   "execution_count": null,
   "metadata": {
    "collapsed": false
   },
   "outputs": [],
   "source": [
    "climf = rankingmethod.CLiMF(user_item, lrate = 0.0001, reg=0.001, maxiter=15, verbose=2)\n",
    "climf.fit(train)"
   ]
  },
  {
   "cell_type": "code",
   "execution_count": null,
   "metadata": {
    "collapsed": false
   },
   "outputs": [],
   "source": [
    "rankingmeasure.get_MRR(train, test, climf, True)"
   ]
  },
  {
   "cell_type": "code",
   "execution_count": null,
   "metadata": {
    "collapsed": false
   },
   "outputs": [],
   "source": [
    "all_measures(train, test, climf, True, top)"
   ]
  },
  {
   "cell_type": "code",
   "execution_count": null,
   "metadata": {
    "collapsed": false
   },
   "outputs": [],
   "source": [
    "all_measures(train, test, climf, True)"
   ]
  },
  {
   "cell_type": "code",
   "execution_count": null,
   "metadata": {
    "collapsed": false
   },
   "outputs": [],
   "source": [
    "climf = rankingmethod.CLiMF(user_item, maxiter=40, lrate = 0.1, verbose=2)\n",
    "climf.fit(train)\n"
   ]
  },
  {
   "cell_type": "code",
   "execution_count": null,
   "metadata": {
    "collapsed": false
   },
   "outputs": [],
   "source": [
    "all_measures(train, test, climf, False)"
   ]
  },
  {
   "cell_type": "code",
   "execution_count": null,
   "metadata": {
    "collapsed": false
   },
   "outputs": [],
   "source": [
    "all_measures(train, test, climf, True, top)"
   ]
  },
  {
   "cell_type": "code",
   "execution_count": null,
   "metadata": {
    "collapsed": false
   },
   "outputs": [],
   "source": [
    "list_reg = [0.001, 0.002, 0.005, 0.0005]\n",
    "list_lrate = [0.05, 0.07, 0.1, 0.12, 0.15 ]\n",
    "list_K = [10, 12, 15, 7, 5]\n",
    "times_count = 3\n",
    "\n",
    "for K, lrate, reg in itertools.product(list_K, list_lrate, list_reg):\n",
    "    MRR = 0\n",
    "    \n",
    "    for t in range(times_count):\n",
    "        climf = rankingmethod.CLiMF(user_item,K=K, reg=reg, lrate=lrate, verbose=0, maxiter=50)\n",
    "        climf.fit(train)\n",
    "        MRR += rankingmeasure.get_MRR(train, test, climf, skip_train=False)\n",
    "    print(\"K\", K, \"lrate\", lrate, \"reg\", reg, \"MRR\", MRR/times_count)\n",
    "    sys.stdout.flush()"
   ]
  },
  {
   "cell_type": "code",
   "execution_count": null,
   "metadata": {
    "collapsed": false
   },
   "outputs": [],
   "source": [
    "bpr_mf = rankingmethod.BPR_MF(user_item, K = 20, lrate=0.001, regIpos=0.1, \n",
    "                              regIneg=0.1, regU=0.1, maxiter=30, verbose=2 )"
   ]
  },
  {
   "cell_type": "code",
   "execution_count": null,
   "metadata": {
    "collapsed": false
   },
   "outputs": [],
   "source": [
    "bpr_mf.fit(train)"
   ]
  },
  {
   "cell_type": "code",
   "execution_count": null,
   "metadata": {
    "collapsed": false
   },
   "outputs": [],
   "source": [
    "all_measures(train, test, bpr_mf, True)"
   ]
  },
  {
   "cell_type": "code",
   "execution_count": null,
   "metadata": {
    "collapsed": false
   },
   "outputs": [],
   "source": [
    "rankingmeasure.get_AUC(train, test, bpr_mf, True, K=user_item[1])"
   ]
  },
  {
   "cell_type": "code",
   "execution_count": null,
   "metadata": {
    "collapsed": false
   },
   "outputs": [],
   "source": [
    "rankingmeasure.get_NDCG(train, test, bpr_mf, True, K=5)"
   ]
  },
  {
   "cell_type": "code",
   "execution_count": null,
   "metadata": {
    "collapsed": true
   },
   "outputs": [],
   "source": [
    "imf = rankingmethod.iMF(user_item, K=20, lmbd=0.01, alpha=40, maxiter=30, verbose=2)"
   ]
  },
  {
   "cell_type": "code",
   "execution_count": null,
   "metadata": {
    "collapsed": false
   },
   "outputs": [],
   "source": [
    "imf.fit(train)"
   ]
  },
  {
   "cell_type": "code",
   "execution_count": null,
   "metadata": {
    "collapsed": false
   },
   "outputs": [],
   "source": [
    "all_measures(train, test, imf, True)"
   ]
  },
  {
   "cell_type": "code",
   "execution_count": null,
   "metadata": {
    "collapsed": false
   },
   "outputs": [],
   "source": [
    "all_measures(train, test, imf, True, top)"
   ]
  },
  {
   "cell_type": "code",
   "execution_count": null,
   "metadata": {
    "collapsed": false
   },
   "outputs": [],
   "source": [
    "all_measures(train, test, bpr_mf, True, top)"
   ]
  },
  {
   "cell_type": "code",
   "execution_count": null,
   "metadata": {
    "collapsed": false
   },
   "outputs": [],
   "source": [
    "all_measures(train, test, poprec, True)"
   ]
  },
  {
   "cell_type": "code",
   "execution_count": null,
   "metadata": {
    "collapsed": false
   },
   "outputs": [],
   "source": [
    "all_measures(train, test, poprec, True, top)"
   ]
  },
  {
   "cell_type": "code",
   "execution_count": null,
   "metadata": {
    "collapsed": false
   },
   "outputs": [],
   "source": [
    "from sklearn.metrics import roc_auc_score"
   ]
  },
  {
   "cell_type": "code",
   "execution_count": null,
   "metadata": {
    "collapsed": false
   },
   "outputs": [],
   "source": [
    "a = np.array([False,False, True, True])\n",
    "b = np.array([0,2,1,3])\n",
    "print(roc_auc_score(a, b, average=None))"
   ]
  },
  {
   "cell_type": "code",
   "execution_count": null,
   "metadata": {
    "collapsed": false
   },
   "outputs": [],
   "source": [
    "(a == True).any()"
   ]
  },
  {
   "cell_type": "code",
   "execution_count": null,
   "metadata": {
    "collapsed": false
   },
   "outputs": [],
   "source": [
    "import random"
   ]
  },
  {
   "cell_type": "code",
   "execution_count": null,
   "metadata": {
    "collapsed": false
   },
   "outputs": [],
   "source": [
    "random.sample(range(10), 3)"
   ]
  }
 ],
 "metadata": {
  "kernelspec": {
   "display_name": "Python 3",
   "language": "python",
   "name": "python3"
  },
  "language_info": {
   "codemirror_mode": {
    "name": "ipython",
    "version": 3
   },
   "file_extension": ".py",
   "mimetype": "text/x-python",
   "name": "python",
   "nbconvert_exporter": "python",
   "pygments_lexer": "ipython3",
   "version": "3.4.3"
  }
 },
 "nbformat": 4,
 "nbformat_minor": 0
}
