{
 "cells": [
  {
   "cell_type": "code",
   "execution_count": 2,
   "metadata": {
    "collapsed": false
   },
   "outputs": [],
   "source": [
    "import numpy as np\n",
    "import pandas as pd\n",
    "from scipy.io import loadmat, mmread\n",
    "import sys\n",
    "import itertools \n",
    "import pickle\n",
    "import matplotlib.pylab as plt\n",
    "import time"
   ]
  },
  {
   "cell_type": "code",
   "execution_count": 3,
   "metadata": {
    "collapsed": true
   },
   "outputs": [],
   "source": [
    "%matplotlib inline"
   ]
  },
  {
   "cell_type": "code",
   "execution_count": 4,
   "metadata": {
    "collapsed": false
   },
   "outputs": [],
   "source": [
    "import rankingmethod\n",
    "import rankingmeasure\n",
    "import rank"
   ]
  },
  {
   "cell_type": "code",
   "execution_count": 5,
   "metadata": {
    "collapsed": false
   },
   "outputs": [],
   "source": [
    "%load_ext autoreload\n",
    "%autoreload 2"
   ]
  },
  {
   "cell_type": "code",
   "execution_count": 6,
   "metadata": {
    "collapsed": true
   },
   "outputs": [],
   "source": [
    "from  experiment import *"
   ]
  },
  {
   "cell_type": "markdown",
   "metadata": {},
   "source": [
    "# loading data sets"
   ]
  },
  {
   "cell_type": "code",
   "execution_count": 28,
   "metadata": {
    "collapsed": false
   },
   "outputs": [],
   "source": [
    "data = pd.read_csv(\"../datasets/soc-Epinions1.txt\", sep='\\t', header=4)\n",
    "data = data.as_matrix()"
   ]
  },
  {
   "cell_type": "code",
   "execution_count": 29,
   "metadata": {
    "collapsed": false
   },
   "outputs": [],
   "source": [
    "epinion, epinion_shape = make_valid_data(data)"
   ]
  },
  {
   "cell_type": "code",
   "execution_count": 14,
   "metadata": {
    "collapsed": true
   },
   "outputs": [],
   "source": [
    "data = pd.read_csv(\"../datasets/Slashdot0811.txt\", sep='\\t', header=4)\n",
    "data = data.as_matrix()"
   ]
  },
  {
   "cell_type": "code",
   "execution_count": 15,
   "metadata": {
    "collapsed": true
   },
   "outputs": [],
   "source": [
    "slashdot, slashdot_shape = make_valid_data(data)"
   ]
  },
  {
   "cell_type": "code",
   "execution_count": 7,
   "metadata": {
    "collapsed": true
   },
   "outputs": [],
   "source": [
    "data =  pd.read_csv(\"../datasets/ml-100k/u.data\", sep='\\t', header=None).ix[:, :1]\n",
    "data = data.as_matrix()"
   ]
  },
  {
   "cell_type": "code",
   "execution_count": 8,
   "metadata": {
    "collapsed": false
   },
   "outputs": [],
   "source": [
    "ml100k, ml100k_shape = make_valid_data(data)"
   ]
  },
  {
   "cell_type": "code",
   "execution_count": 18,
   "metadata": {
    "collapsed": false
   },
   "outputs": [],
   "source": [
    "data = pd.read_csv(\"../datasets/ml-1m/ratings.dat\", sep='::', header=None,  engine='python').ix[:, :1]\n",
    "data = data.as_matrix()"
   ]
  },
  {
   "cell_type": "code",
   "execution_count": 19,
   "metadata": {
    "collapsed": false
   },
   "outputs": [],
   "source": [
    "ml1m, ml1m_shape = make_valid_data(data)"
   ]
  },
  {
   "cell_type": "markdown",
   "metadata": {},
   "source": [
    "### Узнаем статистические данные о датасетам."
   ]
  },
  {
   "cell_type": "code",
   "execution_count": 65,
   "metadata": {
    "collapsed": false
   },
   "outputs": [],
   "source": [
    "def statistics_of_data(matrix):\n",
    "    num_nonzero = matrix.shape[0]\n",
    "    num_user = np.unique(matrix[:, 0]).shape[0]\n",
    "    num_items = np.unique(matrix[:, 1]).shape[0]\n",
    "    sparsity = num_nonzero / (num_user * num_items) * 100\n",
    "    mean_items = np.mean(np.bincount(matrix[:, 0]))\n",
    "    median_items = np.median(np.bincount(matrix[:, 0]))\n",
    "    max_items = np.max(np.bincount(matrix[:, 0]))\n",
    "    return (num_nonzero, num_user, num_items, sparsity, mean_items, median_items, max_items)"
   ]
  },
  {
   "cell_type": "code",
   "execution_count": 66,
   "metadata": {
    "collapsed": false
   },
   "outputs": [
    {
     "name": "stdout",
     "output_type": "stream",
     "text": [
      "epinion (326114, 4405, 34777, 0.21287831073657335, 74.032690124858121, 51.0, 1801)\n",
      "slashdot (573578, 6992, 63730, 0.12872033080059936, 82.033466819221971, 50.0, 2508)\n",
      "ml100k (96963, 806, 1682, 7.152288277868424, 120.3014888337469, 81.0, 737)\n",
      "ml1m (989202, 5549, 3702, 4.815416389070059, 178.26671472337358, 106.0, 2314)\n"
     ]
    }
   ],
   "source": [
    "print(\"epinion\", statistics_of_data(epinion))\n",
    "print(\"slashdot\", statistics_of_data(slashdot))\n",
    "print(\"ml100k\", statistics_of_data(ml100k))\n",
    "print(\"ml1m\", statistics_of_data(ml1m))"
   ]
  },
  {
   "cell_type": "markdown",
   "metadata": {},
   "source": [
    "### Зададим параметры, которые были выбраны при помощивалидации"
   ]
  },
  {
   "cell_type": "code",
   "execution_count": 34,
   "metadata": {
    "collapsed": false
   },
   "outputs": [],
   "source": [
    "def create_list_cf(user_item):\n",
    "    list_cf = [\n",
    "        rankingmethod.PopRec(user_item),\n",
    "#         rankingmethod.CLiMF(user_item, K=10, reg=0.001, lrate=0.01, verbose=0, maxiter=10),\n",
    "        \n",
    "        rank.CLiMF(user_item, K=15, reg=0.001, lrate=0.01, verbose=0, maxiter=10),   \n",
    "        rank.BPR_MF(user_item, K = 20, lrate=0.012, regIpos=0.012, \n",
    "                                  regIneg=0.012, regU=0.012, maxiter=20, verbose=0 ),\n",
    "        \n",
    "#         rank.CLiMF(user_item, K=10, reg=0.001, lrate=0.1, verbose=0, maxiter=10),\n",
    "#         rank.CLiMF(user_item, K=10, reg=0.001, lrate=0.001, verbose=0, maxiter=10),\n",
    "#         rankingmethod.BPR_MF(user_item, K = 20, lrate=0.012, regIpos=0.012, \n",
    "#                                   regIneg=0.012, regU=0.012, maxiter=4, verbose=0 ),\n",
    "        rankingmethod.iMF(user_item, K=10, lmbd=0.01, alpha=40, maxiter=30, verbose=0),\n",
    "#         rankingmethod.TFMAP(user_item, lrate=0.01, maxiter=10)   \n",
    "    ]\n",
    "    return list_cf#[list_cf[i] for i in index]"
   ]
  },
  {
   "cell_type": "markdown",
   "metadata": {},
   "source": [
    "### Проведение такого же эксперимента, как у создатей CLiMF(Точнее похожего, т.к. было решено не удалять топ 3 всех предметов. И даже с этим удалением получить такие же цифры, что авторы epinion не получилось)"
   ]
  },
  {
   "cell_type": "code",
   "execution_count": 37,
   "metadata": {
    "collapsed": false
   },
   "outputs": [],
   "source": [
    "def climf_experiment(data, list_cf, K=5, maxiter=1, topK=5, verbose=0, validation_type=0):\n",
    "    res = np.zeros((6, len(list_cf)))\n",
    "    for t in range(maxiter):\n",
    "        if validation_type == 0:\n",
    "            test, train, traintest = givenK_train_test(data, K)\n",
    "        elif validation_type == 1:\n",
    "            train, test, traintest = ratio_train_test(data, K)\n",
    "        for i, cf in enumerate(list_cf):\n",
    "            start_time = time.time()\n",
    "            cf.fit(train)\n",
    "            print(time.time() - start_time)\n",
    "            prec_k, one_recal_k, ngdc, mp = rankingmeasure.get_Kmetrics(train, test, cf, K=topK)\n",
    "            mrr, auc = rankingmeasure.get_listmetrics(train, test, cf)\n",
    "            res[:, i] += np.array([prec_k, one_recal_k, ngdc, mp, mrr, auc])\n",
    "            if verbose == 1:\n",
    "                print(t, i, res[:, i] / (t + 1))\n",
    "                sys.stdout.flush()\n",
    "    res /= maxiter\n",
    "    res = pd.DataFrame(res)\n",
    "    \n",
    "    res.columns = [type(cf).__name__ for cf in list_cf]\n",
    "    res.index = [name + str(topK) for name in ['prec@', '1recal@', 'NDCG@', 'MAP@']] + ['MRR', 'AUC']\n",
    "#     res.columns = ['PopRec', 'CLiMF', 'BRP_MP', 'iMF', 'TFMAP']\n",
    "#     res.index = ['prec@' + str(topK),'1recal@' + str(topK), 'NDCG@' + str(topK), \n",
    "#                'MAP@' + str(topK), 'MRR', 'AUC']\n",
    "    return res"
   ]
  },
  {
   "cell_type": "code",
   "execution_count": 35,
   "metadata": {
    "collapsed": false
   },
   "outputs": [
    {
     "name": "stdout",
     "output_type": "stream",
     "text": [
      "0.004611492156982422\n",
      "0 0 [ 0.49057072  0.91811414  0.48823397  0.62640957  0.64692417  0.85257537]\n",
      "0.5365698337554932\n",
      "0 1 [ 0.4764268   0.91439206  0.47574434  0.62255652  0.64443697  0.84436055]\n",
      "0.8966817855834961\n",
      "0 2 [ 0.51712159  0.91563275  0.52523948  0.66227254  0.70426747  0.84952426]\n",
      "3.392941951751709\n",
      "0 3 [ 0.53473945  0.94416873  0.54336476  0.68442756  0.72987385  0.83083068]\n"
     ]
    },
    {
     "data": {
      "text/html": [
       "<div>\n",
       "<table border=\"1\" class=\"dataframe\">\n",
       "  <thead>\n",
       "    <tr style=\"text-align: right;\">\n",
       "      <th></th>\n",
       "      <th>PopRec</th>\n",
       "      <th>CLiMF</th>\n",
       "      <th>BPR_MF</th>\n",
       "      <th>iMF</th>\n",
       "    </tr>\n",
       "  </thead>\n",
       "  <tbody>\n",
       "    <tr>\n",
       "      <th>prec@5</th>\n",
       "      <td>0.490571</td>\n",
       "      <td>0.476427</td>\n",
       "      <td>0.517122</td>\n",
       "      <td>0.534739</td>\n",
       "    </tr>\n",
       "    <tr>\n",
       "      <th>1recal@5</th>\n",
       "      <td>0.918114</td>\n",
       "      <td>0.914392</td>\n",
       "      <td>0.915633</td>\n",
       "      <td>0.944169</td>\n",
       "    </tr>\n",
       "    <tr>\n",
       "      <th>NDCG@5</th>\n",
       "      <td>0.488234</td>\n",
       "      <td>0.475744</td>\n",
       "      <td>0.525239</td>\n",
       "      <td>0.543365</td>\n",
       "    </tr>\n",
       "    <tr>\n",
       "      <th>MAP@5</th>\n",
       "      <td>0.626410</td>\n",
       "      <td>0.622557</td>\n",
       "      <td>0.662273</td>\n",
       "      <td>0.684428</td>\n",
       "    </tr>\n",
       "    <tr>\n",
       "      <th>MRR</th>\n",
       "      <td>0.646924</td>\n",
       "      <td>0.644437</td>\n",
       "      <td>0.704267</td>\n",
       "      <td>0.729874</td>\n",
       "    </tr>\n",
       "    <tr>\n",
       "      <th>AUC</th>\n",
       "      <td>0.852575</td>\n",
       "      <td>0.844361</td>\n",
       "      <td>0.849524</td>\n",
       "      <td>0.830831</td>\n",
       "    </tr>\n",
       "  </tbody>\n",
       "</table>\n",
       "</div>"
      ],
      "text/plain": [
       "            PopRec     CLiMF    BPR_MF       iMF\n",
       "prec@5    0.490571  0.476427  0.517122  0.534739\n",
       "1recal@5  0.918114  0.914392  0.915633  0.944169\n",
       "NDCG@5    0.488234  0.475744  0.525239  0.543365\n",
       "MAP@5     0.626410  0.622557  0.662273  0.684428\n",
       "MRR       0.646924  0.644437  0.704267  0.729874\n",
       "AUC       0.852575  0.844361  0.849524  0.830831"
      ]
     },
     "execution_count": 35,
     "metadata": {},
     "output_type": "execute_result"
    }
   ],
   "source": [
    "climf_experiment(ml100k, create_list_cf(ml100k_shape), K=15, maxiter=1, topK=5,  verbose=1)"
   ]
  },
  {
   "cell_type": "code",
   "execution_count": 38,
   "metadata": {
    "collapsed": false
   },
   "outputs": [
    {
     "name": "stdout",
     "output_type": "stream",
     "text": [
      "0.3682224750518799\n",
      "0 0 [ 0.02320091  0.10896708  0.02620468  0.0619807   0.08292526  0.86864678]\n",
      "130.015695810318\n",
      "0 1 [ 0.00145289  0.00726447  0.00246382  0.00726447  0.00748469  0.35903945]\n",
      "44.41416621208191\n",
      "0 2 [ 0.00735528  0.03632236  0.0108267   0.03021188  0.0362148   0.68086068]\n",
      "67.09053182601929\n",
      "0 3 [ 0.05661748  0.23200908  0.0602915   0.12567222  0.15987093  0.91819201]\n"
     ]
    },
    {
     "data": {
      "text/html": [
       "<div>\n",
       "<table border=\"1\" class=\"dataframe\">\n",
       "  <thead>\n",
       "    <tr style=\"text-align: right;\">\n",
       "      <th></th>\n",
       "      <th>PopRec</th>\n",
       "      <th>CLiMF</th>\n",
       "      <th>BPR_MF</th>\n",
       "      <th>iMF</th>\n",
       "    </tr>\n",
       "  </thead>\n",
       "  <tbody>\n",
       "    <tr>\n",
       "      <th>prec@5</th>\n",
       "      <td>0.023201</td>\n",
       "      <td>0.001453</td>\n",
       "      <td>0.007355</td>\n",
       "      <td>0.056617</td>\n",
       "    </tr>\n",
       "    <tr>\n",
       "      <th>1recal@5</th>\n",
       "      <td>0.108967</td>\n",
       "      <td>0.007264</td>\n",
       "      <td>0.036322</td>\n",
       "      <td>0.232009</td>\n",
       "    </tr>\n",
       "    <tr>\n",
       "      <th>NDCG@5</th>\n",
       "      <td>0.026205</td>\n",
       "      <td>0.002464</td>\n",
       "      <td>0.010827</td>\n",
       "      <td>0.060291</td>\n",
       "    </tr>\n",
       "    <tr>\n",
       "      <th>MAP@5</th>\n",
       "      <td>0.061981</td>\n",
       "      <td>0.007264</td>\n",
       "      <td>0.030212</td>\n",
       "      <td>0.125672</td>\n",
       "    </tr>\n",
       "    <tr>\n",
       "      <th>MRR</th>\n",
       "      <td>0.082925</td>\n",
       "      <td>0.007485</td>\n",
       "      <td>0.036215</td>\n",
       "      <td>0.159871</td>\n",
       "    </tr>\n",
       "    <tr>\n",
       "      <th>AUC</th>\n",
       "      <td>0.868647</td>\n",
       "      <td>0.359039</td>\n",
       "      <td>0.680861</td>\n",
       "      <td>0.918192</td>\n",
       "    </tr>\n",
       "  </tbody>\n",
       "</table>\n",
       "</div>"
      ],
      "text/plain": [
       "            PopRec     CLiMF    BPR_MF       iMF\n",
       "prec@5    0.023201  0.001453  0.007355  0.056617\n",
       "1recal@5  0.108967  0.007264  0.036322  0.232009\n",
       "NDCG@5    0.026205  0.002464  0.010827  0.060291\n",
       "MAP@5     0.061981  0.007264  0.030212  0.125672\n",
       "MRR       0.082925  0.007485  0.036215  0.159871\n",
       "AUC       0.868647  0.359039  0.680861  0.918192"
      ]
     },
     "execution_count": 38,
     "metadata": {},
     "output_type": "execute_result"
    }
   ],
   "source": [
    "climf_experiment(epinion, create_list_cf(epinion_shape), K =5, maxiter=1, topK=5,  verbose=1)"
   ]
  },
  {
   "cell_type": "code",
   "execution_count": 12,
   "metadata": {
    "collapsed": false
   },
   "outputs": [
    {
     "name": "stdout",
     "output_type": "stream",
     "text": [
      "0 0 [ 0.19872872  0.56322361  0.22223028  0.3813747   0.43876484  0.83078188]\n",
      "0 1 [ 0.19627696  0.54483541  0.22058629  0.37696557  0.43686134  0.751281  ]\n",
      "0 2 [ 0.19609535  0.54506243  0.22056008  0.37749779  0.43836972  0.83474024]\n",
      "0 3 [ 0.1876958   0.55096481  0.19806486  0.33561389  0.3818591   0.69152973]\n",
      "0 4 [ 0.18074915  0.54483541  0.21043037  0.38731271  0.43067057  0.64071455]\n"
     ]
    },
    {
     "data": {
      "text/html": [
       "<div>\n",
       "<table border=\"1\" class=\"dataframe\">\n",
       "  <thead>\n",
       "    <tr style=\"text-align: right;\">\n",
       "      <th></th>\n",
       "      <th>PopRec</th>\n",
       "      <th>CLiMF</th>\n",
       "      <th>BRP_MP</th>\n",
       "      <th>iMF</th>\n",
       "      <th>TFMAP</th>\n",
       "    </tr>\n",
       "  </thead>\n",
       "  <tbody>\n",
       "    <tr>\n",
       "      <th>prec@5</th>\n",
       "      <td>0.198729</td>\n",
       "      <td>0.196277</td>\n",
       "      <td>0.196095</td>\n",
       "      <td>0.187696</td>\n",
       "      <td>0.180749</td>\n",
       "    </tr>\n",
       "    <tr>\n",
       "      <th>1recal@5</th>\n",
       "      <td>0.563224</td>\n",
       "      <td>0.544835</td>\n",
       "      <td>0.545062</td>\n",
       "      <td>0.550965</td>\n",
       "      <td>0.544835</td>\n",
       "    </tr>\n",
       "    <tr>\n",
       "      <th>NDCG@5</th>\n",
       "      <td>0.222230</td>\n",
       "      <td>0.220586</td>\n",
       "      <td>0.220560</td>\n",
       "      <td>0.198065</td>\n",
       "      <td>0.210430</td>\n",
       "    </tr>\n",
       "    <tr>\n",
       "      <th>MAP@5</th>\n",
       "      <td>0.381375</td>\n",
       "      <td>0.376966</td>\n",
       "      <td>0.377498</td>\n",
       "      <td>0.335614</td>\n",
       "      <td>0.387313</td>\n",
       "    </tr>\n",
       "    <tr>\n",
       "      <th>MRR</th>\n",
       "      <td>0.438765</td>\n",
       "      <td>0.436861</td>\n",
       "      <td>0.438370</td>\n",
       "      <td>0.381859</td>\n",
       "      <td>0.430671</td>\n",
       "    </tr>\n",
       "    <tr>\n",
       "      <th>AUC</th>\n",
       "      <td>0.830782</td>\n",
       "      <td>0.751281</td>\n",
       "      <td>0.834740</td>\n",
       "      <td>0.691530</td>\n",
       "      <td>0.640715</td>\n",
       "    </tr>\n",
       "  </tbody>\n",
       "</table>\n",
       "</div>"
      ],
      "text/plain": [
       "            PopRec     CLiMF    BRP_MP       iMF     TFMAP\n",
       "prec@5    0.198729  0.196277  0.196095  0.187696  0.180749\n",
       "1recal@5  0.563224  0.544835  0.545062  0.550965  0.544835\n",
       "NDCG@5    0.222230  0.220586  0.220560  0.198065  0.210430\n",
       "MAP@5     0.381375  0.376966  0.377498  0.335614  0.387313\n",
       "MRR       0.438765  0.436861  0.438370  0.381859  0.430671\n",
       "AUC       0.830782  0.751281  0.834740  0.691530  0.640715"
      ]
     },
     "execution_count": 12,
     "metadata": {},
     "output_type": "execute_result"
    }
   ],
   "source": [
    "climf_experiment(epinion, create_list_cf(epinion_shape), K =5, maxiter=1, topK=5,  verbose=1)"
   ]
  },
  {
   "cell_type": "code",
   "execution_count": 13,
   "metadata": {
    "collapsed": false
   },
   "outputs": [
    {
     "name": "stdout",
     "output_type": "stream",
     "text": [
      "0 0 [ 0.18374574  0.51895573  0.20614182  0.35681423  0.41139733  0.85585377]\n",
      "0 1 [ 0.18442679  0.52939841  0.20641345  0.35726227  0.41128224  0.8143902 ]\n",
      "0 2 [ 0.1846538   0.52417707  0.19095555  0.31205732  0.34803992  0.85916652]\n",
      "0 3 [ 0.26138479  0.63836549  0.27257366  0.41211344  0.46091017  0.81057056]\n",
      "0 4 [ 0.18083995  0.52122588  0.20414805  0.35973704  0.41143295  0.73103908]\n"
     ]
    },
    {
     "data": {
      "text/html": [
       "<div>\n",
       "<table border=\"1\" class=\"dataframe\">\n",
       "  <thead>\n",
       "    <tr style=\"text-align: right;\">\n",
       "      <th></th>\n",
       "      <th>PopRec</th>\n",
       "      <th>CLiMF</th>\n",
       "      <th>BRP_MP</th>\n",
       "      <th>iMF</th>\n",
       "      <th>TFMAP</th>\n",
       "    </tr>\n",
       "  </thead>\n",
       "  <tbody>\n",
       "    <tr>\n",
       "      <th>prec@5</th>\n",
       "      <td>0.183746</td>\n",
       "      <td>0.184427</td>\n",
       "      <td>0.184654</td>\n",
       "      <td>0.261385</td>\n",
       "      <td>0.180840</td>\n",
       "    </tr>\n",
       "    <tr>\n",
       "      <th>1recal@5</th>\n",
       "      <td>0.518956</td>\n",
       "      <td>0.529398</td>\n",
       "      <td>0.524177</td>\n",
       "      <td>0.638365</td>\n",
       "      <td>0.521226</td>\n",
       "    </tr>\n",
       "    <tr>\n",
       "      <th>NDCG@5</th>\n",
       "      <td>0.206142</td>\n",
       "      <td>0.206413</td>\n",
       "      <td>0.190956</td>\n",
       "      <td>0.272574</td>\n",
       "      <td>0.204148</td>\n",
       "    </tr>\n",
       "    <tr>\n",
       "      <th>MAP@5</th>\n",
       "      <td>0.356814</td>\n",
       "      <td>0.357262</td>\n",
       "      <td>0.312057</td>\n",
       "      <td>0.412113</td>\n",
       "      <td>0.359737</td>\n",
       "    </tr>\n",
       "    <tr>\n",
       "      <th>MRR</th>\n",
       "      <td>0.411397</td>\n",
       "      <td>0.411282</td>\n",
       "      <td>0.348040</td>\n",
       "      <td>0.460910</td>\n",
       "      <td>0.411433</td>\n",
       "    </tr>\n",
       "    <tr>\n",
       "      <th>AUC</th>\n",
       "      <td>0.855854</td>\n",
       "      <td>0.814390</td>\n",
       "      <td>0.859167</td>\n",
       "      <td>0.810571</td>\n",
       "      <td>0.731039</td>\n",
       "    </tr>\n",
       "  </tbody>\n",
       "</table>\n",
       "</div>"
      ],
      "text/plain": [
       "            PopRec     CLiMF    BRP_MP       iMF     TFMAP\n",
       "prec@5    0.183746  0.184427  0.184654  0.261385  0.180840\n",
       "1recal@5  0.518956  0.529398  0.524177  0.638365  0.521226\n",
       "NDCG@5    0.206142  0.206413  0.190956  0.272574  0.204148\n",
       "MAP@5     0.356814  0.357262  0.312057  0.412113  0.359737\n",
       "MRR       0.411397  0.411282  0.348040  0.460910  0.411433\n",
       "AUC       0.855854  0.814390  0.859167  0.810571  0.731039"
      ]
     },
     "execution_count": 13,
     "metadata": {},
     "output_type": "execute_result"
    }
   ],
   "source": [
    "climf_experiment(epinion, create_list_cf(epinion_shape), K =10, maxiter=5, topK=5,  verbose=1)"
   ]
  },
  {
   "cell_type": "code",
   "execution_count": 60,
   "metadata": {
    "collapsed": false
   },
   "outputs": [
    {
     "name": "stdout",
     "output_type": "stream",
     "text": [
      "0 0 [ 0.12251144  0.37657323  0.1319391   0.22953991  0.27654298  0.77703793]\n",
      "0 1 [ 0.12274027  0.37743135  0.13169759  0.22891141  0.27554472  0.68970927]\n",
      "0 2 [ 0.12105263  0.37614416  0.1309013   0.22970379  0.27613604  0.78503591]\n",
      "0 3 [ 0.10494851  0.34196224  0.10975562  0.1949623   0.23434489  0.59086203]\n",
      "0 4 [ 0.11538902  0.35926773  0.12445819  0.21948119  0.25677406  0.59737827]\n"
     ]
    },
    {
     "data": {
      "text/html": [
       "<div>\n",
       "<table border=\"1\" class=\"dataframe\">\n",
       "  <thead>\n",
       "    <tr style=\"text-align: right;\">\n",
       "      <th></th>\n",
       "      <th>PopRec</th>\n",
       "      <th>CLiMF</th>\n",
       "      <th>BRP_MP</th>\n",
       "      <th>iMF</th>\n",
       "      <th>TFMAP</th>\n",
       "    </tr>\n",
       "  </thead>\n",
       "  <tbody>\n",
       "    <tr>\n",
       "      <th>prec@5</th>\n",
       "      <td>0.122511</td>\n",
       "      <td>0.122740</td>\n",
       "      <td>0.121053</td>\n",
       "      <td>0.104949</td>\n",
       "      <td>0.115389</td>\n",
       "    </tr>\n",
       "    <tr>\n",
       "      <th>1recal@5</th>\n",
       "      <td>0.376573</td>\n",
       "      <td>0.377431</td>\n",
       "      <td>0.376144</td>\n",
       "      <td>0.341962</td>\n",
       "      <td>0.359268</td>\n",
       "    </tr>\n",
       "    <tr>\n",
       "      <th>NDCG@5</th>\n",
       "      <td>0.131939</td>\n",
       "      <td>0.131698</td>\n",
       "      <td>0.130901</td>\n",
       "      <td>0.109756</td>\n",
       "      <td>0.124458</td>\n",
       "    </tr>\n",
       "    <tr>\n",
       "      <th>MAP@5</th>\n",
       "      <td>0.229540</td>\n",
       "      <td>0.228911</td>\n",
       "      <td>0.229704</td>\n",
       "      <td>0.194962</td>\n",
       "      <td>0.219481</td>\n",
       "    </tr>\n",
       "    <tr>\n",
       "      <th>MRR</th>\n",
       "      <td>0.276543</td>\n",
       "      <td>0.275545</td>\n",
       "      <td>0.276136</td>\n",
       "      <td>0.234345</td>\n",
       "      <td>0.256774</td>\n",
       "    </tr>\n",
       "    <tr>\n",
       "      <th>AUC</th>\n",
       "      <td>0.777038</td>\n",
       "      <td>0.689709</td>\n",
       "      <td>0.785036</td>\n",
       "      <td>0.590862</td>\n",
       "      <td>0.597378</td>\n",
       "    </tr>\n",
       "  </tbody>\n",
       "</table>\n",
       "</div>"
      ],
      "text/plain": [
       "            PopRec     CLiMF    BRP_MP       iMF     TFMAP\n",
       "prec@5    0.122511  0.122740  0.121053  0.104949  0.115389\n",
       "1recal@5  0.376573  0.377431  0.376144  0.341962  0.359268\n",
       "NDCG@5    0.131939  0.131698  0.130901  0.109756  0.124458\n",
       "MAP@5     0.229540  0.228911  0.229704  0.194962  0.219481\n",
       "MRR       0.276543  0.275545  0.276136  0.234345  0.256774\n",
       "AUC       0.777038  0.689709  0.785036  0.590862  0.597378"
      ]
     },
     "execution_count": 60,
     "metadata": {},
     "output_type": "execute_result"
    }
   ],
   "source": [
    "climf_experiment(slashdot, create_list_cf(slashdot_shape), K =5, maxiter=5, topK=5,  verbose=0)"
   ]
  },
  {
   "cell_type": "code",
   "execution_count": 61,
   "metadata": {
    "collapsed": false
   },
   "outputs": [
    {
     "name": "stdout",
     "output_type": "stream",
     "text": [
      "0 0 [ 0.11192792  0.35283181  0.12102636  0.2146759   0.26020113  0.81278055]\n",
      "0 1 [ 0.11189931  0.35283181  0.12100122  0.21473311  0.2598129   0.75821488]\n",
      "0 2 [ 0.11284325  0.35311785  0.1207925   0.21107714  0.25587895  0.81823682]\n",
      "0 3 [ 0.13584096  0.39287757  0.1424579   0.23748272  0.27949474  0.69255127]\n",
      "0 4 [ 0.11281465  0.35440503  0.121591    0.21485865  0.25942938  0.66626014]\n"
     ]
    },
    {
     "data": {
      "text/html": [
       "<div>\n",
       "<table border=\"1\" class=\"dataframe\">\n",
       "  <thead>\n",
       "    <tr style=\"text-align: right;\">\n",
       "      <th></th>\n",
       "      <th>PopRec</th>\n",
       "      <th>CLiMF</th>\n",
       "      <th>BRP_MP</th>\n",
       "      <th>iMF</th>\n",
       "      <th>TFMAP</th>\n",
       "    </tr>\n",
       "  </thead>\n",
       "  <tbody>\n",
       "    <tr>\n",
       "      <th>prec@5</th>\n",
       "      <td>0.111928</td>\n",
       "      <td>0.111899</td>\n",
       "      <td>0.112843</td>\n",
       "      <td>0.135841</td>\n",
       "      <td>0.112815</td>\n",
       "    </tr>\n",
       "    <tr>\n",
       "      <th>1recal@5</th>\n",
       "      <td>0.352832</td>\n",
       "      <td>0.352832</td>\n",
       "      <td>0.353118</td>\n",
       "      <td>0.392878</td>\n",
       "      <td>0.354405</td>\n",
       "    </tr>\n",
       "    <tr>\n",
       "      <th>NDCG@5</th>\n",
       "      <td>0.121026</td>\n",
       "      <td>0.121001</td>\n",
       "      <td>0.120793</td>\n",
       "      <td>0.142458</td>\n",
       "      <td>0.121591</td>\n",
       "    </tr>\n",
       "    <tr>\n",
       "      <th>MAP@5</th>\n",
       "      <td>0.214676</td>\n",
       "      <td>0.214733</td>\n",
       "      <td>0.211077</td>\n",
       "      <td>0.237483</td>\n",
       "      <td>0.214859</td>\n",
       "    </tr>\n",
       "    <tr>\n",
       "      <th>MRR</th>\n",
       "      <td>0.260201</td>\n",
       "      <td>0.259813</td>\n",
       "      <td>0.255879</td>\n",
       "      <td>0.279495</td>\n",
       "      <td>0.259429</td>\n",
       "    </tr>\n",
       "    <tr>\n",
       "      <th>AUC</th>\n",
       "      <td>0.812781</td>\n",
       "      <td>0.758215</td>\n",
       "      <td>0.818237</td>\n",
       "      <td>0.692551</td>\n",
       "      <td>0.666260</td>\n",
       "    </tr>\n",
       "  </tbody>\n",
       "</table>\n",
       "</div>"
      ],
      "text/plain": [
       "            PopRec     CLiMF    BRP_MP       iMF     TFMAP\n",
       "prec@5    0.111928  0.111899  0.112843  0.135841  0.112815\n",
       "1recal@5  0.352832  0.352832  0.353118  0.392878  0.354405\n",
       "NDCG@5    0.121026  0.121001  0.120793  0.142458  0.121591\n",
       "MAP@5     0.214676  0.214733  0.211077  0.237483  0.214859\n",
       "MRR       0.260201  0.259813  0.255879  0.279495  0.259429\n",
       "AUC       0.812781  0.758215  0.818237  0.692551  0.666260"
      ]
     },
     "execution_count": 61,
     "metadata": {},
     "output_type": "execute_result"
    }
   ],
   "source": [
    "climf_experiment(slashdot, create_list_cf(slashdot_shape), K=10, maxiter=5, topK=5,  verbose=0)"
   ]
  },
  {
   "cell_type": "code",
   "execution_count": 76,
   "metadata": {
    "collapsed": false
   },
   "outputs": [
    {
     "data": {
      "text/html": [
       "<div>\n",
       "<table border=\"1\" class=\"dataframe\">\n",
       "  <thead>\n",
       "    <tr style=\"text-align: right;\">\n",
       "      <th></th>\n",
       "      <th>PopRec</th>\n",
       "      <th>CLiMF</th>\n",
       "      <th>BRP_MP</th>\n",
       "      <th>iMF</th>\n",
       "      <th>TFMAP</th>\n",
       "    </tr>\n",
       "  </thead>\n",
       "  <tbody>\n",
       "    <tr>\n",
       "      <th>prec@5</th>\n",
       "      <td>0.530918</td>\n",
       "      <td>0.513151</td>\n",
       "      <td>0.530323</td>\n",
       "      <td>0.462531</td>\n",
       "      <td>0.262481</td>\n",
       "    </tr>\n",
       "    <tr>\n",
       "      <th>1recal@5</th>\n",
       "      <td>0.943176</td>\n",
       "      <td>0.933499</td>\n",
       "      <td>0.937469</td>\n",
       "      <td>0.897022</td>\n",
       "      <td>0.746154</td>\n",
       "    </tr>\n",
       "    <tr>\n",
       "      <th>NDCG@5</th>\n",
       "      <td>0.534166</td>\n",
       "      <td>0.517198</td>\n",
       "      <td>0.531936</td>\n",
       "      <td>0.475641</td>\n",
       "      <td>0.305572</td>\n",
       "    </tr>\n",
       "    <tr>\n",
       "      <th>MAP@5</th>\n",
       "      <td>0.670363</td>\n",
       "      <td>0.651275</td>\n",
       "      <td>0.663692</td>\n",
       "      <td>0.634136</td>\n",
       "      <td>0.545234</td>\n",
       "    </tr>\n",
       "    <tr>\n",
       "      <th>MRR</th>\n",
       "      <td>0.704501</td>\n",
       "      <td>0.697036</td>\n",
       "      <td>0.701981</td>\n",
       "      <td>0.681804</td>\n",
       "      <td>0.593101</td>\n",
       "    </tr>\n",
       "    <tr>\n",
       "      <th>AUC</th>\n",
       "      <td>0.827417</td>\n",
       "      <td>0.757246</td>\n",
       "      <td>0.828865</td>\n",
       "      <td>0.678551</td>\n",
       "      <td>0.636698</td>\n",
       "    </tr>\n",
       "  </tbody>\n",
       "</table>\n",
       "</div>"
      ],
      "text/plain": [
       "            PopRec     CLiMF    BRP_MP       iMF     TFMAP\n",
       "prec@5    0.530918  0.513151  0.530323  0.462531  0.262481\n",
       "1recal@5  0.943176  0.933499  0.937469  0.897022  0.746154\n",
       "NDCG@5    0.534166  0.517198  0.531936  0.475641  0.305572\n",
       "MAP@5     0.670363  0.651275  0.663692  0.634136  0.545234\n",
       "MRR       0.704501  0.697036  0.701981  0.681804  0.593101\n",
       "AUC       0.827417  0.757246  0.828865  0.678551  0.636698"
      ]
     },
     "execution_count": 76,
     "metadata": {},
     "output_type": "execute_result"
    }
   ],
   "source": [
    "climf_experiment(ml100k, create_list_cf(ml100k_shape), K=5, maxiter=5, topK=5,  verbose=0)"
   ]
  },
  {
   "cell_type": "code",
   "execution_count": 109,
   "metadata": {
    "collapsed": false
   },
   "outputs": [
    {
     "data": {
      "text/html": [
       "<div>\n",
       "<table border=\"1\" class=\"dataframe\">\n",
       "  <thead>\n",
       "    <tr style=\"text-align: right;\">\n",
       "      <th></th>\n",
       "      <th>PopRec</th>\n",
       "      <th>CLiMF</th>\n",
       "      <th>BRP_MP</th>\n",
       "      <th>iMF</th>\n",
       "      <th>TFMAP</th>\n",
       "    </tr>\n",
       "  </thead>\n",
       "  <tbody>\n",
       "    <tr>\n",
       "      <th>prec@5</th>\n",
       "      <td>0.484119</td>\n",
       "      <td>0.482184</td>\n",
       "      <td>0.473846</td>\n",
       "      <td>0.530720</td>\n",
       "      <td>0.473846</td>\n",
       "    </tr>\n",
       "    <tr>\n",
       "      <th>1recal@5</th>\n",
       "      <td>0.914640</td>\n",
       "      <td>0.914144</td>\n",
       "      <td>0.907444</td>\n",
       "      <td>0.929280</td>\n",
       "      <td>0.893797</td>\n",
       "    </tr>\n",
       "    <tr>\n",
       "      <th>NDCG@5</th>\n",
       "      <td>0.493463</td>\n",
       "      <td>0.495831</td>\n",
       "      <td>0.472595</td>\n",
       "      <td>0.536979</td>\n",
       "      <td>0.480281</td>\n",
       "    </tr>\n",
       "    <tr>\n",
       "      <th>MAP@5</th>\n",
       "      <td>0.649267</td>\n",
       "      <td>0.656846</td>\n",
       "      <td>0.611769</td>\n",
       "      <td>0.674191</td>\n",
       "      <td>0.621278</td>\n",
       "    </tr>\n",
       "    <tr>\n",
       "      <th>MRR</th>\n",
       "      <td>0.688521</td>\n",
       "      <td>0.698497</td>\n",
       "      <td>0.647435</td>\n",
       "      <td>0.713904</td>\n",
       "      <td>0.666023</td>\n",
       "    </tr>\n",
       "    <tr>\n",
       "      <th>AUC</th>\n",
       "      <td>0.853098</td>\n",
       "      <td>0.840584</td>\n",
       "      <td>0.853146</td>\n",
       "      <td>0.828562</td>\n",
       "      <td>0.763474</td>\n",
       "    </tr>\n",
       "  </tbody>\n",
       "</table>\n",
       "</div>"
      ],
      "text/plain": [
       "            PopRec     CLiMF    BRP_MP       iMF     TFMAP\n",
       "prec@5    0.484119  0.482184  0.473846  0.530720  0.473846\n",
       "1recal@5  0.914640  0.914144  0.907444  0.929280  0.893797\n",
       "NDCG@5    0.493463  0.495831  0.472595  0.536979  0.480281\n",
       "MAP@5     0.649267  0.656846  0.611769  0.674191  0.621278\n",
       "MRR       0.688521  0.698497  0.647435  0.713904  0.666023\n",
       "AUC       0.853098  0.840584  0.853146  0.828562  0.763474"
      ]
     },
     "execution_count": 109,
     "metadata": {},
     "output_type": "execute_result"
    }
   ],
   "source": [
    "climf_experiment(ml100k, create_list_cf(ml100k_shape), K=10, maxiter=5, topK=5,  verbose=0)"
   ]
  },
  {
   "cell_type": "code",
   "execution_count": 111,
   "metadata": {
    "collapsed": false
   },
   "outputs": [
    {
     "data": {
      "text/html": [
       "<div>\n",
       "<table border=\"1\" class=\"dataframe\">\n",
       "  <thead>\n",
       "    <tr style=\"text-align: right;\">\n",
       "      <th></th>\n",
       "      <th>PopRec</th>\n",
       "      <th>CLiMF</th>\n",
       "      <th>BRP_MP</th>\n",
       "      <th>iMF</th>\n",
       "      <th>TFMAP</th>\n",
       "    </tr>\n",
       "  </thead>\n",
       "  <tbody>\n",
       "    <tr>\n",
       "      <th>prec@5</th>\n",
       "      <td>0.480555</td>\n",
       "      <td>0.483583</td>\n",
       "      <td>0.479762</td>\n",
       "      <td>0.473995</td>\n",
       "      <td>0.413840</td>\n",
       "    </tr>\n",
       "    <tr>\n",
       "      <th>1recal@5</th>\n",
       "      <td>0.880519</td>\n",
       "      <td>0.870427</td>\n",
       "      <td>0.882682</td>\n",
       "      <td>0.870788</td>\n",
       "      <td>0.853848</td>\n",
       "    </tr>\n",
       "    <tr>\n",
       "      <th>NDCG@5</th>\n",
       "      <td>0.493571</td>\n",
       "      <td>0.495208</td>\n",
       "      <td>0.492313</td>\n",
       "      <td>0.485062</td>\n",
       "      <td>0.451584</td>\n",
       "    </tr>\n",
       "    <tr>\n",
       "      <th>MAP@5</th>\n",
       "      <td>0.648909</td>\n",
       "      <td>0.653467</td>\n",
       "      <td>0.648408</td>\n",
       "      <td>0.628551</td>\n",
       "      <td>0.662639</td>\n",
       "    </tr>\n",
       "    <tr>\n",
       "      <th>MRR</th>\n",
       "      <td>0.694116</td>\n",
       "      <td>0.691678</td>\n",
       "      <td>0.693038</td>\n",
       "      <td>0.672882</td>\n",
       "      <td>0.701911</td>\n",
       "    </tr>\n",
       "    <tr>\n",
       "      <th>AUC</th>\n",
       "      <td>0.850340</td>\n",
       "      <td>0.828613</td>\n",
       "      <td>0.848813</td>\n",
       "      <td>0.718570</td>\n",
       "      <td>0.747666</td>\n",
       "    </tr>\n",
       "  </tbody>\n",
       "</table>\n",
       "</div>"
      ],
      "text/plain": [
       "            PopRec     CLiMF    BRP_MP       iMF     TFMAP\n",
       "prec@5    0.480555  0.483583  0.479762  0.473995  0.413840\n",
       "1recal@5  0.880519  0.870427  0.882682  0.870788  0.853848\n",
       "NDCG@5    0.493571  0.495208  0.492313  0.485062  0.451584\n",
       "MAP@5     0.648909  0.653467  0.648408  0.628551  0.662639\n",
       "MRR       0.694116  0.691678  0.693038  0.672882  0.701911\n",
       "AUC       0.850340  0.828613  0.848813  0.718570  0.747666"
      ]
     },
     "execution_count": 111,
     "metadata": {},
     "output_type": "execute_result"
    }
   ],
   "source": [
    "climf_experiment(ml1m, create_list_cf(ml1m_shape), K=5, maxiter=5, topK=5, verbose=0)"
   ]
  },
  {
   "cell_type": "code",
   "execution_count": 107,
   "metadata": {
    "collapsed": false
   },
   "outputs": [
    {
     "data": {
      "text/html": [
       "<div>\n",
       "<table border=\"1\" class=\"dataframe\">\n",
       "  <thead>\n",
       "    <tr style=\"text-align: right;\">\n",
       "      <th></th>\n",
       "      <th>PopRec</th>\n",
       "      <th>CLiMF</th>\n",
       "      <th>BRP_MP</th>\n",
       "      <th>iMF</th>\n",
       "      <th>TFMAP</th>\n",
       "    </tr>\n",
       "  </thead>\n",
       "  <tbody>\n",
       "    <tr>\n",
       "      <th>prec@5</th>\n",
       "      <td>0.490395</td>\n",
       "      <td>0.490395</td>\n",
       "      <td>0.483583</td>\n",
       "      <td>0.573905</td>\n",
       "      <td>0.490611</td>\n",
       "    </tr>\n",
       "    <tr>\n",
       "      <th>1recal@5</th>\n",
       "      <td>0.861056</td>\n",
       "      <td>0.861056</td>\n",
       "      <td>0.847901</td>\n",
       "      <td>0.930258</td>\n",
       "      <td>0.858713</td>\n",
       "    </tr>\n",
       "    <tr>\n",
       "      <th>NDCG@5</th>\n",
       "      <td>0.501165</td>\n",
       "      <td>0.501165</td>\n",
       "      <td>0.491860</td>\n",
       "      <td>0.583821</td>\n",
       "      <td>0.501419</td>\n",
       "    </tr>\n",
       "    <tr>\n",
       "      <th>MAP@5</th>\n",
       "      <td>0.655779</td>\n",
       "      <td>0.655779</td>\n",
       "      <td>0.615115</td>\n",
       "      <td>0.708827</td>\n",
       "      <td>0.659461</td>\n",
       "    </tr>\n",
       "    <tr>\n",
       "      <th>MRR</th>\n",
       "      <td>0.690318</td>\n",
       "      <td>0.690345</td>\n",
       "      <td>0.659755</td>\n",
       "      <td>0.753014</td>\n",
       "      <td>0.689735</td>\n",
       "    </tr>\n",
       "    <tr>\n",
       "      <th>AUC</th>\n",
       "      <td>0.856129</td>\n",
       "      <td>0.851473</td>\n",
       "      <td>0.855643</td>\n",
       "      <td>0.827976</td>\n",
       "      <td>0.804301</td>\n",
       "    </tr>\n",
       "  </tbody>\n",
       "</table>\n",
       "</div>"
      ],
      "text/plain": [
       "            PopRec     CLiMF    BRP_MP       iMF     TFMAP\n",
       "prec@5    0.490395  0.490395  0.483583  0.573905  0.490611\n",
       "1recal@5  0.861056  0.861056  0.847901  0.930258  0.858713\n",
       "NDCG@5    0.501165  0.501165  0.491860  0.583821  0.501419\n",
       "MAP@5     0.655779  0.655779  0.615115  0.708827  0.659461\n",
       "MRR       0.690318  0.690345  0.659755  0.753014  0.689735\n",
       "AUC       0.856129  0.851473  0.855643  0.827976  0.804301"
      ]
     },
     "execution_count": 107,
     "metadata": {},
     "output_type": "execute_result"
    }
   ],
   "source": [
    "climf_experiment(ml1m, create_list_cf(ml1m_shape), K=10, maxiter=1, topK=5, verbose=0)"
   ]
  },
  {
   "cell_type": "code",
   "execution_count": null,
   "metadata": {
    "collapsed": false
   },
   "outputs": [],
   "source": [
    "for i in range(5, 16, 5):\n",
    "    res = climf_experiment(epinion, create_list_cf(epinion_shape), K = i, topK=5)\n",
    "    with open( respath + '_climfexperiment_' + 'epinion' + str(i) +'.pickle', 'wb') as f:\n",
    "        pickle.dump(res, f)\n",
    "    print(res)\n",
    "    sys.stdout.flush()"
   ]
  },
  {
   "cell_type": "code",
   "execution_count": null,
   "metadata": {
    "collapsed": false
   },
   "outputs": [],
   "source": [
    "for i in range(5, 16, 5):\n",
    "    res = climf_experiment(slashdot, create_list_cf(slashdot_shape),K = i, topK=5)\n",
    "    with open( respath + '_climfexperiment_' + 'slashdot' + str(i) +'.pickle', 'wb') as f:\n",
    "        pickle.dump(res, f)\n",
    "    print(res)\n",
    "    sys.stdout.flush()"
   ]
  },
  {
   "cell_type": "code",
   "execution_count": null,
   "metadata": {
    "collapsed": false,
    "scrolled": true
   },
   "outputs": [],
   "source": [
    "# for i in range(5, 21, 5):\n",
    "#     with open('climf_res' + str(i) +'.pickle', 'rb') as f:\n",
    "#         tbl = pickle.load(f)\n",
    "#     print('---------')\n",
    "#     print('K =', i)\n",
    "#     show_smart_table(tbl)\n",
    "#     with open('climf_res_top' + str(i) + '.pickle', 'rb') as f:\n",
    "#         tbl = pickle.load(f)\n",
    "#     print('---------')\n",
    "#     print('K =', i, 'without top')\n",
    "#     show_smart_table(tbl)"
   ]
  },
  {
   "cell_type": "markdown",
   "metadata": {},
   "source": [
    "### Сравнение работы методов(на наборе данных epinion). В данный момент мне кажется, что данныйэксперимент не совсем коректен"
   ]
  },
  {
   "cell_type": "code",
   "execution_count": 82,
   "metadata": {
    "collapsed": false
   },
   "outputs": [],
   "source": [
    "import rankensemble\n",
    "from scipy import stats\n",
    "ens = rankensemble.ensemble(create_list_cf(ml100k_shape), verbose=1)\n",
    "\n",
    "train, test, traintest = givenK_train_test(ml100k, 5)"
   ]
  },
  {
   "cell_type": "code",
   "execution_count": 88,
   "metadata": {
    "collapsed": false
   },
   "outputs": [
    {
     "name": "stdout",
     "output_type": "stream",
     "text": [
      "iteration 0\n",
      "iteration 1\n",
      "iteration 2\n",
      "iteration 3\n",
      "iteration 4\n"
     ]
    }
   ],
   "source": [
    "ens.fit(train)"
   ]
  },
  {
   "cell_type": "code",
   "execution_count": 91,
   "metadata": {
    "collapsed": false
   },
   "outputs": [
    {
     "name": "stdout",
     "output_type": "stream",
     "text": [
      "(0.00011912396926166499, 0.0009642097462448071)\n",
      "(-0.018065161852567208, 1.137419421615514)\n",
      "(-0.58646263422899936, 0.84246634378077601)\n",
      "(0.00016782302882083043, 0.0012646633346597746)\n"
     ]
    }
   ],
   "source": [
    "for i in range(1, 5):\n",
    "    print(stats.describe(ens.list_cf[i].get_f(0)).minmax)"
   ]
  },
  {
   "cell_type": "code",
   "execution_count": 80,
   "metadata": {
    "collapsed": false
   },
   "outputs": [],
   "source": [
    "z = ens.list_cf[2].get_f(0)"
   ]
  },
  {
   "cell_type": "code",
   "execution_count": 81,
   "metadata": {
    "collapsed": false
   },
   "outputs": [
    {
     "data": {
      "text/plain": [
       "156.92485978817024"
      ]
     },
     "execution_count": 81,
     "metadata": {},
     "output_type": "execute_result"
    }
   ],
   "source": [
    "z"
   ]
  },
  {
   "cell_type": "code",
   "execution_count": 67,
   "metadata": {
    "collapsed": false
   },
   "outputs": [
    {
     "data": {
      "text/plain": [
       "DescribeResult(nobs=5, minmax=(1, 5), mean=3.0, variance=2.5, skewness=0.0, kurtosis=-1.3)"
      ]
     },
     "execution_count": 67,
     "metadata": {},
     "output_type": "execute_result"
    }
   ],
   "source": [
    "stats.describe([1,2,3,4,5])"
   ]
  },
  {
   "cell_type": "code",
   "execution_count": 88,
   "metadata": {
    "collapsed": false
   },
   "outputs": [
    {
     "data": {
      "text/plain": [
       "array([[ 0.        ,  0.80068104,  0.99350738,  0.15718502,  0.96286039],\n",
       "       [ 0.80068104,  0.        ,  0.80485812,  0.15582293,  0.80190692],\n",
       "       [ 0.99350738,  0.80485812,  0.        ,  0.15741203,  0.95750284],\n",
       "       [ 0.15718502,  0.15582293,  0.15741203,  0.        ,  0.15723042],\n",
       "       [ 0.96286039,  0.80190692,  0.95750284,  0.15723042,  0.        ]])"
      ]
     },
     "execution_count": 88,
     "metadata": {},
     "output_type": "execute_result"
    }
   ],
   "source": [
    "mean_matrix_similar(ens, topK=5)"
   ]
  },
  {
   "cell_type": "code",
   "execution_count": 89,
   "metadata": {
    "collapsed": false
   },
   "outputs": [
    {
     "data": {
      "text/plain": [
       "array([[ 0.        ,  0.90338252,  0.99920545,  0.18208854,  0.64785471],\n",
       "       [ 0.90338252,  0.        ,  0.9030874 ,  0.18256527,  0.67334847],\n",
       "       [ 0.99920545,  0.9030874 ,  0.        ,  0.18213394,  0.64735528],\n",
       "       [ 0.18208854,  0.18256527,  0.18213394,  0.        ,  0.17053348],\n",
       "       [ 0.64785471,  0.67334847,  0.64735528,  0.17053348,  0.        ]])"
      ]
     },
     "execution_count": 89,
     "metadata": {},
     "output_type": "execute_result"
    }
   ],
   "source": [
    "mean_matrix_similar(ens, topK=10)"
   ]
  },
  {
   "cell_type": "markdown",
   "metadata": {},
   "source": [
    "### Построение ансамбля"
   ]
  },
  {
   "cell_type": "code",
   "execution_count": 118,
   "metadata": {
    "collapsed": false
   },
   "outputs": [],
   "source": [
    "import rankensemble"
   ]
  },
  {
   "cell_type": "code",
   "execution_count": 292,
   "metadata": {
    "collapsed": true
   },
   "outputs": [],
   "source": [
    "def ensemble_experiment(data, list_cf, list_ensemble, K=5, maxiter=1, topK=5, verbose=0):\n",
    "    res = np.zeros((4, len(list_cf) + len(list_ensemble)))\n",
    "    for t in range(maxiter):\n",
    "        train, test, traintest = givenK_train_test(data, K)\n",
    "        for i in range(len(list_cf)):\n",
    "            list_cf[i].fit(train)\n",
    "            prec_k, one_recal_k, ngdc, mp = rankingmeasure.get_Kmetrics(train, test, list_cf[i], K=topK)\n",
    "            res[:, i] += np.array([prec_k, one_recal_k, ngdc, mp])\n",
    "            if verbose == 1:\n",
    "                print(t, i, res[:, i] / (t + 1))\n",
    "                sys.stdout.flush()\n",
    "            \n",
    "        for j, ens in enumerate(list_ensemble):\n",
    "            m = j + len(list_cf)\n",
    "            ens.fit(list_cf)\n",
    "            prec_k, one_recal_k, ngdc, mp = rankingmeasure.get_Kmetrics(train, test, ens, K=topK)\n",
    "            res[:, m] += np.array([prec_k, one_recal_k, ngdc, mp])\n",
    "            if verbose == 1:\n",
    "                print(t, m, res[:, m] / (t +1))\n",
    "        \n",
    "    res /= maxiter\n",
    "    res = pd.DataFrame(res)\n",
    "    res.columns = [type(cf).__name__ for cf in list_cf] + [type(ens).__name__ for ens  in list_ensemble]\n",
    "    res.index = [name + str(topK) for name in ['prec@', '1recal@', 'NDCG@', 'MAP@']]\n",
    "#     res.index = []\n",
    "#     res.columns = ['PopRec', 'CLiMF', 'BRP_MP', 'iMF', 'TFMAP', 'top_ensemble', 'rating_ensamble']\n",
    "#     res.index = ['prec@' + str(topK),'1recal@' + str(topK), 'NDCG@' + str(topK), \n",
    "#                'MAP@' + str(topK)]\n",
    "    return res"
   ]
  },
  {
   "cell_type": "code",
   "execution_count": 42,
   "metadata": {
    "collapsed": false
   },
   "outputs": [
    {
     "data": {
      "text/plain": [
       "'CLiMF'"
      ]
     },
     "execution_count": 42,
     "metadata": {},
     "output_type": "execute_result"
    }
   ],
   "source": [
    "type(create_list_cf(ml100k_shape)[1]).__name__"
   ]
  },
  {
   "cell_type": "code",
   "execution_count": 44,
   "metadata": {
    "collapsed": false
   },
   "outputs": [
    {
     "data": {
      "text/plain": [
       "'CLiMF'"
      ]
     },
     "execution_count": 44,
     "metadata": {},
     "output_type": "execute_result"
    }
   ],
   "source": [
    "create_list_cf(ml100k_shape)[1].__class__.__name__"
   ]
  },
  {
   "cell_type": "code",
   "execution_count": 126,
   "metadata": {
    "collapsed": false
   },
   "outputs": [],
   "source": [
    "list_ensemble = [\n",
    "    rankensemble.top_ensemble(topK=100),\n",
    "    rankensemble.rating_ensemble()\n",
    "]"
   ]
  },
  {
   "cell_type": "code",
   "execution_count": 157,
   "metadata": {
    "collapsed": false
   },
   "outputs": [
    {
     "name": "stdout",
     "output_type": "stream",
     "text": [
      "0 0 [ 0.54168734  0.9516129   0.56554854  0.73091915]\n",
      "0 1 [ 0.53523573  0.94789082  0.56062876  0.72182417]\n",
      "0 2 [ 0.53002481  0.94665012  0.54791251  0.71001344]\n",
      "0 3 [ 0.47047146  0.9057072   0.48534118  0.64311759]\n",
      "0 4 [ 0.28684864  0.80645161  0.35644954  0.6578698 ]\n",
      "0 5 [ 0.49181141  0.94665012  0.52469951  0.71084746]\n",
      "0 6 [ 0.51960298  0.95409429  0.55077109  0.73050041]\n"
     ]
    },
    {
     "data": {
      "text/html": [
       "<div>\n",
       "<table border=\"1\" class=\"dataframe\">\n",
       "  <thead>\n",
       "    <tr style=\"text-align: right;\">\n",
       "      <th></th>\n",
       "      <th>PopRec</th>\n",
       "      <th>CLiMF</th>\n",
       "      <th>BRP_MP</th>\n",
       "      <th>iMF</th>\n",
       "      <th>TFMAP</th>\n",
       "      <th>top_ensemble</th>\n",
       "      <th>rating_ensamble</th>\n",
       "    </tr>\n",
       "  </thead>\n",
       "  <tbody>\n",
       "    <tr>\n",
       "      <th>prec@5</th>\n",
       "      <td>0.541687</td>\n",
       "      <td>0.535236</td>\n",
       "      <td>0.530025</td>\n",
       "      <td>0.470471</td>\n",
       "      <td>0.286849</td>\n",
       "      <td>0.491811</td>\n",
       "      <td>0.519603</td>\n",
       "    </tr>\n",
       "    <tr>\n",
       "      <th>1recal@5</th>\n",
       "      <td>0.951613</td>\n",
       "      <td>0.947891</td>\n",
       "      <td>0.946650</td>\n",
       "      <td>0.905707</td>\n",
       "      <td>0.806452</td>\n",
       "      <td>0.946650</td>\n",
       "      <td>0.954094</td>\n",
       "    </tr>\n",
       "    <tr>\n",
       "      <th>NDCG@5</th>\n",
       "      <td>0.565549</td>\n",
       "      <td>0.560629</td>\n",
       "      <td>0.547913</td>\n",
       "      <td>0.485341</td>\n",
       "      <td>0.356450</td>\n",
       "      <td>0.524700</td>\n",
       "      <td>0.550771</td>\n",
       "    </tr>\n",
       "    <tr>\n",
       "      <th>MAP@5</th>\n",
       "      <td>0.730919</td>\n",
       "      <td>0.721824</td>\n",
       "      <td>0.710013</td>\n",
       "      <td>0.643118</td>\n",
       "      <td>0.657870</td>\n",
       "      <td>0.710847</td>\n",
       "      <td>0.730500</td>\n",
       "    </tr>\n",
       "  </tbody>\n",
       "</table>\n",
       "</div>"
      ],
      "text/plain": [
       "            PopRec     CLiMF    BRP_MP       iMF     TFMAP  top_ensemble  \\\n",
       "prec@5    0.541687  0.535236  0.530025  0.470471  0.286849      0.491811   \n",
       "1recal@5  0.951613  0.947891  0.946650  0.905707  0.806452      0.946650   \n",
       "NDCG@5    0.565549  0.560629  0.547913  0.485341  0.356450      0.524700   \n",
       "MAP@5     0.730919  0.721824  0.710013  0.643118  0.657870      0.710847   \n",
       "\n",
       "          rating_ensamble  \n",
       "prec@5           0.519603  \n",
       "1recal@5         0.954094  \n",
       "NDCG@5           0.550771  \n",
       "MAP@5            0.730500  "
      ]
     },
     "execution_count": 157,
     "metadata": {},
     "output_type": "execute_result"
    }
   ],
   "source": [
    "ensemble_experiment(ml100k, create_list_cf(ml100k_shape), list_ensemble, K=5, maxiter=1, topK=5, verbose=1)"
   ]
  },
  {
   "cell_type": "code",
   "execution_count": 162,
   "metadata": {
    "collapsed": false
   },
   "outputs": [
    {
     "data": {
      "text/html": [
       "<div>\n",
       "<table border=\"1\" class=\"dataframe\">\n",
       "  <thead>\n",
       "    <tr style=\"text-align: right;\">\n",
       "      <th></th>\n",
       "      <th>PopRec</th>\n",
       "      <th>CLiMF</th>\n",
       "      <th>BRP_MP</th>\n",
       "      <th>iMF</th>\n",
       "      <th>TFMAP</th>\n",
       "      <th>top_ensemble</th>\n",
       "      <th>rating_ensamble</th>\n",
       "    </tr>\n",
       "  </thead>\n",
       "  <tbody>\n",
       "    <tr>\n",
       "      <th>prec@5</th>\n",
       "      <td>0.531216</td>\n",
       "      <td>0.494541</td>\n",
       "      <td>0.530174</td>\n",
       "      <td>0.473449</td>\n",
       "      <td>0.175831</td>\n",
       "      <td>0.424814</td>\n",
       "      <td>0.471861</td>\n",
       "    </tr>\n",
       "    <tr>\n",
       "      <th>1recal@5</th>\n",
       "      <td>0.937717</td>\n",
       "      <td>0.933251</td>\n",
       "      <td>0.936973</td>\n",
       "      <td>0.900744</td>\n",
       "      <td>0.595037</td>\n",
       "      <td>0.892308</td>\n",
       "      <td>0.920596</td>\n",
       "    </tr>\n",
       "    <tr>\n",
       "      <th>NDCG@5</th>\n",
       "      <td>0.529777</td>\n",
       "      <td>0.504456</td>\n",
       "      <td>0.528797</td>\n",
       "      <td>0.487309</td>\n",
       "      <td>0.205168</td>\n",
       "      <td>0.437663</td>\n",
       "      <td>0.486816</td>\n",
       "    </tr>\n",
       "    <tr>\n",
       "      <th>MAP@5</th>\n",
       "      <td>0.661718</td>\n",
       "      <td>0.658123</td>\n",
       "      <td>0.663150</td>\n",
       "      <td>0.642809</td>\n",
       "      <td>0.400903</td>\n",
       "      <td>0.602600</td>\n",
       "      <td>0.651020</td>\n",
       "    </tr>\n",
       "  </tbody>\n",
       "</table>\n",
       "</div>"
      ],
      "text/plain": [
       "            PopRec     CLiMF    BRP_MP       iMF     TFMAP  top_ensemble  \\\n",
       "prec@5    0.531216  0.494541  0.530174  0.473449  0.175831      0.424814   \n",
       "1recal@5  0.937717  0.933251  0.936973  0.900744  0.595037      0.892308   \n",
       "NDCG@5    0.529777  0.504456  0.528797  0.487309  0.205168      0.437663   \n",
       "MAP@5     0.661718  0.658123  0.663150  0.642809  0.400903      0.602600   \n",
       "\n",
       "          rating_ensamble  \n",
       "prec@5           0.471861  \n",
       "1recal@5         0.920596  \n",
       "NDCG@5           0.486816  \n",
       "MAP@5            0.651020  "
      ]
     },
     "execution_count": 162,
     "metadata": {},
     "output_type": "execute_result"
    }
   ],
   "source": [
    "ensemble_experiment(ml100k, create_list_cf(ml100k_shape), list_ensemble, K=5, maxiter=5, topK=5, verbose=0)"
   ]
  },
  {
   "cell_type": "code",
   "execution_count": 134,
   "metadata": {
    "collapsed": false
   },
   "outputs": [
    {
     "data": {
      "text/html": [
       "<div>\n",
       "<table border=\"1\" class=\"dataframe\">\n",
       "  <thead>\n",
       "    <tr style=\"text-align: right;\">\n",
       "      <th></th>\n",
       "      <th>PopRec</th>\n",
       "      <th>CLiMF</th>\n",
       "      <th>BRP_MP</th>\n",
       "      <th>iMF</th>\n",
       "      <th>TFMAP</th>\n",
       "      <th>top_ensemble</th>\n",
       "      <th>rating_ensamble</th>\n",
       "    </tr>\n",
       "  </thead>\n",
       "  <tbody>\n",
       "    <tr>\n",
       "      <th>prec@5</th>\n",
       "      <td>0.200772</td>\n",
       "      <td>0.200817</td>\n",
       "      <td>0.200863</td>\n",
       "      <td>0.185108</td>\n",
       "      <td>0.173984</td>\n",
       "      <td>0.208445</td>\n",
       "      <td>0.208808</td>\n",
       "    </tr>\n",
       "    <tr>\n",
       "      <th>1recal@5</th>\n",
       "      <td>0.567537</td>\n",
       "      <td>0.567764</td>\n",
       "      <td>0.567991</td>\n",
       "      <td>0.547333</td>\n",
       "      <td>0.535074</td>\n",
       "      <td>0.607037</td>\n",
       "      <td>0.602951</td>\n",
       "    </tr>\n",
       "    <tr>\n",
       "      <th>NDCG@5</th>\n",
       "      <td>0.226087</td>\n",
       "      <td>0.225243</td>\n",
       "      <td>0.226201</td>\n",
       "      <td>0.194972</td>\n",
       "      <td>0.192173</td>\n",
       "      <td>0.229174</td>\n",
       "      <td>0.232720</td>\n",
       "    </tr>\n",
       "    <tr>\n",
       "      <th>MAP@5</th>\n",
       "      <td>0.393387</td>\n",
       "      <td>0.390337</td>\n",
       "      <td>0.393568</td>\n",
       "      <td>0.330410</td>\n",
       "      <td>0.345052</td>\n",
       "      <td>0.397119</td>\n",
       "      <td>0.403010</td>\n",
       "    </tr>\n",
       "  </tbody>\n",
       "</table>\n",
       "</div>"
      ],
      "text/plain": [
       "            PopRec     CLiMF    BRP_MP       iMF     TFMAP  top_ensemble  \\\n",
       "prec@5    0.200772  0.200817  0.200863  0.185108  0.173984      0.208445   \n",
       "1recal@5  0.567537  0.567764  0.567991  0.547333  0.535074      0.607037   \n",
       "NDCG@5    0.226087  0.225243  0.226201  0.194972  0.192173      0.229174   \n",
       "MAP@5     0.393387  0.390337  0.393568  0.330410  0.345052      0.397119   \n",
       "\n",
       "          rating_ensamble  \n",
       "prec@5           0.208808  \n",
       "1recal@5         0.602951  \n",
       "NDCG@5           0.232720  \n",
       "MAP@5            0.403010  "
      ]
     },
     "execution_count": 134,
     "metadata": {},
     "output_type": "execute_result"
    }
   ],
   "source": [
    "ensemble_experiment(epinion, create_list_cf(epinion_shape), list_ensemble, K=5, maxiter=1, topK=5, verbose=0)"
   ]
  },
  {
   "cell_type": "code",
   "execution_count": 133,
   "metadata": {
    "collapsed": false
   },
   "outputs": [
    {
     "name": "stdout",
     "output_type": "stream",
     "text": [
      "0 0 [ 0.18342792  0.51509648  0.20601151  0.3564737 ]\n",
      "0 1 [ 0.18410897  0.51577753  0.20671154  0.35824001]\n",
      "0 2 [ 0.18270148  0.51055619  0.20579179  0.35790989]\n",
      "0 3 [ 0.25357548  0.63813848  0.2618443   0.39858147]\n",
      "0 4 [ 0.17934166  0.5107832   0.20290152  0.3545671 ]\n",
      "0 5 [ 0.22860386  0.62860386  0.24676022  0.40783485]\n",
      "0 6 [ 0.21262202  0.60090806  0.22739217  0.3751586 ]\n"
     ]
    },
    {
     "data": {
      "text/html": [
       "<div>\n",
       "<table border=\"1\" class=\"dataframe\">\n",
       "  <thead>\n",
       "    <tr style=\"text-align: right;\">\n",
       "      <th></th>\n",
       "      <th>PopRec</th>\n",
       "      <th>CLiMF</th>\n",
       "      <th>BRP_MP</th>\n",
       "      <th>iMF</th>\n",
       "      <th>TFMAP</th>\n",
       "      <th>top_ensemble</th>\n",
       "      <th>rating_ensamble</th>\n",
       "    </tr>\n",
       "  </thead>\n",
       "  <tbody>\n",
       "    <tr>\n",
       "      <th>prec@5</th>\n",
       "      <td>0.183428</td>\n",
       "      <td>0.184109</td>\n",
       "      <td>0.182701</td>\n",
       "      <td>0.253575</td>\n",
       "      <td>0.179342</td>\n",
       "      <td>0.228604</td>\n",
       "      <td>0.212622</td>\n",
       "    </tr>\n",
       "    <tr>\n",
       "      <th>1recal@5</th>\n",
       "      <td>0.515096</td>\n",
       "      <td>0.515778</td>\n",
       "      <td>0.510556</td>\n",
       "      <td>0.638138</td>\n",
       "      <td>0.510783</td>\n",
       "      <td>0.628604</td>\n",
       "      <td>0.600908</td>\n",
       "    </tr>\n",
       "    <tr>\n",
       "      <th>NDCG@5</th>\n",
       "      <td>0.206012</td>\n",
       "      <td>0.206712</td>\n",
       "      <td>0.205792</td>\n",
       "      <td>0.261844</td>\n",
       "      <td>0.202902</td>\n",
       "      <td>0.246760</td>\n",
       "      <td>0.227392</td>\n",
       "    </tr>\n",
       "    <tr>\n",
       "      <th>MAP@5</th>\n",
       "      <td>0.356474</td>\n",
       "      <td>0.358240</td>\n",
       "      <td>0.357910</td>\n",
       "      <td>0.398581</td>\n",
       "      <td>0.354567</td>\n",
       "      <td>0.407835</td>\n",
       "      <td>0.375159</td>\n",
       "    </tr>\n",
       "  </tbody>\n",
       "</table>\n",
       "</div>"
      ],
      "text/plain": [
       "            PopRec     CLiMF    BRP_MP       iMF     TFMAP  top_ensemble  \\\n",
       "prec@5    0.183428  0.184109  0.182701  0.253575  0.179342      0.228604   \n",
       "1recal@5  0.515096  0.515778  0.510556  0.638138  0.510783      0.628604   \n",
       "NDCG@5    0.206012  0.206712  0.205792  0.261844  0.202902      0.246760   \n",
       "MAP@5     0.356474  0.358240  0.357910  0.398581  0.354567      0.407835   \n",
       "\n",
       "          rating_ensamble  \n",
       "prec@5           0.212622  \n",
       "1recal@5         0.600908  \n",
       "NDCG@5           0.227392  \n",
       "MAP@5            0.375159  "
      ]
     },
     "execution_count": 133,
     "metadata": {},
     "output_type": "execute_result"
    }
   ],
   "source": [
    "ensemble_experiment(epinion, create_list_cf(epinion_shape), list_ensemble, K=10, maxiter=1, topK=5, verbose=0)"
   ]
  },
  {
   "cell_type": "code",
   "execution_count": 136,
   "metadata": {
    "collapsed": false
   },
   "outputs": [
    {
     "data": {
      "text/plain": [
       "array([1, 4, 0, 3, 2])"
      ]
     },
     "execution_count": 136,
     "metadata": {},
     "output_type": "execute_result"
    }
   ],
   "source": [
    "np.random.choice(5, 5, replace=False)"
   ]
  },
  {
   "cell_type": "code",
   "execution_count": 150,
   "metadata": {
    "collapsed": false
   },
   "outputs": [
    {
     "name": "stdout",
     "output_type": "stream",
     "text": [
      "None [5, 1, 3, 2, 4]\n"
     ]
    }
   ],
   "source": [
    "import random\n",
    "a = [1,2,3,4,5]\n",
    "print(random.shuffle(a), a)"
   ]
  },
  {
   "cell_type": "markdown",
   "metadata": {},
   "source": [
    "## ансамбль по внутренним значениям функции"
   ]
  },
  {
   "cell_type": "code",
   "execution_count": 92,
   "metadata": {
    "collapsed": false
   },
   "outputs": [],
   "source": [
    "import rankensemble\n",
    "ens = rankensemble.ensemble(create_list_cf(ml100k_shape)[1:], verbose=1)\n",
    "train, test, traintest = givenK_train_test(ml100k, 5)"
   ]
  },
  {
   "cell_type": "code",
   "execution_count": 290,
   "metadata": {
    "collapsed": false
   },
   "outputs": [],
   "source": [
    "list_ensemble = [\n",
    "#     rankensemble.top_ensemble(topK=100),\n",
    "#     rankensemble.rating_ensemble(), \n",
    "    rankensemble.inner_value_ensemble()\n",
    "]"
   ]
  },
  {
   "cell_type": "code",
   "execution_count": 100,
   "metadata": {
    "collapsed": false
   },
   "outputs": [
    {
     "name": "stdout",
     "output_type": "stream",
     "text": [
      "[ 0.25  0.25  0.25  0.25] 4\n",
      "[ 0.25  0.25  0.25  0.25] 4\n",
      "[ 0.25  0.25  0.25  0.25] 4\n",
      "[ 0.25  0.25  0.25  0.25] 4\n",
      "[ 0.25  0.25  0.25  0.25] 4\n",
      "[ 0.25  0.25  0.25  0.25] 4\n",
      "[ 0.25  0.25  0.25  0.25] 4\n",
      "[ 0.25  0.25  0.25  0.25] 4\n"
     ]
    },
    {
     "data": {
      "text/html": [
       "<div>\n",
       "<table border=\"1\" class=\"dataframe\">\n",
       "  <thead>\n",
       "    <tr style=\"text-align: right;\">\n",
       "      <th></th>\n",
       "      <th>CLiMF</th>\n",
       "      <th>BPR_MF</th>\n",
       "      <th>iMF</th>\n",
       "      <th>TFMAP</th>\n",
       "      <th>top_ensemble</th>\n",
       "      <th>rating_ensemble</th>\n",
       "      <th>inner_value_ensemble</th>\n",
       "    </tr>\n",
       "  </thead>\n",
       "  <tbody>\n",
       "    <tr>\n",
       "      <th>prec@5</th>\n",
       "      <td>0.512109</td>\n",
       "      <td>0.525558</td>\n",
       "      <td>0.472655</td>\n",
       "      <td>0.177618</td>\n",
       "      <td>0.419305</td>\n",
       "      <td>0.446799</td>\n",
       "      <td>0.536774</td>\n",
       "    </tr>\n",
       "    <tr>\n",
       "      <th>1recal@5</th>\n",
       "      <td>0.932010</td>\n",
       "      <td>0.937469</td>\n",
       "      <td>0.893052</td>\n",
       "      <td>0.569231</td>\n",
       "      <td>0.902233</td>\n",
       "      <td>0.916129</td>\n",
       "      <td>0.943176</td>\n",
       "    </tr>\n",
       "    <tr>\n",
       "      <th>NDCG@5</th>\n",
       "      <td>0.523862</td>\n",
       "      <td>0.530794</td>\n",
       "      <td>0.486806</td>\n",
       "      <td>0.201704</td>\n",
       "      <td>0.433299</td>\n",
       "      <td>0.471194</td>\n",
       "      <td>0.546477</td>\n",
       "    </tr>\n",
       "    <tr>\n",
       "      <th>MAP@5</th>\n",
       "      <td>0.675033</td>\n",
       "      <td>0.671971</td>\n",
       "      <td>0.640342</td>\n",
       "      <td>0.379078</td>\n",
       "      <td>0.609188</td>\n",
       "      <td>0.656207</td>\n",
       "      <td>0.686571</td>\n",
       "    </tr>\n",
       "  </tbody>\n",
       "</table>\n",
       "</div>"
      ],
      "text/plain": [
       "             CLiMF    BPR_MF       iMF     TFMAP  top_ensemble  \\\n",
       "prec@5    0.512109  0.525558  0.472655  0.177618      0.419305   \n",
       "1recal@5  0.932010  0.937469  0.893052  0.569231      0.902233   \n",
       "NDCG@5    0.523862  0.530794  0.486806  0.201704      0.433299   \n",
       "MAP@5     0.675033  0.671971  0.640342  0.379078      0.609188   \n",
       "\n",
       "          rating_ensemble  inner_value_ensemble  \n",
       "prec@5           0.446799              0.536774  \n",
       "1recal@5         0.916129              0.943176  \n",
       "NDCG@5           0.471194              0.546477  \n",
       "MAP@5            0.656207              0.686571  "
      ]
     },
     "execution_count": 100,
     "metadata": {},
     "output_type": "execute_result"
    }
   ],
   "source": [
    "ensemble_experiment(ml100k, create_list_cf(ml100k_shape)[1:5], list_ensemble, K=5, verbose=0, maxiter=5)"
   ]
  },
  {
   "cell_type": "code",
   "execution_count": 101,
   "metadata": {
    "collapsed": false
   },
   "outputs": [
    {
     "data": {
      "text/html": [
       "<div>\n",
       "<table border=\"1\" class=\"dataframe\">\n",
       "  <thead>\n",
       "    <tr style=\"text-align: right;\">\n",
       "      <th></th>\n",
       "      <th>CLiMF</th>\n",
       "      <th>BPR_MF</th>\n",
       "      <th>iMF</th>\n",
       "      <th>TFMAP</th>\n",
       "      <th>top_ensemble</th>\n",
       "      <th>rating_ensemble</th>\n",
       "      <th>inner_value_ensemble</th>\n",
       "    </tr>\n",
       "  </thead>\n",
       "  <tbody>\n",
       "    <tr>\n",
       "      <th>prec@5</th>\n",
       "      <td>0.180431</td>\n",
       "      <td>0.188014</td>\n",
       "      <td>0.184109</td>\n",
       "      <td>0.173258</td>\n",
       "      <td>0.200454</td>\n",
       "      <td>0.201453</td>\n",
       "      <td>0.214938</td>\n",
       "    </tr>\n",
       "    <tr>\n",
       "      <th>1recal@5</th>\n",
       "      <td>0.517594</td>\n",
       "      <td>0.538252</td>\n",
       "      <td>0.543473</td>\n",
       "      <td>0.523723</td>\n",
       "      <td>0.577299</td>\n",
       "      <td>0.575709</td>\n",
       "      <td>0.595687</td>\n",
       "    </tr>\n",
       "    <tr>\n",
       "      <th>NDCG@5</th>\n",
       "      <td>0.205617</td>\n",
       "      <td>0.214008</td>\n",
       "      <td>0.194805</td>\n",
       "      <td>0.204222</td>\n",
       "      <td>0.224405</td>\n",
       "      <td>0.225677</td>\n",
       "      <td>0.237588</td>\n",
       "    </tr>\n",
       "    <tr>\n",
       "      <th>MAP@5</th>\n",
       "      <td>0.365572</td>\n",
       "      <td>0.376399</td>\n",
       "      <td>0.331701</td>\n",
       "      <td>0.379403</td>\n",
       "      <td>0.392286</td>\n",
       "      <td>0.390641</td>\n",
       "      <td>0.400422</td>\n",
       "    </tr>\n",
       "  </tbody>\n",
       "</table>\n",
       "</div>"
      ],
      "text/plain": [
       "             CLiMF    BPR_MF       iMF     TFMAP  top_ensemble  \\\n",
       "prec@5    0.180431  0.188014  0.184109  0.173258      0.200454   \n",
       "1recal@5  0.517594  0.538252  0.543473  0.523723      0.577299   \n",
       "NDCG@5    0.205617  0.214008  0.194805  0.204222      0.224405   \n",
       "MAP@5     0.365572  0.376399  0.331701  0.379403      0.392286   \n",
       "\n",
       "          rating_ensemble  inner_value_ensemble  \n",
       "prec@5           0.201453              0.214938  \n",
       "1recal@5         0.575709              0.595687  \n",
       "NDCG@5           0.225677              0.237588  \n",
       "MAP@5            0.390641              0.400422  "
      ]
     },
     "execution_count": 101,
     "metadata": {},
     "output_type": "execute_result"
    }
   ],
   "source": [
    "ensemble_experiment(epinion, create_list_cf(epinion_shape)[1:5], list_ensemble, K=5, verbose=0, maxiter=1)"
   ]
  },
  {
   "cell_type": "code",
   "execution_count": 110,
   "metadata": {
    "collapsed": false
   },
   "outputs": [
    {
     "data": {
      "text/html": [
       "<div>\n",
       "<table border=\"1\" class=\"dataframe\">\n",
       "  <thead>\n",
       "    <tr style=\"text-align: right;\">\n",
       "      <th></th>\n",
       "      <th>CLiMF</th>\n",
       "      <th>BPR_MF</th>\n",
       "      <th>iMF</th>\n",
       "      <th>TFMAP</th>\n",
       "      <th>top_ensemble</th>\n",
       "      <th>rating_ensemble</th>\n",
       "      <th>inner_value_ensemble</th>\n",
       "    </tr>\n",
       "  </thead>\n",
       "  <tbody>\n",
       "    <tr>\n",
       "      <th>prec@5</th>\n",
       "      <td>0.121968</td>\n",
       "      <td>0.122855</td>\n",
       "      <td>0.101459</td>\n",
       "      <td>0.119737</td>\n",
       "      <td>0.120938</td>\n",
       "      <td>0.123656</td>\n",
       "      <td>0.125114</td>\n",
       "    </tr>\n",
       "    <tr>\n",
       "      <th>1recal@5</th>\n",
       "      <td>0.377860</td>\n",
       "      <td>0.378432</td>\n",
       "      <td>0.332380</td>\n",
       "      <td>0.372283</td>\n",
       "      <td>0.378576</td>\n",
       "      <td>0.380578</td>\n",
       "      <td>0.386728</td>\n",
       "    </tr>\n",
       "    <tr>\n",
       "      <th>NDCG@5</th>\n",
       "      <td>0.130784</td>\n",
       "      <td>0.131439</td>\n",
       "      <td>0.107111</td>\n",
       "      <td>0.127627</td>\n",
       "      <td>0.129354</td>\n",
       "      <td>0.131958</td>\n",
       "      <td>0.133357</td>\n",
       "    </tr>\n",
       "    <tr>\n",
       "      <th>MAP@5</th>\n",
       "      <td>0.227373</td>\n",
       "      <td>0.227325</td>\n",
       "      <td>0.194135</td>\n",
       "      <td>0.221557</td>\n",
       "      <td>0.228266</td>\n",
       "      <td>0.229514</td>\n",
       "      <td>0.231118</td>\n",
       "    </tr>\n",
       "  </tbody>\n",
       "</table>\n",
       "</div>"
      ],
      "text/plain": [
       "             CLiMF    BPR_MF       iMF     TFMAP  top_ensemble  \\\n",
       "prec@5    0.121968  0.122855  0.101459  0.119737      0.120938   \n",
       "1recal@5  0.377860  0.378432  0.332380  0.372283      0.378576   \n",
       "NDCG@5    0.130784  0.131439  0.107111  0.127627      0.129354   \n",
       "MAP@5     0.227373  0.227325  0.194135  0.221557      0.228266   \n",
       "\n",
       "          rating_ensemble  inner_value_ensemble  \n",
       "prec@5           0.123656              0.125114  \n",
       "1recal@5         0.380578              0.386728  \n",
       "NDCG@5           0.131958              0.133357  \n",
       "MAP@5            0.229514              0.231118  "
      ]
     },
     "execution_count": 110,
     "metadata": {},
     "output_type": "execute_result"
    }
   ],
   "source": [
    "ensemble_experiment(slashdot, create_list_cf(slashdot_shape)[1:5], list_ensemble, K=5, verbose=0, maxiter=1)"
   ]
  },
  {
   "cell_type": "code",
   "execution_count": 111,
   "metadata": {
    "collapsed": false
   },
   "outputs": [
    {
     "data": {
      "text/html": [
       "<div>\n",
       "<table border=\"1\" class=\"dataframe\">\n",
       "  <thead>\n",
       "    <tr style=\"text-align: right;\">\n",
       "      <th></th>\n",
       "      <th>CLiMF</th>\n",
       "      <th>BPR_MF</th>\n",
       "      <th>iMF</th>\n",
       "      <th>TFMAP</th>\n",
       "      <th>top_ensemble</th>\n",
       "      <th>rating_ensemble</th>\n",
       "      <th>inner_value_ensemble</th>\n",
       "    </tr>\n",
       "  </thead>\n",
       "  <tbody>\n",
       "    <tr>\n",
       "      <th>prec@5</th>\n",
       "      <td>0.504559</td>\n",
       "      <td>0.505244</td>\n",
       "      <td>0.485132</td>\n",
       "      <td>0.490359</td>\n",
       "      <td>0.518364</td>\n",
       "      <td>0.514615</td>\n",
       "      <td>0.520851</td>\n",
       "    </tr>\n",
       "    <tr>\n",
       "      <th>1recal@5</th>\n",
       "      <td>0.875113</td>\n",
       "      <td>0.874572</td>\n",
       "      <td>0.888809</td>\n",
       "      <td>0.876374</td>\n",
       "      <td>0.905749</td>\n",
       "      <td>0.895657</td>\n",
       "      <td>0.891152</td>\n",
       "    </tr>\n",
       "    <tr>\n",
       "      <th>NDCG@5</th>\n",
       "      <td>0.517085</td>\n",
       "      <td>0.515328</td>\n",
       "      <td>0.499976</td>\n",
       "      <td>0.498633</td>\n",
       "      <td>0.527513</td>\n",
       "      <td>0.525717</td>\n",
       "      <td>0.542030</td>\n",
       "    </tr>\n",
       "    <tr>\n",
       "      <th>MAP@5</th>\n",
       "      <td>0.682962</td>\n",
       "      <td>0.677821</td>\n",
       "      <td>0.647709</td>\n",
       "      <td>0.629691</td>\n",
       "      <td>0.672084</td>\n",
       "      <td>0.680369</td>\n",
       "      <td>0.699213</td>\n",
       "    </tr>\n",
       "  </tbody>\n",
       "</table>\n",
       "</div>"
      ],
      "text/plain": [
       "             CLiMF    BPR_MF       iMF     TFMAP  top_ensemble  \\\n",
       "prec@5    0.504559  0.505244  0.485132  0.490359      0.518364   \n",
       "1recal@5  0.875113  0.874572  0.888809  0.876374      0.905749   \n",
       "NDCG@5    0.517085  0.515328  0.499976  0.498633      0.527513   \n",
       "MAP@5     0.682962  0.677821  0.647709  0.629691      0.672084   \n",
       "\n",
       "          rating_ensemble  inner_value_ensemble  \n",
       "prec@5           0.514615              0.520851  \n",
       "1recal@5         0.895657              0.891152  \n",
       "NDCG@5           0.525717              0.542030  \n",
       "MAP@5            0.680369              0.699213  "
      ]
     },
     "execution_count": 111,
     "metadata": {},
     "output_type": "execute_result"
    }
   ],
   "source": [
    "ensemble_experiment(ml1m, create_list_cf(ml1m_shape)[1:5], list_ensemble, K=5, verbose=0, maxiter=1)"
   ]
  },
  {
   "cell_type": "code",
   "execution_count": 115,
   "metadata": {
    "collapsed": true
   },
   "outputs": [],
   "source": [
    "list_ensemble = [\n",
    "    rankensemble.inner_value_ensemble(weights=np.array([1,1, 10, 1]))\n",
    "]"
   ]
  },
  {
   "cell_type": "code",
   "execution_count": 293,
   "metadata": {
    "collapsed": false
   },
   "outputs": [
    {
     "data": {
      "text/html": [
       "<div>\n",
       "<table border=\"1\" class=\"dataframe\">\n",
       "  <thead>\n",
       "    <tr style=\"text-align: right;\">\n",
       "      <th></th>\n",
       "      <th>CLiMF</th>\n",
       "      <th>BPR_MF</th>\n",
       "      <th>iMF</th>\n",
       "      <th>TFMAP</th>\n",
       "      <th>inner_value_ensemble</th>\n",
       "    </tr>\n",
       "  </thead>\n",
       "  <tbody>\n",
       "    <tr>\n",
       "      <th>prec@5</th>\n",
       "      <td>0.185153</td>\n",
       "      <td>0.185244</td>\n",
       "      <td>0.259796</td>\n",
       "      <td>0.184381</td>\n",
       "      <td>0.238502</td>\n",
       "    </tr>\n",
       "    <tr>\n",
       "      <th>1recal@5</th>\n",
       "      <td>0.530988</td>\n",
       "      <td>0.532350</td>\n",
       "      <td>0.657435</td>\n",
       "      <td>0.531669</td>\n",
       "      <td>0.617934</td>\n",
       "    </tr>\n",
       "    <tr>\n",
       "      <th>NDCG@5</th>\n",
       "      <td>0.206918</td>\n",
       "      <td>0.207237</td>\n",
       "      <td>0.270262</td>\n",
       "      <td>0.207856</td>\n",
       "      <td>0.254386</td>\n",
       "    </tr>\n",
       "    <tr>\n",
       "      <th>MAP@5</th>\n",
       "      <td>0.359758</td>\n",
       "      <td>0.360926</td>\n",
       "      <td>0.415648</td>\n",
       "      <td>0.364378</td>\n",
       "      <td>0.404118</td>\n",
       "    </tr>\n",
       "  </tbody>\n",
       "</table>\n",
       "</div>"
      ],
      "text/plain": [
       "             CLiMF    BPR_MF       iMF     TFMAP  inner_value_ensemble\n",
       "prec@5    0.185153  0.185244  0.259796  0.184381              0.238502\n",
       "1recal@5  0.530988  0.532350  0.657435  0.531669              0.617934\n",
       "NDCG@5    0.206918  0.207237  0.270262  0.207856              0.254386\n",
       "MAP@5     0.359758  0.360926  0.415648  0.364378              0.404118"
      ]
     },
     "execution_count": 293,
     "metadata": {},
     "output_type": "execute_result"
    }
   ],
   "source": [
    "ensemble_experiment(epinion, create_list_cf(epinion_shape)[1:5], list_ensemble, K=10, verbose=0, maxiter=3)"
   ]
  },
  {
   "cell_type": "code",
   "execution_count": 117,
   "metadata": {
    "collapsed": false
   },
   "outputs": [
    {
     "data": {
      "text/html": [
       "<div>\n",
       "<table border=\"1\" class=\"dataframe\">\n",
       "  <thead>\n",
       "    <tr style=\"text-align: right;\">\n",
       "      <th></th>\n",
       "      <th>CLiMF</th>\n",
       "      <th>BPR_MF</th>\n",
       "      <th>iMF</th>\n",
       "      <th>TFMAP</th>\n",
       "      <th>inner_value_ensemble</th>\n",
       "    </tr>\n",
       "  </thead>\n",
       "  <tbody>\n",
       "    <tr>\n",
       "      <th>prec@5</th>\n",
       "      <td>0.112300</td>\n",
       "      <td>0.112386</td>\n",
       "      <td>0.135870</td>\n",
       "      <td>0.111299</td>\n",
       "      <td>0.141991</td>\n",
       "    </tr>\n",
       "    <tr>\n",
       "      <th>1recal@5</th>\n",
       "      <td>0.353976</td>\n",
       "      <td>0.354691</td>\n",
       "      <td>0.404891</td>\n",
       "      <td>0.367277</td>\n",
       "      <td>0.426344</td>\n",
       "    </tr>\n",
       "    <tr>\n",
       "      <th>NDCG@5</th>\n",
       "      <td>0.121223</td>\n",
       "      <td>0.121207</td>\n",
       "      <td>0.142725</td>\n",
       "      <td>0.120212</td>\n",
       "      <td>0.149601</td>\n",
       "    </tr>\n",
       "    <tr>\n",
       "      <th>MAP@5</th>\n",
       "      <td>0.214589</td>\n",
       "      <td>0.214217</td>\n",
       "      <td>0.242934</td>\n",
       "      <td>0.218668</td>\n",
       "      <td>0.256233</td>\n",
       "    </tr>\n",
       "  </tbody>\n",
       "</table>\n",
       "</div>"
      ],
      "text/plain": [
       "             CLiMF    BPR_MF       iMF     TFMAP  inner_value_ensemble\n",
       "prec@5    0.112300  0.112386  0.135870  0.111299              0.141991\n",
       "1recal@5  0.353976  0.354691  0.404891  0.367277              0.426344\n",
       "NDCG@5    0.121223  0.121207  0.142725  0.120212              0.149601\n",
       "MAP@5     0.214589  0.214217  0.242934  0.218668              0.256233"
      ]
     },
     "execution_count": 117,
     "metadata": {},
     "output_type": "execute_result"
    }
   ],
   "source": [
    "ensemble_experiment(slashdot, create_list_cf(slashdot_shape)[1:5], list_ensemble, K=10, verbose=0, maxiter=1)"
   ]
  },
  {
   "cell_type": "code",
   "execution_count": 118,
   "metadata": {
    "collapsed": false
   },
   "outputs": [
    {
     "data": {
      "text/html": [
       "<div>\n",
       "<table border=\"1\" class=\"dataframe\">\n",
       "  <thead>\n",
       "    <tr style=\"text-align: right;\">\n",
       "      <th></th>\n",
       "      <th>CLiMF</th>\n",
       "      <th>BPR_MF</th>\n",
       "      <th>iMF</th>\n",
       "      <th>TFMAP</th>\n",
       "      <th>inner_value_ensemble</th>\n",
       "    </tr>\n",
       "  </thead>\n",
       "  <tbody>\n",
       "    <tr>\n",
       "      <th>prec@5</th>\n",
       "      <td>0.476626</td>\n",
       "      <td>0.473491</td>\n",
       "      <td>0.576644</td>\n",
       "      <td>0.476518</td>\n",
       "      <td>0.603028</td>\n",
       "    </tr>\n",
       "    <tr>\n",
       "      <th>1recal@5</th>\n",
       "      <td>0.866823</td>\n",
       "      <td>0.866462</td>\n",
       "      <td>0.930798</td>\n",
       "      <td>0.859254</td>\n",
       "      <td>0.942512</td>\n",
       "    </tr>\n",
       "    <tr>\n",
       "      <th>NDCG@5</th>\n",
       "      <td>0.490535</td>\n",
       "      <td>0.488713</td>\n",
       "      <td>0.589394</td>\n",
       "      <td>0.489458</td>\n",
       "      <td>0.617823</td>\n",
       "    </tr>\n",
       "    <tr>\n",
       "      <th>MAP@5</th>\n",
       "      <td>0.646142</td>\n",
       "      <td>0.647062</td>\n",
       "      <td>0.717732</td>\n",
       "      <td>0.641655</td>\n",
       "      <td>0.744346</td>\n",
       "    </tr>\n",
       "  </tbody>\n",
       "</table>\n",
       "</div>"
      ],
      "text/plain": [
       "             CLiMF    BPR_MF       iMF     TFMAP  inner_value_ensemble\n",
       "prec@5    0.476626  0.473491  0.576644  0.476518              0.603028\n",
       "1recal@5  0.866823  0.866462  0.930798  0.859254              0.942512\n",
       "NDCG@5    0.490535  0.488713  0.589394  0.489458              0.617823\n",
       "MAP@5     0.646142  0.647062  0.717732  0.641655              0.744346"
      ]
     },
     "execution_count": 118,
     "metadata": {},
     "output_type": "execute_result"
    }
   ],
   "source": [
    "ensemble_experiment(ml1m, create_list_cf(ml1m_shape)[1:5], list_ensemble, K=10, verbose=0, maxiter=1)"
   ]
  },
  {
   "cell_type": "code",
   "execution_count": 140,
   "metadata": {
    "collapsed": true
   },
   "outputs": [],
   "source": [
    "### взвешенные средние внутренних функций способно превосходить даже iMF,\n",
    "### когда она работает на порядок лучше, чем другие методы. это не может не радовать.\n",
    "# Попробую реализовать все методы, которые я нашел от чудо пдфки победителей конкурса Netflix"
   ]
  },
  {
   "cell_type": "markdown",
   "metadata": {},
   "source": [
    "# Netflix ensemble\n",
    "# Regression"
   ]
  },
  {
   "cell_type": "code",
   "execution_count": 104,
   "metadata": {
    "collapsed": true
   },
   "outputs": [],
   "source": [
    "from sklearn import cross_validation"
   ]
  },
  {
   "cell_type": "code",
   "execution_count": 105,
   "metadata": {
    "collapsed": true
   },
   "outputs": [],
   "source": [
    "def netflix_ensemble_experiment(data, list_cf, list_ensemble, Ktrain=5, Kvalidation=5, \n",
    "                                     maxiter=1, topK=5,  verbose=0):\n",
    "    res = np.zeros((4, len(list_cf) + len(list_ensemble)))\n",
    "    for t in range(maxiter):\n",
    "        train, test, traintest = givenK_train_test(data, Ktrain + Kvalidation)\n",
    "        train, validation, trainvalidation = givenK_train_test(train, Ktrain, data_is_xlist=True)\n",
    "        \n",
    "        for i in range(len(list_cf)):\n",
    "            list_cf[i].fit(train)\n",
    "            prec_k, one_recal_k, ngdc, mp = rankingmeasure.get_Kmetrics(trainvalidation, test, list_cf[i], K=topK)\n",
    "            res[:, i] += np.array([prec_k, one_recal_k, ngdc, mp])\n",
    "            if verbose == 1:\n",
    "                print(t, i, res[:, i] / (t + 1))\n",
    "                sys.stdout.flush()\n",
    "            \n",
    "        for j, ens in enumerate(list_ensemble):\n",
    "            m = j + len(list_cf)\n",
    "            ens.fit(list_cf, validation, train, trainvalidation)\n",
    "            prec_k, one_recal_k, ngdc, mp = rankingmeasure.get_Kmetrics(trainvalidation, test, ens, K=topK)\n",
    "            res[:, m] += np.array([prec_k, one_recal_k, ngdc, mp])\n",
    "            if verbose == 1:\n",
    "                print(t,  m, res[:, m] / (t + 1))\n",
    "#         for j, ens in enumerate(list_ensemble):\n",
    "#             m = j + len(list_cf)\n",
    "#             ens.fit(list_cf)\n",
    "#             prec_k, one_recal_k, ngdc, mp = rankingmeasure.get_Kmetrics(train, test, ens, K=topK)\n",
    "#             res[:, m] += np.array([prec_k, one_recal_k, ngdc, mp])\n",
    "#             if verbose == 1:\n",
    "#                 print(t, m, res[:, m] / (t +1))\n",
    "        \n",
    "    res /= maxiter\n",
    "    res = pd.DataFrame(res)\n",
    "    res.columns = [type(cf).__name__ for cf in list_cf] + [type(ens).__name__ for ens  in list_ensemble]\n",
    "    res.index = [name + str(topK) for name in ['prec@', '1recal@', 'NDCG@', 'MAP@']]\n",
    "#     res.index = []\n",
    "#     res.columns = ['PopRec', 'CLiMF', 'BRP_MP', 'iMF', 'TFMAP', 'top_ensemble', 'rating_ensamble']\n",
    "#     res.index = ['prec@' + str(topK),'1recal@' + str(topK), 'NDCG@' + str(topK), \n",
    "#                'MAP@' + str(topK)]\n",
    "    return res"
   ]
  },
  {
   "cell_type": "code",
   "execution_count": 107,
   "metadata": {
    "collapsed": false
   },
   "outputs": [],
   "source": [
    "from sklearn import linear_model\n",
    "import rankensemble\n",
    "from sklearn import ensemble\n",
    "from sklearn.kernel_ridge import KernelRidge"
   ]
  },
  {
   "cell_type": "code",
   "execution_count": 31,
   "metadata": {
    "collapsed": true
   },
   "outputs": [],
   "source": [
    "import copy"
   ]
  },
  {
   "cell_type": "code",
   "execution_count": 294,
   "metadata": {
    "collapsed": true
   },
   "outputs": [],
   "source": [
    "list_ensemble = [\n",
    "#     rankensemble.regression_ensemble(linear_model.Ridge(alpha= 0.01)),\n",
    "#     rankensemble.regression_ensemble(linear_model.Ridge(alpha=1)), \n",
    "#     rankensemble.regression_ensemble(linear_model.Ridge(alpha=100))\n",
    "    rankensemble.inner_value_ensemble()\n",
    "#     rankensemble.regression_ensemble(linear_model.LogisticRegression(C = 1),ratio_neg=40, verbose=1),\n",
    "#     rankensemble.regression_ensemble(linear_model.LogisticRegression(C = 0.00001), verbose=1),\n",
    "#     rankensemble.regression_ensemble(linear_model.LogisticRegression(C = 10000), verbose=1),\n",
    "]"
   ]
  },
  {
   "cell_type": "code",
   "execution_count": 296,
   "metadata": {
    "collapsed": false
   },
   "outputs": [
    {
     "data": {
      "text/html": [
       "<div>\n",
       "<table border=\"1\" class=\"dataframe\">\n",
       "  <thead>\n",
       "    <tr style=\"text-align: right;\">\n",
       "      <th></th>\n",
       "      <th>CLiMF</th>\n",
       "      <th>BPR_MF</th>\n",
       "      <th>iMF</th>\n",
       "      <th>TFMAP</th>\n",
       "      <th>inner_value_ensemble</th>\n",
       "    </tr>\n",
       "  </thead>\n",
       "  <tbody>\n",
       "    <tr>\n",
       "      <th>prec@5</th>\n",
       "      <td>0.503639</td>\n",
       "      <td>0.516956</td>\n",
       "      <td>0.439289</td>\n",
       "      <td>0.175682</td>\n",
       "      <td>0.524318</td>\n",
       "    </tr>\n",
       "    <tr>\n",
       "      <th>1recal@5</th>\n",
       "      <td>0.919355</td>\n",
       "      <td>0.916873</td>\n",
       "      <td>0.873863</td>\n",
       "      <td>0.502068</td>\n",
       "      <td>0.927213</td>\n",
       "    </tr>\n",
       "    <tr>\n",
       "      <th>NDCG@5</th>\n",
       "      <td>0.520000</td>\n",
       "      <td>0.522879</td>\n",
       "      <td>0.453624</td>\n",
       "      <td>0.200553</td>\n",
       "      <td>0.539213</td>\n",
       "    </tr>\n",
       "    <tr>\n",
       "      <th>MAP@5</th>\n",
       "      <td>0.669881</td>\n",
       "      <td>0.655591</td>\n",
       "      <td>0.613139</td>\n",
       "      <td>0.350372</td>\n",
       "      <td>0.684244</td>\n",
       "    </tr>\n",
       "  </tbody>\n",
       "</table>\n",
       "</div>"
      ],
      "text/plain": [
       "             CLiMF    BPR_MF       iMF     TFMAP  inner_value_ensemble\n",
       "prec@5    0.503639  0.516956  0.439289  0.175682              0.524318\n",
       "1recal@5  0.919355  0.916873  0.873863  0.502068              0.927213\n",
       "NDCG@5    0.520000  0.522879  0.453624  0.200553              0.539213\n",
       "MAP@5     0.669881  0.655591  0.613139  0.350372              0.684244"
      ]
     },
     "execution_count": 296,
     "metadata": {},
     "output_type": "execute_result"
    }
   ],
   "source": [
    "netflix_ensemble_experiment(ml100k, create_list_cf(ml100k_shape)[1:5], list_ensemble, Ktrain=5, Kvalidation=5, verbose=0, maxiter=3)"
   ]
  },
  {
   "cell_type": "code",
   "execution_count": 305,
   "metadata": {
    "collapsed": false
   },
   "outputs": [
    {
     "data": {
      "text/html": [
       "<div>\n",
       "<table border=\"1\" class=\"dataframe\">\n",
       "  <thead>\n",
       "    <tr style=\"text-align: right;\">\n",
       "      <th></th>\n",
       "      <th>CLiMF</th>\n",
       "      <th>BPR_MF</th>\n",
       "      <th>iMF</th>\n",
       "      <th>TFMAP</th>\n",
       "      <th>inner_value_ensemble</th>\n",
       "    </tr>\n",
       "  </thead>\n",
       "  <tbody>\n",
       "    <tr>\n",
       "      <th>prec@5</th>\n",
       "      <td>0.480893</td>\n",
       "      <td>0.481969</td>\n",
       "      <td>0.507444</td>\n",
       "      <td>0.398925</td>\n",
       "      <td>0.529859</td>\n",
       "    </tr>\n",
       "    <tr>\n",
       "      <th>1recal@5</th>\n",
       "      <td>0.918114</td>\n",
       "      <td>0.918114</td>\n",
       "      <td>0.905294</td>\n",
       "      <td>0.863110</td>\n",
       "      <td>0.934657</td>\n",
       "    </tr>\n",
       "    <tr>\n",
       "      <th>NDCG@5</th>\n",
       "      <td>0.488470</td>\n",
       "      <td>0.494367</td>\n",
       "      <td>0.520549</td>\n",
       "      <td>0.415535</td>\n",
       "      <td>0.542422</td>\n",
       "    </tr>\n",
       "    <tr>\n",
       "      <th>MAP@5</th>\n",
       "      <td>0.641367</td>\n",
       "      <td>0.649606</td>\n",
       "      <td>0.664829</td>\n",
       "      <td>0.590993</td>\n",
       "      <td>0.690759</td>\n",
       "    </tr>\n",
       "  </tbody>\n",
       "</table>\n",
       "</div>"
      ],
      "text/plain": [
       "             CLiMF    BPR_MF       iMF     TFMAP  inner_value_ensemble\n",
       "prec@5    0.480893  0.481969  0.507444  0.398925              0.529859\n",
       "1recal@5  0.918114  0.918114  0.905294  0.863110              0.934657\n",
       "NDCG@5    0.488470  0.494367  0.520549  0.415535              0.542422\n",
       "MAP@5     0.641367  0.649606  0.664829  0.590993              0.690759"
      ]
     },
     "execution_count": 305,
     "metadata": {},
     "output_type": "execute_result"
    }
   ],
   "source": [
    "netflix_ensemble_experiment(ml100k, create_list_cf(ml100k_shape)[1:5], list_ensemble, Ktrain=10, Kvalidation=5, verbose=0, maxiter=3)"
   ]
  },
  {
   "cell_type": "code",
   "execution_count": 298,
   "metadata": {
    "collapsed": false
   },
   "outputs": [
    {
     "data": {
      "text/html": [
       "<div>\n",
       "<table border=\"1\" class=\"dataframe\">\n",
       "  <thead>\n",
       "    <tr style=\"text-align: right;\">\n",
       "      <th></th>\n",
       "      <th>CLiMF</th>\n",
       "      <th>BPR_MF</th>\n",
       "      <th>iMF</th>\n",
       "      <th>TFMAP</th>\n",
       "      <th>inner_value_ensemble</th>\n",
       "    </tr>\n",
       "  </thead>\n",
       "  <tbody>\n",
       "    <tr>\n",
       "      <th>prec@5</th>\n",
       "      <td>0.178524</td>\n",
       "      <td>0.182838</td>\n",
       "      <td>0.169852</td>\n",
       "      <td>0.166901</td>\n",
       "      <td>0.198683</td>\n",
       "    </tr>\n",
       "    <tr>\n",
       "      <th>1recal@5</th>\n",
       "      <td>0.522361</td>\n",
       "      <td>0.526674</td>\n",
       "      <td>0.505789</td>\n",
       "      <td>0.501022</td>\n",
       "      <td>0.562240</td>\n",
       "    </tr>\n",
       "    <tr>\n",
       "      <th>NDCG@5</th>\n",
       "      <td>0.201727</td>\n",
       "      <td>0.204957</td>\n",
       "      <td>0.178676</td>\n",
       "      <td>0.192475</td>\n",
       "      <td>0.219023</td>\n",
       "    </tr>\n",
       "    <tr>\n",
       "      <th>MAP@5</th>\n",
       "      <td>0.355536</td>\n",
       "      <td>0.356277</td>\n",
       "      <td>0.304105</td>\n",
       "      <td>0.352053</td>\n",
       "      <td>0.373459</td>\n",
       "    </tr>\n",
       "  </tbody>\n",
       "</table>\n",
       "</div>"
      ],
      "text/plain": [
       "             CLiMF    BPR_MF       iMF     TFMAP  inner_value_ensemble\n",
       "prec@5    0.178524  0.182838  0.169852  0.166901              0.198683\n",
       "1recal@5  0.522361  0.526674  0.505789  0.501022              0.562240\n",
       "NDCG@5    0.201727  0.204957  0.178676  0.192475              0.219023\n",
       "MAP@5     0.355536  0.356277  0.304105  0.352053              0.373459"
      ]
     },
     "execution_count": 298,
     "metadata": {},
     "output_type": "execute_result"
    }
   ],
   "source": [
    "netflix_ensemble_experiment(epinion, create_list_cf(epinion_shape)[1:5], list_ensemble, Ktrain=5, Kvalidation=5, verbose=0, maxiter=3)"
   ]
  },
  {
   "cell_type": "code",
   "execution_count": 299,
   "metadata": {
    "collapsed": false
   },
   "outputs": [
    {
     "data": {
      "text/html": [
       "<div>\n",
       "<table border=\"1\" class=\"dataframe\">\n",
       "  <thead>\n",
       "    <tr style=\"text-align: right;\">\n",
       "      <th></th>\n",
       "      <th>CLiMF</th>\n",
       "      <th>BPR_MF</th>\n",
       "      <th>iMF</th>\n",
       "      <th>TFMAP</th>\n",
       "      <th>inner_value_ensemble</th>\n",
       "    </tr>\n",
       "  </thead>\n",
       "  <tbody>\n",
       "    <tr>\n",
       "      <th>prec@5</th>\n",
       "      <td>0.168354</td>\n",
       "      <td>0.168536</td>\n",
       "      <td>0.236232</td>\n",
       "      <td>0.168203</td>\n",
       "      <td>0.212077</td>\n",
       "    </tr>\n",
       "    <tr>\n",
       "      <th>1recal@5</th>\n",
       "      <td>0.488990</td>\n",
       "      <td>0.488536</td>\n",
       "      <td>0.605827</td>\n",
       "      <td>0.486493</td>\n",
       "      <td>0.565191</td>\n",
       "    </tr>\n",
       "    <tr>\n",
       "      <th>NDCG@5</th>\n",
       "      <td>0.188880</td>\n",
       "      <td>0.189031</td>\n",
       "      <td>0.246453</td>\n",
       "      <td>0.188790</td>\n",
       "      <td>0.227186</td>\n",
       "    </tr>\n",
       "    <tr>\n",
       "      <th>MAP@5</th>\n",
       "      <td>0.331486</td>\n",
       "      <td>0.330408</td>\n",
       "      <td>0.382656</td>\n",
       "      <td>0.331420</td>\n",
       "      <td>0.367093</td>\n",
       "    </tr>\n",
       "  </tbody>\n",
       "</table>\n",
       "</div>"
      ],
      "text/plain": [
       "             CLiMF    BPR_MF       iMF     TFMAP  inner_value_ensemble\n",
       "prec@5    0.168354  0.168536  0.236232  0.168203              0.212077\n",
       "1recal@5  0.488990  0.488536  0.605827  0.486493              0.565191\n",
       "NDCG@5    0.188880  0.189031  0.246453  0.188790              0.227186\n",
       "MAP@5     0.331486  0.330408  0.382656  0.331420              0.367093"
      ]
     },
     "execution_count": 299,
     "metadata": {},
     "output_type": "execute_result"
    }
   ],
   "source": [
    "netflix_ensemble_experiment(epinion, create_list_cf(epinion_shape)[1:5], list_ensemble, Ktrain=10, Kvalidation=5, verbose=0, maxiter=3)"
   ]
  },
  {
   "cell_type": "code",
   "execution_count": 300,
   "metadata": {
    "collapsed": false
   },
   "outputs": [
    {
     "data": {
      "text/html": [
       "<div>\n",
       "<table border=\"1\" class=\"dataframe\">\n",
       "  <thead>\n",
       "    <tr style=\"text-align: right;\">\n",
       "      <th></th>\n",
       "      <th>CLiMF</th>\n",
       "      <th>BPR_MF</th>\n",
       "      <th>iMF</th>\n",
       "      <th>TFMAP</th>\n",
       "      <th>inner_value_ensemble</th>\n",
       "    </tr>\n",
       "  </thead>\n",
       "  <tbody>\n",
       "    <tr>\n",
       "      <th>prec@5</th>\n",
       "      <td>0.472746</td>\n",
       "      <td>0.473274</td>\n",
       "      <td>0.459879</td>\n",
       "      <td>0.404457</td>\n",
       "      <td>0.495717</td>\n",
       "    </tr>\n",
       "    <tr>\n",
       "      <th>1recal@5</th>\n",
       "      <td>0.866883</td>\n",
       "      <td>0.865501</td>\n",
       "      <td>0.861236</td>\n",
       "      <td>0.819607</td>\n",
       "      <td>0.881240</td>\n",
       "    </tr>\n",
       "    <tr>\n",
       "      <th>NDCG@5</th>\n",
       "      <td>0.489143</td>\n",
       "      <td>0.489303</td>\n",
       "      <td>0.473141</td>\n",
       "      <td>0.427922</td>\n",
       "      <td>0.509915</td>\n",
       "    </tr>\n",
       "    <tr>\n",
       "      <th>MAP@5</th>\n",
       "      <td>0.653752</td>\n",
       "      <td>0.653710</td>\n",
       "      <td>0.620472</td>\n",
       "      <td>0.600821</td>\n",
       "      <td>0.660646</td>\n",
       "    </tr>\n",
       "  </tbody>\n",
       "</table>\n",
       "</div>"
      ],
      "text/plain": [
       "             CLiMF    BPR_MF       iMF     TFMAP  inner_value_ensemble\n",
       "prec@5    0.472746  0.473274  0.459879  0.404457              0.495717\n",
       "1recal@5  0.866883  0.865501  0.861236  0.819607              0.881240\n",
       "NDCG@5    0.489143  0.489303  0.473141  0.427922              0.509915\n",
       "MAP@5     0.653752  0.653710  0.620472  0.600821              0.660646"
      ]
     },
     "execution_count": 300,
     "metadata": {},
     "output_type": "execute_result"
    }
   ],
   "source": [
    "netflix_ensemble_experiment(ml1m, create_list_cf(ml1m_shape)[1:5], list_ensemble, Ktrain=5, Kvalidation=5, verbose=0, maxiter=3)"
   ]
  },
  {
   "cell_type": "code",
   "execution_count": 301,
   "metadata": {
    "collapsed": false
   },
   "outputs": [
    {
     "data": {
      "text/html": [
       "<div>\n",
       "<table border=\"1\" class=\"dataframe\">\n",
       "  <thead>\n",
       "    <tr style=\"text-align: right;\">\n",
       "      <th></th>\n",
       "      <th>CLiMF</th>\n",
       "      <th>BPR_MF</th>\n",
       "      <th>iMF</th>\n",
       "      <th>TFMAP</th>\n",
       "      <th>inner_value_ensemble</th>\n",
       "    </tr>\n",
       "  </thead>\n",
       "  <tbody>\n",
       "    <tr>\n",
       "      <th>prec@5</th>\n",
       "      <td>0.459602</td>\n",
       "      <td>0.460359</td>\n",
       "      <td>0.553277</td>\n",
       "      <td>0.463207</td>\n",
       "      <td>0.531207</td>\n",
       "    </tr>\n",
       "    <tr>\n",
       "      <th>1recal@5</th>\n",
       "      <td>0.841173</td>\n",
       "      <td>0.840572</td>\n",
       "      <td>0.914399</td>\n",
       "      <td>0.838650</td>\n",
       "      <td>0.883583</td>\n",
       "    </tr>\n",
       "    <tr>\n",
       "      <th>NDCG@5</th>\n",
       "      <td>0.475010</td>\n",
       "      <td>0.475066</td>\n",
       "      <td>0.566324</td>\n",
       "      <td>0.477260</td>\n",
       "      <td>0.534412</td>\n",
       "    </tr>\n",
       "    <tr>\n",
       "      <th>MAP@5</th>\n",
       "      <td>0.630395</td>\n",
       "      <td>0.629437</td>\n",
       "      <td>0.696888</td>\n",
       "      <td>0.629369</td>\n",
       "      <td>0.663395</td>\n",
       "    </tr>\n",
       "  </tbody>\n",
       "</table>\n",
       "</div>"
      ],
      "text/plain": [
       "             CLiMF    BPR_MF       iMF     TFMAP  inner_value_ensemble\n",
       "prec@5    0.459602  0.460359  0.553277  0.463207              0.531207\n",
       "1recal@5  0.841173  0.840572  0.914399  0.838650              0.883583\n",
       "NDCG@5    0.475010  0.475066  0.566324  0.477260              0.534412\n",
       "MAP@5     0.630395  0.629437  0.696888  0.629369              0.663395"
      ]
     },
     "execution_count": 301,
     "metadata": {},
     "output_type": "execute_result"
    }
   ],
   "source": [
    "netflix_ensemble_experiment(ml1m, create_list_cf(ml1m_shape)[1:5], list_ensemble, Ktrain=10, Kvalidation=5, verbose=0, maxiter=3)"
   ]
  },
  {
   "cell_type": "code",
   "execution_count": 302,
   "metadata": {
    "collapsed": false
   },
   "outputs": [
    {
     "data": {
      "text/html": [
       "<div>\n",
       "<table border=\"1\" class=\"dataframe\">\n",
       "  <thead>\n",
       "    <tr style=\"text-align: right;\">\n",
       "      <th></th>\n",
       "      <th>CLiMF</th>\n",
       "      <th>BPR_MF</th>\n",
       "      <th>iMF</th>\n",
       "      <th>TFMAP</th>\n",
       "      <th>inner_value_ensemble</th>\n",
       "    </tr>\n",
       "  </thead>\n",
       "  <tbody>\n",
       "    <tr>\n",
       "      <th>prec@5</th>\n",
       "      <td>0.110469</td>\n",
       "      <td>0.110460</td>\n",
       "      <td>0.093030</td>\n",
       "      <td>0.103137</td>\n",
       "      <td>0.113740</td>\n",
       "    </tr>\n",
       "    <tr>\n",
       "      <th>1recal@5</th>\n",
       "      <td>0.350400</td>\n",
       "      <td>0.349971</td>\n",
       "      <td>0.310116</td>\n",
       "      <td>0.348350</td>\n",
       "      <td>0.363129</td>\n",
       "    </tr>\n",
       "    <tr>\n",
       "      <th>NDCG@5</th>\n",
       "      <td>0.119848</td>\n",
       "      <td>0.119743</td>\n",
       "      <td>0.098219</td>\n",
       "      <td>0.109757</td>\n",
       "      <td>0.121442</td>\n",
       "    </tr>\n",
       "    <tr>\n",
       "      <th>MAP@5</th>\n",
       "      <td>0.213384</td>\n",
       "      <td>0.212807</td>\n",
       "      <td>0.178215</td>\n",
       "      <td>0.199829</td>\n",
       "      <td>0.214351</td>\n",
       "    </tr>\n",
       "  </tbody>\n",
       "</table>\n",
       "</div>"
      ],
      "text/plain": [
       "             CLiMF    BPR_MF       iMF     TFMAP  inner_value_ensemble\n",
       "prec@5    0.110469  0.110460  0.093030  0.103137              0.113740\n",
       "1recal@5  0.350400  0.349971  0.310116  0.348350              0.363129\n",
       "NDCG@5    0.119848  0.119743  0.098219  0.109757              0.121442\n",
       "MAP@5     0.213384  0.212807  0.178215  0.199829              0.214351"
      ]
     },
     "execution_count": 302,
     "metadata": {},
     "output_type": "execute_result"
    }
   ],
   "source": [
    "netflix_ensemble_experiment(slashdot, create_list_cf(slashdot_shape)[1:5], list_ensemble, Ktrain=5, Kvalidation=5, verbose=0, maxiter=3)"
   ]
  },
  {
   "cell_type": "code",
   "execution_count": 303,
   "metadata": {
    "collapsed": false
   },
   "outputs": [
    {
     "data": {
      "text/html": [
       "<div>\n",
       "<table border=\"1\" class=\"dataframe\">\n",
       "  <thead>\n",
       "    <tr style=\"text-align: right;\">\n",
       "      <th></th>\n",
       "      <th>CLiMF</th>\n",
       "      <th>BPR_MF</th>\n",
       "      <th>iMF</th>\n",
       "      <th>TFMAP</th>\n",
       "      <th>inner_value_ensemble</th>\n",
       "    </tr>\n",
       "  </thead>\n",
       "  <tbody>\n",
       "    <tr>\n",
       "      <th>prec@5</th>\n",
       "      <td>0.099838</td>\n",
       "      <td>0.098989</td>\n",
       "      <td>0.123999</td>\n",
       "      <td>0.099580</td>\n",
       "      <td>0.111108</td>\n",
       "    </tr>\n",
       "    <tr>\n",
       "      <th>1recal@5</th>\n",
       "      <td>0.325181</td>\n",
       "      <td>0.321892</td>\n",
       "      <td>0.371568</td>\n",
       "      <td>0.328852</td>\n",
       "      <td>0.356550</td>\n",
       "    </tr>\n",
       "    <tr>\n",
       "      <th>NDCG@5</th>\n",
       "      <td>0.108849</td>\n",
       "      <td>0.108185</td>\n",
       "      <td>0.130403</td>\n",
       "      <td>0.108039</td>\n",
       "      <td>0.117573</td>\n",
       "    </tr>\n",
       "    <tr>\n",
       "      <th>MAP@5</th>\n",
       "      <td>0.197878</td>\n",
       "      <td>0.196931</td>\n",
       "      <td>0.222450</td>\n",
       "      <td>0.197167</td>\n",
       "      <td>0.207369</td>\n",
       "    </tr>\n",
       "  </tbody>\n",
       "</table>\n",
       "</div>"
      ],
      "text/plain": [
       "             CLiMF    BPR_MF       iMF     TFMAP  inner_value_ensemble\n",
       "prec@5    0.099838  0.098989  0.123999  0.099580              0.111108\n",
       "1recal@5  0.325181  0.321892  0.371568  0.328852              0.356550\n",
       "NDCG@5    0.108849  0.108185  0.130403  0.108039              0.117573\n",
       "MAP@5     0.197878  0.196931  0.222450  0.197167              0.207369"
      ]
     },
     "execution_count": 303,
     "metadata": {},
     "output_type": "execute_result"
    }
   ],
   "source": [
    "netflix_ensemble_experiment(slashdot, create_list_cf(slashdot_shape)[1:5], list_ensemble, Ktrain=10, Kvalidation=5, verbose=0, maxiter=3)"
   ]
  },
  {
   "cell_type": "code",
   "execution_count": 278,
   "metadata": {
    "collapsed": false
   },
   "outputs": [],
   "source": [
    "list_ensemble = [\n",
    "#     rankensemble.regression_ensemble(linear_model.Ridge(alpha= 0.01)),\n",
    "#     rankensemble.regression_ensemble(linear_model.Ridge(alpha=1)), \n",
    "#     rankensemble.regression_ensemble(linear_model.Ridge(alpha=100))\n",
    "    rankensemble.regression_ensemble(linear_model.LinearRegression(fit_intercept=False))\n",
    "#     rankensemble.regression_ensemble(linear_model.LogisticRegression(C = 1),ratio_neg=40, verbose=1),\n",
    "#     rankensemble.regression_ensemble(linear_model.LogisticRegression(C = 0.00001), verbose=1),\n",
    "#     rankensemble.regression_ensemble(linear_model.LogisticRegression(C = 10000), verbose=1),\n",
    "]"
   ]
  },
  {
   "cell_type": "code",
   "execution_count": 282,
   "metadata": {
    "collapsed": false
   },
   "outputs": [
    {
     "data": {
      "text/html": [
       "<div>\n",
       "<table border=\"1\" class=\"dataframe\">\n",
       "  <thead>\n",
       "    <tr style=\"text-align: right;\">\n",
       "      <th></th>\n",
       "      <th>CLiMF</th>\n",
       "      <th>BPR_MF</th>\n",
       "      <th>iMF</th>\n",
       "      <th>TFMAP</th>\n",
       "      <th>regression_ensemble</th>\n",
       "    </tr>\n",
       "  </thead>\n",
       "  <tbody>\n",
       "    <tr>\n",
       "      <th>prec@5</th>\n",
       "      <td>0.485194</td>\n",
       "      <td>0.496112</td>\n",
       "      <td>0.443672</td>\n",
       "      <td>0.181059</td>\n",
       "      <td>0.512407</td>\n",
       "    </tr>\n",
       "    <tr>\n",
       "      <th>1recal@5</th>\n",
       "      <td>0.913978</td>\n",
       "      <td>0.923077</td>\n",
       "      <td>0.879239</td>\n",
       "      <td>0.603391</td>\n",
       "      <td>0.928040</td>\n",
       "    </tr>\n",
       "    <tr>\n",
       "      <th>NDCG@5</th>\n",
       "      <td>0.481419</td>\n",
       "      <td>0.491381</td>\n",
       "      <td>0.457095</td>\n",
       "      <td>0.215645</td>\n",
       "      <td>0.511815</td>\n",
       "    </tr>\n",
       "    <tr>\n",
       "      <th>MAP@5</th>\n",
       "      <td>0.609325</td>\n",
       "      <td>0.632940</td>\n",
       "      <td>0.614259</td>\n",
       "      <td>0.429329</td>\n",
       "      <td>0.643563</td>\n",
       "    </tr>\n",
       "  </tbody>\n",
       "</table>\n",
       "</div>"
      ],
      "text/plain": [
       "             CLiMF    BPR_MF       iMF     TFMAP  regression_ensemble\n",
       "prec@5    0.485194  0.496112  0.443672  0.181059             0.512407\n",
       "1recal@5  0.913978  0.923077  0.879239  0.603391             0.928040\n",
       "NDCG@5    0.481419  0.491381  0.457095  0.215645             0.511815\n",
       "MAP@5     0.609325  0.632940  0.614259  0.429329             0.643563"
      ]
     },
     "execution_count": 282,
     "metadata": {},
     "output_type": "execute_result"
    }
   ],
   "source": [
    "netflix_ensemble_experiment(ml100k, create_list_cf(ml100k_shape)[1:5], list_ensemble, Ktrain=5, Kvalidation=5, verbose=0, maxiter=3)"
   ]
  },
  {
   "cell_type": "code",
   "execution_count": 283,
   "metadata": {
    "collapsed": false
   },
   "outputs": [
    {
     "data": {
      "text/html": [
       "<div>\n",
       "<table border=\"1\" class=\"dataframe\">\n",
       "  <thead>\n",
       "    <tr style=\"text-align: right;\">\n",
       "      <th></th>\n",
       "      <th>CLiMF</th>\n",
       "      <th>BPR_MF</th>\n",
       "      <th>iMF</th>\n",
       "      <th>TFMAP</th>\n",
       "      <th>regression_ensemble</th>\n",
       "    </tr>\n",
       "  </thead>\n",
       "  <tbody>\n",
       "    <tr>\n",
       "      <th>prec@5</th>\n",
       "      <td>0.500248</td>\n",
       "      <td>0.496857</td>\n",
       "      <td>0.486600</td>\n",
       "      <td>0.428701</td>\n",
       "      <td>0.562283</td>\n",
       "    </tr>\n",
       "    <tr>\n",
       "      <th>1recal@5</th>\n",
       "      <td>0.901572</td>\n",
       "      <td>0.905294</td>\n",
       "      <td>0.894541</td>\n",
       "      <td>0.835401</td>\n",
       "      <td>0.934657</td>\n",
       "    </tr>\n",
       "    <tr>\n",
       "      <th>NDCG@5</th>\n",
       "      <td>0.504847</td>\n",
       "      <td>0.499228</td>\n",
       "      <td>0.500156</td>\n",
       "      <td>0.447933</td>\n",
       "      <td>0.572728</td>\n",
       "    </tr>\n",
       "    <tr>\n",
       "      <th>MAP@5</th>\n",
       "      <td>0.637098</td>\n",
       "      <td>0.628893</td>\n",
       "      <td>0.649928</td>\n",
       "      <td>0.603970</td>\n",
       "      <td>0.706030</td>\n",
       "    </tr>\n",
       "  </tbody>\n",
       "</table>\n",
       "</div>"
      ],
      "text/plain": [
       "             CLiMF    BPR_MF       iMF     TFMAP  regression_ensemble\n",
       "prec@5    0.500248  0.496857  0.486600  0.428701             0.562283\n",
       "1recal@5  0.901572  0.905294  0.894541  0.835401             0.934657\n",
       "NDCG@5    0.504847  0.499228  0.500156  0.447933             0.572728\n",
       "MAP@5     0.637098  0.628893  0.649928  0.603970             0.706030"
      ]
     },
     "execution_count": 283,
     "metadata": {},
     "output_type": "execute_result"
    }
   ],
   "source": [
    "netflix_ensemble_experiment(ml100k, create_list_cf(ml100k_shape)[1:5], list_ensemble, Ktrain=10, Kvalidation=5, verbose=0, maxiter=3)"
   ]
  },
  {
   "cell_type": "code",
   "execution_count": 284,
   "metadata": {
    "collapsed": false
   },
   "outputs": [
    {
     "data": {
      "text/html": [
       "<div>\n",
       "<table border=\"1\" class=\"dataframe\">\n",
       "  <thead>\n",
       "    <tr style=\"text-align: right;\">\n",
       "      <th></th>\n",
       "      <th>CLiMF</th>\n",
       "      <th>BPR_MF</th>\n",
       "      <th>iMF</th>\n",
       "      <th>TFMAP</th>\n",
       "      <th>regression_ensemble</th>\n",
       "    </tr>\n",
       "  </thead>\n",
       "  <tbody>\n",
       "    <tr>\n",
       "      <th>prec@5</th>\n",
       "      <td>0.181097</td>\n",
       "      <td>0.179251</td>\n",
       "      <td>0.173606</td>\n",
       "      <td>0.172425</td>\n",
       "      <td>0.203375</td>\n",
       "    </tr>\n",
       "    <tr>\n",
       "      <th>1recal@5</th>\n",
       "      <td>0.524631</td>\n",
       "      <td>0.520545</td>\n",
       "      <td>0.519183</td>\n",
       "      <td>0.520923</td>\n",
       "      <td>0.570791</td>\n",
       "    </tr>\n",
       "    <tr>\n",
       "      <th>NDCG@5</th>\n",
       "      <td>0.203624</td>\n",
       "      <td>0.202171</td>\n",
       "      <td>0.183124</td>\n",
       "      <td>0.197307</td>\n",
       "      <td>0.223007</td>\n",
       "    </tr>\n",
       "    <tr>\n",
       "      <th>MAP@5</th>\n",
       "      <td>0.357046</td>\n",
       "      <td>0.356737</td>\n",
       "      <td>0.313501</td>\n",
       "      <td>0.358820</td>\n",
       "      <td>0.378441</td>\n",
       "    </tr>\n",
       "  </tbody>\n",
       "</table>\n",
       "</div>"
      ],
      "text/plain": [
       "             CLiMF    BPR_MF       iMF     TFMAP  regression_ensemble\n",
       "prec@5    0.181097  0.179251  0.173606  0.172425             0.203375\n",
       "1recal@5  0.524631  0.520545  0.519183  0.520923             0.570791\n",
       "NDCG@5    0.203624  0.202171  0.183124  0.197307             0.223007\n",
       "MAP@5     0.357046  0.356737  0.313501  0.358820             0.378441"
      ]
     },
     "execution_count": 284,
     "metadata": {},
     "output_type": "execute_result"
    }
   ],
   "source": [
    "netflix_ensemble_experiment(epinion, create_list_cf(epinion_shape)[1:5], list_ensemble, Ktrain=5, Kvalidation=5, verbose=0, maxiter=3)"
   ]
  },
  {
   "cell_type": "code",
   "execution_count": 285,
   "metadata": {
    "collapsed": false
   },
   "outputs": [
    {
     "data": {
      "text/html": [
       "<div>\n",
       "<table border=\"1\" class=\"dataframe\">\n",
       "  <thead>\n",
       "    <tr style=\"text-align: right;\">\n",
       "      <th></th>\n",
       "      <th>CLiMF</th>\n",
       "      <th>BPR_MF</th>\n",
       "      <th>iMF</th>\n",
       "      <th>TFMAP</th>\n",
       "      <th>regression_ensemble</th>\n",
       "    </tr>\n",
       "  </thead>\n",
       "  <tbody>\n",
       "    <tr>\n",
       "      <th>prec@5</th>\n",
       "      <td>0.155929</td>\n",
       "      <td>0.155717</td>\n",
       "      <td>0.250806</td>\n",
       "      <td>0.153129</td>\n",
       "      <td>0.193583</td>\n",
       "    </tr>\n",
       "    <tr>\n",
       "      <th>1recal@5</th>\n",
       "      <td>0.458494</td>\n",
       "      <td>0.457889</td>\n",
       "      <td>0.613243</td>\n",
       "      <td>0.452894</td>\n",
       "      <td>0.524328</td>\n",
       "    </tr>\n",
       "    <tr>\n",
       "      <th>NDCG@5</th>\n",
       "      <td>0.173157</td>\n",
       "      <td>0.172970</td>\n",
       "      <td>0.260744</td>\n",
       "      <td>0.171877</td>\n",
       "      <td>0.206088</td>\n",
       "    </tr>\n",
       "    <tr>\n",
       "      <th>MAP@5</th>\n",
       "      <td>0.303094</td>\n",
       "      <td>0.302648</td>\n",
       "      <td>0.394670</td>\n",
       "      <td>0.304922</td>\n",
       "      <td>0.333983</td>\n",
       "    </tr>\n",
       "  </tbody>\n",
       "</table>\n",
       "</div>"
      ],
      "text/plain": [
       "             CLiMF    BPR_MF       iMF     TFMAP  regression_ensemble\n",
       "prec@5    0.155929  0.155717  0.250806  0.153129             0.193583\n",
       "1recal@5  0.458494  0.457889  0.613243  0.452894             0.524328\n",
       "NDCG@5    0.173157  0.172970  0.260744  0.171877             0.206088\n",
       "MAP@5     0.303094  0.302648  0.394670  0.304922             0.333983"
      ]
     },
     "execution_count": 285,
     "metadata": {},
     "output_type": "execute_result"
    }
   ],
   "source": [
    "netflix_ensemble_experiment(epinion, create_list_cf(epinion_shape)[1:5], list_ensemble, Ktrain=15, Kvalidation=5, verbose=0, maxiter=3)"
   ]
  },
  {
   "cell_type": "code",
   "execution_count": 286,
   "metadata": {
    "collapsed": false
   },
   "outputs": [
    {
     "data": {
      "text/html": [
       "<div>\n",
       "<table border=\"1\" class=\"dataframe\">\n",
       "  <thead>\n",
       "    <tr style=\"text-align: right;\">\n",
       "      <th></th>\n",
       "      <th>CLiMF</th>\n",
       "      <th>BPR_MF</th>\n",
       "      <th>iMF</th>\n",
       "      <th>TFMAP</th>\n",
       "      <th>regression_ensemble</th>\n",
       "    </tr>\n",
       "  </thead>\n",
       "  <tbody>\n",
       "    <tr>\n",
       "      <th>prec@5</th>\n",
       "      <td>0.464132</td>\n",
       "      <td>0.466054</td>\n",
       "      <td>0.458137</td>\n",
       "      <td>0.381546</td>\n",
       "      <td>0.494756</td>\n",
       "    </tr>\n",
       "    <tr>\n",
       "      <th>1recal@5</th>\n",
       "      <td>0.862318</td>\n",
       "      <td>0.862017</td>\n",
       "      <td>0.857392</td>\n",
       "      <td>0.785006</td>\n",
       "      <td>0.883523</td>\n",
       "    </tr>\n",
       "    <tr>\n",
       "      <th>NDCG@5</th>\n",
       "      <td>0.479222</td>\n",
       "      <td>0.480778</td>\n",
       "      <td>0.470088</td>\n",
       "      <td>0.402615</td>\n",
       "      <td>0.510160</td>\n",
       "    </tr>\n",
       "    <tr>\n",
       "      <th>MAP@5</th>\n",
       "      <td>0.636081</td>\n",
       "      <td>0.638547</td>\n",
       "      <td>0.614675</td>\n",
       "      <td>0.565088</td>\n",
       "      <td>0.656829</td>\n",
       "    </tr>\n",
       "  </tbody>\n",
       "</table>\n",
       "</div>"
      ],
      "text/plain": [
       "             CLiMF    BPR_MF       iMF     TFMAP  regression_ensemble\n",
       "prec@5    0.464132  0.466054  0.458137  0.381546             0.494756\n",
       "1recal@5  0.862318  0.862017  0.857392  0.785006             0.883523\n",
       "NDCG@5    0.479222  0.480778  0.470088  0.402615             0.510160\n",
       "MAP@5     0.636081  0.638547  0.614675  0.565088             0.656829"
      ]
     },
     "execution_count": 286,
     "metadata": {},
     "output_type": "execute_result"
    }
   ],
   "source": [
    "netflix_ensemble_experiment(ml1m, create_list_cf(ml1m_shape)[1:5], list_ensemble, Ktrain=5, Kvalidation=5, verbose=0, maxiter=3)"
   ]
  },
  {
   "cell_type": "code",
   "execution_count": 287,
   "metadata": {
    "collapsed": false
   },
   "outputs": [
    {
     "data": {
      "text/html": [
       "<div>\n",
       "<table border=\"1\" class=\"dataframe\">\n",
       "  <thead>\n",
       "    <tr style=\"text-align: right;\">\n",
       "      <th></th>\n",
       "      <th>CLiMF</th>\n",
       "      <th>BPR_MF</th>\n",
       "      <th>iMF</th>\n",
       "      <th>TFMAP</th>\n",
       "      <th>regression_ensemble</th>\n",
       "    </tr>\n",
       "  </thead>\n",
       "  <tbody>\n",
       "    <tr>\n",
       "      <th>prec@5</th>\n",
       "      <td>0.470415</td>\n",
       "      <td>0.469466</td>\n",
       "      <td>0.550934</td>\n",
       "      <td>0.464732</td>\n",
       "      <td>0.492629</td>\n",
       "    </tr>\n",
       "    <tr>\n",
       "      <th>1recal@5</th>\n",
       "      <td>0.837388</td>\n",
       "      <td>0.836067</td>\n",
       "      <td>0.911876</td>\n",
       "      <td>0.839190</td>\n",
       "      <td>0.857452</td>\n",
       "    </tr>\n",
       "    <tr>\n",
       "      <th>NDCG@5</th>\n",
       "      <td>0.482205</td>\n",
       "      <td>0.481379</td>\n",
       "      <td>0.562975</td>\n",
       "      <td>0.475937</td>\n",
       "      <td>0.499092</td>\n",
       "    </tr>\n",
       "    <tr>\n",
       "      <th>MAP@5</th>\n",
       "      <td>0.639026</td>\n",
       "      <td>0.638107</td>\n",
       "      <td>0.694209</td>\n",
       "      <td>0.632906</td>\n",
       "      <td>0.641027</td>\n",
       "    </tr>\n",
       "  </tbody>\n",
       "</table>\n",
       "</div>"
      ],
      "text/plain": [
       "             CLiMF    BPR_MF       iMF     TFMAP  regression_ensemble\n",
       "prec@5    0.470415  0.469466  0.550934  0.464732             0.492629\n",
       "1recal@5  0.837388  0.836067  0.911876  0.839190             0.857452\n",
       "NDCG@5    0.482205  0.481379  0.562975  0.475937             0.499092\n",
       "MAP@5     0.639026  0.638107  0.694209  0.632906             0.641027"
      ]
     },
     "execution_count": 287,
     "metadata": {},
     "output_type": "execute_result"
    }
   ],
   "source": [
    "netflix_ensemble_experiment(ml1m, create_list_cf(ml1m_shape)[1:5], list_ensemble, Ktrain=10, Kvalidation=5, verbose=0, maxiter=3)"
   ]
  },
  {
   "cell_type": "code",
   "execution_count": 288,
   "metadata": {
    "collapsed": false
   },
   "outputs": [
    {
     "data": {
      "text/html": [
       "<div>\n",
       "<table border=\"1\" class=\"dataframe\">\n",
       "  <thead>\n",
       "    <tr style=\"text-align: right;\">\n",
       "      <th></th>\n",
       "      <th>CLiMF</th>\n",
       "      <th>BPR_MF</th>\n",
       "      <th>iMF</th>\n",
       "      <th>TFMAP</th>\n",
       "      <th>regression_ensemble</th>\n",
       "    </tr>\n",
       "  </thead>\n",
       "  <tbody>\n",
       "    <tr>\n",
       "      <th>prec@5</th>\n",
       "      <td>0.111146</td>\n",
       "      <td>0.110317</td>\n",
       "      <td>0.089493</td>\n",
       "      <td>0.104043</td>\n",
       "      <td>0.115542</td>\n",
       "    </tr>\n",
       "    <tr>\n",
       "      <th>1recal@5</th>\n",
       "      <td>0.358553</td>\n",
       "      <td>0.355931</td>\n",
       "      <td>0.305015</td>\n",
       "      <td>0.340770</td>\n",
       "      <td>0.372998</td>\n",
       "    </tr>\n",
       "    <tr>\n",
       "      <th>NDCG@5</th>\n",
       "      <td>0.120014</td>\n",
       "      <td>0.119675</td>\n",
       "      <td>0.094615</td>\n",
       "      <td>0.113425</td>\n",
       "      <td>0.122598</td>\n",
       "    </tr>\n",
       "    <tr>\n",
       "      <th>MAP@5</th>\n",
       "      <td>0.215547</td>\n",
       "      <td>0.215282</td>\n",
       "      <td>0.174804</td>\n",
       "      <td>0.207281</td>\n",
       "      <td>0.217780</td>\n",
       "    </tr>\n",
       "  </tbody>\n",
       "</table>\n",
       "</div>"
      ],
      "text/plain": [
       "             CLiMF    BPR_MF       iMF     TFMAP  regression_ensemble\n",
       "prec@5    0.111146  0.110317  0.089493  0.104043             0.115542\n",
       "1recal@5  0.358553  0.355931  0.305015  0.340770             0.372998\n",
       "NDCG@5    0.120014  0.119675  0.094615  0.113425             0.122598\n",
       "MAP@5     0.215547  0.215282  0.174804  0.207281             0.217780"
      ]
     },
     "execution_count": 288,
     "metadata": {},
     "output_type": "execute_result"
    }
   ],
   "source": [
    "netflix_ensemble_experiment(slashdot, create_list_cf(slashdot_shape)[1:5], list_ensemble, Ktrain=5, Kvalidation=5, verbose=0, maxiter=3)"
   ]
  },
  {
   "cell_type": "code",
   "execution_count": 289,
   "metadata": {
    "collapsed": false
   },
   "outputs": [
    {
     "data": {
      "text/html": [
       "<div>\n",
       "<table border=\"1\" class=\"dataframe\">\n",
       "  <thead>\n",
       "    <tr style=\"text-align: right;\">\n",
       "      <th></th>\n",
       "      <th>CLiMF</th>\n",
       "      <th>BPR_MF</th>\n",
       "      <th>iMF</th>\n",
       "      <th>TFMAP</th>\n",
       "      <th>regression_ensemble</th>\n",
       "    </tr>\n",
       "  </thead>\n",
       "  <tbody>\n",
       "    <tr>\n",
       "      <th>prec@5</th>\n",
       "      <td>0.100048</td>\n",
       "      <td>0.100143</td>\n",
       "      <td>0.125582</td>\n",
       "      <td>0.100744</td>\n",
       "      <td>0.118898</td>\n",
       "    </tr>\n",
       "    <tr>\n",
       "      <th>1recal@5</th>\n",
       "      <td>0.325277</td>\n",
       "      <td>0.325610</td>\n",
       "      <td>0.378480</td>\n",
       "      <td>0.328089</td>\n",
       "      <td>0.376001</td>\n",
       "    </tr>\n",
       "    <tr>\n",
       "      <th>NDCG@5</th>\n",
       "      <td>0.109397</td>\n",
       "      <td>0.109442</td>\n",
       "      <td>0.131979</td>\n",
       "      <td>0.108766</td>\n",
       "      <td>0.125058</td>\n",
       "    </tr>\n",
       "    <tr>\n",
       "      <th>MAP@5</th>\n",
       "      <td>0.199293</td>\n",
       "      <td>0.199254</td>\n",
       "      <td>0.225477</td>\n",
       "      <td>0.196263</td>\n",
       "      <td>0.220731</td>\n",
       "    </tr>\n",
       "  </tbody>\n",
       "</table>\n",
       "</div>"
      ],
      "text/plain": [
       "             CLiMF    BPR_MF       iMF     TFMAP  regression_ensemble\n",
       "prec@5    0.100048  0.100143  0.125582  0.100744             0.118898\n",
       "1recal@5  0.325277  0.325610  0.378480  0.328089             0.376001\n",
       "NDCG@5    0.109397  0.109442  0.131979  0.108766             0.125058\n",
       "MAP@5     0.199293  0.199254  0.225477  0.196263             0.220731"
      ]
     },
     "execution_count": 289,
     "metadata": {},
     "output_type": "execute_result"
    }
   ],
   "source": [
    "netflix_ensemble_experiment(slashdot, create_list_cf(slashdot_shape)[1:5], list_ensemble, Ktrain=10, Kvalidation=5, verbose=0, maxiter=3)"
   ]
  },
  {
   "cell_type": "code",
   "execution_count": 307,
   "metadata": {
    "collapsed": false
   },
   "outputs": [],
   "source": [
    "list_ensemble = [\n",
    "#     rankensemble.boost_val_ens(rankingmeasure.get_NDCG, index = [0,1,2,3], num_weights=51),\n",
    "#     rankensemble.boost_val_ens(rankingmeasure.get_NDCG, index = [1,2,3, 0], num_weights=51),\n",
    "#     rankensemble.boost_val_ens(rankingmeasure.get_NDCG, index = [2,3,0,1], num_weights=51),\n",
    "     rankensemble.boost_val_ens(rankingmeasure.get_NDCG, index = [3,0,1,2], num_weights=11),\n",
    "    \n",
    "     rankensemble.tree_val_ens(rankingmeasure.get_NDCG, index = [[0,1], [2, 3]], num_weights=11),\n",
    "#     rankensemble.tree_val_ens(rankingmeasure.get_NDCG, index = [[0,2], [1, 3]]),\n",
    "#     rankensemble.tree_val_ens(rankingmeasure.get_NDCG, index = [[0,3], [1, 2]])\n",
    "    \n",
    "#     rankensemble.boost_val_ens(rankingmeasure.get_NDCG, num_weights=51),\n",
    "#     rankensemble.boost_val_ens(rankingmeasure.get_NDCG, num_weights=51),\n",
    "#     rankensemble.boost_val_ens(rankingmeasure.get_NDCG, num_weights=51),\n",
    "#     rankensemble.boost_val_ens(rankingmeasure.get_NDCG, num_weights=51)\n",
    "    \n",
    "#     rankensemble.val_ens(weights, rankingmeasure.get_NDCG, verbose=1),\n",
    "#     rankensemble.val_ens(weights, rankingmeasure.get_MAP, verbose=1),\n",
    "#     rankensemble.val_ens(weights, rankingmeasure.get_prec_K, verbose=1),\n",
    "#     rankensemble.val_ens(weights, rankingmeasure.get_one_recal_K, verbose=1)\n",
    "#     rankensemble.regression_ensemble(KernelRidge(), ratio_neg=2),\n",
    "#     rankensemble.regression_ensemble(linear_model.RANSACRegressor()),\n",
    "#     rankensemble.regression_ensemble(linear_model.Ridge(alpha=0.01)),\n",
    "#     rankensemble.regression_ensemble(linear_model.Ridge(alpha=0.01, fit_intercept=False)),\n",
    "#     rankensemble.regression_ensemble(linear_model.Ridge(alpha=1)),\n",
    "#      rankensemble.regression_ensemble(linear_model.RidgeClassifier(alpha= 0.01, class_weight={0:10, 1:1})),\n",
    "#       rankensemble.regression_ensemble(linear_model.LinearRegression(fit_intercept=False))\n",
    "#      rankensemble.regression_ensemble(linear_model.Ridge(alpha=100))\n",
    "#     rankensemble.regression_ensemble(linear_model.LogisticRegression(C = 1),ratio_neg=40, verbose=1),\n",
    "#     rankensemble.regression_ensemble(linear_model.LogisticRegression(C = 0.00001), verbose=1),\n",
    "#     rankensemble.regression_ensemble(linear_model.LogisticRegression(C = 10000), verbose=1),\n",
    "]"
   ]
  },
  {
   "cell_type": "code",
   "execution_count": 208,
   "metadata": {
    "collapsed": false
   },
   "outputs": [
    {
     "name": "stdout",
     "output_type": "stream",
     "text": [
      "0 0 [ 0.50496278  0.94416873  0.52077296  0.69091019]\n",
      "0 1 [ 0.51265509  0.94168734  0.53936848  0.71851048]\n",
      "0 2 [ 0.45955335  0.88709677  0.47464298  0.63366419]\n",
      "0 3 [ 0.29751861  0.80521092  0.34587881  0.59352943]\n",
      "0 4 [ 0.51612903  0.94789082  0.54146754  0.71442997]\n",
      "0 5 [ 0.51414392  0.94540943  0.53820766  0.70879687]\n",
      "0 6 [ 0.51712159  0.94292804  0.54178551  0.71563103]\n",
      "0 7 [ 0.52332506  0.94665012  0.54759357  0.71709229]\n",
      "1 0 [ 0.50856079  0.93114144  0.50970774  0.64868693]\n",
      "1 1 [ 0.50918114  0.93362283  0.51925767  0.67058002]\n",
      "1 2 [ 0.45545906  0.87593052  0.4704041   0.62594517]\n",
      "1 3 [ 0.23424318  0.73200993  0.29628697  0.59386632]\n",
      "1 4 [ 0.53349876  0.94416873  0.54963156  0.70182313]\n",
      "1 5 [ 0.53076923  0.9398263   0.54946139  0.70344551]\n",
      "1 6 [ 0.52866005  0.93920596  0.54468868  0.69746605]\n",
      "1 7 [ 0.53548387  0.94292804  0.55259565  0.70544527]\n",
      "2 0 [ 0.51612903  0.93093466  0.51193994  0.64850772]\n",
      "2 1 [ 0.51141439  0.93424318  0.51385158  0.65664289]\n",
      "2 2 [ 0.44772539  0.8738627   0.46290358  0.62111881]\n",
      "2 3 [ 0.25359801  0.74358974  0.30509116  0.57192641]\n",
      "2 4 [ 0.53349876  0.93837883  0.54722218  0.69617682]\n",
      "2 5 [ 0.53159636  0.93548387  0.54248167  0.68749483]\n",
      "2 6 [ 0.53035567  0.93382961  0.54204433  0.68878607]\n",
      "2 7 [ 0.53573201  0.93713813  0.55013949  0.69896839]\n",
      "3 0 [ 0.50334988  0.92741935  0.50327452  0.6436255 ]\n",
      "3 1 [ 0.51265509  0.93207196  0.51571765  0.65514802]\n",
      "3 2 [ 0.4412531   0.87624069  0.45593825  0.61662962]\n",
      "3 3 [ 0.21848635  0.66004963  0.26050804  0.49212417]\n",
      "3 4 [ 0.52816377  0.93734491  0.5410865   0.68893369]\n",
      "3 5 [ 0.52624069  0.933933    0.53757679  0.68371416]\n",
      "3 6 [ 0.52320099  0.93207196  0.53439043  0.68016956]\n",
      "3 7 [ 0.53306452  0.93548387  0.54748518  0.69478391]\n",
      "4 0 [ 0.50784119  0.92878412  0.51195015  0.65615902]\n",
      "4 1 [ 0.5142928   0.93176179  0.52023268  0.6616808 ]\n",
      "4 2 [ 0.44545906  0.8764268   0.45852922  0.61555349]\n",
      "4 3 [ 0.23047146  0.67493797  0.27219541  0.50430659]\n",
      "4 4 [ 0.53210918  0.93722084  0.54557994  0.69189068]\n",
      "4 5 [ 0.52962779  0.93473945  0.541686    0.68684484]\n",
      "4 6 [ 0.52426799  0.9325062   0.53485541  0.67904811]\n",
      "4 7 [ 0.53602978  0.93622829  0.55113466  0.6984095 ]\n"
     ]
    },
    {
     "data": {
      "text/html": [
       "<div>\n",
       "<table border=\"1\" class=\"dataframe\">\n",
       "  <thead>\n",
       "    <tr style=\"text-align: right;\">\n",
       "      <th></th>\n",
       "      <th>CLiMF</th>\n",
       "      <th>BPR_MF</th>\n",
       "      <th>iMF</th>\n",
       "      <th>TFMAP</th>\n",
       "      <th>boost_val_ens</th>\n",
       "      <th>tree_val_ens</th>\n",
       "      <th>tree_val_ens</th>\n",
       "      <th>tree_val_ens</th>\n",
       "    </tr>\n",
       "  </thead>\n",
       "  <tbody>\n",
       "    <tr>\n",
       "      <th>prec@5</th>\n",
       "      <td>0.507841</td>\n",
       "      <td>0.514293</td>\n",
       "      <td>0.445459</td>\n",
       "      <td>0.230471</td>\n",
       "      <td>0.532109</td>\n",
       "      <td>0.529628</td>\n",
       "      <td>0.524268</td>\n",
       "      <td>0.536030</td>\n",
       "    </tr>\n",
       "    <tr>\n",
       "      <th>1recal@5</th>\n",
       "      <td>0.928784</td>\n",
       "      <td>0.931762</td>\n",
       "      <td>0.876427</td>\n",
       "      <td>0.674938</td>\n",
       "      <td>0.937221</td>\n",
       "      <td>0.934739</td>\n",
       "      <td>0.932506</td>\n",
       "      <td>0.936228</td>\n",
       "    </tr>\n",
       "    <tr>\n",
       "      <th>NDCG@5</th>\n",
       "      <td>0.511950</td>\n",
       "      <td>0.520233</td>\n",
       "      <td>0.458529</td>\n",
       "      <td>0.272195</td>\n",
       "      <td>0.545580</td>\n",
       "      <td>0.541686</td>\n",
       "      <td>0.534855</td>\n",
       "      <td>0.551135</td>\n",
       "    </tr>\n",
       "    <tr>\n",
       "      <th>MAP@5</th>\n",
       "      <td>0.656159</td>\n",
       "      <td>0.661681</td>\n",
       "      <td>0.615553</td>\n",
       "      <td>0.504307</td>\n",
       "      <td>0.691891</td>\n",
       "      <td>0.686845</td>\n",
       "      <td>0.679048</td>\n",
       "      <td>0.698409</td>\n",
       "    </tr>\n",
       "  </tbody>\n",
       "</table>\n",
       "</div>"
      ],
      "text/plain": [
       "             CLiMF    BPR_MF       iMF     TFMAP  boost_val_ens  tree_val_ens  \\\n",
       "prec@5    0.507841  0.514293  0.445459  0.230471       0.532109      0.529628   \n",
       "1recal@5  0.928784  0.931762  0.876427  0.674938       0.937221      0.934739   \n",
       "NDCG@5    0.511950  0.520233  0.458529  0.272195       0.545580      0.541686   \n",
       "MAP@5     0.656159  0.661681  0.615553  0.504307       0.691891      0.686845   \n",
       "\n",
       "          tree_val_ens  tree_val_ens  \n",
       "prec@5        0.524268      0.536030  \n",
       "1recal@5      0.932506      0.936228  \n",
       "NDCG@5        0.534855      0.551135  \n",
       "MAP@5         0.679048      0.698409  "
      ]
     },
     "execution_count": 208,
     "metadata": {},
     "output_type": "execute_result"
    }
   ],
   "source": [
    "netflix_ensemble_experiment(ml100k, create_list_cf(ml100k_shape)[1:5], list_ensemble, Ktrain=5, Kvalidation=5, verbose=1, maxiter=5)"
   ]
  },
  {
   "cell_type": "code",
   "execution_count": 209,
   "metadata": {
    "collapsed": false
   },
   "outputs": [
    {
     "data": {
      "text/html": [
       "<div>\n",
       "<table border=\"1\" class=\"dataframe\">\n",
       "  <thead>\n",
       "    <tr style=\"text-align: right;\">\n",
       "      <th></th>\n",
       "      <th>CLiMF</th>\n",
       "      <th>BPR_MF</th>\n",
       "      <th>iMF</th>\n",
       "      <th>TFMAP</th>\n",
       "      <th>boost_val_ens</th>\n",
       "      <th>tree_val_ens</th>\n",
       "      <th>tree_val_ens</th>\n",
       "      <th>tree_val_ens</th>\n",
       "    </tr>\n",
       "  </thead>\n",
       "  <tbody>\n",
       "    <tr>\n",
       "      <th>prec@5</th>\n",
       "      <td>0.490819</td>\n",
       "      <td>0.493052</td>\n",
       "      <td>0.487593</td>\n",
       "      <td>0.482630</td>\n",
       "      <td>0.551365</td>\n",
       "      <td>0.557320</td>\n",
       "      <td>0.560050</td>\n",
       "      <td>0.558809</td>\n",
       "    </tr>\n",
       "    <tr>\n",
       "      <th>1recal@5</th>\n",
       "      <td>0.914392</td>\n",
       "      <td>0.914392</td>\n",
       "      <td>0.897022</td>\n",
       "      <td>0.908189</td>\n",
       "      <td>0.923077</td>\n",
       "      <td>0.923077</td>\n",
       "      <td>0.923077</td>\n",
       "      <td>0.925558</td>\n",
       "    </tr>\n",
       "    <tr>\n",
       "      <th>NDCG@5</th>\n",
       "      <td>0.511642</td>\n",
       "      <td>0.508992</td>\n",
       "      <td>0.495114</td>\n",
       "      <td>0.466087</td>\n",
       "      <td>0.564753</td>\n",
       "      <td>0.575404</td>\n",
       "      <td>0.577618</td>\n",
       "      <td>0.576932</td>\n",
       "    </tr>\n",
       "    <tr>\n",
       "      <th>MAP@5</th>\n",
       "      <td>0.670818</td>\n",
       "      <td>0.664066</td>\n",
       "      <td>0.633221</td>\n",
       "      <td>0.578200</td>\n",
       "      <td>0.697991</td>\n",
       "      <td>0.713327</td>\n",
       "      <td>0.714513</td>\n",
       "      <td>0.714859</td>\n",
       "    </tr>\n",
       "  </tbody>\n",
       "</table>\n",
       "</div>"
      ],
      "text/plain": [
       "             CLiMF    BPR_MF       iMF     TFMAP  boost_val_ens  tree_val_ens  \\\n",
       "prec@5    0.490819  0.493052  0.487593  0.482630       0.551365      0.557320   \n",
       "1recal@5  0.914392  0.914392  0.897022  0.908189       0.923077      0.923077   \n",
       "NDCG@5    0.511642  0.508992  0.495114  0.466087       0.564753      0.575404   \n",
       "MAP@5     0.670818  0.664066  0.633221  0.578200       0.697991      0.713327   \n",
       "\n",
       "          tree_val_ens  tree_val_ens  \n",
       "prec@5        0.560050      0.558809  \n",
       "1recal@5      0.923077      0.925558  \n",
       "NDCG@5        0.577618      0.576932  \n",
       "MAP@5         0.714513      0.714859  "
      ]
     },
     "execution_count": 209,
     "metadata": {},
     "output_type": "execute_result"
    }
   ],
   "source": [
    "netflix_ensemble_experiment(ml100k, create_list_cf(ml100k_shape)[1:5], list_ensemble, Ktrain=10, Kvalidation=5, verbose=0, maxiter=1)"
   ]
  },
  {
   "cell_type": "code",
   "execution_count": 213,
   "metadata": {
    "collapsed": false
   },
   "outputs": [
    {
     "name": "stdout",
     "output_type": "stream",
     "text": [
      "0 0 [ 0.17375709  0.5262202   0.19655976  0.35559717]\n",
      "0 1 [ 0.18111237  0.53348468  0.20285063  0.35906829]\n",
      "0 2 [ 0.1783882   0.51736663  0.1878535   0.31326649]\n",
      "0 3 [ 0.16867196  0.5014756   0.19349445  0.35064888]\n",
      "0 4 [ 0.21089671  0.58524404  0.23053223  0.38926472]\n",
      "0 5 [ 0.20958002  0.58479001  0.22916041  0.3872279 ]\n"
     ]
    },
    {
     "data": {
      "text/html": [
       "<div>\n",
       "<table border=\"1\" class=\"dataframe\">\n",
       "  <thead>\n",
       "    <tr style=\"text-align: right;\">\n",
       "      <th></th>\n",
       "      <th>CLiMF</th>\n",
       "      <th>BPR_MF</th>\n",
       "      <th>iMF</th>\n",
       "      <th>TFMAP</th>\n",
       "      <th>boost_val_ens</th>\n",
       "      <th>tree_val_ens</th>\n",
       "    </tr>\n",
       "  </thead>\n",
       "  <tbody>\n",
       "    <tr>\n",
       "      <th>prec@5</th>\n",
       "      <td>0.173757</td>\n",
       "      <td>0.181112</td>\n",
       "      <td>0.178388</td>\n",
       "      <td>0.168672</td>\n",
       "      <td>0.210897</td>\n",
       "      <td>0.209580</td>\n",
       "    </tr>\n",
       "    <tr>\n",
       "      <th>1recal@5</th>\n",
       "      <td>0.526220</td>\n",
       "      <td>0.533485</td>\n",
       "      <td>0.517367</td>\n",
       "      <td>0.501476</td>\n",
       "      <td>0.585244</td>\n",
       "      <td>0.584790</td>\n",
       "    </tr>\n",
       "    <tr>\n",
       "      <th>NDCG@5</th>\n",
       "      <td>0.196560</td>\n",
       "      <td>0.202851</td>\n",
       "      <td>0.187853</td>\n",
       "      <td>0.193494</td>\n",
       "      <td>0.230532</td>\n",
       "      <td>0.229160</td>\n",
       "    </tr>\n",
       "    <tr>\n",
       "      <th>MAP@5</th>\n",
       "      <td>0.355597</td>\n",
       "      <td>0.359068</td>\n",
       "      <td>0.313266</td>\n",
       "      <td>0.350649</td>\n",
       "      <td>0.389265</td>\n",
       "      <td>0.387228</td>\n",
       "    </tr>\n",
       "  </tbody>\n",
       "</table>\n",
       "</div>"
      ],
      "text/plain": [
       "             CLiMF    BPR_MF       iMF     TFMAP  boost_val_ens  tree_val_ens\n",
       "prec@5    0.173757  0.181112  0.178388  0.168672       0.210897      0.209580\n",
       "1recal@5  0.526220  0.533485  0.517367  0.501476       0.585244      0.584790\n",
       "NDCG@5    0.196560  0.202851  0.187853  0.193494       0.230532      0.229160\n",
       "MAP@5     0.355597  0.359068  0.313266  0.350649       0.389265      0.387228"
      ]
     },
     "execution_count": 213,
     "metadata": {},
     "output_type": "execute_result"
    }
   ],
   "source": [
    "netflix_ensemble_experiment(epinion, create_list_cf(epinion_shape)[1:5], list_ensemble, Ktrain=5, Kvalidation=5, verbose=1, maxiter=1)"
   ]
  },
  {
   "cell_type": "code",
   "execution_count": 212,
   "metadata": {
    "collapsed": false
   },
   "outputs": [
    {
     "name": "stdout",
     "output_type": "stream",
     "text": [
      "0 0 [ 0.16281498  0.49738933  0.18395243  0.33491361]\n",
      "0 1 [ 0.17030647  0.50578888  0.18985841  0.33579108]\n",
      "0 2 [ 0.23645857  0.60045403  0.24565992  0.37759112]\n",
      "0 3 [ 0.15936436  0.48853575  0.18019959  0.32892546]\n",
      "0 4 [ 0.24385925  0.61906924  0.25643794  0.3995589 ]\n",
      "0 5 [ 0.23877412  0.61770715  0.25299295  0.4011108 ]\n"
     ]
    },
    {
     "data": {
      "text/html": [
       "<div>\n",
       "<table border=\"1\" class=\"dataframe\">\n",
       "  <thead>\n",
       "    <tr style=\"text-align: right;\">\n",
       "      <th></th>\n",
       "      <th>CLiMF</th>\n",
       "      <th>BPR_MF</th>\n",
       "      <th>iMF</th>\n",
       "      <th>TFMAP</th>\n",
       "      <th>boost_val_ens</th>\n",
       "      <th>tree_val_ens</th>\n",
       "    </tr>\n",
       "  </thead>\n",
       "  <tbody>\n",
       "    <tr>\n",
       "      <th>prec@5</th>\n",
       "      <td>0.162815</td>\n",
       "      <td>0.170306</td>\n",
       "      <td>0.236459</td>\n",
       "      <td>0.159364</td>\n",
       "      <td>0.243859</td>\n",
       "      <td>0.238774</td>\n",
       "    </tr>\n",
       "    <tr>\n",
       "      <th>1recal@5</th>\n",
       "      <td>0.497389</td>\n",
       "      <td>0.505789</td>\n",
       "      <td>0.600454</td>\n",
       "      <td>0.488536</td>\n",
       "      <td>0.619069</td>\n",
       "      <td>0.617707</td>\n",
       "    </tr>\n",
       "    <tr>\n",
       "      <th>NDCG@5</th>\n",
       "      <td>0.183952</td>\n",
       "      <td>0.189858</td>\n",
       "      <td>0.245660</td>\n",
       "      <td>0.180200</td>\n",
       "      <td>0.256438</td>\n",
       "      <td>0.252993</td>\n",
       "    </tr>\n",
       "    <tr>\n",
       "      <th>MAP@5</th>\n",
       "      <td>0.334914</td>\n",
       "      <td>0.335791</td>\n",
       "      <td>0.377591</td>\n",
       "      <td>0.328925</td>\n",
       "      <td>0.399559</td>\n",
       "      <td>0.401111</td>\n",
       "    </tr>\n",
       "  </tbody>\n",
       "</table>\n",
       "</div>"
      ],
      "text/plain": [
       "             CLiMF    BPR_MF       iMF     TFMAP  boost_val_ens  tree_val_ens\n",
       "prec@5    0.162815  0.170306  0.236459  0.159364       0.243859      0.238774\n",
       "1recal@5  0.497389  0.505789  0.600454  0.488536       0.619069      0.617707\n",
       "NDCG@5    0.183952  0.189858  0.245660  0.180200       0.256438      0.252993\n",
       "MAP@5     0.334914  0.335791  0.377591  0.328925       0.399559      0.401111"
      ]
     },
     "execution_count": 212,
     "metadata": {},
     "output_type": "execute_result"
    }
   ],
   "source": [
    "netflix_ensemble_experiment(epinion, create_list_cf(epinion_shape)[1:5], list_ensemble, Ktrain=10, Kvalidation=5, verbose=1, maxiter=3)"
   ]
  },
  {
   "cell_type": "code",
   "execution_count": 214,
   "metadata": {
    "collapsed": false
   },
   "outputs": [
    {
     "name": "stdout",
     "output_type": "stream",
     "text": [
      "0 0 [ 0.46920166  0.86646243  0.48430759  0.64678546]\n",
      "0 1 [ 0.47100378  0.85907371  0.48745747  0.6522429 ]\n",
      "0 2 [ 0.46667868  0.86015498  0.4804138   0.62601119]\n",
      "0 3 [ 0.34546765  0.76157866  0.35769114  0.51282438]\n",
      "0 4 [ 0.5150838   0.88430348  0.52979012  0.67062884]\n",
      "0 5 [ 0.51569652  0.88628582  0.5302949   0.67278739]\n",
      "1 0 [ 0.47363489  0.86520094  0.48728838  0.64862688]\n",
      "1 1 [ 0.47334655  0.86204722  0.48929164  0.65149989]\n",
      "1 2 [ 0.46120022  0.85934403  0.47428823  0.62038105]\n",
      "1 3 [ 0.33436655  0.75518111  0.35079327  0.51169805]\n",
      "1 4 [ 0.51284916  0.88250135  0.52767249  0.66797609]\n",
      "1 5 [ 0.51349793  0.88385295  0.5289003   0.6706346 ]\n",
      "2 0 [ 0.47893314  0.86411966  0.49161749  0.65075097]\n",
      "2 1 [ 0.4786448   0.86183697  0.49317051  0.65347076]\n",
      "2 2 [ 0.45758395  0.85757193  0.47110767  0.61805405]\n",
      "2 3 [ 0.35172704  0.77587553  0.36268021  0.51540676]\n",
      "2 4 [ 0.51080675  0.88160029  0.52633073  0.66804413]\n",
      "2 5 [ 0.51038626  0.88274164  0.52664878  0.67061566]\n"
     ]
    },
    {
     "data": {
      "text/html": [
       "<div>\n",
       "<table border=\"1\" class=\"dataframe\">\n",
       "  <thead>\n",
       "    <tr style=\"text-align: right;\">\n",
       "      <th></th>\n",
       "      <th>CLiMF</th>\n",
       "      <th>BPR_MF</th>\n",
       "      <th>iMF</th>\n",
       "      <th>TFMAP</th>\n",
       "      <th>boost_val_ens</th>\n",
       "      <th>tree_val_ens</th>\n",
       "    </tr>\n",
       "  </thead>\n",
       "  <tbody>\n",
       "    <tr>\n",
       "      <th>prec@5</th>\n",
       "      <td>0.478933</td>\n",
       "      <td>0.478645</td>\n",
       "      <td>0.457584</td>\n",
       "      <td>0.351727</td>\n",
       "      <td>0.510807</td>\n",
       "      <td>0.510386</td>\n",
       "    </tr>\n",
       "    <tr>\n",
       "      <th>1recal@5</th>\n",
       "      <td>0.864120</td>\n",
       "      <td>0.861837</td>\n",
       "      <td>0.857572</td>\n",
       "      <td>0.775876</td>\n",
       "      <td>0.881600</td>\n",
       "      <td>0.882742</td>\n",
       "    </tr>\n",
       "    <tr>\n",
       "      <th>NDCG@5</th>\n",
       "      <td>0.491617</td>\n",
       "      <td>0.493171</td>\n",
       "      <td>0.471108</td>\n",
       "      <td>0.362680</td>\n",
       "      <td>0.526331</td>\n",
       "      <td>0.526649</td>\n",
       "    </tr>\n",
       "    <tr>\n",
       "      <th>MAP@5</th>\n",
       "      <td>0.650751</td>\n",
       "      <td>0.653471</td>\n",
       "      <td>0.618054</td>\n",
       "      <td>0.515407</td>\n",
       "      <td>0.668044</td>\n",
       "      <td>0.670616</td>\n",
       "    </tr>\n",
       "  </tbody>\n",
       "</table>\n",
       "</div>"
      ],
      "text/plain": [
       "             CLiMF    BPR_MF       iMF     TFMAP  boost_val_ens  tree_val_ens\n",
       "prec@5    0.478933  0.478645  0.457584  0.351727       0.510807      0.510386\n",
       "1recal@5  0.864120  0.861837  0.857572  0.775876       0.881600      0.882742\n",
       "NDCG@5    0.491617  0.493171  0.471108  0.362680       0.526331      0.526649\n",
       "MAP@5     0.650751  0.653471  0.618054  0.515407       0.668044      0.670616"
      ]
     },
     "execution_count": 214,
     "metadata": {},
     "output_type": "execute_result"
    }
   ],
   "source": [
    "netflix_ensemble_experiment(ml1m, create_list_cf(ml1m_shape)[1:5], list_ensemble, Ktrain=5, Kvalidation=5, verbose=1, maxiter=3)"
   ]
  },
  {
   "cell_type": "code",
   "execution_count": 215,
   "metadata": {
    "collapsed": false
   },
   "outputs": [
    {
     "name": "stdout",
     "output_type": "stream",
     "text": [
      "0 0 [ 0.47111191  0.84285457  0.48133807  0.63689028]\n",
      "0 1 [ 0.45705533  0.8489818   0.47046783  0.62722638]\n",
      "0 2 [ 0.55018922  0.91295729  0.56238735  0.69241805]\n",
      "0 3 [ 0.46055145  0.83276266  0.47337596  0.63394405]\n",
      "0 4 [ 0.56986844  0.91530005  0.58390923  0.71193383]\n",
      "0 5 [ 0.56893134  0.91151559  0.58350857  0.71221617]\n",
      "1 0 [ 0.47293206  0.84006127  0.48297644  0.63785892]\n",
      "1 1 [ 0.46502072  0.84384574  0.47700615  0.63093838]\n",
      "1 2 [ 0.55004505  0.91277708  0.56249271  0.69425172]\n",
      "1 3 [ 0.46691296  0.83420436  0.47932571  0.63484286]\n",
      "1 4 [ 0.5769508   0.91989548  0.5917401   0.71943268]\n",
      "1 5 [ 0.57478825  0.91674176  0.59021681  0.71999397]\n",
      "2 0 [ 0.46696702  0.84453655  0.47924484  0.63578756]\n",
      "2 1 [ 0.46682285  0.84435634  0.47872591  0.63254999]\n",
      "2 2 [ 0.55273623  0.91277708  0.56579651  0.69739651]\n",
      "2 3 [ 0.46870908  0.83726798  0.48046592  0.63484695]\n",
      "2 4 [ 0.58106566  0.92082658  0.59596778  0.72261919]\n",
      "2 5 [ 0.5765243   0.91722232  0.59185074  0.72101013]\n"
     ]
    },
    {
     "data": {
      "text/html": [
       "<div>\n",
       "<table border=\"1\" class=\"dataframe\">\n",
       "  <thead>\n",
       "    <tr style=\"text-align: right;\">\n",
       "      <th></th>\n",
       "      <th>CLiMF</th>\n",
       "      <th>BPR_MF</th>\n",
       "      <th>iMF</th>\n",
       "      <th>TFMAP</th>\n",
       "      <th>boost_val_ens</th>\n",
       "      <th>tree_val_ens</th>\n",
       "    </tr>\n",
       "  </thead>\n",
       "  <tbody>\n",
       "    <tr>\n",
       "      <th>prec@5</th>\n",
       "      <td>0.466967</td>\n",
       "      <td>0.466823</td>\n",
       "      <td>0.552736</td>\n",
       "      <td>0.468709</td>\n",
       "      <td>0.581066</td>\n",
       "      <td>0.576524</td>\n",
       "    </tr>\n",
       "    <tr>\n",
       "      <th>1recal@5</th>\n",
       "      <td>0.844537</td>\n",
       "      <td>0.844356</td>\n",
       "      <td>0.912777</td>\n",
       "      <td>0.837268</td>\n",
       "      <td>0.920827</td>\n",
       "      <td>0.917222</td>\n",
       "    </tr>\n",
       "    <tr>\n",
       "      <th>NDCG@5</th>\n",
       "      <td>0.479245</td>\n",
       "      <td>0.478726</td>\n",
       "      <td>0.565797</td>\n",
       "      <td>0.480466</td>\n",
       "      <td>0.595968</td>\n",
       "      <td>0.591851</td>\n",
       "    </tr>\n",
       "    <tr>\n",
       "      <th>MAP@5</th>\n",
       "      <td>0.635788</td>\n",
       "      <td>0.632550</td>\n",
       "      <td>0.697397</td>\n",
       "      <td>0.634847</td>\n",
       "      <td>0.722619</td>\n",
       "      <td>0.721010</td>\n",
       "    </tr>\n",
       "  </tbody>\n",
       "</table>\n",
       "</div>"
      ],
      "text/plain": [
       "             CLiMF    BPR_MF       iMF     TFMAP  boost_val_ens  tree_val_ens\n",
       "prec@5    0.466967  0.466823  0.552736  0.468709       0.581066      0.576524\n",
       "1recal@5  0.844537  0.844356  0.912777  0.837268       0.920827      0.917222\n",
       "NDCG@5    0.479245  0.478726  0.565797  0.480466       0.595968      0.591851\n",
       "MAP@5     0.635788  0.632550  0.697397  0.634847       0.722619      0.721010"
      ]
     },
     "execution_count": 215,
     "metadata": {},
     "output_type": "execute_result"
    }
   ],
   "source": [
    "netflix_ensemble_experiment(ml1m, create_list_cf(ml1m_shape)[1:5], list_ensemble, Ktrain=10, Kvalidation=5, verbose=1, maxiter=3)"
   ]
  },
  {
   "cell_type": "code",
   "execution_count": 216,
   "metadata": {
    "collapsed": false
   },
   "outputs": [
    {
     "name": "stdout",
     "output_type": "stream",
     "text": [
      "0 0 [ 0.11098398  0.35755149  0.12007535  0.21571459]\n",
      "0 1 [ 0.11132723  0.3521167   0.12012109  0.21308499]\n",
      "0 2 [ 0.08672769  0.30034325  0.0918814   0.17266082]\n",
      "0 3 [ 0.10592105  0.31965103  0.11633514  0.2053442 ]\n",
      "0 4 [ 0.11229977  0.3521167   0.12093358  0.21316862]\n",
      "0 5 [ 0.11175629  0.35254577  0.1204151   0.21286431]\n",
      "1 0 [ 0.10986842  0.35225973  0.11922712  0.21392742]\n",
      "1 1 [ 0.11026888  0.35218822  0.11943513  0.21340401]\n",
      "1 2 [ 0.0896024   0.30491991  0.09489424  0.17628987]\n",
      "1 3 [ 0.10476259  0.33416762  0.11308901  0.20276338]\n",
      "1 4 [ 0.10956808  0.34761156  0.11907767  0.21262067]\n",
      "1 5 [ 0.11086957  0.35898169  0.11973267  0.2147193 ]\n",
      "2 0 [ 0.10979214  0.35149695  0.11934941  0.21417003]\n",
      "2 1 [ 0.10980168  0.35073417  0.11920234  0.2134156 ]\n",
      "2 2 [ 0.09042715  0.30773265  0.09606545  0.17845031]\n",
      "2 3 [ 0.10610221  0.34487033  0.11480056  0.20764895]\n",
      "2 4 [ 0.11213768  0.35602593  0.12098929  0.21476112]\n",
      "2 5 [ 0.11276697  0.36460717  0.12126234  0.21669838]\n"
     ]
    },
    {
     "data": {
      "text/html": [
       "<div>\n",
       "<table border=\"1\" class=\"dataframe\">\n",
       "  <thead>\n",
       "    <tr style=\"text-align: right;\">\n",
       "      <th></th>\n",
       "      <th>CLiMF</th>\n",
       "      <th>BPR_MF</th>\n",
       "      <th>iMF</th>\n",
       "      <th>TFMAP</th>\n",
       "      <th>boost_val_ens</th>\n",
       "      <th>tree_val_ens</th>\n",
       "    </tr>\n",
       "  </thead>\n",
       "  <tbody>\n",
       "    <tr>\n",
       "      <th>prec@5</th>\n",
       "      <td>0.109792</td>\n",
       "      <td>0.109802</td>\n",
       "      <td>0.090427</td>\n",
       "      <td>0.106102</td>\n",
       "      <td>0.112138</td>\n",
       "      <td>0.112767</td>\n",
       "    </tr>\n",
       "    <tr>\n",
       "      <th>1recal@5</th>\n",
       "      <td>0.351497</td>\n",
       "      <td>0.350734</td>\n",
       "      <td>0.307733</td>\n",
       "      <td>0.344870</td>\n",
       "      <td>0.356026</td>\n",
       "      <td>0.364607</td>\n",
       "    </tr>\n",
       "    <tr>\n",
       "      <th>NDCG@5</th>\n",
       "      <td>0.119349</td>\n",
       "      <td>0.119202</td>\n",
       "      <td>0.096065</td>\n",
       "      <td>0.114801</td>\n",
       "      <td>0.120989</td>\n",
       "      <td>0.121262</td>\n",
       "    </tr>\n",
       "    <tr>\n",
       "      <th>MAP@5</th>\n",
       "      <td>0.214170</td>\n",
       "      <td>0.213416</td>\n",
       "      <td>0.178450</td>\n",
       "      <td>0.207649</td>\n",
       "      <td>0.214761</td>\n",
       "      <td>0.216698</td>\n",
       "    </tr>\n",
       "  </tbody>\n",
       "</table>\n",
       "</div>"
      ],
      "text/plain": [
       "             CLiMF    BPR_MF       iMF     TFMAP  boost_val_ens  tree_val_ens\n",
       "prec@5    0.109792  0.109802  0.090427  0.106102       0.112138      0.112767\n",
       "1recal@5  0.351497  0.350734  0.307733  0.344870       0.356026      0.364607\n",
       "NDCG@5    0.119349  0.119202  0.096065  0.114801       0.120989      0.121262\n",
       "MAP@5     0.214170  0.213416  0.178450  0.207649       0.214761      0.216698"
      ]
     },
     "execution_count": 216,
     "metadata": {},
     "output_type": "execute_result"
    }
   ],
   "source": [
    "netflix_ensemble_experiment(slashdot, create_list_cf(slashdot_shape)[1:5], list_ensemble, Ktrain=5, Kvalidation=5, verbose=1, maxiter=3)"
   ]
  },
  {
   "cell_type": "code",
   "execution_count": 217,
   "metadata": {
    "collapsed": false
   },
   "outputs": [
    {
     "name": "stdout",
     "output_type": "stream",
     "text": [
      "0 0 [ 0.102746    0.33180778  0.11151982  0.20089865]\n",
      "0 1 [ 0.10268879  0.33180778  0.1115256   0.20110364]\n",
      "0 2 [ 0.12934783  0.38014874  0.13646382  0.23058376]\n",
      "0 3 [ 0.10214531  0.33724256  0.11044107  0.2001464 ]\n",
      "0 4 [ 0.13558352  0.40574943  0.14319421  0.2433853 ]\n",
      "0 5 [ 0.13309497  0.40603547  0.14151359  0.24491701]\n",
      "1 0 [ 0.10235984  0.33102117  0.11119321  0.20053146]\n",
      "1 1 [ 0.10257437  0.33159325  0.11135392  0.20066147]\n",
      "1 2 [ 0.1277603   0.38143593  0.13443688  0.22833317]\n",
      "1 3 [ 0.10221682  0.33423913  0.11076112  0.20016249]\n",
      "1 4 [ 0.13363844  0.40081522  0.14093215  0.24033191]\n",
      "1 5 [ 0.13215103  0.40796625  0.13967376  0.24222862]\n",
      "2 0 [ 0.10216438  0.33004386  0.11083355  0.19969608]\n",
      "2 1 [ 0.10229786  0.33047292  0.110933    0.19987088]\n",
      "2 2 [ 0.12725973  0.37967201  0.13402817  0.22775599]\n",
      "2 3 [ 0.10217391  0.33242754  0.11046114  0.19894132]\n",
      "2 4 [ 0.13330473  0.40174485  0.14073197  0.24102043]\n",
      "2 5 [ 0.13222731  0.40713196  0.13971567  0.24192099]\n"
     ]
    },
    {
     "data": {
      "text/html": [
       "<div>\n",
       "<table border=\"1\" class=\"dataframe\">\n",
       "  <thead>\n",
       "    <tr style=\"text-align: right;\">\n",
       "      <th></th>\n",
       "      <th>CLiMF</th>\n",
       "      <th>BPR_MF</th>\n",
       "      <th>iMF</th>\n",
       "      <th>TFMAP</th>\n",
       "      <th>boost_val_ens</th>\n",
       "      <th>tree_val_ens</th>\n",
       "    </tr>\n",
       "  </thead>\n",
       "  <tbody>\n",
       "    <tr>\n",
       "      <th>prec@5</th>\n",
       "      <td>0.102164</td>\n",
       "      <td>0.102298</td>\n",
       "      <td>0.127260</td>\n",
       "      <td>0.102174</td>\n",
       "      <td>0.133305</td>\n",
       "      <td>0.132227</td>\n",
       "    </tr>\n",
       "    <tr>\n",
       "      <th>1recal@5</th>\n",
       "      <td>0.330044</td>\n",
       "      <td>0.330473</td>\n",
       "      <td>0.379672</td>\n",
       "      <td>0.332428</td>\n",
       "      <td>0.401745</td>\n",
       "      <td>0.407132</td>\n",
       "    </tr>\n",
       "    <tr>\n",
       "      <th>NDCG@5</th>\n",
       "      <td>0.110834</td>\n",
       "      <td>0.110933</td>\n",
       "      <td>0.134028</td>\n",
       "      <td>0.110461</td>\n",
       "      <td>0.140732</td>\n",
       "      <td>0.139716</td>\n",
       "    </tr>\n",
       "    <tr>\n",
       "      <th>MAP@5</th>\n",
       "      <td>0.199696</td>\n",
       "      <td>0.199871</td>\n",
       "      <td>0.227756</td>\n",
       "      <td>0.198941</td>\n",
       "      <td>0.241020</td>\n",
       "      <td>0.241921</td>\n",
       "    </tr>\n",
       "  </tbody>\n",
       "</table>\n",
       "</div>"
      ],
      "text/plain": [
       "             CLiMF    BPR_MF       iMF     TFMAP  boost_val_ens  tree_val_ens\n",
       "prec@5    0.102164  0.102298  0.127260  0.102174       0.133305      0.132227\n",
       "1recal@5  0.330044  0.330473  0.379672  0.332428       0.401745      0.407132\n",
       "NDCG@5    0.110834  0.110933  0.134028  0.110461       0.140732      0.139716\n",
       "MAP@5     0.199696  0.199871  0.227756  0.198941       0.241020      0.241921"
      ]
     },
     "execution_count": 217,
     "metadata": {},
     "output_type": "execute_result"
    }
   ],
   "source": [
    "netflix_ensemble_experiment(slashdot, create_list_cf(slashdot_shape)[1:5], list_ensemble, Ktrain=10, Kvalidation=5, verbose=1, maxiter=3)"
   ]
  },
  {
   "cell_type": "code",
   "execution_count": 219,
   "metadata": {
    "collapsed": false
   },
   "outputs": [
    {
     "name": "stdout",
     "output_type": "stream",
     "text": [
      "0 0 [ 0.4689854   0.86051541  0.48183394  0.64314641]\n",
      "0 1 [ 0.47003064  0.85871328  0.48328394  0.64421592]\n",
      "0 2 [ 0.46213732  0.86592179  0.47517544  0.62242696]\n",
      "0 3 [ 0.34568391  0.78698865  0.38981802  0.6052537 ]\n",
      "0 4 [ 0.51047036  0.89421517  0.52688504  0.67286598]\n",
      "0 5 [ 0.50286538  0.89908092  0.51833005  0.6684728 ]\n"
     ]
    },
    {
     "data": {
      "text/html": [
       "<div>\n",
       "<table border=\"1\" class=\"dataframe\">\n",
       "  <thead>\n",
       "    <tr style=\"text-align: right;\">\n",
       "      <th></th>\n",
       "      <th>CLiMF</th>\n",
       "      <th>BPR_MF</th>\n",
       "      <th>iMF</th>\n",
       "      <th>TFMAP</th>\n",
       "      <th>boost_val_ens</th>\n",
       "      <th>tree_val_ens</th>\n",
       "    </tr>\n",
       "  </thead>\n",
       "  <tbody>\n",
       "    <tr>\n",
       "      <th>prec@5</th>\n",
       "      <td>0.468985</td>\n",
       "      <td>0.470031</td>\n",
       "      <td>0.462137</td>\n",
       "      <td>0.345684</td>\n",
       "      <td>0.510470</td>\n",
       "      <td>0.502865</td>\n",
       "    </tr>\n",
       "    <tr>\n",
       "      <th>1recal@5</th>\n",
       "      <td>0.860515</td>\n",
       "      <td>0.858713</td>\n",
       "      <td>0.865922</td>\n",
       "      <td>0.786989</td>\n",
       "      <td>0.894215</td>\n",
       "      <td>0.899081</td>\n",
       "    </tr>\n",
       "    <tr>\n",
       "      <th>NDCG@5</th>\n",
       "      <td>0.481834</td>\n",
       "      <td>0.483284</td>\n",
       "      <td>0.475175</td>\n",
       "      <td>0.389818</td>\n",
       "      <td>0.526885</td>\n",
       "      <td>0.518330</td>\n",
       "    </tr>\n",
       "    <tr>\n",
       "      <th>MAP@5</th>\n",
       "      <td>0.643146</td>\n",
       "      <td>0.644216</td>\n",
       "      <td>0.622427</td>\n",
       "      <td>0.605254</td>\n",
       "      <td>0.672866</td>\n",
       "      <td>0.668473</td>\n",
       "    </tr>\n",
       "  </tbody>\n",
       "</table>\n",
       "</div>"
      ],
      "text/plain": [
       "             CLiMF    BPR_MF       iMF     TFMAP  boost_val_ens  tree_val_ens\n",
       "prec@5    0.468985  0.470031  0.462137  0.345684       0.510470      0.502865\n",
       "1recal@5  0.860515  0.858713  0.865922  0.786989       0.894215      0.899081\n",
       "NDCG@5    0.481834  0.483284  0.475175  0.389818       0.526885      0.518330\n",
       "MAP@5     0.643146  0.644216  0.622427  0.605254       0.672866      0.668473"
      ]
     },
     "execution_count": 219,
     "metadata": {},
     "output_type": "execute_result"
    }
   ],
   "source": [
    "netflix_ensemble_experiment(ml1m, create_list_cf(ml1m_shape)[1:5], list_ensemble, \n",
    "                            Ktrain=5, Kvalidation=5, verbose=1)"
   ]
  },
  {
   "cell_type": "code",
   "execution_count": 308,
   "metadata": {
    "collapsed": false
   },
   "outputs": [
    {
     "name": "stdout",
     "output_type": "stream",
     "text": [
      "0 0 [ 0.46087583  0.83852946  0.47563814  0.63742191]\n",
      "0 1 [ 0.47309425  0.83600649  0.48390364  0.63956243]\n",
      "0 2 [ 0.54845918  0.9131375   0.56039393  0.69225711]\n",
      "0 3 [ 0.44198955  0.83456479  0.45853519  0.6204634 ]\n",
      "0 4 [ 0.57091368  0.9201658   0.58473599  0.71367739]\n",
      "0 5 [ 0.57725716  0.92250856  0.59090435  0.71871659]\n"
     ]
    },
    {
     "data": {
      "text/html": [
       "<div>\n",
       "<table border=\"1\" class=\"dataframe\">\n",
       "  <thead>\n",
       "    <tr style=\"text-align: right;\">\n",
       "      <th></th>\n",
       "      <th>CLiMF</th>\n",
       "      <th>BPR_MF</th>\n",
       "      <th>iMF</th>\n",
       "      <th>TFMAP</th>\n",
       "      <th>boost_val_ens</th>\n",
       "      <th>tree_val_ens</th>\n",
       "    </tr>\n",
       "  </thead>\n",
       "  <tbody>\n",
       "    <tr>\n",
       "      <th>prec@5</th>\n",
       "      <td>0.460876</td>\n",
       "      <td>0.473094</td>\n",
       "      <td>0.548459</td>\n",
       "      <td>0.441990</td>\n",
       "      <td>0.570914</td>\n",
       "      <td>0.577257</td>\n",
       "    </tr>\n",
       "    <tr>\n",
       "      <th>1recal@5</th>\n",
       "      <td>0.838529</td>\n",
       "      <td>0.836006</td>\n",
       "      <td>0.913138</td>\n",
       "      <td>0.834565</td>\n",
       "      <td>0.920166</td>\n",
       "      <td>0.922509</td>\n",
       "    </tr>\n",
       "    <tr>\n",
       "      <th>NDCG@5</th>\n",
       "      <td>0.475638</td>\n",
       "      <td>0.483904</td>\n",
       "      <td>0.560394</td>\n",
       "      <td>0.458535</td>\n",
       "      <td>0.584736</td>\n",
       "      <td>0.590904</td>\n",
       "    </tr>\n",
       "    <tr>\n",
       "      <th>MAP@5</th>\n",
       "      <td>0.637422</td>\n",
       "      <td>0.639562</td>\n",
       "      <td>0.692257</td>\n",
       "      <td>0.620463</td>\n",
       "      <td>0.713677</td>\n",
       "      <td>0.718717</td>\n",
       "    </tr>\n",
       "  </tbody>\n",
       "</table>\n",
       "</div>"
      ],
      "text/plain": [
       "             CLiMF    BPR_MF       iMF     TFMAP  boost_val_ens  tree_val_ens\n",
       "prec@5    0.460876  0.473094  0.548459  0.441990       0.570914      0.577257\n",
       "1recal@5  0.838529  0.836006  0.913138  0.834565       0.920166      0.922509\n",
       "NDCG@5    0.475638  0.483904  0.560394  0.458535       0.584736      0.590904\n",
       "MAP@5     0.637422  0.639562  0.692257  0.620463       0.713677      0.718717"
      ]
     },
     "execution_count": 308,
     "metadata": {},
     "output_type": "execute_result"
    }
   ],
   "source": [
    "netflix_ensemble_experiment(ml1m, create_list_cf(ml1m_shape)[1:5], \n",
    "                            list_ensemble, Ktrain=10, Kvalidation=5, verbose=1)"
   ]
  },
  {
   "cell_type": "code",
   "execution_count": 45,
   "metadata": {
    "collapsed": true
   },
   "outputs": [],
   "source": [
    "train, test, traintest = givenK_train_test(ml100k, 5)"
   ]
  },
  {
   "cell_type": "code",
   "execution_count": 50,
   "metadata": {
    "collapsed": false
   },
   "outputs": [],
   "source": [
    "aaa = create_list_cf(ml100k_shape)[1:5]"
   ]
  },
  {
   "cell_type": "code",
   "execution_count": 51,
   "metadata": {
    "collapsed": true
   },
   "outputs": [],
   "source": [
    "aaa[1].fit(train)\n",
    "aaa[2].fit(train)"
   ]
  },
  {
   "cell_type": "code",
   "execution_count": 55,
   "metadata": {
    "collapsed": false
   },
   "outputs": [
    {
     "data": {
      "text/plain": [
       "array([514, 209, 227, 196,  78,   6, 420, 658, 208])"
      ]
     },
     "execution_count": 55,
     "metadata": {},
     "output_type": "execute_result"
    }
   ],
   "source": [
    "toprank = aaa[2].get_list(0)\n",
    "toprank[1:10]"
   ]
  },
  {
   "cell_type": "code",
   "execution_count": 75,
   "metadata": {
    "collapsed": false
   },
   "outputs": [
    {
     "name": "stdout",
     "output_type": "stream",
     "text": [
      "0.619945541564\n"
     ]
    }
   ],
   "source": [
    "\n",
    "print(f[209])\n",
    "above_item = []\n",
    "for u in range(ml100k_shape[0]):\n",
    "    f = aaa[1].get_f(u)\n",
    "    toprank = aaa[2].get_list(u)\n",
    "    above_item.append(np.sum(f > f[toprank[-15]]))"
   ]
  },
  {
   "cell_type": "code",
   "execution_count": 76,
   "metadata": {
    "collapsed": false
   },
   "outputs": [
    {
     "data": {
      "text/plain": [
       "253.4727047146402"
      ]
     },
     "execution_count": 76,
     "metadata": {},
     "output_type": "execute_result"
    }
   ],
   "source": [
    "np.mean(above_item)"
   ]
  },
  {
   "cell_type": "code",
   "execution_count": 85,
   "metadata": {
    "collapsed": false
   },
   "outputs": [],
   "source": [
    "t1 = np.random.rand(10)\n",
    "t2 = np.random.rand(10)"
   ]
  },
  {
   "cell_type": "code",
   "execution_count": 34,
   "metadata": {
    "collapsed": false
   },
   "outputs": [
    {
     "data": {
      "text/plain": [
       "array([ 0.78114513,  0.4146638 ,  0.8523995 ,  0.90663462,  0.05827786,\n",
       "        0.70974532,  0.43612249,  0.59249669,  0.59577544,  0.17374118])"
      ]
     },
     "execution_count": 34,
     "metadata": {},
     "output_type": "execute_result"
    }
   ],
   "source": [
    "t1"
   ]
  },
  {
   "cell_type": "code",
   "execution_count": 42,
   "metadata": {
    "collapsed": false
   },
   "outputs": [
    {
     "name": "stdout",
     "output_type": "stream",
     "text": [
      "[ 0.27240136  0.25204509  0.47267031  0.26953897  0.27240136  0.6885786\n",
      "  0.54045922  0.69683014  0.51915752  0.22162313]\n"
     ]
    }
   ],
   "source": [
    "i = 2\n",
    "print(alpha[i] * t1 + (1 - alpha[i]) * t2)"
   ]
  },
  {
   "cell_type": "code",
   "execution_count": 160,
   "metadata": {
    "collapsed": false
   },
   "outputs": [
    {
     "name": "stdout",
     "output_type": "stream",
     "text": [
      "[1, 2, 3, 4, 5]\n"
     ]
    }
   ],
   "source": [
    "a = [1, 2, 3]\n",
    "b = np.array([4,5])\n",
    "\n",
    "a.extend((b))\n",
    "print(a)"
   ]
  },
  {
   "cell_type": "code",
   "execution_count": 161,
   "metadata": {
    "collapsed": false
   },
   "outputs": [
    {
     "data": {
      "text/plain": [
       "True"
      ]
     },
     "execution_count": 161,
     "metadata": {},
     "output_type": "execute_result"
    }
   ],
   "source": [
    "np.isnan(np.nan)"
   ]
  },
  {
   "cell_type": "code",
   "execution_count": 141,
   "metadata": {
    "collapsed": false
   },
   "outputs": [],
   "source": [
    "def find_alpha(a1, a2, index = None):\n",
    "    if index is None:\n",
    "        all_pairs = np.transpose([np.tile(a1, a2.shape[0]), np.tile(a2, a1.shape[0]), \n",
    "                      np.repeat(a1, a2.shape[0]), np.repeat(a2, a1.shape[0])])\n",
    "    else:\n",
    "        all_pairs = np.transpose([np.tile(a1[index], a2.shape[0]), np.tile(a2[index], a1.shape[0]), \n",
    "                      np.repeat(a1, len(index)), np.repeat(a2, len(index))])\n",
    "    print(all_pairs.shape, all_pairs)\n",
    "    alpha = (- all_pairs[:, 1]  + all_pairs[:, 3]) / (all_pairs[:, 0] - all_pairs[:, 1] - all_pairs[:, 2]  + all_pairs[:, 3])\n",
    "    alpha = alpha[np.logical_not(np.isnan(alpha))]\n",
    "    alpha = alpha[alpha > 0 ]\n",
    "    alpha = alpha[alpha < 1]\n",
    "    return np.unique(alpha)"
   ]
  },
  {
   "cell_type": "code",
   "execution_count": 143,
   "metadata": {
    "collapsed": true
   },
   "outputs": [],
   "source": [
    "t1 = np.array([1,2, 3, 4, 5])\n",
    "t2 = np.array([1,3,5,4,2])"
   ]
  },
  {
   "cell_type": "code",
   "execution_count": 151,
   "metadata": {
    "collapsed": false
   },
   "outputs": [
    {
     "name": "stdout",
     "output_type": "stream",
     "text": [
      "(25, 4) [[1 1 1 1]\n",
      " [2 3 1 1]\n",
      " [3 5 1 1]\n",
      " [4 4 1 1]\n",
      " [5 2 1 1]\n",
      " [1 1 2 3]\n",
      " [2 3 2 3]\n",
      " [3 5 2 3]\n",
      " [4 4 2 3]\n",
      " [5 2 2 3]\n",
      " [1 1 3 5]\n",
      " [2 3 3 5]\n",
      " [3 5 3 5]\n",
      " [4 4 3 5]\n",
      " [5 2 3 5]\n",
      " [1 1 4 4]\n",
      " [2 3 4 4]\n",
      " [3 5 4 4]\n",
      " [4 4 4 4]\n",
      " [5 2 4 4]\n",
      " [1 1 5 2]\n",
      " [2 3 5 2]\n",
      " [3 5 5 2]\n",
      " [4 4 5 2]\n",
      " [5 2 5 2]]\n"
     ]
    }
   ],
   "source": [
    "alpha = find_alpha(t1, t2)"
   ]
  },
  {
   "cell_type": "code",
   "execution_count": null,
   "metadata": {
    "collapsed": true
   },
   "outputs": [],
   "source": []
  },
  {
   "cell_type": "code",
   "execution_count": 152,
   "metadata": {
    "collapsed": false
   },
   "outputs": [
    {
     "data": {
      "text/plain": [
       "array([ 0.25      ,  0.5       ,  0.6       ,  0.66666667])"
      ]
     },
     "execution_count": 152,
     "metadata": {},
     "output_type": "execute_result"
    }
   ],
   "source": [
    "alpha"
   ]
  },
  {
   "cell_type": "code",
   "execution_count": 153,
   "metadata": {
    "collapsed": false
   },
   "outputs": [
    {
     "data": {
      "text/plain": [
       "array([ 1.        ,  2.33333333,  3.66666666,  4.        ,  4.00000001])"
      ]
     },
     "execution_count": 153,
     "metadata": {},
     "output_type": "execute_result"
    }
   ],
   "source": [
    "i = 0.66666667\n",
    "t1 * i + t2 * (1 - i)"
   ]
  },
  {
   "cell_type": "code",
   "execution_count": 102,
   "metadata": {
    "collapsed": false
   },
   "outputs": [
    {
     "data": {
      "text/plain": [
       "array([ 0.5])"
      ]
     },
     "execution_count": 102,
     "metadata": {},
     "output_type": "execute_result"
    }
   ],
   "source": [
    "np.sort(alpha)"
   ]
  },
  {
   "cell_type": "code",
   "execution_count": 101,
   "metadata": {
    "collapsed": false
   },
   "outputs": [
    {
     "ename": "NameError",
     "evalue": "name 'netflix_ensemble_experiment' is not defined",
     "output_type": "error",
     "traceback": [
      "\u001b[1;31m---------------------------------------------------------------------------\u001b[0m",
      "\u001b[1;31mNameError\u001b[0m                                 Traceback (most recent call last)",
      "\u001b[1;32m<ipython-input-101-cc7dc191fe18>\u001b[0m in \u001b[0;36m<module>\u001b[1;34m()\u001b[0m\n\u001b[1;32m----> 1\u001b[1;33m \u001b[0mnetflix_ensemble_experiment\u001b[0m\u001b[1;33m(\u001b[0m\u001b[0mepinion\u001b[0m\u001b[1;33m,\u001b[0m \u001b[0mcreate_list_cf\u001b[0m\u001b[1;33m(\u001b[0m\u001b[0mepinion_shape\u001b[0m\u001b[1;33m)\u001b[0m\u001b[1;33m[\u001b[0m\u001b[1;36m1\u001b[0m\u001b[1;33m:\u001b[0m\u001b[1;36m5\u001b[0m\u001b[1;33m]\u001b[0m\u001b[1;33m,\u001b[0m \u001b[0mlist_ensemble\u001b[0m\u001b[1;33m,\u001b[0m \u001b[0mKtrain\u001b[0m\u001b[1;33m=\u001b[0m\u001b[1;36m5\u001b[0m\u001b[1;33m,\u001b[0m \u001b[0mKvalidation\u001b[0m\u001b[1;33m=\u001b[0m\u001b[1;36m5\u001b[0m\u001b[1;33m,\u001b[0m \u001b[0mverbose\u001b[0m\u001b[1;33m=\u001b[0m\u001b[1;36m1\u001b[0m\u001b[1;33m)\u001b[0m\u001b[1;33m\u001b[0m\u001b[0m\n\u001b[0m",
      "\u001b[1;31mNameError\u001b[0m: name 'netflix_ensemble_experiment' is not defined"
     ]
    }
   ],
   "source": [
    "netflix_ensemble_experiment(epinion, create_list_cf(epinion_shape)[1:5], list_ensemble, Ktrain=5, Kvalidation=5, verbose=1)"
   ]
  },
  {
   "cell_type": "code",
   "execution_count": null,
   "metadata": {
    "collapsed": true
   },
   "outputs": [],
   "source": []
  },
  {
   "cell_type": "code",
   "execution_count": 90,
   "metadata": {
    "collapsed": false
   },
   "outputs": [
    {
     "name": "stdout",
     "output_type": "stream",
     "text": [
      "[[  1.   2.   3.   4.   5.]\n",
      " [  6.   7.   8.   9.  10.]\n",
      " [ 11.  12.  13.  14.  15.]\n",
      " [ 16.  17.  18.  19.  20.]]\n",
      "[[ 0.0625      0.11764706  0.16666667  0.21052632  0.25      ]\n",
      " [ 0.375       0.41176471  0.44444444  0.47368421  0.5       ]\n",
      " [ 0.6875      0.70588235  0.72222222  0.73684211  0.75      ]\n",
      " [ 1.          1.          1.          1.          1.        ]]\n"
     ]
    }
   ],
   "source": [
    "a = np.arange(4 * 5).reshape(4, 5).astype(float)\n",
    "a += 1\n",
    "print(a)\n",
    "a  /=  np.max(a , axis=0)[np.newaxis, :]\n",
    "print(a)"
   ]
  },
  {
   "cell_type": "code",
   "execution_count": 86,
   "metadata": {
    "collapsed": false
   },
   "outputs": [
    {
     "data": {
      "text/plain": [
       "array([16, 17, 18, 19, 20])"
      ]
     },
     "execution_count": 86,
     "metadata": {},
     "output_type": "execute_result"
    }
   ],
   "source": [
    "np.max(a , axis=0)"
   ]
  },
  {
   "cell_type": "code",
   "execution_count": 25,
   "metadata": {
    "collapsed": false
   },
   "outputs": [
    {
     "ename": "NameError",
     "evalue": "name 'list_cf' is not defined",
     "output_type": "error",
     "traceback": [
      "\u001b[1;31m---------------------------------------------------------------------------\u001b[0m",
      "\u001b[1;31mNameError\u001b[0m                                 Traceback (most recent call last)",
      "\u001b[1;32m<ipython-input-25-53f8902b2f79>\u001b[0m in \u001b[0;36m<module>\u001b[1;34m()\u001b[0m\n\u001b[1;32m----> 1\u001b[1;33m \u001b[0mlist_cf\u001b[0m\u001b[1;33m\u001b[0m\u001b[0m\n\u001b[0m",
      "\u001b[1;31mNameError\u001b[0m: name 'list_cf' is not defined"
     ]
    }
   ],
   "source": [
    "create_list_cf"
   ]
  },
  {
   "cell_type": "code",
   "execution_count": null,
   "metadata": {
    "collapsed": true
   },
   "outputs": [],
   "source": [
    "givenK_train_test()"
   ]
  },
  {
   "cell_type": "code",
   "execution_count": 139,
   "metadata": {
    "collapsed": false
   },
   "outputs": [
    {
     "name": "stdout",
     "output_type": "stream",
     "text": [
      "TRAIN: [0 2 4 7 9] TEST: [1 3 5 6 8]\n",
      "TRAIN: [1 3 5 6 8] TEST: [0 2 4 7 9]\n"
     ]
    }
   ],
   "source": [
    "kf = cross_validation.KFold(n=10, n_folds=2, shuffle=True,\n",
    "                               random_state=None)\n",
    "\n",
    "for train_index, test_index in kf:\n",
    "    print(\"TRAIN:\", train_index, \"TEST:\", test_index)\n",
    "#     X_train, X_test = X[train_index], X[test_index]\n",
    "#     y_train, y_test = y[train_index], y[test_index]"
   ]
  },
  {
   "cell_type": "code",
   "execution_count": null,
   "metadata": {
    "collapsed": true
   },
   "outputs": [],
   "source": [
    "def rank_cross_validation(train, test, train_index, test_index):\n",
    "    x_train = [train[i] for i in train_index]\n",
    "    x_test = [train[i] for i in test_index]\n",
    "    \n",
    "    y_train = [test[i] for i in train_index]\n",
    "    y_test = [test[i] for i in test_index]\n",
    "    \n",
    "    return X_train, X_test, y_train, y_test"
   ]
  },
  {
   "cell_type": "markdown",
   "metadata": {},
   "source": [
    "## Старые некрасивые эксперименты"
   ]
  },
  {
   "cell_type": "markdown",
   "metadata": {},
   "source": [
    "### проверка работы ансамбля givenk = 5"
   ]
  },
  {
   "cell_type": "code",
   "execution_count": 34,
   "metadata": {
    "collapsed": false
   },
   "outputs": [
    {
     "data": {
      "text/plain": [
       "array([ 0.20889898,  0.59659478,  0.23334799,  0.40400019])"
      ]
     },
     "execution_count": 34,
     "metadata": {},
     "output_type": "execute_result"
    }
   ],
   "source": [
    "rankingmeasure.get_Kmetrics(train, test, top_ens, True, K = 5)"
   ]
  },
  {
   "cell_type": "code",
   "execution_count": 36,
   "metadata": {
    "collapsed": false
   },
   "outputs": [
    {
     "name": "stdout",
     "output_type": "stream",
     "text": [
      "[ 0.19704881  0.55913734  0.22254752  0.38464813]\n",
      "[ 0.1938252   0.56118048  0.22009766  0.38748802]\n",
      "[ 0.19523269  0.56072645  0.22107609  0.38591121]\n",
      "[ 0.17711691  0.52485812  0.18861426  0.32164586]\n",
      "[ 0.18719637  0.55323496  0.21465356  0.38445958]\n"
     ]
    }
   ],
   "source": [
    "for cf in top_ens.list_cf:\n",
    "    print(rankingmeasure.get_Kmetrics(train, test, cf, True, K = 5))"
   ]
  },
  {
   "cell_type": "code",
   "execution_count": 37,
   "metadata": {
    "collapsed": false
   },
   "outputs": [
    {
     "data": {
      "text/plain": [
       "array([ 0.17402951,  0.72122588,  0.20026969,  0.37375175])"
      ]
     },
     "execution_count": 37,
     "metadata": {},
     "output_type": "execute_result"
    }
   ],
   "source": [
    "rankingmeasure.get_Kmetrics(train, test, top_ens, True, K = 10)"
   ]
  },
  {
   "cell_type": "code",
   "execution_count": 38,
   "metadata": {
    "collapsed": false
   },
   "outputs": [
    {
     "name": "stdout",
     "output_type": "stream",
     "text": [
      "[ 0.16944381  0.68876277  0.19412473  0.35670129]\n",
      "[ 0.16989784  0.68944381  0.19419015  0.3561263 ]\n",
      "[ 0.16955732  0.69057889  0.19406199  0.35569465]\n",
      "[ 0.15768445  0.67309875  0.17098093  0.31099781]\n",
      "[ 0.15738933  0.65788876  0.18414103  0.35370021]\n"
     ]
    }
   ],
   "source": [
    "for cf in top_ens.list_cf:\n",
    "    print(rankingmeasure.get_Kmetrics(train, test, cf, True, K = 10))"
   ]
  },
  {
   "cell_type": "markdown",
   "metadata": {},
   "source": [
    "### проверка работы ансамбля givenk = 10 iMF слишком хорошо работает("
   ]
  },
  {
   "cell_type": "code",
   "execution_count": 59,
   "metadata": {
    "collapsed": false
   },
   "outputs": [
    {
     "data": {
      "text/plain": [
       "array([ 0.24281498,  0.676958  ,  0.26581623,  0.44658374])"
      ]
     },
     "execution_count": 59,
     "metadata": {},
     "output_type": "execute_result"
    }
   ],
   "source": [
    "rankingmeasure.get_Kmetrics(train, test, top_ens, True, K = 5)"
   ]
  },
  {
   "cell_type": "code",
   "execution_count": 60,
   "metadata": {
    "collapsed": false
   },
   "outputs": [
    {
     "name": "stdout",
     "output_type": "stream",
     "text": [
      "[ 0.18320091  0.53416572  0.20701312  0.36450404]\n",
      "[ 0.1815664   0.53870602  0.20560403  0.36648253]\n",
      "[ 0.18292849  0.53348468  0.20675077  0.36393303]\n",
      "[ 0.26115778  0.71577753  0.28306775  0.47061798]\n",
      "[ 0.17257662  0.51577753  0.19827725  0.35810853]\n"
     ]
    }
   ],
   "source": [
    "for cf in top_ens.list_cf:\n",
    "    print(rankingmeasure.get_Kmetrics(train, test, cf, True, K = 5))"
   ]
  },
  {
   "cell_type": "code",
   "execution_count": 44,
   "metadata": {
    "collapsed": false
   },
   "outputs": [
    {
     "name": "stdout",
     "output_type": "stream",
     "text": [
      "0.31627511978149414\n"
     ]
    }
   ],
   "source": [
    "import time\n",
    "t = time.time()\n",
    "a = top_ens.get_list(0, 4000)\n",
    "print(time.time() - t)"
   ]
  },
  {
   "cell_type": "code",
   "execution_count": 97,
   "metadata": {
    "collapsed": false
   },
   "outputs": [
    {
     "name": "stdout",
     "output_type": "stream",
     "text": [
      "[[ 0  1  2]\n",
      " [ 3  4  5]\n",
      " [ 6  7  8]\n",
      " [ 9 10 11]\n",
      " [12 13 14]\n",
      " [15 16 17]]\n",
      "[ 0  1  2  3  4  5  6  7  8  9 10 11 12 13 14 15 16 17]\n",
      "[ 0  3  6  9 12 15  1  4  7 10 13 16  2  5  8 11 14 17]\n"
     ]
    }
   ],
   "source": [
    "a =np.arange(6*3).reshape(6, 3)\n",
    "print(a)\n",
    "print(a.ravel())\n",
    "print(a.T.ravel())"
   ]
  },
  {
   "cell_type": "code",
   "execution_count": 57,
   "metadata": {
    "collapsed": false
   },
   "outputs": [
    {
     "name": "stdout",
     "output_type": "stream",
     "text": [
      "PopRec [  18  721 1042  674  143  118  711  136   34 1536]\n",
      "CLiMF [  18  674  721 1042 1536  118  143  711  136   34]\n",
      "BPR_MF [  18 1042  721  674  143  118 1536  136   34  711]\n",
      "iMF [497 362 378  43   1 379  10  12  79 125]\n",
      "TFMAP [  18  674 1042  721  711   28  143 3805   34   77]\n"
     ]
    }
   ],
   "source": [
    "ansamble.show_all_ulist(5, 10)"
   ]
  },
  {
   "cell_type": "code",
   "execution_count": 119,
   "metadata": {
    "collapsed": false
   },
   "outputs": [],
   "source": [
    "import copy\n",
    "import sys\n",
    "class rating_ensemble:\n",
    "    def __init__(self, list_cf, weights = None, verbose=0):\n",
    "        self.list_cf = copy.deepcopy(list_cf)\n",
    "        self.verbose = verbose\n",
    "        if weights is None:\n",
    "            self.weights = np.ones(len(list_cf))/len(list_cf)\n",
    "        else:\n",
    "            assert(weights.shape[0] == len(list_cf))\n",
    "            self.weights = weights\n",
    "        self.N_items = self.list_cf[1].N_items\n",
    "        self.N_methods = len(self.list_cf)\n",
    "        #self.index = np.arange(self.N_items)[::-1] + 1\n",
    "        self.index = np.exp(-0.5 * np.arange(self.N_items))\n",
    "        \n",
    "    def get_list(self, u):\n",
    "        res = np.zeros(self.N_items)\n",
    "        for i in range(self.N_methods):\n",
    "            ranks = self.list_cf[i].get_list(u)\n",
    "            res[ranks] += self.weights[i] * self.index \n",
    "        return np.argsort(-res)\n",
    "    "
   ]
  },
  {
   "cell_type": "markdown",
   "metadata": {},
   "source": [
    "### givenK = 5"
   ]
  },
  {
   "cell_type": "code",
   "execution_count": 95,
   "metadata": {
    "collapsed": true
   },
   "outputs": [],
   "source": [
    "train5, test5, traintest5 = givenK_train_test(epinion, 5)"
   ]
  },
  {
   "cell_type": "code",
   "execution_count": 97,
   "metadata": {
    "collapsed": false
   },
   "outputs": [
    {
     "name": "stdout",
     "output_type": "stream",
     "text": [
      "iteration 0\n",
      "iteration 1\n",
      "iteration 2\n",
      "iteration 3\n",
      "iteration 4\n"
     ]
    }
   ],
   "source": [
    "ens5 = ensemble(list_cf, verbose=1)\n",
    "ens5.fit(train5)"
   ]
  },
  {
   "cell_type": "code",
   "execution_count": 98,
   "metadata": {
    "collapsed": false
   },
   "outputs": [],
   "source": [
    "rating_ens = rating_ensemble(ens5.list_cf)"
   ]
  },
  {
   "cell_type": "code",
   "execution_count": 102,
   "metadata": {
    "collapsed": false
   },
   "outputs": [
    {
     "data": {
      "text/plain": [
       "array([ 0.20340522,  0.57207719,  0.21539089,  0.35614769])"
      ]
     },
     "execution_count": 102,
     "metadata": {},
     "output_type": "execute_result"
    }
   ],
   "source": [
    "rankingmeasure.get_Kmetrics(train5, test5, rating_ens, True, K = 5)"
   ]
  },
  {
   "cell_type": "code",
   "execution_count": 103,
   "metadata": {
    "collapsed": false
   },
   "outputs": [
    {
     "name": "stdout",
     "output_type": "stream",
     "text": [
      "[ 0.19723042  0.5523269   0.22281641  0.38555146]\n",
      "[ 0.19673099  0.55005675  0.22215417  0.38491046]\n",
      "[ 0.1953689   0.55005675  0.22130483  0.38498266]\n",
      "[ 0.17734393  0.53461975  0.18653377  0.31993852]\n",
      "[ 0.18696935  0.54801362  0.21227095  0.37798714]\n"
     ]
    }
   ],
   "source": [
    "for cf in rating_ens.list_cf:\n",
    "    print(rankingmeasure.get_Kmetrics(train5, test5, cf, True, K = 5))"
   ]
  },
  {
   "cell_type": "code",
   "execution_count": 120,
   "metadata": {
    "collapsed": false
   },
   "outputs": [
    {
     "data": {
      "text/plain": [
       "array([ 0.20281498,  0.57707151,  0.22675051,  0.39048966])"
      ]
     },
     "execution_count": 120,
     "metadata": {},
     "output_type": "execute_result"
    }
   ],
   "source": [
    "rating_ens = rating_ensemble(ens5.list_cf)\n",
    "rankingmeasure.get_Kmetrics(train5, test5, rating_ens, True, K = 5)"
   ]
  },
  {
   "cell_type": "code",
   "execution_count": 117,
   "metadata": {
    "collapsed": false
   },
   "outputs": [
    {
     "data": {
      "text/plain": [
       "[<matplotlib.lines.Line2D at 0x7fac71c06550>]"
      ]
     },
     "execution_count": 117,
     "metadata": {},
     "output_type": "execute_result"
    },
    {
     "data": {
      "image/png": "[encoded data removed]",
      "text/plain": [
       "<matplotlib.figure.Figure at 0x7fac71df0160>"
      ]
     },
     "metadata": {},
     "output_type": "display_data"
    }
   ],
   "source": [
    "plt.plot(np.exp(-0.5 * np.arange(10)))"
   ]
  },
  {
   "cell_type": "code",
   "execution_count": 64,
   "metadata": {
    "collapsed": true
   },
   "outputs": [],
   "source": [
    "for cf in top_ens.list_cf:\n",
    "    print(rankingmeasure.get_Kmetrics(train, test, cf, True, K = 5))"
   ]
  },
  {
   "cell_type": "code",
   "execution_count": 65,
   "metadata": {
    "collapsed": false
   },
   "outputs": [
    {
     "data": {
      "text/plain": [
       "array([4, 4, 2, 2, 8, 7, 1, 2, 0, 6])"
      ]
     },
     "execution_count": 65,
     "metadata": {},
     "output_type": "execute_result"
    }
   ],
   "source": [
    "a"
   ]
  },
  {
   "cell_type": "code",
   "execution_count": 67,
   "metadata": {
    "collapsed": false
   },
   "outputs": [
    {
     "data": {
      "text/plain": [
       "array([4, 5, 9, 0, 1, 2, 3, 7, 6, 8])"
      ]
     },
     "execution_count": 67,
     "metadata": {},
     "output_type": "execute_result"
    }
   ],
   "source": [
    "np.argsort(-a)"
   ]
  },
  {
   "cell_type": "code",
   "execution_count": null,
   "metadata": {
    "collapsed": true
   },
   "outputs": [],
   "source": [
    "np.argosrt()"
   ]
  },
  {
   "cell_type": "code",
   "execution_count": 61,
   "metadata": {
    "collapsed": true
   },
   "outputs": [],
   "source": [
    "a = None"
   ]
  },
  {
   "cell_type": "code",
   "execution_count": 63,
   "metadata": {
    "collapsed": false
   },
   "outputs": [
    {
     "name": "stdout",
     "output_type": "stream",
     "text": [
      "ywe\n"
     ]
    }
   ],
   "source": [
    "if a is None:\n",
    "    print(\"ywe\")"
   ]
  },
  {
   "cell_type": "markdown",
   "metadata": {},
   "source": [
    "# Slashdot data set"
   ]
  },
  {
   "cell_type": "code",
   "execution_count": 127,
   "metadata": {
    "collapsed": false
   },
   "outputs": [],
   "source": [
    "data = pd.read_csv(\"../datasets/Slashdot0811.txt\", sep='\\t', header=4)\n",
    "data = data.as_matrix()"
   ]
  },
  {
   "cell_type": "code",
   "execution_count": 128,
   "metadata": {
    "collapsed": false
   },
   "outputs": [
    {
     "data": {
      "text/plain": [
       "(905467, 2)"
      ]
     },
     "execution_count": 128,
     "metadata": {},
     "output_type": "execute_result"
    }
   ],
   "source": [
    "data.shape"
   ]
  },
  {
   "cell_type": "code",
   "execution_count": 129,
   "metadata": {
    "collapsed": true
   },
   "outputs": [],
   "source": [
    "slashdot, user_item = make_valid_data(data)"
   ]
  },
  {
   "cell_type": "code",
   "execution_count": 155,
   "metadata": {
    "collapsed": true
   },
   "outputs": [],
   "source": [
    "list_cf = [\n",
    "    rankingmethod.PopRec(user_item),\n",
    "    rankingmethod.CLiMF(user_item, K=10, reg=0.001, lrate=0.01, verbose=0, maxiter=10),\n",
    "    rankingmethod.BPR_MF(user_item, K = 20, lrate=0.001, regIpos=0.1, \n",
    "                              regIneg=0.1, regU=0.1, maxiter=30, verbose=0 ),\n",
    "    rankingmethod.iMF(user_item, K=10, lmbd=0.01, alpha=40, maxiter=30, verbose=0),\n",
    "    rankingmethod.TFMAP(user_item, reg=0.001, lrate=0.01, maxiter=12)\n",
    "    \n",
    "]\n",
    "\n",
    "list_measure = [\n",
    "    rankingmeasure.get_prec_K,\n",
    "    rankingmeasure.get_one_recal_K,\n",
    "    rankingmeasure.get_MRR,\n",
    "    rankingmeasure.get_AUC,\n",
    "    rankingmeasure.get_NDCG,\n",
    "    rankingmeasure.get_MAP\n",
    "]"
   ]
  },
  {
   "cell_type": "code",
   "execution_count": 132,
   "metadata": {
    "collapsed": true
   },
   "outputs": [],
   "source": [
    "train, test, traintest = givenK_train_test(slashdot, 5)"
   ]
  },
  {
   "cell_type": "code",
   "execution_count": 133,
   "metadata": {
    "collapsed": false
   },
   "outputs": [
    {
     "name": "stdout",
     "output_type": "stream",
     "text": [
      "precK 0.122225400458\n",
      "1-call5 0.37528604118993136\n",
      "MRR 0.273406086512\n",
      "AUC 0.776325504811\n",
      "NGDC 0.131158605935\n",
      "MAP 0.227184043669\n"
     ]
    }
   ],
   "source": [
    "poprec = rankingmethod.PopRec(user_item_slash)\n",
    "poprec.fit(train)\n",
    "top = poprec.get_list(0)[:3]\n",
    "# all_measures(train, test, poprec, True, top)\n",
    "all_measures(train, test, poprec, True)"
   ]
  },
  {
   "cell_type": "markdown",
   "metadata": {},
   "source": [
    "### givenk = 5"
   ]
  },
  {
   "cell_type": "code",
   "execution_count": 138,
   "metadata": {
    "collapsed": true
   },
   "outputs": [],
   "source": [
    "slash_ens = ensemble(list_cf, verbose=1)"
   ]
  },
  {
   "cell_type": "code",
   "execution_count": 139,
   "metadata": {
    "collapsed": false
   },
   "outputs": [
    {
     "name": "stdout",
     "output_type": "stream",
     "text": [
      "iteration 0\n",
      "iteration 1\n",
      "iteration 2\n",
      "iteration 3\n",
      "iteration 4\n"
     ]
    }
   ],
   "source": [
    "slash_ens.fit(train)"
   ]
  },
  {
   "cell_type": "code",
   "execution_count": 140,
   "metadata": {
    "collapsed": false
   },
   "outputs": [
    {
     "name": "stdout",
     "output_type": "stream",
     "text": [
      "[ 0.1222254   0.37528604  0.13115861  0.22718404]\n",
      "[ 0.12233982  0.37585812  0.13122573  0.22734037]\n",
      "[ 0.12268307  0.37585812  0.1314579   0.227249  ]\n",
      "[ 0.10420481  0.33495423  0.10975777  0.19563589]\n",
      "[ 0.12062357  0.37628719  0.12923841  0.22546283]\n"
     ]
    }
   ],
   "source": [
    "for cf in slash_ens.list_cf:\n",
    "    print(rankingmeasure.get_Kmetrics(train, test, cf, True, K = 5))"
   ]
  },
  {
   "cell_type": "code",
   "execution_count": 141,
   "metadata": {
    "collapsed": true
   },
   "outputs": [],
   "source": [
    "top_ens = top_ensemble(slash_ens.list_cf, topK=100)"
   ]
  },
  {
   "cell_type": "code",
   "execution_count": 142,
   "metadata": {
    "collapsed": false
   },
   "outputs": [
    {
     "data": {
      "text/plain": [
       "array([ 0.12402746,  0.39487986,  0.13112244,  0.23042843])"
      ]
     },
     "execution_count": 142,
     "metadata": {},
     "output_type": "execute_result"
    }
   ],
   "source": [
    "rankingmeasure.get_Kmetrics(train, test, top_ens, True, K = 5)"
   ]
  },
  {
   "cell_type": "markdown",
   "metadata": {},
   "source": [
    "### givenk = 10"
   ]
  },
  {
   "cell_type": "code",
   "execution_count": 156,
   "metadata": {
    "collapsed": true
   },
   "outputs": [],
   "source": [
    "train, test, traintest = givenK_train_test(slashdot, 10)"
   ]
  },
  {
   "cell_type": "code",
   "execution_count": 157,
   "metadata": {
    "collapsed": false
   },
   "outputs": [
    {
     "name": "stdout",
     "output_type": "stream",
     "text": [
      "iteration 0\n",
      "iteration 1\n",
      "iteration 2\n",
      "iteration 3\n",
      "iteration 4\n"
     ]
    }
   ],
   "source": [
    "slash_ens = ensemble(list_cf, verbose=1)\n",
    "slash_ens.fit(train)"
   ]
  },
  {
   "cell_type": "code",
   "execution_count": 158,
   "metadata": {
    "collapsed": false
   },
   "outputs": [
    {
     "data": {
      "text/plain": [
       "array([ 0.10918192,  0.3506865 ,  0.11928689,  0.21512741])"
      ]
     },
     "execution_count": 158,
     "metadata": {},
     "output_type": "execute_result"
    }
   ],
   "source": [
    "poprec = rankingmethod.PopRec(user_item)\n",
    "poprec.fit(train)\n",
    "top = poprec.get_list(0)[:3]\n",
    "#all_measures(train, test, poprec, True, top)\n",
    "rankingmeasure.get_Kmetrics(train, test, poprec, True, K=5)"
   ]
  },
  {
   "cell_type": "code",
   "execution_count": 159,
   "metadata": {
    "collapsed": false
   },
   "outputs": [
    {
     "name": "stdout",
     "output_type": "stream",
     "text": [
      "[ 0.10918192  0.3506865   0.11928689  0.21512741]\n",
      "[ 0.10918192  0.3506865   0.11928689  0.21512741]\n",
      "[ 0.10943936  0.35054348  0.11506516  0.2026143 ]\n",
      "[ 0.13667048  0.40789474  0.14297494  0.24199681]\n",
      "[ 0.10918192  0.3506865   0.11928901  0.21513456]\n"
     ]
    }
   ],
   "source": [
    "for cf in slash_ens.list_cf:\n",
    "    print(rankingmeasure.get_Kmetrics(train, test, cf, True, K = 5))"
   ]
  },
  {
   "cell_type": "markdown",
   "metadata": {},
   "source": [
    "### Сравнение глазками"
   ]
  },
  {
   "cell_type": "code",
   "execution_count": 162,
   "metadata": {
    "collapsed": false
   },
   "outputs": [
    {
     "name": "stdout",
     "output_type": "stream",
     "text": [
      "PopRec\n",
      "[4668  394 2481  225 8848 4690 5043 3443  377  217 5390   34 2470 3444   46]\n",
      "CLiMF\n",
      "[4668  394 2481  225 8848 4690 5043 3443  377 5390   34  217 2470   46 2539]\n",
      "BPR_MF\n",
      "[ 394 2481 4668  225 8848  217 4690  377 5043 3443   46 5390 2470   34  403]\n",
      "iMF\n",
      "[2481 4668  143  151  205   15 4845   59 3369 3947 4979  186  400 5367 3083]\n",
      "TFMAP\n",
      "[4668  394 2481  225 8848 4690 5043 3443  377 3444  403  217 5390 5705 7450]\n"
     ]
    }
   ],
   "source": [
    "for cf in slash_ens.list_cf:\n",
    "    print(type(cf).__name__)\n",
    "    print(cf.get_list(0)[:15])"
   ]
  },
  {
   "cell_type": "code",
   "execution_count": 150,
   "metadata": {
    "collapsed": false
   },
   "outputs": [
    {
     "data": {
      "text/plain": [
       "array([ 0.15946796,  0.51001144,  0.16663805,  0.29156159])"
      ]
     },
     "execution_count": 150,
     "metadata": {},
     "output_type": "execute_result"
    }
   ],
   "source": [
    "rankingmeasure.get_Kmetrics(train, test, top_ens, True, K = 5)"
   ]
  },
  {
   "cell_type": "markdown",
   "metadata": {},
   "source": [
    "# старые эксперименты"
   ]
  },
  {
   "cell_type": "code",
   "execution_count": null,
   "metadata": {
    "collapsed": false
   },
   "outputs": [],
   "source": [
    "a = np.arange(10)\n",
    "b = a[1:4]\n",
    "print(a)\n",
    "print(b)\n",
    "b[2] = 100\n",
    "a[1] = -a[1]\n",
    "print(a)\n",
    "print(b)"
   ]
  },
  {
   "cell_type": "code",
   "execution_count": null,
   "metadata": {
    "collapsed": false
   },
   "outputs": [],
   "source": [
    "tmp = mmread(\"../datasets/epinions_original/EP25_UPL5_test.mtx\")\n",
    "test = np.array(list(zip(tmp.row, tmp.col)))\n",
    "tmp = mmread(\"../datasets/epinions_original/EP25_UPL5_train.mtx\")\n",
    "train = np.array(list(zip(tmp.row, tmp.col)))\n",
    "user_item = [max(np.max(test[:,0]), np.max(train[:, 0])) + 1, max(np.max(test[:,1]), np.max(train[:,1])) + 1]"
   ]
  },
  {
   "cell_type": "code",
   "execution_count": null,
   "metadata": {
    "collapsed": false
   },
   "outputs": [],
   "source": [
    "train = create_listarray(train)\n",
    "test  = create_listarray(test)"
   ]
  },
  {
   "cell_type": "code",
   "execution_count": null,
   "metadata": {
    "collapsed": true
   },
   "outputs": [],
   "source": [
    "create_csr(train, user_item, '../pyCLiMF-master/good_train.pickle')\n",
    "create_csr(test, user_item, '../pyCLiMF-master/good_test.pickle')"
   ]
  },
  {
   "cell_type": "code",
   "execution_count": null,
   "metadata": {
    "collapsed": false
   },
   "outputs": [],
   "source": [
    "randomrec = rankingmethod.RandomRec(user_item)\n",
    "randomrec.fit(train)\n",
    "all_measures(train, test, randomrec, False)"
   ]
  },
  {
   "cell_type": "code",
   "execution_count": null,
   "metadata": {
    "collapsed": false
   },
   "outputs": [],
   "source": [
    "poprec = rankingmethod.PopRec(user_item)\n",
    "poprec.fit(train)\n",
    "top = poprec.get_list(0)[:3]\n",
    "# all_measures(train, test, poprec, True, top)\n",
    "# all_measures(train, test, poprec, True)"
   ]
  },
  {
   "cell_type": "code",
   "execution_count": null,
   "metadata": {
    "collapsed": false
   },
   "outputs": [],
   "source": [
    "rankingmeasure.get_AUC(train, test, poprec, True, K=user_item[1])"
   ]
  },
  {
   "cell_type": "code",
   "execution_count": null,
   "metadata": {
    "collapsed": false
   },
   "outputs": [],
   "source": [
    "rankingmeasure.get_NDCG(train, test, poprec, True, K = 5)"
   ]
  },
  {
   "cell_type": "code",
   "execution_count": null,
   "metadata": {
    "collapsed": false
   },
   "outputs": [],
   "source": [
    "rankingmeasure.get_NDCG(train, test, poprec, True, K = 3)"
   ]
  },
  {
   "cell_type": "code",
   "execution_count": null,
   "metadata": {
    "collapsed": false
   },
   "outputs": [],
   "source": [
    "index_user = np.random.choice(len(train), 100, replace=False)\n"
   ]
  },
  {
   "cell_type": "code",
   "execution_count": null,
   "metadata": {
    "collapsed": false
   },
   "outputs": [],
   "source": [
    "orig_train = create_original_sample(train, index_user)\n",
    "orig_test = create_original_sample(test, index_user)"
   ]
  },
  {
   "cell_type": "code",
   "execution_count": null,
   "metadata": {
    "collapsed": false
   },
   "outputs": [],
   "source": [
    "climf = rankingmethod.CLiMF(user_item, lrate = 0.0001, reg=0.001, maxiter=15, verbose=2)\n",
    "climf.fit(train)"
   ]
  },
  {
   "cell_type": "code",
   "execution_count": null,
   "metadata": {
    "collapsed": false
   },
   "outputs": [],
   "source": [
    "rankingmeasure.get_MRR(train, test, climf, True)"
   ]
  },
  {
   "cell_type": "code",
   "execution_count": null,
   "metadata": {
    "collapsed": false
   },
   "outputs": [],
   "source": [
    "all_measures(train, test, climf, True, top)"
   ]
  },
  {
   "cell_type": "code",
   "execution_count": null,
   "metadata": {
    "collapsed": false
   },
   "outputs": [],
   "source": [
    "all_measures(train, test, climf, True)"
   ]
  },
  {
   "cell_type": "code",
   "execution_count": null,
   "metadata": {
    "collapsed": false
   },
   "outputs": [],
   "source": [
    "climf = rankingmethod.CLiMF(user_item, maxiter=40, lrate = 0.1, verbose=2)\n",
    "climf.fit(train)\n"
   ]
  },
  {
   "cell_type": "code",
   "execution_count": null,
   "metadata": {
    "collapsed": false
   },
   "outputs": [],
   "source": [
    "all_measures(train, test, climf, False)"
   ]
  },
  {
   "cell_type": "code",
   "execution_count": null,
   "metadata": {
    "collapsed": false
   },
   "outputs": [],
   "source": [
    "all_measures(train, test, climf, True, top)"
   ]
  },
  {
   "cell_type": "code",
   "execution_count": null,
   "metadata": {
    "collapsed": false
   },
   "outputs": [],
   "source": [
    "list_reg = [0.001, 0.002, 0.005, 0.0005]\n",
    "list_lrate = [0.05, 0.07, 0.1, 0.12, 0.15 ]\n",
    "list_K = [10, 12, 15, 7, 5]\n",
    "times_count = 3\n",
    "\n",
    "for K, lrate, reg in itertools.product(list_K, list_lrate, list_reg):\n",
    "    MRR = 0\n",
    "    \n",
    "    for t in range(times_count):\n",
    "        climf = rankingmethod.CLiMF(user_item,K=K, reg=reg, lrate=lrate, verbose=0, maxiter=50)\n",
    "        climf.fit(train)\n",
    "        MRR += rankingmeasure.get_MRR(train, test, climf, skip_train=False)\n",
    "    print(\"K\", K, \"lrate\", lrate, \"reg\", reg, \"MRR\", MRR/times_count)\n",
    "    sys.stdout.flush()"
   ]
  },
  {
   "cell_type": "code",
   "execution_count": null,
   "metadata": {
    "collapsed": false
   },
   "outputs": [],
   "source": [
    "bpr_mf = rankingmethod.BPR_MF(user_item, K = 20, lrate=0.001, regIpos=0.1, \n",
    "                              regIneg=0.1, regU=0.1, maxiter=30, verbose=2 )"
   ]
  },
  {
   "cell_type": "code",
   "execution_count": null,
   "metadata": {
    "collapsed": false
   },
   "outputs": [],
   "source": [
    "bpr_mf.fit(train)"
   ]
  },
  {
   "cell_type": "code",
   "execution_count": null,
   "metadata": {
    "collapsed": false
   },
   "outputs": [],
   "source": [
    "all_measures(train, test, bpr_mf, True)"
   ]
  },
  {
   "cell_type": "code",
   "execution_count": null,
   "metadata": {
    "collapsed": false
   },
   "outputs": [],
   "source": [
    "rankingmeasure.get_AUC(train, test, bpr_mf, True, K=user_item[1])"
   ]
  },
  {
   "cell_type": "code",
   "execution_count": null,
   "metadata": {
    "collapsed": false
   },
   "outputs": [],
   "source": [
    "rankingmeasure.get_NDCG(train, test, bpr_mf, True, K=5)"
   ]
  },
  {
   "cell_type": "code",
   "execution_count": null,
   "metadata": {
    "collapsed": true
   },
   "outputs": [],
   "source": [
    "imf = rankingmethod.iMF(user_item, K=20, lmbd=0.01, alpha=40, maxiter=30, verbose=2)"
   ]
  },
  {
   "cell_type": "code",
   "execution_count": null,
   "metadata": {
    "collapsed": false
   },
   "outputs": [],
   "source": [
    "imf.fit(train)"
   ]
  },
  {
   "cell_type": "code",
   "execution_count": null,
   "metadata": {
    "collapsed": false
   },
   "outputs": [],
   "source": [
    "all_measures(train, test, imf, True)"
   ]
  },
  {
   "cell_type": "code",
   "execution_count": null,
   "metadata": {
    "collapsed": false
   },
   "outputs": [],
   "source": [
    "all_measures(train, test, imf, True, top)"
   ]
  },
  {
   "cell_type": "code",
   "execution_count": null,
   "metadata": {
    "collapsed": false
   },
   "outputs": [],
   "source": [
    "all_measures(train, test, bpr_mf, True, top)"
   ]
  },
  {
   "cell_type": "code",
   "execution_count": null,
   "metadata": {
    "collapsed": false
   },
   "outputs": [],
   "source": [
    "all_measures(train, test, poprec, True)"
   ]
  },
  {
   "cell_type": "code",
   "execution_count": null,
   "metadata": {
    "collapsed": false
   },
   "outputs": [],
   "source": [
    "all_measures(train, test, poprec, True, top)"
   ]
  },
  {
   "cell_type": "code",
   "execution_count": null,
   "metadata": {
    "collapsed": false
   },
   "outputs": [],
   "source": [
    "from sklearn.metrics import roc_auc_score"
   ]
  },
  {
   "cell_type": "code",
   "execution_count": null,
   "metadata": {
    "collapsed": false
   },
   "outputs": [],
   "source": [
    "a = np.array([False,False, True, True])\n",
    "b = np.array([0,2,1,3])\n",
    "print(roc_auc_score(a, b, average=None))"
   ]
  },
  {
   "cell_type": "code",
   "execution_count": null,
   "metadata": {
    "collapsed": false
   },
   "outputs": [],
   "source": [
    "(a == True).any()"
   ]
  },
  {
   "cell_type": "code",
   "execution_count": null,
   "metadata": {
    "collapsed": false
   },
   "outputs": [],
   "source": [
    "import random"
   ]
  },
  {
   "cell_type": "code",
   "execution_count": null,
   "metadata": {
    "collapsed": false
   },
   "outputs": [],
   "source": [
    "random.sample(range(10), 3)"
   ]
  }
 ],
 "metadata": {
  "kernelspec": {
   "display_name": "Python 3",
   "language": "python",
   "name": "python3"
  },
  "language_info": {
   "codemirror_mode": {
    "name": "ipython",
    "version": 3
   },
   "file_extension": ".py",
   "mimetype": "text/x-python",
   "name": "python",
   "nbconvert_exporter": "python",
   "pygments_lexer": "ipython3",
   "version": "3.4.3"
  }
 },
 "nbformat": 4,
 "nbformat_minor": 0
}
