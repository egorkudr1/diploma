{
 "cells": [
  {
   "cell_type": "code",
   "execution_count": 2,
   "metadata": {
    "collapsed": false
   },
   "outputs": [],
   "source": [
    "import numpy as np\n",
    "import pandas as pd\n",
    "from scipy.io import loadmat, mmread\n",
    "import sys\n",
    "import itertools \n",
    "import pickle\n",
    "import matplotlib.pylab as plt\n",
    "import time"
   ]
  },
  {
   "cell_type": "code",
   "execution_count": 3,
   "metadata": {
    "collapsed": true
   },
   "outputs": [],
   "source": [
    "%matplotlib inline"
   ]
  },
  {
   "cell_type": "code",
   "execution_count": 19,
   "metadata": {
    "collapsed": false
   },
   "outputs": [],
   "source": [
    "import rankingmethod\n",
    "import rankingmeasure"
   ]
  },
  {
   "cell_type": "code",
   "execution_count": 6,
   "metadata": {
    "collapsed": false
   },
   "outputs": [],
   "source": [
    "%load_ext autoreload\n",
    "%autoreload 2"
   ]
  },
  {
   "cell_type": "code",
   "execution_count": 5,
   "metadata": {
    "collapsed": true
   },
   "outputs": [],
   "source": [
    "from experiment import *"
   ]
  },
  {
   "cell_type": "markdown",
   "metadata": {},
   "source": [
    "# Epinion"
   ]
  },
  {
   "cell_type": "code",
   "execution_count": 20,
   "metadata": {
    "collapsed": false
   },
   "outputs": [],
   "source": [
    "data = pd.read_csv(\"../datasets/soc-Epinions1.txt\", sep='\\t', header=4)\n",
    "data = data.as_matrix()"
   ]
  },
  {
   "cell_type": "code",
   "execution_count": null,
   "metadata": {
    "collapsed": true
   },
   "outputs": [],
   "source": [
    "#создание epinion удалив от туда пользователей, у которых количество отзывов меньше 25\n",
    "#Также проводится переиндексанция пользователей и предметов"
   ]
  },
  {
   "cell_type": "code",
   "execution_count": 21,
   "metadata": {
    "collapsed": false
   },
   "outputs": [],
   "source": [
    "epinion, user_item = make_valid_data(data)"
   ]
  },
  {
   "cell_type": "code",
   "execution_count": 22,
   "metadata": {
    "collapsed": false
   },
   "outputs": [],
   "source": [
    "train, test, traintest = givenK_train_test(epinion, 5)"
   ]
  },
  {
   "cell_type": "code",
   "execution_count": 45,
   "metadata": {
    "collapsed": false
   },
   "outputs": [
    {
     "name": "stdout",
     "output_type": "stream",
     "text": [
      "precK 0.200090805902\n",
      "1-call5 0.5704880817253122\n",
      "MRR 0.4442181549069617\n",
      "AUC 0.82976857585\n",
      "NGDC 0.224440369342\n",
      "MAP 0.387606570816\n"
     ]
    }
   ],
   "source": [
    "poprec = rankingmethod.PopRec(user_item)\n",
    "poprec.fit(train)\n",
    "top = poprec.get_list(0)[:3]\n",
    "# all_measures(train, test, poprec, True, top)\n",
    "all_measures(train, test, poprec, True)"
   ]
  },
  {
   "cell_type": "code",
   "execution_count": null,
   "metadata": {
    "collapsed": true
   },
   "outputs": [],
   "source": [
    "###CLimf подбор параметров(не используя фичу авторов)"
   ]
  },
  {
   "cell_type": "code",
   "execution_count": null,
   "metadata": {
    "collapsed": false
   },
   "outputs": [],
   "source": [
    "list_reg = [0.001, 0.05, 0.01, 0.005 , 0.001]\n",
    "list_lrate = [0.01, 0.0001, 0.005, 0.01, 0.05, 0.1 ]\n",
    "list_K = [10, 5, 7, 12, 15]\n",
    "\n",
    "climf_validation = np.zeros((len(list_reg), len(list_lrate), len(list_K)))\n",
    "\n",
    "for i, K in enumerate(list_K):\n",
    "    for j, lrate in enumerate(list_lrate):\n",
    "        for m, reg in enumerate(list_reg):\n",
    "            climf = rankingmethod.CLiMF(user_item,K=K, reg=reg, lrate=lrate, verbose=0, maxiter=10)\n",
    "            climf.fit(train)\n",
    "            mrr = rankingmeasure.get_MRR(train, test, \n",
    "            climf, skip_train=False)\n",
    "            climf_validation[i,j,m] = mrr\n",
    "            print(K, lrate, reg, \"MRR\", mrr)\n",
    "            sys.stdout.flush()"
   ]
  },
  {
   "cell_type": "markdown",
   "metadata": {},
   "source": [
    "###проверка работы авторского решения"
   ]
  },
  {
   "cell_type": "code",
   "execution_count": 77,
   "metadata": {
    "collapsed": false
   },
   "outputs": [],
   "source": [
    "create_csr(train, user_item, 'another_train.mtx')\n",
    "create_csr(test, user_item, 'another_test.mtx')"
   ]
  },
  {
   "cell_type": "markdown",
   "metadata": {},
   "source": [
    "###BPR_MF Подбор параметров"
   ]
  },
  {
   "cell_type": "code",
   "execution_count": null,
   "metadata": {
    "collapsed": false
   },
   "outputs": [],
   "source": [
    "list_reg = [0.01, 0.05, 0.1, 0.2]\n",
    "list_lrate = [0.0001, 0.001, 0.005]\n",
    "list_K = [10, 15,  20]\n",
    "\n",
    "bpr_mf_validation = np.zeros((len(list_K), len(list_lrate), len(list_reg)))\n",
    "\n",
    "for i, K in enumerate(list_K):\n",
    "    for j, lrate in enumerate(list_lrate):\n",
    "        for m, reg in enumerate(list_reg):\n",
    "            cf = rankingmethod.BPR_MF(user_item,K=K, regU=reg, regIpos=reg, regIneg=reg, \n",
    "                                      lrate=lrate, verbose=0, maxiter=30)\n",
    "            cf.fit(train)\n",
    "            res = rankingmeasure.get_AUC(train, test, cf)\n",
    "            bpr_mf_validation[i,j,m] = res\n",
    "            print(K, lrate, reg, \"AUC\", res)\n",
    "            sys.stdout.flush()"
   ]
  },
  {
   "cell_type": "code",
   "execution_count": null,
   "metadata": {
    "collapsed": true
   },
   "outputs": [],
   "source": [
    "with open('bpr_mf_validation.pickle', 'wb') as f:\n",
    "    f.dump(bpr_mf_validation, f)"
   ]
  },
  {
   "cell_type": "markdown",
   "metadata": {},
   "source": [
    "###iMF Подбор  параметров"
   ]
  },
  {
   "cell_type": "code",
   "execution_count": null,
   "metadata": {
    "collapsed": false
   },
   "outputs": [],
   "source": [
    "list_alpha = [10, 20, 40, 80]\n",
    "list_lmbd = [0.001, 0.01, 0.05, 0.1]\n",
    "list_K = [10, 15,  20]\n",
    "\n",
    "imf_validation = np.zeros((len(list_K), len(list_alpha), len(list_lmbd)))\n",
    "\n",
    "for i, K in enumerate(list_K):\n",
    "    for j, alpha in enumerate(list_alpha):\n",
    "        for m, lmbd in enumerate(list_lmbd):\n",
    "            cf = rankingmethod.iMF(user_item, K=K, lmbd=lmbd, alpha=alpha, maxiter=30, verbose=0)\n",
    "            cf.fit(train)\n",
    "            mrr = rankingmeasure.get_prec_K(train, test, cf)\n",
    "            imf_validation[i,j,m] = mrr\n",
    "            print(K, lrate, reg, \"prec\", mrr)\n",
    "            sys.stdout.flush()"
   ]
  },
  {
   "cell_type": "code",
   "execution_count": 54,
   "metadata": {
    "collapsed": false
   },
   "outputs": [
    {
     "name": "stdout",
     "output_type": "stream",
     "text": [
      "iteration 0 loss 0.000624290578888\n",
      "iteration 1 loss 0.00114264093833\n",
      "iteration 2 loss 0.0062958758986\n",
      "iteration 3 loss 0.0303026863413\n",
      "iteration 4 loss 0.0332992811199\n",
      "iteration 5 loss 0.035974271661\n",
      "iteration 6 loss 0.0411085887249\n",
      "iteration 7 loss 0.0449886492622\n",
      "iteration 8 loss 0.0473136587212\n"
     ]
    }
   ],
   "source": [
    "cf = rankingmethod.TFMAP(user_item, lrate=0.01, verbose = 3, maxiter=9)\n",
    "cf.fit(train)"
   ]
  },
  {
   "cell_type": "code",
   "execution_count": 50,
   "metadata": {
    "collapsed": false
   },
   "outputs": [
    {
     "name": "stdout",
     "output_type": "stream",
     "text": [
      "precK 0.2076276958\n",
      "1-call5 0.5893303064699206\n",
      "MRR 0.4678583202169948\n",
      "AUC 0.730251042624\n",
      "NGDC 0.236286988928\n",
      "MAP 0.412810884096\n"
     ]
    }
   ],
   "source": [
    "all_measures(train, test, cf)"
   ]
  },
  {
   "cell_type": "code",
   "execution_count": 55,
   "metadata": {
    "collapsed": false
   },
   "outputs": [
    {
     "name": "stdout",
     "output_type": "stream",
     "text": [
      "precK 0.175527809308\n",
      "1-call5 0.552099886492622\n",
      "MRR 0.4525652866005966\n",
      "AUC 0.629873790306\n",
      "NGDC 0.212264542312\n",
      "MAP 0.407923130281\n"
     ]
    }
   ],
   "source": [
    "all_measures(train, test, cf)"
   ]
  },
  {
   "cell_type": "markdown",
   "metadata": {},
   "source": [
    "## Проведение такого же эксперимента, как у создатей CLiMF"
   ]
  },
  {
   "cell_type": "code",
   "execution_count": 13,
   "metadata": {
    "collapsed": false
   },
   "outputs": [],
   "source": [
    "def climf_experiment(data, list_cf, list_measure, K, maxiter, top=None):\n",
    "    res = np.zeros((len(list_measure), len(list_cf)))\n",
    "    for t in range(maxiter):\n",
    "        start_time = time.time()\n",
    "        train, test, traintest = givenK_train_test(epinion, K)\n",
    "        print('create test and train', time.time() - start_time)\n",
    "        for i, cf in enumerate(list_cf):\n",
    "            start_time = time.time()\n",
    "            cf.fit(train)\n",
    "            print('fit method', time.time() - start_time)\n",
    "            for j, measure in enumerate(list_measure):\n",
    "                start_time = time.time()\n",
    "                res[j, i] += measure(train, test, cf, top=top)\n",
    "                print('get measure', time.time() - start_time)\n",
    "            print(t, i, res[:, i] / (t + 1))\n",
    "            sys.stdout.flush()\n",
    "    res /= K\n",
    "    return res"
   ]
  },
  {
   "cell_type": "code",
   "execution_count": null,
   "metadata": {
    "collapsed": false
   },
   "outputs": [],
   "source": [
    "climf_experiment(epinion, list_cf, list_measure, 5, 1, None)"
   ]
  },
  {
   "cell_type": "code",
   "execution_count": 11,
   "metadata": {
    "collapsed": false
   },
   "outputs": [],
   "source": [
    "list_cf = [\n",
    "    rankingmethod.PopRec(user_item),\n",
    "    rankingmethod.CLiMF(user_item, K=10, reg=0.001, lrate=0.01, verbose=0, maxiter=10),\n",
    "    rankingmethod.BPR_MF(user_item, K = 20, lrate=0.001, regIpos=0.1, \n",
    "                              regIneg=0.1, regU=0.1, maxiter=30, verbose=0 ),\n",
    "    rankingmethod.iMF(user_item, K=10, lmbd=0.01, alpha=40, maxiter=30, verbose=0)\n",
    "    \n",
    "]\n",
    "\n",
    "list_measure = [\n",
    "    rankingmeasure.get_prec_K,\n",
    "    rankingmeasure.get_one_recal_K,\n",
    "    rankingmeasure.get_MRR,\n",
    "    rankingmeasure.get_AUC,\n",
    "    rankingmeasure.get_NDCG,\n",
    "    rankingmeasure.get_MAP\n",
    "]"
   ]
  },
  {
   "cell_type": "code",
   "execution_count": 72,
   "metadata": {
    "collapsed": false
   },
   "outputs": [
    {
     "data": {
      "text/plain": [
       "array([[ 0.19676731,  0.19544154,  0.19620431,  0.18333712],\n",
       "       [ 0.55618615,  0.55341657,  0.55677639,  0.54079455],\n",
       "       [ 0.43869385,  0.43688634,  0.4371964 ,  0.37432154],\n",
       "       [ 0.83055978,  0.75220119,  0.8144986 ,  0.69348808],\n",
       "       [ 0.22089943,  0.21972229,  0.22004179,  0.19337061]])"
      ]
     },
     "execution_count": 72,
     "metadata": {},
     "output_type": "execute_result"
    }
   ],
   "source": [
    "res"
   ]
  },
  {
   "cell_type": "code",
   "execution_count": null,
   "metadata": {
    "collapsed": false
   },
   "outputs": [],
   "source": [
    "res5 = climf_experiment(epinion, list_cf, list_measure, 5, 5, None)"
   ]
  },
  {
   "cell_type": "code",
   "execution_count": 86,
   "metadata": {
    "collapsed": false
   },
   "outputs": [
    {
     "name": "stdout",
     "output_type": "stream",
     "text": [
      "0 0 [ 0.20186152  0.57253121  0.44507229  0.83019123  0.22629725]\n",
      "0 1 [ 0.20113507  0.57207719  0.44532217  0.75097045  0.22589734]\n",
      "0 2 [ 0.20049943  0.57162316  0.44105564  0.81544855  0.2238292 ]\n",
      "0 3 [ 0.18183882  0.54415437  0.36764735  0.69568631  0.19010866]\n",
      "1 0 [ 0.19934166  0.56935301  0.44192711  0.82986679  0.22384405]\n",
      "1 1 [ 0.19913734  0.57094211  0.44330177  0.7514867   0.22379874]\n",
      "1 2 [ 0.19881952  0.56901249  0.43991896  0.81464474  0.22238736]\n",
      "1 3 [ 0.18240636  0.54256527  0.37522786  0.69306033  0.19268483]\n",
      "2 0 [ 0.19667045  0.56640182  0.44127585  0.8294008   0.22177606]\n",
      "2 1 [ 0.19668558  0.56708286  0.4407094   0.75108119  0.22108638]\n",
      "2 2 [ 0.1963375   0.56602346  0.4398107   0.81472455  0.22081704]\n",
      "2 3 [ 0.18541052  0.54415437  0.37762899  0.69185757  0.19559893]\n",
      "3 0 [ 0.19578888  0.56549376  0.44076754  0.82970043  0.22092565]\n",
      "3 1 [ 0.19565267  0.55828604  0.43896854  0.74951361  0.21985454]\n",
      "3 2 [ 0.19589103  0.56498297  0.43971114  0.81423246  0.2202605 ]\n",
      "3 3 [ 0.18678774  0.54432463  0.37847196  0.69186099  0.19698223]\n",
      "4 0 [ 0.19662202  0.56476731  0.44096185  0.8297657   0.22122238]\n",
      "4 1 [ 0.19624972  0.55900114  0.43947169  0.74973133  0.2202242 ]\n",
      "4 2 [ 0.19600454  0.56440409  0.44000963  0.81414027  0.22022674]\n",
      "4 3 [ 0.18525312  0.5415664   0.3764355   0.69193672  0.1954938 ]\n",
      "0 0 [ 0.05775255  0.23700341  0.12053573  0.82849502  0.04307709]\n",
      "0 1 [ 0.05807037  0.23859251  0.13876895  0.74698968  0.04895322]\n",
      "0 2 [ 0.05466515  0.22678774  0.11332174  0.81149785  0.03888003]\n",
      "0 3 [ 0.15918275  0.49284904  0.31860682  0.69427406  0.16359683]\n",
      "1 0 [ 0.0615891   0.26083995  0.1257513   0.8280345   0.04619838]\n",
      "1 1 [ 0.06083995  0.25629966  0.127997    0.74616637  0.04670014]\n",
      "1 2 [ 0.05811578  0.25198638  0.12210614  0.81052914  0.04291957]\n",
      "1 3 [ 0.15589103  0.48603859  0.3119427   0.69252307  0.15939596]\n",
      "2 0 [ 0.07041998  0.28059024  0.13774985  0.82800443  0.05573205]\n",
      "2 1 [ 0.06889141  0.27529323  0.14078493  0.74681772  0.05625098]\n",
      "2 2 [ 0.06805902  0.27506621  0.13401984  0.81132711  0.0531503 ]\n",
      "2 3 [ 0.15600454  0.48770337  0.31063241  0.69240203  0.15900583]\n",
      "3 0 [ 0.06934166  0.27956867  0.13680325  0.82852858  0.05488464]\n",
      "3 1 [ 0.06856981  0.27644722  0.14007106  0.74699065  0.05571953]\n",
      "3 2 [ 0.06782066  0.27616345  0.13450794  0.81165663  0.05324492]\n",
      "3 3 [ 0.15745743  0.48989784  0.30981268  0.69404548  0.15981303]\n",
      "4 0 [ 0.07239955  0.28712826  0.14209939  0.82829679  0.05820266]\n",
      "4 1 [ 0.07219069  0.2861748   0.14568582  0.74716392  0.05945774]\n",
      "4 2 [ 0.07125539  0.28517594  0.14054259  0.81162326  0.05710166]\n",
      "4 3 [ 0.15740295  0.48953462  0.30982333  0.69345973  0.15966718]\n",
      "0 0 [ 0.18483541  0.53348468  0.41389591  0.85633218  0.20699693]\n",
      "0 1 [ 0.18528944  0.53461975  0.41378996  0.81553893  0.20728074]\n",
      "0 2 [ 0.18479001  0.53257662  0.40897514  0.85108683  0.20514463]\n",
      "0 3 [ 0.26192963  0.65584563  0.46027429  0.81045913  0.27114753]\n",
      "1 0 [ 0.18526674  0.5323496   0.41313492  0.85595222  0.20713644]\n",
      "1 1 [ 0.18251986  0.52826334  0.41211135  0.81521549  0.20515461]\n",
      "1 2 [ 0.18170261  0.52814983  0.40805154  0.85061289  0.20274402]\n",
      "1 3 [ 0.25577753  0.64676504  0.45629011  0.80970322  0.26602783]\n",
      "2 0 [ 0.18584941  0.53461975  0.41463921  0.85600705  0.20786827]\n",
      "2 1 [ 0.18401816  0.53189557  0.41399107  0.81525555  0.20654705]\n",
      "2 2 [ 0.18229285  0.52780931  0.40889052  0.85097743  0.20323404]\n",
      "2 3 [ 0.25719258  0.64918653  0.45680573  0.81077902  0.26699854]\n",
      "3 0 [ 0.18558456  0.53603859  0.41455262  0.85573556  0.2076405 ]\n",
      "3 1 [ 0.18427923  0.53410897  0.4142122   0.81526251  0.20678812]\n",
      "3 2 [ 0.18204313  0.52701476  0.40986568  0.85116329  0.20323307]\n",
      "3 3 [ 0.25824064  0.65096481  0.45606689  0.81076429  0.26752684]\n",
      "4 0 [ 0.18522588  0.53525539  0.41352569  0.85557986  0.20705052]\n",
      "4 1 [ 0.18457208  0.53402951  0.41359335  0.81515152  0.20689538]\n",
      "4 2 [ 0.18198411  0.52662883  0.40949771  0.85106532  0.20324043]\n",
      "4 3 [ 0.25833371  0.65039728  0.45638531  0.81039778  0.26780219]\n",
      "0 0 [ 0.06501703  0.27264472  0.14641487  0.85531439  0.05556559]\n",
      "0 1 [ 0.06488082  0.27196368  0.14496236  0.81314675  0.05508491]\n",
      "0 2 [ 0.06320091  0.26651532  0.14987344  0.84923414  0.05636572]\n",
      "0 3 [ 0.22288309  0.5938706   0.38912717  0.80856497  0.2259059 ]\n",
      "1 0 [ 0.0646538   0.26980704  0.13506109  0.85438829  0.05231895]\n",
      "1 1 [ 0.0646311   0.26935301  0.1296978   0.81273838  0.05064098]\n",
      "1 2 [ 0.06258797  0.26367764  0.13661406  0.84861356  0.05185299]\n",
      "1 3 [ 0.21813848  0.58581158  0.38018264  0.80900732  0.22034536]\n",
      "2 0 [ 0.06395762  0.26515323  0.13104981  0.85427746  0.05075392]\n",
      "2 1 [ 0.06350359  0.2631101   0.12743124  0.81244858  0.04934108]\n",
      "2 2 [ 0.06292849  0.26553159  0.14006301  0.84877762  0.05287874]\n",
      "2 3 [ 0.21796443  0.5840333   0.37792549  0.80791113  0.21979037]\n",
      "3 0 [ 0.06281498  0.25652667  0.12568048  0.8544708   0.04847924]\n",
      "3 1 [ 0.06248581  0.25505108  0.12305095  0.81264964  0.04745859]\n",
      "3 2 [ 0.0622361   0.26464245  0.14261797  0.84904396  0.05333634]\n",
      "3 3 [ 0.21908059  0.58802497  0.38256562  0.80861246  0.22147804]\n",
      "4 0 [ 0.06254711  0.25516459  0.12583834  0.85440117  0.04863383]\n",
      "4 1 [ 0.06248354  0.25421112  0.12360757  0.81268281  0.04794269]\n",
      "4 2 [ 0.06625199  0.27441544  0.14700453  0.84910143  0.05768089]\n",
      "4 3 [ 0.21945062  0.58933031  0.38329723  0.80821007  0.22193337]\n",
      "0 0 [ 0.16826334  0.49216799  0.38273626  0.86349635  0.18834556]\n",
      "0 1 [ 0.16826334  0.49194098  0.38191526  0.84221137  0.18833616]\n",
      "0 2 [ 0.15818388  0.48263337  0.37774996  0.86410416  0.17955002]\n",
      "0 3 [ 0.27573212  0.66674234  0.48314548  0.85356387  0.28806631]\n",
      "1 0 [ 0.16964813  0.49761635  0.38456716  0.86398124  0.18977869]\n",
      "1 1 [ 0.16969353  0.49738933  0.38362665  0.84265023  0.18979227]\n",
      "1 2 [ 0.16265607  0.48808173  0.38036865  0.86418233  0.18300174]\n",
      "1 3 [ 0.27866061  0.6692395   0.48241018  0.85511061  0.29012096]\n",
      "2 0 [ 0.16942868  0.49580023  0.38381972  0.86387916  0.18946942]\n",
      "2 1 [ 0.16948922  0.4958759   0.38314283  0.84301602  0.18949318]\n",
      "2 2 [ 0.16263337  0.48452516  0.38022266  0.86426646  0.18305867]\n",
      "2 3 [ 0.27754824  0.66886114  0.48112017  0.85526967  0.28882177]\n",
      "3 0 [ 0.1693076   0.4946084   0.38357423  0.8639095   0.18934736]\n",
      "3 1 [ 0.16936436  0.49472191  0.38306848  0.84340302  0.18937262]\n",
      "3 2 [ 0.16438138  0.48728717  0.37983601  0.86433272  0.18410296]\n",
      "3 3 [ 0.27770715  0.6683882   0.48050746  0.85511525  0.28885916]\n",
      "4 0 [ 0.16988876  0.49620885  0.38459354  0.86412666  0.19000092]\n",
      "4 1 [ 0.169916    0.49625426  0.38407447  0.84362327  0.18996766]\n",
      "4 2 [ 0.16405902  0.48726447  0.38122616  0.86444697  0.18420429]\n",
      "4 3 [ 0.27669467  0.66733258  0.47934133  0.85542414  0.28776438]\n",
      "0 0 [ 0.06197503  0.25652667  0.10634225  0.86206641  0.04397333]\n",
      "0 1 [ 0.06197503  0.25652667  0.10687165  0.84134625  0.04409609]\n",
      "0 2 [ 0.06047673  0.25085131  0.12116079  0.86287886  0.04836084]\n",
      "0 3 [ 0.23768445  0.60227015  0.39671173  0.85428068  0.23885764]\n",
      "1 0 [ 0.07314415  0.28592509  0.11597193  0.86216273  0.05433002]\n",
      "1 1 [ 0.0692168   0.27321226  0.11515746  0.84101795  0.0517093 ]\n",
      "1 2 [ 0.0568899   0.23405221  0.13089766  0.86255705  0.04945808]\n",
      "1 3 [ 0.23555051  0.60385925  0.39856471  0.8529224   0.23795968]\n",
      "2 0 [ 0.0686644   0.27166099  0.11775038  0.86251346  0.05223524]\n",
      "2 1 [ 0.07110102  0.27854711  0.1179235   0.84092314  0.0539682 ]\n",
      "2 2 [ 0.06307983  0.25221339  0.13653041  0.86294826  0.0551326 ]\n",
      "2 3 [ 0.23660991  0.60817253  0.4000664   0.85353046  0.23884116]\n",
      "3 0 [ 0.06632236  0.26328036  0.11450011  0.86263988  0.0497031 ]\n",
      "3 1 [ 0.06803632  0.26895573  0.11462385  0.84140572  0.05090762]\n",
      "3 2 [ 0.06241771  0.25278093  0.13293704  0.86285896  0.05336821]\n",
      "3 3 [ 0.23799092  0.61129398  0.40330495  0.85381802  0.24082018]\n",
      "4 0 [ 0.06476277  0.25775255  0.11251916  0.86254524  0.04810616]\n",
      "4 1 [ 0.06653348  0.26297389  0.11458972  0.8414337   0.05000035]\n",
      "4 2 [ 0.06131215  0.24998865  0.12917814  0.86288775  0.05135694]\n",
      "4 3 [ 0.23824745  0.61298524  0.40411763  0.85377678  0.24127599]\n",
      "0 0 [ 0.156958    0.46242906  0.35553146  0.86810287  0.17487705]\n",
      "0 1 [ 0.15700341  0.46242906  0.35551855  0.85803309  0.17490684]\n",
      "0 2 [ 0.15400681  0.45584563  0.35263502  0.86924032  0.17206976]\n",
      "0 3 [ 0.27623156  0.65244041  0.46776254  0.87818248  0.28649383]\n",
      "1 0 [ 0.15704881  0.46322361  0.35507747  0.86819931  0.17475447]\n",
      "1 1 [ 0.15711691  0.46333712  0.35476989  0.85813153  0.17484559]\n",
      "1 2 [ 0.15355278  0.46288309  0.35156157  0.86986349  0.17068234]\n",
      "1 3 [ 0.27437003  0.64755959  0.46549457  0.87742193  0.28448017]\n",
      "2 0 [ 0.15597427  0.45932652  0.35411595  0.8685146   0.17384008]\n",
      "2 1 [ 0.15606508  0.45955354  0.35380812  0.85869508  0.17393239]\n",
      "2 2 [ 0.15081347  0.46008324  0.3497516   0.86998907  0.16790885]\n",
      "2 3 [ 0.27217556  0.64631101  0.46185958  0.87756544  0.28159566]\n",
      "3 0 [ 0.15649262  0.46021566  0.35381527  0.86885098  0.17417487]\n",
      "3 1 [ 0.15656073  0.46038593  0.35356124  0.85867616  0.17424495]\n",
      "3 2 [ 0.1514983   0.45658343  0.34944411  0.87008591  0.16879507]\n",
      "3 3 [ 0.2723723   0.64562997  0.46297635  0.87754696  0.28207434]\n",
      "4 0 [ 0.1572395   0.46238365  0.35497822  0.86896103  0.17500755]\n",
      "4 1 [ 0.15721226  0.46238365  0.35460651  0.85876935  0.17499955]\n",
      "4 2 [ 0.15186379  0.45661748  0.35098958  0.87024898  0.16942292]\n",
      "4 3 [ 0.27299886  0.64712826  0.46469561  0.87760114  0.28302583]\n",
      "0 0 [ 0.05766175  0.24040863  0.09799181  0.86599459  0.04133008]\n",
      "0 1 [ 0.0600227   0.24653802  0.11250287  0.85666623  0.04805122]\n",
      "0 2 [ 0.08835414  0.31191827  0.14684386  0.86886637  0.07703903]\n",
      "0 3 [ 0.2384563   0.60181612  0.4072862   0.87574819  0.24421784]\n",
      "1 0 [ 0.05725312  0.23246311  0.09723407  0.86692823  0.04106239]\n",
      "1 1 [ 0.0584563   0.23564132  0.10443043  0.85641272  0.04443954]\n",
      "1 2 [ 0.07307605  0.27173666  0.12865856  0.86887373  0.06123836]\n",
      "1 3 [ 0.23788876  0.60034052  0.40466161  0.87575406  0.24291402]\n",
      "2 0 [ 0.05651154  0.22860386  0.10013384  0.86717586  0.04154859]\n",
      "2 1 [ 0.05731366  0.23072266  0.10340623  0.85688943  0.04330401]\n",
      "2 2 [ 0.0657132   0.25281877  0.12014747  0.86898583  0.05369786]\n",
      "2 3 [ 0.23756337  0.59916761  0.40376367  0.87583903  0.24231446]\n",
      "3 0 [ 0.05687855  0.2316118   0.09967962  0.86707909  0.04154881]\n",
      "3 1 [ 0.05734393  0.23132804  0.10210654  0.85700195  0.04278629]\n",
      "3 2 [ 0.06292849  0.24597049  0.11732438  0.86876046  0.05097056]\n",
      "3 3 [ 0.23785471  0.59931896  0.402905    0.87598763  0.24223298]\n",
      "4 0 [ 0.05663564  0.22987514  0.10184375  0.86728477  0.0421716 ]\n",
      "4 1 [ 0.0575891   0.23146425  0.10386404  0.85707224  0.04356426]\n",
      "4 2 [ 0.06403632  0.25098751  0.12212265  0.8689663   0.0532375 ]\n",
      "4 3 [ 0.23927355  0.60099886  0.4039982   0.87612406  0.24349738]\n"
     ]
    }
   ],
   "source": [
    "for i in range(5, 21, 5):\n",
    "    res = climf_experiment(epinion, list_cf, list_measure, i, 5, None)\n",
    "    with open('climf_res' + str(i) +'.pickle', 'wb') as f:\n",
    "        pickle.dump(res, f)\n",
    "    res = climf_experiment(epinion, list_cf, list_measure, i, 5, top)\n",
    "    with open('climf_res_top' + str(i) + '.pickle', 'wb') as f:\n",
    "        pickle.dump(res, f)"
   ]
  },
  {
   "cell_type": "code",
   "execution_count": 69,
   "metadata": {
    "collapsed": false
   },
   "outputs": [],
   "source": [
    "def show_smart_table(data):\n",
    "    name_measure = ['precK', '1-recalK', 'MRR', 'AUC', 'NDCG']\n",
    "    ans = pd.DataFrame()\n",
    "    ans['measures'] = name_measure\n",
    "    ans['PopRec'] = data[:, 0]\n",
    "    ans['CLiMF'] = data[:, 1]\n",
    "    ans['BRP_MP'] = data[:, 2]\n",
    "    ans['iMF'] = data[:, 3]\n",
    "    print(ans)"
   ]
  },
  {
   "cell_type": "code",
   "execution_count": 88,
   "metadata": {
    "collapsed": false,
    "scrolled": true
   },
   "outputs": [
    {
     "name": "stdout",
     "output_type": "stream",
     "text": [
      "---------\n",
      "K = 5\n",
      "   measures    PopRec     CLiMF    BRP_MP       iMF\n",
      "0     precK  0.196622  0.196250  0.196005  0.185253\n",
      "1  1-recalK  0.564767  0.559001  0.564404  0.541566\n",
      "2       MRR  0.440962  0.439472  0.440010  0.376435\n",
      "3       AUC  0.829766  0.749731  0.814140  0.691937\n",
      "4      NDCG  0.221222  0.220224  0.220227  0.195494\n",
      "---------\n",
      "K = 5 without top\n",
      "   measures    PopRec     CLiMF    BRP_MP       iMF\n",
      "0     precK  0.072400  0.072191  0.071255  0.157403\n",
      "1  1-recalK  0.287128  0.286175  0.285176  0.489535\n",
      "2       MRR  0.142099  0.145686  0.140543  0.309823\n",
      "3       AUC  0.828297  0.747164  0.811623  0.693460\n",
      "4      NDCG  0.058203  0.059458  0.057102  0.159667\n",
      "---------\n",
      "K = 10\n",
      "   measures    PopRec     CLiMF    BRP_MP       iMF\n",
      "0     precK  0.092613  0.092286  0.090992  0.129167\n",
      "1  1-recalK  0.267628  0.267015  0.263314  0.325199\n",
      "2       MRR  0.206763  0.206797  0.204749  0.228193\n",
      "3       AUC  0.427790  0.407576  0.425533  0.405199\n",
      "4      NDCG  0.103525  0.103448  0.101620  0.133901\n",
      "---------\n",
      "K = 10 without top\n",
      "   measures    PopRec     CLiMF    BRP_MP       iMF\n",
      "0     precK  0.031274  0.031242  0.033126  0.109725\n",
      "1  1-recalK  0.127582  0.127106  0.137208  0.294665\n",
      "2       MRR  0.062919  0.061804  0.073502  0.191649\n",
      "3       AUC  0.427201  0.406341  0.424551  0.404105\n",
      "4      NDCG  0.024317  0.023971  0.028840  0.110967\n",
      "---------\n",
      "K = 15\n",
      "   measures    PopRec     CLiMF    BRP_MP       iMF\n",
      "0     precK  0.056630  0.056639  0.054686  0.092232\n",
      "1  1-recalK  0.165403  0.165418  0.162421  0.222444\n",
      "2       MRR  0.128198  0.128025  0.127075  0.159780\n",
      "3       AUC  0.288042  0.281208  0.288149  0.285141\n",
      "4      NDCG  0.063334  0.063323  0.061401  0.095921\n",
      "---------\n",
      "K = 15 without top\n",
      "   measures    PopRec     CLiMF    BRP_MP       iMF\n",
      "0     precK  0.021588  0.022178  0.020437  0.079416\n",
      "1  1-recalK  0.085918  0.087658  0.083330  0.204328\n",
      "2       MRR  0.037506  0.038197  0.043059  0.134706\n",
      "3       AUC  0.287515  0.280478  0.287629  0.284592\n",
      "4      NDCG  0.016035  0.016667  0.017119  0.080425\n",
      "---------\n",
      "K = 20\n",
      "   measures    PopRec     CLiMF    BRP_MP       iMF\n",
      "0     precK  0.039310  0.039303  0.037966  0.068250\n",
      "1  1-recalK  0.115596  0.115596  0.114154  0.161782\n",
      "2       MRR  0.088745  0.088652  0.087747  0.116174\n",
      "3       AUC  0.217240  0.214692  0.217562  0.219400\n",
      "4      NDCG  0.043752  0.043750  0.042356  0.070756\n",
      "---------\n",
      "K = 20 without top\n",
      "   measures    PopRec     CLiMF    BRP_MP       iMF\n",
      "0     precK  0.014159  0.014397  0.016009  0.059818\n",
      "1  1-recalK  0.057469  0.057866  0.062747  0.150250\n",
      "2       MRR  0.025461  0.025966  0.030531  0.101000\n",
      "3       AUC  0.216821  0.214268  0.217242  0.219031\n",
      "4      NDCG  0.010543  0.010891  0.013309  0.060874\n"
     ]
    }
   ],
   "source": [
    "for i in range(5, 21, 5):\n",
    "    with open('climf_res' + str(i) +'.pickle', 'rb') as f:\n",
    "        tbl = pickle.load(f)\n",
    "    print('---------')\n",
    "    print('K =', i)\n",
    "    show_smart_table(tbl)\n",
    "    with open('climf_res_top' + str(i) + '.pickle', 'rb') as f:\n",
    "        tbl = pickle.load(f)\n",
    "    print('---------')\n",
    "    print('K =', i, 'without top')\n",
    "    show_smart_table(tbl)"
   ]
  },
  {
   "cell_type": "code",
   "execution_count": 70,
   "metadata": {
    "collapsed": false
   },
   "outputs": [
    {
     "name": "stdout",
     "output_type": "stream",
     "text": [
      "   measures    PopRec     CLiMF    BRP_MP       iMF\n",
      "0     precK  0.196468  0.196640  0.197966  0.178860\n",
      "1  1-recalK  0.559047  0.560545  0.564359  0.530715\n",
      "2       MRR  0.439094  0.438255  0.440254  0.364251\n",
      "3       AUC  0.830650  0.750008  0.814404  0.657649\n",
      "4      NDCG  0.219856  0.219738  0.221339  0.187448\n"
     ]
    }
   ],
   "source": [
    "show_smart_table(res5)"
   ]
  },
  {
   "cell_type": "code",
   "execution_count": 95,
   "metadata": {
    "collapsed": false
   },
   "outputs": [
    {
     "name": "stdout",
     "output_type": "stream",
     "text": [
      "74.03269012485812\n",
      "1801\n"
     ]
    }
   ],
   "source": [
    "avr_len = 0\n",
    "max_len = 0\n",
    "for items in traintest:\n",
    "    avr_len += len(items)\n",
    "    max_len = max(len(items), max_len)\n",
    "avr_len /= len(traintest)\n",
    "print(avr_len)\n",
    "print(max_len)"
   ]
  },
  {
   "cell_type": "code",
   "execution_count": 121,
   "metadata": {
    "collapsed": false
   },
   "outputs": [],
   "source": [
    "list_len = []\n",
    "for items in traintest:\n",
    "    list_len.append(len(items))\n",
    "list_len = np.array(list_len)"
   ]
  },
  {
   "cell_type": "code",
   "execution_count": 122,
   "metadata": {
    "collapsed": false
   },
   "outputs": [
    {
     "data": {
      "text/plain": [
       "51.0"
      ]
     },
     "execution_count": 122,
     "metadata": {},
     "output_type": "execute_result"
    }
   ],
   "source": [
    "np.median(list_len)"
   ]
  },
  {
   "cell_type": "code",
   "execution_count": 126,
   "metadata": {
    "collapsed": false
   },
   "outputs": [],
   "source": [
    "list_len  = list_len[list_len < 600]\n",
    "    "
   ]
  },
  {
   "cell_type": "code",
   "execution_count": 127,
   "metadata": {
    "collapsed": false
   },
   "outputs": [
    {
     "data": {
      "text/plain": [
       "(array([  1.75900000e+03,   9.06000000e+02,   5.64000000e+02,\n",
       "          3.12000000e+02,   2.33000000e+02,   1.50000000e+02,\n",
       "          1.10000000e+02,   7.20000000e+01,   6.50000000e+01,\n",
       "          4.80000000e+01,   3.40000000e+01,   2.80000000e+01,\n",
       "          2.40000000e+01,   1.70000000e+01,   1.30000000e+01,\n",
       "          1.50000000e+01,   5.00000000e+00,   8.00000000e+00,\n",
       "          4.00000000e+00,   4.00000000e+00,   3.00000000e+00,\n",
       "          4.00000000e+00,   2.00000000e+00,   2.00000000e+00,\n",
       "          0.00000000e+00,   1.00000000e+00,   3.00000000e+00,\n",
       "          5.00000000e+00,   0.00000000e+00,   2.00000000e+00]),\n",
       " array([  26.,   44.,   62.,   80.,   98.,  116.,  134.,  152.,  170.,\n",
       "         188.,  206.,  224.,  242.,  260.,  278.,  296.,  314.,  332.,\n",
       "         350.,  368.,  386.,  404.,  422.,  440.,  458.,  476.,  494.,\n",
       "         512.,  530.,  548.,  566.]),\n",
       " <a list of 30 Patch objects>)"
      ]
     },
     "execution_count": 127,
     "metadata": {},
     "output_type": "execute_result"
    },
    {
     "data": {
      "image/png": "[encoded data removed]",
      "text/plain": [
       "<matplotlib.figure.Figure at 0x7f2859c72978>"
      ]
     },
     "metadata": {},
     "output_type": "display_data"
    }
   ],
   "source": [
    "plt.hist(list_len, bins = 30)"
   ]
  },
  {
   "cell_type": "code",
   "execution_count": 132,
   "metadata": {
    "collapsed": false
   },
   "outputs": [],
   "source": [
    "def bread(func):\n",
    "    def wrapper(word):\n",
    "        print (\"</------\\>\")\n",
    "        func(word)\n",
    "        print (\"<\\______/>\")\n",
    "    return wrapper\n",
    "\n",
    "@bread\n",
    "def breakfast(word):\n",
    "    print(word)"
   ]
  },
  {
   "cell_type": "code",
   "execution_count": 25,
   "metadata": {
    "collapsed": false
   },
   "outputs": [
    {
     "data": {
      "text/plain": [
       "array([ 0.,  1.,  2.,  3.,  4.,  1.])"
      ]
     },
     "execution_count": 25,
     "metadata": {},
     "output_type": "execute_result"
    }
   ],
   "source": [
    "np.concatenate((np.arange(5), np.ones(1)))"
   ]
  },
  {
   "cell_type": "markdown",
   "metadata": {},
   "source": [
    "# старые эксперименты"
   ]
  },
  {
   "cell_type": "code",
   "execution_count": 17,
   "metadata": {
    "collapsed": false
   },
   "outputs": [
    {
     "name": "stdout",
     "output_type": "stream",
     "text": [
      "[0 1 2 3 4 5 6 7 8 9]\n",
      "[1 2 3]\n",
      "[  0  -1   2 100   4   5   6   7   8   9]\n",
      "[ -1   2 100]\n"
     ]
    }
   ],
   "source": [
    "a = np.arange(10)\n",
    "b = a[1:4]\n",
    "print(a)\n",
    "print(b)\n",
    "b[2] = 100\n",
    "a[1] = -a[1]\n",
    "print(a)\n",
    "print(b)"
   ]
  },
  {
   "cell_type": "code",
   "execution_count": 70,
   "metadata": {
    "collapsed": false
   },
   "outputs": [],
   "source": [
    "tmp = mmread(\"../datasets/epinions_original/EP25_UPL5_test.mtx\")\n",
    "test = np.array(list(zip(tmp.row, tmp.col)))\n",
    "tmp = mmread(\"../datasets/epinions_original/EP25_UPL5_train.mtx\")\n",
    "train = np.array(list(zip(tmp.row, tmp.col)))\n",
    "user_item = [max(np.max(test[:,0]), np.max(train[:, 0])) + 1, max(np.max(test[:,1]), np.max(train[:,1])) + 1]"
   ]
  },
  {
   "cell_type": "code",
   "execution_count": 71,
   "metadata": {
    "collapsed": false
   },
   "outputs": [],
   "source": [
    "train = create_listarray(train)\n",
    "test  = create_listarray(test)"
   ]
  },
  {
   "cell_type": "code",
   "execution_count": null,
   "metadata": {
    "collapsed": true
   },
   "outputs": [],
   "source": [
    "create_csr(train, user_item, '../pyCLiMF-master/good_train.pickle')\n",
    "create_csr(test, user_item, '../pyCLiMF-master/good_test.pickle')"
   ]
  },
  {
   "cell_type": "code",
   "execution_count": null,
   "metadata": {
    "collapsed": false
   },
   "outputs": [],
   "source": [
    "randomrec = rankingmethod.RandomRec(user_item)\n",
    "randomrec.fit(train)\n",
    "all_measures(train, test, randomrec, False)"
   ]
  },
  {
   "cell_type": "code",
   "execution_count": 115,
   "metadata": {
    "collapsed": false
   },
   "outputs": [],
   "source": [
    "poprec = rankingmethod.PopRec(user_item)\n",
    "poprec.fit(train)\n",
    "top = poprec.get_list(0)[:3]\n",
    "# all_measures(train, test, poprec, True, top)\n",
    "# all_measures(train, test, poprec, True)"
   ]
  },
  {
   "cell_type": "code",
   "execution_count": null,
   "metadata": {
    "collapsed": false
   },
   "outputs": [],
   "source": [
    "rankingmeasure.get_AUC(train, test, poprec, True, K=user_item[1])"
   ]
  },
  {
   "cell_type": "code",
   "execution_count": null,
   "metadata": {
    "collapsed": false
   },
   "outputs": [],
   "source": [
    "rankingmeasure.get_NDCG(train, test, poprec, True, K = 5)"
   ]
  },
  {
   "cell_type": "code",
   "execution_count": null,
   "metadata": {
    "collapsed": false
   },
   "outputs": [],
   "source": [
    "rankingmeasure.get_NDCG(train, test, poprec, True, K = 3)"
   ]
  },
  {
   "cell_type": "code",
   "execution_count": null,
   "metadata": {
    "collapsed": false
   },
   "outputs": [],
   "source": [
    "index_user = np.random.choice(len(train), 100, replace=False)\n"
   ]
  },
  {
   "cell_type": "code",
   "execution_count": null,
   "metadata": {
    "collapsed": false
   },
   "outputs": [],
   "source": [
    "orig_train = create_original_sample(train, index_user)\n",
    "orig_test = create_original_sample(test, index_user)"
   ]
  },
  {
   "cell_type": "code",
   "execution_count": 13,
   "metadata": {
    "collapsed": false
   },
   "outputs": [
    {
     "name": "stdout",
     "output_type": "stream",
     "text": [
      "iteration 0 loss -98107.253456\n",
      "iteration 1 loss -98106.9430412\n",
      "iteration 2 loss -98106.6324012\n",
      "iteration 3 loss -98106.3214964\n",
      "iteration 4 loss -98106.0102875\n",
      "iteration 5 loss -98105.698735\n",
      "iteration 6 loss -98105.3867996\n",
      "iteration 7 loss -98105.0744423\n",
      "iteration 8 loss -98104.7616239\n",
      "iteration 9 loss -98104.4483056\n",
      "iteration 10 loss -98104.1344485\n",
      "iteration 11 loss -98103.8200138\n",
      "iteration 12 loss -98103.504963\n",
      "iteration 13 loss -98103.1892575\n",
      "iteration 14 loss -98102.872859\n"
     ]
    }
   ],
   "source": [
    "climf = rankingmethod.CLiMF(user_item, lrate = 0.0001, reg=0.001, maxiter=15, verbose=2)\n",
    "climf.fit(train)"
   ]
  },
  {
   "cell_type": "code",
   "execution_count": 14,
   "metadata": {
    "collapsed": false
   },
   "outputs": [
    {
     "data": {
      "text/plain": [
       "0.4036119383538297"
      ]
     },
     "execution_count": 14,
     "metadata": {},
     "output_type": "execute_result"
    }
   ],
   "source": [
    "rankingmeasure.get_MRR(train, test, climf, True)"
   ]
  },
  {
   "cell_type": "code",
   "execution_count": 119,
   "metadata": {
    "collapsed": false
   },
   "outputs": [
    {
     "name": "stdout",
     "output_type": "stream",
     "text": [
      "precision5 0.054217888936\n",
      "1-call5 0.2337855023314964\n",
      "MRR 0.1290192881946351\n"
     ]
    },
    {
     "ename": "KeyboardInterrupt",
     "evalue": "",
     "output_type": "error",
     "traceback": [
      "\u001b[1;31m---------------------------------------------------------------------------\u001b[0m",
      "\u001b[1;31mKeyboardInterrupt\u001b[0m                         Traceback (most recent call last)",
      "\u001b[1;32m<ipython-input-119-9d391edeb8b5>\u001b[0m in \u001b[0;36m<module>\u001b[1;34m()\u001b[0m\n\u001b[1;32m----> 1\u001b[1;33m \u001b[0mall_measures\u001b[0m\u001b[1;33m(\u001b[0m\u001b[0mtrain\u001b[0m\u001b[1;33m,\u001b[0m \u001b[0mtest\u001b[0m\u001b[1;33m,\u001b[0m \u001b[0mclimf\u001b[0m\u001b[1;33m,\u001b[0m \u001b[1;32mTrue\u001b[0m\u001b[1;33m,\u001b[0m \u001b[0mtop\u001b[0m\u001b[1;33m)\u001b[0m\u001b[1;33m\u001b[0m\u001b[0m\n\u001b[0m",
      "\u001b[1;32m/home/george/Documents/diploma/code/experiment.py\u001b[0m in \u001b[0;36mall_measures\u001b[1;34m(train, test, method, skip_train, top)\u001b[0m\n\u001b[0;32m     10\u001b[0m     \u001b[0mprint\u001b[0m\u001b[1;33m(\u001b[0m\u001b[1;34m\"MRR\"\u001b[0m\u001b[1;33m,\u001b[0m \u001b[0mrankingmeasure\u001b[0m\u001b[1;33m.\u001b[0m\u001b[0mget_MRR\u001b[0m\u001b[1;33m(\u001b[0m\u001b[0mtrain\u001b[0m\u001b[1;33m,\u001b[0m \u001b[0mtest\u001b[0m\u001b[1;33m,\u001b[0m \u001b[0mmethod\u001b[0m\u001b[1;33m,\u001b[0m \u001b[0mskip_train\u001b[0m\u001b[1;33m=\u001b[0m\u001b[0mskip_train\u001b[0m\u001b[1;33m,\u001b[0m \u001b[0mtop\u001b[0m\u001b[1;33m=\u001b[0m\u001b[0mtop\u001b[0m\u001b[1;33m)\u001b[0m\u001b[1;33m)\u001b[0m\u001b[1;33m\u001b[0m\u001b[0m\n\u001b[0;32m     11\u001b[0m     \u001b[0msys\u001b[0m\u001b[1;33m.\u001b[0m\u001b[0mstdout\u001b[0m\u001b[1;33m.\u001b[0m\u001b[0mflush\u001b[0m\u001b[1;33m(\u001b[0m\u001b[1;33m)\u001b[0m\u001b[1;33m\u001b[0m\u001b[0m\n\u001b[1;32m---> 12\u001b[1;33m     \u001b[0mprint\u001b[0m\u001b[1;33m(\u001b[0m\u001b[1;34m\"AUC\"\u001b[0m\u001b[1;33m,\u001b[0m \u001b[0mrankingmeasure\u001b[0m\u001b[1;33m.\u001b[0m\u001b[0mget_AUC\u001b[0m\u001b[1;33m(\u001b[0m\u001b[0mtrain\u001b[0m\u001b[1;33m,\u001b[0m \u001b[0mtest\u001b[0m\u001b[1;33m,\u001b[0m \u001b[0mmethod\u001b[0m\u001b[1;33m,\u001b[0m \u001b[0mskip_train\u001b[0m\u001b[1;33m=\u001b[0m\u001b[0mskip_train\u001b[0m\u001b[1;33m,\u001b[0m \u001b[0mtop\u001b[0m\u001b[1;33m=\u001b[0m\u001b[0mtop\u001b[0m\u001b[1;33m)\u001b[0m\u001b[1;33m)\u001b[0m\u001b[1;33m\u001b[0m\u001b[0m\n\u001b[0m\u001b[0;32m     13\u001b[0m     \u001b[0msys\u001b[0m\u001b[1;33m.\u001b[0m\u001b[0mstdout\u001b[0m\u001b[1;33m.\u001b[0m\u001b[0mflush\u001b[0m\u001b[1;33m(\u001b[0m\u001b[1;33m)\u001b[0m\u001b[1;33m\u001b[0m\u001b[0m\n\u001b[0;32m     14\u001b[0m     \u001b[0mprint\u001b[0m\u001b[1;33m(\u001b[0m\u001b[1;34m\"NGDC\"\u001b[0m\u001b[1;33m,\u001b[0m \u001b[0mrankingmeasure\u001b[0m\u001b[1;33m.\u001b[0m\u001b[0mget_NDCG\u001b[0m\u001b[1;33m(\u001b[0m\u001b[0mtrain\u001b[0m\u001b[1;33m,\u001b[0m \u001b[0mtest\u001b[0m\u001b[1;33m,\u001b[0m \u001b[0mmethod\u001b[0m\u001b[1;33m,\u001b[0m \u001b[0mskip_train\u001b[0m\u001b[1;33m=\u001b[0m\u001b[0mskip_train\u001b[0m\u001b[1;33m,\u001b[0m \u001b[0mtop\u001b[0m\u001b[1;33m=\u001b[0m\u001b[0mtop\u001b[0m\u001b[1;33m)\u001b[0m\u001b[1;33m)\u001b[0m\u001b[1;33m\u001b[0m\u001b[0m\n",
      "\u001b[1;32m/home/george/Documents/diploma/code/rankingmeasure.py\u001b[0m in \u001b[0;36mget_AUC\u001b[1;34m(train, test, cls, skip_train, top, K)\u001b[0m\n\u001b[0;32m     77\u001b[0m     \u001b[0mans\u001b[0m \u001b[1;33m=\u001b[0m \u001b[0mnp\u001b[0m\u001b[1;33m.\u001b[0m\u001b[0marange\u001b[0m\u001b[1;33m(\u001b[0m\u001b[0mK\u001b[0m\u001b[1;33m)\u001b[0m\u001b[1;33m[\u001b[0m\u001b[1;33m:\u001b[0m\u001b[1;33m:\u001b[0m\u001b[1;33m-\u001b[0m\u001b[1;36m1\u001b[0m\u001b[1;33m]\u001b[0m\u001b[1;33m\u001b[0m\u001b[0m\n\u001b[0;32m     78\u001b[0m     \u001b[1;32mfor\u001b[0m \u001b[0mu\u001b[0m\u001b[1;33m,\u001b[0m \u001b[1;33m(\u001b[0m\u001b[0mtest_cur\u001b[0m\u001b[1;33m,\u001b[0m \u001b[0mtrain_cur\u001b[0m\u001b[1;33m)\u001b[0m \u001b[1;32min\u001b[0m \u001b[0menumerate\u001b[0m\u001b[1;33m(\u001b[0m\u001b[0mzip\u001b[0m\u001b[1;33m(\u001b[0m\u001b[0mtest\u001b[0m\u001b[1;33m,\u001b[0m \u001b[0mtrain\u001b[0m\u001b[1;33m)\u001b[0m\u001b[1;33m)\u001b[0m\u001b[1;33m:\u001b[0m\u001b[1;33m\u001b[0m\u001b[0m\n\u001b[1;32m---> 79\u001b[1;33m         \u001b[0mulist\u001b[0m \u001b[1;33m=\u001b[0m \u001b[0mcls\u001b[0m\u001b[1;33m.\u001b[0m\u001b[0mget_list\u001b[0m\u001b[1;33m(\u001b[0m\u001b[0mu\u001b[0m\u001b[1;33m)\u001b[0m\u001b[1;33m\u001b[0m\u001b[0m\n\u001b[0m\u001b[0;32m     80\u001b[0m         \u001b[1;32mif\u001b[0m  \u001b[0mskip_train\u001b[0m\u001b[1;33m:\u001b[0m\u001b[1;33m\u001b[0m\u001b[0m\n\u001b[0;32m     81\u001b[0m             \u001b[0mmask\u001b[0m \u001b[1;33m=\u001b[0m \u001b[0mnp\u001b[0m\u001b[1;33m.\u001b[0m\u001b[0min1d\u001b[0m\u001b[1;33m(\u001b[0m\u001b[0mulist\u001b[0m\u001b[1;33m,\u001b[0m \u001b[0mtrain_cur\u001b[0m\u001b[1;33m)\u001b[0m\u001b[1;33m\u001b[0m\u001b[0m\n",
      "\u001b[1;32m/home/george/Documents/diploma/code/rankingmethod.py\u001b[0m in \u001b[0;36mget_list\u001b[1;34m(self, u)\u001b[0m\n\u001b[0;32m    100\u001b[0m         \u001b[0mcurU\u001b[0m \u001b[1;33m=\u001b[0m \u001b[0mself\u001b[0m\u001b[1;33m.\u001b[0m\u001b[0mU\u001b[0m\u001b[1;33m[\u001b[0m\u001b[0mu\u001b[0m\u001b[1;33m]\u001b[0m\u001b[1;33m\u001b[0m\u001b[0m\n\u001b[0;32m    101\u001b[0m         \u001b[0mfij\u001b[0m \u001b[1;33m=\u001b[0m \u001b[0mnp\u001b[0m\u001b[1;33m.\u001b[0m\u001b[0msum\u001b[0m\u001b[1;33m(\u001b[0m\u001b[0mself\u001b[0m\u001b[1;33m.\u001b[0m\u001b[0mU\u001b[0m\u001b[1;33m[\u001b[0m\u001b[0mu\u001b[0m\u001b[1;33m]\u001b[0m\u001b[1;33m[\u001b[0m\u001b[0mnp\u001b[0m\u001b[1;33m.\u001b[0m\u001b[0mnewaxis\u001b[0m\u001b[1;33m,\u001b[0m \u001b[1;33m:\u001b[0m\u001b[1;33m]\u001b[0m \u001b[1;33m*\u001b[0m \u001b[0mself\u001b[0m\u001b[1;33m.\u001b[0m\u001b[0mV\u001b[0m\u001b[1;33m,\u001b[0m \u001b[0maxis\u001b[0m\u001b[1;33m=\u001b[0m\u001b[1;36m1\u001b[0m\u001b[1;33m)\u001b[0m\u001b[1;33m\u001b[0m\u001b[0m\n\u001b[1;32m--> 102\u001b[1;33m         \u001b[1;32mreturn\u001b[0m \u001b[0mnp\u001b[0m\u001b[1;33m.\u001b[0m\u001b[0margsort\u001b[0m\u001b[1;33m(\u001b[0m\u001b[1;33m-\u001b[0m\u001b[0mfij\u001b[0m\u001b[1;33m)\u001b[0m\u001b[1;33m\u001b[0m\u001b[0m\n\u001b[0m\u001b[0;32m    103\u001b[0m \u001b[1;33m\u001b[0m\u001b[0m\n\u001b[0;32m    104\u001b[0m \u001b[1;33m\u001b[0m\u001b[0m\n",
      "\u001b[1;32m/usr/local/lib/python3.4/dist-packages/numpy/core/fromnumeric.py\u001b[0m in \u001b[0;36margsort\u001b[1;34m(a, axis, kind, order)\u001b[0m\n\u001b[0;32m    906\u001b[0m     \u001b[1;32mexcept\u001b[0m \u001b[0mAttributeError\u001b[0m\u001b[1;33m:\u001b[0m\u001b[1;33m\u001b[0m\u001b[0m\n\u001b[0;32m    907\u001b[0m         \u001b[1;32mreturn\u001b[0m \u001b[0m_wrapit\u001b[0m\u001b[1;33m(\u001b[0m\u001b[0ma\u001b[0m\u001b[1;33m,\u001b[0m \u001b[1;34m'argsort'\u001b[0m\u001b[1;33m,\u001b[0m \u001b[0maxis\u001b[0m\u001b[1;33m,\u001b[0m \u001b[0mkind\u001b[0m\u001b[1;33m,\u001b[0m \u001b[0morder\u001b[0m\u001b[1;33m)\u001b[0m\u001b[1;33m\u001b[0m\u001b[0m\n\u001b[1;32m--> 908\u001b[1;33m     \u001b[1;32mreturn\u001b[0m \u001b[0margsort\u001b[0m\u001b[1;33m(\u001b[0m\u001b[0maxis\u001b[0m\u001b[1;33m,\u001b[0m \u001b[0mkind\u001b[0m\u001b[1;33m,\u001b[0m \u001b[0morder\u001b[0m\u001b[1;33m)\u001b[0m\u001b[1;33m\u001b[0m\u001b[0m\n\u001b[0m\u001b[0;32m    909\u001b[0m \u001b[1;33m\u001b[0m\u001b[0m\n\u001b[0;32m    910\u001b[0m \u001b[1;33m\u001b[0m\u001b[0m\n",
      "\u001b[1;31mKeyboardInterrupt\u001b[0m: "
     ]
    }
   ],
   "source": [
    "all_measures(train, test, climf, True, top)"
   ]
  },
  {
   "cell_type": "code",
   "execution_count": 117,
   "metadata": {
    "collapsed": false
   },
   "outputs": [
    {
     "name": "stdout",
     "output_type": "stream",
     "text": [
      "precision5 0.168334039847\n",
      "1-call5 0.5370919881305638\n",
      "MRR 0.4057593335701604\n",
      "AUC 0.346615797654\n",
      "NGDC 0.190403723158\n"
     ]
    }
   ],
   "source": [
    "all_measures(train, test, climf, True)"
   ]
  },
  {
   "cell_type": "code",
   "execution_count": null,
   "metadata": {
    "collapsed": false
   },
   "outputs": [],
   "source": [
    "climf = rankingmethod.CLiMF(user_item, maxiter=40, lrate = 0.1, verbose=2)\n",
    "climf.fit(train)\n"
   ]
  },
  {
   "cell_type": "code",
   "execution_count": null,
   "metadata": {
    "collapsed": false
   },
   "outputs": [],
   "source": [
    "all_measures(train, test, climf, False)"
   ]
  },
  {
   "cell_type": "code",
   "execution_count": null,
   "metadata": {
    "collapsed": false
   },
   "outputs": [],
   "source": [
    "all_measures(train, test, climf, True, top)"
   ]
  },
  {
   "cell_type": "code",
   "execution_count": null,
   "metadata": {
    "collapsed": false
   },
   "outputs": [],
   "source": [
    "list_reg = [0.001, 0.002, 0.005, 0.0005]\n",
    "list_lrate = [0.05, 0.07, 0.1, 0.12, 0.15 ]\n",
    "list_K = [10, 12, 15, 7, 5]\n",
    "times_count = 3\n",
    "\n",
    "for K, lrate, reg in itertools.product(list_K, list_lrate, list_reg):\n",
    "    MRR = 0\n",
    "    \n",
    "    for t in range(times_count):\n",
    "        climf = rankingmethod.CLiMF(user_item,K=K, reg=reg, lrate=lrate, verbose=0, maxiter=50)\n",
    "        climf.fit(train)\n",
    "        MRR += rankingmeasure.get_MRR(train, test, climf, skip_train=False)\n",
    "    print(\"K\", K, \"lrate\", lrate, \"reg\", reg, \"MRR\", MRR/times_count)\n",
    "    sys.stdout.flush()"
   ]
  },
  {
   "cell_type": "code",
   "execution_count": null,
   "metadata": {
    "collapsed": false
   },
   "outputs": [],
   "source": [
    "bpr_mf = rankingmethod.BPR_MF(user_item, K = 20, lrate=0.001, regIpos=0.1, \n",
    "                              regIneg=0.1, regU=0.1, maxiter=30, verbose=2 )"
   ]
  },
  {
   "cell_type": "code",
   "execution_count": null,
   "metadata": {
    "collapsed": false
   },
   "outputs": [],
   "source": [
    "bpr_mf.fit(train)"
   ]
  },
  {
   "cell_type": "code",
   "execution_count": null,
   "metadata": {
    "collapsed": false
   },
   "outputs": [],
   "source": [
    "all_measures(train, test, bpr_mf, True)"
   ]
  },
  {
   "cell_type": "code",
   "execution_count": null,
   "metadata": {
    "collapsed": false
   },
   "outputs": [],
   "source": [
    "rankingmeasure.get_AUC(train, test, bpr_mf, True, K=user_item[1])"
   ]
  },
  {
   "cell_type": "code",
   "execution_count": null,
   "metadata": {
    "collapsed": false
   },
   "outputs": [],
   "source": [
    "rankingmeasure.get_NDCG(train, test, bpr_mf, True, K=5)"
   ]
  },
  {
   "cell_type": "code",
   "execution_count": null,
   "metadata": {
    "collapsed": true
   },
   "outputs": [],
   "source": [
    "imf = rankingmethod.iMF(user_item, K=20, lmbd=0.01, alpha=40, maxiter=30, verbose=2)"
   ]
  },
  {
   "cell_type": "code",
   "execution_count": null,
   "metadata": {
    "collapsed": false
   },
   "outputs": [],
   "source": [
    "imf.fit(train)"
   ]
  },
  {
   "cell_type": "code",
   "execution_count": null,
   "metadata": {
    "collapsed": false
   },
   "outputs": [],
   "source": [
    "all_measures(train, test, imf, True)"
   ]
  },
  {
   "cell_type": "code",
   "execution_count": null,
   "metadata": {
    "collapsed": false
   },
   "outputs": [],
   "source": [
    "all_measures(train, test, imf, True, top)"
   ]
  },
  {
   "cell_type": "code",
   "execution_count": null,
   "metadata": {
    "collapsed": false
   },
   "outputs": [],
   "source": [
    "all_measures(train, test, bpr_mf, True, top)"
   ]
  },
  {
   "cell_type": "code",
   "execution_count": null,
   "metadata": {
    "collapsed": false
   },
   "outputs": [],
   "source": [
    "all_measures(train, test, poprec, True)"
   ]
  },
  {
   "cell_type": "code",
   "execution_count": null,
   "metadata": {
    "collapsed": false
   },
   "outputs": [],
   "source": [
    "all_measures(train, test, poprec, True, top)"
   ]
  },
  {
   "cell_type": "code",
   "execution_count": null,
   "metadata": {
    "collapsed": false
   },
   "outputs": [],
   "source": [
    "from sklearn.metrics import roc_auc_score"
   ]
  },
  {
   "cell_type": "code",
   "execution_count": null,
   "metadata": {
    "collapsed": false
   },
   "outputs": [],
   "source": [
    "a = np.array([False,False, True, True])\n",
    "b = np.array([0,2,1,3])\n",
    "print(roc_auc_score(a, b, average=None))"
   ]
  },
  {
   "cell_type": "code",
   "execution_count": null,
   "metadata": {
    "collapsed": false
   },
   "outputs": [],
   "source": [
    "(a == True).any()"
   ]
  },
  {
   "cell_type": "code",
   "execution_count": null,
   "metadata": {
    "collapsed": false
   },
   "outputs": [],
   "source": [
    "import random"
   ]
  },
  {
   "cell_type": "code",
   "execution_count": null,
   "metadata": {
    "collapsed": false
   },
   "outputs": [],
   "source": [
    "random.sample(range(10), 3)"
   ]
  }
 ],
 "metadata": {
  "kernelspec": {
   "display_name": "Python 3",
   "language": "python",
   "name": "python3"
  },
  "language_info": {
   "codemirror_mode": {
    "name": "ipython",
    "version": 3
   },
   "file_extension": ".py",
   "mimetype": "text/x-python",
   "name": "python",
   "nbconvert_exporter": "python",
   "pygments_lexer": "ipython3",
   "version": "3.4.3"
  }
 },
 "nbformat": 4,
 "nbformat_minor": 0
}
