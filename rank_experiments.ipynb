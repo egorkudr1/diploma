{
 "cells": [
  {
   "cell_type": "code",
   "execution_count": 1,
   "metadata": {
    "collapsed": false
   },
   "outputs": [
    {
     "name": "stderr",
     "output_type": "stream",
     "text": [
      "/usr/local/lib/python3.4/dist-packages/matplotlib/backends/backend_gtk3agg.py:18: UserWarning: The Gtk3Agg backend is known to not work on Python 3.x with pycairo. Try installing cairocffi.\n",
      "  \"The Gtk3Agg backend is known to not work on Python 3.x with pycairo. \"\n"
     ]
    }
   ],
   "source": [
    "import numpy as np\n",
    "import pandas as pd\n",
    "from scipy.io import loadmat, mmread\n",
    "import sys\n",
    "import itertools \n",
    "import pickle\n",
    "import matplotlib.pylab as plt\n",
    "import time"
   ]
  },
  {
   "cell_type": "code",
   "execution_count": 2,
   "metadata": {
    "collapsed": true
   },
   "outputs": [],
   "source": [
    "%matplotlib inline"
   ]
  },
  {
   "cell_type": "code",
   "execution_count": 3,
   "metadata": {
    "collapsed": false
   },
   "outputs": [],
   "source": [
    "import rankingmethod\n",
    "import rankingmeasure"
   ]
  },
  {
   "cell_type": "code",
   "execution_count": 4,
   "metadata": {
    "collapsed": false
   },
   "outputs": [],
   "source": [
    "%load_ext autoreload\n",
    "%autoreload 2"
   ]
  },
  {
   "cell_type": "code",
   "execution_count": 110,
   "metadata": {
    "collapsed": true
   },
   "outputs": [],
   "source": [
    "from  experiment import *"
   ]
  },
  {
   "cell_type": "code",
   "execution_count": 58,
   "metadata": {
    "collapsed": true
   },
   "outputs": [],
   "source": [
    "respath = 'rresults/s/'"
   ]
  },
  {
   "cell_type": "markdown",
   "metadata": {},
   "source": [
    "# loading data sets"
   ]
  },
  {
   "cell_type": "code",
   "execution_count": 31,
   "metadata": {
    "collapsed": false
   },
   "outputs": [],
   "source": [
    "data = pd.read_csv(\"../datasets/soc-Epinions1.txt\", sep='\\t', header=4)\n",
    "data = data.as_matrix()"
   ]
  },
  {
   "cell_type": "code",
   "execution_count": 32,
   "metadata": {
    "collapsed": false
   },
   "outputs": [],
   "source": [
    "epinion, epinion_shape = make_valid_data(data)"
   ]
  },
  {
   "cell_type": "code",
   "execution_count": 33,
   "metadata": {
    "collapsed": true
   },
   "outputs": [],
   "source": [
    "data = pd.read_csv(\"../datasets/Slashdot0811.txt\", sep='\\t', header=4)\n",
    "data = data.as_matrix()"
   ]
  },
  {
   "cell_type": "code",
   "execution_count": 34,
   "metadata": {
    "collapsed": true
   },
   "outputs": [],
   "source": [
    "slashdot, slashdot_shape = make_valid_data(data)"
   ]
  },
  {
   "cell_type": "code",
   "execution_count": 79,
   "metadata": {
    "collapsed": true
   },
   "outputs": [],
   "source": [
    "data =  pd.read_csv(\"../datasets/ml-100k/u.data\", sep='\\t', header=None).ix[:, :1]\n",
    "data = data.as_matrix()"
   ]
  },
  {
   "cell_type": "code",
   "execution_count": 80,
   "metadata": {
    "collapsed": false
   },
   "outputs": [],
   "source": [
    "ml100k, ml100k_shape = make_valid_data(data)"
   ]
  },
  {
   "cell_type": "code",
   "execution_count": 104,
   "metadata": {
    "collapsed": false
   },
   "outputs": [],
   "source": [
    "data = pd.read_csv(\"../datasets/ml-1m/ratings.dat\", sep='::', header=None,  engine='python').ix[:, :1]\n",
    "data = data.as_matrix()"
   ]
  },
  {
   "cell_type": "code",
   "execution_count": 105,
   "metadata": {
    "collapsed": false
   },
   "outputs": [],
   "source": [
    "ml1m, ml1m_shape = make_valid_data(data)"
   ]
  },
  {
   "cell_type": "markdown",
   "metadata": {},
   "source": [
    "### Зададим параметры, которые были выбраны при помощи валидации"
   ]
  },
  {
   "cell_type": "code",
   "execution_count": 37,
   "metadata": {
    "collapsed": false
   },
   "outputs": [],
   "source": [
    "def create_list_cf(user_item):\n",
    "    list_cf = [\n",
    "        rankingmethod.PopRec(user_item),\n",
    "        rankingmethod.CLiMF(user_item, K=10, reg=0.001, lrate=0.01, verbose=0, maxiter=10),\n",
    "        rankingmethod.BPR_MF(user_item, K = 20, lrate=0.012, regIpos=0.012, \n",
    "                                  regIneg=0.012, regU=0.012, maxiter=4, verbose=0 ),\n",
    "        rankingmethod.iMF(user_item, K=10, lmbd=0.01, alpha=40, maxiter=30, verbose=0),\n",
    "        rankingmethod.TFMAP(user_item, lrate=0.01, maxiter=10)   \n",
    "    ]\n",
    "    return list_cf"
   ]
  },
  {
   "cell_type": "markdown",
   "metadata": {},
   "source": [
    "### Проведение такого же эксперимента, как у создатей CLiMF(Точнее похожего, т.к. было решено не удалять топ 3 всех предметов. И даже с этим удалением получить такие же цифры, что авторы epinion не получилось)"
   ]
  },
  {
   "cell_type": "code",
   "execution_count": 55,
   "metadata": {
    "collapsed": false
   },
   "outputs": [],
   "source": [
    "def climf_experiment(data, list_cf, K=5, maxiter=1, topK=5, verbose=0):\n",
    "    res = np.zeros((6, len(list_cf)))\n",
    "    for t in range(maxiter):\n",
    "        train, test, traintest = givenK_train_test(data, K)\n",
    "        for i, cf in enumerate(list_cf):\n",
    "            cf.fit(train)\n",
    "            prec_k, one_recal_k, ngdc, mp = rankingmeasure.get_Kmetrics(train, test, cf, K=topK)\n",
    "            mrr, auc = rankingmeasure.get_listmetrics(train, test, cf)\n",
    "            res[:, i] += np.array([prec_k, one_recal_k, ngdc, mp, mrr, auc])\n",
    "            if verbose == 1:\n",
    "                print(t, i, res[:, i] / (t + 1))\n",
    "                sys.stdout.flush()\n",
    "    res /= maxiter\n",
    "    res = pd.DataFrame(res)\n",
    "    res.columns = ['PopRec', 'CLiMF', 'BRP_MP', 'iMF', 'TFMAP']\n",
    "    res.index = ['prec@' + str(topK),'1recal@' + str(topK), 'NDCG@' + str(topK), \n",
    "               'MAP@' + str(topK), 'MRR', 'AUC']\n",
    "    return res"
   ]
  },
  {
   "cell_type": "code",
   "execution_count": 56,
   "metadata": {
    "collapsed": false
   },
   "outputs": [
    {
     "name": "stdout",
     "output_type": "stream",
     "text": [
      "0 0 [ 0.19441544  0.5738933   0.22191584  0.3956946   0.44729325  0.83140426]\n",
      "0 1 [ 0.19586833  0.57116913  0.22168011  0.39170293  0.44774633  0.74961251]\n",
      "0 2 [ 0.19509648  0.57570942  0.22223038  0.395641    0.44722935  0.83441822]\n",
      "0 3 [ 0.18102157  0.53620885  0.19383637  0.33370066  0.3824311   0.69397896]\n",
      "0 4 [ 0.18288309  0.56027242  0.21205831  0.39143272  0.44094471  0.64683492]\n"
     ]
    }
   ],
   "source": [
    "climf_experiment(epinion, create_list_cf(epinion_shape), K =5, maxiter=1, topK=5,  verbose=1)"
   ]
  },
  {
   "cell_type": "code",
   "execution_count": null,
   "metadata": {
    "collapsed": true
   },
   "outputs": [],
   "source": [
    "climf_experiment(epinion, create_list_cf(epinion_shape), K =10, maxiter=1, topK=5,  verbose=1)"
   ]
  },
  {
   "cell_type": "code",
   "execution_count": 60,
   "metadata": {
    "collapsed": false
   },
   "outputs": [
    {
     "name": "stdout",
     "output_type": "stream",
     "text": [
      "0 0 [ 0.12251144  0.37657323  0.1319391   0.22953991  0.27654298  0.77703793]\n",
      "0 1 [ 0.12274027  0.37743135  0.13169759  0.22891141  0.27554472  0.68970927]\n",
      "0 2 [ 0.12105263  0.37614416  0.1309013   0.22970379  0.27613604  0.78503591]\n",
      "0 3 [ 0.10494851  0.34196224  0.10975562  0.1949623   0.23434489  0.59086203]\n",
      "0 4 [ 0.11538902  0.35926773  0.12445819  0.21948119  0.25677406  0.59737827]\n"
     ]
    },
    {
     "data": {
      "text/html": [
       "<div>\n",
       "<table border=\"1\" class=\"dataframe\">\n",
       "  <thead>\n",
       "    <tr style=\"text-align: right;\">\n",
       "      <th></th>\n",
       "      <th>PopRec</th>\n",
       "      <th>CLiMF</th>\n",
       "      <th>BRP_MP</th>\n",
       "      <th>iMF</th>\n",
       "      <th>TFMAP</th>\n",
       "    </tr>\n",
       "  </thead>\n",
       "  <tbody>\n",
       "    <tr>\n",
       "      <th>prec@5</th>\n",
       "      <td>0.122511</td>\n",
       "      <td>0.122740</td>\n",
       "      <td>0.121053</td>\n",
       "      <td>0.104949</td>\n",
       "      <td>0.115389</td>\n",
       "    </tr>\n",
       "    <tr>\n",
       "      <th>1recal@5</th>\n",
       "      <td>0.376573</td>\n",
       "      <td>0.377431</td>\n",
       "      <td>0.376144</td>\n",
       "      <td>0.341962</td>\n",
       "      <td>0.359268</td>\n",
       "    </tr>\n",
       "    <tr>\n",
       "      <th>NDCG@5</th>\n",
       "      <td>0.131939</td>\n",
       "      <td>0.131698</td>\n",
       "      <td>0.130901</td>\n",
       "      <td>0.109756</td>\n",
       "      <td>0.124458</td>\n",
       "    </tr>\n",
       "    <tr>\n",
       "      <th>MAP@5</th>\n",
       "      <td>0.229540</td>\n",
       "      <td>0.228911</td>\n",
       "      <td>0.229704</td>\n",
       "      <td>0.194962</td>\n",
       "      <td>0.219481</td>\n",
       "    </tr>\n",
       "    <tr>\n",
       "      <th>MRR</th>\n",
       "      <td>0.276543</td>\n",
       "      <td>0.275545</td>\n",
       "      <td>0.276136</td>\n",
       "      <td>0.234345</td>\n",
       "      <td>0.256774</td>\n",
       "    </tr>\n",
       "    <tr>\n",
       "      <th>AUC</th>\n",
       "      <td>0.777038</td>\n",
       "      <td>0.689709</td>\n",
       "      <td>0.785036</td>\n",
       "      <td>0.590862</td>\n",
       "      <td>0.597378</td>\n",
       "    </tr>\n",
       "  </tbody>\n",
       "</table>\n",
       "</div>"
      ],
      "text/plain": [
       "            PopRec     CLiMF    BRP_MP       iMF     TFMAP\n",
       "prec@5    0.122511  0.122740  0.121053  0.104949  0.115389\n",
       "1recal@5  0.376573  0.377431  0.376144  0.341962  0.359268\n",
       "NDCG@5    0.131939  0.131698  0.130901  0.109756  0.124458\n",
       "MAP@5     0.229540  0.228911  0.229704  0.194962  0.219481\n",
       "MRR       0.276543  0.275545  0.276136  0.234345  0.256774\n",
       "AUC       0.777038  0.689709  0.785036  0.590862  0.597378"
      ]
     },
     "execution_count": 60,
     "metadata": {},
     "output_type": "execute_result"
    }
   ],
   "source": [
    "climf_experiment(slashdot, create_list_cf(slashdot_shape), K =5, maxiter=1, topK=5,  verbose=0)"
   ]
  },
  {
   "cell_type": "code",
   "execution_count": 61,
   "metadata": {
    "collapsed": false
   },
   "outputs": [
    {
     "name": "stdout",
     "output_type": "stream",
     "text": [
      "0 0 [ 0.11192792  0.35283181  0.12102636  0.2146759   0.26020113  0.81278055]\n",
      "0 1 [ 0.11189931  0.35283181  0.12100122  0.21473311  0.2598129   0.75821488]\n",
      "0 2 [ 0.11284325  0.35311785  0.1207925   0.21107714  0.25587895  0.81823682]\n",
      "0 3 [ 0.13584096  0.39287757  0.1424579   0.23748272  0.27949474  0.69255127]\n",
      "0 4 [ 0.11281465  0.35440503  0.121591    0.21485865  0.25942938  0.66626014]\n"
     ]
    },
    {
     "data": {
      "text/html": [
       "<div>\n",
       "<table border=\"1\" class=\"dataframe\">\n",
       "  <thead>\n",
       "    <tr style=\"text-align: right;\">\n",
       "      <th></th>\n",
       "      <th>PopRec</th>\n",
       "      <th>CLiMF</th>\n",
       "      <th>BRP_MP</th>\n",
       "      <th>iMF</th>\n",
       "      <th>TFMAP</th>\n",
       "    </tr>\n",
       "  </thead>\n",
       "  <tbody>\n",
       "    <tr>\n",
       "      <th>prec@5</th>\n",
       "      <td>0.111928</td>\n",
       "      <td>0.111899</td>\n",
       "      <td>0.112843</td>\n",
       "      <td>0.135841</td>\n",
       "      <td>0.112815</td>\n",
       "    </tr>\n",
       "    <tr>\n",
       "      <th>1recal@5</th>\n",
       "      <td>0.352832</td>\n",
       "      <td>0.352832</td>\n",
       "      <td>0.353118</td>\n",
       "      <td>0.392878</td>\n",
       "      <td>0.354405</td>\n",
       "    </tr>\n",
       "    <tr>\n",
       "      <th>NDCG@5</th>\n",
       "      <td>0.121026</td>\n",
       "      <td>0.121001</td>\n",
       "      <td>0.120793</td>\n",
       "      <td>0.142458</td>\n",
       "      <td>0.121591</td>\n",
       "    </tr>\n",
       "    <tr>\n",
       "      <th>MAP@5</th>\n",
       "      <td>0.214676</td>\n",
       "      <td>0.214733</td>\n",
       "      <td>0.211077</td>\n",
       "      <td>0.237483</td>\n",
       "      <td>0.214859</td>\n",
       "    </tr>\n",
       "    <tr>\n",
       "      <th>MRR</th>\n",
       "      <td>0.260201</td>\n",
       "      <td>0.259813</td>\n",
       "      <td>0.255879</td>\n",
       "      <td>0.279495</td>\n",
       "      <td>0.259429</td>\n",
       "    </tr>\n",
       "    <tr>\n",
       "      <th>AUC</th>\n",
       "      <td>0.812781</td>\n",
       "      <td>0.758215</td>\n",
       "      <td>0.818237</td>\n",
       "      <td>0.692551</td>\n",
       "      <td>0.666260</td>\n",
       "    </tr>\n",
       "  </tbody>\n",
       "</table>\n",
       "</div>"
      ],
      "text/plain": [
       "            PopRec     CLiMF    BRP_MP       iMF     TFMAP\n",
       "prec@5    0.111928  0.111899  0.112843  0.135841  0.112815\n",
       "1recal@5  0.352832  0.352832  0.353118  0.392878  0.354405\n",
       "NDCG@5    0.121026  0.121001  0.120793  0.142458  0.121591\n",
       "MAP@5     0.214676  0.214733  0.211077  0.237483  0.214859\n",
       "MRR       0.260201  0.259813  0.255879  0.279495  0.259429\n",
       "AUC       0.812781  0.758215  0.818237  0.692551  0.666260"
      ]
     },
     "execution_count": 61,
     "metadata": {},
     "output_type": "execute_result"
    }
   ],
   "source": [
    "climf_experiment(slashdot, create_list_cf(slashdot_shape), K=10, maxiter=1, topK=5,  verbose=0)"
   ]
  },
  {
   "cell_type": "code",
   "execution_count": 76,
   "metadata": {
    "collapsed": false
   },
   "outputs": [
    {
     "data": {
      "text/html": [
       "<div>\n",
       "<table border=\"1\" class=\"dataframe\">\n",
       "  <thead>\n",
       "    <tr style=\"text-align: right;\">\n",
       "      <th></th>\n",
       "      <th>PopRec</th>\n",
       "      <th>CLiMF</th>\n",
       "      <th>BRP_MP</th>\n",
       "      <th>iMF</th>\n",
       "      <th>TFMAP</th>\n",
       "    </tr>\n",
       "  </thead>\n",
       "  <tbody>\n",
       "    <tr>\n",
       "      <th>prec@5</th>\n",
       "      <td>0.530918</td>\n",
       "      <td>0.513151</td>\n",
       "      <td>0.530323</td>\n",
       "      <td>0.462531</td>\n",
       "      <td>0.262481</td>\n",
       "    </tr>\n",
       "    <tr>\n",
       "      <th>1recal@5</th>\n",
       "      <td>0.943176</td>\n",
       "      <td>0.933499</td>\n",
       "      <td>0.937469</td>\n",
       "      <td>0.897022</td>\n",
       "      <td>0.746154</td>\n",
       "    </tr>\n",
       "    <tr>\n",
       "      <th>NDCG@5</th>\n",
       "      <td>0.534166</td>\n",
       "      <td>0.517198</td>\n",
       "      <td>0.531936</td>\n",
       "      <td>0.475641</td>\n",
       "      <td>0.305572</td>\n",
       "    </tr>\n",
       "    <tr>\n",
       "      <th>MAP@5</th>\n",
       "      <td>0.670363</td>\n",
       "      <td>0.651275</td>\n",
       "      <td>0.663692</td>\n",
       "      <td>0.634136</td>\n",
       "      <td>0.545234</td>\n",
       "    </tr>\n",
       "    <tr>\n",
       "      <th>MRR</th>\n",
       "      <td>0.704501</td>\n",
       "      <td>0.697036</td>\n",
       "      <td>0.701981</td>\n",
       "      <td>0.681804</td>\n",
       "      <td>0.593101</td>\n",
       "    </tr>\n",
       "    <tr>\n",
       "      <th>AUC</th>\n",
       "      <td>0.827417</td>\n",
       "      <td>0.757246</td>\n",
       "      <td>0.828865</td>\n",
       "      <td>0.678551</td>\n",
       "      <td>0.636698</td>\n",
       "    </tr>\n",
       "  </tbody>\n",
       "</table>\n",
       "</div>"
      ],
      "text/plain": [
       "            PopRec     CLiMF    BRP_MP       iMF     TFMAP\n",
       "prec@5    0.530918  0.513151  0.530323  0.462531  0.262481\n",
       "1recal@5  0.943176  0.933499  0.937469  0.897022  0.746154\n",
       "NDCG@5    0.534166  0.517198  0.531936  0.475641  0.305572\n",
       "MAP@5     0.670363  0.651275  0.663692  0.634136  0.545234\n",
       "MRR       0.704501  0.697036  0.701981  0.681804  0.593101\n",
       "AUC       0.827417  0.757246  0.828865  0.678551  0.636698"
      ]
     },
     "execution_count": 76,
     "metadata": {},
     "output_type": "execute_result"
    }
   ],
   "source": [
    "climf_experiment(ml100k, create_list_cf(ml100k_shape), K=5, maxiter=5, topK=5,  verbose=0)"
   ]
  },
  {
   "cell_type": "code",
   "execution_count": 108,
   "metadata": {
    "collapsed": false
   },
   "outputs": [
    {
     "data": {
      "text/html": [
       "<div>\n",
       "<table border=\"1\" class=\"dataframe\">\n",
       "  <thead>\n",
       "    <tr style=\"text-align: right;\">\n",
       "      <th></th>\n",
       "      <th>PopRec</th>\n",
       "      <th>CLiMF</th>\n",
       "      <th>BRP_MP</th>\n",
       "      <th>iMF</th>\n",
       "      <th>TFMAP</th>\n",
       "    </tr>\n",
       "  </thead>\n",
       "  <tbody>\n",
       "    <tr>\n",
       "      <th>prec@5</th>\n",
       "      <td>0.513499</td>\n",
       "      <td>0.509628</td>\n",
       "      <td>0.505211</td>\n",
       "      <td>0.517469</td>\n",
       "      <td>0.442581</td>\n",
       "    </tr>\n",
       "    <tr>\n",
       "      <th>1recal@5</th>\n",
       "      <td>0.922581</td>\n",
       "      <td>0.918114</td>\n",
       "      <td>0.922084</td>\n",
       "      <td>0.923325</td>\n",
       "      <td>0.885608</td>\n",
       "    </tr>\n",
       "    <tr>\n",
       "      <th>NDCG@5</th>\n",
       "      <td>0.507787</td>\n",
       "      <td>0.504557</td>\n",
       "      <td>0.503772</td>\n",
       "      <td>0.530995</td>\n",
       "      <td>0.452206</td>\n",
       "    </tr>\n",
       "    <tr>\n",
       "      <th>MAP@5</th>\n",
       "      <td>0.635181</td>\n",
       "      <td>0.636478</td>\n",
       "      <td>0.639301</td>\n",
       "      <td>0.678191</td>\n",
       "      <td>0.609859</td>\n",
       "    </tr>\n",
       "    <tr>\n",
       "      <th>MRR</th>\n",
       "      <td>0.663062</td>\n",
       "      <td>0.661163</td>\n",
       "      <td>0.666583</td>\n",
       "      <td>0.727297</td>\n",
       "      <td>0.655431</td>\n",
       "    </tr>\n",
       "    <tr>\n",
       "      <th>AUC</th>\n",
       "      <td>0.846221</td>\n",
       "      <td>0.818456</td>\n",
       "      <td>0.846638</td>\n",
       "      <td>0.777433</td>\n",
       "      <td>0.721385</td>\n",
       "    </tr>\n",
       "  </tbody>\n",
       "</table>\n",
       "</div>"
      ],
      "text/plain": [
       "            PopRec     CLiMF    BRP_MP       iMF     TFMAP\n",
       "prec@5    0.513499  0.509628  0.505211  0.517469  0.442581\n",
       "1recal@5  0.922581  0.918114  0.922084  0.923325  0.885608\n",
       "NDCG@5    0.507787  0.504557  0.503772  0.530995  0.452206\n",
       "MAP@5     0.635181  0.636478  0.639301  0.678191  0.609859\n",
       "MRR       0.663062  0.661163  0.666583  0.727297  0.655431\n",
       "AUC       0.846221  0.818456  0.846638  0.777433  0.721385"
      ]
     },
     "execution_count": 108,
     "metadata": {},
     "output_type": "execute_result"
    }
   ],
   "source": [
    "climf_experiment(ml100k, create_list_cf(ml100k_shape), K=10, maxiter=5, topK=5,  verbose=0)"
   ]
  },
  {
   "cell_type": "code",
   "execution_count": 109,
   "metadata": {
    "collapsed": false
   },
   "outputs": [
    {
     "data": {
      "text/html": [
       "<div>\n",
       "<table border=\"1\" class=\"dataframe\">\n",
       "  <thead>\n",
       "    <tr style=\"text-align: right;\">\n",
       "      <th></th>\n",
       "      <th>PopRec</th>\n",
       "      <th>CLiMF</th>\n",
       "      <th>BRP_MP</th>\n",
       "      <th>iMF</th>\n",
       "      <th>TFMAP</th>\n",
       "    </tr>\n",
       "  </thead>\n",
       "  <tbody>\n",
       "    <tr>\n",
       "      <th>prec@5</th>\n",
       "      <td>0.484119</td>\n",
       "      <td>0.482184</td>\n",
       "      <td>0.473846</td>\n",
       "      <td>0.530720</td>\n",
       "      <td>0.473846</td>\n",
       "    </tr>\n",
       "    <tr>\n",
       "      <th>1recal@5</th>\n",
       "      <td>0.914640</td>\n",
       "      <td>0.914144</td>\n",
       "      <td>0.907444</td>\n",
       "      <td>0.929280</td>\n",
       "      <td>0.893797</td>\n",
       "    </tr>\n",
       "    <tr>\n",
       "      <th>NDCG@5</th>\n",
       "      <td>0.493463</td>\n",
       "      <td>0.495831</td>\n",
       "      <td>0.472595</td>\n",
       "      <td>0.536979</td>\n",
       "      <td>0.480281</td>\n",
       "    </tr>\n",
       "    <tr>\n",
       "      <th>MAP@5</th>\n",
       "      <td>0.649267</td>\n",
       "      <td>0.656846</td>\n",
       "      <td>0.611769</td>\n",
       "      <td>0.674191</td>\n",
       "      <td>0.621278</td>\n",
       "    </tr>\n",
       "    <tr>\n",
       "      <th>MRR</th>\n",
       "      <td>0.688521</td>\n",
       "      <td>0.698497</td>\n",
       "      <td>0.647435</td>\n",
       "      <td>0.713904</td>\n",
       "      <td>0.666023</td>\n",
       "    </tr>\n",
       "    <tr>\n",
       "      <th>AUC</th>\n",
       "      <td>0.853098</td>\n",
       "      <td>0.840584</td>\n",
       "      <td>0.853146</td>\n",
       "      <td>0.828562</td>\n",
       "      <td>0.763474</td>\n",
       "    </tr>\n",
       "  </tbody>\n",
       "</table>\n",
       "</div>"
      ],
      "text/plain": [
       "            PopRec     CLiMF    BRP_MP       iMF     TFMAP\n",
       "prec@5    0.484119  0.482184  0.473846  0.530720  0.473846\n",
       "1recal@5  0.914640  0.914144  0.907444  0.929280  0.893797\n",
       "NDCG@5    0.493463  0.495831  0.472595  0.536979  0.480281\n",
       "MAP@5     0.649267  0.656846  0.611769  0.674191  0.621278\n",
       "MRR       0.688521  0.698497  0.647435  0.713904  0.666023\n",
       "AUC       0.853098  0.840584  0.853146  0.828562  0.763474"
      ]
     },
     "execution_count": 109,
     "metadata": {},
     "output_type": "execute_result"
    }
   ],
   "source": [
    "climf_experiment(ml100k, create_list_cf(ml100k_shape), K=15, maxiter=5, topK=5,  verbose=0)"
   ]
  },
  {
   "cell_type": "code",
   "execution_count": 111,
   "metadata": {
    "collapsed": false
   },
   "outputs": [
    {
     "data": {
      "text/html": [
       "<div>\n",
       "<table border=\"1\" class=\"dataframe\">\n",
       "  <thead>\n",
       "    <tr style=\"text-align: right;\">\n",
       "      <th></th>\n",
       "      <th>PopRec</th>\n",
       "      <th>CLiMF</th>\n",
       "      <th>BRP_MP</th>\n",
       "      <th>iMF</th>\n",
       "      <th>TFMAP</th>\n",
       "    </tr>\n",
       "  </thead>\n",
       "  <tbody>\n",
       "    <tr>\n",
       "      <th>prec@5</th>\n",
       "      <td>0.480555</td>\n",
       "      <td>0.483583</td>\n",
       "      <td>0.479762</td>\n",
       "      <td>0.473995</td>\n",
       "      <td>0.413840</td>\n",
       "    </tr>\n",
       "    <tr>\n",
       "      <th>1recal@5</th>\n",
       "      <td>0.880519</td>\n",
       "      <td>0.870427</td>\n",
       "      <td>0.882682</td>\n",
       "      <td>0.870788</td>\n",
       "      <td>0.853848</td>\n",
       "    </tr>\n",
       "    <tr>\n",
       "      <th>NDCG@5</th>\n",
       "      <td>0.493571</td>\n",
       "      <td>0.495208</td>\n",
       "      <td>0.492313</td>\n",
       "      <td>0.485062</td>\n",
       "      <td>0.451584</td>\n",
       "    </tr>\n",
       "    <tr>\n",
       "      <th>MAP@5</th>\n",
       "      <td>0.648909</td>\n",
       "      <td>0.653467</td>\n",
       "      <td>0.648408</td>\n",
       "      <td>0.628551</td>\n",
       "      <td>0.662639</td>\n",
       "    </tr>\n",
       "    <tr>\n",
       "      <th>MRR</th>\n",
       "      <td>0.694116</td>\n",
       "      <td>0.691678</td>\n",
       "      <td>0.693038</td>\n",
       "      <td>0.672882</td>\n",
       "      <td>0.701911</td>\n",
       "    </tr>\n",
       "    <tr>\n",
       "      <th>AUC</th>\n",
       "      <td>0.850340</td>\n",
       "      <td>0.828613</td>\n",
       "      <td>0.848813</td>\n",
       "      <td>0.718570</td>\n",
       "      <td>0.747666</td>\n",
       "    </tr>\n",
       "  </tbody>\n",
       "</table>\n",
       "</div>"
      ],
      "text/plain": [
       "            PopRec     CLiMF    BRP_MP       iMF     TFMAP\n",
       "prec@5    0.480555  0.483583  0.479762  0.473995  0.413840\n",
       "1recal@5  0.880519  0.870427  0.882682  0.870788  0.853848\n",
       "NDCG@5    0.493571  0.495208  0.492313  0.485062  0.451584\n",
       "MAP@5     0.648909  0.653467  0.648408  0.628551  0.662639\n",
       "MRR       0.694116  0.691678  0.693038  0.672882  0.701911\n",
       "AUC       0.850340  0.828613  0.848813  0.718570  0.747666"
      ]
     },
     "execution_count": 111,
     "metadata": {},
     "output_type": "execute_result"
    }
   ],
   "source": [
    "climf_experiment(ml1m, create_list_cf(ml1m_shape), K=5, maxiter=1, topK=5, verbose=0)"
   ]
  },
  {
   "cell_type": "code",
   "execution_count": 107,
   "metadata": {
    "collapsed": false
   },
   "outputs": [
    {
     "data": {
      "text/html": [
       "<div>\n",
       "<table border=\"1\" class=\"dataframe\">\n",
       "  <thead>\n",
       "    <tr style=\"text-align: right;\">\n",
       "      <th></th>\n",
       "      <th>PopRec</th>\n",
       "      <th>CLiMF</th>\n",
       "      <th>BRP_MP</th>\n",
       "      <th>iMF</th>\n",
       "      <th>TFMAP</th>\n",
       "    </tr>\n",
       "  </thead>\n",
       "  <tbody>\n",
       "    <tr>\n",
       "      <th>prec@5</th>\n",
       "      <td>0.490395</td>\n",
       "      <td>0.490395</td>\n",
       "      <td>0.483583</td>\n",
       "      <td>0.573905</td>\n",
       "      <td>0.490611</td>\n",
       "    </tr>\n",
       "    <tr>\n",
       "      <th>1recal@5</th>\n",
       "      <td>0.861056</td>\n",
       "      <td>0.861056</td>\n",
       "      <td>0.847901</td>\n",
       "      <td>0.930258</td>\n",
       "      <td>0.858713</td>\n",
       "    </tr>\n",
       "    <tr>\n",
       "      <th>NDCG@5</th>\n",
       "      <td>0.501165</td>\n",
       "      <td>0.501165</td>\n",
       "      <td>0.491860</td>\n",
       "      <td>0.583821</td>\n",
       "      <td>0.501419</td>\n",
       "    </tr>\n",
       "    <tr>\n",
       "      <th>MAP@5</th>\n",
       "      <td>0.655779</td>\n",
       "      <td>0.655779</td>\n",
       "      <td>0.615115</td>\n",
       "      <td>0.708827</td>\n",
       "      <td>0.659461</td>\n",
       "    </tr>\n",
       "    <tr>\n",
       "      <th>MRR</th>\n",
       "      <td>0.690318</td>\n",
       "      <td>0.690345</td>\n",
       "      <td>0.659755</td>\n",
       "      <td>0.753014</td>\n",
       "      <td>0.689735</td>\n",
       "    </tr>\n",
       "    <tr>\n",
       "      <th>AUC</th>\n",
       "      <td>0.856129</td>\n",
       "      <td>0.851473</td>\n",
       "      <td>0.855643</td>\n",
       "      <td>0.827976</td>\n",
       "      <td>0.804301</td>\n",
       "    </tr>\n",
       "  </tbody>\n",
       "</table>\n",
       "</div>"
      ],
      "text/plain": [
       "            PopRec     CLiMF    BRP_MP       iMF     TFMAP\n",
       "prec@5    0.490395  0.490395  0.483583  0.573905  0.490611\n",
       "1recal@5  0.861056  0.861056  0.847901  0.930258  0.858713\n",
       "NDCG@5    0.501165  0.501165  0.491860  0.583821  0.501419\n",
       "MAP@5     0.655779  0.655779  0.615115  0.708827  0.659461\n",
       "MRR       0.690318  0.690345  0.659755  0.753014  0.689735\n",
       "AUC       0.856129  0.851473  0.855643  0.827976  0.804301"
      ]
     },
     "execution_count": 107,
     "metadata": {},
     "output_type": "execute_result"
    }
   ],
   "source": [
    "climf_experiment(ml1m, create_list_cf(ml1m_shape), K=10, maxiter=1, topK=5, verbose=0)"
   ]
  },
  {
   "cell_type": "code",
   "execution_count": null,
   "metadata": {
    "collapsed": false
   },
   "outputs": [],
   "source": [
    "for i in range(5, 16, 5):\n",
    "    res = climf_experiment(epinion, create_list_cf(epinion_shape), K = i, topK=5)\n",
    "    with open( respath + '_climfexperiment_' + 'epinion' + str(i) +'.pickle', 'wb') as f:\n",
    "        pickle.dump(res, f)\n",
    "    print(res)\n",
    "    sys.stdout.flush()"
   ]
  },
  {
   "cell_type": "code",
   "execution_count": null,
   "metadata": {
    "collapsed": false
   },
   "outputs": [],
   "source": [
    "for i in range(5, 16, 5):\n",
    "    res = climf_experiment(slashdot, create_list_cf(slashdot_shape),K = i, topK=5)\n",
    "    with open( respath + '_climfexperiment_' + 'slashdot' + str(i) +'.pickle', 'wb') as f:\n",
    "        pickle.dump(res, f)\n",
    "    print(res)\n",
    "    sys.stdout.flush()"
   ]
  },
  {
   "cell_type": "code",
   "execution_count": null,
   "metadata": {
    "collapsed": false,
    "scrolled": true
   },
   "outputs": [],
   "source": [
    "# for i in range(5, 21, 5):\n",
    "#     with open('climf_res' + str(i) +'.pickle', 'rb') as f:\n",
    "#         tbl = pickle.load(f)\n",
    "#     print('---------')\n",
    "#     print('K =', i)\n",
    "#     show_smart_table(tbl)\n",
    "#     with open('climf_res_top' + str(i) + '.pickle', 'rb') as f:\n",
    "#         tbl = pickle.load(f)\n",
    "#     print('---------')\n",
    "#     print('K =', i, 'without top')\n",
    "#     show_smart_table(tbl)"
   ]
  },
  {
   "cell_type": "markdown",
   "metadata": {},
   "source": [
    "### Сравнение работы методов(на наборе данных epinion). В данный момент мне кажется, что данныйэксперимент не совсем коректен"
   ]
  },
  {
   "cell_type": "code",
   "execution_count": null,
   "metadata": {
    "collapsed": true
   },
   "outputs": [],
   "source": [
    "import rankensemble"
   ]
  },
  {
   "cell_type": "code",
   "execution_count": 57,
   "metadata": {
    "collapsed": false
   },
   "outputs": [],
   "source": [
    "ens = rankensemble.ensemble(list_cf, verbose=1)"
   ]
  },
  {
   "cell_type": "code",
   "execution_count": null,
   "metadata": {
    "collapsed": true
   },
   "outputs": [],
   "source": [
    "train, test, traintest = givenK_train_test(data, 5)"
   ]
  },
  {
   "cell_type": "code",
   "execution_count": 58,
   "metadata": {
    "collapsed": false
   },
   "outputs": [
    {
     "name": "stdout",
     "output_type": "stream",
     "text": [
      "iteration 0\n",
      "iteration 1\n",
      "iteration 2\n",
      "iteration 3\n",
      "iteration 4\n"
     ]
    }
   ],
   "source": [
    "ens.fit(train)"
   ]
  },
  {
   "cell_type": "code",
   "execution_count": 88,
   "metadata": {
    "collapsed": false
   },
   "outputs": [
    {
     "data": {
      "text/plain": [
       "array([[ 0.        ,  0.80068104,  0.99350738,  0.15718502,  0.96286039],\n",
       "       [ 0.80068104,  0.        ,  0.80485812,  0.15582293,  0.80190692],\n",
       "       [ 0.99350738,  0.80485812,  0.        ,  0.15741203,  0.95750284],\n",
       "       [ 0.15718502,  0.15582293,  0.15741203,  0.        ,  0.15723042],\n",
       "       [ 0.96286039,  0.80190692,  0.95750284,  0.15723042,  0.        ]])"
      ]
     },
     "execution_count": 88,
     "metadata": {},
     "output_type": "execute_result"
    }
   ],
   "source": [
    "mean_matrix_similar(ens, topK=5)"
   ]
  },
  {
   "cell_type": "code",
   "execution_count": 89,
   "metadata": {
    "collapsed": false
   },
   "outputs": [
    {
     "data": {
      "text/plain": [
       "array([[ 0.        ,  0.90338252,  0.99920545,  0.18208854,  0.64785471],\n",
       "       [ 0.90338252,  0.        ,  0.9030874 ,  0.18256527,  0.67334847],\n",
       "       [ 0.99920545,  0.9030874 ,  0.        ,  0.18213394,  0.64735528],\n",
       "       [ 0.18208854,  0.18256527,  0.18213394,  0.        ,  0.17053348],\n",
       "       [ 0.64785471,  0.67334847,  0.64735528,  0.17053348,  0.        ]])"
      ]
     },
     "execution_count": 89,
     "metadata": {},
     "output_type": "execute_result"
    }
   ],
   "source": [
    "mean_matrix_similar(ens, topK=10)"
   ]
  },
  {
   "cell_type": "markdown",
   "metadata": {},
   "source": [
    "### Построение ансамбля"
   ]
  },
  {
   "cell_type": "code",
   "execution_count": 118,
   "metadata": {
    "collapsed": false
   },
   "outputs": [],
   "source": [
    "import rankensemble"
   ]
  },
  {
   "cell_type": "code",
   "execution_count": 156,
   "metadata": {
    "collapsed": true
   },
   "outputs": [],
   "source": [
    "def ensemble_experiment(data, list_cf, list_ensemble, K=5, maxiter=1, topK=5, verbose=0):\n",
    "    res = np.zeros((4, len(list_cf) + len(list_ensemble)))\n",
    "    for t in range(maxiter):\n",
    "        train, test, traintest = givenK_train_test(data, K)\n",
    "        for i in range(len(list_cf)):\n",
    "            list_cf[i].fit(train)\n",
    "            prec_k, one_recal_k, ngdc, mp = rankingmeasure.get_Kmetrics(train, test, list_cf[i], K=topK)\n",
    "            res[:, i] += np.array([prec_k, one_recal_k, ngdc, mp])\n",
    "            if verbose == 1:\n",
    "                print(t, i, res[:, i] / (t + 1))\n",
    "                sys.stdout.flush()\n",
    "            \n",
    "        for j, ens in enumerate(list_ensemble):\n",
    "            m = j + len(list_cf)\n",
    "            ens.fit(list_cf)\n",
    "            prec_k, one_recal_k, ngdc, mp = rankingmeasure.get_Kmetrics(train, test, ens, K=topK)\n",
    "            res[:, m] += np.array([prec_k, one_recal_k, ngdc, mp])\n",
    "            if verbose == 1:\n",
    "                print(t, m, res[:, m] / (t +1))\n",
    "        \n",
    "    res /= maxiter\n",
    "    res = pd.DataFrame(res)\n",
    "    res.columns = ['PopRec', 'CLiMF', 'BRP_MP', 'iMF', 'TFMAP', 'top_ensemble', 'rating_ensamble']\n",
    "    res.index = ['prec@' + str(topK),'1recal@' + str(topK), 'NDCG@' + str(topK), \n",
    "               'MAP@' + str(topK)]\n",
    "    return res"
   ]
  },
  {
   "cell_type": "code",
   "execution_count": 126,
   "metadata": {
    "collapsed": false
   },
   "outputs": [],
   "source": [
    "list_ensemble = [\n",
    "    rankensemble.top_ensemble(topK=100),\n",
    "    rankensemble.rating_ensemble()\n",
    "]"
   ]
  },
  {
   "cell_type": "code",
   "execution_count": 157,
   "metadata": {
    "collapsed": false
   },
   "outputs": [
    {
     "name": "stdout",
     "output_type": "stream",
     "text": [
      "0 0 [ 0.54168734  0.9516129   0.56554854  0.73091915]\n",
      "0 1 [ 0.53523573  0.94789082  0.56062876  0.72182417]\n",
      "0 2 [ 0.53002481  0.94665012  0.54791251  0.71001344]\n",
      "0 3 [ 0.47047146  0.9057072   0.48534118  0.64311759]\n",
      "0 4 [ 0.28684864  0.80645161  0.35644954  0.6578698 ]\n",
      "0 5 [ 0.49181141  0.94665012  0.52469951  0.71084746]\n",
      "0 6 [ 0.51960298  0.95409429  0.55077109  0.73050041]\n"
     ]
    },
    {
     "data": {
      "text/html": [
       "<div>\n",
       "<table border=\"1\" class=\"dataframe\">\n",
       "  <thead>\n",
       "    <tr style=\"text-align: right;\">\n",
       "      <th></th>\n",
       "      <th>PopRec</th>\n",
       "      <th>CLiMF</th>\n",
       "      <th>BRP_MP</th>\n",
       "      <th>iMF</th>\n",
       "      <th>TFMAP</th>\n",
       "      <th>top_ensemble</th>\n",
       "      <th>rating_ensamble</th>\n",
       "    </tr>\n",
       "  </thead>\n",
       "  <tbody>\n",
       "    <tr>\n",
       "      <th>prec@5</th>\n",
       "      <td>0.541687</td>\n",
       "      <td>0.535236</td>\n",
       "      <td>0.530025</td>\n",
       "      <td>0.470471</td>\n",
       "      <td>0.286849</td>\n",
       "      <td>0.491811</td>\n",
       "      <td>0.519603</td>\n",
       "    </tr>\n",
       "    <tr>\n",
       "      <th>1recal@5</th>\n",
       "      <td>0.951613</td>\n",
       "      <td>0.947891</td>\n",
       "      <td>0.946650</td>\n",
       "      <td>0.905707</td>\n",
       "      <td>0.806452</td>\n",
       "      <td>0.946650</td>\n",
       "      <td>0.954094</td>\n",
       "    </tr>\n",
       "    <tr>\n",
       "      <th>NDCG@5</th>\n",
       "      <td>0.565549</td>\n",
       "      <td>0.560629</td>\n",
       "      <td>0.547913</td>\n",
       "      <td>0.485341</td>\n",
       "      <td>0.356450</td>\n",
       "      <td>0.524700</td>\n",
       "      <td>0.550771</td>\n",
       "    </tr>\n",
       "    <tr>\n",
       "      <th>MAP@5</th>\n",
       "      <td>0.730919</td>\n",
       "      <td>0.721824</td>\n",
       "      <td>0.710013</td>\n",
       "      <td>0.643118</td>\n",
       "      <td>0.657870</td>\n",
       "      <td>0.710847</td>\n",
       "      <td>0.730500</td>\n",
       "    </tr>\n",
       "  </tbody>\n",
       "</table>\n",
       "</div>"
      ],
      "text/plain": [
       "            PopRec     CLiMF    BRP_MP       iMF     TFMAP  top_ensemble  \\\n",
       "prec@5    0.541687  0.535236  0.530025  0.470471  0.286849      0.491811   \n",
       "1recal@5  0.951613  0.947891  0.946650  0.905707  0.806452      0.946650   \n",
       "NDCG@5    0.565549  0.560629  0.547913  0.485341  0.356450      0.524700   \n",
       "MAP@5     0.730919  0.721824  0.710013  0.643118  0.657870      0.710847   \n",
       "\n",
       "          rating_ensamble  \n",
       "prec@5           0.519603  \n",
       "1recal@5         0.954094  \n",
       "NDCG@5           0.550771  \n",
       "MAP@5            0.730500  "
      ]
     },
     "execution_count": 157,
     "metadata": {},
     "output_type": "execute_result"
    }
   ],
   "source": [
    "ensemble_experiment(ml100k, create_list_cf(ml100k_shape), list_ensemble, K=5, maxiter=1, topK=5, verbose=1)"
   ]
  },
  {
   "cell_type": "code",
   "execution_count": 162,
   "metadata": {
    "collapsed": false
   },
   "outputs": [
    {
     "data": {
      "text/html": [
       "<div>\n",
       "<table border=\"1\" class=\"dataframe\">\n",
       "  <thead>\n",
       "    <tr style=\"text-align: right;\">\n",
       "      <th></th>\n",
       "      <th>PopRec</th>\n",
       "      <th>CLiMF</th>\n",
       "      <th>BRP_MP</th>\n",
       "      <th>iMF</th>\n",
       "      <th>TFMAP</th>\n",
       "      <th>top_ensemble</th>\n",
       "      <th>rating_ensamble</th>\n",
       "    </tr>\n",
       "  </thead>\n",
       "  <tbody>\n",
       "    <tr>\n",
       "      <th>prec@5</th>\n",
       "      <td>0.531216</td>\n",
       "      <td>0.494541</td>\n",
       "      <td>0.530174</td>\n",
       "      <td>0.473449</td>\n",
       "      <td>0.175831</td>\n",
       "      <td>0.424814</td>\n",
       "      <td>0.471861</td>\n",
       "    </tr>\n",
       "    <tr>\n",
       "      <th>1recal@5</th>\n",
       "      <td>0.937717</td>\n",
       "      <td>0.933251</td>\n",
       "      <td>0.936973</td>\n",
       "      <td>0.900744</td>\n",
       "      <td>0.595037</td>\n",
       "      <td>0.892308</td>\n",
       "      <td>0.920596</td>\n",
       "    </tr>\n",
       "    <tr>\n",
       "      <th>NDCG@5</th>\n",
       "      <td>0.529777</td>\n",
       "      <td>0.504456</td>\n",
       "      <td>0.528797</td>\n",
       "      <td>0.487309</td>\n",
       "      <td>0.205168</td>\n",
       "      <td>0.437663</td>\n",
       "      <td>0.486816</td>\n",
       "    </tr>\n",
       "    <tr>\n",
       "      <th>MAP@5</th>\n",
       "      <td>0.661718</td>\n",
       "      <td>0.658123</td>\n",
       "      <td>0.663150</td>\n",
       "      <td>0.642809</td>\n",
       "      <td>0.400903</td>\n",
       "      <td>0.602600</td>\n",
       "      <td>0.651020</td>\n",
       "    </tr>\n",
       "  </tbody>\n",
       "</table>\n",
       "</div>"
      ],
      "text/plain": [
       "            PopRec     CLiMF    BRP_MP       iMF     TFMAP  top_ensemble  \\\n",
       "prec@5    0.531216  0.494541  0.530174  0.473449  0.175831      0.424814   \n",
       "1recal@5  0.937717  0.933251  0.936973  0.900744  0.595037      0.892308   \n",
       "NDCG@5    0.529777  0.504456  0.528797  0.487309  0.205168      0.437663   \n",
       "MAP@5     0.661718  0.658123  0.663150  0.642809  0.400903      0.602600   \n",
       "\n",
       "          rating_ensamble  \n",
       "prec@5           0.471861  \n",
       "1recal@5         0.920596  \n",
       "NDCG@5           0.486816  \n",
       "MAP@5            0.651020  "
      ]
     },
     "execution_count": 162,
     "metadata": {},
     "output_type": "execute_result"
    }
   ],
   "source": [
    "ensemble_experiment(ml100k, create_list_cf(ml100k_shape), list_ensemble, K=5, maxiter=5, topK=5, verbose=0)"
   ]
  },
  {
   "cell_type": "code",
   "execution_count": 134,
   "metadata": {
    "collapsed": false
   },
   "outputs": [
    {
     "data": {
      "text/html": [
       "<div>\n",
       "<table border=\"1\" class=\"dataframe\">\n",
       "  <thead>\n",
       "    <tr style=\"text-align: right;\">\n",
       "      <th></th>\n",
       "      <th>PopRec</th>\n",
       "      <th>CLiMF</th>\n",
       "      <th>BRP_MP</th>\n",
       "      <th>iMF</th>\n",
       "      <th>TFMAP</th>\n",
       "      <th>top_ensemble</th>\n",
       "      <th>rating_ensamble</th>\n",
       "    </tr>\n",
       "  </thead>\n",
       "  <tbody>\n",
       "    <tr>\n",
       "      <th>prec@5</th>\n",
       "      <td>0.200772</td>\n",
       "      <td>0.200817</td>\n",
       "      <td>0.200863</td>\n",
       "      <td>0.185108</td>\n",
       "      <td>0.173984</td>\n",
       "      <td>0.208445</td>\n",
       "      <td>0.208808</td>\n",
       "    </tr>\n",
       "    <tr>\n",
       "      <th>1recal@5</th>\n",
       "      <td>0.567537</td>\n",
       "      <td>0.567764</td>\n",
       "      <td>0.567991</td>\n",
       "      <td>0.547333</td>\n",
       "      <td>0.535074</td>\n",
       "      <td>0.607037</td>\n",
       "      <td>0.602951</td>\n",
       "    </tr>\n",
       "    <tr>\n",
       "      <th>NDCG@5</th>\n",
       "      <td>0.226087</td>\n",
       "      <td>0.225243</td>\n",
       "      <td>0.226201</td>\n",
       "      <td>0.194972</td>\n",
       "      <td>0.192173</td>\n",
       "      <td>0.229174</td>\n",
       "      <td>0.232720</td>\n",
       "    </tr>\n",
       "    <tr>\n",
       "      <th>MAP@5</th>\n",
       "      <td>0.393387</td>\n",
       "      <td>0.390337</td>\n",
       "      <td>0.393568</td>\n",
       "      <td>0.330410</td>\n",
       "      <td>0.345052</td>\n",
       "      <td>0.397119</td>\n",
       "      <td>0.403010</td>\n",
       "    </tr>\n",
       "  </tbody>\n",
       "</table>\n",
       "</div>"
      ],
      "text/plain": [
       "            PopRec     CLiMF    BRP_MP       iMF     TFMAP  top_ensemble  \\\n",
       "prec@5    0.200772  0.200817  0.200863  0.185108  0.173984      0.208445   \n",
       "1recal@5  0.567537  0.567764  0.567991  0.547333  0.535074      0.607037   \n",
       "NDCG@5    0.226087  0.225243  0.226201  0.194972  0.192173      0.229174   \n",
       "MAP@5     0.393387  0.390337  0.393568  0.330410  0.345052      0.397119   \n",
       "\n",
       "          rating_ensamble  \n",
       "prec@5           0.208808  \n",
       "1recal@5         0.602951  \n",
       "NDCG@5           0.232720  \n",
       "MAP@5            0.403010  "
      ]
     },
     "execution_count": 134,
     "metadata": {},
     "output_type": "execute_result"
    }
   ],
   "source": [
    "ensemble_experiment(epinion, create_list_cf(epinion_shape), list_ensemble, K=5, maxiter=1, topK=5, verbose=0)"
   ]
  },
  {
   "cell_type": "code",
   "execution_count": 133,
   "metadata": {
    "collapsed": false
   },
   "outputs": [
    {
     "name": "stdout",
     "output_type": "stream",
     "text": [
      "0 0 [ 0.18342792  0.51509648  0.20601151  0.3564737 ]\n",
      "0 1 [ 0.18410897  0.51577753  0.20671154  0.35824001]\n",
      "0 2 [ 0.18270148  0.51055619  0.20579179  0.35790989]\n",
      "0 3 [ 0.25357548  0.63813848  0.2618443   0.39858147]\n",
      "0 4 [ 0.17934166  0.5107832   0.20290152  0.3545671 ]\n",
      "0 5 [ 0.22860386  0.62860386  0.24676022  0.40783485]\n",
      "0 6 [ 0.21262202  0.60090806  0.22739217  0.3751586 ]\n"
     ]
    },
    {
     "data": {
      "text/html": [
       "<div>\n",
       "<table border=\"1\" class=\"dataframe\">\n",
       "  <thead>\n",
       "    <tr style=\"text-align: right;\">\n",
       "      <th></th>\n",
       "      <th>PopRec</th>\n",
       "      <th>CLiMF</th>\n",
       "      <th>BRP_MP</th>\n",
       "      <th>iMF</th>\n",
       "      <th>TFMAP</th>\n",
       "      <th>top_ensemble</th>\n",
       "      <th>rating_ensamble</th>\n",
       "    </tr>\n",
       "  </thead>\n",
       "  <tbody>\n",
       "    <tr>\n",
       "      <th>prec@5</th>\n",
       "      <td>0.183428</td>\n",
       "      <td>0.184109</td>\n",
       "      <td>0.182701</td>\n",
       "      <td>0.253575</td>\n",
       "      <td>0.179342</td>\n",
       "      <td>0.228604</td>\n",
       "      <td>0.212622</td>\n",
       "    </tr>\n",
       "    <tr>\n",
       "      <th>1recal@5</th>\n",
       "      <td>0.515096</td>\n",
       "      <td>0.515778</td>\n",
       "      <td>0.510556</td>\n",
       "      <td>0.638138</td>\n",
       "      <td>0.510783</td>\n",
       "      <td>0.628604</td>\n",
       "      <td>0.600908</td>\n",
       "    </tr>\n",
       "    <tr>\n",
       "      <th>NDCG@5</th>\n",
       "      <td>0.206012</td>\n",
       "      <td>0.206712</td>\n",
       "      <td>0.205792</td>\n",
       "      <td>0.261844</td>\n",
       "      <td>0.202902</td>\n",
       "      <td>0.246760</td>\n",
       "      <td>0.227392</td>\n",
       "    </tr>\n",
       "    <tr>\n",
       "      <th>MAP@5</th>\n",
       "      <td>0.356474</td>\n",
       "      <td>0.358240</td>\n",
       "      <td>0.357910</td>\n",
       "      <td>0.398581</td>\n",
       "      <td>0.354567</td>\n",
       "      <td>0.407835</td>\n",
       "      <td>0.375159</td>\n",
       "    </tr>\n",
       "  </tbody>\n",
       "</table>\n",
       "</div>"
      ],
      "text/plain": [
       "            PopRec     CLiMF    BRP_MP       iMF     TFMAP  top_ensemble  \\\n",
       "prec@5    0.183428  0.184109  0.182701  0.253575  0.179342      0.228604   \n",
       "1recal@5  0.515096  0.515778  0.510556  0.638138  0.510783      0.628604   \n",
       "NDCG@5    0.206012  0.206712  0.205792  0.261844  0.202902      0.246760   \n",
       "MAP@5     0.356474  0.358240  0.357910  0.398581  0.354567      0.407835   \n",
       "\n",
       "          rating_ensamble  \n",
       "prec@5           0.212622  \n",
       "1recal@5         0.600908  \n",
       "NDCG@5           0.227392  \n",
       "MAP@5            0.375159  "
      ]
     },
     "execution_count": 133,
     "metadata": {},
     "output_type": "execute_result"
    }
   ],
   "source": [
    "ensemble_experiment(epinion, create_list_cf(epinion_shape), list_ensemble, K=10, maxiter=1, topK=5, verbose=0)"
   ]
  },
  {
   "cell_type": "code",
   "execution_count": 136,
   "metadata": {
    "collapsed": false
   },
   "outputs": [
    {
     "data": {
      "text/plain": [
       "array([1, 4, 0, 3, 2])"
      ]
     },
     "execution_count": 136,
     "metadata": {},
     "output_type": "execute_result"
    }
   ],
   "source": [
    "np.random.choice(5, 5, replace=False)"
   ]
  },
  {
   "cell_type": "code",
   "execution_count": 150,
   "metadata": {
    "collapsed": false
   },
   "outputs": [
    {
     "name": "stdout",
     "output_type": "stream",
     "text": [
      "None [5, 1, 3, 2, 4]\n"
     ]
    }
   ],
   "source": [
    "import random\n",
    "a = [1,2,3,4,5]\n",
    "print(random.shuffle(a), a)"
   ]
  },
  {
   "cell_type": "markdown",
   "metadata": {},
   "source": [
    "## Старые не  красивые эксперименты"
   ]
  },
  {
   "cell_type": "markdown",
   "metadata": {},
   "source": [
    "### проверка работы ансамбля givenk = 5"
   ]
  },
  {
   "cell_type": "code",
   "execution_count": 34,
   "metadata": {
    "collapsed": false
   },
   "outputs": [
    {
     "data": {
      "text/plain": [
       "array([ 0.20889898,  0.59659478,  0.23334799,  0.40400019])"
      ]
     },
     "execution_count": 34,
     "metadata": {},
     "output_type": "execute_result"
    }
   ],
   "source": [
    "rankingmeasure.get_Kmetrics(train, test, top_ens, True, K = 5)"
   ]
  },
  {
   "cell_type": "code",
   "execution_count": 36,
   "metadata": {
    "collapsed": false
   },
   "outputs": [
    {
     "name": "stdout",
     "output_type": "stream",
     "text": [
      "[ 0.19704881  0.55913734  0.22254752  0.38464813]\n",
      "[ 0.1938252   0.56118048  0.22009766  0.38748802]\n",
      "[ 0.19523269  0.56072645  0.22107609  0.38591121]\n",
      "[ 0.17711691  0.52485812  0.18861426  0.32164586]\n",
      "[ 0.18719637  0.55323496  0.21465356  0.38445958]\n"
     ]
    }
   ],
   "source": [
    "for cf in top_ens.list_cf:\n",
    "    print(rankingmeasure.get_Kmetrics(train, test, cf, True, K = 5))"
   ]
  },
  {
   "cell_type": "code",
   "execution_count": 37,
   "metadata": {
    "collapsed": false
   },
   "outputs": [
    {
     "data": {
      "text/plain": [
       "array([ 0.17402951,  0.72122588,  0.20026969,  0.37375175])"
      ]
     },
     "execution_count": 37,
     "metadata": {},
     "output_type": "execute_result"
    }
   ],
   "source": [
    "rankingmeasure.get_Kmetrics(train, test, top_ens, True, K = 10)"
   ]
  },
  {
   "cell_type": "code",
   "execution_count": 38,
   "metadata": {
    "collapsed": false
   },
   "outputs": [
    {
     "name": "stdout",
     "output_type": "stream",
     "text": [
      "[ 0.16944381  0.68876277  0.19412473  0.35670129]\n",
      "[ 0.16989784  0.68944381  0.19419015  0.3561263 ]\n",
      "[ 0.16955732  0.69057889  0.19406199  0.35569465]\n",
      "[ 0.15768445  0.67309875  0.17098093  0.31099781]\n",
      "[ 0.15738933  0.65788876  0.18414103  0.35370021]\n"
     ]
    }
   ],
   "source": [
    "for cf in top_ens.list_cf:\n",
    "    print(rankingmeasure.get_Kmetrics(train, test, cf, True, K = 10))"
   ]
  },
  {
   "cell_type": "markdown",
   "metadata": {},
   "source": [
    "### проверка работы ансамбля givenk = 10 iMF слишком хорошо работает("
   ]
  },
  {
   "cell_type": "code",
   "execution_count": 59,
   "metadata": {
    "collapsed": false
   },
   "outputs": [
    {
     "data": {
      "text/plain": [
       "array([ 0.24281498,  0.676958  ,  0.26581623,  0.44658374])"
      ]
     },
     "execution_count": 59,
     "metadata": {},
     "output_type": "execute_result"
    }
   ],
   "source": [
    "rankingmeasure.get_Kmetrics(train, test, top_ens, True, K = 5)"
   ]
  },
  {
   "cell_type": "code",
   "execution_count": 60,
   "metadata": {
    "collapsed": false
   },
   "outputs": [
    {
     "name": "stdout",
     "output_type": "stream",
     "text": [
      "[ 0.18320091  0.53416572  0.20701312  0.36450404]\n",
      "[ 0.1815664   0.53870602  0.20560403  0.36648253]\n",
      "[ 0.18292849  0.53348468  0.20675077  0.36393303]\n",
      "[ 0.26115778  0.71577753  0.28306775  0.47061798]\n",
      "[ 0.17257662  0.51577753  0.19827725  0.35810853]\n"
     ]
    }
   ],
   "source": [
    "for cf in top_ens.list_cf:\n",
    "    print(rankingmeasure.get_Kmetrics(train, test, cf, True, K = 5))"
   ]
  },
  {
   "cell_type": "code",
   "execution_count": 44,
   "metadata": {
    "collapsed": false
   },
   "outputs": [
    {
     "name": "stdout",
     "output_type": "stream",
     "text": [
      "0.31627511978149414\n"
     ]
    }
   ],
   "source": [
    "import time\n",
    "t = time.time()\n",
    "a = top_ens.get_list(0, 4000)\n",
    "print(time.time() - t)"
   ]
  },
  {
   "cell_type": "code",
   "execution_count": 97,
   "metadata": {
    "collapsed": false
   },
   "outputs": [
    {
     "name": "stdout",
     "output_type": "stream",
     "text": [
      "[[ 0  1  2]\n",
      " [ 3  4  5]\n",
      " [ 6  7  8]\n",
      " [ 9 10 11]\n",
      " [12 13 14]\n",
      " [15 16 17]]\n",
      "[ 0  1  2  3  4  5  6  7  8  9 10 11 12 13 14 15 16 17]\n",
      "[ 0  3  6  9 12 15  1  4  7 10 13 16  2  5  8 11 14 17]\n"
     ]
    }
   ],
   "source": [
    "a =np.arange(6*3).reshape(6, 3)\n",
    "print(a)\n",
    "print(a.ravel())\n",
    "print(a.T.ravel())"
   ]
  },
  {
   "cell_type": "code",
   "execution_count": 57,
   "metadata": {
    "collapsed": false
   },
   "outputs": [
    {
     "name": "stdout",
     "output_type": "stream",
     "text": [
      "PopRec [  18  721 1042  674  143  118  711  136   34 1536]\n",
      "CLiMF [  18  674  721 1042 1536  118  143  711  136   34]\n",
      "BPR_MF [  18 1042  721  674  143  118 1536  136   34  711]\n",
      "iMF [497 362 378  43   1 379  10  12  79 125]\n",
      "TFMAP [  18  674 1042  721  711   28  143 3805   34   77]\n"
     ]
    }
   ],
   "source": [
    "ansamble.show_all_ulist(5, 10)"
   ]
  },
  {
   "cell_type": "code",
   "execution_count": 119,
   "metadata": {
    "collapsed": false
   },
   "outputs": [],
   "source": [
    "import copy\n",
    "import sys\n",
    "class rating_ensemble:\n",
    "    def __init__(self, list_cf, weights = None, verbose=0):\n",
    "        self.list_cf = copy.deepcopy(list_cf)\n",
    "        self.verbose = verbose\n",
    "        if weights is None:\n",
    "            self.weights = np.ones(len(list_cf))/len(list_cf)\n",
    "        else:\n",
    "            assert(weights.shape[0] == len(list_cf))\n",
    "            self.weights = weights\n",
    "        self.N_items = self.list_cf[1].N_items\n",
    "        self.N_methods = len(self.list_cf)\n",
    "        #self.index = np.arange(self.N_items)[::-1] + 1\n",
    "        self.index = np.exp(-0.5 * np.arange(self.N_items))\n",
    "        \n",
    "    def get_list(self, u):\n",
    "        res = np.zeros(self.N_items)\n",
    "        for i in range(self.N_methods):\n",
    "            ranks = self.list_cf[i].get_list(u)\n",
    "            res[ranks] += self.weights[i] * self.index \n",
    "        return np.argsort(-res)\n",
    "    "
   ]
  },
  {
   "cell_type": "markdown",
   "metadata": {},
   "source": [
    "### givenK = 5"
   ]
  },
  {
   "cell_type": "code",
   "execution_count": 95,
   "metadata": {
    "collapsed": true
   },
   "outputs": [],
   "source": [
    "train5, test5, traintest5 = givenK_train_test(epinion, 5)"
   ]
  },
  {
   "cell_type": "code",
   "execution_count": 97,
   "metadata": {
    "collapsed": false
   },
   "outputs": [
    {
     "name": "stdout",
     "output_type": "stream",
     "text": [
      "iteration 0\n",
      "iteration 1\n",
      "iteration 2\n",
      "iteration 3\n",
      "iteration 4\n"
     ]
    }
   ],
   "source": [
    "ens5 = ensemble(list_cf, verbose=1)\n",
    "ens5.fit(train5)"
   ]
  },
  {
   "cell_type": "code",
   "execution_count": 98,
   "metadata": {
    "collapsed": false
   },
   "outputs": [],
   "source": [
    "rating_ens = rating_ensemble(ens5.list_cf)"
   ]
  },
  {
   "cell_type": "code",
   "execution_count": 102,
   "metadata": {
    "collapsed": false
   },
   "outputs": [
    {
     "data": {
      "text/plain": [
       "array([ 0.20340522,  0.57207719,  0.21539089,  0.35614769])"
      ]
     },
     "execution_count": 102,
     "metadata": {},
     "output_type": "execute_result"
    }
   ],
   "source": [
    "rankingmeasure.get_Kmetrics(train5, test5, rating_ens, True, K = 5)"
   ]
  },
  {
   "cell_type": "code",
   "execution_count": 103,
   "metadata": {
    "collapsed": false
   },
   "outputs": [
    {
     "name": "stdout",
     "output_type": "stream",
     "text": [
      "[ 0.19723042  0.5523269   0.22281641  0.38555146]\n",
      "[ 0.19673099  0.55005675  0.22215417  0.38491046]\n",
      "[ 0.1953689   0.55005675  0.22130483  0.38498266]\n",
      "[ 0.17734393  0.53461975  0.18653377  0.31993852]\n",
      "[ 0.18696935  0.54801362  0.21227095  0.37798714]\n"
     ]
    }
   ],
   "source": [
    "for cf in rating_ens.list_cf:\n",
    "    print(rankingmeasure.get_Kmetrics(train5, test5, cf, True, K = 5))"
   ]
  },
  {
   "cell_type": "code",
   "execution_count": 120,
   "metadata": {
    "collapsed": false
   },
   "outputs": [
    {
     "data": {
      "text/plain": [
       "array([ 0.20281498,  0.57707151,  0.22675051,  0.39048966])"
      ]
     },
     "execution_count": 120,
     "metadata": {},
     "output_type": "execute_result"
    }
   ],
   "source": [
    "rating_ens = rating_ensemble(ens5.list_cf)\n",
    "rankingmeasure.get_Kmetrics(train5, test5, rating_ens, True, K = 5)"
   ]
  },
  {
   "cell_type": "code",
   "execution_count": 117,
   "metadata": {
    "collapsed": false
   },
   "outputs": [
    {
     "data": {
      "text/plain": [
       "[<matplotlib.lines.Line2D at 0x7fac71c06550>]"
      ]
     },
     "execution_count": 117,
     "metadata": {},
     "output_type": "execute_result"
    },
    {
     "data": {
      "image/png": "[encoded data removed]",
      "text/plain": [
       "<matplotlib.figure.Figure at 0x7fac71df0160>"
      ]
     },
     "metadata": {},
     "output_type": "display_data"
    }
   ],
   "source": [
    "plt.plot(np.exp(-0.5 * np.arange(10)))"
   ]
  },
  {
   "cell_type": "code",
   "execution_count": 64,
   "metadata": {
    "collapsed": true
   },
   "outputs": [],
   "source": [
    "for cf in top_ens.list_cf:\n",
    "    print(rankingmeasure.get_Kmetrics(train, test, cf, True, K = 5))"
   ]
  },
  {
   "cell_type": "code",
   "execution_count": 65,
   "metadata": {
    "collapsed": false
   },
   "outputs": [
    {
     "data": {
      "text/plain": [
       "array([4, 4, 2, 2, 8, 7, 1, 2, 0, 6])"
      ]
     },
     "execution_count": 65,
     "metadata": {},
     "output_type": "execute_result"
    }
   ],
   "source": [
    "a"
   ]
  },
  {
   "cell_type": "code",
   "execution_count": 67,
   "metadata": {
    "collapsed": false
   },
   "outputs": [
    {
     "data": {
      "text/plain": [
       "array([4, 5, 9, 0, 1, 2, 3, 7, 6, 8])"
      ]
     },
     "execution_count": 67,
     "metadata": {},
     "output_type": "execute_result"
    }
   ],
   "source": [
    "np.argsort(-a)"
   ]
  },
  {
   "cell_type": "code",
   "execution_count": null,
   "metadata": {
    "collapsed": true
   },
   "outputs": [],
   "source": [
    "np.argosrt()"
   ]
  },
  {
   "cell_type": "code",
   "execution_count": 61,
   "metadata": {
    "collapsed": true
   },
   "outputs": [],
   "source": [
    "a = None"
   ]
  },
  {
   "cell_type": "code",
   "execution_count": 63,
   "metadata": {
    "collapsed": false
   },
   "outputs": [
    {
     "name": "stdout",
     "output_type": "stream",
     "text": [
      "ywe\n"
     ]
    }
   ],
   "source": [
    "if a is None:\n",
    "    print(\"ywe\")"
   ]
  },
  {
   "cell_type": "markdown",
   "metadata": {},
   "source": [
    "# Slashdot data set"
   ]
  },
  {
   "cell_type": "code",
   "execution_count": 127,
   "metadata": {
    "collapsed": false
   },
   "outputs": [],
   "source": [
    "data = pd.read_csv(\"../datasets/Slashdot0811.txt\", sep='\\t', header=4)\n",
    "data = data.as_matrix()"
   ]
  },
  {
   "cell_type": "code",
   "execution_count": 128,
   "metadata": {
    "collapsed": false
   },
   "outputs": [
    {
     "data": {
      "text/plain": [
       "(905467, 2)"
      ]
     },
     "execution_count": 128,
     "metadata": {},
     "output_type": "execute_result"
    }
   ],
   "source": [
    "data.shape"
   ]
  },
  {
   "cell_type": "code",
   "execution_count": 129,
   "metadata": {
    "collapsed": true
   },
   "outputs": [],
   "source": [
    "slashdot, user_item = make_valid_data(data)"
   ]
  },
  {
   "cell_type": "code",
   "execution_count": 155,
   "metadata": {
    "collapsed": true
   },
   "outputs": [],
   "source": [
    "list_cf = [\n",
    "    rankingmethod.PopRec(user_item),\n",
    "    rankingmethod.CLiMF(user_item, K=10, reg=0.001, lrate=0.01, verbose=0, maxiter=10),\n",
    "    rankingmethod.BPR_MF(user_item, K = 20, lrate=0.001, regIpos=0.1, \n",
    "                              regIneg=0.1, regU=0.1, maxiter=30, verbose=0 ),\n",
    "    rankingmethod.iMF(user_item, K=10, lmbd=0.01, alpha=40, maxiter=30, verbose=0),\n",
    "    rankingmethod.TFMAP(user_item, reg=0.001, lrate=0.01, maxiter=12)\n",
    "    \n",
    "]\n",
    "\n",
    "list_measure = [\n",
    "    rankingmeasure.get_prec_K,\n",
    "    rankingmeasure.get_one_recal_K,\n",
    "    rankingmeasure.get_MRR,\n",
    "    rankingmeasure.get_AUC,\n",
    "    rankingmeasure.get_NDCG,\n",
    "    rankingmeasure.get_MAP\n",
    "]"
   ]
  },
  {
   "cell_type": "code",
   "execution_count": 132,
   "metadata": {
    "collapsed": true
   },
   "outputs": [],
   "source": [
    "train, test, traintest = givenK_train_test(slashdot, 5)"
   ]
  },
  {
   "cell_type": "code",
   "execution_count": 133,
   "metadata": {
    "collapsed": false
   },
   "outputs": [
    {
     "name": "stdout",
     "output_type": "stream",
     "text": [
      "precK 0.122225400458\n",
      "1-call5 0.37528604118993136\n",
      "MRR 0.273406086512\n",
      "AUC 0.776325504811\n",
      "NGDC 0.131158605935\n",
      "MAP 0.227184043669\n"
     ]
    }
   ],
   "source": [
    "poprec = rankingmethod.PopRec(user_item_slash)\n",
    "poprec.fit(train)\n",
    "top = poprec.get_list(0)[:3]\n",
    "# all_measures(train, test, poprec, True, top)\n",
    "all_measures(train, test, poprec, True)"
   ]
  },
  {
   "cell_type": "markdown",
   "metadata": {},
   "source": [
    "### givenk = 5"
   ]
  },
  {
   "cell_type": "code",
   "execution_count": 138,
   "metadata": {
    "collapsed": true
   },
   "outputs": [],
   "source": [
    "slash_ens = ensemble(list_cf, verbose=1)"
   ]
  },
  {
   "cell_type": "code",
   "execution_count": 139,
   "metadata": {
    "collapsed": false
   },
   "outputs": [
    {
     "name": "stdout",
     "output_type": "stream",
     "text": [
      "iteration 0\n",
      "iteration 1\n",
      "iteration 2\n",
      "iteration 3\n",
      "iteration 4\n"
     ]
    }
   ],
   "source": [
    "slash_ens.fit(train)"
   ]
  },
  {
   "cell_type": "code",
   "execution_count": 140,
   "metadata": {
    "collapsed": false
   },
   "outputs": [
    {
     "name": "stdout",
     "output_type": "stream",
     "text": [
      "[ 0.1222254   0.37528604  0.13115861  0.22718404]\n",
      "[ 0.12233982  0.37585812  0.13122573  0.22734037]\n",
      "[ 0.12268307  0.37585812  0.1314579   0.227249  ]\n",
      "[ 0.10420481  0.33495423  0.10975777  0.19563589]\n",
      "[ 0.12062357  0.37628719  0.12923841  0.22546283]\n"
     ]
    }
   ],
   "source": [
    "for cf in slash_ens.list_cf:\n",
    "    print(rankingmeasure.get_Kmetrics(train, test, cf, True, K = 5))"
   ]
  },
  {
   "cell_type": "code",
   "execution_count": 141,
   "metadata": {
    "collapsed": true
   },
   "outputs": [],
   "source": [
    "top_ens = top_ensemble(slash_ens.list_cf, topK=100)"
   ]
  },
  {
   "cell_type": "code",
   "execution_count": 142,
   "metadata": {
    "collapsed": false
   },
   "outputs": [
    {
     "data": {
      "text/plain": [
       "array([ 0.12402746,  0.39487986,  0.13112244,  0.23042843])"
      ]
     },
     "execution_count": 142,
     "metadata": {},
     "output_type": "execute_result"
    }
   ],
   "source": [
    "rankingmeasure.get_Kmetrics(train, test, top_ens, True, K = 5)"
   ]
  },
  {
   "cell_type": "markdown",
   "metadata": {},
   "source": [
    "### givenk = 10"
   ]
  },
  {
   "cell_type": "code",
   "execution_count": 156,
   "metadata": {
    "collapsed": true
   },
   "outputs": [],
   "source": [
    "train, test, traintest = givenK_train_test(slashdot, 10)"
   ]
  },
  {
   "cell_type": "code",
   "execution_count": 157,
   "metadata": {
    "collapsed": false
   },
   "outputs": [
    {
     "name": "stdout",
     "output_type": "stream",
     "text": [
      "iteration 0\n",
      "iteration 1\n",
      "iteration 2\n",
      "iteration 3\n",
      "iteration 4\n"
     ]
    }
   ],
   "source": [
    "slash_ens = ensemble(list_cf, verbose=1)\n",
    "slash_ens.fit(train)"
   ]
  },
  {
   "cell_type": "code",
   "execution_count": 158,
   "metadata": {
    "collapsed": false
   },
   "outputs": [
    {
     "data": {
      "text/plain": [
       "array([ 0.10918192,  0.3506865 ,  0.11928689,  0.21512741])"
      ]
     },
     "execution_count": 158,
     "metadata": {},
     "output_type": "execute_result"
    }
   ],
   "source": [
    "poprec = rankingmethod.PopRec(user_item)\n",
    "poprec.fit(train)\n",
    "top = poprec.get_list(0)[:3]\n",
    "#all_measures(train, test, poprec, True, top)\n",
    "rankingmeasure.get_Kmetrics(train, test, poprec, True, K=5)"
   ]
  },
  {
   "cell_type": "code",
   "execution_count": 159,
   "metadata": {
    "collapsed": false
   },
   "outputs": [
    {
     "name": "stdout",
     "output_type": "stream",
     "text": [
      "[ 0.10918192  0.3506865   0.11928689  0.21512741]\n",
      "[ 0.10918192  0.3506865   0.11928689  0.21512741]\n",
      "[ 0.10943936  0.35054348  0.11506516  0.2026143 ]\n",
      "[ 0.13667048  0.40789474  0.14297494  0.24199681]\n",
      "[ 0.10918192  0.3506865   0.11928901  0.21513456]\n"
     ]
    }
   ],
   "source": [
    "for cf in slash_ens.list_cf:\n",
    "    print(rankingmeasure.get_Kmetrics(train, test, cf, True, K = 5))"
   ]
  },
  {
   "cell_type": "markdown",
   "metadata": {},
   "source": [
    "### Сравнение глазками"
   ]
  },
  {
   "cell_type": "code",
   "execution_count": 162,
   "metadata": {
    "collapsed": false
   },
   "outputs": [
    {
     "name": "stdout",
     "output_type": "stream",
     "text": [
      "PopRec\n",
      "[4668  394 2481  225 8848 4690 5043 3443  377  217 5390   34 2470 3444   46]\n",
      "CLiMF\n",
      "[4668  394 2481  225 8848 4690 5043 3443  377 5390   34  217 2470   46 2539]\n",
      "BPR_MF\n",
      "[ 394 2481 4668  225 8848  217 4690  377 5043 3443   46 5390 2470   34  403]\n",
      "iMF\n",
      "[2481 4668  143  151  205   15 4845   59 3369 3947 4979  186  400 5367 3083]\n",
      "TFMAP\n",
      "[4668  394 2481  225 8848 4690 5043 3443  377 3444  403  217 5390 5705 7450]\n"
     ]
    }
   ],
   "source": [
    "for cf in slash_ens.list_cf:\n",
    "    print(type(cf).__name__)\n",
    "    print(cf.get_list(0)[:15])"
   ]
  },
  {
   "cell_type": "code",
   "execution_count": 150,
   "metadata": {
    "collapsed": false
   },
   "outputs": [
    {
     "data": {
      "text/plain": [
       "array([ 0.15946796,  0.51001144,  0.16663805,  0.29156159])"
      ]
     },
     "execution_count": 150,
     "metadata": {},
     "output_type": "execute_result"
    }
   ],
   "source": [
    "rankingmeasure.get_Kmetrics(train, test, top_ens, True, K = 5)"
   ]
  },
  {
   "cell_type": "markdown",
   "metadata": {},
   "source": [
    "# старые эксперименты"
   ]
  },
  {
   "cell_type": "code",
   "execution_count": null,
   "metadata": {
    "collapsed": false
   },
   "outputs": [],
   "source": [
    "a = np.arange(10)\n",
    "b = a[1:4]\n",
    "print(a)\n",
    "print(b)\n",
    "b[2] = 100\n",
    "a[1] = -a[1]\n",
    "print(a)\n",
    "print(b)"
   ]
  },
  {
   "cell_type": "code",
   "execution_count": null,
   "metadata": {
    "collapsed": false
   },
   "outputs": [],
   "source": [
    "tmp = mmread(\"../datasets/epinions_original/EP25_UPL5_test.mtx\")\n",
    "test = np.array(list(zip(tmp.row, tmp.col)))\n",
    "tmp = mmread(\"../datasets/epinions_original/EP25_UPL5_train.mtx\")\n",
    "train = np.array(list(zip(tmp.row, tmp.col)))\n",
    "user_item = [max(np.max(test[:,0]), np.max(train[:, 0])) + 1, max(np.max(test[:,1]), np.max(train[:,1])) + 1]"
   ]
  },
  {
   "cell_type": "code",
   "execution_count": null,
   "metadata": {
    "collapsed": false
   },
   "outputs": [],
   "source": [
    "train = create_listarray(train)\n",
    "test  = create_listarray(test)"
   ]
  },
  {
   "cell_type": "code",
   "execution_count": null,
   "metadata": {
    "collapsed": true
   },
   "outputs": [],
   "source": [
    "create_csr(train, user_item, '../pyCLiMF-master/good_train.pickle')\n",
    "create_csr(test, user_item, '../pyCLiMF-master/good_test.pickle')"
   ]
  },
  {
   "cell_type": "code",
   "execution_count": null,
   "metadata": {
    "collapsed": false
   },
   "outputs": [],
   "source": [
    "randomrec = rankingmethod.RandomRec(user_item)\n",
    "randomrec.fit(train)\n",
    "all_measures(train, test, randomrec, False)"
   ]
  },
  {
   "cell_type": "code",
   "execution_count": null,
   "metadata": {
    "collapsed": false
   },
   "outputs": [],
   "source": [
    "poprec = rankingmethod.PopRec(user_item)\n",
    "poprec.fit(train)\n",
    "top = poprec.get_list(0)[:3]\n",
    "# all_measures(train, test, poprec, True, top)\n",
    "# all_measures(train, test, poprec, True)"
   ]
  },
  {
   "cell_type": "code",
   "execution_count": null,
   "metadata": {
    "collapsed": false
   },
   "outputs": [],
   "source": [
    "rankingmeasure.get_AUC(train, test, poprec, True, K=user_item[1])"
   ]
  },
  {
   "cell_type": "code",
   "execution_count": null,
   "metadata": {
    "collapsed": false
   },
   "outputs": [],
   "source": [
    "rankingmeasure.get_NDCG(train, test, poprec, True, K = 5)"
   ]
  },
  {
   "cell_type": "code",
   "execution_count": null,
   "metadata": {
    "collapsed": false
   },
   "outputs": [],
   "source": [
    "rankingmeasure.get_NDCG(train, test, poprec, True, K = 3)"
   ]
  },
  {
   "cell_type": "code",
   "execution_count": null,
   "metadata": {
    "collapsed": false
   },
   "outputs": [],
   "source": [
    "index_user = np.random.choice(len(train), 100, replace=False)\n"
   ]
  },
  {
   "cell_type": "code",
   "execution_count": null,
   "metadata": {
    "collapsed": false
   },
   "outputs": [],
   "source": [
    "orig_train = create_original_sample(train, index_user)\n",
    "orig_test = create_original_sample(test, index_user)"
   ]
  },
  {
   "cell_type": "code",
   "execution_count": null,
   "metadata": {
    "collapsed": false
   },
   "outputs": [],
   "source": [
    "climf = rankingmethod.CLiMF(user_item, lrate = 0.0001, reg=0.001, maxiter=15, verbose=2)\n",
    "climf.fit(train)"
   ]
  },
  {
   "cell_type": "code",
   "execution_count": null,
   "metadata": {
    "collapsed": false
   },
   "outputs": [],
   "source": [
    "rankingmeasure.get_MRR(train, test, climf, True)"
   ]
  },
  {
   "cell_type": "code",
   "execution_count": null,
   "metadata": {
    "collapsed": false
   },
   "outputs": [],
   "source": [
    "all_measures(train, test, climf, True, top)"
   ]
  },
  {
   "cell_type": "code",
   "execution_count": null,
   "metadata": {
    "collapsed": false
   },
   "outputs": [],
   "source": [
    "all_measures(train, test, climf, True)"
   ]
  },
  {
   "cell_type": "code",
   "execution_count": null,
   "metadata": {
    "collapsed": false
   },
   "outputs": [],
   "source": [
    "climf = rankingmethod.CLiMF(user_item, maxiter=40, lrate = 0.1, verbose=2)\n",
    "climf.fit(train)\n"
   ]
  },
  {
   "cell_type": "code",
   "execution_count": null,
   "metadata": {
    "collapsed": false
   },
   "outputs": [],
   "source": [
    "all_measures(train, test, climf, False)"
   ]
  },
  {
   "cell_type": "code",
   "execution_count": null,
   "metadata": {
    "collapsed": false
   },
   "outputs": [],
   "source": [
    "all_measures(train, test, climf, True, top)"
   ]
  },
  {
   "cell_type": "code",
   "execution_count": null,
   "metadata": {
    "collapsed": false
   },
   "outputs": [],
   "source": [
    "list_reg = [0.001, 0.002, 0.005, 0.0005]\n",
    "list_lrate = [0.05, 0.07, 0.1, 0.12, 0.15 ]\n",
    "list_K = [10, 12, 15, 7, 5]\n",
    "times_count = 3\n",
    "\n",
    "for K, lrate, reg in itertools.product(list_K, list_lrate, list_reg):\n",
    "    MRR = 0\n",
    "    \n",
    "    for t in range(times_count):\n",
    "        climf = rankingmethod.CLiMF(user_item,K=K, reg=reg, lrate=lrate, verbose=0, maxiter=50)\n",
    "        climf.fit(train)\n",
    "        MRR += rankingmeasure.get_MRR(train, test, climf, skip_train=False)\n",
    "    print(\"K\", K, \"lrate\", lrate, \"reg\", reg, \"MRR\", MRR/times_count)\n",
    "    sys.stdout.flush()"
   ]
  },
  {
   "cell_type": "code",
   "execution_count": null,
   "metadata": {
    "collapsed": false
   },
   "outputs": [],
   "source": [
    "bpr_mf = rankingmethod.BPR_MF(user_item, K = 20, lrate=0.001, regIpos=0.1, \n",
    "                              regIneg=0.1, regU=0.1, maxiter=30, verbose=2 )"
   ]
  },
  {
   "cell_type": "code",
   "execution_count": null,
   "metadata": {
    "collapsed": false
   },
   "outputs": [],
   "source": [
    "bpr_mf.fit(train)"
   ]
  },
  {
   "cell_type": "code",
   "execution_count": null,
   "metadata": {
    "collapsed": false
   },
   "outputs": [],
   "source": [
    "all_measures(train, test, bpr_mf, True)"
   ]
  },
  {
   "cell_type": "code",
   "execution_count": null,
   "metadata": {
    "collapsed": false
   },
   "outputs": [],
   "source": [
    "rankingmeasure.get_AUC(train, test, bpr_mf, True, K=user_item[1])"
   ]
  },
  {
   "cell_type": "code",
   "execution_count": null,
   "metadata": {
    "collapsed": false
   },
   "outputs": [],
   "source": [
    "rankingmeasure.get_NDCG(train, test, bpr_mf, True, K=5)"
   ]
  },
  {
   "cell_type": "code",
   "execution_count": null,
   "metadata": {
    "collapsed": true
   },
   "outputs": [],
   "source": [
    "imf = rankingmethod.iMF(user_item, K=20, lmbd=0.01, alpha=40, maxiter=30, verbose=2)"
   ]
  },
  {
   "cell_type": "code",
   "execution_count": null,
   "metadata": {
    "collapsed": false
   },
   "outputs": [],
   "source": [
    "imf.fit(train)"
   ]
  },
  {
   "cell_type": "code",
   "execution_count": null,
   "metadata": {
    "collapsed": false
   },
   "outputs": [],
   "source": [
    "all_measures(train, test, imf, True)"
   ]
  },
  {
   "cell_type": "code",
   "execution_count": null,
   "metadata": {
    "collapsed": false
   },
   "outputs": [],
   "source": [
    "all_measures(train, test, imf, True, top)"
   ]
  },
  {
   "cell_type": "code",
   "execution_count": null,
   "metadata": {
    "collapsed": false
   },
   "outputs": [],
   "source": [
    "all_measures(train, test, bpr_mf, True, top)"
   ]
  },
  {
   "cell_type": "code",
   "execution_count": null,
   "metadata": {
    "collapsed": false
   },
   "outputs": [],
   "source": [
    "all_measures(train, test, poprec, True)"
   ]
  },
  {
   "cell_type": "code",
   "execution_count": null,
   "metadata": {
    "collapsed": false
   },
   "outputs": [],
   "source": [
    "all_measures(train, test, poprec, True, top)"
   ]
  },
  {
   "cell_type": "code",
   "execution_count": null,
   "metadata": {
    "collapsed": false
   },
   "outputs": [],
   "source": [
    "from sklearn.metrics import roc_auc_score"
   ]
  },
  {
   "cell_type": "code",
   "execution_count": null,
   "metadata": {
    "collapsed": false
   },
   "outputs": [],
   "source": [
    "a = np.array([False,False, True, True])\n",
    "b = np.array([0,2,1,3])\n",
    "print(roc_auc_score(a, b, average=None))"
   ]
  },
  {
   "cell_type": "code",
   "execution_count": null,
   "metadata": {
    "collapsed": false
   },
   "outputs": [],
   "source": [
    "(a == True).any()"
   ]
  },
  {
   "cell_type": "code",
   "execution_count": null,
   "metadata": {
    "collapsed": false
   },
   "outputs": [],
   "source": [
    "import random"
   ]
  },
  {
   "cell_type": "code",
   "execution_count": null,
   "metadata": {
    "collapsed": false
   },
   "outputs": [],
   "source": [
    "random.sample(range(10), 3)"
   ]
  }
 ],
 "metadata": {
  "kernelspec": {
   "display_name": "Python 3",
   "language": "python",
   "name": "python3"
  },
  "language_info": {
   "codemirror_mode": {
    "name": "ipython",
    "version": 3
   },
   "file_extension": ".py",
   "mimetype": "text/x-python",
   "name": "python",
   "nbconvert_exporter": "python",
   "pygments_lexer": "ipython3",
   "version": "3.4.3"
  }
 },
 "nbformat": 4,
 "nbformat_minor": 0
}
