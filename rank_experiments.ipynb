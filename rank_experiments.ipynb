{
 "cells": [
  {
   "cell_type": "code",
   "execution_count": 111,
   "metadata": {
    "collapsed": false
   },
   "outputs": [],
   "source": [
    "import numpy as np\n",
    "import pandas as pd\n",
    "from scipy.io import loadmat, mmread\n",
    "import sys\n",
    "import itertools \n",
    "import pickle\n",
    "import matplotlib.pylab as plt\n",
    "import time"
   ]
  },
  {
   "cell_type": "code",
   "execution_count": 112,
   "metadata": {
    "collapsed": true
   },
   "outputs": [],
   "source": [
    "%matplotlib inline"
   ]
  },
  {
   "cell_type": "code",
   "execution_count": 113,
   "metadata": {
    "collapsed": false
   },
   "outputs": [],
   "source": [
    "import rankingmethod\n",
    "import rankingmeasure"
   ]
  },
  {
   "cell_type": "code",
   "execution_count": 114,
   "metadata": {
    "collapsed": false
   },
   "outputs": [
    {
     "name": "stdout",
     "output_type": "stream",
     "text": [
      "The autoreload extension is already loaded. To reload it, use:\n",
      "  %reload_ext autoreload\n"
     ]
    }
   ],
   "source": [
    "%load_ext autoreload\n",
    "%autoreload 2"
   ]
  },
  {
   "cell_type": "code",
   "execution_count": 115,
   "metadata": {
    "collapsed": true
   },
   "outputs": [],
   "source": [
    "from experiment import *"
   ]
  },
  {
   "cell_type": "markdown",
   "metadata": {},
   "source": [
    "# Epinion"
   ]
  },
  {
   "cell_type": "code",
   "execution_count": null,
   "metadata": {
    "collapsed": false
   },
   "outputs": [],
   "source": [
    "data = pd.read_csv(\"../datasets/soc-Epinions1.txt\", sep='\\t', header=4)\n",
    "data = data.as_matrix()"
   ]
  },
  {
   "cell_type": "code",
   "execution_count": null,
   "metadata": {
    "collapsed": false
   },
   "outputs": [],
   "source": [
    "data.shape"
   ]
  },
  {
   "cell_type": "code",
   "execution_count": null,
   "metadata": {
    "collapsed": true
   },
   "outputs": [],
   "source": [
    "#создание epinion удалив от туда пользователей, у которых количество отзывов меньше 25\n",
    "#Также проводится переиндексанция пользователей и предметов"
   ]
  },
  {
   "cell_type": "code",
   "execution_count": null,
   "metadata": {
    "collapsed": false
   },
   "outputs": [],
   "source": [
    "epinion, user_item = make_valid_data(data)"
   ]
  },
  {
   "cell_type": "code",
   "execution_count": null,
   "metadata": {
    "collapsed": false
   },
   "outputs": [],
   "source": [
    "train, test, traintest = givenK_train_test(epinion, 5)"
   ]
  },
  {
   "cell_type": "markdown",
   "metadata": {},
   "source": [
    "### изучение числа предметов у пользователей"
   ]
  },
  {
   "cell_type": "code",
   "execution_count": null,
   "metadata": {
    "collapsed": false
   },
   "outputs": [],
   "source": [
    "avr_len = 0\n",
    "max_len = 0\n",
    "for items in traintest:\n",
    "    avr_len += len(items)\n",
    "    max_len = max(len(items), max_len)\n",
    "avr_len /= len(traintest)\n",
    "print(avr_len)\n",
    "print(max_len)"
   ]
  },
  {
   "cell_type": "code",
   "execution_count": null,
   "metadata": {
    "collapsed": false
   },
   "outputs": [],
   "source": [
    "list_len = []\n",
    "for items in traintest:\n",
    "    list_len.append(len(items))\n",
    "list_len = np.array(list_len)"
   ]
  },
  {
   "cell_type": "code",
   "execution_count": null,
   "metadata": {
    "collapsed": false
   },
   "outputs": [],
   "source": [
    "np.sum(list_len > 1200)"
   ]
  },
  {
   "cell_type": "code",
   "execution_count": null,
   "metadata": {
    "collapsed": false
   },
   "outputs": [],
   "source": [
    "plt.hist(list_len, bins = 30)"
   ]
  },
  {
   "cell_type": "code",
   "execution_count": null,
   "metadata": {
    "collapsed": true
   },
   "outputs": [],
   "source": [
    "number_user_in_items = np.bincount(epinion[:, 1])"
   ]
  },
  {
   "cell_type": "code",
   "execution_count": null,
   "metadata": {
    "collapsed": false
   },
   "outputs": [],
   "source": [
    "plt.hist(np.bincount(epinion[:, 1]))"
   ]
  },
  {
   "cell_type": "markdown",
   "metadata": {},
   "source": [
    "### подбор параметров для отдельных алгоритмов"
   ]
  },
  {
   "cell_type": "code",
   "execution_count": 99,
   "metadata": {
    "collapsed": false
   },
   "outputs": [
    {
     "name": "stdout",
     "output_type": "stream",
     "text": [
      "precK 0.20113507378\n",
      "1-call5 0.5743473325766175\n",
      "MRR 0.4425874069367828\n",
      "AUC 0.830356545287\n",
      "NGDC 0.223636021272\n",
      "MAP 0.384312965065\n"
     ]
    }
   ],
   "source": [
    "poprec = rankingmethod.PopRec(user_item)\n",
    "poprec.fit(train)\n",
    "top = poprec.get_list(0)[:3]\n",
    "# all_measures(train, test, poprec, True, top)\n",
    "all_measures(train, test, poprec, True)"
   ]
  },
  {
   "cell_type": "code",
   "execution_count": null,
   "metadata": {
    "collapsed": true
   },
   "outputs": [],
   "source": [
    "###CLimf подбор параметров(не используя фичу авторов)"
   ]
  },
  {
   "cell_type": "code",
   "execution_count": null,
   "metadata": {
    "collapsed": false
   },
   "outputs": [],
   "source": [
    "list_reg = [0.001, 0.05, 0.01, 0.005 , 0.001]\n",
    "list_lrate = [0.01, 0.0001, 0.005, 0.01, 0.05, 0.1 ]\n",
    "list_K = [10, 5, 7, 12, 15]\n",
    "\n",
    "climf_validation = np.zeros((len(list_reg), len(list_lrate), len(list_K)))\n",
    "\n",
    "for i, K in enumerate(list_K):\n",
    "    for j, lrate in enumerate(list_lrate):\n",
    "        for m, reg in enumerate(list_reg):\n",
    "            climf = rankingmethod.CLiMF(user_item,K=K, reg=reg, lrate=lrate, verbose=0, maxiter=10)\n",
    "            climf.fit(train)\n",
    "            mrr = rankingmeasure.get_MRR(train, test, \n",
    "            climf, skip_train=False)\n",
    "            climf_validation[i,j,m] = mrr\n",
    "            print(K, lrate, reg, \"MRR\", mrr)\n",
    "            sys.stdout.flush()"
   ]
  },
  {
   "cell_type": "markdown",
   "metadata": {},
   "source": [
    "###проверка работы авторского решения"
   ]
  },
  {
   "cell_type": "code",
   "execution_count": null,
   "metadata": {
    "collapsed": false
   },
   "outputs": [],
   "source": [
    "create_csr(train, user_item, 'another_train.mtx')\n",
    "create_csr(test, user_item, 'another_test.mtx')"
   ]
  },
  {
   "cell_type": "markdown",
   "metadata": {},
   "source": [
    "###BPR_MF Подбор параметров"
   ]
  },
  {
   "cell_type": "code",
   "execution_count": null,
   "metadata": {
    "collapsed": false
   },
   "outputs": [],
   "source": [
    "list_reg = [0.01, 0.05, 0.1, 0.2]\n",
    "list_lrate = [0.0001, 0.001, 0.005]\n",
    "list_K = [10, 15,  20]\n",
    "\n",
    "bpr_mf_validation = np.zeros((len(list_K), len(list_lrate), len(list_reg)))\n",
    "\n",
    "for i, K in enumerate(list_K):\n",
    "    for j, lrate in enumerate(list_lrate):\n",
    "        for m, reg in enumerate(list_reg):\n",
    "            cf = rankingmethod.BPR_MF(user_item,K=K, regU=reg, regIpos=reg, regIneg=reg, \n",
    "                                      lrate=lrate, verbose=0, maxiter=30)\n",
    "            cf.fit(train)\n",
    "            res = rankingmeasure.get_AUC(train, test, cf)\n",
    "            bpr_mf_validation[i,j,m] = res\n",
    "            print(K, lrate, reg, \"AUC\", res)\n",
    "            sys.stdout.flush()"
   ]
  },
  {
   "cell_type": "code",
   "execution_count": null,
   "metadata": {
    "collapsed": true
   },
   "outputs": [],
   "source": [
    "with open('bpr_mf_validation.pickle', 'wb') as f:\n",
    "    f.dump(bpr_mf_validation, f)"
   ]
  },
  {
   "cell_type": "markdown",
   "metadata": {},
   "source": [
    "###iMF Подбор  параметров"
   ]
  },
  {
   "cell_type": "code",
   "execution_count": null,
   "metadata": {
    "collapsed": false
   },
   "outputs": [],
   "source": [
    "list_alpha = [10, 20, 40, 80]\n",
    "list_lmbd = [0.001, 0.01, 0.05, 0.1]\n",
    "list_K = [10, 15,  20]\n",
    "\n",
    "imf_validation = np.zeros((len(list_K), len(list_alpha), len(list_lmbd)))\n",
    "\n",
    "for i, K in enumerate(list_K):\n",
    "    for j, alpha in enumerate(list_alpha):\n",
    "        for m, lmbd in enumerate(list_lmbd):\n",
    "            cf = rankingmethod.iMF(user_item, K=K, lmbd=lmbd, alpha=alpha, maxiter=30, verbose=0)\n",
    "            cf.fit(train)\n",
    "            mrr = rankingmeasure.get_prec_K(train, test, cf)\n",
    "            imf_validation[i,j,m] = mrr\n",
    "            print(K, lrate, reg, \"prec\", mrr)\n",
    "            sys.stdout.flush()"
   ]
  },
  {
   "cell_type": "markdown",
   "metadata": {},
   "source": [
    "### TFMA"
   ]
  },
  {
   "cell_type": "code",
   "execution_count": 103,
   "metadata": {
    "collapsed": false
   },
   "outputs": [
    {
     "name": "stdout",
     "output_type": "stream",
     "text": [
      "iteration 0\n",
      "iteration 1\n",
      "iteration 2\n",
      "iteration 3\n",
      "iteration 4\n",
      "iteration 5\n",
      "iteration 6\n",
      "iteration 7\n",
      "iteration 8\n",
      "iteration 9\n",
      "iteration 10\n",
      "iteration 11\n"
     ]
    }
   ],
   "source": [
    "cf = rankingmethod.TFMAP(user_item, lrate=0.01, verbose = 1, maxiter=12)\n",
    "cf.fit(train)"
   ]
  },
  {
   "cell_type": "code",
   "execution_count": 102,
   "metadata": {
    "collapsed": false
   },
   "outputs": [
    {
     "name": "stdout",
     "output_type": "stream",
     "text": [
      "precK 0.180930760499\n",
      "1-call5 0.5402951191827469\n",
      "MRR 0.42529711390083835\n",
      "AUC 0.630444505232\n",
      "NGDC 0.207541948703\n",
      "MAP 0.373795875899\n"
     ]
    }
   ],
   "source": [
    "all_measures(train, test, cf)"
   ]
  },
  {
   "cell_type": "code",
   "execution_count": 105,
   "metadata": {
    "collapsed": false
   },
   "outputs": [
    {
     "data": {
      "text/plain": [
       "array([ 4405, 34777])"
      ]
     },
     "execution_count": 105,
     "metadata": {},
     "output_type": "execute_result"
    }
   ],
   "source": [
    "user_item"
   ]
  },
  {
   "cell_type": "markdown",
   "metadata": {},
   "source": [
    "### pureSVD"
   ]
  },
  {
   "cell_type": "code",
   "execution_count": 143,
   "metadata": {
    "collapsed": true
   },
   "outputs": [],
   "source": [
    "cf = rankingmethod.pureSVD(user_item,  rate_neg_sample=1000.0, verbose=1)\n"
   ]
  },
  {
   "cell_type": "code",
   "execution_count": null,
   "metadata": {
    "collapsed": false
   },
   "outputs": [],
   "source": [
    "cf.fit(train)"
   ]
  },
  {
   "cell_type": "code",
   "execution_count": 142,
   "metadata": {
    "collapsed": false
   },
   "outputs": [
    {
     "name": "stdout",
     "output_type": "stream",
     "text": [
      "precK 0.00690124858116\n",
      "1-call5 0.027695800227014757\n",
      "MRR 0.030906862455593657\n",
      "AUC 0.806544835437\n",
      "NGDC 0.0059649372233\n",
      "MAP 0.0101226510279\n"
     ]
    }
   ],
   "source": [
    "all_measures(train, test, cf)"
   ]
  },
  {
   "cell_type": "code",
   "execution_count": 139,
   "metadata": {
    "collapsed": false
   },
   "outputs": [
    {
     "name": "stdout",
     "output_type": "stream",
     "text": [
      "precK 0.00989784335982\n",
      "1-call5 0.038138479001135074\n",
      "MRR 0.03823556637728849\n",
      "AUC 0.805579474585\n",
      "NGDC 0.0104280871446\n",
      "MAP 0.0212220961029\n"
     ]
    }
   ],
   "source": [
    "all_measures(train, test, cf)"
   ]
  },
  {
   "cell_type": "markdown",
   "metadata": {},
   "source": [
    "## Проведение такого же эксперимента, как у создатей CLiMF"
   ]
  },
  {
   "cell_type": "code",
   "execution_count": null,
   "metadata": {
    "collapsed": false
   },
   "outputs": [],
   "source": [
    "def climf_experiment(data, list_cf, list_measure, K, maxiter, top=None):\n",
    "    res = np.zeros((len(list_measure), len(list_cf)))\n",
    "    for t in range(maxiter):\n",
    "        start_time = time.time()\n",
    "        train, test, traintest = givenK_train_test(epinion, K)\n",
    "        print('create test and train', time.time() - start_time)\n",
    "        for i, cf in enumerate(list_cf):\n",
    "            start_time = time.time()\n",
    "            cf.fit(train)\n",
    "            print('fit method', time.time() - start_time)\n",
    "            for j, measure in enumerate(list_measure):\n",
    "                start_time = time.time()\n",
    "                res[j, i] += measure(train, test, cf, top=top)\n",
    "                print('get measure', time.time() - start_time)\n",
    "            print(t, i, res[:, i] / (t + 1))\n",
    "            sys.stdout.flush()\n",
    "    res /= K\n",
    "    return res"
   ]
  },
  {
   "cell_type": "code",
   "execution_count": null,
   "metadata": {
    "collapsed": false
   },
   "outputs": [],
   "source": [
    "climf_experiment(epinion, list_cf, list_measure, 5, 1, None)"
   ]
  },
  {
   "cell_type": "code",
   "execution_count": null,
   "metadata": {
    "collapsed": false
   },
   "outputs": [],
   "source": [
    "list_cf = [\n",
    "    rankingmethod.PopRec(user_item),\n",
    "    rankingmethod.CLiMF(user_item, K=10, reg=0.001, lrate=0.01, verbose=0, maxiter=10),\n",
    "    rankingmethod.BPR_MF(user_item, K = 20, lrate=0.001, regIpos=0.1, \n",
    "                              regIneg=0.1, regU=0.1, maxiter=30, verbose=0 ),\n",
    "    rankingmethod.iMF(user_item, K=10, lmbd=0.01, alpha=40, maxiter=30, verbose=0)\n",
    "    \n",
    "]\n",
    "\n",
    "list_measure = [\n",
    "    rankingmeasure.get_prec_K,\n",
    "    rankingmeasure.get_one_recal_K,\n",
    "    rankingmeasure.get_MRR,\n",
    "    rankingmeasure.get_AUC,\n",
    "    rankingmeasure.get_NDCG,\n",
    "    rankingmeasure.get_MAP\n",
    "]"
   ]
  },
  {
   "cell_type": "code",
   "execution_count": null,
   "metadata": {
    "collapsed": false
   },
   "outputs": [],
   "source": [
    "res5 = climf_experiment(epinion, list_cf, list_measure, 5, 5, None)"
   ]
  },
  {
   "cell_type": "code",
   "execution_count": null,
   "metadata": {
    "collapsed": false
   },
   "outputs": [],
   "source": [
    "for i in range(5, 21, 5):\n",
    "    res = climf_experiment(epinion, list_cf, list_measure, i, 5, None)\n",
    "    with open('climf_res' + str(i) +'.pickle', 'wb') as f:\n",
    "        pickle.dump(res, f)\n",
    "    res = climf_experiment(epinion, list_cf, list_measure, i, 5, top)\n",
    "    with open('climf_res_top' + str(i) + '.pickle', 'wb') as f:\n",
    "        pickle.dump(res, f)"
   ]
  },
  {
   "cell_type": "code",
   "execution_count": null,
   "metadata": {
    "collapsed": false
   },
   "outputs": [],
   "source": [
    "def show_smart_table(data):\n",
    "    name_measure = ['precK', '1-recalK', 'MRR', 'AUC', 'NDCG']\n",
    "    ans = pd.DataFrame()\n",
    "    ans['measures'] = name_measure\n",
    "    ans['PopRec'] = data[:, 0]\n",
    "    ans['CLiMF'] = data[:, 1]\n",
    "    ans['BRP_MP'] = data[:, 2]\n",
    "    ans['iMF'] = data[:, 3]\n",
    "    print(ans)"
   ]
  },
  {
   "cell_type": "code",
   "execution_count": null,
   "metadata": {
    "collapsed": false,
    "scrolled": true
   },
   "outputs": [],
   "source": [
    "for i in range(5, 21, 5):\n",
    "    with open('climf_res' + str(i) +'.pickle', 'rb') as f:\n",
    "        tbl = pickle.load(f)\n",
    "    print('---------')\n",
    "    print('K =', i)\n",
    "    show_smart_table(tbl)\n",
    "    with open('climf_res_top' + str(i) + '.pickle', 'rb') as f:\n",
    "        tbl = pickle.load(f)\n",
    "    print('---------')\n",
    "    print('K =', i, 'without top')\n",
    "    show_smart_table(tbl)"
   ]
  },
  {
   "cell_type": "code",
   "execution_count": null,
   "metadata": {
    "collapsed": false
   },
   "outputs": [],
   "source": [
    "show_smart_table(res5)"
   ]
  },
  {
   "cell_type": "markdown",
   "metadata": {},
   "source": [
    "# старые эксперименты"
   ]
  },
  {
   "cell_type": "code",
   "execution_count": null,
   "metadata": {
    "collapsed": false
   },
   "outputs": [],
   "source": [
    "a = np.arange(10)\n",
    "b = a[1:4]\n",
    "print(a)\n",
    "print(b)\n",
    "b[2] = 100\n",
    "a[1] = -a[1]\n",
    "print(a)\n",
    "print(b)"
   ]
  },
  {
   "cell_type": "code",
   "execution_count": null,
   "metadata": {
    "collapsed": false
   },
   "outputs": [],
   "source": [
    "tmp = mmread(\"../datasets/epinions_original/EP25_UPL5_test.mtx\")\n",
    "test = np.array(list(zip(tmp.row, tmp.col)))\n",
    "tmp = mmread(\"../datasets/epinions_original/EP25_UPL5_train.mtx\")\n",
    "train = np.array(list(zip(tmp.row, tmp.col)))\n",
    "user_item = [max(np.max(test[:,0]), np.max(train[:, 0])) + 1, max(np.max(test[:,1]), np.max(train[:,1])) + 1]"
   ]
  },
  {
   "cell_type": "code",
   "execution_count": null,
   "metadata": {
    "collapsed": false
   },
   "outputs": [],
   "source": [
    "train = create_listarray(train)\n",
    "test  = create_listarray(test)"
   ]
  },
  {
   "cell_type": "code",
   "execution_count": null,
   "metadata": {
    "collapsed": true
   },
   "outputs": [],
   "source": [
    "create_csr(train, user_item, '../pyCLiMF-master/good_train.pickle')\n",
    "create_csr(test, user_item, '../pyCLiMF-master/good_test.pickle')"
   ]
  },
  {
   "cell_type": "code",
   "execution_count": null,
   "metadata": {
    "collapsed": false
   },
   "outputs": [],
   "source": [
    "randomrec = rankingmethod.RandomRec(user_item)\n",
    "randomrec.fit(train)\n",
    "all_measures(train, test, randomrec, False)"
   ]
  },
  {
   "cell_type": "code",
   "execution_count": null,
   "metadata": {
    "collapsed": false
   },
   "outputs": [],
   "source": [
    "poprec = rankingmethod.PopRec(user_item)\n",
    "poprec.fit(train)\n",
    "top = poprec.get_list(0)[:3]\n",
    "# all_measures(train, test, poprec, True, top)\n",
    "# all_measures(train, test, poprec, True)"
   ]
  },
  {
   "cell_type": "code",
   "execution_count": null,
   "metadata": {
    "collapsed": false
   },
   "outputs": [],
   "source": [
    "rankingmeasure.get_AUC(train, test, poprec, True, K=user_item[1])"
   ]
  },
  {
   "cell_type": "code",
   "execution_count": null,
   "metadata": {
    "collapsed": false
   },
   "outputs": [],
   "source": [
    "rankingmeasure.get_NDCG(train, test, poprec, True, K = 5)"
   ]
  },
  {
   "cell_type": "code",
   "execution_count": null,
   "metadata": {
    "collapsed": false
   },
   "outputs": [],
   "source": [
    "rankingmeasure.get_NDCG(train, test, poprec, True, K = 3)"
   ]
  },
  {
   "cell_type": "code",
   "execution_count": null,
   "metadata": {
    "collapsed": false
   },
   "outputs": [],
   "source": [
    "index_user = np.random.choice(len(train), 100, replace=False)\n"
   ]
  },
  {
   "cell_type": "code",
   "execution_count": null,
   "metadata": {
    "collapsed": false
   },
   "outputs": [],
   "source": [
    "orig_train = create_original_sample(train, index_user)\n",
    "orig_test = create_original_sample(test, index_user)"
   ]
  },
  {
   "cell_type": "code",
   "execution_count": null,
   "metadata": {
    "collapsed": false
   },
   "outputs": [],
   "source": [
    "climf = rankingmethod.CLiMF(user_item, lrate = 0.0001, reg=0.001, maxiter=15, verbose=2)\n",
    "climf.fit(train)"
   ]
  },
  {
   "cell_type": "code",
   "execution_count": null,
   "metadata": {
    "collapsed": false
   },
   "outputs": [],
   "source": [
    "rankingmeasure.get_MRR(train, test, climf, True)"
   ]
  },
  {
   "cell_type": "code",
   "execution_count": null,
   "metadata": {
    "collapsed": false
   },
   "outputs": [],
   "source": [
    "all_measures(train, test, climf, True, top)"
   ]
  },
  {
   "cell_type": "code",
   "execution_count": null,
   "metadata": {
    "collapsed": false
   },
   "outputs": [],
   "source": [
    "all_measures(train, test, climf, True)"
   ]
  },
  {
   "cell_type": "code",
   "execution_count": null,
   "metadata": {
    "collapsed": false
   },
   "outputs": [],
   "source": [
    "climf = rankingmethod.CLiMF(user_item, maxiter=40, lrate = 0.1, verbose=2)\n",
    "climf.fit(train)\n"
   ]
  },
  {
   "cell_type": "code",
   "execution_count": null,
   "metadata": {
    "collapsed": false
   },
   "outputs": [],
   "source": [
    "all_measures(train, test, climf, False)"
   ]
  },
  {
   "cell_type": "code",
   "execution_count": null,
   "metadata": {
    "collapsed": false
   },
   "outputs": [],
   "source": [
    "all_measures(train, test, climf, True, top)"
   ]
  },
  {
   "cell_type": "code",
   "execution_count": null,
   "metadata": {
    "collapsed": false
   },
   "outputs": [],
   "source": [
    "list_reg = [0.001, 0.002, 0.005, 0.0005]\n",
    "list_lrate = [0.05, 0.07, 0.1, 0.12, 0.15 ]\n",
    "list_K = [10, 12, 15, 7, 5]\n",
    "times_count = 3\n",
    "\n",
    "for K, lrate, reg in itertools.product(list_K, list_lrate, list_reg):\n",
    "    MRR = 0\n",
    "    \n",
    "    for t in range(times_count):\n",
    "        climf = rankingmethod.CLiMF(user_item,K=K, reg=reg, lrate=lrate, verbose=0, maxiter=50)\n",
    "        climf.fit(train)\n",
    "        MRR += rankingmeasure.get_MRR(train, test, climf, skip_train=False)\n",
    "    print(\"K\", K, \"lrate\", lrate, \"reg\", reg, \"MRR\", MRR/times_count)\n",
    "    sys.stdout.flush()"
   ]
  },
  {
   "cell_type": "code",
   "execution_count": null,
   "metadata": {
    "collapsed": false
   },
   "outputs": [],
   "source": [
    "bpr_mf = rankingmethod.BPR_MF(user_item, K = 20, lrate=0.001, regIpos=0.1, \n",
    "                              regIneg=0.1, regU=0.1, maxiter=30, verbose=2 )"
   ]
  },
  {
   "cell_type": "code",
   "execution_count": null,
   "metadata": {
    "collapsed": false
   },
   "outputs": [],
   "source": [
    "bpr_mf.fit(train)"
   ]
  },
  {
   "cell_type": "code",
   "execution_count": null,
   "metadata": {
    "collapsed": false
   },
   "outputs": [],
   "source": [
    "all_measures(train, test, bpr_mf, True)"
   ]
  },
  {
   "cell_type": "code",
   "execution_count": null,
   "metadata": {
    "collapsed": false
   },
   "outputs": [],
   "source": [
    "rankingmeasure.get_AUC(train, test, bpr_mf, True, K=user_item[1])"
   ]
  },
  {
   "cell_type": "code",
   "execution_count": null,
   "metadata": {
    "collapsed": false
   },
   "outputs": [],
   "source": [
    "rankingmeasure.get_NDCG(train, test, bpr_mf, True, K=5)"
   ]
  },
  {
   "cell_type": "code",
   "execution_count": null,
   "metadata": {
    "collapsed": true
   },
   "outputs": [],
   "source": [
    "imf = rankingmethod.iMF(user_item, K=20, lmbd=0.01, alpha=40, maxiter=30, verbose=2)"
   ]
  },
  {
   "cell_type": "code",
   "execution_count": null,
   "metadata": {
    "collapsed": false
   },
   "outputs": [],
   "source": [
    "imf.fit(train)"
   ]
  },
  {
   "cell_type": "code",
   "execution_count": null,
   "metadata": {
    "collapsed": false
   },
   "outputs": [],
   "source": [
    "all_measures(train, test, imf, True)"
   ]
  },
  {
   "cell_type": "code",
   "execution_count": null,
   "metadata": {
    "collapsed": false
   },
   "outputs": [],
   "source": [
    "all_measures(train, test, imf, True, top)"
   ]
  },
  {
   "cell_type": "code",
   "execution_count": null,
   "metadata": {
    "collapsed": false
   },
   "outputs": [],
   "source": [
    "all_measures(train, test, bpr_mf, True, top)"
   ]
  },
  {
   "cell_type": "code",
   "execution_count": null,
   "metadata": {
    "collapsed": false
   },
   "outputs": [],
   "source": [
    "all_measures(train, test, poprec, True)"
   ]
  },
  {
   "cell_type": "code",
   "execution_count": null,
   "metadata": {
    "collapsed": false
   },
   "outputs": [],
   "source": [
    "all_measures(train, test, poprec, True, top)"
   ]
  },
  {
   "cell_type": "code",
   "execution_count": null,
   "metadata": {
    "collapsed": false
   },
   "outputs": [],
   "source": [
    "from sklearn.metrics import roc_auc_score"
   ]
  },
  {
   "cell_type": "code",
   "execution_count": null,
   "metadata": {
    "collapsed": false
   },
   "outputs": [],
   "source": [
    "a = np.array([False,False, True, True])\n",
    "b = np.array([0,2,1,3])\n",
    "print(roc_auc_score(a, b, average=None))"
   ]
  },
  {
   "cell_type": "code",
   "execution_count": null,
   "metadata": {
    "collapsed": false
   },
   "outputs": [],
   "source": [
    "(a == True).any()"
   ]
  },
  {
   "cell_type": "code",
   "execution_count": null,
   "metadata": {
    "collapsed": false
   },
   "outputs": [],
   "source": [
    "import random"
   ]
  },
  {
   "cell_type": "code",
   "execution_count": null,
   "metadata": {
    "collapsed": false
   },
   "outputs": [],
   "source": [
    "random.sample(range(10), 3)"
   ]
  }
 ],
 "metadata": {
  "kernelspec": {
   "display_name": "Python 3",
   "language": "python",
   "name": "python3"
  },
  "language_info": {
   "codemirror_mode": {
    "name": "ipython",
    "version": 3
   },
   "file_extension": ".py",
   "mimetype": "text/x-python",
   "name": "python",
   "nbconvert_exporter": "python",
   "pygments_lexer": "ipython3",
   "version": "3.4.3"
  }
 },
 "nbformat": 4,
 "nbformat_minor": 0
}
